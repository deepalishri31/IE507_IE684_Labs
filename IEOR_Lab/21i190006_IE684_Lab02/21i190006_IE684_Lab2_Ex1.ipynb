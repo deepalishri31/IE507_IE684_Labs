{
  "nbformat": 4,
  "nbformat_minor": 0,
  "metadata": {
    "colab": {
      "name": "21i190006_IE684_Lab2_Ex1.ipynb",
      "provenance": [],
      "collapsed_sections": []
    },
    "kernelspec": {
      "name": "python3",
      "display_name": "Python 3"
    }
  },
  "cells": [
    {
      "cell_type": "markdown",
      "metadata": {
        "id": "nVE0Xoa0Q5wE"
      },
      "source": [
        "$\\Large\\textbf{Lab 2. Exercise 1. }$\n",
        "\n"
      ]
    },
    {
      "cell_type": "markdown",
      "metadata": {
        "id": "YVkab74DJsRL"
      },
      "source": [
        "Recall that we implemented the gradient descent algorithm to solve $\\min_{\\mathbf{x} \\in {\\mathbb{R}}^n} f(\\mathbf{x})$. The main ingredients in the gradient descent iterations are the descent direction $\\mathbf{p}^k$ which is set to $-\\nabla f(\\mathbf{x}^k)$, and the step length $\\eta^k$ which is found by solving an optimization problem (or sometimes taken as a constant value over all iterations). We used the following procedure in the previous lab:\n",
        "\n",
        "\\begin{align}\n",
        "& \\textbf{Input:} \\text{ Starting point $x^0$, Stopping tolerance $\\tau$}  \\\\\n",
        "& \\textbf{Initialize } k=0 \\\\ \n",
        "& \\mathbf{p}^k =-\\nabla f(\\mathbf{x}^k) \\\\ \n",
        "&\\textbf{While } \\| \\mathbf{p}^k \\|_2 > \\tau \\text{ do:}  \\\\   \n",
        "&\\quad \\quad \\eta^k = \\arg\\min_{\\eta\\geq 0} f(\\mathbf{x}^k + \\eta  \\mathbf{p}^k) = \\arg\\min_{\\eta\\geq 0} f(\\mathbf{x}^k - \\eta  \\nabla f(\\mathbf{x}^k)) \\\\\n",
        "&\\quad \\quad \\mathbf{x}^{k+1} = \\mathbf{x}^k + \\eta^k \\mathbf{p}^k = \\mathbf{x}^k - \\eta^k \\nabla f (\\mathbf{x}^k)  \\\\ \n",
        "&\\quad \\quad k = {k+1} \\\\ \n",
        "&\\textbf{End While} \\\\\n",
        "&\\textbf{Output: } \\mathbf{x}^k\n",
        "\\end{align}"
      ]
    },
    {
      "cell_type": "markdown",
      "metadata": {
        "id": "g7ivDCuJRP9b"
      },
      "source": [
        "We saw that for particular cases of quadratic functions, a closed form analytical solution for the minimizer of the optimization problem $\\min_{\\eta \\geq 0} f({\\mathbf{x}}^k + \\eta {\\mathbf{p}}^k)$ exists. However finding a closed form expression as a solution to this optimization problem to find a suitable step length might not always be possible. To tackle general situations, we will try to devise a different procedure in this lab. \n",
        "\n",
        "To find the step length, we will use the following property: \n",
        "Suppose a non-zero $\\mathbf{p} \\in {\\mathbb{R}}^n$ is a descent direction at point $\\mathbf{x}$, and let $\\gamma \\in (0,1)$. Then there exists $\\varepsilon >0$ such that  \n",
        "\\begin{align}\n",
        "f(\\mathbf{x}+\\alpha \\mathbf{p}) \\leq f(\\mathbf{x}) + \\gamma \\alpha \\nabla f(\\mathbf{x})^\\top \\mathbf{p}, \\ \\forall \\alpha \\in (0,\\varepsilon].  \n",
        "\\end{align}\n",
        "\n",
        "The step length $\\eta^k$ can be found using a backtracking procedure illustrated below to find appropriate value of $\\varepsilon$.  \n",
        "\n"
      ]
    },
    {
      "cell_type": "markdown",
      "metadata": {
        "id": "WV6OddaNAmpA"
      },
      "source": [
        "\n",
        "\\begin{align}\n",
        "& \\textbf{Input:}  \\text{ $\\mathbf{x}^k$, $\\mathbf{p}^k$, $\\alpha^0$, $\\rho \\in (0,1)$, $\\gamma \\in (0,1)$ }  \\\\\n",
        "& \\textbf{Initialize } \\alpha=\\alpha^0 \\\\ \n",
        "&\\textbf{While } f(\\mathbf{x}^k + \\alpha \\mathbf{p}^k)   > f(\\mathbf{x}^k) + \\gamma \\alpha \\nabla f(\\mathbf{x}^k)^\\top \\mathbf{p}^k \\text{ do:}  \\\\   \n",
        "&\\quad \\quad \\alpha = \\rho \\alpha  \\\\\n",
        "&\\textbf{End While} \\\\\n",
        "&\\textbf{Output: } \\alpha\n",
        "\\end{align}"
      ]
    },
    {
      "cell_type": "markdown",
      "metadata": {
        "id": "iW-xcDISWmGR"
      },
      "source": [
        "In this exercise, we will check if finding the steplength using the backtracking procedure is advantageous for some quadratic functions. In this sample code we consider $f(\\mathbf{x})=f(x_1,x_2) = (x_1-8)^2 + (x_2 + 12)^2$."
      ]
    },
    {
      "cell_type": "code",
      "metadata": {
        "id": "KJq7tIgIRroP"
      },
      "source": [
        "#numpy package will be used for most of our lab exercises. Please have a look at Please have a look at https://numpy.org/doc/stable/ for numpy documentation\n",
        "#we will first import the numpy package and name it as np\n",
        "import numpy as np \n",
        "#Henceforth, we can lazily use np to denote the much longer numpy !! "
      ],
      "execution_count": 1,
      "outputs": []
    },
    {
      "cell_type": "code",
      "metadata": {
        "id": "GZjX2IwOR8_X"
      },
      "source": [
        "#Now we will define a function which will compute and return the function value \n",
        "def evalf(x):  \n",
        "  #Input: x is a numpy array of size 2 \n",
        "  assert type(x) is np.ndarray and len(x) == 2 #do not allow arbitrary arguments \n",
        "  #after checking if the argument is valid, we can compute the objective function value\n",
        "  #compute the function value and return it \n",
        "  return (x[1]+12)**2 + (-8+x[0])**2\n"
      ],
      "execution_count": 2,
      "outputs": []
    },
    {
      "cell_type": "code",
      "metadata": {
        "id": "6klpwtDra_I8"
      },
      "source": [
        "#Now we will define a function which will compute and return the gradient value as a numpy array \n",
        "def evalg(x):  \n",
        "  #Input: x is a numpy array of size 2 \n",
        "  assert type(x) is np.ndarray and len(x) == 2 #do not allow arbitrary arguments \n",
        "  #after checking if the argument is valid, we can compute the gradient value\n",
        "  #compute the gradient value and return it \n",
        "  return np.array([2*(x[0]-8), 2*(x[1]+12)])"
      ],
      "execution_count": 3,
      "outputs": []
    },
    {
      "cell_type": "code",
      "metadata": {
        "id": "f3blM08V0HOl"
      },
      "source": [
        "#Complete the module to compute the steplength by using the closed-form expression\n",
        "def compute_steplength_exact(gradf, A): #add appropriate arguments to the function \n",
        "  assert type(gradf) is np.ndarray and len(gradf) == 2 \n",
        "  assert type(A) is np.ndarray and A.shape[0] == 2 and  A.shape[1] == 2 #allow only a 2x2 array\n",
        "   \n",
        "  #Complete the code to compute step length\n",
        "  step_length = np.dot(gradf,gradf)/np.dot(gradf,np.matmul(2*A,gradf))\n",
        "\n",
        "  \n",
        "  return step_length"
      ],
      "execution_count": 4,
      "outputs": []
    },
    {
      "cell_type": "code",
      "metadata": {
        "id": "PGunDYy6Q21S"
      },
      "source": [
        "#Complete the module to compute the steplength by using the backtracking line search\n",
        "def compute_steplength_backtracking(x, gradf, alpha_start, rho, gamma): #add appropriate arguments to the function \n",
        "  assert type(x) is np.ndarray and len(gradf) == 2 \n",
        "  assert type(gradf) is np.ndarray and len(gradf) == 2 \n",
        "  \n",
        "  alpha = alpha_start\n",
        "  p=-evalg(x)\n",
        "  #implement the backtracking line search\n",
        "  while evalf(x+alpha*p)>evalf(x)+gamma*alpha*np.dot(evalg(x),p):\n",
        "    alpha = rho*alpha\n",
        "\n",
        "  #print('final step length:',alpha)\n",
        "  return alpha"
      ],
      "execution_count": 16,
      "outputs": []
    },
    {
      "cell_type": "code",
      "metadata": {
        "id": "WaUUdzLtVSCl"
      },
      "source": [
        "#we define the types of line search methods that we have implemented\n",
        "EXACT_LINE_SEARCH = 1\n",
        "BACKTRACKING_LINE_SEARCH = 2\n",
        "CONSTANT_STEP_LENGTH = 3"
      ],
      "execution_count": 17,
      "outputs": []
    },
    {
      "cell_type": "code",
      "metadata": {
        "id": "3SCJdqivdpxx"
      },
      "source": [
        "def find_minimizer(start_x, tol, line_search_type, *args):\n",
        "  #Input: start_x is a numpy array of size 2, tol denotes the tolerance and is a positive float value\n",
        "  assert type(start_x) is np.ndarray and len(start_x) == 2 #do not allow arbitrary arguments \n",
        "  assert type(tol) is float and tol>=0 \n",
        "  # construct a suitable A matrix for the quadratic function \n",
        "  A = np.array([[1, 0],[0,1]])\n",
        "  x = start_x\n",
        "  g_x = evalg(x)\n",
        "\n",
        "  #initialization for backtracking line search\n",
        "  if(line_search_type == BACKTRACKING_LINE_SEARCH):\n",
        "    alpha_start = args[0]\n",
        "    rho = args[1]\n",
        "    gamma = args[2]\n",
        "    #print('Params for Backtracking LS: alpha start:', alpha_start, 'rho:', rho,' gamma:', gamma)\n",
        "\n",
        "  k = 0\n",
        "  #print('iter:',k, ' x:', x, ' f(x):', evalf(x), ' grad at x:', g_x, ' gradient norm:', np.linalg.norm(g_x))\n",
        "\n",
        "  while (np.linalg.norm(g_x) > tol): #continue as long as the norm of gradient is not close to zero upto a tolerance tol\n",
        "  \n",
        "    if line_search_type == EXACT_LINE_SEARCH:\n",
        "      step_length = compute_steplength_exact(g_x, A) #call the new function you wrote to compute the steplength\n",
        "      #raise ValueError('EXACT LINE SEARCH NOT YET IMPLEMENTED')\n",
        "    elif line_search_type == BACKTRACKING_LINE_SEARCH:\n",
        "      step_length = compute_steplength_backtracking(x,g_x, alpha_start,rho, gamma) #call the new function you wrote to compute the steplength\n",
        "      #raise ValueError('BACKTRACKING LINE SEARCH NOT YET IMPLEMENTED')\n",
        "    elif line_search_type == CONSTANT_STEP_LENGTH: #do a gradient descent with constant step length\n",
        "      step_length = 0.1\n",
        "    else:  \n",
        "      raise ValueError('Line search type unknown. Please check!')\n",
        "    \n",
        "    #implement the gradient descent steps here   \n",
        "    x = np.subtract(x, np.multiply(step_length,g_x)) #update x = x - step_length*g_x\n",
        "    k += 1 #increment iteration\n",
        "    g_x = evalg(x) #compute gradient at new point\n",
        "\n",
        "    #print('iter:',k, ' x:', x, ' f(x):', evalf(x), ' grad at x:', g_x, ' gradient norm:', np.linalg.norm(g_x))\n",
        "  return x , k , evalf(x) \n"
      ],
      "execution_count": 18,
      "outputs": []
    },
    {
      "cell_type": "markdown",
      "source": [
        "Ques 3."
      ],
      "metadata": {
        "id": "EsfDcvrqI5qm"
      }
    },
    {
      "cell_type": "code",
      "metadata": {
        "id": "n-kHCkbwe-M4",
        "colab": {
          "base_uri": "https://localhost:8080/"
        },
        "outputId": "eb317b81-8918-40f0-b853-34218cf85835"
      },
      "source": [
        "\n",
        "my_start_x = np.array([1,1])\n",
        "my_tol= 1e-5\n",
        "\n",
        "\n",
        "x_opt , k , minimum = find_minimizer(my_start_x, my_tol, CONSTANT_STEP_LENGTH)\n",
        "print(\"Final minimizer for constant step length is :\",x_opt)\n",
        "print(\"Number of iterations are :\",k)\n",
        "print(\"Minimum function value is :\",minimum)\n"
      ],
      "execution_count": 19,
      "outputs": [
        {
          "output_type": "stream",
          "name": "stdout",
          "text": [
            "Final minimizer for constant step length is : [  7.99999775 -11.99999582]\n",
            "Number of iterations are : 67\n",
            "Minimum function value is : 2.2517218946096954e-11\n"
          ]
        }
      ]
    },
    {
      "cell_type": "code",
      "metadata": {
        "id": "GcsCIAntMNdb",
        "colab": {
          "base_uri": "https://localhost:8080/"
        },
        "outputId": "6984f246-e126-4d5a-e2de-6849735ac47b"
      },
      "source": [
        "#check what happens when you call find_minimzer using backtracking line search\n",
        "x_opt_bls , k , minimum = find_minimizer(my_start_x, my_tol, BACKTRACKING_LINE_SEARCH, 1, 0.5,0.5)\n",
        "print(\"Final minimizer for backtracking line search is :\",x_opt_bls)\n",
        "print(\"Number of iterations are :\",k)\n",
        "print(\"Minimum function value is :\",minimum)\n"
      ],
      "execution_count": 22,
      "outputs": [
        {
          "output_type": "stream",
          "name": "stdout",
          "text": [
            "Final minimizer for backtracking line search is : [  8. -12.]\n",
            "Number of iterations are : 1\n",
            "Minimum function value is : 0.0\n"
          ]
        }
      ]
    },
    {
      "cell_type": "markdown",
      "source": [
        "Ques 4."
      ],
      "metadata": {
        "id": "jd4eAPltJLul"
      }
    },
    {
      "cell_type": "code",
      "source": [
        "tolerance = 10**(-12)\n",
        "start_x  = np.array([25,25])\n",
        "x_opt , k , minimum = find_minimizer(start_x, tolerance, EXACT_LINE_SEARCH)\n",
        "print(\"Number of iterations using exact line search :\",k)"
      ],
      "metadata": {
        "colab": {
          "base_uri": "https://localhost:8080/"
        },
        "id": "ovAoGEafIfdb",
        "outputId": "3bf45dc9-bcad-45ff-da77-3468c535a2a3"
      },
      "execution_count": 25,
      "outputs": [
        {
          "output_type": "stream",
          "name": "stdout",
          "text": [
            "Number of iterations using exact line search : 1\n"
          ]
        }
      ]
    },
    {
      "cell_type": "code",
      "source": [
        "x_opt_bls , k , minimum = find_minimizer(start_x, tolerance, BACKTRACKING_LINE_SEARCH, 1, 0.5,0.5)\n",
        "print(\"Number of iterations using backtracking line search :\",k)\n"
      ],
      "metadata": {
        "colab": {
          "base_uri": "https://localhost:8080/"
        },
        "id": "dyv3ZtciJ3vM",
        "outputId": "d8c072b6-8629-4511-b531-3db10c3addf3"
      },
      "execution_count": 27,
      "outputs": [
        {
          "output_type": "stream",
          "name": "stdout",
          "text": [
            "Number of iterations using backtracking line search : 1\n"
          ]
        }
      ]
    },
    {
      "cell_type": "markdown",
      "source": [
        "Observation :\n",
        "We get the same number of iterations i.e., = 1 using both the methods."
      ],
      "metadata": {
        "id": "PHUL4sMsKfDY"
      }
    },
    {
      "cell_type": "markdown",
      "source": [
        "Ques 5."
      ],
      "metadata": {
        "id": "EewTlSccLBEh"
      }
    },
    {
      "cell_type": "code",
      "source": [
        "alpha_values = [1,0.9,0.75,0.6,0.5,0.4,0.25,0.1,0.01]\n",
        "tolerance = 10**(-10)\n",
        "gamma = 0.5\n",
        "rho = 0.5\n",
        "final_minimizer = []\n",
        "final_value = []\n",
        "iterations_bls = []"
      ],
      "metadata": {
        "id": "4nN17LlxKO4r"
      },
      "execution_count": 29,
      "outputs": []
    },
    {
      "cell_type": "code",
      "source": [
        "for alpha in alpha_values:\n",
        "  minimizer , iteration , minimum = find_minimizer(start_x, tolerance, BACKTRACKING_LINE_SEARCH, alpha, 0.5,0.5)\n",
        "  final_minimizer.append(minimizer)\n",
        "  final_value.append(minimum)\n",
        "  iterations_bls.append(iteration)"
      ],
      "metadata": {
        "id": "VSq4a5FDLtZO"
      },
      "execution_count": 30,
      "outputs": []
    },
    {
      "cell_type": "code",
      "source": [
        "print(\"Final minimizer values \",final_minimizer )\n",
        "print(\"Final Function values\",final_value)\n",
        "print(\"Number of iterations :\",iterations_bls)"
      ],
      "metadata": {
        "colab": {
          "base_uri": "https://localhost:8080/"
        },
        "id": "EY1mkpzwQF7t",
        "outputId": "fdb11998-aa45-41de-89e0-c6dd5c7abed0"
      },
      "execution_count": 37,
      "outputs": [
        {
          "output_type": "stream",
          "name": "stdout",
          "text": [
            "Final minimizer values  [array([  8., -12.]), array([  8., -12.]), array([  8., -12.]), array([  8., -12.]), array([  8., -12.]), array([  8., -12.]), array([  8., -12.]), array([  8., -12.]), array([  8., -12.])]\n",
            "Final Function values [0.0, 1.6579714975258972e-21, 1.3714654556129199e-21, 2.2038291998576117e-21, 0.0, 1.1393259623274523e-22, 1.3714654556129199e-21, 2.3972320602008796e-21, 2.4523367712209537e-21]\n",
            "Number of iterations : [1, 12, 20, 30, 1, 18, 40, 123, 1358]\n"
          ]
        }
      ]
    },
    {
      "cell_type": "code",
      "source": [
        "#plotting\n",
        "import matplotlib.pyplot as plt\n",
        "plt.plot(alpha_values,iterations_bls)\n",
        "plt.xlabel(\"Alpha Values\")\n",
        "plt.ylabel(\"Number of iterarions using bls\")\n",
        "plt.show()"
      ],
      "metadata": {
        "colab": {
          "base_uri": "https://localhost:8080/",
          "height": 300
        },
        "id": "TDgDZxAvNX-R",
        "outputId": "9b3df7b7-6f18-4e38-bcf4-f7165592c576"
      },
      "execution_count": 33,
      "outputs": [
        {
          "output_type": "display_data",
          "data": {
            "image/png": "[encoded data removed]",
            "text/plain": [
              "<Figure size 432x288 with 1 Axes>"
            ]
          },
          "metadata": {
            "needs_background": "light"
          }
        }
      ]
    },
    {
      "cell_type": "code",
      "source": [
        "iterations_exact=[]\n",
        "for alpha in alpha_values:\n",
        "    minimizer , iteration , minimum = find_minimizer(start_x, tolerance, EXACT_LINE_SEARCH, alpha, 0.5,0.5)\n",
        "    iterations_exact.append(iteration)\n",
        "iterations_exact    "
      ],
      "metadata": {
        "colab": {
          "base_uri": "https://localhost:8080/"
        },
        "id": "SuUzQ8CeOAk7",
        "outputId": "5383d30e-a4b0-42f4-f508-c68992394dc8"
      },
      "execution_count": 39,
      "outputs": [
        {
          "output_type": "execute_result",
          "data": {
            "text/plain": [
              "[1, 1, 1, 1, 1, 1, 1, 1, 1]"
            ]
          },
          "metadata": {},
          "execution_count": 39
        }
      ]
    },
    {
      "cell_type": "markdown",
      "source": [
        "Observation: \\\\\n",
        "We don't have any value of alpha for which the backtracking linesearch method take lesser number of iterations than the exact line search method."
      ],
      "metadata": {
        "id": "ZnXS2RtQQqqY"
      }
    },
    {
      "cell_type": "markdown",
      "source": [
        "Ques 6."
      ],
      "metadata": {
        "id": "fMP56Cc1Tzhj"
      }
    },
    {
      "cell_type": "code",
      "source": [
        "rho_values = [0.9,0.75,0.6,0.5,0.4,0.25,0.1,0.01]\n",
        "alpha = 1\n",
        "gamma = 0.5\n",
        "final_minimizer = []\n",
        "final_value = []\n",
        "iterations_bls = []\n",
        "for rho in rho_values:\n",
        "  minimizer , iteration , minimum = find_minimizer(start_x, tolerance, BACKTRACKING_LINE_SEARCH, alpha,rho,gamma)\n",
        "  final_minimizer.append(minimizer)\n",
        "  final_value.append(minimum)\n",
        "  iterations_bls.append(iteration)"
      ],
      "metadata": {
        "id": "dkkXjRM_TzKW"
      },
      "execution_count": 40,
      "outputs": []
    },
    {
      "cell_type": "code",
      "source": [
        "#plotting\n",
        "plt.plot(rho_values,iterations_bls)\n",
        "plt.xlabel(\"Rho Values\")\n",
        "plt.ylabel(\"Number of iterarions using bls\")\n",
        "plt.show()"
      ],
      "metadata": {
        "colab": {
          "base_uri": "https://localhost:8080/",
          "height": 300
        },
        "id": "YT9_mn44Ptc2",
        "outputId": "58607099-7a43-4605-d20b-cf838b6b65d5"
      },
      "execution_count": 41,
      "outputs": [
        {
          "output_type": "display_data",
          "data": {
            "image/png": "[encoded data removed]",
            "text/plain": [
              "<Figure size 432x288 with 1 Axes>"
            ]
          },
          "metadata": {
            "needs_background": "light"
          }
        }
      ]
    },
    {
      "cell_type": "markdown",
      "source": [
        "Observation : \\\\\n",
        "As we decrease the value of rho from 0.9 to almost 0.1 , number of iterations don't increase that rapidly but on decreasing the rho from 0.1 onwards there is a rapid increment in number of iterations "
      ],
      "metadata": {
        "id": "0NGjRXG4VU8s"
      }
    },
    {
      "cell_type": "code",
      "source": [
        "print(\"Final minimizer values \",final_minimizer )\n",
        "print(\"Final Function values\",final_value)\n",
        "print(\"Number of iterations :\",iterations_bls)"
      ],
      "metadata": {
        "colab": {
          "base_uri": "https://localhost:8080/"
        },
        "id": "lSF2cGhkVOT-",
        "outputId": "8ad8b892-3477-4790-f2a9-5fb0baa9dfc9"
      },
      "execution_count": 42,
      "outputs": [
        {
          "output_type": "stream",
          "name": "stdout",
          "text": [
            "Final minimizer values  [array([  8., -12.]), array([  8., -12.]), array([  8., -12.]), array([  8., -12.]), array([  8., -12.]), array([  8., -12.]), array([  8., -12.]), array([  8., -12.])]\n",
            "Final Function values [4.960536411900771e-22, 1.0819468296335504e-21, 7.844395544174143e-22, 0.0, 1.1393259623274523e-22, 1.3714654556129199e-21, 2.3972320602008796e-21, 2.4523367712209537e-21]\n",
            "Number of iterations : [9, 15, 22, 1, 18, 40, 123, 1358]\n"
          ]
        }
      ]
    },
    {
      "cell_type": "markdown",
      "source": [
        "Observation : \\\\\n",
        "We don't see any major change in the final function value and final minimizer w.r.t. change in rho values."
      ],
      "metadata": {
        "id": "1JTvqYXZWgIY"
      }
    },
    {
      "cell_type": "code",
      "source": [
        "iterations_exact=[]\n",
        "for rho in rho_values:\n",
        "    minimizer , iteration , minimum = find_minimizer(start_x, tolerance, EXACT_LINE_SEARCH, alpha,rho,gamma)\n",
        "    iterations_exact.append(iteration)\n",
        "iterations_exact   "
      ],
      "metadata": {
        "colab": {
          "base_uri": "https://localhost:8080/"
        },
        "id": "9JOib3AGV964",
        "outputId": "a6b73dee-bad4-4339-f667-70ce5b37bb68"
      },
      "execution_count": 43,
      "outputs": [
        {
          "output_type": "execute_result",
          "data": {
            "text/plain": [
              "[1, 1, 1, 1, 1, 1, 1, 1]"
            ]
          },
          "metadata": {},
          "execution_count": 43
        }
      ]
    },
    {
      "cell_type": "markdown",
      "source": [
        "Observation: \\\\\n",
        "We don't have any value of rho for which the backtracking linesearch method take lesser number of iterations than the exact line search method"
      ],
      "metadata": {
        "id": "gCVB6s3MXF11"
      }
    }
  ]
}