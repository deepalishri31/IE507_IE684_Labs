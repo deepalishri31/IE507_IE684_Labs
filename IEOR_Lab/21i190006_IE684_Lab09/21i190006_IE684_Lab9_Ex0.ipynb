{
  "nbformat": 4,
  "nbformat_minor": 0,
  "metadata": {
    "colab": {
      "name": "21i190006_IE684_Lab9_Ex0.ipynb",
      "provenance": []
    },
    "kernelspec": {
      "name": "python3",
      "display_name": "Python 3"
    },
    "language_info": {
      "name": "python"
    }
  },
  "cells": [
    {
      "cell_type": "code",
      "execution_count": 8,
      "metadata": {
        "colab": {
          "base_uri": "https://localhost:8080/"
        },
        "id": "uuYI2Zzs_O1d",
        "outputId": "16138128-db98-4e31-c89a-fcebbe5fe8bc"
      },
      "outputs": [
        {
          "output_type": "stream",
          "name": "stdout",
          "text": [
            "(178, 13)\n",
            "(178,)\n",
            "3\n"
          ]
        }
      ],
      "source": [
        "import numpy as np\n",
        "#we will load the wine data from scikit-learn package\n",
        "from sklearn.datasets import load_wine\n",
        "wine = load_wine()\n",
        "#check the shape of wine data\n",
        "print(wine.data.shape)\n",
        "A = wine.data\n",
        "#Normalize columns of A so that all entries are in the range [-1,+1] \n",
        "for i in range(A.shape[1]):\n",
        "    A[:,i] = -1+(((A[:,i]-min(A[:,i]))*2)/(max(A[:,i])-min(A[:,i]))) # USing the formula for custom range normalization\n",
        "#check the shape of wine target\n",
        "print(wine.target.shape)\n",
        "#How many labels does wine data have?\n",
        "num_of_classes = len(np.unique(wine.target))\n",
        "C=num_of_classes\n",
        "print(C)\n",
        "n = wine.data.shape[0] #Number of data points\n",
        "d = wine.data.shape[1] #Dimension of data points"
      ]
    },
    {
      "cell_type": "code",
      "source": [
        "#In the following code, we create a nx1 vector of target labels\n",
        "y = 1.0*np.ones([A.shape[0],1])\n",
        "for i in range(wine.target.shape[0]):\n",
        "  if wine.target[i]!=1:\n",
        "    y[i] = -1 # Convert class labels that are not 1 into -1\n",
        "#Create an index array\n",
        "indexarr = np.arange(n) #index array\n",
        "np.random.shuffle(indexarr) #shuffle the indices\n",
        "print(indexarr) #check indexarr after shuffling"
      ],
      "metadata": {
        "colab": {
          "base_uri": "https://localhost:8080/"
        },
        "id": "EGashHek_QUK",
        "outputId": "4a033669-a66c-4893-ce25-3d3da83ed2d5"
      },
      "execution_count": 9,
      "outputs": [
        {
          "output_type": "stream",
          "name": "stdout",
          "text": [
            "[ 77   3  96  46 166  34 171  17 167 135  51  26  56 121 149  33 100 132\n",
            "  75  52  60  41 134 130 138  36 124 146 145  53 172  27 105  42 113 163\n",
            "  40 119  79  91  85 117 157  70  19   1 161  32 150 115  35  15 173  20\n",
            " 104  99  30  73 165  71 120  87 137 101  95  59 122 127  86 154  25 136\n",
            " 169 112 159  62 156  45  90 108  83  69 175 151 158   2 106  55  76  14\n",
            "  10  63   0  98 103 111  31  57 143 110 131   7  28  23 123  16 109  68\n",
            "  12  65  29 139 170 168  93  66  78   5 140 102 125  80 114  89 107 141\n",
            " 155  18 162  47  11 176 147  13  49  81  64 177 126  44 142  67 160 144\n",
            "   6 164  61 118   8  82  88 153 133  54  72  58  37 129  21  50  43 116\n",
            "   9  38  94  84 128  97  22   4 148  48  24 174  74  92  39 152]\n"
          ]
        }
      ]
    },
    {
      "cell_type": "code",
      "source": [
        "train_data = []\n",
        "train_label = []\n",
        "test_data = []\n",
        "test_label = []\n",
        "count = 1\n",
        "for i in indexarr:\n",
        "  if count <= int(0.8*n):\n",
        "    train_data.append(list(A[i]))\n",
        "    train_label.append(list(y[i]))\n",
        "  else:\n",
        "    test_data.append(list(A[i]))\n",
        "    test_label.append(list(y[i]))\n",
        "  count = count + 1\n",
        "train_data = np.array(train_data)\n",
        "train_label = np.array(train_label)\n",
        "test_data = np.array(test_data)\n",
        "test_label = np.array(test_label)"
      ],
      "metadata": {
        "id": "3aeACPf-Cnk9"
      },
      "execution_count": 10,
      "outputs": []
    },
    {
      "cell_type": "code",
      "source": [
        "def predict(w,x):\n",
        "  h = np.matmul(w.T, x)\n",
        "  if h > 0:\n",
        "    return 1\n",
        "  elif  h < 0:\n",
        "    return -1"
      ],
      "metadata": {
        "id": "xWiJcmNW_ipP"
      },
      "execution_count": 11,
      "outputs": []
    },
    {
      "cell_type": "code",
      "source": [
        "def compute_accuracy(data,labels,model_w):\n",
        "  c = 0\n",
        "  n = len(data[0])\n",
        "  for i in range(n):\n",
        "    if predict(model_w, np.reshape(data[i], (np.shape(data)[1],1))) == labels[i]:\n",
        "      c = c + 1\n",
        "  return c/n "
      ],
      "metadata": {
        "id": "1o7WXrKE_jie"
      },
      "execution_count": 12,
      "outputs": []
    },
    {
      "cell_type": "code",
      "source": [
        ""
      ],
      "metadata": {
        "id": "pAklWHGeDebo"
      },
      "execution_count": 12,
      "outputs": []
    }
  ]
}