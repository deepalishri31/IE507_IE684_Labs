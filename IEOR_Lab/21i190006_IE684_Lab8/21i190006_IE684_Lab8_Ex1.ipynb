{
  "nbformat": 4,
  "nbformat_minor": 0,
  "metadata": {
    "colab": {
      "name": "21i190006_IE684_Lab8_Ex1.ipynb",
      "provenance": [],
      "collapsed_sections": []
    },
    "kernelspec": {
      "display_name": "Python 3",
      "language": "python",
      "name": "python3"
    },
    "language_info": {
      "codemirror_mode": {
        "name": "ipython",
        "version": 3
      },
      "file_extension": ".py",
      "mimetype": "text/x-python",
      "name": "python",
      "nbconvert_exporter": "python",
      "pygments_lexer": "ipython3",
      "version": "3.8.3"
    }
  },
  "cells": [
    {
      "cell_type": "markdown",
      "metadata": {
        "id": "JnEpYLektDDx"
      },
      "source": [
        "Here, we will consider a different problem, namely the binary (or two-class) classification problem\n",
        "in machine learning. The problem is of the following form. For a data set \n",
        "$D$ = { ${(x_i,y_i)}$:$i=1,2,...,n$}, we solve:\n",
        "\n",
        "\\begin{align}\n",
        "\\underset{w \\in R^d}{\\text{min}} f(w) = \\frac{1}{2}\\lambda||w||_2^2 + \\frac{1}{n} \\sum_{i = 1}^{n}L(y_i, w^\\top x_i) \n",
        "\\end{align}\n",
        "Let $z = y_iw^Tx_i$  \\\\\n",
        "\n",
        "$L_h(z) = \\text{max}\\{0,1 - z\\}$  (hinge)\n",
        "\n",
        "$L_l(z) = \\text{log}(1 + exp(-z))$  (logistic)\n",
        "\n",
        "$L_{sh}(z) = (\\text{max}\\{0,1 - z\\})^2$  (squared hinge)\n"
      ]
    },
    {
      "cell_type": "code",
      "metadata": {
        "id": "TNK3MBnGnk4P"
      },
      "source": [
        "import math\n",
        "import numpy as np\n",
        "import matplotlib.pyplot as plt"
      ],
      "execution_count": 6,
      "outputs": []
    },
    {
      "cell_type": "code",
      "metadata": {
        "colab": {
          "base_uri": "https://localhost:8080/",
          "height": 483
        },
        "id": "GpS53myYG_8l",
        "outputId": "b3cdfa91-02dc-4d6a-a82d-a9cd7100a540"
      },
      "source": [
        "plt.figure(figsize=(9,7))\n",
        "z_values = np.linspace(-5, 5, 1000)\n",
        "G_h = [max(0, 1-z) for z in z_values]\n",
        "G_l = [math.log(1 + math.exp(-z)) for z in z_values]\n",
        "G_sh = [(max(0, 1-z))**2 for z in z_values]\n",
        "\n",
        "plt.plot(z_values, G_h ,label=r'$ $')\n",
        "plt.plot(z_values, G_l,label= r'$ $')\n",
        "plt.plot(z_values, G_sh,label= r'$ $')\n",
        "plt.grid()\n",
        "\n",
        "plt.title('Graph of loss functions Vs z values\\n',fontsize=15)\n",
        "plt.xlabel(r'z',fontsize=15)\n",
        "plt.ylabel(r'L(z) (loss function)',fontsize=15)\n",
        "plt.legend([\"$G_h(z)$\", \"$G_l(z)$\", \"$G_{sh}(z)$\"],fontsize=14)\n",
        "plt.show()"
      ],
      "execution_count": 7,
      "outputs": [
        {
          "output_type": "display_data",
          "data": {
            "image/png": "[encoded data removed]",
            "text/plain": [
              "<Figure size 648x504 with 1 Axes>"
            ]
          },
          "metadata": {
            "needs_background": "light"
          }
        }
      ]
    },
    {
      "cell_type": "code",
      "metadata": {
        "colab": {
          "base_uri": "https://localhost:8080/"
        },
        "id": "Ydy9EDkqIAJd",
        "outputId": "6042d996-3a68-4b76-8e90-35f4762c0f74"
      },
      "source": [
        "import numpy as np\n",
        "from sklearn.datasets import load_iris\n",
        "iris = load_iris()\n",
        "print(iris.data.shape)\n",
        "A = iris.data\n",
        "\n",
        "#check the shape of iris target\n",
        "print(iris.target.shape)\n",
        "print(iris.target)\n",
        "\n",
        "n = iris.data.shape[0] #Number of data points\n",
        "d = iris.data.shape[1] #Dimension of data points\n",
        "\n",
        "y = 1.0*np.ones([A.shape[0],1])"
      ],
      "execution_count": 8,
      "outputs": [
        {
          "output_type": "stream",
          "name": "stdout",
          "text": [
            "(150, 4)\n",
            "(150,)\n",
            "[0 0 0 0 0 0 0 0 0 0 0 0 0 0 0 0 0 0 0 0 0 0 0 0 0 0 0 0 0 0 0 0 0 0 0 0 0\n",
            " 0 0 0 0 0 0 0 0 0 0 0 0 0 1 1 1 1 1 1 1 1 1 1 1 1 1 1 1 1 1 1 1 1 1 1 1 1\n",
            " 1 1 1 1 1 1 1 1 1 1 1 1 1 1 1 1 1 1 1 1 1 1 1 1 1 1 2 2 2 2 2 2 2 2 2 2 2\n",
            " 2 2 2 2 2 2 2 2 2 2 2 2 2 2 2 2 2 2 2 2 2 2 2 2 2 2 2 2 2 2 2 2 2 2 2 2 2\n",
            " 2 2]\n"
          ]
        }
      ]
    },
    {
      "cell_type": "markdown",
      "metadata": {
        "id": "5PHmcViUIgEl"
      },
      "source": [
        "$\\textbf{Ans(a).}$  Now we have see that  number of classes C = 3 and the class label values in iris data are 0, 1, 2. Therefore the class labels are from the set {$0$, $1$, . . . , $C − 1$}."
      ]
    },
    {
      "cell_type": "markdown",
      "metadata": {
        "id": "lqHHKr3EIpeb"
      },
      "source": [
        "$\\textbf{Ans(b) and (c)}$ "
      ]
    },
    {
      "cell_type": "code",
      "metadata": {
        "id": "yvtxtgikXV7e"
      },
      "source": [
        "for i in range(iris.target.shape[0]):\n",
        "  if iris.target[i] != 1:\n",
        "    y[i] = -1\n",
        "\n",
        "#Create an index array\n",
        "indexarr = np.arange(n) #index array\n",
        "np.random.shuffle(indexarr) #shuffle the indices\n",
        "\n",
        "train_data = []\n",
        "train_label = []\n",
        "test_data = []\n",
        "test_label = []\n",
        "count = 1\n",
        "for i in indexarr:\n",
        "  if count <= int(0.8*n):\n",
        "    train_data.append(list(A[i]))\n",
        "    train_label.append(list(y[i]))\n",
        "  else:\n",
        "    test_data.append(list(A[i]))\n",
        "    test_label.append(list(y[i]))\n",
        "  count = count + 1\n",
        "train_data = np.array(train_data)\n",
        "train_label = np.array(train_label)\n",
        "test_data = np.array(test_data)\n",
        "test_label = np.array(test_label)"
      ],
      "execution_count": 9,
      "outputs": []
    },
    {
      "cell_type": "markdown",
      "metadata": {
        "id": "vQGyTJMHESax"
      },
      "source": [
        "$\\textbf{Ans(d).}$ The prediction rule in eqn. (2). Use the\n",
        "following code template:"
      ]
    },
    {
      "cell_type": "code",
      "metadata": {
        "id": "zVNdB_6EzUs9"
      },
      "source": [
        "def predict(w,x):\n",
        "  h = np.matmul(w.T, x)\n",
        "  if h > 0:\n",
        "    return 1\n",
        "  elif  h < 0:\n",
        "    return -1"
      ],
      "execution_count": 10,
      "outputs": []
    },
    {
      "cell_type": "markdown",
      "metadata": {
        "id": "Tjr2LZzREwcs"
      },
      "source": [
        "$\\textbf{Ans(e).}$The accuracy on the data. (Use the predict function)."
      ]
    },
    {
      "cell_type": "code",
      "metadata": {
        "id": "rTJQlNoL0CG7"
      },
      "source": [
        "def compute_accuracy(data,labels,model_w):\n",
        "  c = 0\n",
        "  n = len(data[0])\n",
        "  for i in range(n):\n",
        "    if predict(model_w, np.reshape(data[i], (np.shape(data)[1],1))) == labels[i]:\n",
        "      c = c + 1\n",
        "  return c/n "
      ],
      "execution_count": 11,
      "outputs": []
    }
  ]
}