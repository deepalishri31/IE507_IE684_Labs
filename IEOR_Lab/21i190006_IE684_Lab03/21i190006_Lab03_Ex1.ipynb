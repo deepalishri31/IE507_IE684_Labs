{
  "nbformat": 4,
  "nbformat_minor": 0,
  "metadata": {
    "colab": {
      "name": "21i190006_Lab03_Ex1.ipynb",
      "provenance": [],
      "collapsed_sections": []
    },
    "kernelspec": {
      "name": "python3",
      "display_name": "Python 3"
    }
  },
  "cells": [
    {
      "cell_type": "markdown",
      "metadata": {
        "id": "nVE0Xoa0Q5wE"
      },
      "source": [
        "$\\Large\\textbf{Lab 3.}$ $\\large\\textbf{Exercise 1.}$\n",
        "\n"
      ]
    },
    {
      "cell_type": "markdown",
      "metadata": {
        "id": "YVkab74DJsRL"
      },
      "source": [
        "In the last lab, when we tried to solve certain problems of the form $\\min_{\\mathbf{x} \\in {\\mathbb{R}}^n} f(\\mathbf{x})$ using gradient descent algorithm, we noticed that the algorithm needed a large number of iterations to find the minimizer. Today we will discuss some remedy measures for this issue.  "
      ]
    },
    {
      "cell_type": "markdown",
      "metadata": {
        "id": "b-Meohokl4xP"
      },
      "source": [
        "Consider the problem $\\min_{\\mathbf{x}} f(\\mathbf{x}) = 1500x_1^2 + 4x_1 x_2 +  x_2^2$. "
      ]
    },
    {
      "cell_type": "markdown",
      "metadata": {
        "id": "ZvWjvAgnXxS3"
      },
      "source": [
        "Note that the function $f(\\mathbf{x})$ is twice continuously differentiable. First let us investigate the Hessian $\\nabla^2 f(\\mathbf{x})$ of the function. \n",
        "\n",
        "Note that the Hessian $\\nabla^2 f(\\mathbf{x})$ of the function $f(\\mathbf{x})$ is positive definite. \n",
        "\n",
        "Due to the positive definite nature of the Hessian, we shall find the condition number of the Hessian given by $\\kappa\\left (\\nabla^2 f(\\mathbf{x}) \\right ) = \\frac{\\lambda_{\\max} \\left (\\nabla^2 f(\\mathbf{x}) \\right )}{\\lambda_{\\min} \\left (\\nabla^2 f(\\mathbf{x}) \\right )}$, where $\\lambda_{\\max}(\\mathbf{A})$ denotes the maximum eigen value of matrix $\\mathbf{A}$ and $\\lambda_{\\min}(\\mathbf{A})$ denotes the minimum eigen value of matrix $\\mathbf{A}$.  \n",
        "\n",
        "\n"
      ]
    },
    {
      "cell_type": "markdown",
      "metadata": {
        "id": "fLfdgrmxANif"
      },
      "source": [
        "Ques 2:\n",
        "\n",
        " Write code to find the Hessian matrix of the function $f(\\mathbf{x}) = 1500x_1^2 + 4x_1 x_2 +  x_2^2$ and its condition number. "
      ]
    },
    {
      "cell_type": "code",
      "metadata": {
        "id": "72qwiJ0CDtOX"
      },
      "source": [
        "import numpy as np \n",
        "\n",
        "#method to find Hessian matrix: Complete the code\n",
        "def evalh(x): \n",
        "  assert type(x) is np.ndarray \n",
        "  assert len(x) == 2\n",
        "  H = [[3000,4],[4,2]]\n",
        "  return H\n",
        "\n",
        "\n",
        "#method to find the condition number of any square matrix: : Complete the code\n",
        "def find_condition_number(A):\n",
        "  assert type(A) is np.ndarray\n",
        "  assert A.shape[0] == A.shape[1]\n",
        "  ev,evs = np.linalg.eig(A)\n",
        "  return max(ev)/min(ev)"
      ],
      "execution_count": null,
      "outputs": []
    },
    {
      "cell_type": "markdown",
      "metadata": {
        "id": "g7ivDCuJRP9b"
      },
      "source": [
        "The condition number of the Hessian plays a major role in the progress of the iterates of gradient descent towards the optimal solution point. Typically a large value of the condition number indicates that the problem is $\\textbf{ill-conditioned}$ and hence leads to slow progress of the iterates towards the optimal solution point. Now we shall discuss a method which would help in better $\\textbf{conditioning}$ of the problem and hence would help in speeding up the progress of the iterates towards the optimal solution point. \n",
        "\n",
        "Let us first illustrate an equivalent transformation of the problem $\\min_{\\mathbf{x} \\in {\\mathbb{R}}^n} f(\\mathbf{x})$. Consider the transformation $\\mathbf{x}=\\mathbf{My}$ where $\\mathbf{M}\\in {\\mathbb{R}}^{n \\times n}$ is an invertible matrix and $\\mathbf{y} \\in {\\mathbb{R}}^n$ and consider the equivalent problem $\\min_{\\mathbf{y} \\in {\\mathbb{R}}^n} g(\\mathbf{y}) \\equiv \\min_{\\mathbf{y} \\in {\\mathbb{R}}^n} f(\\mathbf{My})$. \n",
        "\n",
        "$\\textbf{Check:}$ Why are the two problems $\\min_{\\mathbf{x} \\in {\\mathbb{R}}^n} f(\\mathbf{x})$ and $\\min_{\\mathbf{y} \\in {\\mathbb{R}}^n} g(\\mathbf{y})$  equivalent? \n",
        "\n",
        "Note that the gradient $\\nabla_{\\mathbf{y}} g(\\mathbf{y}) = \\mathbf{M}^\\top \\nabla_{\\mathbf{x}} f(\\mathbf{x})$ and the Hessian is $\\nabla^2_{\\mathbf{y}} g(\\mathbf{y}) = \\mathbf{M}^\\top \\nabla^2_{\\mathbf{x}} f(\\mathbf{x}) \\mathbf{M}$. \n",
        "\n",
        "Hence the gradient descent update to solve $\\min_{\\mathbf{y} \\in {\\mathbb{R}}^n} g(\\mathbf{y})$ becomes: \n",
        "\n",
        "\n",
        "\\begin{align}\n",
        "{\\mathbf{y}}^{k+1} &= {\\mathbf{y}}^{k} - \\eta \\nabla_{\\mathbf{y}} g({\\mathbf{y}}^{k}) \\\\\n",
        "\\end{align}\n",
        "\n",
        "Pre-multiplying by $\\mathbf{M}$, we have:\n",
        "\\begin{align}\n",
        "{\\mathbf{M}\\mathbf{y}}^{k+1} &= {\\mathbf{M}\\mathbf{y}}^{k} -  \\eta \\mathbf{M} \\nabla_{\\mathbf{y}} g({\\mathbf{y}}^{k})  \\\\\n",
        "\\implies \\mathbf{x}^{k+1} &= \\mathbf{x}^{k} - \\eta \\mathbf{MM}^\\top \\nabla_{\\mathbf{x}} f({\\mathbf{x}}^{k}) \n",
        "\\end{align}\n",
        "\n",
        "\n",
        "Letting $\\mathbf{D} = \\mathbf{MM}^\\top$, we see that the update is of the form:\n",
        "\\begin{align}\n",
        "\\mathbf{x}^{k+1} &= \\mathbf{x}^{k} - \\eta \\mathbf{D} \\nabla f({\\mathbf{x}}^{k}) \n",
        "\\end{align}\n",
        "\n",
        "Note that the matrix $\\mathbf{D}$ is symmetric and positive definite and hence can be written as $\\mathbf{D} = \\mathbf{B}^2$, where $\\mathbf{B}$ is also symmetric and positive definite. Denoting $\\mathbf{B}= \\mathbf{D}^{\\frac{1}{2}}$, we see that a useful choice for the matrix $\\mathbf{M}$ is $\\mathbf{M} = \\mathbf{B} = \\mathbf{D}^{\\frac{1}{2}}$. \n",
        "\n",
        "The matrix $\\mathbf{D}$ is called a $\\textbf{scaling}$ matrix and helps in scaling the Hessian. We will consider $\\mathbf{D}$ to be a diagonal matrix. Thus it would be useful to find a suitable candidate of the scaling matrix at each iteration which could help in significant progress of the iterates towards the optimal solution. \n",
        "\n",
        "\n"
      ]
    },
    {
      "cell_type": "markdown",
      "metadata": {
        "id": "ZgHGXcTYNXuw"
      },
      "source": [
        "This discussion leads to the following algorithm:\n",
        "\\begin{align}\n",
        "& \\textbf{Input:} \\text{ Starting point $x^0$, Stopping tolerance $\\tau$}  \\\\\n",
        "& \\textbf{Initialize } k=0 \\\\ \n",
        "& \\mathbf{p}^k =-\\nabla f(\\mathbf{x}^k) \\\\ \n",
        "&\\textbf{While } \\| \\mathbf{p}^k \\|_2 > \\tau \\text{ do:}  \\\\   \n",
        "&\\quad \\quad \\text{ Choose a suitable scaling matrix }\\mathbf{D}^k. \\\\ \n",
        "&\\quad \\quad \\eta^k = \\arg\\min_{\\eta\\geq 0} f(\\mathbf{x}^k + \\eta  \\mathbf{D}^k \\mathbf{p}^k) = \\arg\\min_{\\eta\\geq 0} f(\\mathbf{x}^k - \\eta  \\mathbf{D}^k \\nabla f(\\mathbf{x}^k)) \\\\\n",
        "&\\quad \\quad \\mathbf{x}^{k+1} = \\mathbf{x}^k + \\eta^k \\mathbf{D}^k \\mathbf{p}^k = \\mathbf{x}^k - \\eta^k  \\mathbf{D}^k \\nabla f(\\mathbf{x}^k)  \\\\ \n",
        "&\\quad \\quad k = {k+1} \\\\ \n",
        "&\\textbf{End While} \\\\\n",
        "&\\textbf{Output: } \\mathbf{x}^k\n",
        "\\end{align}"
      ]
    },
    {
      "cell_type": "markdown",
      "metadata": {
        "id": "3XvbzQ5LeJ_N"
      },
      "source": [
        "Note that the update step in the modified gradient descent scheme uses a scaled gradient. Thus it becomes important to set up some criteria for choosing the $\\mathbf{D}^k$ matrix in every iteration. In this exercise, we will assume $\\mathbf{D}^k$ to be a diagonal matrix. The following questions will help in designing a suitable $\\mathbf{D}^k$."
      ]
    },
    {
      "cell_type": "markdown",
      "metadata": {
        "id": "kC5h9vGOfLcr"
      },
      "source": [
        "#Ques 4:\n",
        " Based on our discussion on condition number and the derivation of the gradient descent scheme with scaling, can you identify and write down the matrix $\\mathbf{Q}$ whose condition number needs to be analyzed in the new gradient scheme with scaling? "
      ]
    },
    {
      "cell_type": "markdown",
      "source": [
        "Condition number of matrix $\\mathbf{Q}$ needs to be analyzed in new gradient scheme with scaling  with $\\mathbf{D}^k$ \\\\\n",
        "\n",
        "$\\mathbf{Q}$  = $(\\mathbf{D}^k)^{\\frac{1}{2}} \\mathbf{H}^k (\\mathbf{D}^k)^{\\frac{1}{2}}$\n",
        "\n",
        "Where, $\\mathbf{H}^k = (\\nabla^2f(\\mathbf{x})) $ is the hessian of a function at each iteration.\n",
        "\n",
        "$\\mathbf{D}^k$ is shown in the question 5 below.\n",
        "\n",
        "Condition Number of matrix $\\mathbf{Q}$ in the Gradient Descent Scheme has reduced to nearly $1$ due to such choice of matrix $\\mathbf{Q}$ so that our gradient descent  algorithm with scaling becomes more accurate and fast."
      ],
      "metadata": {
        "id": "6mE4Muf7EkoB"
      }
    },
    {
      "cell_type": "markdown",
      "metadata": {
        "id": "qrbWd2XigB2N"
      },
      "source": [
        "#Ques 5:\n",
        " Based on the matrix $\\mathbf{Q}$, can you come up with a useful choice for $\\mathbf{D}^k$ (assuming $\\mathbf{D}^k$ to be diagonal)? \\\\\n",
        "#Answer: \n",
        "Diagonal approximation to the Hessian matrix $\\nabla^2f( \\mathbf{x})$, i.e., the diagonal matrix $\\mathbf{D}^k$ that has the inverse second partial derivatives $\\Big(\\frac{\\partial^2f(\\mathbf{x_k})}{(\\partial x_i)^2}\\Big)^{-1}$ along the diagonal. This improves the performance of the gradient method dramatically, by providing automatic scaling of the units in which the components $x_i$ of $\\mathbf{x}$ are measured. Because of such choice of $\\mathbf{D}^k$, the condition number of $\\mathbf{Q}$ is improving and becoming so close to $1$ so that our gradient descent scheme is converging so quickly. Here, product with inverse of diagonal elements of hessian matrix with hessian matrix is causing the improvements in $\\mathbf{Q}$ by becoming so close to condition number of identity matrix. This is so helpful in fasterness of the algorithm.\n",
        "\n",
        "$\\therefore \\mathbf{D^k} =\n",
        "\\begin{bmatrix}\n",
        "  \\frac{1}{2000} & 0 \\\\ 0 & \\frac{1}{2}\n",
        "\\end{bmatrix}$"
      ]
    },
    {
      "cell_type": "markdown",
      "metadata": {
        "id": "YDNH0zgxgaPR"
      },
      "source": [
        "Write code to find the matrix $\\mathbf{D}^k$. "
      ]
    },
    {
      "cell_type": "code",
      "metadata": {
        "id": "KJq7tIgIRroP"
      },
      "source": [
        "#The method defines a way to construct D_k matrix used in scaling the gradient in the modified gradient descent scheme\n",
        "def compute_D_k(x):\n",
        "  assert type(x) is np.ndarray\n",
        "  assert len(x) == 2\n",
        "  #compute and return D_k\n",
        "  return np.array([[1/3000,0],[0,1/2]])\n",
        "  "
      ],
      "execution_count": null,
      "outputs": []
    },
    {
      "cell_type": "code",
      "metadata": {
        "id": "GZjX2IwOR8_X"
      },
      "source": [
        "#Now we will define a Python function which will compute and return the objective function value \n",
        "def evalf(x):  \n",
        "  #Input: x is a numpy array of size 2 \n",
        "  assert type(x) is np.ndarray and len(x) == 2 #do not allow arbitrary arguments \n",
        "  #after checking if the argument is valid, we can compute the objective function value\n",
        "  #compute the function value and return it \n",
        "  return 1500*x[0]**2 + 4*x[0]*x[1] + x[1]**2"
      ],
      "execution_count": null,
      "outputs": []
    },
    {
      "cell_type": "code",
      "metadata": {
        "id": "6klpwtDra_I8"
      },
      "source": [
        "#Now we will define a Python function which will compute and return the gradient value as a numpy array \n",
        "def evalg(x):  \n",
        "  #Input: x is a numpy array of size 2 \n",
        "  assert type(x) is np.ndarray and len(x) == 2 #do not allow arbitrary arguments \n",
        "  #after checking if the argument is valid, we can compute the gradient value\n",
        "  #compute the gradient value and return it \n",
        "  return np.array([(3000*x[0]+4*x[1]),(4*x[0]+2*x[1])])\n",
        "  "
      ],
      "execution_count": null,
      "outputs": []
    },
    {
      "cell_type": "code",
      "metadata": {
        "id": "f3blM08V0HOl"
      },
      "source": [
        "#Complete the module to compute the steplength by using the closed-form expression\n",
        "def compute_steplength_exact(gradf, A): #add appropriate arguments to the function \n",
        "  assert type(gradf) is np.ndarray and len(gradf) == 2 \n",
        "  assert type(A) is np.ndarray and A.shape[0] == 2 and  A.shape[1] == 2 #allow only a 2x2 array\n",
        "  step_length = np.dot(gradf,gradf)/np.dot(gradf,np.matmul(2*A,gradf))\n",
        "  return step_length\n",
        "  "
      ],
      "execution_count": null,
      "outputs": []
    },
    {
      "cell_type": "code",
      "metadata": {
        "id": "PGunDYy6Q21S"
      },
      "source": [
        "#Complete the module to compute the steplength by using the closed-form expression\n",
        "def compute_steplength_backtracking(x, gradf, alpha_start, rho, gamma): #add appropriate arguments to the function \n",
        "  assert type(x) is np.ndarray and len(gradf) == 2 \n",
        "  assert type(gradf) is np.ndarray and len(gradf) == 2 \n",
        "  assert type(alpha_start) is float and alpha_start>=0. \n",
        "  assert type(rho) is float and rho>=0.\n",
        "  assert type(gamma) is float and gamma>=0. \n",
        "  alpha = alpha_start\n",
        "  p=-evalg(x)\n",
        "  #implement the backtracking line search\n",
        "  while evalf(x+alpha*p)>evalf(x)+gamma*alpha*np.dot(evalg(x),p):\n",
        "    alpha = rho*alpha\n",
        "\n",
        "  #print('final step length:',alpha)\n",
        "  return alpha\n",
        "  \n",
        "  "
      ],
      "execution_count": null,
      "outputs": []
    },
    {
      "cell_type": "code",
      "metadata": {
        "id": "wqjdHM3eaHYf"
      },
      "source": [
        "def compute_steplength_backtracking_scaled_direction(x, gradf, direction, alpha_start, rho, gamma): #add appropriate arguments to the function \n",
        "  assert type(x) is np.ndarray and len(gradf) == 2 \n",
        "  assert type(gradf) is np.ndarray and len(gradf) == 2 \n",
        "  assert type(direction) is np.ndarray and len(direction) == 2 \n",
        "  assert type(alpha_start) is float and alpha_start>=0. \n",
        "  assert type(rho) is float and rho>=0.\n",
        "  assert type(gamma) is float and gamma>=0.\n",
        "  p=-gradf\n",
        "  alpha=alpha_start\n",
        "  D_k=compute_D_k(x)\n",
        "  \n",
        "  while evalf(x+alpha*np.matmul(D_k,p))>evalf(x)+gamma*alpha*np.matmul(np.matrix.transpose(gradf),np.matmul(D_k,p)):\n",
        "    alpha = rho*alpha\n",
        "\n",
        "  #print('final step length:',alpha)\n",
        "  return alpha"
      ],
      "execution_count": null,
      "outputs": []
    },
    {
      "cell_type": "code",
      "metadata": {
        "id": "GvLRu5s635ph"
      },
      "source": [
        "#line search type \n",
        "EXACT_LINE_SEARCH = 1\n",
        "BACKTRACKING_LINE_SEARCH = 2\n",
        "CONSTANT_STEP_LENGTH = 3"
      ],
      "execution_count": null,
      "outputs": []
    },
    {
      "cell_type": "code",
      "metadata": {
        "id": "kdYW5nldqZU-"
      },
      "source": [
        "#complete the code for gradient descent to find the minimizer\n",
        "def find_minimizer_gd(start_x, tol, line_search_type,*args):\n",
        "  #Input: start_x is a numpy array of size 2, tol denotes the tolerance and is a positive float value\n",
        "  assert type(start_x) is np.ndarray and len(start_x) == 2 #do not allow arbitrary arguments \n",
        "  assert type(tol) is float and tol>=0 \n",
        "  A = np.array([[1500, 2],[2,1]])\n",
        "  x = start_x\n",
        "  g_x = evalg(x)\n",
        "\n",
        "  #initialization for backtracking line search\n",
        "  if(line_search_type == BACKTRACKING_LINE_SEARCH):\n",
        "    alpha_start = args[0]\n",
        "    rho = args[1]\n",
        "    gamma = args[2]\n",
        "    #print('Params for Backtracking LS: alpha start:', alpha_start, 'rho:', rho,' gamma:', gamma)\n",
        "\n",
        "  k = 0\n",
        "  #print('iter:',k, ' x:', x, ' f(x):', evalf(x), ' grad at x:', g_x, ' gradient norm:', np.linalg.norm(g_x))\n",
        "\n",
        "  while (np.linalg.norm(g_x) > tol): #continue as long as the norm of gradient is not close to zero upto a tolerance tol\n",
        "  \n",
        "    if line_search_type == EXACT_LINE_SEARCH:\n",
        "      step_length = compute_steplength_exact(g_x, A) #call the new function you wrote to compute the steplength\n",
        "      #raise ValueError('EXACT LINE SEARCH NOT YET IMPLEMENTED')\n",
        "    elif line_search_type == BACKTRACKING_LINE_SEARCH:\n",
        "      step_length = compute_steplength_backtracking(x,g_x, alpha_start,rho, gamma) #call the new function you wrote to compute the steplength\n",
        "      #raise ValueError('BACKTRACKING LINE SEARCH NOT YET IMPLEMENTED')\n",
        "    elif line_search_type == CONSTANT_STEP_LENGTH: #do a gradient descent with constant step length\n",
        "      step_length = 0.1\n",
        "    else:  \n",
        "      raise ValueError('Line search type unknown. Please check!')\n",
        "    \n",
        "    #implement the gradient descent steps here   \n",
        "    x = np.subtract(x, np.multiply(step_length,g_x)) #update x = x - step_length*g_x\n",
        "    k += 1 #increment iteration\n",
        "    g_x = evalg(x) #compute gradient at new point\n",
        "\n",
        "    #print('iter:',k, ' x:', x, ' f(x):', evalf(x), ' grad at x:', g_x, ' gradient norm:', np.linalg.norm(g_x))\n",
        "  return x , k , evalf(x) \n"
      ],
      "execution_count": null,
      "outputs": []
    },
    {
      "cell_type": "code",
      "metadata": {
        "id": "3SCJdqivdpxx"
      },
      "source": [
        "#complete the code for gradient descent with scaling to find the minimizer\n",
        "\n",
        "def find_minimizer_gdscaling(start_x, tol, line_search_type,*args):\n",
        "  #Input: start_x is a numpy array of size 2, tol denotes the tolerance and is a positive float value\n",
        "  assert type(start_x) is np.ndarray and len(start_x) == 2 #do not allow arbitrary arguments \n",
        "  assert type(tol) is float and tol>=0 \n",
        "  A = np.array([[1500, 2],[2,1]])\n",
        "  x = start_x\n",
        "  g_x = evalg(x)\n",
        "  D_k=compute_D_k(x)\n",
        "\n",
        "\n",
        "  #initialization for backtracking line search\n",
        "  if(line_search_type == BACKTRACKING_LINE_SEARCH):\n",
        "    alpha_start = args[0]\n",
        "    rho = args[1]\n",
        "    gamma = args[2]\n",
        "    #print('Params for Backtracking LS: alpha start:', alpha_start, 'rho:', rho,' gamma:', gamma)\n",
        "\n",
        "  k = 0\n",
        "  #print('iter:',k, ' x:', x, ' f(x):', evalf(x), ' grad at x:', g_x, ' gradient norm:', np.linalg.norm(g_x))\n",
        "\n",
        "  while (np.linalg.norm(g_x) > tol): #continue as long as the norm of gradient is not close to zero upto a tolerance tol\n",
        "  \n",
        "    if line_search_type == EXACT_LINE_SEARCH:\n",
        "      step_length = compute_steplength_exact(g_x, A) #call the new function you wrote to compute the steplength\n",
        "      #raise ValueError('EXACT LINE SEARCH NOT YET IMPLEMENTED')\n",
        "    elif line_search_type == BACKTRACKING_LINE_SEARCH:\n",
        "      step_length = compute_steplength_backtracking(x,g_x, alpha_start,rho, gamma) #call the new function you wrote to compute the steplength\n",
        "      #raise ValueError('BACKTRACKING LINE SEARCH NOT YET IMPLEMENTED')\n",
        "    elif line_search_type == CONSTANT_STEP_LENGTH: #do a gradient descent with constant step length\n",
        "      step_length = 0.1\n",
        "    else:  \n",
        "      raise ValueError('Line search type unknown. Please check!')\n",
        "    \n",
        "    #implement the gradient descent steps here   \n",
        "    x = np.subtract(x, np.multiply(step_length,np.matmul(D_k,g_x))) #update x = x - step_length*g_x\n",
        "    k += 1 #increment iteration\n",
        "    g_x = evalg(x) #compute gradient at new point\n",
        "\n",
        "    #print('iter:',k, ' x:', x, ' f(x):', evalf(x), ' grad at x:', g_x, ' gradient norm:', np.linalg.norm(g_x))\n",
        "  return x , k , evalf(x) \n",
        "\n",
        "\n",
        "  #Complete the code   "
      ],
      "execution_count": null,
      "outputs": []
    },
    {
      "cell_type": "markdown",
      "source": [
        "Ques 7&8."
      ],
      "metadata": {
        "id": "MSL4uYWwkZnP"
      }
    },
    {
      "cell_type": "code",
      "metadata": {
        "id": "3hoak3jnHkXd"
      },
      "source": [
        "my_start_x = np.array([1.,4000.])\n",
        "my_tol= 1e-12"
      ],
      "execution_count": null,
      "outputs": []
    },
    {
      "cell_type": "code",
      "metadata": {
        "id": "vgu4yasdJEKo",
        "colab": {
          "base_uri": "https://localhost:8080/"
        },
        "outputId": "1a943dac-a3a9-49df-f8be-98166ad999f8"
      },
      "source": [
        "#check gradient descent with exact line search\n",
        "print(\"For Gradient Descent with exact line search:\") \n",
        "optimizer,k,min_value=find_minimizer_gd(my_start_x, my_tol, EXACT_LINE_SEARCH)\n",
        "print(\"Minimizer Value :\",optimizer)\n",
        "print(\"Minimum value : \",min_value)"
      ],
      "execution_count": null,
      "outputs": [
        {
          "output_type": "stream",
          "name": "stdout",
          "text": [
            "For Gradient Descent with exact line search:\n",
            "Minimizer Value : [-7.44595231e-16  4.61544291e-13]\n",
            "Minimum value :  2.1248011077899476e-25\n"
          ]
        }
      ]
    },
    {
      "cell_type": "code",
      "metadata": {
        "id": "U0_iOLVoQFYy",
        "colab": {
          "base_uri": "https://localhost:8080/"
        },
        "outputId": "15fba677-3ddd-4746-cdbb-657046d0f27e"
      },
      "source": [
        "#check gradient descent with backtracking line search \n",
        "alpha_start = 1.\n",
        "rho = 0.5\n",
        "gamma = 0.5\n",
        "print(\"For Gradient Descent with backtracking line search:\") \n",
        "optimizer_bls,k_bls,min_value_bls=find_minimizer_gd(my_start_x, my_tol, BACKTRACKING_LINE_SEARCH,alpha_start,rho,gamma)\n",
        "print(\"Minimizer Value :\",optimizer_bls)\n",
        "print(\"Number of iterations :\",k_bls)\n",
        "print(\"Minimum value : \",min_value_bls)"
      ],
      "execution_count": null,
      "outputs": [
        {
          "output_type": "stream",
          "name": "stdout",
          "text": [
            "For Gradient Descent with backtracking line search:\n",
            "Minimizer Value : [-4.78532202e-16  4.53575301e-13]\n",
            "Number of iterations : 21985\n",
            "Minimum value :  2.0520584176089396e-25\n"
          ]
        }
      ]
    },
    {
      "cell_type": "code",
      "metadata": {
        "id": "KpABILpQxPKD",
        "colab": {
          "base_uri": "https://localhost:8080/"
        },
        "outputId": "011866ca-0ff9-44f7-eb0a-e6f505702232"
      },
      "source": [
        "#check gradient descent with scaling and backtracking line search \n",
        "alpha_start = 1.\n",
        "rho = 0.5\n",
        "gamma = 0.5\n",
        "opt_bls_scaling,k_scaling,fun_scaling = find_minimizer_gdscaling(my_start_x, my_tol, BACKTRACKING_LINE_SEARCH,alpha_start,rho,gamma)\n",
        "print(\"For Gradient Descent with backtracking line search and with scaling:\") \n",
        "print(\"Minimizer Value :\",opt_bls_scaling)\n",
        "print(\"Number of iterations :\",k_scaling)\n",
        "print(\"Minimum value : \",fun_scaling)\n"
      ],
      "execution_count": null,
      "outputs": [
        {
          "output_type": "stream",
          "name": "stdout",
          "text": [
            "For Gradient Descent with backtracking line search and with scaling:\n",
            "Minimizer Value : [-3.51831747e-16  1.40072073e-14]\n",
            "Number of iterations : 166543\n",
            "Minimum value :  3.621675026196464e-28\n"
          ]
        }
      ]
    },
    {
      "cell_type": "markdown",
      "source": [
        "Observation : \\\\\n",
        "Minimum value using Gradient Descent Algorithm with scaling is 3.621675026196464e-28 i.e., $10^{-28}$whereas minimum value using Gradient Descent Algorithm without scaling is 2.0520584176089396e-25 i.e., $10^{-25}$ so we can clearly observe that with scaling we got more accuracy \\\\\n",
        "Number of iterations are more with gradient descent algorithm with scaling "
      ],
      "metadata": {
        "id": "m6KlCOLu91Cb"
      }
    },
    {
      "cell_type": "markdown",
      "source": [
        "Ques 9."
      ],
      "metadata": {
        "id": "hwShe5EDkfSf"
      }
    },
    {
      "cell_type": "code",
      "source": [
        "alpha_values=[1.,0.9,0.75,0.6,0.5,0.4,0.25,0.1,0.01]\n",
        "obj_function=[]\n",
        "final_minimizer=[]\n",
        "number_of_iterations=[]\n",
        "print(\"For Gradient Descent with backtracking line search:\")\n",
        "for alpha in alpha_values:\n",
        "  print(\"for alpha = \",alpha)\n",
        "  optimizer_bls,k_bls,min_value_bls=find_minimizer_gd(my_start_x, my_tol, BACKTRACKING_LINE_SEARCH,alpha,rho,gamma)\n",
        "  print(\"   Minimizer Value :\",optimizer_bls,\"   Number of iterations :\",k_bls,\"   Minimum value : \",min_value_bls)\n",
        "  number_of_iterations.append(k_bls)\n",
        "  obj_function.append(min_value_bls)\n",
        "  final_minimizer.append(optimizer_bls)\n"
      ],
      "metadata": {
        "colab": {
          "base_uri": "https://localhost:8080/"
        },
        "id": "AvZ--tIAkeUI",
        "outputId": "f8fe242f-b759-43b1-f0b0-828392db9026"
      },
      "execution_count": null,
      "outputs": [
        {
          "output_type": "stream",
          "name": "stdout",
          "text": [
            "For Gradient Descent with backtracking line search:\n",
            "for alpha =  1.0\n",
            "   Minimizer Value : [-4.78532202e-16  4.53575301e-13]    Number of iterations : 21985    Minimum value :  2.0520584176089396e-25\n",
            "for alpha =  0.9\n",
            "   Minimizer Value : [-5.48799355e-16  4.71515450e-13]    Number of iterations : 15941    Minimum value :  2.2174352131747877e-25\n",
            "for alpha =  0.75\n",
            "   Minimizer Value : [-7.18643891e-16  4.89175378e-13]    Number of iterations : 6750    Minimum value :  2.386610528547938e-25\n",
            "for alpha =  0.6\n",
            "   Minimizer Value : [-6.07554226e-16  4.94036636e-13]    Number of iterations : 6887    Minimum value :  2.43425264283868e-25\n",
            "for alpha =  0.5\n",
            "   Minimizer Value : [-4.78532202e-16  4.53575301e-13]    Number of iterations : 21985    Minimum value :  2.0520584176089396e-25\n",
            "for alpha =  0.4\n",
            "   Minimizer Value : [-7.24091328e-16  4.84454819e-13]    Number of iterations : 11362    Minimum value :  2.3407977615582728e-25\n",
            "for alpha =  0.25\n",
            "   Minimizer Value : [-4.78532202e-16  4.53575301e-13]    Number of iterations : 21985    Minimum value :  2.0520584176089396e-25\n",
            "for alpha =  0.1\n",
            "   Minimizer Value : [-7.24091328e-16  4.84454819e-13]    Number of iterations : 11362    Minimum value :  2.3407977615582728e-25\n",
            "for alpha =  0.01\n",
            "   Minimizer Value : [-5.80852788e-16  4.86459735e-13]    Number of iterations : 5509    Minimum value :  2.3601891237044125e-25\n"
          ]
        }
      ]
    },
    {
      "cell_type": "code",
      "source": [
        "alpha_values=[1.,0.9,0.75,0.6,0.5,0.4,0.25,0.1,0.01]\n",
        "obj_function_scaling=[]\n",
        "final_minimizer_scaling=[]\n",
        "number_of_iterations_scaling=[]\n",
        "print(\"For Gradient Descent with backtracking line search and with scaling:\")\n",
        "for alpha in alpha_values:\n",
        "  print(\"for alpha = \",alpha)\n",
        "  opt_bls_scaling,k_scaling,fun_scaling = find_minimizer_gdscaling(my_start_x, my_tol, BACKTRACKING_LINE_SEARCH,alpha,rho,gamma)\n",
        "  print(\"   Minimizer Value :\",opt_bls_scaling,\"   Number of iterations :\",k_scaling,\"   Minimum value : \",fun_scaling)\n",
        "  obj_function_scaling.append(fun_scaling)\n",
        "  final_minimizer_scaling.append(opt_bls_scaling)\n",
        "  number_of_iterations_scaling.append(k_scaling)"
      ],
      "metadata": {
        "colab": {
          "base_uri": "https://localhost:8080/"
        },
        "id": "_QWWkXCNpQjg",
        "outputId": "ed7c13e3-295b-4646-80ad-9824c009be6e"
      },
      "execution_count": null,
      "outputs": [
        {
          "output_type": "stream",
          "name": "stdout",
          "text": [
            "For Gradient Descent with backtracking line search and with scaling:\n",
            "for alpha =  1.0\n",
            "   Minimizer Value : [-3.51831747e-16  1.40072073e-14]    Number of iterations : 166543    Minimum value :  3.621675026196464e-28\n",
            "for alpha =  0.9\n",
            "   Minimizer Value : [-3.51880583e-16  1.40092586e-14]    Number of iterations : 184254    Minimum value :  3.6227089793308317e-28\n",
            "for alpha =  0.75\n",
            "   Minimizer Value : [-3.51884177e-16  1.40095324e-14]    Number of iterations : 218081    Minimum value :  3.622817796715079e-28\n",
            "for alpha =  0.6\n",
            "   Minimizer Value : [-3.51873160e-16  1.40090769e-14]    Number of iterations : 139417    Minimum value :  3.6225864420281724e-28\n",
            "for alpha =  0.5\n",
            "   Minimizer Value : [-3.51831747e-16  1.40072073e-14]    Number of iterations : 166543    Minimum value :  3.621675026196464e-28\n",
            "for alpha =  0.4\n",
            "   Minimizer Value : [-3.51878054e-16  1.40093757e-14]    Number of iterations : 205524    Minimum value :  3.6227148828944126e-28\n",
            "for alpha =  0.25\n",
            "   Minimizer Value : [-3.51831747e-16  1.40072073e-14]    Number of iterations : 166543    Minimum value :  3.621675026196464e-28\n",
            "for alpha =  0.1\n",
            "   Minimizer Value : [-3.51878054e-16  1.40093757e-14]    Number of iterations : 205524    Minimum value :  3.6227148828944126e-28\n",
            "for alpha =  0.01\n",
            "   Minimizer Value : [-3.51865929e-16  1.40088957e-14]    Number of iterations : 130859    Minimum value :  3.622465937127626e-28\n"
          ]
        }
      ]
    },
    {
      "cell_type": "code",
      "source": [
        "import matplotlib.pyplot as plt\n",
        "plt.plot(alpha_values,number_of_iterations)\n",
        "plt.plot(alpha_values,number_of_iterations_scaling) \n",
        "plt.xlabel('Value of ⍺')\n",
        "plt.ylabel('Number of Iterations')\n",
        "plt.title('Number of Iterations v/s α plot')\n",
        "plt.legend([\"Without Scaling\",\"With Scaling\"])\n",
        "plt.show()"
      ],
      "metadata": {
        "colab": {
          "base_uri": "https://localhost:8080/",
          "height": 316
        },
        "id": "Pc_AJuD9ptp2",
        "outputId": "db45d327-f092-4dc8-b079-6cf9627af38c"
      },
      "execution_count": null,
      "outputs": [
        {
          "output_type": "display_data",
          "data": {
            "image/png": "[encoded data removed]",
            "text/plain": [
              "<Figure size 432x288 with 1 Axes>"
            ]
          },
          "metadata": {
            "needs_background": "light"
          }
        }
      ]
    },
    {
      "cell_type": "markdown",
      "source": [
        "Observation : \\\\\n",
        "Number of iterations for Gradient Descent with backtracking line search with scaling are very much as compared to number of iterations without scaling.And we dont see any major change effect on number of iterations w.r.t. change in value of alpha. "
      ],
      "metadata": {
        "id": "cx634_GPA7XY"
      }
    },
    {
      "cell_type": "markdown",
      "source": [
        "Ques 10:"
      ],
      "metadata": {
        "id": "-UcKKAUH45eR"
      }
    },
    {
      "cell_type": "code",
      "source": [
        "rho_values=[0.9,0.8,0.75,0.6,0.5,0.4,0.25,0.1,0.01]\n",
        "alpha_start=1.0\n",
        "gamma=0.5\n",
        "obj_function=[]\n",
        "final_minimizer=[]\n",
        "number_of_iterations=[]\n",
        "print(\"For Gradient Descent with backtracking line search:\")\n",
        "for rho in rho_values:\n",
        "  print(\"for rho = \",rho)\n",
        "  optimizer_bls,k_bls,min_value_bls=find_minimizer_gd(my_start_x, my_tol, BACKTRACKING_LINE_SEARCH,alpha_start,rho,gamma)\n",
        "  print(\"   Minimizer Value :\",optimizer_bls,\"   Number of iterations :\",k_bls,\"   Minimum value : \",min_value_bls)\n",
        "  number_of_iterations.append(k_bls)\n",
        "  obj_function.append(min_value_bls)\n",
        "  final_minimizer.append(optimizer_bls)"
      ],
      "metadata": {
        "colab": {
          "base_uri": "https://localhost:8080/"
        },
        "id": "I0Y9iaSBumb1",
        "outputId": "0f2c5d97-6fab-4702-ef45-711453e355a0"
      },
      "execution_count": null,
      "outputs": [
        {
          "output_type": "stream",
          "name": "stdout",
          "text": [
            "For Gradient Descent with backtracking line search:\n",
            "for rho =  0.9\n",
            "   Minimizer Value : [-6.44686128e-16  4.90962904e-13]    Number of iterations : 127    Minimum value :  2.404019351870065e-25\n",
            "for rho =  0.8\n",
            "   Minimizer Value : [-6.99968590e-16  4.40149178e-13]    Number of iterations : 1471    Minimum value :  1.932338703071826e-25\n",
            "for rho =  0.75\n",
            "   Minimizer Value : [-7.15454842e-16  4.83616543e-13]    Number of iterations : 3135    Minimum value :  2.332687511412074e-25\n",
            "for rho =  0.6\n",
            "   Minimizer Value : [-7.07691748e-16  4.70469643e-13]    Number of iterations : 15834    Minimum value :  2.2076113616544364e-25\n",
            "for rho =  0.5\n",
            "   Minimizer Value : [-4.78532202e-16  4.53575301e-13]    Number of iterations : 21985    Minimum value :  2.0520584176089396e-25\n",
            "for rho =  0.4\n",
            "   Minimizer Value : [-5.16461460e-16  4.67846629e-13]    Number of iterations : 20049    Minimum value :  2.1831406770108246e-25\n",
            "for rho =  0.25\n",
            "   Minimizer Value : [-5.67128954e-16  4.70177132e-13]    Number of iterations : 24570    Minimum value :  2.204823842206756e-25\n",
            "for rho =  0.1\n",
            "   Minimizer Value : [-4.35224428e-16  4.42644725e-13]    Number of iterations : 45435    Minimum value :  1.9544788340231146e-25\n",
            "for rho =  0.01\n",
            "   Minimizer Value : [-6.03891924e-16  4.89972672e-13]    Number of iterations : 17463    Minimum value :  2.394366854291179e-25\n"
          ]
        }
      ]
    },
    {
      "cell_type": "code",
      "source": [
        "obj_function_scaling=[]\n",
        "final_minimizer_scaling=[]\n",
        "number_of_iterations_scaling=[]\n",
        "print(\"For Gradient Descent with backtracking line search with scaling:\")\n",
        "for rho in rho_values:\n",
        "  print(\"for rho = \",rho)\n",
        "  opt_bls_scaling,k_scaling,fun_scaling = find_minimizer_gdscaling(my_start_x, my_tol, BACKTRACKING_LINE_SEARCH,alpha_start,rho,gamma)\n",
        "  print(\"   Minimizer Value :\",opt_bls_scaling,\"   Number of iterations :\",k_scaling,\"   Minimum value : \",fun_scaling)\n",
        "  obj_function_scaling.append(fun_scaling)\n",
        "  final_minimizer_scaling.append(opt_bls_scaling)\n",
        "  number_of_iterations_scaling.append(k_scaling)"
      ],
      "metadata": {
        "colab": {
          "base_uri": "https://localhost:8080/"
        },
        "id": "mK4sZ31Q5yJ0",
        "outputId": "3c034748-b7d8-465f-f68f-610a50f73118"
      },
      "execution_count": 86,
      "outputs": [
        {
          "output_type": "stream",
          "name": "stdout",
          "text": [
            "For Gradient Descent with backtracking line search with scaling:\n",
            "for rho =  0.9\n",
            "   Minimizer Value : [-3.51776084e-16  1.39972555e-14]    Number of iterations : 121440    Minimum value :  3.6184718200920344e-28\n",
            "for rho =  0.8\n",
            "   Minimizer Value : [-3.51791766e-16  1.40037789e-14]    Number of iterations : 125092    Minimum value :  3.620363360810124e-28\n",
            "for rho =  0.75\n",
            "   Minimizer Value : [-3.51805130e-16  1.40062741e-14]    Number of iterations : 127959    Minimum value :  3.6211607293046916e-28\n",
            "for rho =  0.6\n",
            "   Minimizer Value : [-3.51829291e-16  1.40073153e-14]    Number of iterations : 144172    Minimum value :  3.621679222287128e-28\n",
            "for rho =  0.5\n",
            "   Minimizer Value : [-3.51831747e-16  1.40072073e-14]    Number of iterations : 166543    Minimum value :  3.621675026196464e-28\n",
            "for rho =  0.4\n",
            "   Minimizer Value : [-3.51893226e-16  1.40099350e-14]    Number of iterations : 155961    Minimum value :  3.6230153870288696e-28\n",
            "for rho =  0.25\n",
            "   Minimizer Value : [-3.51883626e-16  1.40095882e-14]    Number of iterations : 168136    Minimum value :  3.622827123351012e-28\n",
            "for rho =  0.1\n",
            "   Minimizer Value : [-3.51892191e-16  1.40099220e-14]    Number of iterations : 410047    Minimum value :  3.6230015823951396e-28\n",
            "for rho =  0.01\n",
            "   Minimizer Value : [-3.51875942e-16  1.40095013e-14]    Number of iterations : 414640    Minimum value :  3.6227272016151954e-28\n"
          ]
        }
      ]
    },
    {
      "cell_type": "code",
      "source": [
        "plt.plot(rho_values,number_of_iterations)\n",
        "plt.plot(rho_values,number_of_iterations_scaling) \n",
        "plt.xlabel('Rho Values')\n",
        "plt.ylabel('Number of Iterations')\n",
        "plt.title('Number of Iterations v/s Rho Values plot')\n",
        "plt.legend([\"Without Scaling\",\"With Scaling\"])\n",
        "plt.show()"
      ],
      "metadata": {
        "id": "hzNun45f6Aab",
        "colab": {
          "base_uri": "https://localhost:8080/",
          "height": 316
        },
        "outputId": "6a4a0fd9-e14e-4057-8e35-eae3aa0c6e6a"
      },
      "execution_count": 87,
      "outputs": [
        {
          "output_type": "display_data",
          "data": {
            "image/png": "[encoded data removed]",
            "text/plain": [
              "<Figure size 432x288 with 1 Axes>"
            ]
          },
          "metadata": {
            "needs_background": "light"
          }
        }
      ]
    },
    {
      "cell_type": "markdown",
      "source": [
        "Observation : \\\\\n",
        "Number of iterations for Gradient Descent with backtracking line search with scaling are very much as compared to number of iterations without scaling.For Gradient Descnt with backtracking line search With scaling with increase in rho values number of iterations decreases ,initially we can see a very much change in number of iterations from 0.0 to 0.2 and then it decreases minorly."
      ],
      "metadata": {
        "id": "iXZCCdSXCIzF"
      }
    }
  ]
}