{
  "nbformat": 4,
  "nbformat_minor": 0,
  "metadata": {
    "colab": {
      "name": "21i190006_IE684_Lab3_Ex2.ipynb",
      "provenance": [],
      "collapsed_sections": []
    },
    "kernelspec": {
      "name": "python3",
      "display_name": "Python 3"
    },
    "language_info": {
      "name": "python"
    }
  },
  "cells": [
    {
      "cell_type": "markdown",
      "source": [
        "#Que-1:\n",
        "Yes, we may design a suitable diagonal matrix $D^k$ for gradient descent algorithm (with scaling) for solving $min_x $q(x) . the matrix $D^k$ can be found using the hessian matrix of the given funtion. Since the given function is differentiable and its second order partial derivatives exist and are continuos, we may find the hessian matrix for it and it comes out to be as follows: \n",
        "$$H = \\begin{bmatrix}\n",
        "6144x_1^2-2048x_2+2 & x_1-2048 \\\\ x_1-2048 & 1024\\end{bmatrix}$$\n",
        "Thus we take $D^k$ can be  following:\n",
        "\n",
        "$\\mathbf{D^k}$ =\n",
        "\\begin{bmatrix}\n",
        "  \\frac{1}{6144x_1^2-2048x_2+2} & 0 \\\\ 0 & \\frac{1}{1024} \n",
        "\\end{bmatrix}  which is a diagonal matrix with it's diagonal entries , the inverse of second order partial derivatives of the main function. "
      ],
      "metadata": {
        "id": "3UbDhKYC2NFJ"
      }
    },
    {
      "cell_type": "code",
      "execution_count": 58,
      "metadata": {
        "id": "1xlP03hhSCB5"
      },
      "outputs": [],
      "source": [
        "import numpy as np \n",
        "\n",
        "#method to find Hessian matrix\n",
        "def evalh(x): \n",
        "  assert type(x) is np.ndarray \n",
        "  assert len(x) == 2 \n",
        "  return np.array([[6144*x[0]**2-2048*x[1]+2, -2048*x[0]] , [-2048*x[0],1024]])\n",
        "\n",
        "#method to find the condition number of any square matrix\n",
        "def find_condition_number(A):\n",
        "  assert type(A) is np.ndarray\n",
        "  assert A.shape[0] == A.shape[1]\n",
        "  evalues,evectors = np.linalg.eig(A)\n",
        "  return max(evalues)/min(evalues)"
      ]
    },
    {
      "cell_type": "code",
      "source": [
        "#The method defines a way to construct D_k matrix \n",
        "def compute_D_k(x):\n",
        "  assert type(x) is np.ndarray\n",
        "  assert len(x) == 2\n",
        "  #computing and returning D_k\n",
        "  C = evalh(x)\n",
        "  return np.array([[1/C[0][0], 0], [0, 1/C[1][1]]])"
      ],
      "metadata": {
        "id": "96gzDEBDSZZn"
      },
      "execution_count": 59,
      "outputs": []
    },
    {
      "cell_type": "code",
      "source": [
        "def evalf(x): \n",
        "  assert type(x) is np.ndarray and len(x) == 2 #do not allow arbitrary arguments \n",
        "  #after checking if the argument is valid, we will compute the value of the obj. function\n",
        "  return 512*(x[1]-x[0]**2)**2 + (4-x[0])**2"
      ],
      "metadata": {
        "id": "9FKwh2fJSmSa"
      },
      "execution_count": 60,
      "outputs": []
    },
    {
      "cell_type": "code",
      "source": [
        "def compute_steplength_backtracking(x, gradf, alpha_start, rho, gamma): #add appropriate arguments to the function \n",
        "  assert type(x) is np.ndarray and len(x) == 2 \n",
        "  assert type(gradf) is np.ndarray and len(gradf) == 2 \n",
        "  assert type(alpha_start) is float and alpha_start>=0. \n",
        "  assert type(rho) is float and rho>=0.\n",
        "  assert type(gamma) is float and gamma>=0. \n",
        "  #Complete the code \n",
        "  alpha = alpha_start\n",
        "  t = -gradf\n",
        "  #implement the backtracking line search\n",
        "  while evalf(x + alpha*t) > evalf(x)-(gamma*alpha*np.dot(t,t)): \n",
        "    alpha = rho*alpha\n",
        "  #print('final step length:',alpha)\n",
        "  return alpha"
      ],
      "metadata": {
        "id": "KcVmvMNwS5YQ"
      },
      "execution_count": 61,
      "outputs": []
    },
    {
      "cell_type": "code",
      "source": [
        "def evalg(x):  \n",
        "  #Input: x is a numpy array of size 2 \n",
        "  assert type(x) is np.ndarray and len(x) == 2 #do not allow arbitrary arguments \n",
        "  #after checking if the argument is valid, we can compute the gradient value\n",
        "  #compute the gradient value and return it \n",
        "  return np.array([2*x[0]-2048*x[0]*x[1]+2048*x[0]**3-8, 1024*(x[1]-x[0]**2)])"
      ],
      "metadata": {
        "id": "bryNYVdySuKo"
      },
      "execution_count": 62,
      "outputs": []
    },
    {
      "cell_type": "code",
      "source": [
        "def compute_steplength_backtracking_scaled_direction(x, gradf, alpha_start, rho, gamma): #add appropriate arguments to the function \n",
        "  assert type(x) is np.ndarray and len(gradf) == 2 \n",
        "  assert type(gradf) is np.ndarray and len(gradf) == 2  \n",
        "  assert type(alpha_start) is float and alpha_start>=0. \n",
        "  assert type(rho) is float and rho>=0.\n",
        "  assert type(gamma) is float and gamma>=0. \n",
        " \n",
        "  #Complete the code\n",
        "  alpha = alpha_start\n",
        "  D_k = compute_D_k(x)\n",
        "  t = -gradf\n",
        "  #implement the backtracking line search\n",
        "  while evalf(x + alpha*np.matmul(D_k,t)) > evalf(x) + gamma*alpha*np.matmul(np.matrix.transpose(gradf), np.matmul(D_k,t)):\n",
        "    alpha = rho*alpha\n",
        "  return alpha  \n",
        "  "
      ],
      "metadata": {
        "id": "ZdwCc3lBS-HF"
      },
      "execution_count": 63,
      "outputs": []
    },
    {
      "cell_type": "code",
      "source": [
        "#Line Search types:\n",
        "BACKTRACKING_LINE_SEARCH = 1\n",
        "BACKTRACKING_LINE_SEARCH_SC = 2\n",
        "CONSTANT_STEP_LENGTH = 3"
      ],
      "metadata": {
        "id": "HEI4rwD7TDUV"
      },
      "execution_count": 64,
      "outputs": []
    },
    {
      "cell_type": "code",
      "source": [
        "#complete the code for gradient descent to find the minimizer\n",
        "def find_minimizer_gd(start_x, tol, line_search_type, *args):\n",
        "  #Input: start_x is a numpy array of size 2, tol denotes the tolerance and is a positive float value\n",
        "  assert type(start_x) is np.ndarray and len(start_x) == 2 #do not allow arbitrary arguments \n",
        "  assert type(tol) is float and tol>=0 \n",
        "  x = start_x\n",
        "  g_x = evalg(x)\n",
        "\n",
        "  #initialization for backtracking line search\n",
        "  if(line_search_type == BACKTRACKING_LINE_SEARCH):\n",
        "    alpha_start = args[0]\n",
        "    rho = args[1]\n",
        "    gamma = args[2]\n",
        "  condition_numbers_list = []\n",
        "  Iterations_list = []\n",
        "  k = 0 #for iterations\n",
        "\n",
        "  while (np.linalg.norm(g_x) > tol): #continue as long as the norm of gradient is not close to zero upto a tolerance tol\n",
        "    condition_numbers_list.append(find_condition_number(evalh(x)))\n",
        "    if line_search_type == BACKTRACKING_LINE_SEARCH:\n",
        "      step_length = compute_steplength_backtracking(x, g_x, alpha_start, rho, gamma) #call the new function you wrote to compute the steplength\n",
        "    elif line_search_type == CONSTANT_STEP_LENGTH:\n",
        "      step_length = 0.1\n",
        "    else:  \n",
        "      raise ValueError('Unknown line search type. Please check again!')\n",
        "    \n",
        "    #implement the gradient descent steps here  \n",
        "    x = np.subtract(x, np.multiply(step_length, g_x)) #update x = x - step_length*g_x\n",
        "    Iterations_list.append(k)\n",
        "    k += 1 #increment iteration\n",
        "    g_x = evalg(x) #compute gradient at new point\n",
        "  return x, k, condition_numbers_list , Iterations_list\n"
      ],
      "metadata": {
        "id": "piq_Ur_fwZ4f"
      },
      "execution_count": 65,
      "outputs": []
    },
    {
      "cell_type": "code",
      "source": [
        "#complete the code for gradient descent with scaling to find the minimizer\n",
        "\n",
        "def find_minimizer_gdscaling(start_x, tol, line_search_type, *args):\n",
        "  assert type(start_x) is np.ndarray and len(start_x) == 2 #do not allow arbitrary arguments \n",
        "  assert type(tol) is float and tol>=0 \n",
        "  x = start_x\n",
        "  g_x = evalg(x)\n",
        "  \n",
        "  #initialization for backtracking line search\n",
        "  if(line_search_type == BACKTRACKING_LINE_SEARCH_SC):\n",
        "    alpha_start = args[0]\n",
        "    rho = args[1]\n",
        "    gamma = args[2]\n",
        "  condition_numbers_gdsc = []\n",
        "  Iterations_gdsc = []\n",
        "  k = 0\n",
        "  while (np.linalg.norm(g_x) > tol): #continue as long as the norm of gradient is not close to zero upto a tolerance tol\n",
        "    D_k = compute_D_k(x)\n",
        "    if line_search_type == BACKTRACKING_LINE_SEARCH_SC:\n",
        "      step_length = compute_steplength_backtracking_scaled_direction(x, g_x, alpha_start, rho, gamma) #call the new function you wrote to compute the steplength\n",
        "    elif line_search_type == CONSTANT_STEP_LENGTH:\n",
        "      step_length = 0.1\n",
        "    else:  \n",
        "      raise ValueError('Line search type unknown. Please check!')\n",
        "    Iterations_gdsc.append(k)\n",
        "    #implement the gradient descent steps here  \n",
        "    x = np.subtract(x, np.multiply(step_length,np.matmul(D_k, g_x))) #update x = x - step_length*g_x\n",
        "    k += 1 #increment iteration\n",
        "    g_x = evalg(x) #compute gradient at new point\n",
        "  return x, k,Iterations_gdsc"
      ],
      "metadata": {
        "id": "GfZ-NX9D3d7V"
      },
      "execution_count": 68,
      "outputs": []
    },
    {
      "cell_type": "code",
      "source": [
        "my_start_x = np.array([8.,8.])\n",
        "my_tol= 10**(-5)\n",
        "alpha_start = 1.\n",
        "rho = 0.5\n",
        "gamma = 0.5\n",
        "print(\"Using B.L.S. with Scaling : \")\n",
        "x_opt,k,Iterations_gdsc = find_minimizer_gdscaling(my_start_x, my_tol, BACKTRACKING_LINE_SEARCH_SC,1.0,0.5,0.5)\n",
        "print(\"   Optimizer: \",x_opt,\"\\n    Number of iterations: \",k,\"\\n   Final Function Value: \",evalf(x_opt))\n",
        "print(\"Using B.L.S. without Scaling : \")\n",
        "x_opt_scale,iter_scale,Condition_Numbers,Iterations = find_minimizer_gd(my_start_x, my_tol, BACKTRACKING_LINE_SEARCH,alpha_start,rho,gamma)\n",
        "print(\"   Function Optiimizer: \",x_opt_scale,\"\\n    Number of iterations: \",iter_scale,\"\\n    Final Function Value: \",evalf(x_opt_scale))"
      ],
      "metadata": {
        "id": "UQS11BvbTSMx",
        "colab": {
          "base_uri": "https://localhost:8080/"
        },
        "outputId": "b0ae645f-ff94-4d33-a529-ae34ac802cb7"
      },
      "execution_count": 69,
      "outputs": [
        {
          "output_type": "stream",
          "name": "stdout",
          "text": [
            "Using B.L.S. with Scaling : \n",
            "   Optimizer:  [ 4.00000993 16.00007941] \n",
            "    Number of iterations:  904699 \n",
            "   Final Function Value:  9.852100072197714e-11\n",
            "Using B.L.S. without Scaling : \n",
            "   Function Optiimizer:  [ 3.9999598  15.99967843] \n",
            "    Number of iterations:  902388 \n",
            "    Final Function Value:  1.615685626406345e-09\n"
          ]
        }
      ]
    },
    {
      "cell_type": "markdown",
      "source": [
        "#Que-3:\n",
        "Based on our discussion on condition number and the derivation of the gradient descent scheme with scaling, we can identify \n",
        "the matrix $\\mathbf{Q}$ whose condition number needs to be analyzed in the new gradient scheme with scaling with $\\mathbf{D}^k = (\\nabla^2q(\\mathbf{x}))^{-1} $ \n",
        "The Matrix Q here will be the following:\n",
        "\n",
        "$\\mathbf{Q}$ = $(\\mathbf{D}^k)^{\\frac{1}{2}} \\nabla^2q(\\mathbf{x}) (\\mathbf{D}^k)^{\\frac{1}{2}} = (\\mathbf{D}^k)^{\\frac{1}{2}} \\mathbf{H}^k (\\mathbf{D}^k)^{\\frac{1}{2}}$\n",
        "\n",
        "Where $\\mathbf{H}^k = (\\nabla^2q(\\mathbf{x})) $ is called the hessian of a function.\n",
        "\n",
        "Such a choice of Q increases the efficiency of the methodby reducing the condition number. The multiplication of inverse of hessian arount hessian matrix decreases the condition number of system and this decreament in condition number causes the decreament in the number of iterations for getting minimum value."
      ],
      "metadata": {
        "id": "QEkpGJn7AKcA"
      }
    },
    {
      "cell_type": "markdown",
      "source": [
        "#Que-4:"
      ],
      "metadata": {
        "id": "kFpfbvozAk0v"
      }
    },
    {
      "cell_type": "markdown",
      "source": [
        "Here, we want the $D^k$ to be a non diagonal matrix And a suitable choice of such $D^k$ is $Q^{-1}$ . So we will use the inverse of hessian matrix as $D^k$."
      ],
      "metadata": {
        "id": "q480rxHy-bqW"
      }
    },
    {
      "cell_type": "code",
      "source": [
        "#Computing the non-diagonalized D_k :\n",
        "def compute_D_k_NonD(x):\n",
        "  assert type(x) is np.ndarray and len(x)==2\n",
        "  if np.linalg.det(evalh(x)) == 0: #Since the inverse of the hessian matrix is possible only if the determinant is not equal to zero.\n",
        "    print(\"Inverse not Possible for the current hessian matrix.\")\n",
        "  else:\n",
        "    return np.linalg.inv(evalh(x))"
      ],
      "metadata": {
        "id": "s8IAIMDeAhSH"
      },
      "execution_count": 70,
      "outputs": []
    },
    {
      "cell_type": "code",
      "source": [
        "#Evaluating the direction:\n",
        "def compute_steplength_backtracking_scaled_direction_new(x, gradf, alpha_start, rho, gamma): #add appropriate arguments to the function \n",
        "  assert type(x) is np.ndarray and len(gradf) == 2 \n",
        "  assert type(gradf) is np.ndarray and len(gradf) == 2  \n",
        "  assert type(alpha_start) is float and alpha_start>=0. \n",
        "  assert type(rho) is float and rho>=0.\n",
        "  assert type(gamma) is float and gamma>=0.\n",
        "  \n",
        "  alpha = alpha_start\n",
        "  D_k = compute_D_k_NonD(x)\n",
        "  t=-gradf\n",
        "  #implement the backtracking line search algorithm:\n",
        "  while evalf(x + alpha*np.matmul(D_k,t)) > evalf(x) + gamma*alpha*np.matmul(np.matrix.transpose(gradf), np.matmul(D_k,t)): #Condition for the next iteration\n",
        "    alpha = alpha * rho\n",
        "  return alpha"
      ],
      "metadata": {
        "id": "uSFAMvewAMxO"
      },
      "execution_count": 71,
      "outputs": []
    },
    {
      "cell_type": "code",
      "source": [
        "#complete the code for gradient descent with scaling to find the minimizer\n",
        "import scipy\n",
        "from scipy.linalg import sqrtm\n",
        "#imported sqrtm package from scipy.linalg for finding the square root of a matrix.\n",
        "def find_minimizer_gdscaling_new(start_x, tol, line_search_type, *args):\n",
        "  assert type(start_x) is np.ndarray and len(start_x) == 2 #do not allow arbitrary arguments \n",
        "  assert type(tol) is float and tol>=0 \n",
        "  x = start_x\n",
        "  g_x = evalg(x)\n",
        "  #initialization for backtracking line search\n",
        "  if(line_search_type == BACKTRACKING_LINE_SEARCH_SC):\n",
        "    alpha_start = args[0]\n",
        "    rho = args[1]\n",
        "    gamma = args[2]\n",
        "  condition_numbers_scaling = []\n",
        "  Iterations_scaling=[]\n",
        "  k = 0\n",
        "  while (np.linalg.norm(g_x) > tol): #continue as long as the norm of gradient is not close to zero upto a tolerance tol\n",
        "    D_k = compute_D_k_NonD(x)\n",
        "    j = scipy.linalg.sqrtm(D_k)\n",
        "    C1 = np.matmul(np.matmul(j,evalh(x)),j)\n",
        "    print(\"Iteration: \", k, \", Condition Number : \", find_condition_number(C1), \", x:\", x)\n",
        "    condition_numbers_scaling.append(find_condition_number(C1)) #adding the condition number to the list\n",
        "    if line_search_type == BACKTRACKING_LINE_SEARCH_SC:\n",
        "      step_length = compute_steplength_backtracking_scaled_direction_new(x, g_x, alpha_start, rho, gamma) #call the new function you wrote to compute the steplength\n",
        "    elif line_search_type == CONSTANT_STEP_LENGTH:\n",
        "      step_length = 0.1\n",
        "    else:\n",
        "      raise ValueError('Unknown Line search type. Please check again!')\n",
        "    \n",
        "    #implementing the gradient descent algorithm\n",
        "    x = np.subtract(x, np.multiply(step_length,np.matmul(D_k, g_x))) #update x = x - step_length*g_x\n",
        "    Iterations_scaling.append(k)\n",
        "    k += 1 #number of iterations\n",
        "    g_x = evalg(x) #computing gradient at new point\n",
        "  return x, k, condition_numbers_scaling , Iterations_scaling"
      ],
      "metadata": {
        "id": "O_34QnezBvir"
      },
      "execution_count": 72,
      "outputs": []
    },
    {
      "cell_type": "code",
      "source": [
        "#complete the code for gradient descent to find the minimizer\n",
        "def find_minimizer_gd_noscale(start_x, tol, line_search_type, *args):\n",
        "  #Input: start_x is a numpy array of size 2, tol denotes the tolerance and is a positive float value\n",
        "  assert type(start_x) is np.ndarray and len(start_x) == 2 #do not allow arbitrary arguments \n",
        "  assert type(tol) is float and tol>=0 \n",
        "  x = start_x\n",
        "  g_x = evalg(x)\n",
        "\n",
        "  #initialization for backtracking line search\n",
        "  if(line_search_type == BACKTRACKING_LINE_SEARCH):\n",
        "    alpha_start = args[0]\n",
        "    rho = args[1]\n",
        "    gamma = args[2]\n",
        "  condition_number_NoScale = []\n",
        "  Iterations_NoScale = []\n",
        "  k = 0\n",
        "\n",
        "  while (np.linalg.norm(g_x) > tol): #continue as long as the norm of gradient is not close to zero upto a tolerance tol\n",
        "    condition_number_NoScale.append(find_condition_number(evalh(x)))\n",
        "    if line_search_type == BACKTRACKING_LINE_SEARCH:\n",
        "      step_length = compute_steplength_backtracking(x, g_x, alpha_start, rho, gamma) #call the new function you wrote to compute the steplength\n",
        "    elif line_search_type == CONSTANT_STEP_LENGTH:\n",
        "      step_length = 0.1\n",
        "    else:  \n",
        "      raise ValueError('Line search type unknown. Please check!')\n",
        "    \n",
        "    #implement the gradient descent steps here  \n",
        "    x = np.subtract(x, np.multiply(step_length, g_x)) #update x = x - step_length*g_x\n",
        "    Iterations_NoScale.append(k)\n",
        "    k += 1 #increment iteration\n",
        "    g_x = evalg(x) #compute gradient at new point\n",
        "  return x, k, condition_number_NoScale , Iterations_NoScale"
      ],
      "metadata": {
        "id": "hizE4jbOSTP5"
      },
      "execution_count": 73,
      "outputs": []
    },
    {
      "cell_type": "code",
      "source": [
        "alpha_start = 1.0\n",
        "rho = gamma = 0.5\n",
        "my_start_x=np.array([8.,8.])\n",
        "my_tol = 10**(-5)\n",
        "#finding minimizer using BLS\n",
        "print(\"Gradient descent BLS with scaling and NonDiagonal D_k : \")\n",
        "x_opt_bls_new, k_bls_new,Condition_Numbers , Iterations = find_minimizer_gdscaling_new(my_start_x, my_tol, BACKTRACKING_LINE_SEARCH_SC, alpha_start,rho,gamma)\n",
        "print(\"The Optimizer of function :\", x_opt_bls_new, \",       Minimum Value of the function :\", evalf(x_opt_bls_new), \",     Number of Iterations :\", k_bls_new)"
      ],
      "metadata": {
        "colab": {
          "base_uri": "https://localhost:8080/"
        },
        "id": "3ah9G8QcEXp1",
        "outputId": "d82f316a-b4c9-43eb-cbf0-082e4503e0c4"
      },
      "execution_count": 74,
      "outputs": [
        {
          "output_type": "stream",
          "name": "stdout",
          "text": [
            "Gradient descent BLS with scaling and NonDiagonal D_k : \n",
            "Iteration:  0 , Condition Number :  1.0000000000000113 , x: [8. 8.]\n",
            "Iteration:  1 , Condition Number :  1.0000000021417927 , x: [ 7.99993025 63.99888395]\n",
            "Iteration:  2 , Condition Number :  1.0000000001001776 , x: [ 7.87493305 61.99894623]\n",
            "Iteration:  3 , Condition Number :  1.000000000171522 , x: [ 7.76095965 60.21169264]\n",
            "Iteration:  4 , Condition Number :  1.0000000000030593 , x: [ 7.59231687 57.61483501]\n",
            "Iteration:  5 , Condition Number :  1.0000000000720182 , x: [ 7.47306175 55.83243017]\n",
            "Iteration:  6 , Condition Number :  1.0000000000718208 , x: [ 7.36148178 54.17185297]\n",
            "Iteration:  7 , Condition Number :  1.000000000046864 , x: [ 7.20164295 51.83811272]\n",
            "Iteration:  8 , Condition Number :  1.0000000001069222 , x: [ 7.08376914 50.16589095]\n",
            "Iteration:  9 , Condition Number :  1.0000000001602505 , x: [ 6.98251387 48.73830018]\n",
            "Iteration:  10 , Condition Number :  1.000000000013921 , x: [ 6.8222717  46.51771366]\n",
            "Iteration:  11 , Condition Number :  1.0000000000005482 , x: [ 6.71886835 45.13249968]\n",
            "Iteration:  12 , Condition Number :  1.0000000000826796 , x: [ 6.60509739 43.60902153]\n",
            "Iteration:  13 , Condition Number :  1.0000000000653744 , x: [ 6.47305277 41.88297642]\n",
            "Iteration:  14 , Condition Number :  1.0000000000053206 , x: [ 6.34188583 40.20231118]\n",
            "Iteration:  15 , Condition Number :  1.0000000000738403 , x: [ 6.21609756 38.62404619]\n",
            "Iteration:  16 , Condition Number :  1.0000000000076088 , x: [ 6.08727291 37.03829573]\n",
            "Iteration:  17 , Condition Number :  1.0000000000111589 , x: [ 5.97127521 35.64267221]\n",
            "Iteration:  18 , Condition Number :  1.0000000000736742 , x: [ 5.83788624 34.06312318]\n",
            "Iteration:  19 , Condition Number :  1.0000000000378306 , x: [ 5.74226082 32.96441509]\n",
            "Iteration:  20 , Condition Number :  1.0000000001159486 , x: [ 5.65820476 32.00364352]\n",
            "Iteration:  21 , Condition Number :  1.000000000045394 , x: [ 5.52982927 30.5625315 ]\n",
            "Iteration:  22 , Condition Number :  1.0000000000740117 , x: [ 5.44424821 29.6325144 ]\n",
            "Iteration:  23 , Condition Number :  1.000000000103595 , x: [ 5.35929141 28.71112466]\n",
            "Iteration:  24 , Condition Number :  1.0000000000044125 , x: [ 5.24733107 27.52194828]\n",
            "Iteration:  25 , Condition Number :  1.000000000043318 , x: [ 5.15717967 26.5883749 ]\n",
            "Iteration:  26 , Condition Number :  1.0000000000428324 , x: [ 5.03304979 25.31618199]\n",
            "Iteration:  27 , Condition Number :  1.0000000001415967 , x: [ 4.97147819 24.71180437]\n",
            "Iteration:  28 , Condition Number :  1.000000000030203 , x: [ 4.87198323 23.72442585]\n",
            "Iteration:  29 , Condition Number :  1.000000000101107 , x: [ 4.8053069 23.0865287]\n",
            "Iteration:  30 , Condition Number :  1.000000000047274 , x: [ 4.73278849 22.39180512]\n",
            "Iteration:  31 , Condition Number :  1.000000000001872 , x: [ 4.64818407 21.5984572 ]\n",
            "Iteration:  32 , Condition Number :  1.000000000020842 , x: [ 4.57036804 20.88220868]\n",
            "Iteration:  33 , Condition Number :  1.0000000000400129 , x: [ 4.49115754 20.16422173]\n",
            "Iteration:  34 , Condition Number :  1.0000000000698381 , x: [ 4.42500737 19.57631434]\n",
            "Iteration:  35 , Condition Number :  1.0000000000274827 , x: [ 4.34746353 18.89442608]\n",
            "Iteration:  36 , Condition Number :  1.000000000072709 , x: [ 4.2989172  18.47833236]\n",
            "Iteration:  37 , Condition Number :  1.0000000000128768 , x: [ 4.25513017 18.10303711]\n",
            "Iteration:  38 , Condition Number :  1.0000000000300875 , x: [ 4.19394748 17.58545215]\n",
            "Iteration:  39 , Condition Number :  1.0000000000213278 , x: [ 4.15381899 17.2526019 ]\n",
            "Iteration:  40 , Condition Number :  1.0000000000621165 , x: [ 4.12478496 17.01220282]\n",
            "Iteration:  41 , Condition Number :  1.0000000000018971 , x: [ 4.07835642 16.63083547]\n",
            "Iteration:  42 , Condition Number :  1.0000000001105498 , x: [ 4.0539261  16.43372001]\n",
            "Iteration:  43 , Condition Number :  1.0000000000008558 , x: [ 4.02045584 16.16294488]\n",
            "Iteration:  44 , Condition Number :  1.0000000000211708 , x: [ 4.01092884 16.08745942]\n",
            "Iteration:  45 , Condition Number :  1.0000000000492861 , x: [ 4.00092937 16.00733584]\n",
            "Iteration:  46 , Condition Number :  1.0000000000639324 , x: [ 4.00008632 16.00068985]\n",
            "Iteration:  47 , Condition Number :  1.0000000002577725 , x: [ 4.00000006 16.00000049]\n",
            "The Optimizer of function : [ 4. 16.] ,       Minimum Value of the function : 2.5340515749542145e-24 ,     Number of Iterations : 48\n"
          ]
        }
      ]
    },
    {
      "cell_type": "code",
      "source": [
        "print(\"Using B.L.S. with Scaling : \")\n",
        "print(\"   Optimizer: \",x_opt,\"\\n    Number of iterations: \",k,\"\\n   Final Function Value: \",evalf(x_opt))\n",
        "print(\"Using B.L.S. without Scaling : \")\n",
        "x_opt_NoScale,iter_NoScale,Condition_Numbers_NoScale,Iterations_NoScale = find_minimizer_gd_noscale(my_start_x, my_tol, BACKTRACKING_LINE_SEARCH,alpha_start,rho,gamma)\n",
        "print(\"   Function Optiimizer: \",x_opt_NoScale,\"\\n    Number of iterations: \",iter_NoScale,\"\\n    Final Function Value: \",evalf(x_opt_NoScale))"
      ],
      "metadata": {
        "colab": {
          "base_uri": "https://localhost:8080/"
        },
        "id": "DxT3RzzfTGs0",
        "outputId": "63212e32-3df1-4edf-981a-75e181383ed0"
      },
      "execution_count": 75,
      "outputs": [
        {
          "output_type": "stream",
          "name": "stdout",
          "text": [
            "Using B.L.S. with Scaling : \n",
            "   Optimizer:  [ 4.00000993 16.00007941] \n",
            "    Number of iterations:  904699 \n",
            "   Final Function Value:  9.852100072197714e-11\n",
            "Using B.L.S. without Scaling : \n",
            "   Function Optiimizer:  [ 3.9999598  15.99967843] \n",
            "    Number of iterations:  902388 \n",
            "    Final Function Value:  1.615685626406345e-09\n"
          ]
        }
      ]
    },
    {
      "cell_type": "markdown",
      "source": [
        "Here, we can see clearly that by scaling method and taking the $D^k$ as non diagonal, we can decrease the number of iterations from a very high of approx 904699 to a very much low of 48 iterations. Which isignifies the importance of newton's scaling gradient descent method.\n"
      ],
      "metadata": {
        "id": "Eo2zOYiCWs2M"
      }
    },
    {
      "cell_type": "code",
      "source": [
        "import matplotlib.pyplot as plt\n",
        "plt.plot(Iterations,Condition_Numbers)\n",
        "plt.xlabel('No. of iterations')\n",
        "plt.ylabel('Condition Number')\n",
        "plt.title(\"Condition number vs iterations(with Scaling)\")\n",
        "plt.figure(figsize=(20,20))\n",
        "plt.show()"
      ],
      "metadata": {
        "colab": {
          "base_uri": "https://localhost:8080/",
          "height": 332
        },
        "id": "UEMW_kweOv7p",
        "outputId": "560b7c7d-b99b-406b-e1fa-1c5a8049331d"
      },
      "execution_count": 76,
      "outputs": [
        {
          "output_type": "display_data",
          "data": {
            "image/png": "[encoded data removed]",
            "text/plain": [
              "<Figure size 432x288 with 1 Axes>"
            ]
          },
          "metadata": {
            "needs_background": "light"
          }
        },
        {
          "output_type": "display_data",
          "data": {
            "text/plain": [
              "<Figure size 1440x1440 with 0 Axes>"
            ]
          },
          "metadata": {}
        }
      ]
    },
    {
      "cell_type": "code",
      "source": [
        "plt.plot(Iterations_NoScale,Condition_Numbers_NoScale)\n",
        "plt.xlabel('Num. of iterations')\n",
        "plt.ylabel('Condition Number')\n",
        "plt.title(\"Condition number vs Num. of iterations(without Scaling\")\n",
        "plt.figure(figsize=(20,20))\n",
        "plt.show()"
      ],
      "metadata": {
        "colab": {
          "base_uri": "https://localhost:8080/",
          "height": 332
        },
        "id": "6HHaN_OaQ97m",
        "outputId": "37dd40f9-ae6f-4b00-dcb8-3e70040679c0"
      },
      "execution_count": 78,
      "outputs": [
        {
          "output_type": "display_data",
          "data": {
            "image/png": "[encoded data removed]",
            "text/plain": [
              "<Figure size 432x288 with 1 Axes>"
            ]
          },
          "metadata": {
            "needs_background": "light"
          }
        },
        {
          "output_type": "display_data",
          "data": {
            "text/plain": [
              "<Figure size 1440x1440 with 0 Axes>"
            ]
          },
          "metadata": {}
        }
      ]
    },
    {
      "cell_type": "markdown",
      "source": [
        "It can be seen from the above plots that the condition number goes near to 1 in case of scaling,which is very much lesser than this condition number when taken in case of non scaling. Which decreases the efficiency of the algorithm."
      ],
      "metadata": {
        "id": "_6YGPBmsYoOr"
      }
    }
  ]
}