{
  "nbformat": 4,
  "nbformat_minor": 0,
  "metadata": {
    "colab": {
      "name": "21i190006_IE507_Lab08_Ex_3.ipynb",
      "provenance": [],
      "collapsed_sections": []
    },
    "kernelspec": {
      "name": "python3",
      "display_name": "Python 3"
    },
    "language_info": {
      "name": "python"
    }
  },
  "cells": [
    {
      "cell_type": "code",
      "metadata": {
        "id": "06_e33wGEfUc"
      },
      "source": [
        "#importing the required packages\n",
        "import pandas as pd\n",
        "import numpy as np"
      ],
      "execution_count": null,
      "outputs": []
    },
    {
      "cell_type": "markdown",
      "metadata": {
        "id": "SUyppsjAJ2H2"
      },
      "source": [
        "Ex 3.1 \\\\\n",
        "Consider the data set from f8.txt"
      ]
    },
    {
      "cell_type": "code",
      "metadata": {
        "colab": {
          "base_uri": "https://localhost:8080/"
        },
        "id": "Q54q1txdFK8y",
        "outputId": "0996729c-8134-4b66-bfd6-ecec0b50bba7"
      },
      "source": [
        "#Please copy the 'f8.txt' file to the current folder in colab\n",
        "#read the txt file into a data frame\n",
        "df= pd.read_csv('f8.txt', sep='   ',index_col=None,header = None)"
      ],
      "execution_count": null,
      "outputs": [
        {
          "output_type": "stream",
          "name": "stderr",
          "text": [
            "/usr/local/lib/python3.7/dist-packages/ipykernel_launcher.py:3: ParserWarning: Falling back to the 'python' engine because the 'c' engine does not support regex separators (separators > 1 char and different from '\\s+' are interpreted as regex); you can avoid this warning by specifying engine='python'.\n",
            "  This is separate from the ipykernel package so we can avoid doing imports until\n"
          ]
        }
      ]
    },
    {
      "cell_type": "code",
      "metadata": {
        "colab": {
          "base_uri": "https://localhost:8080/"
        },
        "id": "6ntmsil6GW5R",
        "outputId": "6c582c2d-3ee2-4e6c-c26d-21982bcde510"
      },
      "source": [
        "print(df.head())"
      ],
      "execution_count": null,
      "outputs": [
        {
          "output_type": "stream",
          "name": "stdout",
          "text": [
            "    0    1    2    3    4   5   6   7   ...   56   57   58  59  60   61   62  63\n",
            "0  165   96  188  122  151  55  74  81  ...   97  157  132  76  55  160  171  66\n",
            "1  167  100  192  124  157  51  73  82  ...  104  167  131  74  50  165  170  73\n",
            "2  166  107  188  123  157  49  70  79  ...  106  166  127  74  54  163  172  68\n",
            "3  167  103  188  124  158  55  74  83  ...  106  166  130  75  54  163  170  70\n",
            "4  169  103  186  122  156  52  72  80  ...  104  162  127  73  54  165  169  74\n",
            "\n",
            "[5 rows x 64 columns]\n"
          ]
        }
      ]
    },
    {
      "cell_type": "code",
      "metadata": {
        "id": "jokldJYrMd2B"
      },
      "source": [
        "#import K-Means library from scikit learn\n",
        "from sklearn.cluster import KMeans"
      ],
      "execution_count": null,
      "outputs": []
    },
    {
      "cell_type": "code",
      "metadata": {
        "colab": {
          "base_uri": "https://localhost:8080/"
        },
        "id": "CjRzRroNGdEF",
        "outputId": "b76c47b3-c26e-413b-cce9-206bfe55b63f"
      },
      "source": [
        "clusters = 5\n",
        "kmeans = KMeans(n_clusters = clusters)\n",
        "kmeans.fit(df) \n",
        "print(kmeans.labels_)\n"
      ],
      "execution_count": null,
      "outputs": [
        {
          "output_type": "stream",
          "name": "stdout",
          "text": [
            "[0 0 0 ... 0 0 0]\n"
          ]
        }
      ]
    },
    {
      "cell_type": "code",
      "metadata": {
        "colab": {
          "base_uri": "https://localhost:8080/"
        },
        "id": "d_joU2odG7j7",
        "outputId": "444779e1-ed09-42cc-fdff-7b485ffe15a5"
      },
      "source": [
        "from sklearn.decomposition import PCA\n",
        "pca = PCA(2)\n",
        "pca.fit(df) \n",
        "pca_data = pd.DataFrame(pca.transform(df)) \n",
        "print(pca_data.head())"
      ],
      "execution_count": null,
      "outputs": [
        {
          "output_type": "stream",
          "name": "stdout",
          "text": [
            "            0           1\n",
            "0 -132.844682  246.868403\n",
            "1 -125.024472  258.959615\n",
            "2 -124.971184  259.818598\n",
            "3 -126.540486  255.044413\n",
            "4 -124.268703  252.359976\n"
          ]
        }
      ]
    },
    {
      "cell_type": "markdown",
      "metadata": {
        "id": "mC7JAG6tKAW-"
      },
      "source": [
        "Ex 3.2 \\\\\n",
        "Perform K-Means clsutering on the data from f8.txt using scikit learn package. "
      ]
    },
    {
      "cell_type": "code",
      "metadata": {
        "id": "4wQfeoVuMiPj"
      },
      "source": [
        "import numpy as np"
      ],
      "execution_count": null,
      "outputs": []
    },
    {
      "cell_type": "code",
      "metadata": {
        "colab": {
          "base_uri": "https://localhost:8080/"
        },
        "id": "blZViEZ1HJ8n",
        "outputId": "621f4717-e309-434f-8ca2-a3c2b2110a73"
      },
      "source": [
        "X = df.to_numpy() \n",
        "print('shape of data:', X.shape)"
      ],
      "execution_count": null,
      "outputs": [
        {
          "output_type": "stream",
          "name": "stdout",
          "text": [
            "shape of data: (1024, 64)\n"
          ]
        }
      ]
    },
    {
      "cell_type": "code",
      "metadata": {
        "colab": {
          "base_uri": "https://localhost:8080/"
        },
        "id": "l8gi-PsSHc6c",
        "outputId": "deb48fad-f7ed-4b6c-ddb2-880d10759aac"
      },
      "source": [
        "km = KMeans(n_clusters=5, random_state=0)\n",
        "km_result = km.fit(X)\n",
        "km_result.labels_"
      ],
      "execution_count": null,
      "outputs": [
        {
          "output_type": "execute_result",
          "data": {
            "text/plain": [
              "array([2, 2, 2, ..., 3, 3, 3], dtype=int32)"
            ]
          },
          "metadata": {},
          "execution_count": 44
        }
      ]
    },
    {
      "cell_type": "code",
      "metadata": {
        "colab": {
          "base_uri": "https://localhost:8080/"
        },
        "id": "qWsltub2HisR",
        "outputId": "619d7f1c-0894-4826-cd8c-379c4c2dece7"
      },
      "source": [
        "print(X[:,0].shape, X[:,1].shape, km_result.labels_.shape)"
      ],
      "execution_count": null,
      "outputs": [
        {
          "output_type": "stream",
          "name": "stdout",
          "text": [
            "(1024,) (1024,) (1024,)\n"
          ]
        }
      ]
    },
    {
      "cell_type": "markdown",
      "metadata": {
        "id": "2GmKSUEdKxpt"
      },
      "source": [
        "Ex 3.3 \\\\\n",
        "Explain how you will visualize the clusters for the data from f8.txt? \\\\\n",
        "We will use dimentional reduction techniques to reduce the dimensions of the data set so that we will be able to visualize the data in a more clearer way.I have reduced the dimensions from 64 to 2.I have used PCA technique to reduce the dimensions"
      ]
    },
    {
      "cell_type": "markdown",
      "metadata": {
        "id": "6eVUtiMCKzX8"
      },
      "source": [
        "Ex 3.4 \\\\\n",
        "Design and illustrate a suitable idea for visualizing the clusters obtained for data from f8.txt. Implement your idea and prepare the required plots to visualize the clusters.\n",
        "\n"
      ]
    },
    {
      "cell_type": "code",
      "metadata": {
        "colab": {
          "base_uri": "https://localhost:8080/",
          "height": 282
        },
        "id": "Reoox5qjIAaC",
        "outputId": "1b9fc015-b3cd-4aa9-daff-ef29aa9c4951"
      },
      "source": [
        " import seaborn as sns\n",
        " sns.scatterplot(x=X[:,0],y=X[:,1],hue=km_result.labels_, palette=['navy','red','magenta','lime','orange'])"
      ],
      "execution_count": null,
      "outputs": [
        {
          "output_type": "execute_result",
          "data": {
            "text/plain": [
              "<matplotlib.axes._subplots.AxesSubplot at 0x7f767afbe6d0>"
            ]
          },
          "metadata": {},
          "execution_count": 46
        },
        {
          "output_type": "display_data",
          "data": {
            "image/png": "[encoded data removed]",
            "text/plain": [
              "<Figure size 432x288 with 1 Axes>"
            ]
          },
          "metadata": {
            "needs_background": "light"
          }
        }
      ]
    },
    {
      "cell_type": "code",
      "metadata": {
        "colab": {
          "base_uri": "https://localhost:8080/"
        },
        "id": "2D5c2piIICbA",
        "outputId": "46d17678-034b-4634-df29-035a8988b0ea"
      },
      "source": [
        "#what are the centers of the clusters?\n",
        "km_result.cluster_centers_"
      ],
      "execution_count": null,
      "outputs": [
        {
          "output_type": "execute_result",
          "data": {
            "text/plain": [
              "array([[173.57421875, 159.28515625, 120.7734375 , 192.0234375 ,\n",
              "        128.03515625, 143.55078125, 125.87890625, 113.8828125 ,\n",
              "        137.0390625 , 133.05078125, 186.15625   , 151.421875  ,\n",
              "        138.7109375 , 102.78515625, 143.171875  , 146.07421875,\n",
              "        143.8828125 , 140.7109375 , 134.62109375, 116.53125   ,\n",
              "        107.03125   ,  77.125     , 134.61328125,  97.06640625,\n",
              "        164.09375   , 136.20703125, 110.47265625,  95.42578125,\n",
              "        103.52734375, 165.0546875 , 113.91796875,  81.65234375,\n",
              "        140.3671875 , 136.7109375 , 149.86328125,  52.8359375 ,\n",
              "         88.20703125, 139.5703125 ,  94.        ,  74.8203125 ,\n",
              "        137.015625  , 133.4453125 , 180.9765625 , 113.9921875 ,\n",
              "        175.76171875, 111.0234375 , 144.42578125, 177.78125   ,\n",
              "        146.203125  , 165.71484375, 165.8671875 ,  90.11328125,\n",
              "        138.85546875,  97.03125   ,  73.33203125, 135.99609375,\n",
              "         78.01953125,  54.15234375, 120.15625   , 160.0390625 ,\n",
              "        136.3984375 ,  78.9921875 , 150.6484375 , 156.2109375 ],\n",
              "       [188.3515625 , 121.78125   , 121.7734375 , 190.3515625 ,\n",
              "        111.4296875 , 153.265625  ,  95.90625   , 156.8984375 ,\n",
              "         40.0703125 ,  49.3125    , 193.703125  , 172.1953125 ,\n",
              "        127.890625  , 172.015625  , 161.34375   , 143.9140625 ,\n",
              "        165.2265625 , 103.8359375 ,  97.8515625 , 165.2109375 ,\n",
              "         68.9609375 , 185.796875  ,  90.1640625 , 123.2265625 ,\n",
              "        124.859375  , 140.0078125 , 124.3359375 , 172.0546875 ,\n",
              "         69.9296875 , 129.1640625 , 140.734375  ,  34.4921875 ,\n",
              "        125.8203125 , 173.6171875 , 148.921875  , 106.390625  ,\n",
              "         69.109375  , 104.5859375 , 171.1953125 , 155.7109375 ,\n",
              "        132.5234375 , 176.1015625 , 197.34375   , 177.109375  ,\n",
              "         92.15625   , 103.2265625 , 200.25      ,  93.578125  ,\n",
              "        184.90625   , 136.265625  , 190.140625  , 145.4921875 ,\n",
              "        187.0703125 , 184.5       , 141.2265625 , 212.140625  ,\n",
              "         59.203125  , 154.8125    , 157.65625   , 123.5546875 ,\n",
              "         78.078125  , 178.5       , 152.2265625 , 129.9765625 ],\n",
              "       [192.81770833,  62.79166667, 149.85416667, 144.71354167,\n",
              "        139.625     ,  62.34895833, 142.515625  ,  84.953125  ,\n",
              "        100.703125  ,  70.14583333, 144.734375  ,  52.875     ,\n",
              "        169.453125  ,  44.60416667,  98.34375   , 175.109375  ,\n",
              "        174.875     , 140.9375    , 156.4375    ,  80.265625  ,\n",
              "        159.03645833, 117.75      , 132.21875   , 175.265625  ,\n",
              "         94.09895833, 151.609375  , 154.99479167, 142.40625   ,\n",
              "        192.94270833, 172.21875   , 105.234375  , 181.13020833,\n",
              "        157.55729167, 147.91145833,  84.04166667, 142.55729167,\n",
              "        102.13541667, 112.33854167, 118.18229167,  66.96875   ,\n",
              "         96.375     , 150.84895833, 155.69270833,  95.296875  ,\n",
              "         88.94270833, 170.25      ,  88.97395833, 131.31770833,\n",
              "         84.171875  , 144.296875  , 140.546875  ,  89.77604167,\n",
              "        170.16145833, 111.828125  , 182.8125    ,  95.19270833,\n",
              "         95.203125  ,  99.25520833, 109.15104167,  90.46875   ,\n",
              "         68.94270833, 121.38020833, 145.765625  , 109.83854167],\n",
              "       [166.43125   , 119.803125  , 118.05      , 145.915625  ,\n",
              "         99.5375    , 145.58125   , 118.215625  , 164.159375  ,\n",
              "        159.896875  , 129.646875  , 112.7375    ,  67.54375   ,\n",
              "        120.0375    ,  97.015625  , 148.6375    , 149.50625   ,\n",
              "         92.28125   , 136.81875   , 143.11875   , 109.290625  ,\n",
              "        174.2       ,  79.65      , 151.03125   , 176.134375  ,\n",
              "        115.1125    , 123.390625  , 159.81875   , 124.259375  ,\n",
              "        140.521875  , 161.35      , 152.1       , 124.51875   ,\n",
              "         93.971875  , 144.86875   , 115.175     ,  72.425     ,\n",
              "        142.48125   , 176.721875  , 123.990625  , 141.3375    ,\n",
              "         98.546875  , 134.0625    ,  87.86875   , 145.99375   ,\n",
              "        114.140625  ,  76.653125  , 161.11875   , 126.115625  ,\n",
              "        132.496875  , 130.840625  , 114.9875    , 108.93125   ,\n",
              "         89.596875  , 104.053125  ,  96.784375  ,  69.2125    ,\n",
              "        121.303125  , 184.859375  , 137.640625  , 109.7625    ,\n",
              "        106.371875  , 154.8375    , 139.471875  ,  85.446875  ],\n",
              "       [171.953125  , 204.609375  , 158.390625  , 132.1328125 ,\n",
              "         96.7734375 , 168.296875  , 143.4765625 , 132.8515625 ,\n",
              "        157.0390625 ,  75.7578125 , 149.7109375 , 155.546875  ,\n",
              "        108.8046875 , 131.0390625 , 114.4765625 , 170.8046875 ,\n",
              "        156.9921875 , 184.6015625 , 138.5078125 , 161.78125   ,\n",
              "        131.578125  , 189.1953125 ,  88.5625    , 179.5703125 ,\n",
              "        123.421875  ,  97.3984375 ,  84.390625  , 187.546875  ,\n",
              "         73.3671875 ,  98.84375   , 147.1796875 ,  76.8125    ,\n",
              "        110.40625   , 187.90625   , 173.671875  , 129.9921875 ,\n",
              "        114.8671875 , 173.6640625 , 105.09375   , 112.765625  ,\n",
              "         89.6484375 ,  54.5859375 ,  55.5390625 ,  99.953125  ,\n",
              "        160.859375  ,  54.984375  ,  68.6953125 ,  93.671875  ,\n",
              "        126.4921875 , 206.7890625 , 139.6875    ,  96.890625  ,\n",
              "        143.9140625 , 132.6171875 ,  71.3359375 , 171.75      ,\n",
              "        183.765625  ,  79.65625   , 130.4609375 ,  47.8046875 ,\n",
              "         37.6796875 , 182.4609375 , 120.1015625 ,  83.046875  ]])"
            ]
          },
          "metadata": {},
          "execution_count": 47
        }
      ]
    },
    {
      "cell_type": "markdown",
      "metadata": {
        "id": "rr33E87CKQOX"
      },
      "source": [
        "Ex 3.5 \\\\\n",
        "Plot the cluster centers in the plots thus prepared.\n"
      ]
    },
    {
      "cell_type": "code",
      "metadata": {
        "colab": {
          "base_uri": "https://localhost:8080/",
          "height": 282
        },
        "id": "QinkhB9aIlio",
        "outputId": "8ac16b03-77af-4b9c-ec03-e4f1a1030d77"
      },
      "source": [
        "#plot these centers in the cluster plot\n",
        "import matplotlib.pyplot as plt\n",
        "sns.scatterplot(x=X[:,0],y=X[:,1],hue=km_result.labels_, palette=['navy','red','magenta','lime','orange'])\n",
        "plt.scatter(x=km_result.cluster_centers_[:,0],y=km_result.cluster_centers_[:,1],color='black',marker=\"D\", s=34)"
      ],
      "execution_count": null,
      "outputs": [
        {
          "output_type": "execute_result",
          "data": {
            "text/plain": [
              "<matplotlib.collections.PathCollection at 0x7f767aba0f50>"
            ]
          },
          "metadata": {},
          "execution_count": 48
        },
        {
          "output_type": "display_data",
          "data": {
            "image/png": "[encoded data removed]",
            "text/plain": [
              "<Figure size 432x288 with 1 Axes>"
            ]
          },
          "metadata": {
            "needs_background": "light"
          }
        }
      ]
    }
  ]
}