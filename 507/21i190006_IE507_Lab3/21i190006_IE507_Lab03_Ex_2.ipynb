{
  "nbformat": 4,
  "nbformat_minor": 0,
  "metadata": {
    "colab": {
      "name": "21i190006_IE507_Lab03_Ex_2.ipynb",
      "provenance": [],
      "collapsed_sections": []
    },
    "kernelspec": {
      "name": "python3",
      "display_name": "Python 3"
    },
    "language_info": {
      "name": "python"
    }
  },
  "cells": [
    {
      "cell_type": "markdown",
      "metadata": {
        "id": "tyWTEGUTZPHi"
      },
      "source": [
        "**Exercise 2 :**"
      ]
    },
    {
      "cell_type": "markdown",
      "metadata": {
        "id": "b54H-MljC3N4"
      },
      "source": [
        "Let $ c_i$ denotes the credit of course $C_i$ . \\\n",
        "Then set of credits of the courses will be S = {[3,2,6,5,5,4,6,8,8,5,4]}\n",
        "And let $x_i$ is the decision variable denoting whether we choose course $C_i$ or not.\\\n",
        "let $ x_i=\n",
        "  \\begin{cases}\n",
        "                                   0 & \\text{if student doesn't take Ci course} \\\\\n",
        "                                   1 & \\text{if student take Ci course} \n",
        "  \\end{cases} $"
      ]
    },
    {
      "cell_type": "markdown",
      "metadata": {
        "id": "llw910TfaSWa"
      },
      "source": [
        "Now the model will become as following: \\\\\n",
        "$ \\ max. \\ \\sum_{i=0}^{10}c_i.x_i \\\\\n",
        " s.t. \\sum_{i=0}^{10}c_i.x_i \\geq 30;\\\\\n",
        " 5 \\leq \\sum_{i=0}^{10}x_i \\leq 9;\\\\ x_2+x_7 \\leq 1;\\\\x_4+x_9 \\leq 1 ;\\\\x_2+x_8 \\leq 1;\\\\ x_{10}-x_0 \\leq 0;\\\\1 \\leq x_0+x_1+x_2 \\leq 2;\\\\x_5+x_6 \\leq 1;\\\\x_3+x_6+x_9 \\leq 2 $"
      ]
    },
    {
      "cell_type": "markdown",
      "metadata": {
        "id": "RJkf_gpSecfq"
      },
      "source": [
        "So Here each decision variable is an integer and is a binary variable."
      ]
    },
    {
      "cell_type": "code",
      "metadata": {
        "id": "VEiQAwzrfukE"
      },
      "source": [
        "!pip install -q pyomo"
      ],
      "execution_count": null,
      "outputs": []
    },
    {
      "cell_type": "code",
      "metadata": {
        "id": "EXgsBH7vRTZY"
      },
      "source": [
        "from pyomo.environ import *"
      ],
      "execution_count": null,
      "outputs": []
    },
    {
      "cell_type": "code",
      "metadata": {
        "id": "jL-__JQ6f8Yo"
      },
      "source": [
        "import numpy as np"
      ],
      "execution_count": null,
      "outputs": []
    },
    {
      "cell_type": "code",
      "metadata": {
        "id": "2kz8XOXpCLCX"
      },
      "source": [
        "model =  ConcreteModel()"
      ],
      "execution_count": null,
      "outputs": []
    },
    {
      "cell_type": "code",
      "metadata": {
        "id": "tIQ7iVczgA2F"
      },
      "source": [
        "model.constraints = ConstraintList()"
      ],
      "execution_count": null,
      "outputs": []
    },
    {
      "cell_type": "code",
      "metadata": {
        "id": "A8OD5xRxgQbe"
      },
      "source": [
        "#Decision variables\n",
        "N = 11"
      ],
      "execution_count": null,
      "outputs": []
    },
    {
      "cell_type": "code",
      "metadata": {
        "id": "0yaJKe3zM19w"
      },
      "source": [
        "#constraints without considering the bound constraints \n",
        "M = 11"
      ],
      "execution_count": null,
      "outputs": []
    },
    {
      "cell_type": "code",
      "metadata": {
        "id": "sAvVxFbICN2W"
      },
      "source": [
        "#Coefficients of objective function\n",
        "obj_coef_c = np.array([3,2,6,5,5,4,6,8,8,5,4])"
      ],
      "execution_count": null,
      "outputs": []
    },
    {
      "cell_type": "code",
      "metadata": {
        "colab": {
          "base_uri": "https://localhost:8080/"
        },
        "id": "P9PN4CsY_il-",
        "outputId": "e68ebdb6-a84e-477d-8f49-764f179589f8"
      },
      "source": [
        "column_indices = np.arange(N)\n",
        "print(column_indices)\n",
        "model.x = Var(column_indices , domain =Binary)"
      ],
      "execution_count": null,
      "outputs": [
        {
          "output_type": "stream",
          "name": "stdout",
          "text": [
            "[ 0  1  2  3  4  5  6  7  8  9 10]\n"
          ]
        }
      ]
    },
    {
      "cell_type": "code",
      "metadata": {
        "colab": {
          "base_uri": "https://localhost:8080/"
        },
        "id": "5zS4334mg_c_",
        "outputId": "b552c5af-3d21-4af6-9387-745d2e0c0783"
      },
      "source": [
        "row_indices = np.arange(M)\n",
        "print(row_indices)"
      ],
      "execution_count": null,
      "outputs": [
        {
          "output_type": "stream",
          "name": "stdout",
          "text": [
            "[ 0  1  2  3  4  5  6  7  8  9 10]\n"
          ]
        }
      ]
    },
    {
      "cell_type": "code",
      "metadata": {
        "id": "hG7OsHXbiS3Q"
      },
      "source": [
        "constr_rhs_b = ([-30,-5,9,1,1,1,0,-1,2,1,2])\n",
        "constr_coef_A = ([[-3,-2,-6,-5,-5,-4,-6,-8,-8,-5,-4],[-1,-1,-1,-1,-1,-1,-1,-1,-1,-1,-1],[1,1,1,1,1,1,1,1,1,1,1],[0,0,1,0,0,0,0,1,0,0,0],[0,0,0,0,1,0,0,0,0,1,0],[0,0,1,0,0,0,0,0,1,0,0],[-1,0,0,0,0,0,0,0,0,0,1],[-1,-1,-1,0,0,0,0,0,0,0,0],[1,1,1,0,0,0,0,0,0,0,0],[0,0,0,0,0,1,1,0,0,0,0],[0,0,0,1,0,0,1,0,0,1,0]])"
      ],
      "execution_count": null,
      "outputs": []
    },
    {
      "cell_type": "code",
      "metadata": {
        "id": "FkfO4R3vnyXX"
      },
      "source": [
        "for i in row_indices:\n",
        "  model.constraints.add(sum(constr_coef_A[i][j]*model.x[j] for j in column_indices) <= constr_rhs_b[i])\n"
      ],
      "execution_count": null,
      "outputs": []
    },
    {
      "cell_type": "code",
      "metadata": {
        "id": "IYf5LrihqEMn"
      },
      "source": [
        "model.objective = Objective(expr = sum(obj_coef_c[i]*model.x[i] for i in column_indices),sense = maximize)"
      ],
      "execution_count": null,
      "outputs": []
    },
    {
      "cell_type": "code",
      "metadata": {
        "colab": {
          "base_uri": "https://localhost:8080/"
        },
        "id": "GZxdWgXIqq0k",
        "outputId": "f5bc91d9-984e-4c03-eec6-57cbb49b3448"
      },
      "source": [
        "model.pprint()"
      ],
      "execution_count": null,
      "outputs": [
        {
          "output_type": "stream",
          "name": "stdout",
          "text": [
            "2 Set Declarations\n",
            "    constraints_index : Size=1, Index=None, Ordered=Insertion\n",
            "        Key  : Dimen : Domain : Size : Members\n",
            "        None :     1 :    Any :   11 : {1, 2, 3, 4, 5, 6, 7, 8, 9, 10, 11}\n",
            "    x_index : Size=1, Index=None, Ordered=False\n",
            "        Key  : Dimen : Domain : Size : Members\n",
            "        None :     1 :    Any :   11 : {0, 1, 2, 3, 4, 5, 6, 7, 8, 9, 10}\n",
            "\n",
            "1 Var Declarations\n",
            "    x : Size=11, Index=x_index\n",
            "        Key : Lower : Value : Upper : Fixed : Stale : Domain\n",
            "          0 :     0 :  None :     1 : False :  True : Binary\n",
            "          1 :     0 :  None :     1 : False :  True : Binary\n",
            "          2 :     0 :  None :     1 : False :  True : Binary\n",
            "          3 :     0 :  None :     1 : False :  True : Binary\n",
            "          4 :     0 :  None :     1 : False :  True : Binary\n",
            "          5 :     0 :  None :     1 : False :  True : Binary\n",
            "          6 :     0 :  None :     1 : False :  True : Binary\n",
            "          7 :     0 :  None :     1 : False :  True : Binary\n",
            "          8 :     0 :  None :     1 : False :  True : Binary\n",
            "          9 :     0 :  None :     1 : False :  True : Binary\n",
            "         10 :     0 :  None :     1 : False :  True : Binary\n",
            "\n",
            "1 Objective Declarations\n",
            "    objective : Size=1, Index=None, Active=True\n",
            "        Key  : Active : Sense    : Expression\n",
            "        None :   True : maximize : 3*x[0] + 2*x[1] + 6*x[2] + 5*x[3] + 5*x[4] + 4*x[5] + 6*x[6] + 8*x[7] + 8*x[8] + 5*x[9] + 4*x[10]\n",
            "\n",
            "1 Constraint Declarations\n",
            "    constraints : Size=11, Index=constraints_index, Active=True\n",
            "        Key : Lower : Body                                                                                               : Upper : Active\n",
            "          1 :  -Inf : -3*x[0] - 2*x[1] - 6*x[2] - 5*x[3] - 5*x[4] - 4*x[5] - 6*x[6] - 8*x[7] - 8*x[8] - 5*x[9] - 4*x[10] : -30.0 :   True\n",
            "          2 :  -Inf :                      - x[0] - x[1] - x[2] - x[3] - x[4] - x[5] - x[6] - x[7] - x[8] - x[9] - x[10] :  -5.0 :   True\n",
            "          3 :  -Inf :                        x[0] + x[1] + x[2] + x[3] + x[4] + x[5] + x[6] + x[7] + x[8] + x[9] + x[10] :   9.0 :   True\n",
            "          4 :  -Inf :                                                                                        x[2] + x[7] :   1.0 :   True\n",
            "          5 :  -Inf :                                                                                        x[4] + x[9] :   1.0 :   True\n",
            "          6 :  -Inf :                                                                                        x[2] + x[8] :   1.0 :   True\n",
            "          7 :  -Inf :                                                                                     - x[0] + x[10] :   0.0 :   True\n",
            "          8 :  -Inf :                                                                               - x[0] - x[1] - x[2] :  -1.0 :   True\n",
            "          9 :  -Inf :                                                                                 x[0] + x[1] + x[2] :   2.0 :   True\n",
            "         10 :  -Inf :                                                                                        x[5] + x[6] :   1.0 :   True\n",
            "         11 :  -Inf :                                                                                 x[3] + x[6] + x[9] :   2.0 :   True\n",
            "\n",
            "5 Declarations: constraints_index constraints x_index x objective\n"
          ]
        }
      ]
    },
    {
      "cell_type": "code",
      "metadata": {
        "id": "AIwVpFEFzUmd"
      },
      "source": [
        "!apt-get install -y -qq coinor-cbc"
      ],
      "execution_count": null,
      "outputs": []
    },
    {
      "cell_type": "code",
      "metadata": {
        "id": "unODNuGEzgQP"
      },
      "source": [
        "opt_cbc = SolverFactory('cbc')"
      ],
      "execution_count": null,
      "outputs": []
    },
    {
      "cell_type": "code",
      "metadata": {
        "colab": {
          "base_uri": "https://localhost:8080/"
        },
        "id": "-KxNngCMzj9l",
        "outputId": "9cce7786-7150-4854-9be4-85c171557f5c"
      },
      "source": [
        "result = opt_cbc.solve(model)\n",
        "print(result)\n",
        "print('The status of Solver is :', result.solver.status)\n",
        "print('The Solver termination condition is :',result.solver.termination_condition)\n",
        "print('The Solver time:',result.solver.time)"
      ],
      "execution_count": null,
      "outputs": [
        {
          "output_type": "stream",
          "name": "stdout",
          "text": [
            "\n",
            "Problem: \n",
            "- Name: unknown\n",
            "  Lower bound: 41.0\n",
            "  Upper bound: 41.0\n",
            "  Number of objectives: 1\n",
            "  Number of constraints: 11\n",
            "  Number of variables: 11\n",
            "  Number of binary variables: 11\n",
            "  Number of integer variables: 11\n",
            "  Number of nonzeros: 11\n",
            "  Sense: maximize\n",
            "Solver: \n",
            "- Status: ok\n",
            "  User time: -1.0\n",
            "  System time: 0.0\n",
            "  Wallclock time: 0.0\n",
            "  Termination condition: optimal\n",
            "  Termination message: Model was solved to optimality (subject to tolerances), and an optimal solution is available.\n",
            "  Statistics: \n",
            "    Branch and bound: \n",
            "      Number of bounded subproblems: 0\n",
            "      Number of created subproblems: 0\n",
            "    Black box: \n",
            "      Number of iterations: 0\n",
            "  Error rc: 0\n",
            "  Time: 0.018290042877197266\n",
            "Solution: \n",
            "- number of solutions: 0\n",
            "  number of solutions displayed: 0\n",
            "\n",
            "The status of Solver is : ok\n",
            "The Solver termination condition is : optimal\n",
            "The Solver time: 0.018290042877197266\n"
          ]
        }
      ]
    },
    {
      "cell_type": "code",
      "metadata": {
        "colab": {
          "base_uri": "https://localhost:8080/"
        },
        "id": "AL4M-Ojb0kyW",
        "outputId": "99c73e3a-d9b3-477d-8e17-58f9f3235cdc"
      },
      "source": [
        "print(\"Objective function value: \",model.objective())\n",
        "print(\"Optimal values of decision variables: \")\n",
        "for i in column_indices :\n",
        "  print(\"value of x[\",i,\"] = \",model.x[i].value)"
      ],
      "execution_count": null,
      "outputs": [
        {
          "output_type": "stream",
          "name": "stdout",
          "text": [
            "Objective function value:  41.0\n",
            "Optimal values of decision variables: \n",
            "value of x[ 0 ] =  1.0\n",
            "value of x[ 1 ] =  1.0\n",
            "value of x[ 2 ] =  0.0\n",
            "value of x[ 3 ] =  1.0\n",
            "value of x[ 4 ] =  1.0\n",
            "value of x[ 5 ] =  0.0\n",
            "value of x[ 6 ] =  1.0\n",
            "value of x[ 7 ] =  1.0\n",
            "value of x[ 8 ] =  1.0\n",
            "value of x[ 9 ] =  0.0\n",
            "value of x[ 10 ] =  1.0\n"
          ]
        }
      ]
    },
    {
      "cell_type": "markdown",
      "metadata": {
        "id": "AGr6w8aI2R_h"
      },
      "source": [
        "(4):\n",
        "Now we will take the decision variables as real numbers and try the above model.\\\n",
        "xn(i) stands for new x(i) with domain reals."
      ]
    },
    {
      "cell_type": "code",
      "metadata": {
        "id": "c4_gEzOH1A8B"
      },
      "source": [
        "model_r =  ConcreteModel()\n",
        "model_r.constraint = ConstraintList()"
      ],
      "execution_count": null,
      "outputs": []
    },
    {
      "cell_type": "code",
      "metadata": {
        "id": "AgL6xkvr1xdt"
      },
      "source": [
        "lower_bound = ([0,0,0,0,0,0,0,0,0,0,0])\n",
        "upper_bound = ([1,1,1,1,1,1,1,1,1,1,1])\n",
        "model_r.xn = Var(column_indices,domain = Reals)\n",
        "for j in column_indices:\n",
        "  model_r.xn[j].setlb(lower_bound[j])\n",
        "  model_r.xn[j].setub(upper_bound[j])"
      ],
      "execution_count": null,
      "outputs": []
    },
    {
      "cell_type": "code",
      "metadata": {
        "id": "BUYhOWvr31B-"
      },
      "source": [
        "for i in row_indices:\n",
        "  model_r.constraint.add(sum(constr_coef_A[i][j]*model_r.xn[j] for j in column_indices) <= constr_rhs_b[i])"
      ],
      "execution_count": null,
      "outputs": []
    },
    {
      "cell_type": "code",
      "metadata": {
        "id": "Xo50ya6HD7B8"
      },
      "source": [
        "model_r.objective = Objective(expr = sum(obj_coef_c[i]*model_r.xn[i] for i in column_indices),sense = maximize)"
      ],
      "execution_count": null,
      "outputs": []
    },
    {
      "cell_type": "code",
      "metadata": {
        "colab": {
          "base_uri": "https://localhost:8080/"
        },
        "id": "NStCtR_v-evf",
        "outputId": "1a8fa145-89ae-425d-e16f-01c6d145d043"
      },
      "source": [
        "model_r.pprint()"
      ],
      "execution_count": null,
      "outputs": [
        {
          "output_type": "stream",
          "name": "stdout",
          "text": [
            "2 Set Declarations\n",
            "    constraint_index : Size=1, Index=None, Ordered=Insertion\n",
            "        Key  : Dimen : Domain : Size : Members\n",
            "        None :     1 :    Any :   11 : {1, 2, 3, 4, 5, 6, 7, 8, 9, 10, 11}\n",
            "    xn_index : Size=1, Index=None, Ordered=False\n",
            "        Key  : Dimen : Domain : Size : Members\n",
            "        None :     1 :    Any :   11 : {0, 1, 2, 3, 4, 5, 6, 7, 8, 9, 10}\n",
            "\n",
            "1 Var Declarations\n",
            "    xn : Size=11, Index=xn_index\n",
            "        Key : Lower : Value : Upper : Fixed : Stale : Domain\n",
            "          0 :     0 :  None :     1 : False :  True :  Reals\n",
            "          1 :     0 :  None :     1 : False :  True :  Reals\n",
            "          2 :     0 :  None :     1 : False :  True :  Reals\n",
            "          3 :     0 :  None :     1 : False :  True :  Reals\n",
            "          4 :     0 :  None :     1 : False :  True :  Reals\n",
            "          5 :     0 :  None :     1 : False :  True :  Reals\n",
            "          6 :     0 :  None :     1 : False :  True :  Reals\n",
            "          7 :     0 :  None :     1 : False :  True :  Reals\n",
            "          8 :     0 :  None :     1 : False :  True :  Reals\n",
            "          9 :     0 :  None :     1 : False :  True :  Reals\n",
            "         10 :     0 :  None :     1 : False :  True :  Reals\n",
            "\n",
            "1 Objective Declarations\n",
            "    objective : Size=1, Index=None, Active=True\n",
            "        Key  : Active : Sense    : Expression\n",
            "        None :   True : maximize : 3*xn[0] + 2*xn[1] + 6*xn[2] + 5*xn[3] + 5*xn[4] + 4*xn[5] + 6*xn[6] + 8*xn[7] + 8*xn[8] + 5*xn[9] + 4*xn[10]\n",
            "\n",
            "1 Constraint Declarations\n",
            "    constraint : Size=11, Index=constraint_index, Active=True\n",
            "        Key : Lower : Body                                                                                                          : Upper : Active\n",
            "          1 :  -Inf : -3*xn[0] - 2*xn[1] - 6*xn[2] - 5*xn[3] - 5*xn[4] - 4*xn[5] - 6*xn[6] - 8*xn[7] - 8*xn[8] - 5*xn[9] - 4*xn[10] : -30.0 :   True\n",
            "          2 :  -Inf :                      - xn[0] - xn[1] - xn[2] - xn[3] - xn[4] - xn[5] - xn[6] - xn[7] - xn[8] - xn[9] - xn[10] :  -5.0 :   True\n",
            "          3 :  -Inf :                        xn[0] + xn[1] + xn[2] + xn[3] + xn[4] + xn[5] + xn[6] + xn[7] + xn[8] + xn[9] + xn[10] :   9.0 :   True\n",
            "          4 :  -Inf :                                                                                                 xn[2] + xn[7] :   1.0 :   True\n",
            "          5 :  -Inf :                                                                                                 xn[4] + xn[9] :   1.0 :   True\n",
            "          6 :  -Inf :                                                                                                 xn[2] + xn[8] :   1.0 :   True\n",
            "          7 :  -Inf :                                                                                              - xn[0] + xn[10] :   0.0 :   True\n",
            "          8 :  -Inf :                                                                                       - xn[0] - xn[1] - xn[2] :  -1.0 :   True\n",
            "          9 :  -Inf :                                                                                         xn[0] + xn[1] + xn[2] :   2.0 :   True\n",
            "         10 :  -Inf :                                                                                                 xn[5] + xn[6] :   1.0 :   True\n",
            "         11 :  -Inf :                                                                                         xn[3] + xn[6] + xn[9] :   2.0 :   True\n",
            "\n",
            "5 Declarations: constraint_index constraint xn_index xn objective\n"
          ]
        }
      ]
    },
    {
      "cell_type": "code",
      "metadata": {
        "id": "UEg1bv3a-hth"
      },
      "source": [
        "opt_cbc = SolverFactory('cbc')"
      ],
      "execution_count": null,
      "outputs": []
    },
    {
      "cell_type": "code",
      "metadata": {
        "colab": {
          "base_uri": "https://localhost:8080/"
        },
        "id": "x2S9lm6o205R",
        "outputId": "ea3d88dc-afe8-4915-88bd-4bc6f550c68a"
      },
      "source": [
        "result = opt_cbc.solve(model_r)\n",
        "print(result)\n",
        "print('The Solver status:', result.solver.status)\n",
        "print('The Solver termination condition:',result.solver.termination_condition)\n",
        "print('The Solver time:',result.solver.time)"
      ],
      "execution_count": null,
      "outputs": [
        {
          "output_type": "stream",
          "name": "stdout",
          "text": [
            "\n",
            "Problem: \n",
            "- Name: unknown\n",
            "  Lower bound: 41.0\n",
            "  Upper bound: 41.0\n",
            "  Number of objectives: 1\n",
            "  Number of constraints: 12\n",
            "  Number of variables: 12\n",
            "  Number of nonzeros: 11\n",
            "  Sense: maximize\n",
            "Solver: \n",
            "- Status: ok\n",
            "  User time: -1.0\n",
            "  System time: 0.0\n",
            "  Wallclock time: 0.0\n",
            "  Termination condition: optimal\n",
            "  Termination message: Model was solved to optimality (subject to tolerances), and an optimal solution is available.\n",
            "  Statistics: \n",
            "    Branch and bound: \n",
            "      Number of bounded subproblems: None\n",
            "      Number of created subproblems: None\n",
            "    Black box: \n",
            "      Number of iterations: 5\n",
            "  Error rc: 0\n",
            "  Time: 0.021785497665405273\n",
            "Solution: \n",
            "- number of solutions: 0\n",
            "  number of solutions displayed: 0\n",
            "\n",
            "The Solver status: ok\n",
            "The Solver termination condition: optimal\n",
            "The Solver time: 0.021785497665405273\n"
          ]
        }
      ]
    },
    {
      "cell_type": "code",
      "metadata": {
        "colab": {
          "base_uri": "https://localhost:8080/"
        },
        "id": "ZZ7QKp0S25MB",
        "outputId": "df50f79f-d0b8-4a7d-c550-293e3b77d12f"
      },
      "source": [
        "print(\"After taking all variables with Real domain, the optimal value for objective function is : \",model_r.objective())\n",
        "print(\"Decisions variables are : \")\n",
        "for j in column_indices:\n",
        "  print(\"Value of xn[\",j,\"] = \",model_r.xn[j].value)"
      ],
      "execution_count": null,
      "outputs": [
        {
          "output_type": "stream",
          "name": "stdout",
          "text": [
            "After taking all variables from Reals the optimal value for objective function is :  41.0\n",
            "Decisions variables are : \n",
            "Value of xn[ 0 ] =  1.0\n",
            "Value of xn[ 1 ] =  1.0\n",
            "Value of xn[ 2 ] =  0.0\n",
            "Value of xn[ 3 ] =  1.0\n",
            "Value of xn[ 4 ] =  1.0\n",
            "Value of xn[ 5 ] =  0.0\n",
            "Value of xn[ 6 ] =  1.0\n",
            "Value of xn[ 7 ] =  1.0\n",
            "Value of xn[ 8 ] =  1.0\n",
            "Value of xn[ 9 ] =  0.0\n",
            "Value of xn[ 10 ] =  1.0\n"
          ]
        }
      ]
    },
    {
      "cell_type": "markdown",
      "metadata": {
        "id": "AxVBwfWuEVRe"
      },
      "source": [
        "5. \\\\\n",
        "Can the solution of the MILP be obtained by merely rounding the solution of the LP?\n",
        "Why or why not?"
      ]
    },
    {
      "cell_type": "markdown",
      "metadata": {
        "id": "sH1bia0CEyf_"
      },
      "source": [
        "5. Ans \\\\\n",
        "We will have to check the feasibilty of the solution of LP to original MILP problem because by just rounding off the solution of the LP obtained by relaxing the constraints or  integrality of the decision variables the solution of MILP can not be obtained.For obtaining MILP , LP is feasible and then it will be the optimal solution of the MILP also.Generally, its not true that bye just solving the relaxed LP we can obtain the optimal solution of original MILP.The optimal solution to the LP we got here is also feasible for the original Integer Linear Programming model,so here we can see that by just rounding off the solution of LP we are getting the optimal solution to MILP. "
      ]
    },
    {
      "cell_type": "markdown",
      "metadata": {
        "id": "_2o91cWJGiWE"
      },
      "source": [
        "6.\n",
        "Suppose a new course C11 with 9 credits is introduced, but the course timing for C11\n",
        "overlaps with the course timings of C7, C8, C9, how will you change your model to include\n",
        "this new constraint?"
      ]
    },
    {
      "cell_type": "markdown",
      "metadata": {
        "id": "O_HzHpH9_G3d"
      },
      "source": [
        "6. Ans \\\\\n",
        "The timing of C11 clashes with timings of C7 timing of C8 timing of C9 and the Course C11 has a credit of 9.  \\\n",
        "Now we will include the following constraints in The original model,\\\n",
        "$ x_7+x_{11} \\leq 1;\\\\x_8+x_{11} \\leq 1;\\\\x_9+x_{11} \\leq 1;$\n",
        "\n",
        "\n",
        "and here course C11 has 9 credits,so we will have to make changes in the total credit constraints (Constraint1).Total courses constraints (constraint 2 and constraint 3) and in the objective function also. "
      ]
    },
    {
      "cell_type": "code",
      "metadata": {
        "id": "Kt_Dwk52HjL8"
      },
      "source": [
        "model.x11 = Var(domain = Binary)\n",
        "model.objective.deactivate()"
      ],
      "execution_count": null,
      "outputs": []
    },
    {
      "cell_type": "code",
      "metadata": {
        "id": "QeET-hyWHk4Q"
      },
      "source": [
        "model.new_objective = Objective(expr = model.x11*9 + summation(obj_coef_c,model.x) , sense = maximize)"
      ],
      "execution_count": null,
      "outputs": []
    },
    {
      "cell_type": "code",
      "metadata": {
        "colab": {
          "base_uri": "https://localhost:8080/"
        },
        "id": "BD2UTV4XHn1V",
        "outputId": "f03260a6-14f8-4749-fe57-6e76db46d2fe"
      },
      "source": [
        "model.constraints.add(expr = model.x[7]+model.x11 <=1)\n",
        "model.constraints.add(expr = model.x[8]+model.x11 <=1)\n",
        "model.constraints.add(expr = model.x[9]+model.x11 <=1)"
      ],
      "execution_count": null,
      "outputs": [
        {
          "output_type": "execute_result",
          "data": {
            "text/plain": [
              "<pyomo.core.base.constraint._GeneralConstraintData at 0x7f60be934ad0>"
            ]
          },
          "metadata": {},
          "execution_count": 171
        }
      ]
    },
    {
      "cell_type": "code",
      "metadata": {
        "id": "aIVPnBRLBdIp"
      },
      "source": [
        "for i in range(1,4):\n",
        "  model.constraints[i].deactivate()  "
      ],
      "execution_count": null,
      "outputs": []
    },
    {
      "cell_type": "code",
      "metadata": {
        "colab": {
          "base_uri": "https://localhost:8080/"
        },
        "id": "Ku2NKMr9HsLI",
        "outputId": "7cc5940d-1fff-4b93-b01a-a863a2d82e0b"
      },
      "source": [
        "model.constraints.add(expr = sum(constr_coef_A[0][j]*model.x[j] for j in column_indices) -9*model.x11 <= constr_rhs_b[0])\n",
        "model.constraints.add(expr = sum(constr_coef_A[1][j]*model.x[j] for j in column_indices) -1*model.x11 <= constr_rhs_b[1])\n",
        "model.constraints.add(expr = sum(constr_coef_A[2][j]*model.x[j] for j in column_indices) +1*model.x11 <= constr_rhs_b[2])"
      ],
      "execution_count": null,
      "outputs": [
        {
          "output_type": "execute_result",
          "data": {
            "text/plain": [
              "<pyomo.core.base.constraint._GeneralConstraintData at 0x7f60be9301a0>"
            ]
          },
          "metadata": {},
          "execution_count": 173
        }
      ]
    },
    {
      "cell_type": "code",
      "metadata": {
        "colab": {
          "base_uri": "https://localhost:8080/"
        },
        "id": "IXG1HyZM3gwL",
        "outputId": "098b9f4d-3872-4987-a4b6-3e2c5ae72501"
      },
      "source": [
        "model.pprint()"
      ],
      "execution_count": null,
      "outputs": [
        {
          "output_type": "stream",
          "name": "stdout",
          "text": [
            "2 Set Declarations\n",
            "    constraints_index : Size=1, Index=None, Ordered=Insertion\n",
            "        Key  : Dimen : Domain : Size : Members\n",
            "        None :     1 :    Any :   17 : {1, 2, 3, 4, 5, 6, 7, 8, 9, 10, 11, 12, 13, 14, 15, 16, 17}\n",
            "    x_index : Size=1, Index=None, Ordered=False\n",
            "        Key  : Dimen : Domain : Size : Members\n",
            "        None :     1 :    Any :   11 : {0, 1, 2, 3, 4, 5, 6, 7, 8, 9, 10}\n",
            "\n",
            "2 Var Declarations\n",
            "    x : Size=11, Index=x_index\n",
            "        Key : Lower : Value : Upper : Fixed : Stale : Domain\n",
            "          0 :     0 :   1.0 :     1 : False : False : Binary\n",
            "          1 :     0 :   1.0 :     1 : False : False : Binary\n",
            "          2 :     0 :   0.0 :     1 : False : False : Binary\n",
            "          3 :     0 :   1.0 :     1 : False : False : Binary\n",
            "          4 :     0 :   1.0 :     1 : False : False : Binary\n",
            "          5 :     0 :   0.0 :     1 : False : False : Binary\n",
            "          6 :     0 :   1.0 :     1 : False : False : Binary\n",
            "          7 :     0 :   1.0 :     1 : False : False : Binary\n",
            "          8 :     0 :   1.0 :     1 : False : False : Binary\n",
            "          9 :     0 :   0.0 :     1 : False : False : Binary\n",
            "         10 :     0 :   1.0 :     1 : False : False : Binary\n",
            "    x11 : Size=1, Index=None\n",
            "        Key  : Lower : Value : Upper : Fixed : Stale : Domain\n",
            "        None :     0 :  None :     1 : False :  True : Binary\n",
            "\n",
            "2 Objective Declarations\n",
            "    new_objective : Size=1, Index=None, Active=True\n",
            "        Key  : Active : Sense    : Expression\n",
            "        None :   True : maximize : 9*x11 + (3*x[0] + 2*x[1] + 6*x[2] + 5*x[3] + 5*x[4] + 4*x[5] + 6*x[6] + 8*x[7] + 8*x[8] + 5*x[9] + 4*x[10])\n",
            "    objective : Size=1, Index=None, Active=False\n",
            "        Key  : Active : Sense    : Expression\n",
            "        None :  False : maximize : 3*x[0] + 2*x[1] + 6*x[2] + 5*x[3] + 5*x[4] + 4*x[5] + 6*x[6] + 8*x[7] + 8*x[8] + 5*x[9] + 4*x[10]\n",
            "\n",
            "1 Constraint Declarations\n",
            "    constraints : Size=17, Index=constraints_index, Active=True\n",
            "        Key : Lower : Body                                                                                                       : Upper : Active\n",
            "          1 :  -Inf :         -3*x[0] - 2*x[1] - 6*x[2] - 5*x[3] - 5*x[4] - 4*x[5] - 6*x[6] - 8*x[7] - 8*x[8] - 5*x[9] - 4*x[10] : -30.0 :  False\n",
            "          2 :  -Inf :                              - x[0] - x[1] - x[2] - x[3] - x[4] - x[5] - x[6] - x[7] - x[8] - x[9] - x[10] :  -5.0 :  False\n",
            "          3 :  -Inf :                                x[0] + x[1] + x[2] + x[3] + x[4] + x[5] + x[6] + x[7] + x[8] + x[9] + x[10] :   9.0 :  False\n",
            "          4 :  -Inf :                                                                                                x[2] + x[7] :   1.0 :   True\n",
            "          5 :  -Inf :                                                                                                x[4] + x[9] :   1.0 :   True\n",
            "          6 :  -Inf :                                                                                                x[2] + x[8] :   1.0 :   True\n",
            "          7 :  -Inf :                                                                                             - x[0] + x[10] :   0.0 :   True\n",
            "          8 :  -Inf :                                                                                       - x[0] - x[1] - x[2] :  -1.0 :   True\n",
            "          9 :  -Inf :                                                                                         x[0] + x[1] + x[2] :   2.0 :   True\n",
            "         10 :  -Inf :                                                                                                x[5] + x[6] :   1.0 :   True\n",
            "         11 :  -Inf :                                                                                         x[3] + x[6] + x[9] :   2.0 :   True\n",
            "         12 :  -Inf :                                                                                                 x[7] + x11 :   1.0 :   True\n",
            "         13 :  -Inf :                                                                                                 x[8] + x11 :   1.0 :   True\n",
            "         14 :  -Inf :                                                                                                 x[9] + x11 :   1.0 :   True\n",
            "         15 :  -Inf : -3*x[0] - 2*x[1] - 6*x[2] - 5*x[3] - 5*x[4] - 4*x[5] - 6*x[6] - 8*x[7] - 8*x[8] - 5*x[9] - 4*x[10] - 9*x11 : -30.0 :   True\n",
            "         16 :  -Inf :                        - x[0] - x[1] - x[2] - x[3] - x[4] - x[5] - x[6] - x[7] - x[8] - x[9] - x[10] - x11 :  -5.0 :   True\n",
            "         17 :  -Inf :                          x[0] + x[1] + x[2] + x[3] + x[4] + x[5] + x[6] + x[7] + x[8] + x[9] + x[10] + x11 :   9.0 :   True\n",
            "\n",
            "7 Declarations: constraints_index constraints x_index x objective x11 new_objective\n"
          ]
        }
      ]
    },
    {
      "cell_type": "code",
      "metadata": {
        "colab": {
          "base_uri": "https://localhost:8080/"
        },
        "id": "oRILWlqAJCtH",
        "outputId": "abd5339f-8c22-43ac-e080-d72c301781c8"
      },
      "source": [
        "result = opt_cbc.solve(model)\n",
        "print(result)\n",
        "print('The Solver status:', result.solver.status)\n",
        "print('The Solver termination condition:',result.solver.termination_condition)"
      ],
      "execution_count": null,
      "outputs": [
        {
          "output_type": "stream",
          "name": "stdout",
          "text": [
            "\n",
            "Problem: \n",
            "- Name: unknown\n",
            "  Lower bound: 41.0\n",
            "  Upper bound: 41.0\n",
            "  Number of objectives: 1\n",
            "  Number of constraints: 14\n",
            "  Number of variables: 12\n",
            "  Number of binary variables: 12\n",
            "  Number of integer variables: 12\n",
            "  Number of nonzeros: 12\n",
            "  Sense: maximize\n",
            "Solver: \n",
            "- Status: ok\n",
            "  User time: -1.0\n",
            "  System time: 0.0\n",
            "  Wallclock time: 0.0\n",
            "  Termination condition: optimal\n",
            "  Termination message: Model was solved to optimality (subject to tolerances), and an optimal solution is available.\n",
            "  Statistics: \n",
            "    Branch and bound: \n",
            "      Number of bounded subproblems: 0\n",
            "      Number of created subproblems: 0\n",
            "    Black box: \n",
            "      Number of iterations: 0\n",
            "  Error rc: 0\n",
            "  Time: 0.035390615463256836\n",
            "Solution: \n",
            "- number of solutions: 0\n",
            "  number of solutions displayed: 0\n",
            "\n",
            "The Solver status: ok\n",
            "The Solver termination condition: optimal\n"
          ]
        }
      ]
    },
    {
      "cell_type": "code",
      "metadata": {
        "colab": {
          "base_uri": "https://localhost:8080/"
        },
        "id": "OcqgJ8b0L8tl",
        "outputId": "a833922c-3584-42ba-bb65-9312938a2dc2"
      },
      "source": [
        "print(\"After introducing new course C11 the optimal value of the objective function is : \",model.new_objective())"
      ],
      "execution_count": null,
      "outputs": [
        {
          "output_type": "stream",
          "name": "stdout",
          "text": [
            "After introducing new course C11 the optimal value of the objective function is :  41.0\n"
          ]
        }
      ]
    },
    {
      "cell_type": "code",
      "metadata": {
        "colab": {
          "base_uri": "https://localhost:8080/"
        },
        "id": "lE43rCDVMLt-",
        "outputId": "3024f740-b1ed-4c18-eccb-4d5ac469c82d"
      },
      "source": [
        "print(\"For the new variables the optimal values are: \")\n",
        "for i in column_indices:\n",
        "  print(\"Value of x[\",i,\"] = \",model.x[i].value)\n",
        "print(\"Value of x11 = \",model.x11.value)"
      ],
      "execution_count": null,
      "outputs": [
        {
          "output_type": "stream",
          "name": "stdout",
          "text": [
            "For the new variables the optimal values are: \n",
            "Value of x[ 0 ] =  1.0\n",
            "Value of x[ 1 ] =  1.0\n",
            "Value of x[ 2 ] =  0.0\n",
            "Value of x[ 3 ] =  1.0\n",
            "Value of x[ 4 ] =  1.0\n",
            "Value of x[ 5 ] =  0.0\n",
            "Value of x[ 6 ] =  1.0\n",
            "Value of x[ 7 ] =  1.0\n",
            "Value of x[ 8 ] =  1.0\n",
            "Value of x[ 9 ] =  0.0\n",
            "Value of x[ 10 ] =  1.0\n",
            "Value of x11 =  0.0\n"
          ]
        }
      ]
    },
    {
      "cell_type": "markdown",
      "metadata": {
        "id": "Ts7JjntBIN8I"
      },
      "source": [
        "8. \\\\\n",
        "Solve the modified MILP by removing the integer constraints on the variables and check\n",
        "if the solution of the modified MILP can be obtained by merely rounding the solution of the\n",
        "corresponding modified LP? Explain.\n"
      ]
    },
    {
      "cell_type": "markdown",
      "metadata": {
        "id": "-ZwkkcrKNN-l"
      },
      "source": [
        "8. Ans \\\\\n",
        "On the model_r we will work on the real variables xn(i) and will do the appropriate modifications in that model."
      ]
    },
    {
      "cell_type": "code",
      "metadata": {
        "id": "d4RUn31aVdau"
      },
      "source": [
        "model_r.xn11 = Var(domain = Reals)\n",
        "model_r.objective.deactivate()"
      ],
      "execution_count": null,
      "outputs": []
    },
    {
      "cell_type": "code",
      "metadata": {
        "id": "yUgoAu_2IqVi"
      },
      "source": [
        "model_r.new_objective = Objective(expr = 9*model_r.xn11 + summation(obj_coef_c,model_r.xn) , sense = maximize)\n"
      ],
      "execution_count": null,
      "outputs": []
    },
    {
      "cell_type": "code",
      "metadata": {
        "id": "WNIuovJRNAHA",
        "colab": {
          "base_uri": "https://localhost:8080/"
        },
        "outputId": "57c48c88-b2dd-42d5-cca0-73334406dfb8"
      },
      "source": [
        "#adding and modifying constraints\n",
        "model_r.constraint.add(expr = model_r.xn[7]+model_r.xn11 <=1)\n",
        "model_r.constraint.add(expr = model_r.xn[8]+model_r.xn11 <=1)\n",
        "model_r.constraint.add(expr = model_r.xn[9]+model_r.xn11 <=1)\n",
        "for i in range(1,4):\n",
        "  model_r.constraint[i].deactivate()  #deactivating the first three constraints\n",
        "model_r.constraint.add(expr = sum(constr_coef_A[0][j]*model_r.xn[j] for j in column_indices) -9*model_r.xn11 <= constr_rhs_b[0])\n",
        "model_r.constraint.add(expr = sum(constr_coef_A[1][j]*model_r.xn[j] for j in column_indices) -1*model_r.xn11 <= constr_rhs_b[1])\n",
        "model_r.constraint.add(expr = sum(constr_coef_A[2][j]*model_r.xn[j] for j in column_indices) +1*model_r.xn11 <= constr_rhs_b[2])"
      ],
      "execution_count": null,
      "outputs": [
        {
          "output_type": "execute_result",
          "data": {
            "text/plain": [
              "<pyomo.core.base.constraint._GeneralConstraintData at 0x7f60be969c90>"
            ]
          },
          "metadata": {},
          "execution_count": 180
        }
      ]
    },
    {
      "cell_type": "code",
      "metadata": {
        "id": "bUUx5cj3OBs9",
        "colab": {
          "base_uri": "https://localhost:8080/"
        },
        "outputId": "1141eae6-6d1d-4178-ffa6-ba1c733aa72a"
      },
      "source": [
        "model_r.pprint()"
      ],
      "execution_count": null,
      "outputs": [
        {
          "output_type": "stream",
          "name": "stdout",
          "text": [
            "2 Set Declarations\n",
            "    constraint_index : Size=1, Index=None, Ordered=Insertion\n",
            "        Key  : Dimen : Domain : Size : Members\n",
            "        None :     1 :    Any :   17 : {1, 2, 3, 4, 5, 6, 7, 8, 9, 10, 11, 12, 13, 14, 15, 16, 17}\n",
            "    xn_index : Size=1, Index=None, Ordered=False\n",
            "        Key  : Dimen : Domain : Size : Members\n",
            "        None :     1 :    Any :   11 : {0, 1, 2, 3, 4, 5, 6, 7, 8, 9, 10}\n",
            "\n",
            "2 Var Declarations\n",
            "    xn : Size=11, Index=xn_index\n",
            "        Key : Lower : Value : Upper : Fixed : Stale : Domain\n",
            "          0 :     0 :   1.0 :     1 : False : False :  Reals\n",
            "          1 :     0 :   1.0 :     1 : False : False :  Reals\n",
            "          2 :     0 :   0.0 :     1 : False : False :  Reals\n",
            "          3 :     0 :   1.0 :     1 : False : False :  Reals\n",
            "          4 :     0 :   1.0 :     1 : False : False :  Reals\n",
            "          5 :     0 :   0.0 :     1 : False : False :  Reals\n",
            "          6 :     0 :   1.0 :     1 : False : False :  Reals\n",
            "          7 :     0 :   1.0 :     1 : False : False :  Reals\n",
            "          8 :     0 :   1.0 :     1 : False : False :  Reals\n",
            "          9 :     0 :   0.0 :     1 : False : False :  Reals\n",
            "         10 :     0 :   1.0 :     1 : False : False :  Reals\n",
            "    xn11 : Size=1, Index=None\n",
            "        Key  : Lower : Value : Upper : Fixed : Stale : Domain\n",
            "        None :  None :  None :  None : False :  True :  Reals\n",
            "\n",
            "2 Objective Declarations\n",
            "    new_objective : Size=1, Index=None, Active=True\n",
            "        Key  : Active : Sense    : Expression\n",
            "        None :   True : maximize : 9*xn11 + (3*xn[0] + 2*xn[1] + 6*xn[2] + 5*xn[3] + 5*xn[4] + 4*xn[5] + 6*xn[6] + 8*xn[7] + 8*xn[8] + 5*xn[9] + 4*xn[10])\n",
            "    objective : Size=1, Index=None, Active=False\n",
            "        Key  : Active : Sense    : Expression\n",
            "        None :  False : maximize : 3*xn[0] + 2*xn[1] + 6*xn[2] + 5*xn[3] + 5*xn[4] + 4*xn[5] + 6*xn[6] + 8*xn[7] + 8*xn[8] + 5*xn[9] + 4*xn[10]\n",
            "\n",
            "1 Constraint Declarations\n",
            "    constraint : Size=17, Index=constraint_index, Active=True\n",
            "        Key : Lower : Body                                                                                                                   : Upper : Active\n",
            "          1 :  -Inf :          -3*xn[0] - 2*xn[1] - 6*xn[2] - 5*xn[3] - 5*xn[4] - 4*xn[5] - 6*xn[6] - 8*xn[7] - 8*xn[8] - 5*xn[9] - 4*xn[10] : -30.0 :  False\n",
            "          2 :  -Inf :                               - xn[0] - xn[1] - xn[2] - xn[3] - xn[4] - xn[5] - xn[6] - xn[7] - xn[8] - xn[9] - xn[10] :  -5.0 :  False\n",
            "          3 :  -Inf :                                 xn[0] + xn[1] + xn[2] + xn[3] + xn[4] + xn[5] + xn[6] + xn[7] + xn[8] + xn[9] + xn[10] :   9.0 :  False\n",
            "          4 :  -Inf :                                                                                                          xn[2] + xn[7] :   1.0 :   True\n",
            "          5 :  -Inf :                                                                                                          xn[4] + xn[9] :   1.0 :   True\n",
            "          6 :  -Inf :                                                                                                          xn[2] + xn[8] :   1.0 :   True\n",
            "          7 :  -Inf :                                                                                                       - xn[0] + xn[10] :   0.0 :   True\n",
            "          8 :  -Inf :                                                                                                - xn[0] - xn[1] - xn[2] :  -1.0 :   True\n",
            "          9 :  -Inf :                                                                                                  xn[0] + xn[1] + xn[2] :   2.0 :   True\n",
            "         10 :  -Inf :                                                                                                          xn[5] + xn[6] :   1.0 :   True\n",
            "         11 :  -Inf :                                                                                                  xn[3] + xn[6] + xn[9] :   2.0 :   True\n",
            "         12 :  -Inf :                                                                                                           xn[7] + xn11 :   1.0 :   True\n",
            "         13 :  -Inf :                                                                                                           xn[8] + xn11 :   1.0 :   True\n",
            "         14 :  -Inf :                                                                                                           xn[9] + xn11 :   1.0 :   True\n",
            "         15 :  -Inf : -3*xn[0] - 2*xn[1] - 6*xn[2] - 5*xn[3] - 5*xn[4] - 4*xn[5] - 6*xn[6] - 8*xn[7] - 8*xn[8] - 5*xn[9] - 4*xn[10] - 9*xn11 : -30.0 :   True\n",
            "         16 :  -Inf :                        - xn[0] - xn[1] - xn[2] - xn[3] - xn[4] - xn[5] - xn[6] - xn[7] - xn[8] - xn[9] - xn[10] - xn11 :  -5.0 :   True\n",
            "         17 :  -Inf :                          xn[0] + xn[1] + xn[2] + xn[3] + xn[4] + xn[5] + xn[6] + xn[7] + xn[8] + xn[9] + xn[10] + xn11 :   9.0 :   True\n",
            "\n",
            "7 Declarations: constraint_index constraint xn_index xn objective xn11 new_objective\n"
          ]
        }
      ]
    },
    {
      "cell_type": "code",
      "metadata": {
        "colab": {
          "base_uri": "https://localhost:8080/"
        },
        "id": "I3tTbIpiVytx",
        "outputId": "422d908a-8b0e-4b7c-8ff0-22bd9d8e275a"
      },
      "source": [
        "result = opt_cbc.solve(model_r)\n",
        "print(result)\n",
        "print('The Solver status:', result.solver.status)\n",
        "print('The Solver termination condition:',result.solver.termination_condition)"
      ],
      "execution_count": null,
      "outputs": [
        {
          "output_type": "stream",
          "name": "stdout",
          "text": [
            "\n",
            "Problem: \n",
            "- Name: unknown\n",
            "  Lower bound: 41.0\n",
            "  Upper bound: 41.0\n",
            "  Number of objectives: 1\n",
            "  Number of constraints: 15\n",
            "  Number of variables: 13\n",
            "  Number of nonzeros: 12\n",
            "  Sense: maximize\n",
            "Solver: \n",
            "- Status: ok\n",
            "  User time: -1.0\n",
            "  System time: 0.0\n",
            "  Wallclock time: 0.0\n",
            "  Termination condition: optimal\n",
            "  Termination message: Model was solved to optimality (subject to tolerances), and an optimal solution is available.\n",
            "  Statistics: \n",
            "    Branch and bound: \n",
            "      Number of bounded subproblems: None\n",
            "      Number of created subproblems: None\n",
            "    Black box: \n",
            "      Number of iterations: 9\n",
            "  Error rc: 0\n",
            "  Time: 0.02042984962463379\n",
            "Solution: \n",
            "- number of solutions: 0\n",
            "  number of solutions displayed: 0\n",
            "\n",
            "The Solver status: ok\n",
            "The Solver termination condition: optimal\n"
          ]
        }
      ]
    },
    {
      "cell_type": "code",
      "metadata": {
        "colab": {
          "base_uri": "https://localhost:8080/"
        },
        "id": "_7YHODyqXRYc",
        "outputId": "f1cafa52-c3f8-4fde-d370-8bac2d9280a9"
      },
      "source": [
        "print(\"On removing integrality constraints the value of objective function is : \",model_r.new_objective.expr())\n",
        "print(\"The optimal values of decision variables: \")\n",
        "for i in column_indices:\n",
        "  print(\"Value of xn[\",i,\"] = \",model_r.xn[i].value)\n",
        "print(\"Value of xn11 = \",model_r.xn11.value)"
      ],
      "execution_count": null,
      "outputs": [
        {
          "output_type": "stream",
          "name": "stdout",
          "text": [
            "On removing integrality constraints the value of objective function is :  41.0\n",
            "The optimal values of decision variables: \n",
            "Value of xn[ 0 ] =  1.0\n",
            "Value of xn[ 1 ] =  1.0\n",
            "Value of xn[ 2 ] =  0.0\n",
            "Value of xn[ 3 ] =  1.0\n",
            "Value of xn[ 4 ] =  1.0\n",
            "Value of xn[ 5 ] =  0.0\n",
            "Value of xn[ 6 ] =  1.0\n",
            "Value of xn[ 7 ] =  1.0\n",
            "Value of xn[ 8 ] =  1.0\n",
            "Value of xn[ 9 ] =  0.0\n",
            "Value of xn[ 10 ] =  1.0\n",
            "Value of xn11 =  0.0\n"
          ]
        }
      ]
    },
    {
      "cell_type": "markdown",
      "metadata": {
        "id": "VxEeyB-nJlgA"
      },
      "source": [
        "Here the solution of the modified MILP can be obtained by just rounding off the solution of the corresponding modified LP ,as here we got the same result by modified LP,because the optimal solution of the modified LP is also a feasible solution of the modified MILP. If the optimal solution of the relaxed LP is a feasible solution to MILP then it will also be the optimal solution of the MILP."
      ]
    }
  ]
}