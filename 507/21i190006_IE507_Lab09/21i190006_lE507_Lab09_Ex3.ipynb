{
  "nbformat": 4,
  "nbformat_minor": 0,
  "metadata": {
    "colab": {
      "name": "21i190006_lE507_Lab09_Ex3.ipynb",
      "provenance": [],
      "collapsed_sections": []
    },
    "kernelspec": {
      "name": "python3",
      "display_name": "Python 3"
    },
    "language_info": {
      "name": "python"
    }
  },
  "cells": [
    {
      "cell_type": "markdown",
      "metadata": {
        "id": "G3J-o4LalGeS"
      },
      "source": [
        "Exercise 3 \\\\\n",
        "Regression"
      ]
    },
    {
      "cell_type": "code",
      "metadata": {
        "id": "YFJhKl5QRU_b"
      },
      "source": [
        "#Installing Pyomo\n",
        "!pip install -q pyomo\n",
        "\n",
        "#Importing required packages\n",
        "from pyomo.environ import *\n",
        "import pandas as pd\n",
        "import numpy as np"
      ],
      "execution_count": 207,
      "outputs": []
    },
    {
      "cell_type": "code",
      "metadata": {
        "id": "NUtzbfOq30HP"
      },
      "source": [
        "df = pd.read_csv('Lab_06_data.csv')"
      ],
      "execution_count": 208,
      "outputs": []
    },
    {
      "cell_type": "code",
      "metadata": {
        "id": "Qlw79w_-4etP"
      },
      "source": [
        "#Create model\n",
        "model_ex3 = ConcreteModel()"
      ],
      "execution_count": 209,
      "outputs": []
    },
    {
      "cell_type": "code",
      "metadata": {
        "id": "RUPfOLZA4fg0"
      },
      "source": [
        "#we declare a Python variable N denoting the number of decision variables\n",
        "N = 6\n",
        "# set of column indices for original decision variables\n",
        "column_indices = np.arange(N)\n",
        "model_ex3.a = Var(column_indices, domain=NonNegativeReals)"
      ],
      "execution_count": 210,
      "outputs": []
    },
    {
      "cell_type": "code",
      "metadata": {
        "id": "pBNtB9OT-x09"
      },
      "source": [
        "#we declare a Python variable M denoting the number of constraints\n",
        "M = 12 \n",
        "# set of row indices for original constraints\n",
        "row_indices = np.arange(M)"
      ],
      "execution_count": 211,
      "outputs": []
    },
    {
      "cell_type": "code",
      "metadata": {
        "id": "q73UHMRwiaDs"
      },
      "source": [
        "#Variable declaration"
      ],
      "execution_count": 212,
      "outputs": []
    },
    {
      "cell_type": "code",
      "metadata": {
        "id": "6Y7jD54_CDMC"
      },
      "source": [
        "model_ex3.b0 = Var(domain = NonNegativeReals)"
      ],
      "execution_count": 213,
      "outputs": []
    },
    {
      "cell_type": "code",
      "metadata": {
        "id": "sOSbaE7ZCGZe"
      },
      "source": [
        "model_ex3.b1 = Var()"
      ],
      "execution_count": 214,
      "outputs": []
    },
    {
      "cell_type": "code",
      "metadata": {
        "id": "1NBQ-89MCIKd"
      },
      "source": [
        "model_ex3.b2= Var()"
      ],
      "execution_count": 215,
      "outputs": []
    },
    {
      "cell_type": "code",
      "metadata": {
        "id": "VAW2f-FS7Lds"
      },
      "source": [
        "#y is for deviation\n",
        "model_ex3.y= Var(range(0,6),domain = Reals)"
      ],
      "execution_count": 216,
      "outputs": []
    },
    {
      "cell_type": "code",
      "metadata": {
        "id": "jwxZEQa97acm"
      },
      "source": [
        "#Add Objective\n",
        "model_ex3.obj = Objective(expr=sum(model_ex3.y[i]**2 for i in column_indices),sense=minimize)"
      ],
      "execution_count": 217,
      "outputs": []
    },
    {
      "cell_type": "code",
      "metadata": {
        "id": "bFKffrZ1-UyQ"
      },
      "source": [
        "#Creating Constraintlist\n",
        "model_ex3.constraints = ConstraintList()"
      ],
      "execution_count": 218,
      "outputs": []
    },
    {
      "cell_type": "code",
      "metadata": {
        "id": "Z3u7XnMJ-3kN"
      },
      "source": [
        "for i in column_indices:\n",
        "  model_ex3.constraints.add(expr=((df.iloc[i,1])-(model_ex3.b0)-(df.iloc[i,2]*model_ex3.b1)-(df.iloc[i,3]*model_ex3.b2) == model_ex3.y[i]) )"
      ],
      "execution_count": 219,
      "outputs": []
    },
    {
      "cell_type": "code",
      "metadata": {
        "colab": {
          "base_uri": "https://localhost:8080/"
        },
        "id": "jnLrJnyg-8mp",
        "outputId": "d0461517-29de-42d9-c4f5-3cda861b0a9e"
      },
      "source": [
        "model_ex3.pprint()"
      ],
      "execution_count": 220,
      "outputs": [
        {
          "output_type": "stream",
          "name": "stdout",
          "text": [
            "3 Set Declarations\n",
            "    a_index : Size=1, Index=None, Ordered=False\n",
            "        Key  : Dimen : Domain : Size : Members\n",
            "        None :     1 :    Any :    6 : {0, 1, 2, 3, 4, 5}\n",
            "    constraints_index : Size=1, Index=None, Ordered=Insertion\n",
            "        Key  : Dimen : Domain : Size : Members\n",
            "        None :     1 :    Any :    6 : {1, 2, 3, 4, 5, 6}\n",
            "    y_index : Size=1, Index=None, Ordered=False\n",
            "        Key  : Dimen : Domain : Size : Members\n",
            "        None :     1 :    Any :    6 : {0, 1, 2, 3, 4, 5}\n",
            "\n",
            "5 Var Declarations\n",
            "    a : Size=6, Index=a_index\n",
            "        Key : Lower : Value : Upper : Fixed : Stale : Domain\n",
            "          0 :     0 :  None :  None : False :  True : NonNegativeReals\n",
            "          1 :     0 :  None :  None : False :  True : NonNegativeReals\n",
            "          2 :     0 :  None :  None : False :  True : NonNegativeReals\n",
            "          3 :     0 :  None :  None : False :  True : NonNegativeReals\n",
            "          4 :     0 :  None :  None : False :  True : NonNegativeReals\n",
            "          5 :     0 :  None :  None : False :  True : NonNegativeReals\n",
            "    b0 : Size=1, Index=None\n",
            "        Key  : Lower : Value : Upper : Fixed : Stale : Domain\n",
            "        None :     0 :  None :  None : False :  True : NonNegativeReals\n",
            "    b1 : Size=1, Index=None\n",
            "        Key  : Lower : Value : Upper : Fixed : Stale : Domain\n",
            "        None :  None :  None :  None : False :  True :  Reals\n",
            "    b2 : Size=1, Index=None\n",
            "        Key  : Lower : Value : Upper : Fixed : Stale : Domain\n",
            "        None :  None :  None :  None : False :  True :  Reals\n",
            "    y : Size=6, Index=y_index\n",
            "        Key : Lower : Value : Upper : Fixed : Stale : Domain\n",
            "          0 :  None :  None :  None : False :  True :  Reals\n",
            "          1 :  None :  None :  None : False :  True :  Reals\n",
            "          2 :  None :  None :  None : False :  True :  Reals\n",
            "          3 :  None :  None :  None : False :  True :  Reals\n",
            "          4 :  None :  None :  None : False :  True :  Reals\n",
            "          5 :  None :  None :  None : False :  True :  Reals\n",
            "\n",
            "1 Objective Declarations\n",
            "    obj : Size=1, Index=None, Active=True\n",
            "        Key  : Active : Sense    : Expression\n",
            "        None :   True : minimize : y[0]**2 + y[1]**2 + y[2]**2 + y[3]**2 + y[4]**2 + y[5]**2\n",
            "\n",
            "1 Constraint Declarations\n",
            "    constraints : Size=6, Index=constraints_index, Active=True\n",
            "        Key : Lower : Body                                  : Upper : Active\n",
            "          1 :   0.0 : 175000 - b0 - 1800*b1 - 250*b2 - y[0] :   0.0 :   True\n",
            "          2 :   0.0 : 150000 - b0 - 2800*b1 - 400*b2 - y[1] :   0.0 :   True\n",
            "          3 :   0.0 : 125000 - b0 - 3500*b1 - 450*b2 - y[2] :   0.0 :   True\n",
            "          4 :   0.0 :   90000 - b0 - 800*b1 - 100*b2 - y[3] :   0.0 :   True\n",
            "          5 :   0.0 :   80000 - b0 - 700*b1 - 200*b2 - y[4] :   0.0 :   True\n",
            "          6 :   0.0 :   120000 - b0 - 500*b1 - 50*b2 - y[5] :   0.0 :   True\n",
            "\n",
            "10 Declarations: a_index a b0 b1 b2 y_index y obj constraints_index constraints\n"
          ]
        }
      ]
    },
    {
      "cell_type": "code",
      "metadata": {
        "colab": {
          "base_uri": "https://localhost:8080/"
        },
        "id": "B81B0k33_Pku",
        "outputId": "6d0e0e80-26c6-4b3a-f3bd-a7762daf7f92"
      },
      "source": [
        "%%bash\n",
        "rm -fv ipopt*\n",
        "apt install -q -yy libgfortran5\n",
        "sleep 1\n",
        "wget -q https://www.ieor.iitb.ac.in/files/faculty/amahajan/ipopt\n",
        "wget -q https://www.ieor.iitb.ac.in/files/faculty/amahajan/test.nl\n",
        "chmod u+rx ipopt"
      ],
      "execution_count": 221,
      "outputs": [
        {
          "output_type": "stream",
          "name": "stdout",
          "text": [
            "removed 'ipopt'\n",
            "Reading package lists...\n",
            "Building dependency tree...\n",
            "Reading state information...\n",
            "libgfortran5 is already the newest version (8.4.0-1ubuntu1~18.04).\n",
            "0 upgraded, 0 newly installed, 0 to remove and 37 not upgraded.\n"
          ]
        },
        {
          "output_type": "stream",
          "name": "stderr",
          "text": [
            "\n",
            "WARNING: apt does not have a stable CLI interface. Use with caution in scripts.\n",
            "\n"
          ]
        }
      ]
    },
    {
      "cell_type": "markdown",
      "metadata": {
        "id": "RyK9P994CtY4"
      },
      "source": [
        "The above code also fetches an optimization problem in an '.nl' format. 'nl' format is suitable for solvers, not for humans. Lets call ipopt directly (without using any Python) to solve it."
      ]
    },
    {
      "cell_type": "code",
      "metadata": {
        "colab": {
          "base_uri": "https://localhost:8080/"
        },
        "id": "es1EEUwB_cQ0",
        "outputId": "64b9ad33-0ec0-485b-96cf-d0dcdb87e751"
      },
      "source": [
        "!./ipopt test.nl"
      ],
      "execution_count": 222,
      "outputs": [
        {
          "output_type": "stream",
          "name": "stdout",
          "text": [
            "\n",
            "\n",
            "******************************************************************************\n",
            "This program contains Ipopt, a library for large-scale nonlinear optimization.\n",
            " Ipopt is released as open source code under the Eclipse Public License (EPL).\n",
            "         For more information visit http://projects.coin-or.org/Ipopt\n",
            "******************************************************************************\n",
            "\n",
            "This is Ipopt version 3.13.2, running with linear solver mumps.\n",
            "NOTE: Other linear solvers might be more efficient (see Ipopt documentation).\n",
            "\n",
            "Number of nonzeros in equality constraint Jacobian...:        0\n",
            "Number of nonzeros in inequality constraint Jacobian.:        0\n",
            "Number of nonzeros in Lagrangian Hessian.............:      230\n",
            "\n",
            "Total number of variables............................:       30\n",
            "                     variables with only lower bounds:       30\n",
            "                variables with lower and upper bounds:        0\n",
            "                     variables with only upper bounds:        0\n",
            "Total number of equality constraints.................:        0\n",
            "Total number of inequality constraints...............:        0\n",
            "        inequality constraints with only lower bounds:        0\n",
            "   inequality constraints with lower and upper bounds:        0\n",
            "        inequality constraints with only upper bounds:        0\n",
            "\n",
            "iter    objective    inf_pr   inf_du lg(mu)  ||d||  lg(rg) alpha_du alpha_pr  ls\n",
            "   0  1.7201186e+00 0.00e+00 1.00e+00  -1.0 0.00e+00    -  0.00e+00 0.00e+00   0\n",
            "   1  1.7260509e+00 0.00e+00 1.01e-02  -1.0 3.61e-01    -  9.90e-01 1.00e+00f  1\n",
            "   2  1.7538885e+00 0.00e+00 1.00e-06  -1.0 5.55e+00    -  1.00e+00 1.00e+00f  1\n",
            "   3  1.7211737e+00 0.00e+00 1.55e-02  -2.5 4.25e+00    -  9.50e-01 1.00e+00f  1\n",
            "   4  1.7201208e+00 0.00e+00 1.50e-09  -3.8 1.59e+00    -  1.00e+00 1.00e+00f  1\n",
            "   5  1.7201186e+00 0.00e+00 2.22e-11  -5.7 7.22e-02    -  1.00e+00 1.00e+00f  1\n",
            "   6  1.7201186e+00 0.00e+00 3.08e-12  -8.6 3.43e-04    -  1.00e+00 1.00e+00f  1\n",
            "\n",
            "Number of Iterations....: 6\n",
            "\n",
            "                                   (scaled)                 (unscaled)\n",
            "Objective...............:   1.7201185696472858e+00    1.7201185696472858e+00\n",
            "Dual infeasibility......:   3.0848629611540733e-12    3.0848629611540733e-12\n",
            "Constraint violation....:   0.0000000000000000e+00    0.0000000000000000e+00\n",
            "Complementarity.........:   2.5414705854774420e-09    2.5414705854774420e-09\n",
            "Overall NLP error.......:   2.5414705854774420e-09    2.5414705854774420e-09\n",
            "\n",
            "\n",
            "Number of objective function evaluations             = 7\n",
            "Number of objective gradient evaluations             = 7\n",
            "Number of equality constraint evaluations            = 0\n",
            "Number of inequality constraint evaluations          = 0\n",
            "Number of equality constraint Jacobian evaluations   = 0\n",
            "Number of inequality constraint Jacobian evaluations = 0\n",
            "Number of Lagrangian Hessian evaluations             = 6\n",
            "Total CPU secs in IPOPT (w/o function evaluations)   =      0.005\n",
            "Total CPU secs in NLP function evaluations           =      0.000\n",
            "\n",
            "EXIT: Optimal Solution Found.\n",
            " \n",
            "Ipopt 3.13.2: Optimal Solution Found\n"
          ]
        }
      ]
    },
    {
      "cell_type": "code",
      "metadata": {
        "colab": {
          "base_uri": "https://localhost:8080/"
        },
        "id": "YVJkrNqH_fio",
        "outputId": "84886ecd-0e97-4b82-f486-32c46f6c4f13"
      },
      "source": [
        "opt_ipopt = SolverFactory('ipopt')\n",
        "result = opt_ipopt.solve(model_ex3)\n",
        "print(result)"
      ],
      "execution_count": 223,
      "outputs": [
        {
          "output_type": "stream",
          "name": "stdout",
          "text": [
            "\n",
            "Problem: \n",
            "- Lower bound: -inf\n",
            "  Upper bound: inf\n",
            "  Number of objectives: 1\n",
            "  Number of constraints: 6\n",
            "  Number of variables: 9\n",
            "  Sense: unknown\n",
            "Solver: \n",
            "- Status: ok\n",
            "  Message: Ipopt 3.13.2\\x3a Optimal Solution Found\n",
            "  Termination condition: optimal\n",
            "  Id: 0\n",
            "  Error rc: 0\n",
            "  Time: 0.032613277435302734\n",
            "Solution: \n",
            "- number of solutions: 0\n",
            "  number of solutions displayed: 0\n",
            "\n"
          ]
        }
      ]
    },
    {
      "cell_type": "code",
      "metadata": {
        "colab": {
          "base_uri": "https://localhost:8080/"
        },
        "id": "fmU3u9FfAT42",
        "outputId": "b2e61357-5a89-4498-cc25-3c2b4fe12f6b"
      },
      "source": [
        "print('Solver status:', result.solver.status)\n",
        "print('Solver termination condition:',result.solver.termination_condition)"
      ],
      "execution_count": 224,
      "outputs": [
        {
          "output_type": "stream",
          "name": "stdout",
          "text": [
            "Solver status: ok\n",
            "Solver termination condition: optimal\n"
          ]
        }
      ]
    },
    {
      "cell_type": "code",
      "metadata": {
        "colab": {
          "base_uri": "https://localhost:8080/"
        },
        "id": "W68MtN58_qTi",
        "outputId": "b6e17be7-e9d7-4974-949c-1b11d03fda1f"
      },
      "source": [
        "# display solution\n",
        "print('The value of Objective Function is = ', model_ex3.obj())"
      ],
      "execution_count": 225,
      "outputs": [
        {
          "output_type": "stream",
          "name": "stdout",
          "text": [
            "The value of Objective Function is =  4291134028.8074546\n"
          ]
        }
      ]
    },
    {
      "cell_type": "code",
      "metadata": {
        "colab": {
          "base_uri": "https://localhost:8080/"
        },
        "id": "kKmCWJ30C397",
        "outputId": "a7388759-556f-46d5-d74d-8bd43967abb8"
      },
      "source": [
        "print('Deviation :')\n",
        "for i in column_indices:\n",
        "  print('y(',i+1,') :' ,model_ex3.y[i].value) #y denotes deviation"
      ],
      "execution_count": 226,
      "outputs": [
        {
          "output_type": "stream",
          "name": "stdout",
          "text": [
            "Deviation :\n",
            "y( 1 ) : 48762.44439737344\n",
            "y( 2 ) : 14058.72696462612\n",
            "y( 3 ) : -28366.606651133225\n",
            "y( 4 ) : -26533.83816987928\n",
            "y( 5 ) : -13331.391654310495\n",
            "y( 6 ) : 5410.665113323435\n"
          ]
        }
      ]
    },
    {
      "cell_type": "markdown",
      "metadata": {
        "id": "lEO0uIcdl9RY"
      },
      "source": [
        "Maximum deviation is 48762.44439737344 in this problem \\\\\n",
        "Whereas in lab 6 Maximum deviation was 54272.727"
      ]
    },
    {
      "cell_type": "markdown",
      "metadata": {
        "id": "UDQrXYv_DWZ2"
      },
      "source": [
        "Printing the details of decision variables"
      ]
    },
    {
      "cell_type": "code",
      "metadata": {
        "colab": {
          "base_uri": "https://localhost:8080/"
        },
        "id": "Gwcc8UzwC7WU",
        "outputId": "76a4d0d2-54d8-487b-e1a6-cbe2ee09cfb4"
      },
      "source": [
        "print('Decision Variables')\n",
        "print('b[0] :', model_ex3.b0.value,'\\nb[1] :', model_ex3.b1.value,'\\nb[2] :', model_ex3.b2.value)"
      ],
      "execution_count": 227,
      "outputs": [
        {
          "output_type": "stream",
          "name": "stdout",
          "text": [
            "Decision Variables\n",
            "b[0] : 104904.41643719553 \n",
            "b[1] : 38.7020758313917 \n",
            "b[2] : -193.32238932429613\n"
          ]
        }
      ]
    },
    {
      "cell_type": "markdown",
      "metadata": {
        "id": "7rFWQ3d6kWZx"
      },
      "source": [
        "In this problem the values of the decision variables are: \\\\\n",
        "b[0]=104904.4164371955 \\\\\n",
        "b[1]=38.702075831391646 \\\\\n",
        "b[2]=-193.3223893242956 \\\\"
      ]
    },
    {
      "cell_type": "markdown",
      "metadata": {
        "id": "OsYZMMOGlDJr"
      },
      "source": [
        "In Lab 6 the values of the decision variables are : \\\\\n",
        "b[0]=104181.82 \\\\\n",
        "b[1]=67.272727 \\\\\n",
        "b[2]=-356.36364\n"
      ]
    },
    {
      "cell_type": "markdown",
      "metadata": {
        "id": "msSTJDBsfldm"
      },
      "source": [
        "Observation :\n",
        "Maximum deviation has decreases as we have used square method."
      ]
    },
    {
      "cell_type": "code",
      "metadata": {
        "id": "h3LohY8VpfIV"
      },
      "source": [
        ""
      ],
      "execution_count": 227,
      "outputs": []
    }
  ]
}