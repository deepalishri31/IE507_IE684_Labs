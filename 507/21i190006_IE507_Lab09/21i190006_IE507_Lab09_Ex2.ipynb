{
  "nbformat": 4,
  "nbformat_minor": 0,
  "metadata": {
    "colab": {
      "name": "21i190006_IE507_Lab09_Ex2.ipynb",
      "provenance": [],
      "collapsed_sections": []
    },
    "kernelspec": {
      "name": "python3",
      "display_name": "Python 3"
    },
    "language_info": {
      "name": "python"
    }
  },
  "cells": [
    {
      "cell_type": "markdown",
      "metadata": {
        "id": "klHNQ9n88Izu"
      },
      "source": [
        "Exercise 2"
      ]
    },
    {
      "cell_type": "code",
      "metadata": {
        "colab": {
          "base_uri": "https://localhost:8080/"
        },
        "id": "ZDrEM5XqzMPy",
        "outputId": "eb9c2636-b464-44c9-bc46-aafa681df8d2"
      },
      "source": [
        "%%bash\n",
        "rm -fv ipopt*\n",
        "apt install -q -yy libgfortran5\n",
        "sleep 1\n",
        "wget -q https://www.ieor.iitb.ac.in/files/faculty/amahajan/ipopt\n",
        "wget -q https://www.ieor.iitb.ac.in/files/faculty/amahajan/test.nl\n",
        "chmod u+rx ipopt"
      ],
      "execution_count": 1,
      "outputs": [
        {
          "output_type": "stream",
          "name": "stdout",
          "text": [
            "Reading package lists...\n",
            "Building dependency tree...\n",
            "Reading state information...\n",
            "The following NEW packages will be installed:\n",
            "  libgfortran5\n",
            "0 upgraded, 1 newly installed, 0 to remove and 37 not upgraded.\n",
            "Need to get 589 kB of archives.\n",
            "After this operation, 2,660 kB of additional disk space will be used.\n",
            "Get:1 http://archive.ubuntu.com/ubuntu bionic-updates/universe amd64 libgfortran5 amd64 8.4.0-1ubuntu1~18.04 [589 kB]\n",
            "Fetched 589 kB in 1s (821 kB/s)\n",
            "Selecting previously unselected package libgfortran5:amd64.\r\n",
            "(Reading database ... \r(Reading database ... 5%\r(Reading database ... 10%\r(Reading database ... 15%\r(Reading database ... 20%\r(Reading database ... 25%\r(Reading database ... 30%\r(Reading database ... 35%\r(Reading database ... 40%\r(Reading database ... 45%\r(Reading database ... 50%\r(Reading database ... 55%\r(Reading database ... 60%\r(Reading database ... 65%\r(Reading database ... 70%\r(Reading database ... 75%\r(Reading database ... 80%\r(Reading database ... 85%\r(Reading database ... 90%\r(Reading database ... 95%\r(Reading database ... 100%\r(Reading database ... 155047 files and directories currently installed.)\r\n",
            "Preparing to unpack .../libgfortran5_8.4.0-1ubuntu1~18.04_amd64.deb ...\r\n",
            "Unpacking libgfortran5:amd64 (8.4.0-1ubuntu1~18.04) ...\r\n",
            "Setting up libgfortran5:amd64 (8.4.0-1ubuntu1~18.04) ...\r\n",
            "Processing triggers for libc-bin (2.27-3ubuntu1.3) ...\r\n",
            "/sbin/ldconfig.real: /usr/local/lib/python3.7/dist-packages/ideep4py/lib/libmkldnn.so.0 is not a symbolic link\r\n",
            "\r\n"
          ]
        },
        {
          "output_type": "stream",
          "name": "stderr",
          "text": [
            "\n",
            "WARNING: apt does not have a stable CLI interface. Use with caution in scripts.\n",
            "\n"
          ]
        }
      ]
    },
    {
      "cell_type": "markdown",
      "metadata": {
        "id": "xhHQmrm93khf"
      },
      "source": [
        "# The above code also fetches an optimization problem in an '.nl' format. 'nl' format is suitable for solvers, not for humans. Lets call ipopt directly (without using any Python) to solve it."
      ]
    },
    {
      "cell_type": "code",
      "metadata": {
        "id": "9Jzuec2s3mwh",
        "colab": {
          "base_uri": "https://localhost:8080/"
        },
        "outputId": "96aff273-d25a-434c-e466-548de03121b2"
      },
      "source": [
        "!./ipopt test.nl"
      ],
      "execution_count": 2,
      "outputs": [
        {
          "output_type": "stream",
          "name": "stdout",
          "text": [
            "\n",
            "\n",
            "******************************************************************************\n",
            "This program contains Ipopt, a library for large-scale nonlinear optimization.\n",
            " Ipopt is released as open source code under the Eclipse Public License (EPL).\n",
            "         For more information visit http://projects.coin-or.org/Ipopt\n",
            "******************************************************************************\n",
            "\n",
            "This is Ipopt version 3.13.2, running with linear solver mumps.\n",
            "NOTE: Other linear solvers might be more efficient (see Ipopt documentation).\n",
            "\n",
            "Number of nonzeros in equality constraint Jacobian...:        0\n",
            "Number of nonzeros in inequality constraint Jacobian.:        0\n",
            "Number of nonzeros in Lagrangian Hessian.............:      230\n",
            "\n",
            "Total number of variables............................:       30\n",
            "                     variables with only lower bounds:       30\n",
            "                variables with lower and upper bounds:        0\n",
            "                     variables with only upper bounds:        0\n",
            "Total number of equality constraints.................:        0\n",
            "Total number of inequality constraints...............:        0\n",
            "        inequality constraints with only lower bounds:        0\n",
            "   inequality constraints with lower and upper bounds:        0\n",
            "        inequality constraints with only upper bounds:        0\n",
            "\n",
            "iter    objective    inf_pr   inf_du lg(mu)  ||d||  lg(rg) alpha_du alpha_pr  ls\n",
            "   0  1.7201186e+00 0.00e+00 1.00e+00  -1.0 0.00e+00    -  0.00e+00 0.00e+00   0\n",
            "   1  1.7260509e+00 0.00e+00 1.01e-02  -1.0 3.61e-01    -  9.90e-01 1.00e+00f  1\n",
            "   2  1.7538885e+00 0.00e+00 1.00e-06  -1.0 5.55e+00    -  1.00e+00 1.00e+00f  1\n",
            "   3  1.7211737e+00 0.00e+00 1.55e-02  -2.5 4.25e+00    -  9.50e-01 1.00e+00f  1\n",
            "   4  1.7201208e+00 0.00e+00 1.50e-09  -3.8 1.59e+00    -  1.00e+00 1.00e+00f  1\n",
            "   5  1.7201186e+00 0.00e+00 2.22e-11  -5.7 7.22e-02    -  1.00e+00 1.00e+00f  1\n",
            "   6  1.7201186e+00 0.00e+00 3.08e-12  -8.6 3.43e-04    -  1.00e+00 1.00e+00f  1\n",
            "\n",
            "Number of Iterations....: 6\n",
            "\n",
            "                                   (scaled)                 (unscaled)\n",
            "Objective...............:   1.7201185696472858e+00    1.7201185696472858e+00\n",
            "Dual infeasibility......:   3.0848629611540733e-12    3.0848629611540733e-12\n",
            "Constraint violation....:   0.0000000000000000e+00    0.0000000000000000e+00\n",
            "Complementarity.........:   2.5414705854774420e-09    2.5414705854774420e-09\n",
            "Overall NLP error.......:   2.5414705854774420e-09    2.5414705854774420e-09\n",
            "\n",
            "\n",
            "Number of objective function evaluations             = 7\n",
            "Number of objective gradient evaluations             = 7\n",
            "Number of equality constraint evaluations            = 0\n",
            "Number of inequality constraint evaluations          = 0\n",
            "Number of equality constraint Jacobian evaluations   = 0\n",
            "Number of inequality constraint Jacobian evaluations = 0\n",
            "Number of Lagrangian Hessian evaluations             = 6\n",
            "Total CPU secs in IPOPT (w/o function evaluations)   =      0.006\n",
            "Total CPU secs in NLP function evaluations           =      0.000\n",
            "\n",
            "EXIT: Optimal Solution Found.\n",
            " \n",
            "Ipopt 3.13.2: Optimal Solution Found\n"
          ]
        }
      ]
    },
    {
      "cell_type": "code",
      "metadata": {
        "id": "QHW9ZkKo2nQY",
        "colab": {
          "base_uri": "https://localhost:8080/"
        },
        "outputId": "5ccf4063-7bb1-428b-eff2-fbdbb609c206"
      },
      "source": [
        "!pip install -q pyomo"
      ],
      "execution_count": 3,
      "outputs": [
        {
          "output_type": "stream",
          "name": "stdout",
          "text": [
            "\u001b[K     |████████████████████████████████| 9.1 MB 4.9 MB/s \n",
            "\u001b[K     |████████████████████████████████| 49 kB 4.9 MB/s \n",
            "\u001b[?25h"
          ]
        }
      ]
    },
    {
      "cell_type": "code",
      "metadata": {
        "id": "uR9QNG8Fosqj"
      },
      "source": [
        "#Importing the required pacakages\n",
        "from pyomo.environ import *\n",
        "import numpy as np"
      ],
      "execution_count": 4,
      "outputs": []
    },
    {
      "cell_type": "code",
      "metadata": {
        "id": "AhVWb3Exbja6"
      },
      "source": [
        "#Creating model\n",
        "model_ex2 = ConcreteModel()"
      ],
      "execution_count": 5,
      "outputs": []
    },
    {
      "cell_type": "code",
      "metadata": {
        "id": "y4fl2jMVrF4f"
      },
      "source": [
        "#Variables declaration"
      ],
      "execution_count": 6,
      "outputs": []
    },
    {
      "cell_type": "code",
      "metadata": {
        "id": "0qOkeIyqb0L6"
      },
      "source": [
        "model_ex2.xf = Var()\n",
        "model_ex2.yf = Var()"
      ],
      "execution_count": 7,
      "outputs": []
    },
    {
      "cell_type": "code",
      "metadata": {
        "id": "e13hFLTEb45H"
      },
      "source": [
        "model_ex2.xl = Var()\n",
        "model_ex2.yl = Var()"
      ],
      "execution_count": 8,
      "outputs": []
    },
    {
      "cell_type": "code",
      "metadata": {
        "id": "lbyhkyvMrRjt"
      },
      "source": [
        "#Objective function\n",
        "model_ex2.obj = Objective(expr = ((model_ex2.xf-model_ex2.xl)**2 + (model_ex2.yf-model_ex2.yl)**2), sense=minimize)"
      ],
      "execution_count": 9,
      "outputs": []
    },
    {
      "cell_type": "code",
      "metadata": {
        "id": "PdvCce69c1Rt"
      },
      "source": [
        "#Constraints declaration"
      ],
      "execution_count": 10,
      "outputs": []
    },
    {
      "cell_type": "code",
      "metadata": {
        "id": "QeEUFhlz1Qah"
      },
      "source": [
        "model_ex2.constr_1 = Constraint(expr=((model_ex2.xl-200)**2 + (model_ex2.yl-200)**2) <= 2500)"
      ],
      "execution_count": 11,
      "outputs": []
    },
    {
      "cell_type": "code",
      "metadata": {
        "id": "CKtHqY5d1SGu"
      },
      "source": [
        "model_ex2.constr_2 = Constraint(expr=(model_ex2.xf + 3*model_ex2.yf) <= 0)"
      ],
      "execution_count": 12,
      "outputs": []
    },
    {
      "cell_type": "code",
      "metadata": {
        "id": "D1tW4Ebk1TlQ"
      },
      "source": [
        "model_ex2.constr_3 = Constraint(expr=(model_ex2.yf - model_ex2.xf) <= 0)"
      ],
      "execution_count": 13,
      "outputs": []
    },
    {
      "cell_type": "code",
      "metadata": {
        "id": "smyMWWMB1U3E"
      },
      "source": [
        "model_ex2.constr_4 = Constraint(expr=(model_ex2.xf + model_ex2.yf +200) >= 0)\n"
      ],
      "execution_count": 14,
      "outputs": []
    },
    {
      "cell_type": "code",
      "metadata": {
        "id": "Cg-ABAYTrzL9"
      },
      "source": [
        "model_ex2.constr_5 = Constraint(expr=(model_ex2.yf - model_ex2.xf +200) >= 0)"
      ],
      "execution_count": 15,
      "outputs": []
    },
    {
      "cell_type": "code",
      "metadata": {
        "colab": {
          "base_uri": "https://localhost:8080/"
        },
        "id": "a6eLidhQuHKq",
        "outputId": "f6196e0e-55b9-464c-f042-2e49a2a4eb4b"
      },
      "source": [
        "model_ex2.pprint()"
      ],
      "execution_count": 16,
      "outputs": [
        {
          "output_type": "stream",
          "name": "stdout",
          "text": [
            "4 Var Declarations\n",
            "    xf : Size=1, Index=None\n",
            "        Key  : Lower : Value : Upper : Fixed : Stale : Domain\n",
            "        None :  None :  None :  None : False :  True :  Reals\n",
            "    xl : Size=1, Index=None\n",
            "        Key  : Lower : Value : Upper : Fixed : Stale : Domain\n",
            "        None :  None :  None :  None : False :  True :  Reals\n",
            "    yf : Size=1, Index=None\n",
            "        Key  : Lower : Value : Upper : Fixed : Stale : Domain\n",
            "        None :  None :  None :  None : False :  True :  Reals\n",
            "    yl : Size=1, Index=None\n",
            "        Key  : Lower : Value : Upper : Fixed : Stale : Domain\n",
            "        None :  None :  None :  None : False :  True :  Reals\n",
            "\n",
            "1 Objective Declarations\n",
            "    obj : Size=1, Index=None, Active=True\n",
            "        Key  : Active : Sense    : Expression\n",
            "        None :   True : minimize : (xf - xl)**2 + (yf - yl)**2\n",
            "\n",
            "5 Constraint Declarations\n",
            "    constr_1 : Size=1, Index=None, Active=True\n",
            "        Key  : Lower : Body                          : Upper  : Active\n",
            "        None :  -Inf : (xl - 200)**2 + (yl - 200)**2 : 2500.0 :   True\n",
            "    constr_2 : Size=1, Index=None, Active=True\n",
            "        Key  : Lower : Body      : Upper : Active\n",
            "        None :  -Inf : xf + 3*yf :   0.0 :   True\n",
            "    constr_3 : Size=1, Index=None, Active=True\n",
            "        Key  : Lower : Body    : Upper : Active\n",
            "        None :  -Inf : yf - xf :   0.0 :   True\n",
            "    constr_4 : Size=1, Index=None, Active=True\n",
            "        Key  : Lower : Body          : Upper : Active\n",
            "        None :   0.0 : xf + yf + 200 :  +Inf :   True\n",
            "    constr_5 : Size=1, Index=None, Active=True\n",
            "        Key  : Lower : Body          : Upper : Active\n",
            "        None :   0.0 : yf - xf + 200 :  +Inf :   True\n",
            "\n",
            "10 Declarations: xf yf xl yl obj constr_1 constr_2 constr_3 constr_4 constr_5\n"
          ]
        }
      ]
    },
    {
      "cell_type": "code",
      "metadata": {
        "id": "hhgguZJd1Mh1"
      },
      "source": [
        "#Model the problem in Pyomo and solve using Ipopt"
      ],
      "execution_count": 17,
      "outputs": []
    },
    {
      "cell_type": "code",
      "metadata": {
        "colab": {
          "base_uri": "https://localhost:8080/"
        },
        "id": "wIp5JCrXdxqK",
        "outputId": "89527af0-e92e-4d09-cb38-378e78cc74cc"
      },
      "source": [
        "opt_ipopt = SolverFactory('ipopt')\n",
        "result_ex2 = opt_ipopt.solve(model_ex2)\n",
        "print(result_ex2)"
      ],
      "execution_count": 18,
      "outputs": [
        {
          "output_type": "stream",
          "name": "stdout",
          "text": [
            "\n",
            "Problem: \n",
            "- Lower bound: -inf\n",
            "  Upper bound: inf\n",
            "  Number of objectives: 1\n",
            "  Number of constraints: 5\n",
            "  Number of variables: 4\n",
            "  Sense: unknown\n",
            "Solver: \n",
            "- Status: ok\n",
            "  Message: Ipopt 3.13.2\\x3a Optimal Solution Found\n",
            "  Termination condition: optimal\n",
            "  Id: 0\n",
            "  Error rc: 0\n",
            "  Time: 0.039669036865234375\n",
            "Solution: \n",
            "- number of solutions: 0\n",
            "  number of solutions displayed: 0\n",
            "\n"
          ]
        }
      ]
    },
    {
      "cell_type": "code",
      "metadata": {
        "colab": {
          "base_uri": "https://localhost:8080/"
        },
        "id": "v05kly7Pd-Ou",
        "outputId": "27b7f553-e817-41ab-b490-4eba36ddbd51"
      },
      "source": [
        "print('Solver status:', result_ex2.solver.status)\n",
        "print('Solver termination condition:',result_ex2.solver.termination_condition)\n",
        "print('Value of Objective function = ', sqrt(model_ex2.obj()))"
      ],
      "execution_count": 19,
      "outputs": [
        {
          "output_type": "stream",
          "name": "stdout",
          "text": [
            "Solver status: ok\n",
            "Solver termination condition: optimal\n",
            "Value of Objective function =  202.98221256032042\n"
          ]
        }
      ]
    },
    {
      "cell_type": "markdown",
      "metadata": {
        "id": "olABZQ8vfgnB"
      },
      "source": [
        "Question 3."
      ]
    },
    {
      "cell_type": "code",
      "metadata": {
        "id": "UqxJMs0TerBk"
      },
      "source": [
        "#Details of decision variables"
      ],
      "execution_count": 20,
      "outputs": []
    },
    {
      "cell_type": "code",
      "metadata": {
        "colab": {
          "base_uri": "https://localhost:8080/"
        },
        "id": "tgypjAzz0NVa",
        "outputId": "3227538e-a070-496b-b7c0-66649e5c4877"
      },
      "source": [
        "print('End points of the farm :')\n",
        "print('xf :', model_ex2.xf.value)  \n",
        "print('yf :', model_ex2.yf.value)"
      ],
      "execution_count": 21,
      "outputs": [
        {
          "output_type": "stream",
          "name": "stdout",
          "text": [
            "End points of the farm :\n",
            "xf : 120.00000000096625\n",
            "yf : -39.99999999699526\n"
          ]
        }
      ]
    },
    {
      "cell_type": "code",
      "metadata": {
        "colab": {
          "base_uri": "https://localhost:8080/"
        },
        "id": "d2YoiQ2lfJ1b",
        "outputId": "ada4d9cd-b3d6-45fe-8eaf-89730a1028bd"
      },
      "source": [
        "print('End points of the lake :')\n",
        "print('xl :', model_ex2.xl.value)\n",
        "print('yl :', model_ex2.yl.value)"
      ],
      "execution_count": 22,
      "outputs": [
        {
          "output_type": "stream",
          "name": "stdout",
          "text": [
            "End points of the lake :\n",
            "xl : 184.18861162009682\n",
            "yl : 152.56583486031144\n"
          ]
        }
      ]
    },
    {
      "cell_type": "markdown",
      "metadata": {
        "id": "MI-0bz4TfnDF"
      },
      "source": [
        "Question 4."
      ]
    },
    {
      "cell_type": "code",
      "metadata": {
        "id": "uOUV0loR7hU8"
      },
      "source": [
        "model_ex2.obj.deactivate()"
      ],
      "execution_count": 23,
      "outputs": []
    },
    {
      "cell_type": "code",
      "metadata": {
        "id": "6afZu41Ige8U"
      },
      "source": [
        "#clear() method clears all references to local variables"
      ],
      "execution_count": 24,
      "outputs": []
    },
    {
      "cell_type": "code",
      "metadata": {
        "id": "Pd7dOjkegZ6B"
      },
      "source": [
        "#Clearing all the reference to end points of farm held by model_ex2"
      ],
      "execution_count": 25,
      "outputs": []
    },
    {
      "cell_type": "code",
      "metadata": {
        "id": "CjQYcAch-Ulv"
      },
      "source": [
        "model_ex2.xf.clear()\n",
        "model_ex2.yf.clear()"
      ],
      "execution_count": 26,
      "outputs": []
    },
    {
      "cell_type": "code",
      "metadata": {
        "id": "r37VPCrygbGn"
      },
      "source": [
        "#Clearing all the reference to end points of lake held by model_ex2"
      ],
      "execution_count": 27,
      "outputs": []
    },
    {
      "cell_type": "code",
      "metadata": {
        "id": "RtsOu6SZgWbY"
      },
      "source": [
        "model_ex2.xl.clear()\n",
        "model_ex2.yl.clear()"
      ],
      "execution_count": 28,
      "outputs": []
    },
    {
      "cell_type": "code",
      "metadata": {
        "id": "b75wvD1Jg2KG"
      },
      "source": [
        "#Decalartion of new varibales for junction "
      ],
      "execution_count": 29,
      "outputs": []
    },
    {
      "cell_type": "code",
      "metadata": {
        "id": "8skwniTE8Cz5"
      },
      "source": [
        "model_ex2.xj=Var()\n",
        "model_ex2.yj=Var()"
      ],
      "execution_count": 30,
      "outputs": []
    },
    {
      "cell_type": "code",
      "metadata": {
        "id": "op37CY53V6NH"
      },
      "source": [
        "model_ex2.objn=Objective(expr=((model_ex2.xl-model_ex2.xj)**2 + (model_ex2.yl-model_ex2.yj)**2) + ((model_ex2.xj-model_ex2.xf)**2 + (model_ex2.yj-model_ex2.yf)**2) +(((15-model_ex2.xj)**2 + (20-model_ex2.yj)**2))*0.2,sense=minimize)"
      ],
      "execution_count": 31,
      "outputs": []
    },
    {
      "cell_type": "code",
      "metadata": {
        "colab": {
          "base_uri": "https://localhost:8080/"
        },
        "id": "ipanGn1k9-Ay",
        "outputId": "0e7672a8-89c1-436a-934b-55d43d21681a"
      },
      "source": [
        "#Printing the details of model_ex1 that we have created\n",
        "model_ex2.pprint()"
      ],
      "execution_count": 32,
      "outputs": [
        {
          "output_type": "stream",
          "name": "stdout",
          "text": [
            "6 Var Declarations\n",
            "    xf : Size=1, Index=None\n",
            "        Key  : Lower : Value : Upper : Fixed : Stale : Domain\n",
            "        None :  None :  None :  None : False : False :  Reals\n",
            "    xj : Size=1, Index=None\n",
            "        Key  : Lower : Value : Upper : Fixed : Stale : Domain\n",
            "        None :  None :  None :  None : False :  True :  Reals\n",
            "    xl : Size=1, Index=None\n",
            "        Key  : Lower : Value : Upper : Fixed : Stale : Domain\n",
            "        None :  None :  None :  None : False : False :  Reals\n",
            "    yf : Size=1, Index=None\n",
            "        Key  : Lower : Value : Upper : Fixed : Stale : Domain\n",
            "        None :  None :  None :  None : False : False :  Reals\n",
            "    yj : Size=1, Index=None\n",
            "        Key  : Lower : Value : Upper : Fixed : Stale : Domain\n",
            "        None :  None :  None :  None : False :  True :  Reals\n",
            "    yl : Size=1, Index=None\n",
            "        Key  : Lower : Value : Upper : Fixed : Stale : Domain\n",
            "        None :  None :  None :  None : False : False :  Reals\n",
            "\n",
            "2 Objective Declarations\n",
            "    obj : Size=1, Index=None, Active=False\n",
            "        Key  : Active : Sense    : Expression\n",
            "        None :  False : minimize : (xf - xl)**2 + (yf - yl)**2\n",
            "    objn : Size=1, Index=None, Active=True\n",
            "        Key  : Active : Sense    : Expression\n",
            "        None :   True : minimize : (xl - xj)**2 + (yl - yj)**2 + (xj - xf)**2 + (yj - yf)**2 + ((15 - xj)**2 + (20 - yj)**2)*0.2\n",
            "\n",
            "5 Constraint Declarations\n",
            "    constr_1 : Size=1, Index=None, Active=True\n",
            "        Key  : Lower : Body                          : Upper  : Active\n",
            "        None :  -Inf : (xl - 200)**2 + (yl - 200)**2 : 2500.0 :   True\n",
            "    constr_2 : Size=1, Index=None, Active=True\n",
            "        Key  : Lower : Body      : Upper : Active\n",
            "        None :  -Inf : xf + 3*yf :   0.0 :   True\n",
            "    constr_3 : Size=1, Index=None, Active=True\n",
            "        Key  : Lower : Body    : Upper : Active\n",
            "        None :  -Inf : yf - xf :   0.0 :   True\n",
            "    constr_4 : Size=1, Index=None, Active=True\n",
            "        Key  : Lower : Body          : Upper : Active\n",
            "        None :   0.0 : xf + yf + 200 :  +Inf :   True\n",
            "    constr_5 : Size=1, Index=None, Active=True\n",
            "        Key  : Lower : Body          : Upper : Active\n",
            "        None :   0.0 : yf - xf + 200 :  +Inf :   True\n",
            "\n",
            "13 Declarations: xf yf xl yl obj constr_1 constr_2 constr_3 constr_4 constr_5 xj yj objn\n"
          ]
        }
      ]
    },
    {
      "cell_type": "code",
      "metadata": {
        "id": "74NLN5bi1Gqv"
      },
      "source": [
        "#Model the problem in Pyomo and solve using Ipopt"
      ],
      "execution_count": 33,
      "outputs": []
    },
    {
      "cell_type": "code",
      "metadata": {
        "colab": {
          "base_uri": "https://localhost:8080/"
        },
        "id": "GrWR8D4ijmm4",
        "outputId": "a483feeb-170d-48b2-f9e8-5edc3d4324c8"
      },
      "source": [
        "opt_ipopt = SolverFactory('ipopt')\n",
        "result_ex2 = opt_ipopt.solve(model_ex2)\n",
        "print(result_ex2)"
      ],
      "execution_count": 34,
      "outputs": [
        {
          "output_type": "stream",
          "name": "stdout",
          "text": [
            "\n",
            "Problem: \n",
            "- Lower bound: -inf\n",
            "  Upper bound: inf\n",
            "  Number of objectives: 1\n",
            "  Number of constraints: 5\n",
            "  Number of variables: 6\n",
            "  Sense: unknown\n",
            "Solver: \n",
            "- Status: ok\n",
            "  Message: Ipopt 3.13.2\\x3a Optimal Solution Found\n",
            "  Termination condition: optimal\n",
            "  Id: 0\n",
            "  Error rc: 0\n",
            "  Time: 0.03145718574523926\n",
            "Solution: \n",
            "- number of solutions: 0\n",
            "  number of solutions displayed: 0\n",
            "\n"
          ]
        }
      ]
    },
    {
      "cell_type": "code",
      "metadata": {
        "colab": {
          "base_uri": "https://localhost:8080/"
        },
        "id": "QU87vAlX-jjF",
        "outputId": "2ef46771-df9a-42de-a989-53504acc5705"
      },
      "source": [
        "print('Solver status:', result_ex2.solver.status)\n",
        "print('Solver termination condition:',result_ex2.solver.termination_condition)"
      ],
      "execution_count": 35,
      "outputs": [
        {
          "output_type": "stream",
          "name": "stdout",
          "text": [
            "Solver status: ok\n",
            "Solver termination condition: optimal\n"
          ]
        }
      ]
    },
    {
      "cell_type": "markdown",
      "metadata": {
        "id": "jZIbt5Nt1BTV"
      },
      "source": [
        "Question 6."
      ]
    },
    {
      "cell_type": "code",
      "metadata": {
        "id": "se_u1gtxpCA9"
      },
      "source": [
        "#Details of decision variables"
      ],
      "execution_count": 36,
      "outputs": []
    },
    {
      "cell_type": "code",
      "metadata": {
        "colab": {
          "base_uri": "https://localhost:8080/"
        },
        "id": "-k69UTnapG8S",
        "outputId": "c35d4c9b-993d-4fed-d2b1-5049d31ed4e5"
      },
      "source": [
        "print('End points of the farm :')\n",
        "print('xf :', model_ex2.xf.value)  \n",
        "print('yf :', model_ex2.yf.value)"
      ],
      "execution_count": 37,
      "outputs": [
        {
          "output_type": "stream",
          "name": "stdout",
          "text": [
            "End points of the farm :\n",
            "xf : 94.67459978544952\n",
            "yf : -31.558199925163777\n"
          ]
        }
      ]
    },
    {
      "cell_type": "code",
      "metadata": {
        "colab": {
          "base_uri": "https://localhost:8080/"
        },
        "id": "iRUk9Gb_pIPY",
        "outputId": "e94c3b11-f96a-4dce-ac0c-c95d95501f43"
      },
      "source": [
        "print('End points of the lake :')\n",
        "print('xl :', model_ex2.xl.value)  \n",
        "print('yl :', model_ex2.yl.value)"
      ],
      "execution_count": 38,
      "outputs": [
        {
          "output_type": "stream",
          "name": "stdout",
          "text": [
            "End points of the lake :\n",
            "xl : 176.51842419226946\n",
            "yl : 155.85687343895236\n"
          ]
        }
      ]
    },
    {
      "cell_type": "code",
      "metadata": {
        "colab": {
          "base_uri": "https://localhost:8080/"
        },
        "id": "sgj8D5f1pRdd",
        "outputId": "2456c864-1c66-40c5-c293-0de4f39a3b65"
      },
      "source": [
        "print('End points of the junction :')\n",
        "print('xj :', model_ex2.xj.value)  \n",
        "print('yj :', model_ex2.yj.value)"
      ],
      "execution_count": 39,
      "outputs": [
        {
          "output_type": "stream",
          "name": "stdout",
          "text": [
            "End points of the junction :\n",
            "xj : 124.63319271714498\n",
            "yj : 58.317578869903905\n"
          ]
        }
      ]
    }
  ]
}