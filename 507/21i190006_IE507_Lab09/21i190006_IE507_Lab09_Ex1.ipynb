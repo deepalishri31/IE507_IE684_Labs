{
  "nbformat": 4,
  "nbformat_minor": 0,
  "metadata": {
    "colab": {
      "name": "21i190006_IE507_Lab09_Ex1.ipynb",
      "provenance": [],
      "collapsed_sections": []
    },
    "kernelspec": {
      "name": "python3",
      "display_name": "Python 3"
    }
  },
  "cells": [
    {
      "cell_type": "markdown",
      "metadata": {
        "id": "foEQlahS4odD"
      },
      "source": [
        "Exercise 1\n",
        "\n"
      ]
    },
    {
      "cell_type": "markdown",
      "metadata": {
        "id": "67tYEIk849NL"
      },
      "source": [
        "Ex 1.1"
      ]
    },
    {
      "cell_type": "code",
      "metadata": {
        "id": "8ObwCpK2n1En",
        "colab": {
          "base_uri": "https://localhost:8080/"
        },
        "outputId": "897ea247-1e07-4259-de1d-2a0bde4c62d6"
      },
      "source": [
        "%%bash\n",
        "rm -fv ipopt*\n",
        "apt install -q -yy libgfortran5\n",
        "sleep 1\n",
        "wget -q https://www.ieor.iitb.ac.in/files/faculty/amahajan/ipopt\n",
        "wget -q https://www.ieor.iitb.ac.in/files/faculty/amahajan/test.nl\n",
        "chmod u+rx ipopt"
      ],
      "execution_count": null,
      "outputs": [
        {
          "output_type": "stream",
          "name": "stdout",
          "text": [
            "removed 'ipopt'\n",
            "Reading package lists...\n",
            "Building dependency tree...\n",
            "Reading state information...\n",
            "libgfortran5 is already the newest version (8.4.0-1ubuntu1~18.04).\n",
            "0 upgraded, 0 newly installed, 0 to remove and 37 not upgraded.\n"
          ]
        },
        {
          "output_type": "stream",
          "name": "stderr",
          "text": [
            "\n",
            "WARNING: apt does not have a stable CLI interface. Use with caution in scripts.\n",
            "\n"
          ]
        }
      ]
    },
    {
      "cell_type": "markdown",
      "metadata": {
        "id": "B2ktVY5JxTOP"
      },
      "source": [
        "The above code also fetches an optimization problem in an '.nl' format. 'nl' format is suitable for solvers, not for humans. Lets call ipopt directly (without using any Python) to solve it."
      ]
    },
    {
      "cell_type": "code",
      "metadata": {
        "id": "DQqKeB7wxpmX",
        "colab": {
          "base_uri": "https://localhost:8080/"
        },
        "outputId": "3b70a881-71b6-493b-ad43-47e40c58bf87"
      },
      "source": [
        "!./ipopt test.nl"
      ],
      "execution_count": null,
      "outputs": [
        {
          "output_type": "stream",
          "name": "stdout",
          "text": [
            "\n",
            "\n",
            "******************************************************************************\n",
            "This program contains Ipopt, a library for large-scale nonlinear optimization.\n",
            " Ipopt is released as open source code under the Eclipse Public License (EPL).\n",
            "         For more information visit http://projects.coin-or.org/Ipopt\n",
            "******************************************************************************\n",
            "\n",
            "This is Ipopt version 3.13.2, running with linear solver mumps.\n",
            "NOTE: Other linear solvers might be more efficient (see Ipopt documentation).\n",
            "\n",
            "Number of nonzeros in equality constraint Jacobian...:        0\n",
            "Number of nonzeros in inequality constraint Jacobian.:        0\n",
            "Number of nonzeros in Lagrangian Hessian.............:      230\n",
            "\n",
            "Total number of variables............................:       30\n",
            "                     variables with only lower bounds:       30\n",
            "                variables with lower and upper bounds:        0\n",
            "                     variables with only upper bounds:        0\n",
            "Total number of equality constraints.................:        0\n",
            "Total number of inequality constraints...............:        0\n",
            "        inequality constraints with only lower bounds:        0\n",
            "   inequality constraints with lower and upper bounds:        0\n",
            "        inequality constraints with only upper bounds:        0\n",
            "\n",
            "iter    objective    inf_pr   inf_du lg(mu)  ||d||  lg(rg) alpha_du alpha_pr  ls\n",
            "   0  1.7201186e+00 0.00e+00 1.00e+00  -1.0 0.00e+00    -  0.00e+00 0.00e+00   0\n",
            "   1  1.7260509e+00 0.00e+00 1.01e-02  -1.0 3.61e-01    -  9.90e-01 1.00e+00f  1\n",
            "   2  1.7538885e+00 0.00e+00 1.00e-06  -1.0 5.55e+00    -  1.00e+00 1.00e+00f  1\n",
            "   3  1.7211737e+00 0.00e+00 1.55e-02  -2.5 4.25e+00    -  9.50e-01 1.00e+00f  1\n",
            "   4  1.7201208e+00 0.00e+00 1.50e-09  -3.8 1.59e+00    -  1.00e+00 1.00e+00f  1\n",
            "   5  1.7201186e+00 0.00e+00 2.22e-11  -5.7 7.22e-02    -  1.00e+00 1.00e+00f  1\n",
            "   6  1.7201186e+00 0.00e+00 3.08e-12  -8.6 3.43e-04    -  1.00e+00 1.00e+00f  1\n",
            "\n",
            "Number of Iterations....: 6\n",
            "\n",
            "                                   (scaled)                 (unscaled)\n",
            "Objective...............:   1.7201185696472858e+00    1.7201185696472858e+00\n",
            "Dual infeasibility......:   3.0848629611540733e-12    3.0848629611540733e-12\n",
            "Constraint violation....:   0.0000000000000000e+00    0.0000000000000000e+00\n",
            "Complementarity.........:   2.5414705854774420e-09    2.5414705854774420e-09\n",
            "Overall NLP error.......:   2.5414705854774420e-09    2.5414705854774420e-09\n",
            "\n",
            "\n",
            "Number of objective function evaluations             = 7\n",
            "Number of objective gradient evaluations             = 7\n",
            "Number of equality constraint evaluations            = 0\n",
            "Number of inequality constraint evaluations          = 0\n",
            "Number of equality constraint Jacobian evaluations   = 0\n",
            "Number of inequality constraint Jacobian evaluations = 0\n",
            "Number of Lagrangian Hessian evaluations             = 6\n",
            "Total CPU secs in IPOPT (w/o function evaluations)   =      0.006\n",
            "Total CPU secs in NLP function evaluations           =      0.000\n",
            "\n",
            "EXIT: Optimal Solution Found.\n",
            " \n",
            "Ipopt 3.13.2: Optimal Solution Found\n"
          ]
        }
      ]
    },
    {
      "cell_type": "markdown",
      "metadata": {
        "id": "-nHb5lFVyOwD"
      },
      "source": [
        "\n",
        "If you are able to see Ipopt output, we can install pyomo as usual"
      ]
    },
    {
      "cell_type": "code",
      "metadata": {
        "id": "5II8W8up3rx7"
      },
      "source": [
        "!pip install -q pyomo"
      ],
      "execution_count": null,
      "outputs": []
    },
    {
      "cell_type": "code",
      "metadata": {
        "id": "L3AazXhaqM6M"
      },
      "source": [
        "#Importing the required packages\n",
        "import numpy as np\n",
        "from pyomo.environ import *"
      ],
      "execution_count": null,
      "outputs": []
    },
    {
      "cell_type": "markdown",
      "metadata": {
        "id": "qg6Ya1B9rGkq"
      },
      "source": [
        "Let us try to solve a nonlinear optimization problem without any constraints\n",
        "$\\min \\ 100(x_2 - x_1^2)^2 + (1-x_1)^2$. Pyomo uses two asterisks (**) to denote 'raise to power'. Other mathematical operators like sqrt (for square root), log, sin, cos, multiplication and division etc are available."
      ]
    },
    {
      "cell_type": "code",
      "metadata": {
        "id": "_IbLFs1EWNTR"
      },
      "source": [
        "#Creating Model\n",
        "model_ex1 = ConcreteModel()"
      ],
      "execution_count": null,
      "outputs": []
    },
    {
      "cell_type": "code",
      "metadata": {
        "id": "7uzhUFJnWXjg"
      },
      "source": [
        "#Variable declaration\n",
        "model_ex1.x1 = Var()\n",
        "model_ex1.x2 = Var()"
      ],
      "execution_count": null,
      "outputs": []
    },
    {
      "cell_type": "code",
      "metadata": {
        "id": "8DWMvz4nrteP"
      },
      "source": [
        "#Objective function\n",
        "model_ex1.obj = Objective(expr = ((1-model_ex1.x1)**2) + (((model_ex1.x2-model_ex1.x1**2)*100)**2) , sense=minimize)"
      ],
      "execution_count": null,
      "outputs": []
    },
    {
      "cell_type": "code",
      "metadata": {
        "colab": {
          "base_uri": "https://localhost:8080/"
        },
        "id": "xir_LEwYWjaA",
        "outputId": "8ac5d9fe-aa33-4b27-bccd-be42dd77ad78"
      },
      "source": [
        "#Printing the details of model_ex1 that we have created\n",
        "model_ex1.pprint() "
      ],
      "execution_count": null,
      "outputs": [
        {
          "output_type": "stream",
          "name": "stdout",
          "text": [
            "2 Var Declarations\n",
            "    x1 : Size=1, Index=None\n",
            "        Key  : Lower : Value : Upper : Fixed : Stale : Domain\n",
            "        None :  None :  None :  None : False :  True :  Reals\n",
            "    x2 : Size=1, Index=None\n",
            "        Key  : Lower : Value : Upper : Fixed : Stale : Domain\n",
            "        None :  None :  None :  None : False :  True :  Reals\n",
            "\n",
            "1 Objective Declarations\n",
            "    obj : Size=1, Index=None, Active=True\n",
            "        Key  : Active : Sense    : Expression\n",
            "        None :   True : minimize : (1 - x1)**2 + ((x2 - x1**2)*100)**2\n",
            "\n",
            "3 Declarations: x1 x2 obj\n"
          ]
        }
      ]
    },
    {
      "cell_type": "markdown",
      "metadata": {
        "id": "1rHaz_Z-aiqB"
      },
      "source": [
        "Ex 1.2"
      ]
    },
    {
      "cell_type": "code",
      "metadata": {
        "id": "XOCYKuHQW4ic"
      },
      "source": [
        "lower_bound = 5\n",
        "model_ex1.x1.setlb(lower_bound)\n",
        "model_ex1.x2.setlb(lower_bound)"
      ],
      "execution_count": null,
      "outputs": []
    },
    {
      "cell_type": "code",
      "metadata": {
        "id": "zLekyADA5AqQ"
      },
      "source": [
        "upper_bound = 10\n",
        "model_ex1.x1.setub(upper_bound)\n",
        "model_ex1.x2.setub(upper_bound)"
      ],
      "execution_count": null,
      "outputs": []
    },
    {
      "cell_type": "code",
      "metadata": {
        "colab": {
          "base_uri": "https://localhost:8080/"
        },
        "id": "ZS9B7QeWMQqh",
        "outputId": "033903b3-26fe-44e5-8f42-27cca5af8785"
      },
      "source": [
        "#Printing the details of model_ex1 that we have created\n",
        "model_ex1.pprint()"
      ],
      "execution_count": null,
      "outputs": [
        {
          "output_type": "stream",
          "name": "stdout",
          "text": [
            "2 Var Declarations\n",
            "    x1 : Size=1, Index=None\n",
            "        Key  : Lower : Value : Upper : Fixed : Stale : Domain\n",
            "        None :     5 :  None :    10 : False :  True :  Reals\n",
            "    x2 : Size=1, Index=None\n",
            "        Key  : Lower : Value : Upper : Fixed : Stale : Domain\n",
            "        None :     5 :  None :    10 : False :  True :  Reals\n",
            "\n",
            "1 Objective Declarations\n",
            "    obj : Size=1, Index=None, Active=True\n",
            "        Key  : Active : Sense    : Expression\n",
            "        None :   True : minimize : (1 - x1)**2 + ((x2 - x1**2)*100)**2\n",
            "\n",
            "3 Declarations: x1 x2 obj\n"
          ]
        }
      ]
    },
    {
      "cell_type": "markdown",
      "metadata": {
        "id": "MSGsRlueXB9P"
      },
      "source": [
        "Now loading the solver by passing the model to it and getting required result after solving "
      ]
    },
    {
      "cell_type": "code",
      "metadata": {
        "colab": {
          "base_uri": "https://localhost:8080/"
        },
        "id": "zChWeaXUXnHR",
        "outputId": "e7a60438-a4ff-4a7b-c8f0-890dfb545c78"
      },
      "source": [
        "opt_ipopt = SolverFactory('ipopt')\n",
        "result_ex1 = opt_ipopt.solve(model_ex1)\n",
        "print(result_ex1)"
      ],
      "execution_count": null,
      "outputs": [
        {
          "output_type": "stream",
          "name": "stdout",
          "text": [
            "\n",
            "Problem: \n",
            "- Lower bound: -inf\n",
            "  Upper bound: inf\n",
            "  Number of objectives: 1\n",
            "  Number of constraints: 0\n",
            "  Number of variables: 2\n",
            "  Sense: unknown\n",
            "Solver: \n",
            "- Status: ok\n",
            "  Message: Ipopt 3.13.2\\x3a Optimal Solution Found\n",
            "  Termination condition: optimal\n",
            "  Id: 0\n",
            "  Error rc: 0\n",
            "  Time: 0.020053386688232422\n",
            "Solution: \n",
            "- number of solutions: 0\n",
            "  number of solutions displayed: 0\n",
            "\n"
          ]
        }
      ]
    },
    {
      "cell_type": "code",
      "metadata": {
        "colab": {
          "base_uri": "https://localhost:8080/"
        },
        "id": "crS2Z6K8XojN",
        "outputId": "d5a03790-c6e1-4d20-b9d2-1db2e411afe9"
      },
      "source": [
        "print('The Solver status:', result_ex1.solver.status)\n",
        "print('The Solver termination condition:',result_ex1.solver.termination_condition)\n",
        "print('Objective function value is = ', model_ex1.obj())"
      ],
      "execution_count": null,
      "outputs": [
        {
          "output_type": "stream",
          "name": "stdout",
          "text": [
            "The Solver status: ok\n",
            "The Solver termination condition: optimal\n",
            "Objective function value is =  2250016.0\n"
          ]
        }
      ]
    },
    {
      "cell_type": "code",
      "metadata": {
        "id": "ykCuFBnAtFDz",
        "colab": {
          "base_uri": "https://localhost:8080/"
        },
        "outputId": "1c25fe35-0b00-405d-e8f4-4f53b0a9c0a2"
      },
      "source": [
        "#Printing the decision variables \n",
        "print('Decision Variables')\n",
        "print('x1 = ', model_ex1.x1.value)  \n",
        "print('x2 = ', model_ex1.x2.value)  "
      ],
      "execution_count": null,
      "outputs": [
        {
          "output_type": "stream",
          "name": "stdout",
          "text": [
            "Decision Variables\n",
            "x1 =  5.0\n",
            "x2 =  10.0\n"
          ]
        }
      ]
    },
    {
      "cell_type": "markdown",
      "metadata": {
        "id": "0zNjNwQ_X-WR"
      },
      "source": [
        "Ex 1.3"
      ]
    },
    {
      "cell_type": "markdown",
      "metadata": {
        "id": "pOjCVI4EYEsS"
      },
      "source": [
        "**Constraints :** \\\\\n",
        "model_ex1.constr_1=Constraint(expr=model.x1<=10) \\\\\n",
        "model_ex1.constr_2=Constraint(expr=model.x1>=5) \\\\\n",
        "model_ex1.constr_3=Constraint(expr=model.x2<=10) \\\\\n",
        "model_ex1.constr_4=Constraint(expr=model.x2>=5)"
      ]
    },
    {
      "cell_type": "code",
      "metadata": {
        "id": "spTIQb7CNosy"
      },
      "source": [
        "#New constraint addition in the model\n",
        "model_ex1.constr_5 = Constraint(expr= ((model_ex1.x1)**2 +(model_ex1.x2)**2) - (14*model_ex1.x1 + 12*model_ex1.x2) <= -83)"
      ],
      "execution_count": null,
      "outputs": []
    },
    {
      "cell_type": "code",
      "metadata": {
        "colab": {
          "base_uri": "https://localhost:8080/"
        },
        "id": "wtzwKbxEOtfR",
        "outputId": "021d733f-8bb1-42f0-c46f-8f31ab8d7f79"
      },
      "source": [
        "#Printing the details of model_ex1 that we have created\n",
        "model_ex1.pprint()"
      ],
      "execution_count": null,
      "outputs": [
        {
          "output_type": "stream",
          "name": "stdout",
          "text": [
            "2 Var Declarations\n",
            "    x1 : Size=1, Index=None\n",
            "        Key  : Lower : Value : Upper : Fixed : Stale : Domain\n",
            "        None :     5 :   5.0 :    10 : False : False :  Reals\n",
            "    x2 : Size=1, Index=None\n",
            "        Key  : Lower : Value : Upper : Fixed : Stale : Domain\n",
            "        None :     5 :  10.0 :    10 : False : False :  Reals\n",
            "\n",
            "1 Objective Declarations\n",
            "    obj : Size=1, Index=None, Active=True\n",
            "        Key  : Active : Sense    : Expression\n",
            "        None :   True : minimize : (1 - x1)**2 + ((x2 - x1**2)*100)**2\n",
            "\n",
            "1 Constraint Declarations\n",
            "    constr_5 : Size=1, Index=None, Active=True\n",
            "        Key  : Lower : Body                            : Upper : Active\n",
            "        None :  -Inf : x1**2 + x2**2 - (14*x1 + 12*x2) : -83.0 :   True\n",
            "\n",
            "4 Declarations: x1 x2 obj constr_5\n"
          ]
        }
      ]
    },
    {
      "cell_type": "code",
      "metadata": {
        "colab": {
          "base_uri": "https://localhost:8080/"
        },
        "id": "VgA_ZJA2Yp8Q",
        "outputId": "64256568-20de-4f38-8273-cb5f355dcfa1"
      },
      "source": [
        "opt_ipopt = SolverFactory('ipopt')\n",
        "result_ex1 = opt_ipopt.solve(model_ex1)\n",
        "print(result_ex1)"
      ],
      "execution_count": null,
      "outputs": [
        {
          "output_type": "stream",
          "name": "stdout",
          "text": [
            "\n",
            "Problem: \n",
            "- Lower bound: -inf\n",
            "  Upper bound: inf\n",
            "  Number of objectives: 1\n",
            "  Number of constraints: 1\n",
            "  Number of variables: 2\n",
            "  Sense: unknown\n",
            "Solver: \n",
            "- Status: ok\n",
            "  Message: Ipopt 3.13.2\\x3a Optimal Solution Found\n",
            "  Termination condition: optimal\n",
            "  Id: 0\n",
            "  Error rc: 0\n",
            "  Time: 0.02177906036376953\n",
            "Solution: \n",
            "- number of solutions: 0\n",
            "  number of solutions displayed: 0\n",
            "\n"
          ]
        }
      ]
    },
    {
      "cell_type": "code",
      "metadata": {
        "colab": {
          "base_uri": "https://localhost:8080/"
        },
        "id": "6E2jbwrsYrSc",
        "outputId": "cb8b5331-1c7d-43ac-ae6f-98223a37e20f"
      },
      "source": [
        "print('The Solver status:', result_ex1.solver.status)\n",
        "print('The Solver termination condition:',result_ex1.solver.termination_condition)\n",
        "print('The Objective function value = ', model_ex1.obj())"
      ],
      "execution_count": null,
      "outputs": [
        {
          "output_type": "stream",
          "name": "stdout",
          "text": [
            "The Solver status: ok\n",
            "The Solver termination condition: optimal\n",
            "The Objective function value =  6319145.95383758\n"
          ]
        }
      ]
    },
    {
      "cell_type": "code",
      "metadata": {
        "colab": {
          "base_uri": "https://localhost:8080/"
        },
        "id": "QOTmPjVoOzdq",
        "outputId": "07772d64-f4c3-4c88-e655-f2e3c6bbf3d9"
      },
      "source": [
        "#Printing decision variables values\n",
        "print('Decision Variables')\n",
        "print('x1 = ', model_ex1.x1.value)  \n",
        "print('x2 = ', model_ex1.x2.value)"
      ],
      "execution_count": null,
      "outputs": [
        {
          "output_type": "stream",
          "name": "stdout",
          "text": [
            "Decision Variables\n",
            "x1 =  5.59140679228246\n",
            "x2 =  6.125960331590355\n"
          ]
        }
      ]
    },
    {
      "cell_type": "markdown",
      "metadata": {
        "id": "LKpiPR8-aCor"
      },
      "source": [
        "Ex 1.4"
      ]
    },
    {
      "cell_type": "code",
      "metadata": {
        "id": "c8He8A444NZE"
      },
      "source": [
        "#clear() method clears all references to local variables"
      ],
      "execution_count": null,
      "outputs": []
    },
    {
      "cell_type": "code",
      "metadata": {
        "id": "LUp9G0Ue4Pga"
      },
      "source": [
        "model_ex1.x1.clear()"
      ],
      "execution_count": null,
      "outputs": []
    },
    {
      "cell_type": "code",
      "metadata": {
        "id": "w5-XgyFmQdd4"
      },
      "source": [
        "model_ex1.x2.clear()"
      ],
      "execution_count": null,
      "outputs": []
    },
    {
      "cell_type": "code",
      "metadata": {
        "id": "F81B7PytZAWz"
      },
      "source": [
        "upper_bound = np.inf\n",
        "model_ex1.x1.setub(upper_bound)\n",
        "model_ex1.x2.setub(upper_bound)"
      ],
      "execution_count": null,
      "outputs": []
    },
    {
      "cell_type": "code",
      "metadata": {
        "id": "wvWi9-GnAGFQ"
      },
      "source": [
        "lower_bound = -np.inf\n",
        "model_ex1.x1.setlb(lower_bound)\n",
        "model_ex1.x2.setlb(lower_bound)"
      ],
      "execution_count": null,
      "outputs": []
    },
    {
      "cell_type": "code",
      "metadata": {
        "colab": {
          "base_uri": "https://localhost:8080/"
        },
        "id": "ZXgIyMpqQqSF",
        "outputId": "dd8551a3-0e4f-48f5-87bf-2821abfe8f0e"
      },
      "source": [
        "#Printing the details of model_ex1 that we have created\n",
        "model_ex1.pprint()"
      ],
      "execution_count": null,
      "outputs": [
        {
          "output_type": "stream",
          "name": "stdout",
          "text": [
            "2 Var Declarations\n",
            "    x1 : Size=1, Index=None\n",
            "        Key  : Lower : Value : Upper : Fixed : Stale : Domain\n",
            "        None :  -inf :  None :   inf : False : False :  Reals\n",
            "    x2 : Size=1, Index=None\n",
            "        Key  : Lower : Value : Upper : Fixed : Stale : Domain\n",
            "        None :  -inf :  None :   inf : False : False :  Reals\n",
            "\n",
            "1 Objective Declarations\n",
            "    obj : Size=1, Index=None, Active=True\n",
            "        Key  : Active : Sense    : Expression\n",
            "        None :   True : minimize : (1 - x1)**2 + ((x2 - x1**2)*100)**2\n",
            "\n",
            "1 Constraint Declarations\n",
            "    constr_5 : Size=1, Index=None, Active=True\n",
            "        Key  : Lower : Body                            : Upper : Active\n",
            "        None :  -Inf : x1**2 + x2**2 - (14*x1 + 12*x2) : -83.0 :   True\n",
            "\n",
            "4 Declarations: x1 x2 obj constr_5\n"
          ]
        }
      ]
    },
    {
      "cell_type": "code",
      "metadata": {
        "colab": {
          "base_uri": "https://localhost:8080/"
        },
        "id": "eEPWuMWPaOTh",
        "outputId": "6172c20e-f6b4-46e8-8fa4-18659d152aa4"
      },
      "source": [
        "opt_ipopt = SolverFactory('ipopt')\n",
        "result_ex1 = opt_ipopt.solve(model_ex1)\n",
        "print(result_ex1)"
      ],
      "execution_count": null,
      "outputs": [
        {
          "output_type": "stream",
          "name": "stdout",
          "text": [
            "\n",
            "Problem: \n",
            "- Lower bound: -inf\n",
            "  Upper bound: inf\n",
            "  Number of objectives: 1\n",
            "  Number of constraints: 1\n",
            "  Number of variables: 2\n",
            "  Sense: unknown\n",
            "Solver: \n",
            "- Status: ok\n",
            "  Message: Ipopt 3.13.2\\x3a Optimal Solution Found\n",
            "  Termination condition: optimal\n",
            "  Id: 0\n",
            "  Error rc: 0\n",
            "  Time: 0.044638872146606445\n",
            "Solution: \n",
            "- number of solutions: 0\n",
            "  number of solutions displayed: 0\n",
            "\n"
          ]
        }
      ]
    },
    {
      "cell_type": "code",
      "metadata": {
        "colab": {
          "base_uri": "https://localhost:8080/"
        },
        "id": "oSDHy-v5aQZ-",
        "outputId": "1beeb608-8156-4dbe-cd9c-3578f243eb17"
      },
      "source": [
        "print('The Solver status:', result_ex1.solver.status)\n",
        "print('The Solver termination condition:',result_ex1.solver.termination_condition)\n",
        "print('The Objective function = ', model_ex1.obj())"
      ],
      "execution_count": null,
      "outputs": [
        {
          "output_type": "stream",
          "name": "stdout",
          "text": [
            "The Solver status: ok\n",
            "The Solver termination condition: optimal\n",
            "The Objective function =  6319145.95376243\n"
          ]
        }
      ]
    },
    {
      "cell_type": "code",
      "metadata": {
        "colab": {
          "base_uri": "https://localhost:8080/"
        },
        "id": "zNZxRWg3RBSK",
        "outputId": "950397f8-2281-49d3-846b-8c4f825781aa"
      },
      "source": [
        "print('Decision Variables')\n",
        "print('x1 = ', model_ex1.x1.value)  \n",
        "print('x2 = ', model_ex1.x2.value)"
      ],
      "execution_count": null,
      "outputs": [
        {
          "output_type": "stream",
          "name": "stdout",
          "text": [
            "Decision Variables\n",
            "x1 =  5.591406792267957\n",
            "x2 =  6.125960331577647\n"
          ]
        }
      ]
    }
  ]
}