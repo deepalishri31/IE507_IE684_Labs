{
  "nbformat": 4,
  "nbformat_minor": 0,
  "metadata": {
    "colab": {
      "name": "21i190006_IE507_Lab07_Ex1.ipynb",
      "provenance": [],
      "collapsed_sections": []
    },
    "kernelspec": {
      "name": "python3",
      "display_name": "Python 3"
    },
    "language_info": {
      "name": "python"
    }
  },
  "cells": [
    {
      "cell_type": "code",
      "metadata": {
        "id": "XkPxAmcIYCTs"
      },
      "source": [
        "#importing the required packages\n",
        "import pandas as pd"
      ],
      "execution_count": 2,
      "outputs": []
    },
    {
      "cell_type": "markdown",
      "metadata": {
        "id": "44u1PJYojwP_"
      },
      "source": [
        "Ex: 1.1"
      ]
    },
    {
      "cell_type": "code",
      "metadata": {
        "id": "s9Peg55plbyA"
      },
      "source": [
        "#loading the data into the pandas dataframe df\n",
        "df = pd.read_csv('cleveland_heart_attr.csv')"
      ],
      "execution_count": 3,
      "outputs": []
    },
    {
      "cell_type": "code",
      "metadata": {
        "colab": {
          "base_uri": "https://localhost:8080/"
        },
        "id": "WlsZ4B32lhLs",
        "outputId": "2d7d0823-6509-429d-d7e0-2a36b36e3fa2"
      },
      "source": [
        "#code to indentify number of rows and columns that dataframe df has\n",
        "df.info()"
      ],
      "execution_count": 4,
      "outputs": [
        {
          "output_type": "stream",
          "name": "stdout",
          "text": [
            "<class 'pandas.core.frame.DataFrame'>\n",
            "RangeIndex: 303 entries, 0 to 302\n",
            "Data columns (total 14 columns):\n",
            " #   Column                                  Non-Null Count  Dtype  \n",
            "---  ------                                  --------------  -----  \n",
            " 0   age                                     303 non-null    float64\n",
            " 1   sex                                     303 non-null    float64\n",
            " 2   chest_pain_type                         303 non-null    float64\n",
            " 3   rest_bp                                 303 non-null    float64\n",
            " 4   serum_cholesterol                       303 non-null    float64\n",
            " 5   fastblood_sugar                         303 non-null    float64\n",
            " 6   rest_ecg                                303 non-null    float64\n",
            " 7   max_heartrate                           303 non-null    float64\n",
            " 8   exercise_angina                         303 non-null    float64\n",
            " 9   ST_depression_exercise_relativeto_rest  303 non-null    float64\n",
            " 10  slope_peak_STsegment                    303 non-null    float64\n",
            " 11  num_major_vessels_fluroscopy            303 non-null    object \n",
            " 12  thal                                    303 non-null    object \n",
            " 13  heart_disease_status                    303 non-null    int64  \n",
            "dtypes: float64(11), int64(1), object(2)\n",
            "memory usage: 33.3+ KB\n"
          ]
        }
      ]
    },
    {
      "cell_type": "code",
      "metadata": {
        "colab": {
          "base_uri": "https://localhost:8080/",
          "height": 443
        },
        "id": "VahtOD27o0GW",
        "outputId": "731f31f8-5d20-4e32-8ee4-7cd18d24e45b"
      },
      "source": [
        "#printing the rows in dataframe df\n",
        "df.head(303)"
      ],
      "execution_count": 5,
      "outputs": [
        {
          "output_type": "execute_result",
          "data": {
            "text/html": [
              "<div>\n",
              "<style scoped>\n",
              "    .dataframe tbody tr th:only-of-type {\n",
              "        vertical-align: middle;\n",
              "    }\n",
              "\n",
              "    .dataframe tbody tr th {\n",
              "        vertical-align: top;\n",
              "    }\n",
              "\n",
              "    .dataframe thead th {\n",
              "        text-align: right;\n",
              "    }\n",
              "</style>\n",
              "<table border=\"1\" class=\"dataframe\">\n",
              "  <thead>\n",
              "    <tr style=\"text-align: right;\">\n",
              "      <th></th>\n",
              "      <th>age</th>\n",
              "      <th>sex</th>\n",
              "      <th>chest_pain_type</th>\n",
              "      <th>rest_bp</th>\n",
              "      <th>serum_cholesterol</th>\n",
              "      <th>fastblood_sugar</th>\n",
              "      <th>rest_ecg</th>\n",
              "      <th>max_heartrate</th>\n",
              "      <th>exercise_angina</th>\n",
              "      <th>ST_depression_exercise_relativeto_rest</th>\n",
              "      <th>slope_peak_STsegment</th>\n",
              "      <th>num_major_vessels_fluroscopy</th>\n",
              "      <th>thal</th>\n",
              "      <th>heart_disease_status</th>\n",
              "    </tr>\n",
              "  </thead>\n",
              "  <tbody>\n",
              "    <tr>\n",
              "      <th>0</th>\n",
              "      <td>63.0</td>\n",
              "      <td>1.0</td>\n",
              "      <td>1.0</td>\n",
              "      <td>145.0</td>\n",
              "      <td>233.0</td>\n",
              "      <td>1.0</td>\n",
              "      <td>2.0</td>\n",
              "      <td>150.0</td>\n",
              "      <td>0.0</td>\n",
              "      <td>2.3</td>\n",
              "      <td>3.0</td>\n",
              "      <td>0.0</td>\n",
              "      <td>6.0</td>\n",
              "      <td>0</td>\n",
              "    </tr>\n",
              "    <tr>\n",
              "      <th>1</th>\n",
              "      <td>67.0</td>\n",
              "      <td>1.0</td>\n",
              "      <td>4.0</td>\n",
              "      <td>160.0</td>\n",
              "      <td>286.0</td>\n",
              "      <td>0.0</td>\n",
              "      <td>2.0</td>\n",
              "      <td>108.0</td>\n",
              "      <td>1.0</td>\n",
              "      <td>1.5</td>\n",
              "      <td>2.0</td>\n",
              "      <td>3.0</td>\n",
              "      <td>3.0</td>\n",
              "      <td>2</td>\n",
              "    </tr>\n",
              "    <tr>\n",
              "      <th>2</th>\n",
              "      <td>67.0</td>\n",
              "      <td>1.0</td>\n",
              "      <td>4.0</td>\n",
              "      <td>120.0</td>\n",
              "      <td>229.0</td>\n",
              "      <td>0.0</td>\n",
              "      <td>2.0</td>\n",
              "      <td>129.0</td>\n",
              "      <td>1.0</td>\n",
              "      <td>2.6</td>\n",
              "      <td>2.0</td>\n",
              "      <td>2.0</td>\n",
              "      <td>7.0</td>\n",
              "      <td>1</td>\n",
              "    </tr>\n",
              "    <tr>\n",
              "      <th>3</th>\n",
              "      <td>37.0</td>\n",
              "      <td>1.0</td>\n",
              "      <td>3.0</td>\n",
              "      <td>130.0</td>\n",
              "      <td>250.0</td>\n",
              "      <td>0.0</td>\n",
              "      <td>0.0</td>\n",
              "      <td>187.0</td>\n",
              "      <td>0.0</td>\n",
              "      <td>3.5</td>\n",
              "      <td>3.0</td>\n",
              "      <td>0.0</td>\n",
              "      <td>3.0</td>\n",
              "      <td>0</td>\n",
              "    </tr>\n",
              "    <tr>\n",
              "      <th>4</th>\n",
              "      <td>41.0</td>\n",
              "      <td>0.0</td>\n",
              "      <td>2.0</td>\n",
              "      <td>130.0</td>\n",
              "      <td>204.0</td>\n",
              "      <td>0.0</td>\n",
              "      <td>2.0</td>\n",
              "      <td>172.0</td>\n",
              "      <td>0.0</td>\n",
              "      <td>1.4</td>\n",
              "      <td>1.0</td>\n",
              "      <td>0.0</td>\n",
              "      <td>3.0</td>\n",
              "      <td>0</td>\n",
              "    </tr>\n",
              "    <tr>\n",
              "      <th>...</th>\n",
              "      <td>...</td>\n",
              "      <td>...</td>\n",
              "      <td>...</td>\n",
              "      <td>...</td>\n",
              "      <td>...</td>\n",
              "      <td>...</td>\n",
              "      <td>...</td>\n",
              "      <td>...</td>\n",
              "      <td>...</td>\n",
              "      <td>...</td>\n",
              "      <td>...</td>\n",
              "      <td>...</td>\n",
              "      <td>...</td>\n",
              "      <td>...</td>\n",
              "    </tr>\n",
              "    <tr>\n",
              "      <th>298</th>\n",
              "      <td>45.0</td>\n",
              "      <td>1.0</td>\n",
              "      <td>1.0</td>\n",
              "      <td>110.0</td>\n",
              "      <td>264.0</td>\n",
              "      <td>0.0</td>\n",
              "      <td>0.0</td>\n",
              "      <td>132.0</td>\n",
              "      <td>0.0</td>\n",
              "      <td>1.2</td>\n",
              "      <td>2.0</td>\n",
              "      <td>0.0</td>\n",
              "      <td>7.0</td>\n",
              "      <td>1</td>\n",
              "    </tr>\n",
              "    <tr>\n",
              "      <th>299</th>\n",
              "      <td>68.0</td>\n",
              "      <td>1.0</td>\n",
              "      <td>4.0</td>\n",
              "      <td>144.0</td>\n",
              "      <td>193.0</td>\n",
              "      <td>1.0</td>\n",
              "      <td>0.0</td>\n",
              "      <td>141.0</td>\n",
              "      <td>0.0</td>\n",
              "      <td>3.4</td>\n",
              "      <td>2.0</td>\n",
              "      <td>2.0</td>\n",
              "      <td>7.0</td>\n",
              "      <td>2</td>\n",
              "    </tr>\n",
              "    <tr>\n",
              "      <th>300</th>\n",
              "      <td>57.0</td>\n",
              "      <td>1.0</td>\n",
              "      <td>4.0</td>\n",
              "      <td>130.0</td>\n",
              "      <td>131.0</td>\n",
              "      <td>0.0</td>\n",
              "      <td>0.0</td>\n",
              "      <td>115.0</td>\n",
              "      <td>1.0</td>\n",
              "      <td>1.2</td>\n",
              "      <td>2.0</td>\n",
              "      <td>1.0</td>\n",
              "      <td>7.0</td>\n",
              "      <td>3</td>\n",
              "    </tr>\n",
              "    <tr>\n",
              "      <th>301</th>\n",
              "      <td>57.0</td>\n",
              "      <td>0.0</td>\n",
              "      <td>2.0</td>\n",
              "      <td>130.0</td>\n",
              "      <td>236.0</td>\n",
              "      <td>0.0</td>\n",
              "      <td>2.0</td>\n",
              "      <td>174.0</td>\n",
              "      <td>0.0</td>\n",
              "      <td>0.0</td>\n",
              "      <td>2.0</td>\n",
              "      <td>1.0</td>\n",
              "      <td>3.0</td>\n",
              "      <td>1</td>\n",
              "    </tr>\n",
              "    <tr>\n",
              "      <th>302</th>\n",
              "      <td>38.0</td>\n",
              "      <td>1.0</td>\n",
              "      <td>3.0</td>\n",
              "      <td>138.0</td>\n",
              "      <td>175.0</td>\n",
              "      <td>0.0</td>\n",
              "      <td>0.0</td>\n",
              "      <td>173.0</td>\n",
              "      <td>0.0</td>\n",
              "      <td>0.0</td>\n",
              "      <td>1.0</td>\n",
              "      <td>?</td>\n",
              "      <td>3.0</td>\n",
              "      <td>0</td>\n",
              "    </tr>\n",
              "  </tbody>\n",
              "</table>\n",
              "<p>303 rows × 14 columns</p>\n",
              "</div>"
            ],
            "text/plain": [
              "      age  sex  ...  thal  heart_disease_status\n",
              "0    63.0  1.0  ...   6.0                     0\n",
              "1    67.0  1.0  ...   3.0                     2\n",
              "2    67.0  1.0  ...   7.0                     1\n",
              "3    37.0  1.0  ...   3.0                     0\n",
              "4    41.0  0.0  ...   3.0                     0\n",
              "..    ...  ...  ...   ...                   ...\n",
              "298  45.0  1.0  ...   7.0                     1\n",
              "299  68.0  1.0  ...   7.0                     2\n",
              "300  57.0  1.0  ...   7.0                     3\n",
              "301  57.0  0.0  ...   3.0                     1\n",
              "302  38.0  1.0  ...   3.0                     0\n",
              "\n",
              "[303 rows x 14 columns]"
            ]
          },
          "metadata": {},
          "execution_count": 5
        }
      ]
    },
    {
      "cell_type": "code",
      "metadata": {
        "colab": {
          "base_uri": "https://localhost:8080/"
        },
        "id": "lAP5jPJgktPm",
        "outputId": "5e4161d7-34bf-437b-ec22-b25fc76ad9f2"
      },
      "source": [
        "#printing the columns in dataframe df\n",
        "(df.columns)"
      ],
      "execution_count": 6,
      "outputs": [
        {
          "output_type": "execute_result",
          "data": {
            "text/plain": [
              "Index(['age', 'sex', 'chest_pain_type', 'rest_bp', 'serum_cholesterol',\n",
              "       'fastblood_sugar', 'rest_ecg', 'max_heartrate', 'exercise_angina',\n",
              "       'ST_depression_exercise_relativeto_rest', 'slope_peak_STsegment',\n",
              "       'num_major_vessels_fluroscopy', 'thal', 'heart_disease_status'],\n",
              "      dtype='object')"
            ]
          },
          "metadata": {},
          "execution_count": 6
        }
      ]
    },
    {
      "cell_type": "code",
      "metadata": {
        "colab": {
          "base_uri": "https://localhost:8080/"
        },
        "id": "NyiYaXlxoWtp",
        "outputId": "67604b96-eafb-48c1-a9f4-db7be261f00b"
      },
      "source": [
        "print(\"No. of rows are 303 \\nNo. of column are 14\") "
      ],
      "execution_count": 7,
      "outputs": [
        {
          "output_type": "stream",
          "name": "stdout",
          "text": [
            "No. of rows are 303 \n",
            "No. of column are 14\n"
          ]
        }
      ]
    },
    {
      "cell_type": "markdown",
      "metadata": {
        "id": "Lnwn6HwJlh8A"
      },
      "source": [
        "Ex: 1.2"
      ]
    },
    {
      "cell_type": "code",
      "metadata": {
        "colab": {
          "base_uri": "https://localhost:8080/"
        },
        "id": "qsTi7NPqlhN7",
        "outputId": "ae22947e-275a-4406-f0d8-3b8ea74a0fce"
      },
      "source": [
        "#code to exact information of atttributes\n",
        "df.info()"
      ],
      "execution_count": 8,
      "outputs": [
        {
          "output_type": "stream",
          "name": "stdout",
          "text": [
            "<class 'pandas.core.frame.DataFrame'>\n",
            "RangeIndex: 303 entries, 0 to 302\n",
            "Data columns (total 14 columns):\n",
            " #   Column                                  Non-Null Count  Dtype  \n",
            "---  ------                                  --------------  -----  \n",
            " 0   age                                     303 non-null    float64\n",
            " 1   sex                                     303 non-null    float64\n",
            " 2   chest_pain_type                         303 non-null    float64\n",
            " 3   rest_bp                                 303 non-null    float64\n",
            " 4   serum_cholesterol                       303 non-null    float64\n",
            " 5   fastblood_sugar                         303 non-null    float64\n",
            " 6   rest_ecg                                303 non-null    float64\n",
            " 7   max_heartrate                           303 non-null    float64\n",
            " 8   exercise_angina                         303 non-null    float64\n",
            " 9   ST_depression_exercise_relativeto_rest  303 non-null    float64\n",
            " 10  slope_peak_STsegment                    303 non-null    float64\n",
            " 11  num_major_vessels_fluroscopy            303 non-null    object \n",
            " 12  thal                                    303 non-null    object \n",
            " 13  heart_disease_status                    303 non-null    int64  \n",
            "dtypes: float64(11), int64(1), object(2)\n",
            "memory usage: 33.3+ KB\n"
          ]
        }
      ]
    },
    {
      "cell_type": "markdown",
      "metadata": {
        "id": "mC1QRHyQl0Rl"
      },
      "source": [
        "Datatype of columns num_major_vessels_fluroscopy and thal is object type because some entries in these columns are \"?\" which are not int or float type "
      ]
    },
    {
      "cell_type": "markdown",
      "metadata": {
        "id": "4p_Biwp0sLGN"
      },
      "source": [
        "Ex: 1.3"
      ]
    },
    {
      "cell_type": "code",
      "metadata": {
        "colab": {
          "base_uri": "https://localhost:8080/",
          "height": 316
        },
        "id": "S-nghoz3pFMi",
        "outputId": "ce1fa829-bdb3-4401-ac7e-6a65d06ce070"
      },
      "source": [
        "#code to understand the age distribution of the patients in the data\n",
        "df.hist(column='age')"
      ],
      "execution_count": 9,
      "outputs": [
        {
          "output_type": "execute_result",
          "data": {
            "text/plain": [
              "array([[<matplotlib.axes._subplots.AxesSubplot object at 0x7faf6897cd90>]],\n",
              "      dtype=object)"
            ]
          },
          "metadata": {},
          "execution_count": 9
        },
        {
          "output_type": "display_data",
          "data": {
            "image/png": "[encoded data removed]",
            "text/plain": [
              "<Figure size 432x288 with 1 Axes>"
            ]
          },
          "metadata": {
            "needs_background": "light"
          }
        }
      ]
    },
    {
      "cell_type": "code",
      "metadata": {
        "colab": {
          "base_uri": "https://localhost:8080/"
        },
        "id": "pdIvJYam_Axp",
        "outputId": "baa08408-5910-4db4-c083-f0c3ff56684b"
      },
      "source": [
        "print('Bins are classified as consecutive, non-overlapping intervals of a variable. The bins (intervals) must be adjacent, and are often (but are not required to be) of equal size.\\nHow to calculate bin size?\\nBin size  = (max value of data – min value of data) / total number of bins')"
      ],
      "execution_count": 10,
      "outputs": [
        {
          "output_type": "stream",
          "name": "stdout",
          "text": [
            "Bins are classified as consecutive, non-overlapping intervals of a variable. The bins (intervals) must be adjacent, and are often (but are not required to be) of equal size.\n",
            "How to calculate bin size?\n",
            "Bin size  = (max value of data – min value of data) / total number of bins\n"
          ]
        }
      ]
    },
    {
      "cell_type": "code",
      "metadata": {
        "colab": {
          "base_uri": "https://localhost:8080/",
          "height": 320
        },
        "id": "t_CVl9iN1iBA",
        "outputId": "51bc5ba6-e2f6-40f0-d78e-76392d16ef9c"
      },
      "source": [
        "#code to find out maximun and minimun value of data , so we can apply above given formula to calculate bin size \n",
        "df.describe()"
      ],
      "execution_count": 11,
      "outputs": [
        {
          "output_type": "execute_result",
          "data": {
            "text/html": [
              "<div>\n",
              "<style scoped>\n",
              "    .dataframe tbody tr th:only-of-type {\n",
              "        vertical-align: middle;\n",
              "    }\n",
              "\n",
              "    .dataframe tbody tr th {\n",
              "        vertical-align: top;\n",
              "    }\n",
              "\n",
              "    .dataframe thead th {\n",
              "        text-align: right;\n",
              "    }\n",
              "</style>\n",
              "<table border=\"1\" class=\"dataframe\">\n",
              "  <thead>\n",
              "    <tr style=\"text-align: right;\">\n",
              "      <th></th>\n",
              "      <th>age</th>\n",
              "      <th>sex</th>\n",
              "      <th>chest_pain_type</th>\n",
              "      <th>rest_bp</th>\n",
              "      <th>serum_cholesterol</th>\n",
              "      <th>fastblood_sugar</th>\n",
              "      <th>rest_ecg</th>\n",
              "      <th>max_heartrate</th>\n",
              "      <th>exercise_angina</th>\n",
              "      <th>ST_depression_exercise_relativeto_rest</th>\n",
              "      <th>slope_peak_STsegment</th>\n",
              "      <th>heart_disease_status</th>\n",
              "    </tr>\n",
              "  </thead>\n",
              "  <tbody>\n",
              "    <tr>\n",
              "      <th>count</th>\n",
              "      <td>303.000000</td>\n",
              "      <td>303.000000</td>\n",
              "      <td>303.000000</td>\n",
              "      <td>303.000000</td>\n",
              "      <td>303.000000</td>\n",
              "      <td>303.000000</td>\n",
              "      <td>303.000000</td>\n",
              "      <td>303.000000</td>\n",
              "      <td>303.000000</td>\n",
              "      <td>303.000000</td>\n",
              "      <td>303.000000</td>\n",
              "      <td>303.000000</td>\n",
              "    </tr>\n",
              "    <tr>\n",
              "      <th>mean</th>\n",
              "      <td>54.438944</td>\n",
              "      <td>0.679868</td>\n",
              "      <td>3.158416</td>\n",
              "      <td>131.689769</td>\n",
              "      <td>246.693069</td>\n",
              "      <td>0.148515</td>\n",
              "      <td>0.990099</td>\n",
              "      <td>149.607261</td>\n",
              "      <td>0.326733</td>\n",
              "      <td>1.039604</td>\n",
              "      <td>1.600660</td>\n",
              "      <td>0.937294</td>\n",
              "    </tr>\n",
              "    <tr>\n",
              "      <th>std</th>\n",
              "      <td>9.038662</td>\n",
              "      <td>0.467299</td>\n",
              "      <td>0.960126</td>\n",
              "      <td>17.599748</td>\n",
              "      <td>51.776918</td>\n",
              "      <td>0.356198</td>\n",
              "      <td>0.994971</td>\n",
              "      <td>22.875003</td>\n",
              "      <td>0.469794</td>\n",
              "      <td>1.161075</td>\n",
              "      <td>0.616226</td>\n",
              "      <td>1.228536</td>\n",
              "    </tr>\n",
              "    <tr>\n",
              "      <th>min</th>\n",
              "      <td>29.000000</td>\n",
              "      <td>0.000000</td>\n",
              "      <td>1.000000</td>\n",
              "      <td>94.000000</td>\n",
              "      <td>126.000000</td>\n",
              "      <td>0.000000</td>\n",
              "      <td>0.000000</td>\n",
              "      <td>71.000000</td>\n",
              "      <td>0.000000</td>\n",
              "      <td>0.000000</td>\n",
              "      <td>1.000000</td>\n",
              "      <td>0.000000</td>\n",
              "    </tr>\n",
              "    <tr>\n",
              "      <th>25%</th>\n",
              "      <td>48.000000</td>\n",
              "      <td>0.000000</td>\n",
              "      <td>3.000000</td>\n",
              "      <td>120.000000</td>\n",
              "      <td>211.000000</td>\n",
              "      <td>0.000000</td>\n",
              "      <td>0.000000</td>\n",
              "      <td>133.500000</td>\n",
              "      <td>0.000000</td>\n",
              "      <td>0.000000</td>\n",
              "      <td>1.000000</td>\n",
              "      <td>0.000000</td>\n",
              "    </tr>\n",
              "    <tr>\n",
              "      <th>50%</th>\n",
              "      <td>56.000000</td>\n",
              "      <td>1.000000</td>\n",
              "      <td>3.000000</td>\n",
              "      <td>130.000000</td>\n",
              "      <td>241.000000</td>\n",
              "      <td>0.000000</td>\n",
              "      <td>1.000000</td>\n",
              "      <td>153.000000</td>\n",
              "      <td>0.000000</td>\n",
              "      <td>0.800000</td>\n",
              "      <td>2.000000</td>\n",
              "      <td>0.000000</td>\n",
              "    </tr>\n",
              "    <tr>\n",
              "      <th>75%</th>\n",
              "      <td>61.000000</td>\n",
              "      <td>1.000000</td>\n",
              "      <td>4.000000</td>\n",
              "      <td>140.000000</td>\n",
              "      <td>275.000000</td>\n",
              "      <td>0.000000</td>\n",
              "      <td>2.000000</td>\n",
              "      <td>166.000000</td>\n",
              "      <td>1.000000</td>\n",
              "      <td>1.600000</td>\n",
              "      <td>2.000000</td>\n",
              "      <td>2.000000</td>\n",
              "    </tr>\n",
              "    <tr>\n",
              "      <th>max</th>\n",
              "      <td>77.000000</td>\n",
              "      <td>1.000000</td>\n",
              "      <td>4.000000</td>\n",
              "      <td>200.000000</td>\n",
              "      <td>564.000000</td>\n",
              "      <td>1.000000</td>\n",
              "      <td>2.000000</td>\n",
              "      <td>202.000000</td>\n",
              "      <td>1.000000</td>\n",
              "      <td>6.200000</td>\n",
              "      <td>3.000000</td>\n",
              "      <td>4.000000</td>\n",
              "    </tr>\n",
              "  </tbody>\n",
              "</table>\n",
              "</div>"
            ],
            "text/plain": [
              "              age         sex  ...  slope_peak_STsegment  heart_disease_status\n",
              "count  303.000000  303.000000  ...            303.000000            303.000000\n",
              "mean    54.438944    0.679868  ...              1.600660              0.937294\n",
              "std      9.038662    0.467299  ...              0.616226              1.228536\n",
              "min     29.000000    0.000000  ...              1.000000              0.000000\n",
              "25%     48.000000    0.000000  ...              1.000000              0.000000\n",
              "50%     56.000000    1.000000  ...              2.000000              0.000000\n",
              "75%     61.000000    1.000000  ...              2.000000              2.000000\n",
              "max     77.000000    1.000000  ...              3.000000              4.000000\n",
              "\n",
              "[8 rows x 12 columns]"
            ]
          },
          "metadata": {},
          "execution_count": 11
        }
      ]
    },
    {
      "cell_type": "markdown",
      "metadata": {
        "id": "O-sZhOQ91-c4"
      },
      "source": [
        "**bin size = (max value of data – min value of data) / total number of bins** \\\\\n",
        "max value is 77 \\\\\n",
        "min value is 29 \\\\\n",
        "Total number of bins are 10 \\\\\n",
        "bin size = (77-29)/10 = 4.8"
      ]
    },
    {
      "cell_type": "code",
      "metadata": {
        "colab": {
          "base_uri": "https://localhost:8080/"
        },
        "id": "iFFg_MKNsqRB",
        "outputId": "f5f15abd-6217-4acf-e0ee-d9dc00f612d0"
      },
      "source": [
        "#clearly on applying the above formula bin size is \n",
        "print(\"The number of bins are 10.\\nBin size is 4.8. \")"
      ],
      "execution_count": 12,
      "outputs": [
        {
          "output_type": "stream",
          "name": "stdout",
          "text": [
            "The number of bins are 10.\n",
            "Bin size is 4.8. \n"
          ]
        }
      ]
    },
    {
      "cell_type": "markdown",
      "metadata": {
        "id": "kjPxTgqOy95t"
      },
      "source": [
        "Ex: 1.4"
      ]
    },
    {
      "cell_type": "code",
      "metadata": {
        "colab": {
          "base_uri": "https://localhost:8080/",
          "height": 316
        },
        "id": "krHDgjvFzBkY",
        "outputId": "ccbd1868-b6ac-418e-b843-5cd1b9083801"
      },
      "source": [
        "#Code for plotting the histogram on age attribute for 50 bins\n",
        "df.hist(column='age',bins=50)"
      ],
      "execution_count": 13,
      "outputs": [
        {
          "output_type": "execute_result",
          "data": {
            "text/plain": [
              "array([[<matplotlib.axes._subplots.AxesSubplot object at 0x7faf61db44d0>]],\n",
              "      dtype=object)"
            ]
          },
          "metadata": {},
          "execution_count": 13
        },
        {
          "output_type": "display_data",
          "data": {
            "image/png": "[encoded data removed]",
            "text/plain": [
              "<Figure size 432x288 with 1 Axes>"
            ]
          },
          "metadata": {
            "needs_background": "light"
          }
        }
      ]
    },
    {
      "cell_type": "markdown",
      "metadata": {
        "id": "mrSwEwyJ3Kob"
      },
      "source": [
        "**bin size = (max value of data – min value of data) / total number of bins** \\\\\n",
        "max value is 77 \\\\\n",
        "min value is 29 \\\\\n",
        "Total number of bins are 50 \\\\\n",
        "bin size = (77-29)/50 = 0.96"
      ]
    },
    {
      "cell_type": "code",
      "metadata": {
        "id": "0w6NYZjb3blR",
        "colab": {
          "base_uri": "https://localhost:8080/"
        },
        "outputId": "3e88c4bf-21cb-4b35-a01a-b9ac34e9efdc"
      },
      "source": [
        "print(\"Bin size is 0.96\")"
      ],
      "execution_count": 14,
      "outputs": [
        {
          "output_type": "stream",
          "name": "stdout",
          "text": [
            "Bin size is 0.96\n"
          ]
        }
      ]
    },
    {
      "cell_type": "markdown",
      "metadata": {
        "id": "EbBESwqW3jyx"
      },
      "source": [
        "**Observation** :\n",
        "Bin size depends on the number of bins.Increase in number of bin will result in decrease in bin size.The default value of the number of bins to be created in a histogram is 10. However, we can change the size of bins and we can clearly see the difference in the graphs."
      ]
    },
    {
      "cell_type": "markdown",
      "metadata": {
        "id": "q02tGMp3wDZd"
      },
      "source": [
        "Ex: 1.5 \\\\\n",
        "Kernel Density Estimation (KDE) is a non-parametric way to estimate the probability density function (PDF) of a random variable that describes well the randomness of the data.We use KDE option when we are interested in calculating a smoother estimate. "
      ]
    },
    {
      "cell_type": "code",
      "metadata": {
        "id": "0-eBLcsRweSz"
      },
      "source": [
        "#To use KDE option we need to import seaborn package\n",
        "#importing seaborn package\n",
        "import seaborn as sns "
      ],
      "execution_count": 15,
      "outputs": []
    },
    {
      "cell_type": "code",
      "metadata": {
        "colab": {
          "base_uri": "https://localhost:8080/",
          "height": 296
        },
        "id": "Vlqkzx9Cw7qn",
        "outputId": "90fe1d75-6d09-4684-f061-75980aeed473"
      },
      "source": [
        "#The age distribution can be plotted as a graph based on the underlying histogram \n",
        "#Code how to use kde option in histplot()\n",
        "sns.histplot(df.age,kde=True)"
      ],
      "execution_count": 16,
      "outputs": [
        {
          "output_type": "execute_result",
          "data": {
            "text/plain": [
              "<matplotlib.axes._subplots.AxesSubplot at 0x7faf53618d50>"
            ]
          },
          "metadata": {},
          "execution_count": 16
        },
        {
          "output_type": "display_data",
          "data": {
            "image/png": "[encoded data removed]",
            "text/plain": [
              "<Figure size 432x288 with 1 Axes>"
            ]
          },
          "metadata": {
            "needs_background": "light"
          }
        }
      ]
    },
    {
      "cell_type": "markdown",
      "metadata": {
        "id": "UFu3PQgQBBbG"
      },
      "source": [
        "Ex : 1.6"
      ]
    },
    {
      "cell_type": "code",
      "metadata": {
        "id": "o3d3DLcSA9xX"
      },
      "source": [
        "#code for pandas based histogram for attribute serum_cholesterol\n",
        "#Using bin sizes {10, 20, 50, 100, 200, 500}"
      ],
      "execution_count": 64,
      "outputs": []
    },
    {
      "cell_type": "code",
      "metadata": {
        "colab": {
          "base_uri": "https://localhost:8080/",
          "height": 316
        },
        "id": "S4q3mrr_4Zi-",
        "outputId": "7b86fc13-a5da-447a-e340-e0678e790736"
      },
      "source": [
        "df.hist(column='serum_cholesterol')"
      ],
      "execution_count": 63,
      "outputs": [
        {
          "output_type": "execute_result",
          "data": {
            "text/plain": [
              "array([[<matplotlib.axes._subplots.AxesSubplot object at 0x7faf46251850>]],\n",
              "      dtype=object)"
            ]
          },
          "metadata": {},
          "execution_count": 63
        },
        {
          "output_type": "display_data",
          "data": {
            "image/png": "[encoded data removed]",
            "text/plain": [
              "<Figure size 432x288 with 1 Axes>"
            ]
          },
          "metadata": {
            "needs_background": "light"
          }
        }
      ]
    },
    {
      "cell_type": "code",
      "metadata": {
        "colab": {
          "base_uri": "https://localhost:8080/",
          "height": 316
        },
        "id": "R4FrcPnbTAwc",
        "outputId": "d51f248e-89ce-4639-cef5-a85bc341b416"
      },
      "source": [
        "df.hist(column='serum_cholesterol',bins=20)"
      ],
      "execution_count": 18,
      "outputs": [
        {
          "output_type": "execute_result",
          "data": {
            "text/plain": [
              "array([[<matplotlib.axes._subplots.AxesSubplot object at 0x7faf5124f590>]],\n",
              "      dtype=object)"
            ]
          },
          "metadata": {},
          "execution_count": 18
        },
        {
          "output_type": "display_data",
          "data": {
            "image/png": "[encoded data removed]",
            "text/plain": [
              "<Figure size 432x288 with 1 Axes>"
            ]
          },
          "metadata": {
            "needs_background": "light"
          }
        }
      ]
    },
    {
      "cell_type": "code",
      "metadata": {
        "colab": {
          "base_uri": "https://localhost:8080/",
          "height": 316
        },
        "id": "Yd56ofncTEXD",
        "outputId": "4879909b-8b5c-45dd-d8ce-1798a38061be"
      },
      "source": [
        "df.hist(column='serum_cholesterol',bins=50)"
      ],
      "execution_count": 19,
      "outputs": [
        {
          "output_type": "execute_result",
          "data": {
            "text/plain": [
              "array([[<matplotlib.axes._subplots.AxesSubplot object at 0x7faf511e2510>]],\n",
              "      dtype=object)"
            ]
          },
          "metadata": {},
          "execution_count": 19
        },
        {
          "output_type": "display_data",
          "data": {
            "image/png": "[encoded data removed]",
            "text/plain": [
              "<Figure size 432x288 with 1 Axes>"
            ]
          },
          "metadata": {
            "needs_background": "light"
          }
        }
      ]
    },
    {
      "cell_type": "code",
      "metadata": {
        "colab": {
          "base_uri": "https://localhost:8080/",
          "height": 316
        },
        "id": "COP6x4EyTDth",
        "outputId": "69809b72-2e95-453f-dc9d-63abb2d7816f"
      },
      "source": [
        "df.hist(column='serum_cholesterol',bins=100)"
      ],
      "execution_count": 20,
      "outputs": [
        {
          "output_type": "execute_result",
          "data": {
            "text/plain": [
              "array([[<matplotlib.axes._subplots.AxesSubplot object at 0x7faf51197c50>]],\n",
              "      dtype=object)"
            ]
          },
          "metadata": {},
          "execution_count": 20
        },
        {
          "output_type": "display_data",
          "data": {
            "image/png": "[encoded data removed]",
            "text/plain": [
              "<Figure size 432x288 with 1 Axes>"
            ]
          },
          "metadata": {
            "needs_background": "light"
          }
        }
      ]
    },
    {
      "cell_type": "code",
      "metadata": {
        "colab": {
          "base_uri": "https://localhost:8080/",
          "height": 316
        },
        "id": "tvDpbLWjTMWM",
        "outputId": "ba2f8752-7576-4ec9-9635-ed1d324ba53f"
      },
      "source": [
        "df.hist(column='serum_cholesterol',bins=200)"
      ],
      "execution_count": 21,
      "outputs": [
        {
          "output_type": "execute_result",
          "data": {
            "text/plain": [
              "array([[<matplotlib.axes._subplots.AxesSubplot object at 0x7faf51137dd0>]],\n",
              "      dtype=object)"
            ]
          },
          "metadata": {},
          "execution_count": 21
        },
        {
          "output_type": "display_data",
          "data": {
            "image/png": "[encoded data removed]",
            "text/plain": [
              "<Figure size 432x288 with 1 Axes>"
            ]
          },
          "metadata": {
            "needs_background": "light"
          }
        }
      ]
    },
    {
      "cell_type": "code",
      "metadata": {
        "colab": {
          "base_uri": "https://localhost:8080/",
          "height": 316
        },
        "id": "lXumno-NTOiD",
        "outputId": "6a8e835f-23aa-4105-f166-a7b274699b8b"
      },
      "source": [
        "df.hist(column='serum_cholesterol',bins=500)"
      ],
      "execution_count": 22,
      "outputs": [
        {
          "output_type": "execute_result",
          "data": {
            "text/plain": [
              "array([[<matplotlib.axes._subplots.AxesSubplot object at 0x7faf50ca0ad0>]],\n",
              "      dtype=object)"
            ]
          },
          "metadata": {},
          "execution_count": 22
        },
        {
          "output_type": "display_data",
          "data": {
            "image/png": "[encoded data removed]",
            "text/plain": [
              "<Figure size 432x288 with 1 Axes>"
            ]
          },
          "metadata": {
            "needs_background": "light"
          }
        }
      ]
    },
    {
      "cell_type": "code",
      "metadata": {
        "id": "hIr1PRN3A-DQ"
      },
      "source": [
        "#Code for seaborn based histogram for attribute serum_cholesterol\n",
        "#Using bin sizes {10, 20, 50, 100, 200, 500}\n",
        "#Using KDE option"
      ],
      "execution_count": 65,
      "outputs": []
    },
    {
      "cell_type": "code",
      "metadata": {
        "colab": {
          "base_uri": "https://localhost:8080/",
          "height": 298
        },
        "id": "XVxJmdA54p9T",
        "outputId": "11124643-c704-4b10-f4f6-6643e1669d03"
      },
      "source": [
        "sns.histplot(df.serum_cholesterol,kde=True)"
      ],
      "execution_count": 66,
      "outputs": [
        {
          "output_type": "execute_result",
          "data": {
            "text/plain": [
              "<matplotlib.axes._subplots.AxesSubplot at 0x7faf4693bbd0>"
            ]
          },
          "metadata": {},
          "execution_count": 66
        },
        {
          "output_type": "display_data",
          "data": {
            "image/png": "[encoded data removed]",
            "text/plain": [
              "<Figure size 432x288 with 1 Axes>"
            ]
          },
          "metadata": {
            "needs_background": "light"
          }
        }
      ]
    },
    {
      "cell_type": "code",
      "metadata": {
        "colab": {
          "base_uri": "https://localhost:8080/",
          "height": 298
        },
        "id": "O8zs085pTVAT",
        "outputId": "efe4e6df-47ca-411f-9148-2ddaf3fec462"
      },
      "source": [
        "sns.histplot(df.serum_cholesterol,kde=True,bins=20)"
      ],
      "execution_count": 24,
      "outputs": [
        {
          "output_type": "execute_result",
          "data": {
            "text/plain": [
              "<matplotlib.axes._subplots.AxesSubplot at 0x7faf505f7b10>"
            ]
          },
          "metadata": {},
          "execution_count": 24
        },
        {
          "output_type": "display_data",
          "data": {
            "image/png": "[encoded data removed]",
            "text/plain": [
              "<Figure size 432x288 with 1 Axes>"
            ]
          },
          "metadata": {
            "needs_background": "light"
          }
        }
      ]
    },
    {
      "cell_type": "code",
      "metadata": {
        "colab": {
          "base_uri": "https://localhost:8080/",
          "height": 300
        },
        "id": "-QCGyaSLTbeS",
        "outputId": "f2e75a24-47ee-47be-9df4-ea5359541731"
      },
      "source": [
        "sns.histplot(df.serum_cholesterol,kde=True,bins=50)"
      ],
      "execution_count": 25,
      "outputs": [
        {
          "output_type": "execute_result",
          "data": {
            "text/plain": [
              "<matplotlib.axes._subplots.AxesSubplot at 0x7faf5054c6d0>"
            ]
          },
          "metadata": {},
          "execution_count": 25
        },
        {
          "output_type": "display_data",
          "data": {
            "image/png": "[encoded data removed]",
            "text/plain": [
              "<Figure size 432x288 with 1 Axes>"
            ]
          },
          "metadata": {
            "needs_background": "light"
          }
        }
      ]
    },
    {
      "cell_type": "code",
      "metadata": {
        "colab": {
          "base_uri": "https://localhost:8080/",
          "height": 298
        },
        "id": "f3mZrv5tTd2H",
        "outputId": "4336dbfe-af52-424d-ba45-d9a2c23a0a1e"
      },
      "source": [
        "sns.histplot(df.serum_cholesterol,kde=True,bins=100)"
      ],
      "execution_count": 26,
      "outputs": [
        {
          "output_type": "execute_result",
          "data": {
            "text/plain": [
              "<matplotlib.axes._subplots.AxesSubplot at 0x7faf50461d50>"
            ]
          },
          "metadata": {},
          "execution_count": 26
        },
        {
          "output_type": "display_data",
          "data": {
            "image/png": "[encoded data removed]",
            "text/plain": [
              "<Figure size 432x288 with 1 Axes>"
            ]
          },
          "metadata": {
            "needs_background": "light"
          }
        }
      ]
    },
    {
      "cell_type": "code",
      "metadata": {
        "colab": {
          "base_uri": "https://localhost:8080/",
          "height": 298
        },
        "id": "KUVJ2yv7Tgzb",
        "outputId": "49919475-283c-4971-8678-9e963fcd5a2b"
      },
      "source": [
        "sns.histplot(df.serum_cholesterol,kde=True,bins=200)"
      ],
      "execution_count": 27,
      "outputs": [
        {
          "output_type": "execute_result",
          "data": {
            "text/plain": [
              "<matplotlib.axes._subplots.AxesSubplot at 0x7faf502e2690>"
            ]
          },
          "metadata": {},
          "execution_count": 27
        },
        {
          "output_type": "display_data",
          "data": {
            "image/png": "[encoded data removed]",
            "text/plain": [
              "<Figure size 432x288 with 1 Axes>"
            ]
          },
          "metadata": {
            "needs_background": "light"
          }
        }
      ]
    },
    {
      "cell_type": "code",
      "metadata": {
        "colab": {
          "base_uri": "https://localhost:8080/",
          "height": 298
        },
        "id": "Ia_VCZGJTkB4",
        "outputId": "1d11b223-3035-4290-dc7b-fed7709e938a"
      },
      "source": [
        "sns.histplot(df.serum_cholesterol,kde=True,bins=500)"
      ],
      "execution_count": 28,
      "outputs": [
        {
          "output_type": "execute_result",
          "data": {
            "text/plain": [
              "<matplotlib.axes._subplots.AxesSubplot at 0x7faf50452b90>"
            ]
          },
          "metadata": {},
          "execution_count": 28
        },
        {
          "output_type": "display_data",
          "data": {
            "image/png": "[encoded data removed]",
            "text/plain": [
              "<Figure size 432x288 with 1 Axes>"
            ]
          },
          "metadata": {
            "needs_background": "light"
          }
        }
      ]
    },
    {
      "cell_type": "markdown",
      "metadata": {
        "id": "Tx1va-5RyRId"
      },
      "source": [
        "**Observation :** \\\\\n",
        "We can clearly see that on increase in bin size the height of the tower/bar of histogram decreases.Also,on use of KDE option in histplot() as in increase in bin size he peak point of smoothness graph lowers\n"
      ]
    },
    {
      "cell_type": "markdown",
      "metadata": {
        "id": "gDzveC_eD5fq"
      },
      "source": [
        "Ex: 1.7"
      ]
    },
    {
      "cell_type": "code",
      "metadata": {
        "id": "yvNoKEf6EBbD",
        "colab": {
          "base_uri": "https://localhost:8080/",
          "height": 298
        },
        "outputId": "5b85929e-313c-41b7-ed8c-395f12ac4bb2"
      },
      "source": [
        "#To plot the histogram of serum_cholestrol attribute containing mean and median we need to import matplotlib.pyplot\n",
        "import matplotlib.pyplot as plt\n",
        "import numpy as np\n",
        "#Code for serum_cholestrol attribute mean and median\n",
        "#use of different colors and legend\n",
        "sns.histplot(df.serum_cholesterol)\n",
        "plt.axvline(x=np.mean(df.serum_cholesterol),color='green',label='mean')\n",
        "plt.axvline(x=np.median(df.serum_cholesterol),color='red',label='median')\n",
        "plt.axvline(x=np.percentile(df.serum_cholesterol,25),color='yellow',label='25percentile')\n",
        "plt.axvline(x=np.percentile(df.serum_cholesterol,75),color='pink',label='75percentile')\n",
        "plt.legend(loc='upper right')"
      ],
      "execution_count": 29,
      "outputs": [
        {
          "output_type": "execute_result",
          "data": {
            "text/plain": [
              "<matplotlib.legend.Legend at 0x7faf4f961050>"
            ]
          },
          "metadata": {},
          "execution_count": 29
        },
        {
          "output_type": "display_data",
          "data": {
            "image/png": "[encoded data removed]",
            "text/plain": [
              "<Figure size 432x288 with 1 Axes>"
            ]
          },
          "metadata": {
            "needs_background": "light"
          }
        }
      ]
    },
    {
      "cell_type": "markdown",
      "metadata": {
        "id": "1i5cOruAIdvn"
      },
      "source": [
        "Ex: 1.8"
      ]
    },
    {
      "cell_type": "code",
      "metadata": {
        "id": "Wf4YoHR-Hfi7",
        "colab": {
          "base_uri": "https://localhost:8080/",
          "height": 296
        },
        "outputId": "2f679505-58d5-4129-fc7d-ab4b2e4afc1a"
      },
      "source": [
        "#Code for change in order from male to female to female to male\n",
        "df['gender'] = np.where(df['sex']==1.0,'male','female')\n",
        "sns.barplot(x=\"gender\",y=\"serum_cholesterol\",data=df,order=['female','male'])"
      ],
      "execution_count": 30,
      "outputs": [
        {
          "output_type": "execute_result",
          "data": {
            "text/plain": [
              "<matplotlib.axes._subplots.AxesSubplot at 0x7faf47134f10>"
            ]
          },
          "metadata": {},
          "execution_count": 30
        },
        {
          "output_type": "display_data",
          "data": {
            "image/png": "[encoded data removed]",
            "text/plain": [
              "<Figure size 432x288 with 1 Axes>"
            ]
          },
          "metadata": {
            "needs_background": "light"
          }
        }
      ]
    },
    {
      "cell_type": "markdown",
      "metadata": {
        "id": "NtfvfocBAml6"
      },
      "source": [
        "Ex:1.9"
      ]
    },
    {
      "cell_type": "code",
      "metadata": {
        "colab": {
          "base_uri": "https://localhost:8080/",
          "height": 296
        },
        "id": "H0Ikr3KUNFq6",
        "outputId": "517831ae-7601-459c-ba59-6739058fdd8f"
      },
      "source": [
        "#Code for barplot using median estimator \n",
        "df['gender'] = np.where(df['sex']==1.0,'male','female')\n",
        "sns.barplot(x=\"gender\",y=\"serum_cholesterol\",data=df,order=['female','male'],estimator=np.median)"
      ],
      "execution_count": 69,
      "outputs": [
        {
          "output_type": "execute_result",
          "data": {
            "text/plain": [
              "<matplotlib.axes._subplots.AxesSubplot at 0x7faf46bd9a10>"
            ]
          },
          "metadata": {},
          "execution_count": 69
        },
        {
          "output_type": "display_data",
          "data": {
            "image/png": "[encoded data removed]",
            "text/plain": [
              "<Figure size 432x288 with 1 Axes>"
            ]
          },
          "metadata": {
            "needs_background": "light"
          }
        }
      ]
    },
    {
      "cell_type": "markdown",
      "metadata": {
        "id": "OxseKjXHApm-"
      },
      "source": [
        "The difference between the bar plot obtained using the median estimator for\n",
        "gender vs serum cholesterol and the bar plot obtained in Ex:1.8 is that that there is no difference both looks almost identical.\n",
        "\n"
      ]
    },
    {
      "cell_type": "markdown",
      "metadata": {
        "id": "t9BacaZ-OWFi"
      },
      "source": [
        "Ex: 1.10"
      ]
    },
    {
      "cell_type": "code",
      "metadata": {
        "colab": {
          "base_uri": "https://localhost:8080/",
          "height": 299
        },
        "id": "jSh738fOKeWm",
        "outputId": "e9c48435-0e17-4b22-9a37-ba40a2459769"
      },
      "source": [
        "#Code for bar plot containing gender vs serum cholesterol grouped according to chest pain type\n",
        "sns.barplot(x=\"gender\",y=\"serum_cholesterol\",hue=\"chest_pain_type\",data=df)"
      ],
      "execution_count": 32,
      "outputs": [
        {
          "output_type": "execute_result",
          "data": {
            "text/plain": [
              "<matplotlib.axes._subplots.AxesSubplot at 0x7faf4f97aa50>"
            ]
          },
          "metadata": {},
          "execution_count": 32
        },
        {
          "output_type": "display_data",
          "data": {
            "image/png": "[encoded data removed]",
            "text/plain": [
              "<Figure size 432x288 with 1 Axes>"
            ]
          },
          "metadata": {
            "needs_background": "light"
          }
        }
      ]
    },
    {
      "cell_type": "markdown",
      "metadata": {
        "id": "StGgBXTJOkSc"
      },
      "source": [
        "Obsevation: \\\\\n",
        "Asymptomatics females have high serum_cholesterol.Male with no anginal pain has lower serum_cholesterol.Female has more serum_cholesterol than male.\n"
      ]
    },
    {
      "cell_type": "markdown",
      "metadata": {
        "id": "DWRIfiVCL6-B"
      },
      "source": [
        "Ex:11"
      ]
    },
    {
      "cell_type": "code",
      "metadata": {
        "id": "c2CzemQkOrEb"
      },
      "source": [
        "x=[]\n",
        "for i in range(303):\n",
        "  if df['chest_pain_type'][i]==1:\n",
        "    x.append('typical angina')\n",
        "  elif df['chest_pain_type'][i]==2:\n",
        "    x.append('atypical angina')\n",
        "  elif df['chest_pain_type'][i]==3:\n",
        "    x.append('no anginal pain')\n",
        "  elif df['chest_pain_type'][i]==4:\n",
        "    x.append('asymptomatic')"
      ],
      "execution_count": 33,
      "outputs": []
    },
    {
      "cell_type": "code",
      "metadata": {
        "id": "Hqr20E48WRP2"
      },
      "source": [
        "df['chest_pain_type_description']=x"
      ],
      "execution_count": 34,
      "outputs": []
    },
    {
      "cell_type": "code",
      "metadata": {
        "colab": {
          "base_uri": "https://localhost:8080/",
          "height": 383
        },
        "id": "RTUWyKQRWZU2",
        "outputId": "0c9ab4dc-9607-43a4-f319-8ce047b7cb61"
      },
      "source": [
        "df.head(10)"
      ],
      "execution_count": 35,
      "outputs": [
        {
          "output_type": "execute_result",
          "data": {
            "text/html": [
              "<div>\n",
              "<style scoped>\n",
              "    .dataframe tbody tr th:only-of-type {\n",
              "        vertical-align: middle;\n",
              "    }\n",
              "\n",
              "    .dataframe tbody tr th {\n",
              "        vertical-align: top;\n",
              "    }\n",
              "\n",
              "    .dataframe thead th {\n",
              "        text-align: right;\n",
              "    }\n",
              "</style>\n",
              "<table border=\"1\" class=\"dataframe\">\n",
              "  <thead>\n",
              "    <tr style=\"text-align: right;\">\n",
              "      <th></th>\n",
              "      <th>age</th>\n",
              "      <th>sex</th>\n",
              "      <th>chest_pain_type</th>\n",
              "      <th>rest_bp</th>\n",
              "      <th>serum_cholesterol</th>\n",
              "      <th>fastblood_sugar</th>\n",
              "      <th>rest_ecg</th>\n",
              "      <th>max_heartrate</th>\n",
              "      <th>exercise_angina</th>\n",
              "      <th>ST_depression_exercise_relativeto_rest</th>\n",
              "      <th>slope_peak_STsegment</th>\n",
              "      <th>num_major_vessels_fluroscopy</th>\n",
              "      <th>thal</th>\n",
              "      <th>heart_disease_status</th>\n",
              "      <th>gender</th>\n",
              "      <th>chest_pain_type_description</th>\n",
              "    </tr>\n",
              "  </thead>\n",
              "  <tbody>\n",
              "    <tr>\n",
              "      <th>0</th>\n",
              "      <td>63.0</td>\n",
              "      <td>1.0</td>\n",
              "      <td>1.0</td>\n",
              "      <td>145.0</td>\n",
              "      <td>233.0</td>\n",
              "      <td>1.0</td>\n",
              "      <td>2.0</td>\n",
              "      <td>150.0</td>\n",
              "      <td>0.0</td>\n",
              "      <td>2.3</td>\n",
              "      <td>3.0</td>\n",
              "      <td>0.0</td>\n",
              "      <td>6.0</td>\n",
              "      <td>0</td>\n",
              "      <td>male</td>\n",
              "      <td>typical angina</td>\n",
              "    </tr>\n",
              "    <tr>\n",
              "      <th>1</th>\n",
              "      <td>67.0</td>\n",
              "      <td>1.0</td>\n",
              "      <td>4.0</td>\n",
              "      <td>160.0</td>\n",
              "      <td>286.0</td>\n",
              "      <td>0.0</td>\n",
              "      <td>2.0</td>\n",
              "      <td>108.0</td>\n",
              "      <td>1.0</td>\n",
              "      <td>1.5</td>\n",
              "      <td>2.0</td>\n",
              "      <td>3.0</td>\n",
              "      <td>3.0</td>\n",
              "      <td>2</td>\n",
              "      <td>male</td>\n",
              "      <td>asymptomatic</td>\n",
              "    </tr>\n",
              "    <tr>\n",
              "      <th>2</th>\n",
              "      <td>67.0</td>\n",
              "      <td>1.0</td>\n",
              "      <td>4.0</td>\n",
              "      <td>120.0</td>\n",
              "      <td>229.0</td>\n",
              "      <td>0.0</td>\n",
              "      <td>2.0</td>\n",
              "      <td>129.0</td>\n",
              "      <td>1.0</td>\n",
              "      <td>2.6</td>\n",
              "      <td>2.0</td>\n",
              "      <td>2.0</td>\n",
              "      <td>7.0</td>\n",
              "      <td>1</td>\n",
              "      <td>male</td>\n",
              "      <td>asymptomatic</td>\n",
              "    </tr>\n",
              "    <tr>\n",
              "      <th>3</th>\n",
              "      <td>37.0</td>\n",
              "      <td>1.0</td>\n",
              "      <td>3.0</td>\n",
              "      <td>130.0</td>\n",
              "      <td>250.0</td>\n",
              "      <td>0.0</td>\n",
              "      <td>0.0</td>\n",
              "      <td>187.0</td>\n",
              "      <td>0.0</td>\n",
              "      <td>3.5</td>\n",
              "      <td>3.0</td>\n",
              "      <td>0.0</td>\n",
              "      <td>3.0</td>\n",
              "      <td>0</td>\n",
              "      <td>male</td>\n",
              "      <td>no anginal pain</td>\n",
              "    </tr>\n",
              "    <tr>\n",
              "      <th>4</th>\n",
              "      <td>41.0</td>\n",
              "      <td>0.0</td>\n",
              "      <td>2.0</td>\n",
              "      <td>130.0</td>\n",
              "      <td>204.0</td>\n",
              "      <td>0.0</td>\n",
              "      <td>2.0</td>\n",
              "      <td>172.0</td>\n",
              "      <td>0.0</td>\n",
              "      <td>1.4</td>\n",
              "      <td>1.0</td>\n",
              "      <td>0.0</td>\n",
              "      <td>3.0</td>\n",
              "      <td>0</td>\n",
              "      <td>female</td>\n",
              "      <td>atypical angina</td>\n",
              "    </tr>\n",
              "    <tr>\n",
              "      <th>5</th>\n",
              "      <td>56.0</td>\n",
              "      <td>1.0</td>\n",
              "      <td>2.0</td>\n",
              "      <td>120.0</td>\n",
              "      <td>236.0</td>\n",
              "      <td>0.0</td>\n",
              "      <td>0.0</td>\n",
              "      <td>178.0</td>\n",
              "      <td>0.0</td>\n",
              "      <td>0.8</td>\n",
              "      <td>1.0</td>\n",
              "      <td>0.0</td>\n",
              "      <td>3.0</td>\n",
              "      <td>0</td>\n",
              "      <td>male</td>\n",
              "      <td>atypical angina</td>\n",
              "    </tr>\n",
              "    <tr>\n",
              "      <th>6</th>\n",
              "      <td>62.0</td>\n",
              "      <td>0.0</td>\n",
              "      <td>4.0</td>\n",
              "      <td>140.0</td>\n",
              "      <td>268.0</td>\n",
              "      <td>0.0</td>\n",
              "      <td>2.0</td>\n",
              "      <td>160.0</td>\n",
              "      <td>0.0</td>\n",
              "      <td>3.6</td>\n",
              "      <td>3.0</td>\n",
              "      <td>2.0</td>\n",
              "      <td>3.0</td>\n",
              "      <td>3</td>\n",
              "      <td>female</td>\n",
              "      <td>asymptomatic</td>\n",
              "    </tr>\n",
              "    <tr>\n",
              "      <th>7</th>\n",
              "      <td>57.0</td>\n",
              "      <td>0.0</td>\n",
              "      <td>4.0</td>\n",
              "      <td>120.0</td>\n",
              "      <td>354.0</td>\n",
              "      <td>0.0</td>\n",
              "      <td>0.0</td>\n",
              "      <td>163.0</td>\n",
              "      <td>1.0</td>\n",
              "      <td>0.6</td>\n",
              "      <td>1.0</td>\n",
              "      <td>0.0</td>\n",
              "      <td>3.0</td>\n",
              "      <td>0</td>\n",
              "      <td>female</td>\n",
              "      <td>asymptomatic</td>\n",
              "    </tr>\n",
              "    <tr>\n",
              "      <th>8</th>\n",
              "      <td>63.0</td>\n",
              "      <td>1.0</td>\n",
              "      <td>4.0</td>\n",
              "      <td>130.0</td>\n",
              "      <td>254.0</td>\n",
              "      <td>0.0</td>\n",
              "      <td>2.0</td>\n",
              "      <td>147.0</td>\n",
              "      <td>0.0</td>\n",
              "      <td>1.4</td>\n",
              "      <td>2.0</td>\n",
              "      <td>1.0</td>\n",
              "      <td>7.0</td>\n",
              "      <td>2</td>\n",
              "      <td>male</td>\n",
              "      <td>asymptomatic</td>\n",
              "    </tr>\n",
              "    <tr>\n",
              "      <th>9</th>\n",
              "      <td>53.0</td>\n",
              "      <td>1.0</td>\n",
              "      <td>4.0</td>\n",
              "      <td>140.0</td>\n",
              "      <td>203.0</td>\n",
              "      <td>1.0</td>\n",
              "      <td>2.0</td>\n",
              "      <td>155.0</td>\n",
              "      <td>1.0</td>\n",
              "      <td>3.1</td>\n",
              "      <td>3.0</td>\n",
              "      <td>0.0</td>\n",
              "      <td>7.0</td>\n",
              "      <td>1</td>\n",
              "      <td>male</td>\n",
              "      <td>asymptomatic</td>\n",
              "    </tr>\n",
              "  </tbody>\n",
              "</table>\n",
              "</div>"
            ],
            "text/plain": [
              "    age  sex  ...  gender  chest_pain_type_description\n",
              "0  63.0  1.0  ...    male               typical angina\n",
              "1  67.0  1.0  ...    male                 asymptomatic\n",
              "2  67.0  1.0  ...    male                 asymptomatic\n",
              "3  37.0  1.0  ...    male              no anginal pain\n",
              "4  41.0  0.0  ...  female              atypical angina\n",
              "5  56.0  1.0  ...    male              atypical angina\n",
              "6  62.0  0.0  ...  female                 asymptomatic\n",
              "7  57.0  0.0  ...  female                 asymptomatic\n",
              "8  63.0  1.0  ...    male                 asymptomatic\n",
              "9  53.0  1.0  ...    male                 asymptomatic\n",
              "\n",
              "[10 rows x 16 columns]"
            ]
          },
          "metadata": {},
          "execution_count": 35
        }
      ]
    },
    {
      "cell_type": "markdown",
      "metadata": {
        "id": "4yQi2PD4Ppr3"
      },
      "source": [
        "Ex:1.12"
      ]
    },
    {
      "cell_type": "code",
      "metadata": {
        "id": "oEGcr6WpE0BH",
        "colab": {
          "base_uri": "https://localhost:8080/",
          "height": 296
        },
        "outputId": "b805dedc-3e1f-4b60-ab1a-fd39b274765f"
      },
      "source": [
        "plot = sns.barplot(x=\"gender\",y=\"serum_cholesterol\",hue=\"chest_pain_type\",data=df)\n",
        "plot.legend(loc='lower left', ncol=4)\n",
        "plot.set_xlabel(\"Gender\",fontsize=20)\n",
        "plot.set_ylabel(\"Serum Cholesterol\",fontsize=20)\n",
        "plot.set_xticklabels(ax.get_xticklabels(),fontsize=15)\n",
        "for p,line in zip(plot.patches, plot.lines):\n",
        "    plot.annotate(format(p.get_height(),'.1f'), \n",
        "                   (p.get_x() + p.get_width() / 2., line.get_ydata()[1]), \n",
        "                   ha = 'center', va = 'top', \n",
        "                   xytext = (0, 9), \n",
        "                   textcoords = 'offset points')"
      ],
      "execution_count": 46,
      "outputs": [
        {
          "output_type": "display_data",
          "data": {
            "image/png": "[encoded data removed]",
            "text/plain": [
              "<Figure size 432x288 with 1 Axes>"
            ]
          },
          "metadata": {
            "needs_background": "light"
          }
        }
      ]
    },
    {
      "cell_type": "markdown",
      "metadata": {
        "id": "66e3splxPsa-"
      },
      "source": [
        "Ex:1.13"
      ]
    },
    {
      "cell_type": "code",
      "metadata": {
        "id": "7DAHae2-PuVn",
        "colab": {
          "base_uri": "https://localhost:8080/",
          "height": 335
        },
        "outputId": "fb69586e-6ce0-461a-c474-885bd24eb846"
      },
      "source": [
        "ax = sns.barplot(x=\"gender\",y=\"serum_cholesterol\",hue=\"chest_pain_type\",data=df)\n",
        "ax.legend(loc='lower right', ncol=4)\n",
        "ax.set_xlabel(\"Gender\",fontsize=20)\n",
        "ax.set_ylabel(\"Serum Cholesterol\",fontsize=20)\n",
        "ax.set_xticklabels(ax.get_xticklabels(),fontsize=15,rotation=30);\n",
        "x=ax.patches[4].get_x() + plot.patches[4].get_width()/2  \n",
        "y=ax.lines[0].get_ydata()[1]\n",
        "plt.annotate('Men with non-anginal pain \\nhas lower cholestrol', xy=(x,y), xytext=(x+0.5,y+25), arrowprops=dict(facecolor='pink'))"
      ],
      "execution_count": 62,
      "outputs": [
        {
          "output_type": "execute_result",
          "data": {
            "text/plain": [
              "Text(0.6000000000000001, 274.9486842105263, 'Men with non-anginal pain \\nhas lower cholestrol')"
            ]
          },
          "metadata": {},
          "execution_count": 62
        },
        {
          "output_type": "display_data",
          "data": {
            "image/png": "[encoded data removed]",
            "text/plain": [
              "<Figure size 432x288 with 1 Axes>"
            ]
          },
          "metadata": {
            "needs_background": "light"
          }
        }
      ]
    },
    {
      "cell_type": "markdown",
      "metadata": {
        "id": "TfEdy4xiPu7M"
      },
      "source": [
        "Ex:1.14"
      ]
    },
    {
      "cell_type": "code",
      "metadata": {
        "colab": {
          "base_uri": "https://localhost:8080/",
          "height": 296
        },
        "id": "FpokS_w_PxDs",
        "outputId": "c69eb884-391d-44d6-83e6-fcaa9e7ab7fe"
      },
      "source": [
        "#Code to analyse whether two attributes are correlated\n",
        "#Use of scatter plot to identify whether tow attributes are correlated \n",
        "sns.scatterplot(x=\"age\",y=\"serum_cholesterol\",data=df)"
      ],
      "execution_count": 36,
      "outputs": [
        {
          "output_type": "execute_result",
          "data": {
            "text/plain": [
              "<matplotlib.axes._subplots.AxesSubplot at 0x7faf46fff190>"
            ]
          },
          "metadata": {},
          "execution_count": 36
        },
        {
          "output_type": "display_data",
          "data": {
            "image/png": "[encoded data removed]",
            "text/plain": [
              "<Figure size 432x288 with 1 Axes>"
            ]
          },
          "metadata": {
            "needs_background": "light"
          }
        }
      ]
    },
    {
      "cell_type": "markdown",
      "metadata": {
        "id": "mReI92F-QPmE"
      },
      "source": [
        "Observation: \\\\\n",
        "A scatter plot is a diagram where each value in the data set is represented by a dot \\\\\n",
        "x-axis represents age \\\\\n",
        "y-axis represents serum_cholestrol \\\\\n",
        "We can see that the dots are more concentrated around the value 50 to 60 age group and somewhat less concentrated near 40 to 50 age group and 60 to 70 age group on the x-axis \\\\\n",
        "we can see that the spread is wider on the y-axis than on the x-axis \\\\\n",
        "Lowest serum_cholesterol of patient is between age group 55 to 60 and highest serum_cholesterol of patient is between 65 to 70 age group \\\\\n",
        "Most patient serum_cholestrol is between 200 to 300 as we can clearly se the concentration of dots on y -axis is more between values 200 to 300 of serum_cholestrol \\\\\n",
        "Only one patient is there whose serum_cholestrol is near to 600 \\\\\n",
        "and 2 or 3 patients have serum_cholestrol is near to 400+ \\\\"
      ]
    },
    {
      "cell_type": "markdown",
      "metadata": {
        "id": "CVBQix8QQS6F"
      },
      "source": [
        "Ex:1.15"
      ]
    },
    {
      "cell_type": "code",
      "metadata": {
        "colab": {
          "base_uri": "https://localhost:8080/",
          "height": 296
        },
        "id": "lfJ99_M0QZhU",
        "outputId": "66470452-168e-4622-8f04-e03a83b3f333"
      },
      "source": [
        "#Code to plot the relationship between variables \n",
        "#Use of lineplot()\n",
        "sns.lineplot(x=\"age\",y=\"serum_cholesterol\",data=df)"
      ],
      "execution_count": 37,
      "outputs": [
        {
          "output_type": "execute_result",
          "data": {
            "text/plain": [
              "<matplotlib.axes._subplots.AxesSubplot at 0x7faf46f80350>"
            ]
          },
          "metadata": {},
          "execution_count": 37
        },
        {
          "output_type": "display_data",
          "data": {
            "image/png": "[encoded data removed]",
            "text/plain": [
              "<Figure size 432x288 with 1 Axes>"
            ]
          },
          "metadata": {
            "needs_background": "light"
          }
        }
      ]
    },
    {
      "cell_type": "markdown",
      "metadata": {
        "id": "yY17_j_2Q9Ta"
      },
      "source": [
        "Observation: \\\\\n",
        "In the line plot of age vs serum cholesterol indicate :: The light-colored bands denotes the spreading range of serum_cholesterol in the age group near 33 to near 72 and the dark central line indicate mean of the serum_cholesterol in the age group 28 to nearly 80.Average mean of serum_cholesterol in the age 80+ is high whereas we can clearly see nearly very near to 35 age patient has lowest serum_cholesterol.\n"
      ]
    },
    {
      "cell_type": "markdown",
      "metadata": {
        "id": "fF_GbLQXQ__Z"
      },
      "source": [
        "Ex:1.16"
      ]
    },
    {
      "cell_type": "code",
      "metadata": {
        "colab": {
          "base_uri": "https://localhost:8080/",
          "height": 298
        },
        "id": "n2D-0cYkQ2gG",
        "outputId": "fcab1261-4b7e-4b6d-a462-350069d5a217"
      },
      "source": [
        "#Code for use of box plots which would provide details about summary statistics \n",
        "sns.boxplot(x=\"chest_pain_type\",y=\"serum_cholesterol\",data=df)"
      ],
      "execution_count": 38,
      "outputs": [
        {
          "output_type": "execute_result",
          "data": {
            "text/plain": [
              "<matplotlib.axes._subplots.AxesSubplot at 0x7faf4fa876d0>"
            ]
          },
          "metadata": {},
          "execution_count": 38
        },
        {
          "output_type": "display_data",
          "data": {
            "image/png": "[encoded data removed]",
            "text/plain": [
              "<Figure size 432x288 with 1 Axes>"
            ]
          },
          "metadata": {
            "needs_background": "light"
          }
        }
      ]
    },
    {
      "cell_type": "markdown",
      "metadata": {
        "id": "SJnRm7zhRcLd"
      },
      "source": [
        "Observation: \\\\\n",
        "The upper boundary of the box of chest_pain_type and serum_cholesterol indicate maximum value in the dataset which corresponds to Q3 \\\n",
        "The lower boundary of the box of chest_pain_type and serum_cholesterol indicate minimum value in the dataset which corresponds to Q1  \n",
        "The line inside the box indicate he mid-point in the distribution, which also corresponds to the 50th percentile.The points marked beyond the error bars are called outlier."
      ]
    },
    {
      "cell_type": "markdown",
      "metadata": {
        "id": "t8qHQIfLRjzp"
      },
      "source": [
        "Ex:1.17"
      ]
    },
    {
      "cell_type": "code",
      "metadata": {
        "colab": {
          "base_uri": "https://localhost:8080/",
          "height": 298
        },
        "id": "4ysrF7QQRaSD",
        "outputId": "d5f71c13-da9b-487e-c0ef-19e561f0b1dc"
      },
      "source": [
        "#Code for the box plot for chest pain type and serum cholesterol grouped according to gender.\n",
        "sns.boxplot(x=\"chest_pain_type\",y=\"serum_cholesterol\",hue=\"gender\",data=df)"
      ],
      "execution_count": 39,
      "outputs": [
        {
          "output_type": "execute_result",
          "data": {
            "text/plain": [
              "<matplotlib.axes._subplots.AxesSubplot at 0x7faf4fa5e890>"
            ]
          },
          "metadata": {},
          "execution_count": 39
        },
        {
          "output_type": "display_data",
          "data": {
            "image/png": "[encoded data removed]",
            "text/plain": [
              "<Figure size 432x288 with 1 Axes>"
            ]
          },
          "metadata": {
            "needs_background": "light"
          }
        }
      ]
    },
    {
      "cell_type": "markdown",
      "metadata": {
        "id": "qM_BBVKMSSfL"
      },
      "source": [
        "Observation: \\\\\n",
        "Observations made from the box_plot for chest pain type and serum cholesterol grouped according to gender is that female has more median than male.For females lower boundary of the box and median in the range of chest_pain_type 1.0 to 2.0 coincide.Median of males in same in the range of chest_pain_type 1.0 to 3.0.\n"
      ]
    },
    {
      "cell_type": "markdown",
      "metadata": {
        "id": "Chib2sk2SUaY"
      },
      "source": [
        "Ex:1.18"
      ]
    },
    {
      "cell_type": "code",
      "metadata": {
        "colab": {
          "base_uri": "https://localhost:8080/",
          "height": 298
        },
        "id": "9C-ruuOSSV_r",
        "outputId": "c4967e35-5265-4e2a-d080-e5fb7b8ba0ec"
      },
      "source": [
        "#Use of violinplot() to plot the relationship between chest pain type and serum cholesterol\n",
        "sns.violinplot(x =\"chest_pain_type\",y =\"serum_cholesterol\",data = df)"
      ],
      "execution_count": 40,
      "outputs": [
        {
          "output_type": "execute_result",
          "data": {
            "text/plain": [
              "<matplotlib.axes._subplots.AxesSubplot at 0x7faf46d847d0>"
            ]
          },
          "metadata": {},
          "execution_count": 40
        },
        {
          "output_type": "display_data",
          "data": {
            "image/png": "[encoded data removed]",
            "text/plain": [
              "<Figure size 432x288 with 1 Axes>"
            ]
          },
          "metadata": {
            "needs_background": "light"
          }
        }
      ]
    },
    {
      "cell_type": "markdown",
      "metadata": {
        "id": "KOqnIgt-Tq_g"
      },
      "source": [
        "Observation: \\\\\n",
        "Median of all the four chest_pain_type i.e., typical_angina atypical_angina non anginal pain asymptomatic is same \\\\\n",
        "Patient with no anginal pain has lowest serum_cholesterol"
      ]
    },
    {
      "cell_type": "code",
      "metadata": {
        "colab": {
          "base_uri": "https://localhost:8080/",
          "height": 298
        },
        "id": "eDWYw7ElTtKV",
        "outputId": "c75d370a-49af-4ea7-b4e6-4508032d5996"
      },
      "source": [
        "#Code to plot the relationship between chest pain type and serum cholesterol grouped according to gender\n",
        "#Use of violinplot()\n",
        "sns.violinplot(x =\"chest_pain_type\",y =\"serum_cholesterol\",hue=\"gender\",data = df)"
      ],
      "execution_count": 41,
      "outputs": [
        {
          "output_type": "execute_result",
          "data": {
            "text/plain": [
              "<matplotlib.axes._subplots.AxesSubplot at 0x7faf46d08fd0>"
            ]
          },
          "metadata": {},
          "execution_count": 41
        },
        {
          "output_type": "display_data",
          "data": {
            "image/png": "[encoded data removed]",
            "text/plain": [
              "<Figure size 432x288 with 1 Axes>"
            ]
          },
          "metadata": {
            "needs_background": "light"
          }
        }
      ]
    },
    {
      "cell_type": "markdown",
      "metadata": {
        "id": "_9PoFEXeUC9V"
      },
      "source": [
        "Observation: \\\\\n",
        "Female has more serum_cholesterol than male \\\\\n",
        "Median of male is same in all the chest_pain_type whereas in female is increase from chest_pain_type 1 to 4"
      ]
    }
  ]
}