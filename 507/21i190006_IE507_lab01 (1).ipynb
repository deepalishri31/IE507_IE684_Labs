{
  "nbformat": 4,
  "nbformat_minor": 0,
  "metadata": {
    "colab": {
      "name": "21i190006_IE507_lab01.ipynb",
      "provenance": [],
      "collapsed_sections": []
    },
    "kernelspec": {
      "name": "python3",
      "display_name": "Python 3"
    },
    "language_info": {
      "name": "python"
    }
  },
  "cells": [
    {
      "cell_type": "code",
      "metadata": {
        "colab": {
          "base_uri": "https://localhost:8080/"
        },
        "id": "B0jJS1LiTA7Y",
        "outputId": "f648aee3-53b9-4797-f447-50493715a6b3"
      },
      "source": [
        "#Installing pyomo\n",
        "!pip install -q pyomo"
      ],
      "execution_count": 1,
      "outputs": [
        {
          "output_type": "stream",
          "name": "stdout",
          "text": [
            "\u001b[K     |████████████████████████████████| 9.1 MB 5.2 MB/s \n",
            "\u001b[K     |████████████████████████████████| 49 kB 5.8 MB/s \n",
            "\u001b[?25h"
          ]
        }
      ]
    },
    {
      "cell_type": "code",
      "metadata": {
        "colab": {
          "base_uri": "https://localhost:8080/"
        },
        "id": "URpStpomub3f",
        "outputId": "e50c01f9-617a-48e2-aa27-40d2f1ccd618"
      },
      "source": [
        "#importing required package\n",
        "from pyomo.environ import *\n",
        "!apt-get install -y -qq glpk-utils"
      ],
      "execution_count": 2,
      "outputs": [
        {
          "output_type": "stream",
          "name": "stdout",
          "text": [
            "Selecting previously unselected package libsuitesparseconfig5:amd64.\n",
            "(Reading database ... 155047 files and directories currently installed.)\n",
            "Preparing to unpack .../libsuitesparseconfig5_1%3a5.1.2-2_amd64.deb ...\n",
            "Unpacking libsuitesparseconfig5:amd64 (1:5.1.2-2) ...\n",
            "Selecting previously unselected package libamd2:amd64.\n",
            "Preparing to unpack .../libamd2_1%3a5.1.2-2_amd64.deb ...\n",
            "Unpacking libamd2:amd64 (1:5.1.2-2) ...\n",
            "Selecting previously unselected package libcolamd2:amd64.\n",
            "Preparing to unpack .../libcolamd2_1%3a5.1.2-2_amd64.deb ...\n",
            "Unpacking libcolamd2:amd64 (1:5.1.2-2) ...\n",
            "Selecting previously unselected package libglpk40:amd64.\n",
            "Preparing to unpack .../libglpk40_4.65-1_amd64.deb ...\n",
            "Unpacking libglpk40:amd64 (4.65-1) ...\n",
            "Selecting previously unselected package glpk-utils.\n",
            "Preparing to unpack .../glpk-utils_4.65-1_amd64.deb ...\n",
            "Unpacking glpk-utils (4.65-1) ...\n",
            "Setting up libsuitesparseconfig5:amd64 (1:5.1.2-2) ...\n",
            "Setting up libcolamd2:amd64 (1:5.1.2-2) ...\n",
            "Setting up libamd2:amd64 (1:5.1.2-2) ...\n",
            "Setting up libglpk40:amd64 (4.65-1) ...\n",
            "Setting up glpk-utils (4.65-1) ...\n",
            "Processing triggers for libc-bin (2.27-3ubuntu1.3) ...\n",
            "/sbin/ldconfig.real: /usr/local/lib/python3.7/dist-packages/ideep4py/lib/libmkldnn.so.0 is not a symbolic link\n",
            "\n",
            "Processing triggers for man-db (2.8.3-2ubuntu0.1) ...\n"
          ]
        }
      ]
    },
    {
      "cell_type": "markdown",
      "metadata": {
        "id": "hJcAnB_2KXxu"
      },
      "source": [
        "Exercise 1"
      ]
    },
    {
      "cell_type": "markdown",
      "metadata": {
        "id": "tDEslAkvU-W2"
      },
      "source": [
        "Consider the optimization problem:\n",
        "\n",
        "$\\min \\ 2x_1 - 5x_2 + 14x_3 + 7x_4 - 11x_5 + 0.17x_6 - 10.2x_7 \\\\ \\text { s.t. } \\sum_{i=1}^{7} x_i = 280, \\\\ x_1 - x_2 \\geq 10 , \\\\ -3x_3 + x_6 -3x_7 \\leq 205, \\\\ 20x_1 + 42x_6 + x_5 \\geq 35, \\\\ x_2 - x_3 + 4x_7 \\geq 24, \\\\ x_1 \\geq 12, \\\\ x_2 \\geq 0, \\\\ x_3 \\geq -5, \\\\ x_4 \\geq 3, \\\\ x_5 \\geq 10, \\\\ x_6 \\geq -4, \\\\ x_7 \\geq 0$.\n"
      ]
    },
    {
      "cell_type": "code",
      "metadata": {
        "id": "V-slxCoz_7sp"
      },
      "source": [
        "#creating model\n",
        "model_ex1 = ConcreteModel()"
      ],
      "execution_count": 3,
      "outputs": []
    },
    {
      "cell_type": "code",
      "metadata": {
        "id": "LR3YunER_9yO"
      },
      "source": [
        "#declaring decision Variable\n",
        "model_ex1.x1 = Var(domain=Reals)\n",
        "model_ex1.x2 = Var(domain=Reals)\n",
        "model_ex1.x3 = Var(domain=Reals)\n",
        "model_ex1.x4 = Var(domain=Reals)\n",
        "model_ex1.x5 = Var(domain=Reals)\n",
        "model_ex1.x6 = Var(domain=Reals)\n",
        "model_ex1.x7 = Var(domain=Reals)"
      ],
      "execution_count": 4,
      "outputs": []
    },
    {
      "cell_type": "code",
      "metadata": {
        "id": "enBK8qUG__wG"
      },
      "source": [
        "#declaring objective \n",
        "model_ex1.obj = Objective(expr = model_ex1.x1*2 - model_ex1.x2*5 + model_ex1.x3*14 + model_ex1.x4*7 - model_ex1.x5*11 + 0.17*model_ex1.x6 - 10.2 * model_ex1.x7, sense = minimize)\n"
      ],
      "execution_count": 5,
      "outputs": []
    },
    {
      "cell_type": "code",
      "metadata": {
        "id": "lH9BSZDfACbD"
      },
      "source": [
        "#declaring constraints\n",
        "model_ex1.constr_1 = Constraint(expr = model_ex1.x1 + model_ex1.x2 + model_ex1.x3 + model_ex1.x4 + model_ex1.x5 + model_ex1.x6 + model_ex1.x7 == 280)\n",
        "model_ex1.constr_2 = Constraint(expr = model_ex1.x1 - model_ex1.x2 >= 10)\n",
        "model_ex1.constr_3 = Constraint(expr = -3 * model_ex1.x3 + model_ex1.x6 - 3*model_ex1.x7 <= 205)\n",
        "model_ex1.constr_4 = Constraint(expr = 20 * model_ex1.x1 + 42 * model_ex1.x6 + model_ex1.x5 >= 35)\n",
        "model_ex1.constr_5 = Constraint(expr = model_ex1.x2 - model_ex1.x3 + 4*model_ex1.x7 >= 24)\n",
        "model_ex1.constr_6 = Constraint(expr = model_ex1.x1 >= 12)\n",
        "model_ex1.constr_7 = Constraint(expr = model_ex1.x2 >= 0)\n",
        "model_ex1.constr_8 = Constraint(expr = model_ex1.x3 >= -5)\n",
        "model_ex1.constr_9= Constraint(expr = model_ex1.x4 >= 3)\n",
        "model_ex1.constr_10 = Constraint(expr = model_ex1.x5 >= 10)\n",
        "model_ex1.constr_11 = Constraint(expr = model_ex1.x6 >= -4)\n",
        "model_ex1.constr_12 = Constraint(expr = model_ex1.x7 >= 0)"
      ],
      "execution_count": 6,
      "outputs": []
    },
    {
      "cell_type": "code",
      "metadata": {
        "id": "q2cOEEngAFcj",
        "colab": {
          "base_uri": "https://localhost:8080/"
        },
        "outputId": "3aa18ffd-faab-4ae6-987b-c7536116cd8e"
      },
      "source": [
        "SolverFactory('glpk', executable='/usr/bin/glpsol').solve(model_ex1)"
      ],
      "execution_count": 7,
      "outputs": [
        {
          "output_type": "execute_result",
          "data": {
            "text/plain": [
              "{'Problem': [{'Name': 'unknown', 'Lower bound': -3035.88, 'Upper bound': -3035.88, 'Number of objectives': 1, 'Number of constraints': 13, 'Number of variables': 8, 'Number of nonzeros': 26, 'Sense': 'minimize'}], 'Solver': [{'Status': 'ok', 'Termination condition': 'optimal', 'Statistics': {'Branch and bound': {'Number of bounded subproblems': 0, 'Number of created subproblems': 0}}, 'Error rc': 0, 'Time': 0.009955644607543945}], 'Solution': [OrderedDict([('number of solutions', 0), ('number of solutions displayed', 0)])]}"
            ]
          },
          "metadata": {},
          "execution_count": 7
        }
      ]
    },
    {
      "cell_type": "markdown",
      "metadata": {
        "id": "-fQmqXvnMgEg"
      },
      "source": [
        "Ex 1.3"
      ]
    },
    {
      "cell_type": "code",
      "metadata": {
        "colab": {
          "base_uri": "https://localhost:8080/"
        },
        "id": "doAG7R04MkRO",
        "outputId": "2934728b-424b-4812-e3e7-05a243c08657"
      },
      "source": [
        "#Printing the value of Objective function\n",
        "print(\"The Objective function value : \", model_ex1.obj())"
      ],
      "execution_count": 8,
      "outputs": [
        {
          "output_type": "stream",
          "name": "stdout",
          "text": [
            "The Objective function value :  -3035.8799999999997\n"
          ]
        }
      ]
    },
    {
      "cell_type": "code",
      "metadata": {
        "id": "33twNMEWALQU",
        "colab": {
          "base_uri": "https://localhost:8080/"
        },
        "outputId": "3aa3b9d8-02f6-4640-f390-154dbf8490fa"
      },
      "source": [
        "# p rinting the values of the decision variables\n",
        "print(\"Values of decision variables are \")\n",
        "print(\"x1 = \", model_ex1.x1())\n",
        "print(\"x2 = \", model_ex1.x2())\n",
        "print(\"x3 = \", model_ex1.x3())\n",
        "print(\"x4 = \", model_ex1.x4())\n",
        "print(\"x5 = \", model_ex1.x5())\n",
        "print(\"x6 = \", model_ex1.x6())\n",
        "print(\"x7 = \", model_ex1.x7())"
      ],
      "execution_count": 9,
      "outputs": [
        {
          "output_type": "stream",
          "name": "stdout",
          "text": [
            "Values of decision variables are \n",
            "x1 =  12.0\n",
            "x2 =  0.0\n",
            "x3 =  -5.0\n",
            "x4 =  3.0\n",
            "x5 =  269.25\n",
            "x6 =  -4.0\n",
            "x7 =  4.75\n"
          ]
        }
      ]
    },
    {
      "cell_type": "markdown",
      "metadata": {
        "id": "QDX0DBqCMtjJ"
      },
      "source": [
        "Ex 1.4"
      ]
    },
    {
      "cell_type": "code",
      "metadata": {
        "colab": {
          "base_uri": "https://localhost:8080/"
        },
        "id": "TTeoSsK_U43D",
        "outputId": "3cc8a945-c6fe-49c4-80cd-1aa52bd5549d"
      },
      "source": [
        "if model_ex1.constr_1() == 280:\n",
        "  print(\"1st Constraint satisfies equality condition\" )\n",
        "else:\n",
        "  print(\"1st Constraint doesnot satisfy equality condition \")\n",
        "if model_ex1.constr_2() == 10:\n",
        "  print(\"2nd Constraint satisfies equality condition\" )\n",
        "elif model_ex1.constr_2() > 10 :\n",
        "  print(\"2nd Constraint doesnot satisfy equality condition \")\n",
        "if model_ex1.constr_3() == 205:\n",
        "  print(\"3rd Constraint satisfies equality condition\" )\n",
        "elif model_ex1.constr_3() < 205:\n",
        "  print(\"3rd Constraint doesnot satisfy equality condition \")\n",
        "if model_ex1.constr_4() == 35:\n",
        "  print(\"4rth Constraint satisfies equality condition\" )\n",
        "elif model_ex1.constr_4() > 35:\n",
        "  print(\"4rth Constraint doesnot satisfy equality condition \")\n",
        "if  model_ex1.constr_5() == 24:\n",
        "  print(\"5th Constraint satisfies equality condition\" )\n",
        "elif model_ex1.constr_5() > 24:\n",
        "  print(\"5th Constraint doesnot satisfy equality condition \")\n",
        "\n"
      ],
      "execution_count": 10,
      "outputs": [
        {
          "output_type": "stream",
          "name": "stdout",
          "text": [
            "1st Constraint satisfies equality condition\n",
            "2nd Constraint doesnot satisfy equality condition \n",
            "3rd Constraint doesnot satisfy equality condition \n",
            "4rth Constraint doesnot satisfy equality condition \n",
            "5th Constraint satisfies equality condition\n"
          ]
        }
      ]
    },
    {
      "cell_type": "markdown",
      "metadata": {
        "id": "R25yA7utN5Mt"
      },
      "source": [
        "Exercise 2"
      ]
    },
    {
      "cell_type": "markdown",
      "metadata": {
        "id": "J7J_Z68XN78m"
      },
      "source": [
        "Ex 2.1"
      ]
    },
    {
      "cell_type": "markdown",
      "metadata": {
        "id": "qE6iGTH6OG11"
      },
      "source": [
        "Rewriting the optimisation problem as linear program\n",
        "Consider the following optimisation problem :\n",
        "\n",
        "$ \\\\ \\max  \\ 0.043x_1 + 0.027x_2 + 0.025x_3 + 0.022x_4 + 0.045x_5 - 0.0275y \\\\ \\text{ s.t. }\\   x_1 + 3x_2 + x_3 + 7x_4 + x_5 - y \\leq 100 \\\\ x_2 + 2x_3 + 4x_4 \\geq 60 \\\\ -0.8x_1 + 4.8x_2 - 1.8x_3 + 3.8x_4 + 2.2x_5 \\leq 0 \\\\ -x_1 + 12x_2 + x_3 + 3x_4 - x_5 \\leq 0 \\\\ x_1,x_2,x_3,x_4,x_5 \\geq 0 \\\\ y \\in [0,2.25] $."
      ]
    },
    {
      "cell_type": "markdown",
      "metadata": {
        "id": "w0R8s1OkR7Qb"
      },
      "source": [
        "Assumption was made because zero in denominator is undefined condition and negative sign in denominator will change the given constraint. \\\\\n",
        "We are assuming this as we know that 0 in denominator is not defined condition \\\\Negative sign in denominator will change the given constraint\n",
        "\n"
      ]
    },
    {
      "cell_type": "code",
      "metadata": {
        "id": "MjXBez6SAfuO"
      },
      "source": [
        "# declaring model \n",
        "model_ex2 = ConcreteModel()"
      ],
      "execution_count": 11,
      "outputs": []
    },
    {
      "cell_type": "code",
      "metadata": {
        "id": "IGWfy8GlAg8g"
      },
      "source": [
        "# declaring variable\n",
        "model_ex2.x1 = Var(domain=Reals)\n",
        "model_ex2.x2 = Var(domain=Reals)\n",
        "model_ex2.x3 = Var(domain=Reals)\n",
        "model_ex2.x4 = Var(domain=Reals)\n",
        "model_ex2.x5 = Var(domain=Reals)\n",
        "model_ex2.y = Var(domain=Reals)"
      ],
      "execution_count": 12,
      "outputs": []
    },
    {
      "cell_type": "code",
      "metadata": {
        "id": "LEnX2dk2Ai9M"
      },
      "source": [
        "#declaring objective function\n",
        "model_ex2.obj = Objective(expr = 0.043*model_ex2.x1 + 0.027*model_ex2.x2 + 0.025*model_ex2.x3 + 0.022*model_ex2.x4 + 0.045*model_ex2.x5 - 0.0275*model_ex2.y, sense = maximize)"
      ],
      "execution_count": 13,
      "outputs": []
    },
    {
      "cell_type": "code",
      "metadata": {
        "id": "F5oKa1m8Am5-"
      },
      "source": [
        "#declaring constraints \n",
        "model_ex2.constr_1 = Constraint(expr = model_ex2.x1 + model_ex2.x2 * 3 + model_ex2.x3 + 7 * model_ex2.x4 + model_ex2.x5 - model_ex2.y <= 100)\n",
        "model_ex2.constr_2 = Constraint(expr = model_ex2.x2 + 2*model_ex2.x3 + 4*model_ex2.x4 >= 60)\n",
        "model_ex2.constr_3 = Constraint(expr = -0.8 * model_ex2.x1 + 4.8 * model_ex2.x2 - 1.8 *model_ex2.x3 + 3.8 * model_ex2.x4 + 2.2 * model_ex2.x5 <= 0)\n",
        "model_ex2.constr_4 = Constraint(expr = -1 *model_ex2.x1 + 12 * model_ex2.x2 + model_ex2.x3 + 3*model_ex2.x4 -3* model_ex2.x5 <= 0)\n",
        "model_ex2.constr_5 = Constraint(expr = model_ex2.x1 >= 0)\n",
        "model_ex2.constr_6 = Constraint(expr = model_ex2.x2 >= 0)\n",
        "model_ex2.constr_7 = Constraint(expr = model_ex2.x3 >= 0)\n",
        "model_ex2.constr_8 = Constraint(expr = model_ex2.x4 >= 0)\n",
        "model_ex2.constr_9= Constraint(expr =  model_ex2.x5 >= 0)\n",
        "model_ex2.constr_10 = Constraint(expr = model_ex2.y <= 2.25)\n",
        "model_ex2.constr_11 = Constraint(expr = model_ex2.y >= 0)"
      ],
      "execution_count": 14,
      "outputs": []
    },
    {
      "cell_type": "code",
      "metadata": {
        "id": "wyYugL4IAo1Y",
        "colab": {
          "base_uri": "https://localhost:8080/"
        },
        "outputId": "f295bbf2-9e6e-4c18-c9eb-6f5fdaf5ddc3"
      },
      "source": [
        "SolverFactory('glpk',executable='/usr/bin/glpsol').solve(model_ex2)"
      ],
      "execution_count": 15,
      "outputs": [
        {
          "output_type": "execute_result",
          "data": {
            "text/plain": [
              "{'Problem': [{'Name': 'unknown', 'Lower bound': 3.86940833333333, 'Upper bound': 3.86940833333333, 'Number of objectives': 1, 'Number of constraints': 12, 'Number of variables': 7, 'Number of nonzeros': 27, 'Sense': 'maximize'}], 'Solver': [{'Status': 'ok', 'Termination condition': 'optimal', 'Statistics': {'Branch and bound': {'Number of bounded subproblems': 0, 'Number of created subproblems': 0}}, 'Error rc': 0, 'Time': 0.010759353637695312}], 'Solution': [OrderedDict([('number of solutions', 0), ('number of solutions displayed', 0)])]}"
            ]
          },
          "metadata": {},
          "execution_count": 15
        }
      ]
    },
    {
      "cell_type": "markdown",
      "metadata": {
        "id": "UiwspegiPpR6"
      },
      "source": [
        "Ex 2.3"
      ]
    },
    {
      "cell_type": "code",
      "metadata": {
        "colab": {
          "base_uri": "https://localhost:8080/"
        },
        "id": "SC3uP6ILPtIX",
        "outputId": "6fa81484-68b9-45bd-8653-9d38a2102a85"
      },
      "source": [
        "print(\"The Value of Optimal function is :\", model_ex2.obj())"
      ],
      "execution_count": 16,
      "outputs": [
        {
          "output_type": "stream",
          "name": "stdout",
          "text": [
            "The Value of Optimal function is : 3.8694083333333373\n"
          ]
        }
      ]
    },
    {
      "cell_type": "code",
      "metadata": {
        "colab": {
          "base_uri": "https://localhost:8080/"
        },
        "id": "VPAhdDbaLaKN",
        "outputId": "4ac0c215-9a14-4e65-dcdd-c7e9c5d23c91"
      },
      "source": [
        "print(\"Decision variable Values :\")\n",
        "print(\"x1 = \", model_ex2.x1())\n",
        "print(\"x2 = \", model_ex2.x2())\n",
        "print(\"x3 = \", model_ex2.x3())\n",
        "print(\"x4 = \", model_ex2.x4())\n",
        "print(\"x5 = \", model_ex2.x5())\n",
        "print(\"y = \", model_ex2.y())"
      ],
      "execution_count": 17,
      "outputs": [
        {
          "output_type": "stream",
          "name": "stdout",
          "text": [
            "Decision variable Values :\n",
            "x1 =  34.9833333333334\n",
            "x2 =  0.0\n",
            "x3 =  30.0\n",
            "x4 =  0.0\n",
            "x5 =  37.2666666666667\n",
            "y =  2.25\n"
          ]
        }
      ]
    },
    {
      "cell_type": "code",
      "metadata": {
        "colab": {
          "base_uri": "https://localhost:8080/"
        },
        "id": "YCUMbND6QLws",
        "outputId": "dd0889a6-1c94-4053-b1d0-30c4d8c1b590"
      },
      "source": [
        "if model_ex2.constr_1() == 100:\n",
        "  print(\"1st Constraint satisfies equality condition\" )\n",
        "elif model_ex2.constr_11() < 100:\n",
        "  print(\"1st Constraint does not satisfy equality condition\" )\n",
        "if model_ex2.constr_2() == 60 :\n",
        "  print(\"2nd Constraint satisfies equality condition\" )\n",
        "elif model_ex2.constr_2() > 60 :\n",
        "  print(\"2nd Constraint does not satisfy equality condition\" )\n",
        "if model_ex2.constr_3() == 0:\n",
        "  print(\"3rd Constraint satisfies equality condition\" )\n",
        "elif model_ex2.constr_3() < 0:\n",
        "  print(\"3rd Constraint does not satisfy equality condition\" )\n",
        "if model_ex2.constr_4() == 0:\n",
        "  print(\"4rth Constraint satisfies equality condition\" )\n",
        "elif model_ex2.constr_4() < 0:\n",
        "  print(\"4rth Constraint does not satisfy equality condition\" )\n"
      ],
      "execution_count": 18,
      "outputs": [
        {
          "output_type": "stream",
          "name": "stdout",
          "text": [
            "1st Constraint does not satisfy equality condition\n",
            "2nd Constraint satisfies equality condition\n",
            "4rth Constraint does not satisfy equality condition\n"
          ]
        }
      ]
    },
    {
      "cell_type": "markdown",
      "metadata": {
        "id": "UKiZMp0swS5c"
      },
      "source": [
        "Ex 2.4"
      ]
    },
    {
      "cell_type": "markdown",
      "metadata": {
        "id": "x-36UWItZzOT"
      },
      "source": [
        "Defining a constriant for our assumption\n",
        "$ x_1 - x_2 + x_3 - x_4 + x_5 $ should be >0, so we can define a constraint $-x_1 + x_2 - x_3 + x_4 - x_5 \\leq 0 $ \\\\\n",
        "similarly for $ x_1 + x_2 + x_3 - x_5 $ \\\\\n",
        "we can define \\\\\n",
        "$ -x_1 - x_2 - x_3 + x_5 \\leq 0 $ "
      ]
    },
    {
      "cell_type": "markdown",
      "metadata": {
        "id": "eqJaQKDo_A1I"
      },
      "source": [
        "Exercise 3"
      ]
    },
    {
      "cell_type": "markdown",
      "metadata": {
        "id": "CFg8yUGhxt7y"
      },
      "source": [
        "Ex 3.1"
      ]
    },
    {
      "cell_type": "markdown",
      "metadata": {
        "id": "_B4vf8N4AXCt"
      },
      "source": [
        "Let $x_1$ and $x_2$ be the quantity of P and Q material in kgs. \\\\\n",
        "Objective : Min $145x_1 + 280x_2 $ \\\\\n",
        "s.t.\n",
        "$1.15x_1 + 0.917x_2 \\leq 430 \\\\ x_1 + x_2 \\geq 274\n",
        " \\\\ x_1 \\geq 84, \\\\\n",
        "  x_2 \\geq 80   $\n"
      ]
    },
    {
      "cell_type": "code",
      "metadata": {
        "id": "-bUa8J_SAuht"
      },
      "source": [
        "#Creating Model\n",
        "model_ex_3 = ConcreteModel()"
      ],
      "execution_count": 19,
      "outputs": []
    },
    {
      "cell_type": "code",
      "metadata": {
        "id": "QpPzsAWrAwiS"
      },
      "source": [
        "#declaring variables\n",
        "model_ex_3.x1 = Var(domain=Reals)\n",
        "model_ex_3.x2 = Var(domain=Reals)"
      ],
      "execution_count": 20,
      "outputs": []
    },
    {
      "cell_type": "code",
      "metadata": {
        "id": "4cmdx_8IAxvo"
      },
      "source": [
        "#declaring objective \n",
        "model_ex_3.obj = Objective(expr = model_ex_3.x1 * 145 + model_ex_3.x2 * 280, sense = minimize)"
      ],
      "execution_count": 21,
      "outputs": []
    },
    {
      "cell_type": "code",
      "metadata": {
        "id": "ADysO8xOA1ZN"
      },
      "source": [
        "#declaring constraint\n",
        "model_ex_3.constr_1 = Constraint(expr = 1.15 * model_ex_3.x1 + 0.917 * model_ex_3.x2 <= 430)\n",
        "model_ex_3.constr_2= Constraint(expr = model_ex_3.x1 + model_ex_3.x2 >= 274)\n",
        "model_ex_3.constr_3 = Constraint(expr = model_ex_3.x1 >= 84)\n",
        "model_ex_3.constr_4 = Constraint(expr = model_ex_3.x2 >= 80)"
      ],
      "execution_count": 22,
      "outputs": []
    },
    {
      "cell_type": "code",
      "metadata": {
        "id": "dHBR782AA3AW",
        "colab": {
          "base_uri": "https://localhost:8080/"
        },
        "outputId": "cdc1c407-2fee-4ea2-fee3-f17e23f6e4ca"
      },
      "source": [
        "SolverFactory('glpk',executable='/usr/bin/glpsol').solve(model_ex_3)"
      ],
      "execution_count": 23,
      "outputs": [
        {
          "output_type": "execute_result",
          "data": {
            "text/plain": [
              "{'Problem': [{'Name': 'unknown', 'Lower bound': 50530.0, 'Upper bound': 50530.0, 'Number of objectives': 1, 'Number of constraints': 5, 'Number of variables': 3, 'Number of nonzeros': 7, 'Sense': 'minimize'}], 'Solver': [{'Status': 'ok', 'Termination condition': 'optimal', 'Statistics': {'Branch and bound': {'Number of bounded subproblems': 0, 'Number of created subproblems': 0}}, 'Error rc': 0, 'Time': 0.014731884002685547}], 'Solution': [OrderedDict([('number of solutions', 0), ('number of solutions displayed', 0)])]}"
            ]
          },
          "metadata": {},
          "execution_count": 23
        }
      ]
    },
    {
      "cell_type": "markdown",
      "metadata": {
        "id": "mhw7UsgE4Stj"
      },
      "source": [
        "Ex 3.3"
      ]
    },
    {
      "cell_type": "code",
      "metadata": {
        "colab": {
          "base_uri": "https://localhost:8080/"
        },
        "id": "njpMzs824YDb",
        "outputId": "0bc264d8-32aa-4827-a4ac-69e4148e2b9e"
      },
      "source": [
        "#Printing the optimal value\n",
        "print(\"The value of optimal function :\", model_ex_3.obj())"
      ],
      "execution_count": 24,
      "outputs": [
        {
          "output_type": "stream",
          "name": "stdout",
          "text": [
            "The value of optimal function : 50530.0\n"
          ]
        }
      ]
    },
    {
      "cell_type": "code",
      "metadata": {
        "colab": {
          "base_uri": "https://localhost:8080/"
        },
        "id": "Vwyn1CSH4Zml",
        "outputId": "16d906a5-1366-44f9-a255-b6bc10c6e3f4"
      },
      "source": [
        "#Printing the values of decision variables\n",
        "print(\"x1 = \", model_ex_3.x1())\n",
        "print(\"x2 = \", model_ex_3.x2())"
      ],
      "execution_count": 25,
      "outputs": [
        {
          "output_type": "stream",
          "name": "stdout",
          "text": [
            "x1 =  194.0\n",
            "x2 =  80.0\n"
          ]
        }
      ]
    },
    {
      "cell_type": "code",
      "metadata": {
        "id": "k0o6hwmuoRyn",
        "colab": {
          "base_uri": "https://localhost:8080/"
        },
        "outputId": "213c4a1e-3209-4437-c66a-b61fa781b0b4"
      },
      "source": [
        "if model_ex_3.constr_1() == 430:\n",
        "  print(\"1st Constraint satisfies equality condition\")\n",
        "elif model_ex_3.constr_1() < 430:\n",
        "  print(\"1st Constraint doesnot satisfy inequality\")\n",
        "if model_ex_3.constr_2() == 274:\n",
        "  print(\"2nd Constraint satisfies equality condition\")\n",
        "elif model_ex_3.constr_2() > 274:\n",
        "  print(\"2nd constraint does not satisfy inequality\")\n"
      ],
      "execution_count": 26,
      "outputs": [
        {
          "output_type": "stream",
          "name": "stdout",
          "text": [
            "1st Constraint doesnot satisfy inequality\n",
            "2nd Constraint satisfies equality condition\n"
          ]
        }
      ]
    },
    {
      "cell_type": "markdown",
      "metadata": {
        "id": "aniQc2OjO_--"
      },
      "source": [
        "Objective : Min $ 145x_1 + 280x_2 \\\\ \\text{ s.t }\\ 1.15x_1 + 0.917x_2 \\leq 430 \\\\ x_1 + x_2 \\geq 493 \\\\ x_1 \\geq 186, \\\\ x_2 \\geq 197   $\n",
        "\n",
        "Minimum quantity required is increased from 84 to 186 for P and 80 to 197 for Q."
      ]
    },
    {
      "cell_type": "markdown",
      "metadata": {
        "id": "V7geaYtk46YP"
      },
      "source": [
        "Ex 3.4"
      ]
    },
    {
      "cell_type": "code",
      "metadata": {
        "id": "gaHaG2vcA8tz"
      },
      "source": [
        "#Creating model \n",
        "model_ex3_4 = ConcreteModel()"
      ],
      "execution_count": 27,
      "outputs": []
    },
    {
      "cell_type": "code",
      "metadata": {
        "id": "d7rbevn5A_O1"
      },
      "source": [
        "#declaring variables\n",
        "model_ex3_4.x1 = Var(domain=Reals)\n",
        "model_ex3_4.x2 = Var(domain=Reals)"
      ],
      "execution_count": 28,
      "outputs": []
    },
    {
      "cell_type": "code",
      "metadata": {
        "id": "4vD0IihuBBF0"
      },
      "source": [
        "#declaring objective \n",
        "model_ex3_4.obj = Objective(expr = model_ex3_4.x1 * 145 + model_ex3_4.x2 * 280, sense = minimize)"
      ],
      "execution_count": 29,
      "outputs": []
    },
    {
      "cell_type": "code",
      "metadata": {
        "id": "YEL3laElBDWL"
      },
      "source": [
        "#declaring constraint\n",
        "model_ex3_4.constr_1 = Constraint(expr = 1.15 * model_ex3_4.x1 + 0.917 * model_ex3_4.x2 <= 430)\n",
        "model_ex3_4.constr_2 = Constraint(expr = model_ex3_4.x1 + model_ex3_4.x2 >= 430)\n",
        "model_ex3_4.constr_3 = Constraint(expr = model_ex3_4.x1 >= 186)\n",
        "model_ex3_4.constr_4 = Constraint(expr = model_ex3_4.x2 >= 197)"
      ],
      "execution_count": 30,
      "outputs": []
    },
    {
      "cell_type": "code",
      "metadata": {
        "id": "mWHtl3UgBGfV",
        "colab": {
          "base_uri": "https://localhost:8080/"
        },
        "outputId": "0eb2825d-52ce-443f-b9d0-8e8cc93fe5c2"
      },
      "source": [
        "SolverFactory('glpk',executable='/usr/bin/glpsol').solve(model_ex3_4).write()"
      ],
      "execution_count": 31,
      "outputs": [
        {
          "output_type": "stream",
          "name": "stdout",
          "text": [
            "# ==========================================================\n",
            "# = Solver Results                                         =\n",
            "# ==========================================================\n",
            "# ----------------------------------------------------------\n",
            "#   Problem Information\n",
            "# ----------------------------------------------------------\n",
            "Problem: \n",
            "- Name: unknown\n",
            "  Lower bound: -inf\n",
            "  Upper bound: inf\n",
            "  Number of objectives: 1\n",
            "  Number of constraints: 5\n",
            "  Number of variables: 3\n",
            "  Number of nonzeros: 7\n",
            "  Sense: minimize\n",
            "# ----------------------------------------------------------\n",
            "#   Solver Information\n",
            "# ----------------------------------------------------------\n",
            "Solver: \n",
            "- Status: ok\n",
            "  Termination condition: other\n",
            "  Statistics: \n",
            "    Branch and bound: \n",
            "      Number of bounded subproblems: 0\n",
            "      Number of created subproblems: 0\n",
            "  Error rc: 0\n",
            "  Time: 0.019466161727905273\n"
          ]
        }
      ]
    },
    {
      "cell_type": "code",
      "metadata": {
        "colab": {
          "base_uri": "https://localhost:8080/",
          "height": 453
        },
        "id": "gUjrj82h7Ow9",
        "outputId": "53001524-03a5-4648-fc08-29f37aae32cb"
      },
      "source": [
        "print(\"The value of Optimal function :\", model_ex3_4.obj())"
      ],
      "execution_count": 32,
      "outputs": [
        {
          "output_type": "stream",
          "name": "stdout",
          "text": [
            "ERROR: evaluating object as numeric value: x1\n",
            "        (object: <class 'pyomo.core.base.var.ScalarVar'>)\n",
            "    No value for uninitialized NumericValue object x1\n"
          ]
        },
        {
          "output_type": "error",
          "ename": "ValueError",
          "evalue": "ignored",
          "traceback": [
            "\u001b[0;31m---------------------------------------------------------------------------\u001b[0m",
            "\u001b[0;31mValueError\u001b[0m                                Traceback (most recent call last)",
            "\u001b[0;32m<ipython-input-32-d1accf6b16a0>\u001b[0m in \u001b[0;36m<module>\u001b[0;34m()\u001b[0m\n\u001b[0;32m----> 1\u001b[0;31m \u001b[0mprint\u001b[0m\u001b[0;34m(\u001b[0m\u001b[0;34m\"The value of Optimal function :\"\u001b[0m\u001b[0;34m,\u001b[0m \u001b[0mmodel_ex3_4\u001b[0m\u001b[0;34m.\u001b[0m\u001b[0mobj\u001b[0m\u001b[0;34m(\u001b[0m\u001b[0;34m)\u001b[0m\u001b[0;34m)\u001b[0m\u001b[0;34m\u001b[0m\u001b[0;34m\u001b[0m\u001b[0m\n\u001b[0m",
            "\u001b[0;32m/usr/local/lib/python3.7/dist-packages/pyomo/core/base/expression.py\u001b[0m in \u001b[0;36m__call__\u001b[0;34m(self, exception)\u001b[0m\n\u001b[1;32m     51\u001b[0m         \u001b[0;32mif\u001b[0m \u001b[0mself\u001b[0m\u001b[0;34m.\u001b[0m\u001b[0mexpr\u001b[0m \u001b[0;32mis\u001b[0m \u001b[0;32mNone\u001b[0m\u001b[0;34m:\u001b[0m\u001b[0;34m\u001b[0m\u001b[0;34m\u001b[0m\u001b[0m\n\u001b[1;32m     52\u001b[0m             \u001b[0;32mreturn\u001b[0m \u001b[0;32mNone\u001b[0m\u001b[0;34m\u001b[0m\u001b[0;34m\u001b[0m\u001b[0m\n\u001b[0;32m---> 53\u001b[0;31m         \u001b[0;32mreturn\u001b[0m \u001b[0mself\u001b[0m\u001b[0;34m.\u001b[0m\u001b[0mexpr\u001b[0m\u001b[0;34m(\u001b[0m\u001b[0mexception\u001b[0m\u001b[0;34m=\u001b[0m\u001b[0mexception\u001b[0m\u001b[0;34m)\u001b[0m\u001b[0;34m\u001b[0m\u001b[0;34m\u001b[0m\u001b[0m\n\u001b[0m\u001b[1;32m     54\u001b[0m \u001b[0;34m\u001b[0m\u001b[0m\n\u001b[1;32m     55\u001b[0m     \u001b[0;32mdef\u001b[0m \u001b[0mis_named_expression_type\u001b[0m\u001b[0;34m(\u001b[0m\u001b[0mself\u001b[0m\u001b[0;34m)\u001b[0m\u001b[0;34m:\u001b[0m\u001b[0;34m\u001b[0m\u001b[0;34m\u001b[0m\u001b[0m\n",
            "\u001b[0;32mpyomo/core/expr/numeric_expr.pyx\u001b[0m in \u001b[0;36mpyomo.core.expr.numeric_expr.ExpressionBase.__call__\u001b[0;34m()\u001b[0m\n",
            "\u001b[0;32m/usr/local/lib/python3.7/dist-packages/pyomo/core/expr/visitor.py\u001b[0m in \u001b[0;36mevaluate_expression\u001b[0;34m(exp, exception, constant)\u001b[0m\n\u001b[1;32m   1043\u001b[0m         \u001b[0mvisitor\u001b[0m \u001b[0;34m=\u001b[0m \u001b[0m_EvaluationVisitor\u001b[0m\u001b[0;34m(\u001b[0m\u001b[0mexception\u001b[0m\u001b[0;34m=\u001b[0m\u001b[0mexception\u001b[0m\u001b[0;34m)\u001b[0m\u001b[0;34m\u001b[0m\u001b[0;34m\u001b[0m\u001b[0m\n\u001b[1;32m   1044\u001b[0m     \u001b[0;32mtry\u001b[0m\u001b[0;34m:\u001b[0m\u001b[0;34m\u001b[0m\u001b[0;34m\u001b[0m\u001b[0m\n\u001b[0;32m-> 1045\u001b[0;31m         \u001b[0;32mreturn\u001b[0m \u001b[0mvisitor\u001b[0m\u001b[0;34m.\u001b[0m\u001b[0mdfs_postorder_stack\u001b[0m\u001b[0;34m(\u001b[0m\u001b[0mexp\u001b[0m\u001b[0;34m)\u001b[0m\u001b[0;34m\u001b[0m\u001b[0;34m\u001b[0m\u001b[0m\n\u001b[0m\u001b[1;32m   1046\u001b[0m \u001b[0;34m\u001b[0m\u001b[0m\n\u001b[1;32m   1047\u001b[0m     except ( TemplateExpressionError, ValueError, TypeError,\n",
            "\u001b[0;32m/usr/local/lib/python3.7/dist-packages/pyomo/core/expr/visitor.py\u001b[0m in \u001b[0;36mdfs_postorder_stack\u001b[0;34m(self, node)\u001b[0m\n\u001b[1;32m    570\u001b[0m                 \u001b[0m_sub\u001b[0m \u001b[0;34m=\u001b[0m \u001b[0m_argList\u001b[0m\u001b[0;34m[\u001b[0m\u001b[0m_idx\u001b[0m\u001b[0;34m]\u001b[0m\u001b[0;34m\u001b[0m\u001b[0;34m\u001b[0m\u001b[0m\n\u001b[1;32m    571\u001b[0m                 \u001b[0m_idx\u001b[0m \u001b[0;34m+=\u001b[0m \u001b[0;36m1\u001b[0m\u001b[0;34m\u001b[0m\u001b[0;34m\u001b[0m\u001b[0m\n\u001b[0;32m--> 572\u001b[0;31m                 \u001b[0mflag\u001b[0m\u001b[0;34m,\u001b[0m \u001b[0mvalue\u001b[0m \u001b[0;34m=\u001b[0m \u001b[0mself\u001b[0m\u001b[0;34m.\u001b[0m\u001b[0mvisiting_potential_leaf\u001b[0m\u001b[0;34m(\u001b[0m\u001b[0m_sub\u001b[0m\u001b[0;34m)\u001b[0m\u001b[0;34m\u001b[0m\u001b[0;34m\u001b[0m\u001b[0m\n\u001b[0m\u001b[1;32m    573\u001b[0m                 \u001b[0;32mif\u001b[0m \u001b[0mflag\u001b[0m\u001b[0;34m:\u001b[0m\u001b[0;34m\u001b[0m\u001b[0;34m\u001b[0m\u001b[0m\n\u001b[1;32m    574\u001b[0m                     \u001b[0m_result\u001b[0m\u001b[0;34m.\u001b[0m\u001b[0mappend\u001b[0m\u001b[0;34m(\u001b[0m \u001b[0mvalue\u001b[0m \u001b[0;34m)\u001b[0m\u001b[0;34m\u001b[0m\u001b[0;34m\u001b[0m\u001b[0m\n",
            "\u001b[0;32m/usr/local/lib/python3.7/dist-packages/pyomo/core/expr/visitor.py\u001b[0m in \u001b[0;36mvisiting_potential_leaf\u001b[0;34m(self, node)\u001b[0m\n\u001b[1;32m    951\u001b[0m \u001b[0;34m\u001b[0m\u001b[0m\n\u001b[1;32m    952\u001b[0m         \u001b[0;32mif\u001b[0m \u001b[0mnode\u001b[0m\u001b[0;34m.\u001b[0m\u001b[0mis_numeric_type\u001b[0m\u001b[0;34m(\u001b[0m\u001b[0;34m)\u001b[0m\u001b[0;34m:\u001b[0m\u001b[0;34m\u001b[0m\u001b[0;34m\u001b[0m\u001b[0m\n\u001b[0;32m--> 953\u001b[0;31m             \u001b[0;32mreturn\u001b[0m \u001b[0;32mTrue\u001b[0m\u001b[0;34m,\u001b[0m \u001b[0mvalue\u001b[0m\u001b[0;34m(\u001b[0m\u001b[0mnode\u001b[0m\u001b[0;34m,\u001b[0m \u001b[0mexception\u001b[0m\u001b[0;34m=\u001b[0m\u001b[0mself\u001b[0m\u001b[0;34m.\u001b[0m\u001b[0mexception\u001b[0m\u001b[0;34m)\u001b[0m\u001b[0;34m\u001b[0m\u001b[0;34m\u001b[0m\u001b[0m\n\u001b[0m\u001b[1;32m    954\u001b[0m         \u001b[0;32melif\u001b[0m \u001b[0mnode\u001b[0m\u001b[0;34m.\u001b[0m\u001b[0mis_logical_type\u001b[0m\u001b[0;34m(\u001b[0m\u001b[0;34m)\u001b[0m\u001b[0;34m:\u001b[0m\u001b[0;34m\u001b[0m\u001b[0;34m\u001b[0m\u001b[0m\n\u001b[1;32m    955\u001b[0m             \u001b[0;32mreturn\u001b[0m \u001b[0;32mTrue\u001b[0m\u001b[0;34m,\u001b[0m \u001b[0mvalue\u001b[0m\u001b[0;34m(\u001b[0m\u001b[0mnode\u001b[0m\u001b[0;34m,\u001b[0m \u001b[0mexception\u001b[0m\u001b[0;34m=\u001b[0m\u001b[0mself\u001b[0m\u001b[0;34m.\u001b[0m\u001b[0mexception\u001b[0m\u001b[0;34m)\u001b[0m\u001b[0;34m\u001b[0m\u001b[0;34m\u001b[0m\u001b[0m\n",
            "\u001b[0;32mpyomo/core/expr/numvalue.pyx\u001b[0m in \u001b[0;36mpyomo.core.expr.numvalue.value\u001b[0;34m()\u001b[0m\n",
            "\u001b[0;32mpyomo/core/expr/numvalue.pyx\u001b[0m in \u001b[0;36mpyomo.core.expr.numvalue.value\u001b[0;34m()\u001b[0m\n",
            "\u001b[0;31mValueError\u001b[0m: No value for uninitialized NumericValue object x1"
          ]
        }
      ]
    },
    {
      "cell_type": "code",
      "metadata": {
        "id": "ItTuIT5o7Qun"
      },
      "source": [
        "print(\"x1 = \", model_ex3_4.x1())\n",
        "print(\"x2 = \", model_ex3_4.x2())"
      ],
      "execution_count": null,
      "outputs": []
    },
    {
      "cell_type": "code",
      "metadata": {
        "id": "vympW016Pa2T"
      },
      "source": [
        "if model_ex3_4.constr_1() == 430:\n",
        "  print(\"1st Constraint satisfy equality condition\")\n",
        "elif model_ex3_4.constr_1() < 430:\n",
        "  print(\"1st Constraint doesnot satisfy inequality\")\n",
        "if model_ex3_4.constr_2() == 493:\n",
        "  print(\"2nd Constraint satisfy equality condition\")\n",
        "elif model_ex3_4.constr_2() > 493:\n",
        "  print(\"2nd constraint does not satisfy inequality\")"
      ],
      "execution_count": null,
      "outputs": []
    },
    {
      "cell_type": "markdown",
      "metadata": {
        "id": "tNKFMfRU8A1O"
      },
      "source": [
        "Ex 3.6"
      ]
    },
    {
      "cell_type": "markdown",
      "metadata": {
        "id": "dEVq4lqZ8D2q"
      },
      "source": [
        "Reason for Error occurence is : On addition of new constraint the solution becomes non feasible \\\\\n",
        " "
      ]
    }
  ]
}