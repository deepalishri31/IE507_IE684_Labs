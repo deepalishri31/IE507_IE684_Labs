{
  "nbformat": 4,
  "nbformat_minor": 0,
  "metadata": {
    "colab": {
      "name": "21i190006_IE507_Lab04_Ex1.ipynb",
      "provenance": [],
      "collapsed_sections": []
    },
    "kernelspec": {
      "name": "python3",
      "display_name": "Python 3"
    },
    "language_info": {
      "name": "python"
    }
  },
  "cells": [
    {
      "cell_type": "code",
      "metadata": {
        "id": "_m3snJf6fRkT",
        "colab": {
          "base_uri": "https://localhost:8080/"
        },
        "outputId": "46ba7886-89b3-43ef-e713-1ce7ec8aeb1f"
      },
      "source": [
        "!pip install -q pyomo\n",
        "from pyomo.environ import *\n",
        "import numpy as np"
      ],
      "execution_count": null,
      "outputs": [
        {
          "output_type": "stream",
          "name": "stdout",
          "text": [
            "\u001b[K     |████████████████████████████████| 9.1 MB 4.1 MB/s \n",
            "\u001b[K     |████████████████████████████████| 49 kB 5.7 MB/s \n",
            "\u001b[?25h"
          ]
        }
      ]
    },
    {
      "cell_type": "markdown",
      "metadata": {
        "id": "MN-ap31qRnmq"
      },
      "source": [
        "Question 4."
      ]
    },
    {
      "cell_type": "code",
      "metadata": {
        "id": "Y-jAgWVZf2G6"
      },
      "source": [
        "coefficient = np.loadtxt('lab4_ex1_coef.txt', delimiter = ',')"
      ],
      "execution_count": null,
      "outputs": []
    },
    {
      "cell_type": "code",
      "metadata": {
        "colab": {
          "base_uri": "https://localhost:8080/"
        },
        "id": "UFnIRUZTgZqK",
        "outputId": "a4e42e67-f10e-4653-be45-0912dbc927d7"
      },
      "source": [
        "print(coefficient.shape)"
      ],
      "execution_count": null,
      "outputs": [
        {
          "output_type": "stream",
          "name": "stdout",
          "text": [
            "(6, 7)\n"
          ]
        }
      ]
    },
    {
      "cell_type": "code",
      "metadata": {
        "colab": {
          "base_uri": "https://localhost:8080/"
        },
        "id": "wW_iAHZaRYuV",
        "outputId": "27201fc4-66f8-4f41-b687-fd303e325198"
      },
      "source": [
        "print('No. of columns=', coefficient.shape[1])"
      ],
      "execution_count": null,
      "outputs": [
        {
          "output_type": "stream",
          "name": "stdout",
          "text": [
            "No. of columns= 7\n"
          ]
        }
      ]
    },
    {
      "cell_type": "code",
      "metadata": {
        "colab": {
          "base_uri": "https://localhost:8080/"
        },
        "id": "SeGqAprWRXLf",
        "outputId": "027f72af-55a3-4786-ee1c-766e82bf33c6"
      },
      "source": [
        "print('No. of rows=', coefficient.shape[0])"
      ],
      "execution_count": null,
      "outputs": [
        {
          "output_type": "stream",
          "name": "stdout",
          "text": [
            "No. of rows= 6\n"
          ]
        }
      ]
    },
    {
      "cell_type": "code",
      "metadata": {
        "colab": {
          "base_uri": "https://localhost:8080/"
        },
        "id": "9CQfkw6lhYB9",
        "outputId": "4aa658cd-3566-4eaf-b7aa-1bcc8009b200"
      },
      "source": [
        "print(coefficient)"
      ],
      "execution_count": null,
      "outputs": [
        {
          "output_type": "stream",
          "name": "stdout",
          "text": [
            "[[  0.85   3.75  -8.75  -3.45 -22.38  20.     0.  ]\n",
            " [ -0.7   -3.9   -1.     0.     1.     0.    14.9 ]\n",
            " [  1.     0.     0.    -1.     0.    -1.     0.9 ]\n",
            " [  0.    -3.    -2.     0.     0.    -1.   -51.7 ]\n",
            " [  0.     0.     0.     4.8    9.12   7.2   75.  ]\n",
            " [ -0.8   -1.5    8.    -2.     1.     0.   -27.  ]]\n"
          ]
        }
      ]
    },
    {
      "cell_type": "markdown",
      "metadata": {
        "id": "JhKQHy4qRty3"
      },
      "source": [
        "Question 5."
      ]
    },
    {
      "cell_type": "code",
      "metadata": {
        "id": "naGjv5Y9hZgb"
      },
      "source": [
        "model_ex1 = ConcreteModel()"
      ],
      "execution_count": null,
      "outputs": []
    },
    {
      "cell_type": "code",
      "metadata": {
        "id": "c6z-e8xghkAV",
        "colab": {
          "base_uri": "https://localhost:8080/"
        },
        "outputId": "d7643b21-4fa0-47ad-860e-eb206fa8459a"
      },
      "source": [
        "#number of decision variables and constraints\n",
        "M = coefficient.shape[0] - 1 \n",
        "print(M)"
      ],
      "execution_count": null,
      "outputs": [
        {
          "output_type": "stream",
          "name": "stdout",
          "text": [
            "5\n"
          ]
        }
      ]
    },
    {
      "cell_type": "code",
      "metadata": {
        "colab": {
          "base_uri": "https://localhost:8080/"
        },
        "id": "IN4Zg298ST1g",
        "outputId": "af961d70-9312-4ae5-e099-d13d495deb59"
      },
      "source": [
        "#number of constraints\n",
        "N = coefficient.shape[1] - 1 \n",
        "print(N)"
      ],
      "execution_count": null,
      "outputs": [
        {
          "output_type": "stream",
          "name": "stdout",
          "text": [
            "6\n"
          ]
        }
      ]
    },
    {
      "cell_type": "code",
      "metadata": {
        "id": "viO8fcbwiXyU"
      },
      "source": [
        "#Coefficient of objective function\n",
        "objective_coefficient = coefficient[0,:-1]"
      ],
      "execution_count": null,
      "outputs": []
    },
    {
      "cell_type": "code",
      "metadata": {
        "id": "4p2P8TVrix2c"
      },
      "source": [
        "#constraints coefficient \n",
        "constr_coefficient =coefficient[1:,:-1]"
      ],
      "execution_count": null,
      "outputs": []
    },
    {
      "cell_type": "code",
      "metadata": {
        "id": "CHzxbM25jfPu"
      },
      "source": [
        "constr_rhs = coefficient[1:,-1]"
      ],
      "execution_count": null,
      "outputs": []
    },
    {
      "cell_type": "code",
      "metadata": {
        "id": "KCTZJDjKkDin"
      },
      "source": [
        "#lower bound declaration \n",
        "lb = 0"
      ],
      "execution_count": null,
      "outputs": []
    },
    {
      "cell_type": "code",
      "metadata": {
        "id": "egKssemDVtPc"
      },
      "source": [
        "#upper bound declaration \n",
        "ub = np.inf"
      ],
      "execution_count": null,
      "outputs": []
    },
    {
      "cell_type": "code",
      "metadata": {
        "id": "4eqRb2x2kMMR",
        "colab": {
          "base_uri": "https://localhost:8080/"
        },
        "outputId": "0d3272ac-b256-49f5-e202-d90c76b52d86"
      },
      "source": [
        "# set row indices\n",
        "row_indices = np.arange(M)\n",
        "print(row_indices)"
      ],
      "execution_count": null,
      "outputs": [
        {
          "output_type": "stream",
          "name": "stdout",
          "text": [
            "[0 1 2 3 4]\n"
          ]
        }
      ]
    },
    {
      "cell_type": "code",
      "metadata": {
        "colab": {
          "base_uri": "https://localhost:8080/"
        },
        "id": "f7I50t_JV0pV",
        "outputId": "1b59499f-1a92-453d-a09a-0a8992590798"
      },
      "source": [
        "#Set column indices\n",
        "column_indices = np.arange(N)\n",
        "print(column_indices)"
      ],
      "execution_count": null,
      "outputs": [
        {
          "output_type": "stream",
          "name": "stdout",
          "text": [
            "[0 1 2 3 4 5]\n"
          ]
        }
      ]
    },
    {
      "cell_type": "code",
      "metadata": {
        "id": "o3zCIM_ZljsN"
      },
      "source": [
        "#decision variables in the model\n",
        "model_ex1.x = Var(column_indices)"
      ],
      "execution_count": null,
      "outputs": []
    },
    {
      "cell_type": "code",
      "metadata": {
        "id": "FNARaN5Clspy"
      },
      "source": [
        "#constraint list\n",
        "model_ex1.constraints = ConstraintList()"
      ],
      "execution_count": null,
      "outputs": []
    },
    {
      "cell_type": "code",
      "metadata": {
        "id": "hyPEuQyDl66m"
      },
      "source": [
        "for i in row_indices:\n",
        "     model_ex1.constraints.add(sum(constr_coefficient[i][j]*model_ex1.x[j] for j in column_indices)<= constr_rhs[i])"
      ],
      "execution_count": null,
      "outputs": []
    },
    {
      "cell_type": "code",
      "metadata": {
        "id": "KUKoxdYpoW9S"
      },
      "source": [
        "for j in column_indices:\n",
        "  model_ex1.x[j].setlb(lb)\n",
        "  model_ex1.x[j].setub(ub)"
      ],
      "execution_count": null,
      "outputs": []
    },
    {
      "cell_type": "code",
      "metadata": {
        "id": "SHgVFj4ErKfV"
      },
      "source": [
        "model_ex1.objective = Objective(expr = summation(objective_coefficient, model_ex1.x), sense = maximize)"
      ],
      "execution_count": null,
      "outputs": []
    },
    {
      "cell_type": "code",
      "metadata": {
        "colab": {
          "base_uri": "https://localhost:8080/"
        },
        "id": "mWCaTeGLrmbB",
        "outputId": "e719cd0e-5e56-4388-d52a-45eccee4d739"
      },
      "source": [
        "model_ex1.pprint()"
      ],
      "execution_count": null,
      "outputs": [
        {
          "output_type": "stream",
          "name": "stdout",
          "text": [
            "2 Set Declarations\n",
            "    constraints_index : Size=1, Index=None, Ordered=Insertion\n",
            "        Key  : Dimen : Domain : Size : Members\n",
            "        None :     1 :    Any :    5 : {1, 2, 3, 4, 5}\n",
            "    x_index : Size=1, Index=None, Ordered=False\n",
            "        Key  : Dimen : Domain : Size : Members\n",
            "        None :     1 :    Any :    6 : {0, 1, 2, 3, 4, 5}\n",
            "\n",
            "1 Var Declarations\n",
            "    x : Size=6, Index=x_index\n",
            "        Key : Lower : Value : Upper : Fixed : Stale : Domain\n",
            "          0 :     0 :  None :   inf : False :  True :  Reals\n",
            "          1 :     0 :  None :   inf : False :  True :  Reals\n",
            "          2 :     0 :  None :   inf : False :  True :  Reals\n",
            "          3 :     0 :  None :   inf : False :  True :  Reals\n",
            "          4 :     0 :  None :   inf : False :  True :  Reals\n",
            "          5 :     0 :  None :   inf : False :  True :  Reals\n",
            "\n",
            "1 Objective Declarations\n",
            "    objective : Size=1, Index=None, Active=True\n",
            "        Key  : Active : Sense    : Expression\n",
            "        None :   True : maximize : 0.85*x[0] + 3.75*x[1] - 8.75*x[2] - 3.45*x[3] - 22.38*x[4] + 20.0*x[5]\n",
            "\n",
            "1 Constraint Declarations\n",
            "    constraints : Size=5, Index=constraints_index, Active=True\n",
            "        Key : Lower : Body                                              : Upper : Active\n",
            "          1 :  -Inf :                -0.7*x[0] - 3.9*x[1] - x[2] + x[4] :  14.9 :   True\n",
            "          2 :  -Inf :                                x[0] - x[3] - x[5] :   0.9 :   True\n",
            "          3 :  -Inf :                       -3.0*x[1] - 2.0*x[2] - x[5] : -51.7 :   True\n",
            "          4 :  -Inf :                   4.8*x[3] + 9.12*x[4] + 7.2*x[5] :  75.0 :   True\n",
            "          5 :  -Inf : -0.8*x[0] - 1.5*x[1] + 8.0*x[2] - 2.0*x[3] + x[4] : -27.0 :   True\n",
            "\n",
            "5 Declarations: x_index x constraints_index constraints objective\n"
          ]
        }
      ]
    },
    {
      "cell_type": "markdown",
      "metadata": {
        "id": "0RC9CVRjiNLt"
      },
      "source": [
        "$$Q-6$$"
      ]
    },
    {
      "cell_type": "code",
      "metadata": {
        "id": "aVolWJ55rpbk",
        "colab": {
          "base_uri": "https://localhost:8080/"
        },
        "outputId": "cc7ef880-cd24-4e91-fed4-eedfa0afb77a"
      },
      "source": [
        "!apt-get install -y -qq coinor-cbc"
      ],
      "execution_count": null,
      "outputs": [
        {
          "output_type": "stream",
          "name": "stdout",
          "text": [
            "Selecting previously unselected package coinor-libcoinutils3v5.\n",
            "(Reading database ... 155047 files and directories currently installed.)\n",
            "Preparing to unpack .../0-coinor-libcoinutils3v5_2.10.14+repack1-1_amd64.deb ...\n",
            "Unpacking coinor-libcoinutils3v5 (2.10.14+repack1-1) ...\n",
            "Selecting previously unselected package coinor-libosi1v5.\n",
            "Preparing to unpack .../1-coinor-libosi1v5_0.107.9+repack1-1_amd64.deb ...\n",
            "Unpacking coinor-libosi1v5 (0.107.9+repack1-1) ...\n",
            "Selecting previously unselected package coinor-libclp1.\n",
            "Preparing to unpack .../2-coinor-libclp1_1.16.11+repack1-1_amd64.deb ...\n",
            "Unpacking coinor-libclp1 (1.16.11+repack1-1) ...\n",
            "Selecting previously unselected package coinor-libcgl1.\n",
            "Preparing to unpack .../3-coinor-libcgl1_0.59.10+repack1-1_amd64.deb ...\n",
            "Unpacking coinor-libcgl1 (0.59.10+repack1-1) ...\n",
            "Selecting previously unselected package coinor-libcbc3.\n",
            "Preparing to unpack .../4-coinor-libcbc3_2.9.9+repack1-1_amd64.deb ...\n",
            "Unpacking coinor-libcbc3 (2.9.9+repack1-1) ...\n",
            "Selecting previously unselected package coinor-cbc.\n",
            "Preparing to unpack .../5-coinor-cbc_2.9.9+repack1-1_amd64.deb ...\n",
            "Unpacking coinor-cbc (2.9.9+repack1-1) ...\n",
            "Setting up coinor-libcoinutils3v5 (2.10.14+repack1-1) ...\n",
            "Setting up coinor-libosi1v5 (0.107.9+repack1-1) ...\n",
            "Setting up coinor-libclp1 (1.16.11+repack1-1) ...\n",
            "Setting up coinor-libcgl1 (0.59.10+repack1-1) ...\n",
            "Setting up coinor-libcbc3 (2.9.9+repack1-1) ...\n",
            "Setting up coinor-cbc (2.9.9+repack1-1) ...\n",
            "Processing triggers for man-db (2.8.3-2ubuntu0.1) ...\n",
            "Processing triggers for libc-bin (2.27-3ubuntu1.3) ...\n",
            "/sbin/ldconfig.real: /usr/local/lib/python3.7/dist-packages/ideep4py/lib/libmkldnn.so.0 is not a symbolic link\n",
            "\n"
          ]
        }
      ]
    },
    {
      "cell_type": "code",
      "metadata": {
        "id": "AMSMK_yMr1qG"
      },
      "source": [
        "opt_cbc = SolverFactory('cbc')"
      ],
      "execution_count": null,
      "outputs": []
    },
    {
      "cell_type": "code",
      "metadata": {
        "colab": {
          "base_uri": "https://localhost:8080/"
        },
        "id": "UxsozmcBsChN",
        "outputId": "91511f75-d939-4d31-a105-b0480dafd6e1"
      },
      "source": [
        "result = opt_cbc.solve(model_ex1)\n",
        "print('The Solver status:', result.solver.status)\n",
        "print('The Solver termination condition:',result.solver.termination_condition)"
      ],
      "execution_count": null,
      "outputs": [
        {
          "output_type": "stream",
          "name": "stdout",
          "text": [
            "WARNING: Loading a SolverResults object with a warning status into\n",
            "    model.name=\"unknown\";\n",
            "      - termination condition: unbounded\n",
            "      - message from solver: <undefined>\n",
            "The Solver status: warning\n",
            "The Solver termination condition: unbounded\n"
          ]
        }
      ]
    },
    {
      "cell_type": "markdown",
      "metadata": {
        "id": "tMoa4Tc1Wk6M"
      },
      "source": [
        "Question 7."
      ]
    },
    {
      "cell_type": "markdown",
      "metadata": {
        "id": "X70oM01QWBLD"
      },
      "source": [
        "In this problem ,the termination condition is unbounded that is we can maximize the objective function indefinitely without violating the constraints. \\\\\n",
        "The solver status shows that we cannot find an optimal solution , as the feasible region is not bounded above that is unbounded."
      ]
    },
    {
      "cell_type": "markdown",
      "metadata": {
        "id": "x4l_dU75WxDD"
      },
      "source": [
        "Question 8."
      ]
    },
    {
      "cell_type": "markdown",
      "metadata": {
        "id": "8WguNl1wWy7q"
      },
      "source": [
        "We were solving the problem in the wrongn optimization sense ,so the feasible region is unbounded."
      ]
    },
    {
      "cell_type": "code",
      "metadata": {
        "colab": {
          "base_uri": "https://localhost:8080/"
        },
        "id": "hlnfXTzzsKJu",
        "outputId": "b5d93c09-0c76-45d8-a171-c7e5985a391d"
      },
      "source": [
        "#the sense reset to minimized\n",
        "model_ex1.objective.set_sense(minimize)\n",
        "model_ex1.pprint()"
      ],
      "execution_count": null,
      "outputs": [
        {
          "output_type": "stream",
          "name": "stdout",
          "text": [
            "2 Set Declarations\n",
            "    constraints_index : Size=1, Index=None, Ordered=Insertion\n",
            "        Key  : Dimen : Domain : Size : Members\n",
            "        None :     1 :    Any :    5 : {1, 2, 3, 4, 5}\n",
            "    x_index : Size=1, Index=None, Ordered=False\n",
            "        Key  : Dimen : Domain : Size : Members\n",
            "        None :     1 :    Any :    6 : {0, 1, 2, 3, 4, 5}\n",
            "\n",
            "1 Var Declarations\n",
            "    x : Size=6, Index=x_index\n",
            "        Key : Lower : Value : Upper : Fixed : Stale : Domain\n",
            "          0 :     0 :  None :   inf : False :  True :  Reals\n",
            "          1 :     0 :  None :   inf : False :  True :  Reals\n",
            "          2 :     0 :  None :   inf : False :  True :  Reals\n",
            "          3 :     0 :  None :   inf : False :  True :  Reals\n",
            "          4 :     0 :  None :   inf : False :  True :  Reals\n",
            "          5 :     0 :  None :   inf : False :  True :  Reals\n",
            "\n",
            "1 Objective Declarations\n",
            "    objective : Size=1, Index=None, Active=True\n",
            "        Key  : Active : Sense    : Expression\n",
            "        None :   True : minimize : 0.85*x[0] + 3.75*x[1] - 8.75*x[2] - 3.45*x[3] - 22.38*x[4] + 20.0*x[5]\n",
            "\n",
            "1 Constraint Declarations\n",
            "    constraints : Size=5, Index=constraints_index, Active=True\n",
            "        Key : Lower : Body                                              : Upper : Active\n",
            "          1 :  -Inf :                -0.7*x[0] - 3.9*x[1] - x[2] + x[4] :  14.9 :   True\n",
            "          2 :  -Inf :                                x[0] - x[3] - x[5] :   0.9 :   True\n",
            "          3 :  -Inf :                       -3.0*x[1] - 2.0*x[2] - x[5] : -51.7 :   True\n",
            "          4 :  -Inf :                   4.8*x[3] + 9.12*x[4] + 7.2*x[5] :  75.0 :   True\n",
            "          5 :  -Inf : -0.8*x[0] - 1.5*x[1] + 8.0*x[2] - 2.0*x[3] + x[4] : -27.0 :   True\n",
            "\n",
            "5 Declarations: x_index x constraints_index constraints objective\n"
          ]
        }
      ]
    },
    {
      "cell_type": "code",
      "metadata": {
        "colab": {
          "base_uri": "https://localhost:8080/"
        },
        "id": "tK77xc7GsvIY",
        "outputId": "d2d79429-3bec-4876-9d81-c4f1fd95f4b6"
      },
      "source": [
        "result = opt_cbc.solve(model_ex1)\n",
        "print(result)\n",
        "print('SolverStatus:', result.solver.status)\n",
        "print('Termination Condition:', result.solver.termination_condition)"
      ],
      "execution_count": null,
      "outputs": [
        {
          "output_type": "stream",
          "name": "stdout",
          "text": [
            "\n",
            "Problem: \n",
            "- Name: unknown\n",
            "  Lower bound: -97.02184211\n",
            "  Upper bound: -97.02184211\n",
            "  Number of objectives: 1\n",
            "  Number of constraints: 6\n",
            "  Number of variables: 7\n",
            "  Number of nonzeros: 6\n",
            "  Sense: minimize\n",
            "Solver: \n",
            "- Status: ok\n",
            "  User time: -1.0\n",
            "  System time: 0.0\n",
            "  Wallclock time: 0.0\n",
            "  Termination condition: optimal\n",
            "  Termination message: Model was solved to optimality (subject to tolerances), and an optimal solution is available.\n",
            "  Statistics: \n",
            "    Branch and bound: \n",
            "      Number of bounded subproblems: None\n",
            "      Number of created subproblems: None\n",
            "    Black box: \n",
            "      Number of iterations: 6\n",
            "  Error rc: 0\n",
            "  Time: 0.028368234634399414\n",
            "Solution: \n",
            "- number of solutions: 0\n",
            "  number of solutions displayed: 0\n",
            "\n",
            "SolverStatus: ok\n",
            "Termination Condition: optimal\n"
          ]
        }
      ]
    },
    {
      "cell_type": "code",
      "metadata": {
        "colab": {
          "base_uri": "https://localhost:8080/"
        },
        "id": "-SCfbsgWtD48",
        "outputId": "fed18944-cc33-4c46-a618-9d42ddd94d3f"
      },
      "source": [
        "# display results\n",
        "print('Objective Function:', model_ex1.objective())\n",
        "print('\\nDecision Variables: ')\n",
        "for j in column_indices:\n",
        "      print('x[',j,']= ', model_ex1.x[j].value)\n",
        "print('\\nConstraints:')\n",
        "model_ex1.constraints.display()      "
      ],
      "execution_count": null,
      "outputs": [
        {
          "output_type": "stream",
          "name": "stdout",
          "text": [
            "Objective Function: -97.02184239599997\n",
            "\n",
            "Decision Variables: \n",
            "x[ 0 ]=  0.9\n",
            "x[ 1 ]=  23.002456\n",
            "x[ 2 ]=  0.0\n",
            "x[ 3 ]=  0.0\n",
            "x[ 4 ]=  8.2236842\n",
            "x[ 5 ]=  0.0\n",
            "\n",
            "Constraints:\n",
            "constraints : Size=5\n",
            "    Key : Lower : Body                : Upper\n",
            "      1 :  None :         -82.1158942 :  14.9\n",
            "      2 :  None :                 0.9 :   0.9\n",
            "      3 :  None :          -69.007368 : -51.7\n",
            "      4 :  None :   74.99999990399999 :  75.0\n",
            "      5 :  None : -26.999999799999998 : -27.0\n"
          ]
        }
      ]
    },
    {
      "cell_type": "markdown",
      "metadata": {
        "id": "M5M3OrezXLZ-"
      },
      "source": [
        "Question 9"
      ]
    },
    {
      "cell_type": "markdown",
      "metadata": {
        "id": "9mwVC3CHXNTl"
      },
      "source": [
        "After the change in sense from maximize to minimize , we are now getting an optimal solution .The previous termination condition was due to wrong sense of the optimization problem . \\\\\n",
        "Objective Value = -97.02184 \\\\\n",
        "Optimal solution : x1=0.9 ; x2=23.0024,x3=0,x4=0,x5=8.2236842,x6=0 \\\\\n",
        "Constraint 2 ,4 and 5 (last 2 in approximate sense) are active since they exact (approximate) equality"
      ]
    }
  ]
}