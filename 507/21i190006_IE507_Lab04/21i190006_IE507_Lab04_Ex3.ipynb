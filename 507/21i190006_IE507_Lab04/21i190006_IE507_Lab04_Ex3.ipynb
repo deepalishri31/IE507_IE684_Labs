{
  "nbformat": 4,
  "nbformat_minor": 0,
  "metadata": {
    "colab": {
      "name": "21i190006_IE507_Lab04_Ex3.ipynb",
      "provenance": [],
      "collapsed_sections": []
    },
    "kernelspec": {
      "name": "python3",
      "display_name": "Python 3"
    },
    "language_info": {
      "name": "python"
    }
  },
  "cells": [
    {
      "cell_type": "markdown",
      "metadata": {
        "id": "HerX_QlNicqD"
      },
      "source": [
        "Exercise 3"
      ]
    },
    {
      "cell_type": "code",
      "metadata": {
        "id": "6eYyoFf5uhzZ"
      },
      "source": [
        "!pip install -q pyomo"
      ],
      "execution_count": null,
      "outputs": []
    },
    {
      "cell_type": "markdown",
      "metadata": {
        "id": "XDCVPZzHij2a"
      },
      "source": [
        "Question 4"
      ]
    },
    {
      "cell_type": "markdown",
      "metadata": {
        "id": "G_xH7bT71pea"
      },
      "source": [
        "Let xi's be the no. of Drones of model i ; i belongs to {1,2,3,4,5} \\\\\n",
        "let x1 is no. of drones of MANAS \\\\\n",
        "let x2 is no. of drones of JAY \\\\\n",
        "let x3 is no. of drones of VEER \\\\\n",
        "let x4 is no. of drones of SPASHT \\\\\n",
        "let x5 is no. of drones of DHAKSH \\\\\n",
        "To show : Maximize total carrying capacity for this \\\\\n",
        "$Maximize \\ \\  12x_1+14x_2+10x_3+15x_4+14x_5\\\\\n",
        "\\text{s.t.} \\ \\ \\ \\ \\ \\ \\ \\ \\ \\ \\ 6x_1+7.5x_2+9.5x_3+10x_4+12.5x_5 \\leq 59 \\\\\n",
        "\\ \\ \\ \\ \\ \\ 4.25x_1+3.25x_2+2.5x_3+3.45x_4+2.25x_5 \\leq 73 \\\\\n",
        "\\ \\ \\ \\ \\ \\ and\\ x_i's\\ will\\ be\\ non\\ negative\\ integers$"
      ]
    },
    {
      "cell_type": "code",
      "metadata": {
        "id": "jpEvBO-HuycU"
      },
      "source": [
        "from pyomo.environ import * \n",
        "import numpy as np\n",
        "import pandas as pd"
      ],
      "execution_count": null,
      "outputs": []
    },
    {
      "cell_type": "code",
      "metadata": {
        "id": "YaQaDA85vAhh"
      },
      "source": [
        "df = pd.read_csv('lab4_ex3.csv')"
      ],
      "execution_count": null,
      "outputs": []
    },
    {
      "cell_type": "code",
      "metadata": {
        "colab": {
          "base_uri": "https://localhost:8080/"
        },
        "id": "4fxUJteV2Kh9",
        "outputId": "a9259234-9eb0-45b1-c8cf-bd8c94549baf"
      },
      "source": [
        "df['Drone Model']"
      ],
      "execution_count": null,
      "outputs": [
        {
          "output_type": "execute_result",
          "data": {
            "text/plain": [
              "0     MANAS\n",
              "1       JAY\n",
              "2      VEER\n",
              "3    SPASHT\n",
              "4    DHAKSH\n",
              "Name: Drone Model, dtype: object"
            ]
          },
          "metadata": {},
          "execution_count": 25
        }
      ]
    },
    {
      "cell_type": "code",
      "metadata": {
        "colab": {
          "base_uri": "https://localhost:8080/"
        },
        "id": "aO871nCTvGnY",
        "outputId": "74714860-000a-4c20-8bff-8b1340c2093f"
      },
      "source": [
        "df.columns"
      ],
      "execution_count": null,
      "outputs": [
        {
          "output_type": "execute_result",
          "data": {
            "text/plain": [
              "Index(['Drone Model', 'Carrying Capacity', 'Cost', 'Parking space'], dtype='object')"
            ]
          },
          "metadata": {},
          "execution_count": 26
        }
      ]
    },
    {
      "cell_type": "code",
      "metadata": {
        "colab": {
          "base_uri": "https://localhost:8080/"
        },
        "id": "M_P86N7U2GlK",
        "outputId": "81367312-4440-466a-9865-1d6d94c296ee"
      },
      "source": [
        "len(df.index)"
      ],
      "execution_count": null,
      "outputs": [
        {
          "output_type": "execute_result",
          "data": {
            "text/plain": [
              "5"
            ]
          },
          "metadata": {},
          "execution_count": 27
        }
      ]
    },
    {
      "cell_type": "code",
      "metadata": {
        "colab": {
          "base_uri": "https://localhost:8080/"
        },
        "id": "UX1iN_sKvqGQ",
        "outputId": "c1122890-2ce2-45a0-8e24-67eb7c9366f5"
      },
      "source": [
        "df.index"
      ],
      "execution_count": null,
      "outputs": [
        {
          "output_type": "execute_result",
          "data": {
            "text/plain": [
              "RangeIndex(start=0, stop=5, step=1)"
            ]
          },
          "metadata": {},
          "execution_count": 28
        }
      ]
    },
    {
      "cell_type": "markdown",
      "metadata": {
        "id": "YinGldqyjKl3"
      },
      "source": [
        "Question 5"
      ]
    },
    {
      "cell_type": "code",
      "metadata": {
        "id": "FWj9Y3uwv9Iw"
      },
      "source": [
        "#creating a model\n",
        "model= ConcreteModel()"
      ],
      "execution_count": null,
      "outputs": []
    },
    {
      "cell_type": "code",
      "metadata": {
        "id": "-Pcj_UIcjRaZ"
      },
      "source": [
        "#no of constraints\n",
        "M = 2 "
      ],
      "execution_count": null,
      "outputs": []
    },
    {
      "cell_type": "code",
      "metadata": {
        "id": "ESoMNIiNwDSw"
      },
      "source": [
        "\n",
        "#no. of variables\n",
        "N = len(df.index) "
      ],
      "execution_count": null,
      "outputs": []
    },
    {
      "cell_type": "code",
      "metadata": {
        "id": "XL_enMYjwhpS"
      },
      "source": [
        "column_indices = range(N)"
      ],
      "execution_count": null,
      "outputs": []
    },
    {
      "cell_type": "code",
      "metadata": {
        "id": "VbuulU7Mw877"
      },
      "source": [
        "#objection function\n",
        "model.x = Var(column_indices,domain=NonNegativeIntegers)\n",
        "model.objective = Objective(expr=summation(df['Carrying Capacity'], model.x),sense=maximize)"
      ],
      "execution_count": null,
      "outputs": []
    },
    {
      "cell_type": "code",
      "metadata": {
        "id": "U7-yDfVIwn2m"
      },
      "source": [
        "#decision variables declaration in the model\n",
        "model.x = Var(column_indices,domain=NonNegativeIntegers)"
      ],
      "execution_count": null,
      "outputs": []
    },
    {
      "cell_type": "code",
      "metadata": {
        "id": "J82lROAyxSeC"
      },
      "source": [
        "model.constraints = ConstraintList()"
      ],
      "execution_count": null,
      "outputs": []
    },
    {
      "cell_type": "code",
      "metadata": {
        "colab": {
          "base_uri": "https://localhost:8080/"
        },
        "id": "JAAtLgMbxdqh",
        "outputId": "fa05a8e9-b8fe-4d71-c301-a08cb856c5f6"
      },
      "source": [
        "#adding the cost constraint using the data obtained from the csv file\n",
        "model.constraints.add(summation(df['Cost'], model.x) <= 59)"
      ],
      "execution_count": null,
      "outputs": [
        {
          "output_type": "execute_result",
          "data": {
            "text/plain": [
              "<pyomo.core.base.constraint._GeneralConstraintData at 0x7fcb46b49d00>"
            ]
          },
          "metadata": {},
          "execution_count": 36
        }
      ]
    },
    {
      "cell_type": "code",
      "metadata": {
        "colab": {
          "base_uri": "https://localhost:8080/"
        },
        "id": "uzUNkUZpx0TR",
        "outputId": "bc05a661-843d-461d-99bb-2c6d6b4c7557"
      },
      "source": [
        "#adding the parking space constraint using the data obtained from the csv file\n",
        "model.constraints.add(summation(df['Parking space'], model.x) <= 73)"
      ],
      "execution_count": null,
      "outputs": [
        {
          "output_type": "execute_result",
          "data": {
            "text/plain": [
              "<pyomo.core.base.constraint._GeneralConstraintData at 0x7fcb46b49d70>"
            ]
          },
          "metadata": {},
          "execution_count": 37
        }
      ]
    },
    {
      "cell_type": "code",
      "metadata": {
        "colab": {
          "base_uri": "https://localhost:8080/"
        },
        "id": "aSQJK5vlyEwU",
        "outputId": "e8b278b4-a3b4-4a48-add6-b1af4839322d"
      },
      "source": [
        "model.pprint()"
      ],
      "execution_count": null,
      "outputs": [
        {
          "output_type": "stream",
          "name": "stdout",
          "text": [
            "2 Set Declarations\n",
            "    constraints_index : Size=1, Index=None, Ordered=Insertion\n",
            "        Key  : Dimen : Domain : Size : Members\n",
            "        None :     1 :    Any :    2 : {1, 2}\n",
            "    x_index : Size=1, Index=None, Ordered=False\n",
            "        Key  : Dimen : Domain : Size : Members\n",
            "        None :     1 :    Any :    5 : {0, 1, 2, 3, 4}\n",
            "\n",
            "1 Var Declarations\n",
            "    x : Size=5, Index=x_index\n",
            "        Key : Lower : Value : Upper : Fixed : Stale : Domain\n",
            "          0 :     0 :  None :  None : False :  True : NonNegativeIntegers\n",
            "          1 :     0 :  None :  None : False :  True : NonNegativeIntegers\n",
            "          2 :     0 :  None :  None : False :  True : NonNegativeIntegers\n",
            "          3 :     0 :  None :  None : False :  True : NonNegativeIntegers\n",
            "          4 :     0 :  None :  None : False :  True : NonNegativeIntegers\n",
            "\n",
            "1 Objective Declarations\n",
            "    objective : Size=1, Index=None, Active=True\n",
            "        Key  : Active : Sense    : Expression\n",
            "        None :   True : maximize : 12*x[0] + 14*x[1] + 10*x[2] + 15*x[3] + 14*x[4]\n",
            "\n",
            "1 Constraint Declarations\n",
            "    constraints : Size=2, Index=constraints_index, Active=True\n",
            "        Key : Lower : Body                                                     : Upper : Active\n",
            "          1 :  -Inf :   6.0*x[0] + 7.5*x[1] + 9.5*x[2] + 10.0*x[3] + 12.5*x[4] :  59.0 :   True\n",
            "          2 :  -Inf : 4.25*x[0] + 3.25*x[1] + 2.5*x[2] + 3.45*x[3] + 2.25*x[4] :  73.0 :   True\n",
            "\n",
            "5 Declarations: x_index x objective constraints_index constraints\n"
          ]
        }
      ]
    },
    {
      "cell_type": "code",
      "metadata": {
        "id": "IpqnTMS_ye21",
        "colab": {
          "base_uri": "https://localhost:8080/"
        },
        "outputId": "e0e26dd0-3e38-43da-c790-1232ef5e1857"
      },
      "source": [
        "!apt-get install -y -qq coinor-cbc"
      ],
      "execution_count": null,
      "outputs": [
        {
          "output_type": "stream",
          "name": "stdout",
          "text": [
            "Selecting previously unselected package coinor-libcoinutils3v5.\n",
            "(Reading database ... 155047 files and directories currently installed.)\n",
            "Preparing to unpack .../0-coinor-libcoinutils3v5_2.10.14+repack1-1_amd64.deb ...\n",
            "Unpacking coinor-libcoinutils3v5 (2.10.14+repack1-1) ...\n",
            "Selecting previously unselected package coinor-libosi1v5.\n",
            "Preparing to unpack .../1-coinor-libosi1v5_0.107.9+repack1-1_amd64.deb ...\n",
            "Unpacking coinor-libosi1v5 (0.107.9+repack1-1) ...\n",
            "Selecting previously unselected package coinor-libclp1.\n",
            "Preparing to unpack .../2-coinor-libclp1_1.16.11+repack1-1_amd64.deb ...\n",
            "Unpacking coinor-libclp1 (1.16.11+repack1-1) ...\n",
            "Selecting previously unselected package coinor-libcgl1.\n",
            "Preparing to unpack .../3-coinor-libcgl1_0.59.10+repack1-1_amd64.deb ...\n",
            "Unpacking coinor-libcgl1 (0.59.10+repack1-1) ...\n",
            "Selecting previously unselected package coinor-libcbc3.\n",
            "Preparing to unpack .../4-coinor-libcbc3_2.9.9+repack1-1_amd64.deb ...\n",
            "Unpacking coinor-libcbc3 (2.9.9+repack1-1) ...\n",
            "Selecting previously unselected package coinor-cbc.\n",
            "Preparing to unpack .../5-coinor-cbc_2.9.9+repack1-1_amd64.deb ...\n",
            "Unpacking coinor-cbc (2.9.9+repack1-1) ...\n",
            "Setting up coinor-libcoinutils3v5 (2.10.14+repack1-1) ...\n",
            "Setting up coinor-libosi1v5 (0.107.9+repack1-1) ...\n",
            "Setting up coinor-libclp1 (1.16.11+repack1-1) ...\n",
            "Setting up coinor-libcgl1 (0.59.10+repack1-1) ...\n",
            "Setting up coinor-libcbc3 (2.9.9+repack1-1) ...\n",
            "Setting up coinor-cbc (2.9.9+repack1-1) ...\n",
            "Processing triggers for man-db (2.8.3-2ubuntu0.1) ...\n",
            "Processing triggers for libc-bin (2.27-3ubuntu1.3) ...\n",
            "/sbin/ldconfig.real: /usr/local/lib/python3.7/dist-packages/ideep4py/lib/libmkldnn.so.0 is not a symbolic link\n",
            "\n"
          ]
        }
      ]
    },
    {
      "cell_type": "code",
      "metadata": {
        "colab": {
          "base_uri": "https://localhost:8080/"
        },
        "id": "yrAAuEltyiDB",
        "outputId": "082a8652-39d2-44c5-9666-e83373102199"
      },
      "source": [
        "opt_cbc = SolverFactory('cbc')\n",
        "result = opt_cbc.solve(model)\n",
        "print('Solver status:', result.solver.status)\n",
        "print('Solver termination condition:',result.solver.termination_condition)"
      ],
      "execution_count": null,
      "outputs": [
        {
          "output_type": "stream",
          "name": "stdout",
          "text": [
            "Solver status: ok\n",
            "Solver termination condition: optimal\n"
          ]
        }
      ]
    },
    {
      "cell_type": "markdown",
      "metadata": {
        "id": "vhAKSu6Sj00Z"
      },
      "source": [
        "Question 6"
      ]
    },
    {
      "cell_type": "markdown",
      "metadata": {
        "id": "16iHsF3zj3gK"
      },
      "source": [
        "Optimal Function value and solution"
      ]
    },
    {
      "cell_type": "code",
      "metadata": {
        "colab": {
          "base_uri": "https://localhost:8080/"
        },
        "id": "_NhK9oRu2nGL",
        "outputId": "40134dd0-239a-4224-e8e9-b39abf9f7276"
      },
      "source": [
        "# display solution\n",
        "print('Objective = ', model.objective())"
      ],
      "execution_count": null,
      "outputs": [
        {
          "output_type": "stream",
          "name": "stdout",
          "text": [
            "Objective =  114.0\n"
          ]
        }
      ]
    },
    {
      "cell_type": "code",
      "metadata": {
        "colab": {
          "base_uri": "https://localhost:8080/"
        },
        "id": "s48sT-lky6mT",
        "outputId": "1bfb91ca-453b-4bf8-af0f-8443c2dd08ef"
      },
      "source": [
        "#Printing Decision variables\n",
        "print('Decision Variables')\n",
        "for i in column_indices:\n",
        "  print(df['Drone Model'][i],'=', model.x[i].value)"
      ],
      "execution_count": null,
      "outputs": [
        {
          "output_type": "stream",
          "name": "stdout",
          "text": [
            "Decision Variables\n",
            "MANAS = 6.0\n",
            "JAY = 3.0\n",
            "VEER = 0.0\n",
            "SPASHT = 0.0\n",
            "DHAKSH = 0.0\n"
          ]
        }
      ]
    },
    {
      "cell_type": "code",
      "metadata": {
        "colab": {
          "base_uri": "https://localhost:8080/"
        },
        "id": "ICZj_F2-2yVE",
        "outputId": "7dab4be1-f39d-4a94-e326-89fe508d9181"
      },
      "source": [
        "#Printing details of constraint\n",
        "print('Constraints')\n",
        "model.constraints.display()"
      ],
      "execution_count": null,
      "outputs": [
        {
          "output_type": "stream",
          "name": "stdout",
          "text": [
            "Constraints\n",
            "constraints : Size=2\n",
            "    Key : Lower : Body  : Upper\n",
            "      1 :  None :  58.5 :  59.0\n",
            "      2 :  None : 35.25 :  73.0\n"
          ]
        }
      ]
    },
    {
      "cell_type": "code",
      "metadata": {
        "id": "yt1hu6ElzOas",
        "colab": {
          "base_uri": "https://localhost:8080/"
        },
        "outputId": "e0c47993-f05d-4c2e-b579-93e6f72c833b"
      },
      "source": [
        "for i in column_indices:\n",
        "  model.x[i].domain=NonNegativeReals\n",
        "model.pprint()"
      ],
      "execution_count": null,
      "outputs": [
        {
          "output_type": "stream",
          "name": "stdout",
          "text": [
            "2 Set Declarations\n",
            "    constraints_index : Size=1, Index=None, Ordered=Insertion\n",
            "        Key  : Dimen : Domain : Size : Members\n",
            "        None :     1 :    Any :    2 : {1, 2}\n",
            "    x_index : Size=1, Index=None, Ordered=False\n",
            "        Key  : Dimen : Domain : Size : Members\n",
            "        None :     1 :    Any :    5 : {0, 1, 2, 3, 4}\n",
            "\n",
            "1 Var Declarations\n",
            "    x : Size=5, Index=x_index\n",
            "        Key : Lower : Value : Upper : Fixed : Stale : Domain\n",
            "          0 :     0 :   6.0 :  None : False : False : NonNegativeReals\n",
            "          1 :     0 :   3.0 :  None : False : False : NonNegativeReals\n",
            "          2 :     0 :   0.0 :  None : False : False : NonNegativeReals\n",
            "          3 :     0 :   0.0 :  None : False : False : NonNegativeReals\n",
            "          4 :     0 :   0.0 :  None : False : False : NonNegativeReals\n",
            "\n",
            "1 Objective Declarations\n",
            "    objective : Size=1, Index=None, Active=True\n",
            "        Key  : Active : Sense    : Expression\n",
            "        None :   True : maximize : 12*x[0] + 14*x[1] + 10*x[2] + 15*x[3] + 14*x[4]\n",
            "\n",
            "1 Constraint Declarations\n",
            "    constraints : Size=2, Index=constraints_index, Active=True\n",
            "        Key : Lower : Body                                                     : Upper : Active\n",
            "          1 :  -Inf :   6.0*x[0] + 7.5*x[1] + 9.5*x[2] + 10.0*x[3] + 12.5*x[4] :  59.0 :   True\n",
            "          2 :  -Inf : 4.25*x[0] + 3.25*x[1] + 2.5*x[2] + 3.45*x[3] + 2.25*x[4] :  73.0 :   True\n",
            "\n",
            "5 Declarations: x_index x objective constraints_index constraints\n"
          ]
        }
      ]
    },
    {
      "cell_type": "code",
      "metadata": {
        "colab": {
          "base_uri": "https://localhost:8080/"
        },
        "id": "am_u14Xdz7Zy",
        "outputId": "25112137-d620-48eb-9e93-4bc389d80357"
      },
      "source": [
        "result_1 = opt_cbc.solve(model)\n",
        "print('The Solver status:', result_1.solver.status)\n",
        "print('TheSolver termination condition:',result_1.solver.termination_condition)"
      ],
      "execution_count": null,
      "outputs": [
        {
          "output_type": "stream",
          "name": "stdout",
          "text": [
            "The Solver status: ok\n",
            "TheSolver termination condition: optimal\n"
          ]
        }
      ]
    },
    {
      "cell_type": "markdown",
      "metadata": {
        "id": "oK3kwwickQOo"
      },
      "source": [
        "Question 7."
      ]
    },
    {
      "cell_type": "code",
      "metadata": {
        "colab": {
          "base_uri": "https://localhost:8080/"
        },
        "id": "5I8lXIeU41fL",
        "outputId": "d34d4fa4-cc8a-4239-d506-51f928d6c6d2"
      },
      "source": [
        "# display solution\n",
        "print('Objective = ', model.objective())"
      ],
      "execution_count": null,
      "outputs": [
        {
          "output_type": "stream",
          "name": "stdout",
          "text": [
            "Objective =  117.9999996\n"
          ]
        }
      ]
    },
    {
      "cell_type": "code",
      "metadata": {
        "colab": {
          "base_uri": "https://localhost:8080/"
        },
        "id": "6N66fmo-0F56",
        "outputId": "2fef242d-82db-425e-cdfd-e3e476f0e6f8"
      },
      "source": [
        "#Printing decision variables details\n",
        "print('Decision Variables')\n",
        "for i in column_indices:\n",
        "  print(df['Drone Model'][i],'=', model.x[i].value)"
      ],
      "execution_count": null,
      "outputs": [
        {
          "output_type": "stream",
          "name": "stdout",
          "text": [
            "Decision Variables\n",
            "MANAS = 9.8333333\n",
            "JAY = 0.0\n",
            "VEER = 0.0\n",
            "SPASHT = 0.0\n",
            "DHAKSH = 0.0\n"
          ]
        }
      ]
    },
    {
      "cell_type": "code",
      "metadata": {
        "colab": {
          "base_uri": "https://localhost:8080/"
        },
        "id": "EeD0U0kS5AhM",
        "outputId": "cbba5ed1-bc89-4eb5-eca3-4ef90aad0c34"
      },
      "source": [
        "print('Constraints ')\n",
        "model.constraints.display()"
      ],
      "execution_count": null,
      "outputs": [
        {
          "output_type": "stream",
          "name": "stdout",
          "text": [
            "Constraints \n",
            "constraints : Size=2\n",
            "    Key : Lower : Body         : Upper\n",
            "      1 :  None :   58.9999998 :  59.0\n",
            "      2 :  None : 41.791666525 :  73.0\n"
          ]
        }
      ]
    },
    {
      "cell_type": "markdown",
      "metadata": {
        "id": "CKu02Smq5OPA"
      },
      "source": [
        "Question 8."
      ]
    },
    {
      "cell_type": "markdown",
      "metadata": {
        "id": "kFm10aum5SNl"
      },
      "source": [
        "NO \\\\\n",
        "The solution of MILP can't be obtained by merely rounding of the solution of LP. \\\\\n",
        "Reason: Because the LP will try to assign max possible value to those model which has highest capacity to cost ratio and all other 0."
      ]
    },
    {
      "cell_type": "code",
      "metadata": {
        "colab": {
          "base_uri": "https://localhost:8080/"
        },
        "id": "8RtXFeUB6CDA",
        "outputId": "4b37601e-343f-4d36-d085-8f19b5545e2f"
      },
      "source": [
        "model.constraints.add(summation(df['Parking space'], model.x) <= 87)"
      ],
      "execution_count": null,
      "outputs": [
        {
          "output_type": "execute_result",
          "data": {
            "text/plain": [
              "<pyomo.core.base.constraint._GeneralConstraintData at 0x7fcb46b79670>"
            ]
          },
          "metadata": {},
          "execution_count": 53
        }
      ]
    },
    {
      "cell_type": "code",
      "metadata": {
        "colab": {
          "base_uri": "https://localhost:8080/"
        },
        "id": "HHy1kfDvR80C",
        "outputId": "8a6def5a-8cdf-430c-ce73-9406a1189861"
      },
      "source": [
        "model.constraints.add(summation(df['Cost'], model.x) <= 71)"
      ],
      "execution_count": null,
      "outputs": [
        {
          "output_type": "execute_result",
          "data": {
            "text/plain": [
              "<pyomo.core.base.constraint._GeneralConstraintData at 0x7fcb46ade3d0>"
            ]
          },
          "metadata": {},
          "execution_count": 54
        }
      ]
    },
    {
      "cell_type": "code",
      "metadata": {
        "id": "vvIaGr0V0KEf"
      },
      "source": [
        "model.constraints[1].deactivate()"
      ],
      "execution_count": null,
      "outputs": []
    },
    {
      "cell_type": "code",
      "metadata": {
        "id": "ZZCgFL4d6Fjy"
      },
      "source": [
        "model.constraints[2].deactivate()"
      ],
      "execution_count": null,
      "outputs": []
    },
    {
      "cell_type": "code",
      "metadata": {
        "colab": {
          "base_uri": "https://localhost:8080/"
        },
        "id": "VnLmF7GPSMXn",
        "outputId": "9e366936-f09e-4c63-a18d-4f329a025a00"
      },
      "source": [
        "model.pprint()"
      ],
      "execution_count": null,
      "outputs": [
        {
          "output_type": "stream",
          "name": "stdout",
          "text": [
            "2 Set Declarations\n",
            "    constraints_index : Size=1, Index=None, Ordered=Insertion\n",
            "        Key  : Dimen : Domain : Size : Members\n",
            "        None :     1 :    Any :    6 : {1, 2, 3, 4, 5, 6}\n",
            "    x_index : Size=1, Index=None, Ordered=False\n",
            "        Key  : Dimen : Domain : Size : Members\n",
            "        None :     1 :    Any :    5 : {0, 1, 2, 3, 4}\n",
            "\n",
            "1 Var Declarations\n",
            "    x : Size=5, Index=x_index\n",
            "        Key : Lower : Value     : Upper : Fixed : Stale : Domain\n",
            "          0 :     0 : 9.8333333 :  None : False : False : NonNegativeReals\n",
            "          1 :     0 :       0.0 :  None : False : False : NonNegativeReals\n",
            "          2 :     0 :       0.0 :  None : False : False : NonNegativeReals\n",
            "          3 :     0 :       0.0 :  None : False : False : NonNegativeReals\n",
            "          4 :     0 :       0.0 :  None : False : False : NonNegativeReals\n",
            "\n",
            "1 Objective Declarations\n",
            "    objective : Size=1, Index=None, Active=True\n",
            "        Key  : Active : Sense    : Expression\n",
            "        None :   True : maximize : 12*x[0] + 14*x[1] + 10*x[2] + 15*x[3] + 14*x[4]\n",
            "\n",
            "1 Constraint Declarations\n",
            "    constraints : Size=6, Index=constraints_index, Active=True\n",
            "        Key : Lower : Body                                                     : Upper : Active\n",
            "          1 :  -Inf :   6.0*x[0] + 7.5*x[1] + 9.5*x[2] + 10.0*x[3] + 12.5*x[4] :  59.0 :  False\n",
            "          2 :  -Inf : 4.25*x[0] + 3.25*x[1] + 2.5*x[2] + 3.45*x[3] + 2.25*x[4] :  73.0 :  False\n",
            "          3 :  -Inf :   6.0*x[0] + 7.5*x[1] + 9.5*x[2] + 10.0*x[3] + 12.5*x[4] :  71.0 :   True\n",
            "          4 :  -Inf : 4.25*x[0] + 3.25*x[1] + 2.5*x[2] + 3.45*x[3] + 2.25*x[4] :  87.0 :   True\n",
            "          5 :  -Inf : 4.25*x[0] + 3.25*x[1] + 2.5*x[2] + 3.45*x[3] + 2.25*x[4] :  87.0 :   True\n",
            "          6 :  -Inf :   6.0*x[0] + 7.5*x[1] + 9.5*x[2] + 10.0*x[3] + 12.5*x[4] :  71.0 :   True\n",
            "\n",
            "5 Declarations: x_index x objective constraints_index constraints\n"
          ]
        }
      ]
    },
    {
      "cell_type": "markdown",
      "metadata": {
        "id": "Xb2KSh_y6Lf4"
      },
      "source": [
        "Question 9 "
      ]
    },
    {
      "cell_type": "markdown",
      "metadata": {
        "id": "OW9n0ktZ6Mya"
      },
      "source": [
        "Solve LP"
      ]
    },
    {
      "cell_type": "code",
      "metadata": {
        "colab": {
          "base_uri": "https://localhost:8080/"
        },
        "id": "Wn8qZWQbSm2L",
        "outputId": "79ff5a03-3622-4fa8-f1d7-6fbc438466b1"
      },
      "source": [
        "result_2 = opt_cbc.solve(model)\n",
        "print('Solver status:', result_2.solver.status)\n",
        "print('Solver termination condition:',result_2.solver.termination_condition)"
      ],
      "execution_count": null,
      "outputs": [
        {
          "output_type": "stream",
          "name": "stdout",
          "text": [
            "Solver status: ok\n",
            "Solver termination condition: optimal\n"
          ]
        }
      ]
    },
    {
      "cell_type": "code",
      "metadata": {
        "colab": {
          "base_uri": "https://localhost:8080/"
        },
        "id": "sHIuPI2d6WWs",
        "outputId": "02724893-d673-414b-e15a-0c7f69f2ab33"
      },
      "source": [
        "# display solution\n",
        "print('Objective = ', model.objective())"
      ],
      "execution_count": null,
      "outputs": [
        {
          "output_type": "stream",
          "name": "stdout",
          "text": [
            "Objective =  141.999996\n"
          ]
        }
      ]
    },
    {
      "cell_type": "code",
      "metadata": {
        "colab": {
          "base_uri": "https://localhost:8080/"
        },
        "id": "DgQfiO3T6c0x",
        "outputId": "a1538b9b-6ed5-4eee-8f82-5a12cebf85e9"
      },
      "source": [
        "print('Decision Variables')\n",
        "for i in column_indices:\n",
        "  print(df['Drone Model'][i],'=', model.x[i].value)"
      ],
      "execution_count": null,
      "outputs": [
        {
          "output_type": "stream",
          "name": "stdout",
          "text": [
            "Decision Variables\n",
            "MANAS = 11.833333\n",
            "JAY = 0.0\n",
            "VEER = 0.0\n",
            "SPASHT = 0.0\n",
            "DHAKSH = 0.0\n"
          ]
        }
      ]
    },
    {
      "cell_type": "code",
      "metadata": {
        "colab": {
          "base_uri": "https://localhost:8080/"
        },
        "id": "24ZKg9RkS887",
        "outputId": "2be7c59e-183b-435e-d7b6-26f068cf16c8"
      },
      "source": [
        "print('Constraints')\n",
        "model.constraints.display()"
      ],
      "execution_count": null,
      "outputs": [
        {
          "output_type": "stream",
          "name": "stdout",
          "text": [
            "Constraints\n",
            "constraints : Size=6\n",
            "    Key : Lower : Body        : Upper\n",
            "      3 :  None :   70.999998 :  71.0\n",
            "      4 :  None : 50.29166525 :  87.0\n",
            "      5 :  None : 50.29166525 :  87.0\n",
            "      6 :  None :   70.999998 :  71.0\n"
          ]
        }
      ]
    },
    {
      "cell_type": "markdown",
      "metadata": {
        "id": "-k-1jq8o6v2l"
      },
      "source": [
        "New LP's optimal value has increased \\\\\n",
        "Number of Drones of model has increased which was 0 in previous LP"
      ]
    },
    {
      "cell_type": "markdown",
      "metadata": {
        "id": "7LHQvsnf7Dt0"
      },
      "source": [
        "Solve MILP"
      ]
    },
    {
      "cell_type": "code",
      "metadata": {
        "id": "M6bL5bftS9fL",
        "colab": {
          "base_uri": "https://localhost:8080/"
        },
        "outputId": "df7378c6-651d-42eb-b55f-19b1f22fb878"
      },
      "source": [
        "for i in column_indices:\n",
        "  model.x[i].domain=NonNegativeIntegers\n",
        "model.pprint()"
      ],
      "execution_count": null,
      "outputs": [
        {
          "output_type": "stream",
          "name": "stdout",
          "text": [
            "2 Set Declarations\n",
            "    constraints_index : Size=1, Index=None, Ordered=Insertion\n",
            "        Key  : Dimen : Domain : Size : Members\n",
            "        None :     1 :    Any :    6 : {1, 2, 3, 4, 5, 6}\n",
            "    x_index : Size=1, Index=None, Ordered=False\n",
            "        Key  : Dimen : Domain : Size : Members\n",
            "        None :     1 :    Any :    5 : {0, 1, 2, 3, 4}\n",
            "\n",
            "1 Var Declarations\n",
            "    x : Size=5, Index=x_index\n",
            "        Key : Lower : Value     : Upper : Fixed : Stale : Domain\n",
            "          0 :     0 : 11.833333 :  None : False : False : NonNegativeIntegers\n",
            "          1 :     0 :       0.0 :  None : False : False : NonNegativeIntegers\n",
            "          2 :     0 :       0.0 :  None : False : False : NonNegativeIntegers\n",
            "          3 :     0 :       0.0 :  None : False : False : NonNegativeIntegers\n",
            "          4 :     0 :       0.0 :  None : False : False : NonNegativeIntegers\n",
            "\n",
            "1 Objective Declarations\n",
            "    objective : Size=1, Index=None, Active=True\n",
            "        Key  : Active : Sense    : Expression\n",
            "        None :   True : maximize : 12*x[0] + 14*x[1] + 10*x[2] + 15*x[3] + 14*x[4]\n",
            "\n",
            "1 Constraint Declarations\n",
            "    constraints : Size=6, Index=constraints_index, Active=True\n",
            "        Key : Lower : Body                                                     : Upper : Active\n",
            "          1 :  -Inf :   6.0*x[0] + 7.5*x[1] + 9.5*x[2] + 10.0*x[3] + 12.5*x[4] :  59.0 :  False\n",
            "          2 :  -Inf : 4.25*x[0] + 3.25*x[1] + 2.5*x[2] + 3.45*x[3] + 2.25*x[4] :  73.0 :  False\n",
            "          3 :  -Inf :   6.0*x[0] + 7.5*x[1] + 9.5*x[2] + 10.0*x[3] + 12.5*x[4] :  71.0 :   True\n",
            "          4 :  -Inf : 4.25*x[0] + 3.25*x[1] + 2.5*x[2] + 3.45*x[3] + 2.25*x[4] :  87.0 :   True\n",
            "          5 :  -Inf : 4.25*x[0] + 3.25*x[1] + 2.5*x[2] + 3.45*x[3] + 2.25*x[4] :  87.0 :   True\n",
            "          6 :  -Inf :   6.0*x[0] + 7.5*x[1] + 9.5*x[2] + 10.0*x[3] + 12.5*x[4] :  71.0 :   True\n",
            "\n",
            "5 Declarations: x_index x objective constraints_index constraints\n"
          ]
        }
      ]
    },
    {
      "cell_type": "code",
      "metadata": {
        "colab": {
          "base_uri": "https://localhost:8080/"
        },
        "id": "ZyDQPV1ZUGvc",
        "outputId": "ac845619-5136-4be8-96e5-89e7833b44a6"
      },
      "source": [
        "result_3 = opt_cbc.solve(model)\n",
        "print('Solver status:', result_3.solver.status)\n",
        "print('Solver termination condition:',result_3.solver.termination_condition)"
      ],
      "execution_count": null,
      "outputs": [
        {
          "output_type": "stream",
          "name": "stdout",
          "text": [
            "Solver status: ok\n",
            "Solver termination condition: optimal\n"
          ]
        }
      ]
    },
    {
      "cell_type": "code",
      "metadata": {
        "colab": {
          "base_uri": "https://localhost:8080/"
        },
        "id": "GDLeCKBX7YU_",
        "outputId": "fe66d472-cc44-43d6-ca4b-8317169d29dc"
      },
      "source": [
        "# display solution\n",
        "print('Objective = ', model.objective())"
      ],
      "execution_count": null,
      "outputs": [
        {
          "output_type": "stream",
          "name": "stdout",
          "text": [
            "Objective =  138.0\n"
          ]
        }
      ]
    },
    {
      "cell_type": "code",
      "metadata": {
        "colab": {
          "base_uri": "https://localhost:8080/"
        },
        "id": "ZuaR31UQ7aOd",
        "outputId": "5c4e703c-180e-468e-bb10-b12b21ad37b9"
      },
      "source": [
        "print('Decision Variables')\n",
        "for i in column_indices:\n",
        "  print(df['Drone Model'][i],'=', model.x[i].value)"
      ],
      "execution_count": null,
      "outputs": [
        {
          "output_type": "stream",
          "name": "stdout",
          "text": [
            "Decision Variables\n",
            "MANAS = 8.0\n",
            "JAY = 3.0\n",
            "VEER = 0.0\n",
            "SPASHT = 0.0\n",
            "DHAKSH = 0.0\n"
          ]
        }
      ]
    },
    {
      "cell_type": "code",
      "metadata": {
        "colab": {
          "base_uri": "https://localhost:8080/"
        },
        "id": "R9vQbzDlTSwD",
        "outputId": "844d2046-3719-4ae4-fb41-71120dfeaa42"
      },
      "source": [
        "print('Constraints')\n",
        "model.constraints.display()"
      ],
      "execution_count": null,
      "outputs": [
        {
          "output_type": "stream",
          "name": "stdout",
          "text": [
            "Constraints\n",
            "constraints : Size=6\n",
            "    Key : Lower : Body  : Upper\n",
            "      3 :  None :  70.5 :  71.0\n",
            "      4 :  None : 43.75 :  87.0\n",
            "      5 :  None : 43.75 :  87.0\n",
            "      6 :  None :  70.5 :  71.0\n"
          ]
        }
      ]
    },
    {
      "cell_type": "markdown",
      "metadata": {
        "id": "JQuAKD3A7o5H"
      },
      "source": [
        "The optimal objective function value has increased \\\\\n",
        "Number of drones of MANAS has increased"
      ]
    },
    {
      "cell_type": "markdown",
      "metadata": {
        "id": "kc2lDQfj78Ea"
      },
      "source": [
        "Question 10"
      ]
    },
    {
      "cell_type": "markdown",
      "metadata": {
        "id": "yRaj0dJh7-aG"
      },
      "source": [
        "Let the budget be 67 units and parking space be 88 units"
      ]
    },
    {
      "cell_type": "code",
      "metadata": {
        "id": "Scod7XZmTXkl"
      },
      "source": [
        "model.constraints[3].deactivate()"
      ],
      "execution_count": null,
      "outputs": []
    },
    {
      "cell_type": "code",
      "metadata": {
        "id": "SUGoPn4p8Iwm"
      },
      "source": [
        "model.constraints[4].deactivate()"
      ],
      "execution_count": null,
      "outputs": []
    },
    {
      "cell_type": "markdown",
      "metadata": {
        "id": "J_Zkce-tWVQ7"
      },
      "source": [
        "Solve MILP"
      ]
    },
    {
      "cell_type": "code",
      "metadata": {
        "colab": {
          "base_uri": "https://localhost:8080/"
        },
        "id": "UNU1yML08VGm",
        "outputId": "4ab3ad9b-a6c5-49fd-e175-771f194b1b58"
      },
      "source": [
        "model.constraints.add(summation(df['Cost'], model.x) <= 67)"
      ],
      "execution_count": null,
      "outputs": [
        {
          "output_type": "execute_result",
          "data": {
            "text/plain": [
              "<pyomo.core.base.constraint._GeneralConstraintData at 0x7fcb46a96910>"
            ]
          },
          "metadata": {},
          "execution_count": 74
        }
      ]
    },
    {
      "cell_type": "code",
      "metadata": {
        "colab": {
          "base_uri": "https://localhost:8080/"
        },
        "id": "x3mLOvsB8WYf",
        "outputId": "8bdd0fd9-5e74-4cb4-ca2f-8bd8c70ea280"
      },
      "source": [
        "model.constraints.add(summation(df['Parking space'], model.x) <= 88)"
      ],
      "execution_count": null,
      "outputs": [
        {
          "output_type": "execute_result",
          "data": {
            "text/plain": [
              "<pyomo.core.base.constraint._GeneralConstraintData at 0x7fcb46a968a0>"
            ]
          },
          "metadata": {},
          "execution_count": 75
        }
      ]
    },
    {
      "cell_type": "code",
      "metadata": {
        "colab": {
          "base_uri": "https://localhost:8080/"
        },
        "id": "utrWAFnpVpsP",
        "outputId": "04937866-af96-4b2f-8ace-1199d941c595"
      },
      "source": [
        "model.pprint()"
      ],
      "execution_count": null,
      "outputs": [
        {
          "output_type": "stream",
          "name": "stdout",
          "text": [
            "2 Set Declarations\n",
            "    constraints_index : Size=1, Index=None, Ordered=Insertion\n",
            "        Key  : Dimen : Domain : Size : Members\n",
            "        None :     1 :    Any :    8 : {1, 2, 3, 4, 5, 6, 7, 8}\n",
            "    x_index : Size=1, Index=None, Ordered=False\n",
            "        Key  : Dimen : Domain : Size : Members\n",
            "        None :     1 :    Any :    5 : {0, 1, 2, 3, 4}\n",
            "\n",
            "1 Var Declarations\n",
            "    x : Size=5, Index=x_index\n",
            "        Key : Lower : Value : Upper : Fixed : Stale : Domain\n",
            "          0 :     0 :   8.0 :  None : False : False : NonNegativeIntegers\n",
            "          1 :     0 :   3.0 :  None : False : False : NonNegativeIntegers\n",
            "          2 :     0 :   0.0 :  None : False : False : NonNegativeIntegers\n",
            "          3 :     0 :   0.0 :  None : False : False : NonNegativeIntegers\n",
            "          4 :     0 :   0.0 :  None : False : False : NonNegativeIntegers\n",
            "\n",
            "1 Objective Declarations\n",
            "    objective : Size=1, Index=None, Active=True\n",
            "        Key  : Active : Sense    : Expression\n",
            "        None :   True : maximize : 12*x[0] + 14*x[1] + 10*x[2] + 15*x[3] + 14*x[4]\n",
            "\n",
            "1 Constraint Declarations\n",
            "    constraints : Size=8, Index=constraints_index, Active=True\n",
            "        Key : Lower : Body                                                     : Upper : Active\n",
            "          1 :  -Inf :   6.0*x[0] + 7.5*x[1] + 9.5*x[2] + 10.0*x[3] + 12.5*x[4] :  59.0 :  False\n",
            "          2 :  -Inf : 4.25*x[0] + 3.25*x[1] + 2.5*x[2] + 3.45*x[3] + 2.25*x[4] :  73.0 :  False\n",
            "          3 :  -Inf :   6.0*x[0] + 7.5*x[1] + 9.5*x[2] + 10.0*x[3] + 12.5*x[4] :  71.0 :  False\n",
            "          4 :  -Inf : 4.25*x[0] + 3.25*x[1] + 2.5*x[2] + 3.45*x[3] + 2.25*x[4] :  87.0 :  False\n",
            "          5 :  -Inf : 4.25*x[0] + 3.25*x[1] + 2.5*x[2] + 3.45*x[3] + 2.25*x[4] :  87.0 :   True\n",
            "          6 :  -Inf :   6.0*x[0] + 7.5*x[1] + 9.5*x[2] + 10.0*x[3] + 12.5*x[4] :  71.0 :   True\n",
            "          7 :  -Inf :   6.0*x[0] + 7.5*x[1] + 9.5*x[2] + 10.0*x[3] + 12.5*x[4] :  67.0 :   True\n",
            "          8 :  -Inf : 4.25*x[0] + 3.25*x[1] + 2.5*x[2] + 3.45*x[3] + 2.25*x[4] :  88.0 :   True\n",
            "\n",
            "5 Declarations: x_index x objective constraints_index constraints\n"
          ]
        }
      ]
    },
    {
      "cell_type": "code",
      "metadata": {
        "colab": {
          "base_uri": "https://localhost:8080/"
        },
        "id": "qTs_Z-v38gxu",
        "outputId": "e3a92b13-bb62-4a63-e2c7-59d662bd9255"
      },
      "source": [
        "result_3 = opt_cbc.solve(model)\n",
        "print('Solver status:', result_3.solver.status)\n",
        "print('Solver termination condition:',result_3.solver.termination_condition)"
      ],
      "execution_count": null,
      "outputs": [
        {
          "output_type": "stream",
          "name": "stdout",
          "text": [
            "Solver status: ok\n",
            "Solver termination condition: optimal\n"
          ]
        }
      ]
    },
    {
      "cell_type": "code",
      "metadata": {
        "colab": {
          "base_uri": "https://localhost:8080/"
        },
        "id": "lbZDlad08keP",
        "outputId": "7d293876-24b6-4aa5-c823-d43edcad9bee"
      },
      "source": [
        "# display solution\n",
        "print('Objective = ', model.objective())"
      ],
      "execution_count": null,
      "outputs": [
        {
          "output_type": "stream",
          "name": "stdout",
          "text": [
            "Objective =  132.0\n"
          ]
        }
      ]
    },
    {
      "cell_type": "code",
      "metadata": {
        "colab": {
          "base_uri": "https://localhost:8080/"
        },
        "id": "AFl-3nAL8pg2",
        "outputId": "e7094e5e-7370-40db-f54d-999cd3cbf327"
      },
      "source": [
        "print('Decision Variables')\n",
        "for i in column_indices:\n",
        "  print(df['Drone Model'][i],'=', model.x[i].value)"
      ],
      "execution_count": null,
      "outputs": [
        {
          "output_type": "stream",
          "name": "stdout",
          "text": [
            "Decision Variables\n",
            "MANAS = 11.0\n",
            "JAY = 0.0\n",
            "VEER = 0.0\n",
            "SPASHT = 0.0\n",
            "DHAKSH = 0.0\n"
          ]
        }
      ]
    },
    {
      "cell_type": "code",
      "metadata": {
        "colab": {
          "base_uri": "https://localhost:8080/"
        },
        "id": "hGvC5mDQXRuV",
        "outputId": "8689ad68-5e1f-4aec-8d06-ddac77edbacc"
      },
      "source": [
        "print('Constraints')\n",
        "model.constraints.display()"
      ],
      "execution_count": null,
      "outputs": [
        {
          "output_type": "stream",
          "text": [
            "Solver status: ok\n",
            "Solver termination condition: optimal\n",
            "\n",
            "Objective =  132.0\n",
            "\n",
            "Decision Variables\n",
            "MANAS = 11.0\n",
            "JAY = 0.0\n",
            "VEER = 0.0\n",
            "SPASHT = 0.0\n",
            "DHAKSH = 0.0\n",
            "\n",
            "Constraints\n",
            "constraints : Size=6\n",
            "    Key : Lower : Body  : Upper\n",
            "      5 :  None :  66.0 :  67.0\n",
            "      6 :  None : 46.75 :  88.0\n"
          ],
          "name": "stdout"
        }
      ]
    },
    {
      "cell_type": "markdown",
      "metadata": {
        "id": "wxqg_-5c8xJr"
      },
      "source": [
        "Solve LP"
      ]
    },
    {
      "cell_type": "code",
      "metadata": {
        "id": "i2qvZ1x-XFNK",
        "colab": {
          "base_uri": "https://localhost:8080/"
        },
        "outputId": "0fea8b64-a42a-4690-e4f0-fae37e35c60c"
      },
      "source": [
        "for i in column_indices:\n",
        "  model.x[i].domain=NonNegativeReals\n",
        "model.pprint()"
      ],
      "execution_count": null,
      "outputs": [
        {
          "output_type": "stream",
          "name": "stdout",
          "text": [
            "2 Set Declarations\n",
            "    constraints_index : Size=1, Index=None, Ordered=Insertion\n",
            "        Key  : Dimen : Domain : Size : Members\n",
            "        None :     1 :    Any :    8 : {1, 2, 3, 4, 5, 6, 7, 8}\n",
            "    x_index : Size=1, Index=None, Ordered=False\n",
            "        Key  : Dimen : Domain : Size : Members\n",
            "        None :     1 :    Any :    5 : {0, 1, 2, 3, 4}\n",
            "\n",
            "1 Var Declarations\n",
            "    x : Size=5, Index=x_index\n",
            "        Key : Lower : Value : Upper : Fixed : Stale : Domain\n",
            "          0 :     0 :  11.0 :  None : False : False : NonNegativeReals\n",
            "          1 :     0 :   0.0 :  None : False : False : NonNegativeReals\n",
            "          2 :     0 :   0.0 :  None : False : False : NonNegativeReals\n",
            "          3 :     0 :   0.0 :  None : False : False : NonNegativeReals\n",
            "          4 :     0 :   0.0 :  None : False : False : NonNegativeReals\n",
            "\n",
            "1 Objective Declarations\n",
            "    objective : Size=1, Index=None, Active=True\n",
            "        Key  : Active : Sense    : Expression\n",
            "        None :   True : maximize : 12*x[0] + 14*x[1] + 10*x[2] + 15*x[3] + 14*x[4]\n",
            "\n",
            "1 Constraint Declarations\n",
            "    constraints : Size=8, Index=constraints_index, Active=True\n",
            "        Key : Lower : Body                                                     : Upper : Active\n",
            "          1 :  -Inf :   6.0*x[0] + 7.5*x[1] + 9.5*x[2] + 10.0*x[3] + 12.5*x[4] :  59.0 :  False\n",
            "          2 :  -Inf : 4.25*x[0] + 3.25*x[1] + 2.5*x[2] + 3.45*x[3] + 2.25*x[4] :  73.0 :  False\n",
            "          3 :  -Inf :   6.0*x[0] + 7.5*x[1] + 9.5*x[2] + 10.0*x[3] + 12.5*x[4] :  71.0 :  False\n",
            "          4 :  -Inf : 4.25*x[0] + 3.25*x[1] + 2.5*x[2] + 3.45*x[3] + 2.25*x[4] :  87.0 :  False\n",
            "          5 :  -Inf : 4.25*x[0] + 3.25*x[1] + 2.5*x[2] + 3.45*x[3] + 2.25*x[4] :  87.0 :   True\n",
            "          6 :  -Inf :   6.0*x[0] + 7.5*x[1] + 9.5*x[2] + 10.0*x[3] + 12.5*x[4] :  71.0 :   True\n",
            "          7 :  -Inf :   6.0*x[0] + 7.5*x[1] + 9.5*x[2] + 10.0*x[3] + 12.5*x[4] :  67.0 :   True\n",
            "          8 :  -Inf : 4.25*x[0] + 3.25*x[1] + 2.5*x[2] + 3.45*x[3] + 2.25*x[4] :  88.0 :   True\n",
            "\n",
            "5 Declarations: x_index x objective constraints_index constraints\n"
          ]
        }
      ]
    },
    {
      "cell_type": "code",
      "metadata": {
        "colab": {
          "base_uri": "https://localhost:8080/"
        },
        "id": "0koN8-1i9LAE",
        "outputId": "51671778-4f98-4ac8-be31-9fd376d3654d"
      },
      "source": [
        "result_3 = opt_cbc.solve(model)\n",
        "print('Solver status:', result_3.solver.status)\n",
        "print('Solver termination condition:',result_3.solver.termination_condition)"
      ],
      "execution_count": null,
      "outputs": [
        {
          "output_type": "stream",
          "name": "stdout",
          "text": [
            "Solver status: ok\n",
            "Solver termination condition: optimal\n"
          ]
        }
      ]
    },
    {
      "cell_type": "code",
      "metadata": {
        "colab": {
          "base_uri": "https://localhost:8080/"
        },
        "id": "P2nbQZJL9Pvb",
        "outputId": "3d5b2570-bd35-48a8-c893-a3ea4a905b74"
      },
      "source": [
        "# display solution\n",
        "print('Objective = ', model.objective())"
      ],
      "execution_count": null,
      "outputs": [
        {
          "output_type": "stream",
          "name": "stdout",
          "text": [
            "Objective =  134.000004\n"
          ]
        }
      ]
    },
    {
      "cell_type": "code",
      "metadata": {
        "colab": {
          "base_uri": "https://localhost:8080/"
        },
        "id": "npW-rctp9V7t",
        "outputId": "b313054d-9707-4f98-a380-9c7d109c3981"
      },
      "source": [
        "print('Decision Variables')\n",
        "for i in column_indices:\n",
        "  print(df['Drone Model'][i], '=',model.x[i].value)"
      ],
      "execution_count": null,
      "outputs": [
        {
          "output_type": "stream",
          "name": "stdout",
          "text": [
            "Decision Variables\n",
            "MANAS = 11.166667\n",
            "JAY = 0.0\n",
            "VEER = 0.0\n",
            "SPASHT = 0.0\n",
            "DHAKSH = 0.0\n"
          ]
        }
      ]
    },
    {
      "cell_type": "code",
      "metadata": {
        "colab": {
          "base_uri": "https://localhost:8080/"
        },
        "id": "qlxOcCA2Xo9_",
        "outputId": "5d021883-0b06-4951-a595-758b9381393b"
      },
      "source": [
        "print('Constraints')\n",
        "model.constraints.display()"
      ],
      "execution_count": null,
      "outputs": [
        {
          "output_type": "stream",
          "name": "stdout",
          "text": [
            "Constraints\n",
            "constraints : Size=8\n",
            "    Key : Lower : Body        : Upper\n",
            "      5 :  None : 47.45833475 :  87.0\n",
            "      6 :  None :   67.000002 :  71.0\n",
            "      7 :  None :   67.000002 :  67.0\n",
            "      8 :  None : 47.45833475 :  88.0\n"
          ]
        }
      ]
    },
    {
      "cell_type": "markdown",
      "metadata": {
        "id": "efbjf9ls9chg"
      },
      "source": [
        "Now let budget = 65 units & parking space be 89 units"
      ]
    },
    {
      "cell_type": "markdown",
      "metadata": {
        "id": "BNKNhC3s9mvK"
      },
      "source": [
        "Solve LP"
      ]
    },
    {
      "cell_type": "code",
      "metadata": {
        "id": "PdQboQMv92vt"
      },
      "source": [
        "model.constraints[5].deactivate()"
      ],
      "execution_count": null,
      "outputs": []
    },
    {
      "cell_type": "code",
      "metadata": {
        "id": "aGpGAgtV938y"
      },
      "source": [
        "model.constraints[6].deactivate()"
      ],
      "execution_count": null,
      "outputs": []
    },
    {
      "cell_type": "code",
      "metadata": {
        "colab": {
          "base_uri": "https://localhost:8080/"
        },
        "id": "Ld24GYRn95-B",
        "outputId": "588c2ef6-12fd-4d2a-c6e7-0e1fb065a458"
      },
      "source": [
        "model.constraints.add(summation(df['Cost'], model.x) <= 65)"
      ],
      "execution_count": null,
      "outputs": [
        {
          "output_type": "execute_result",
          "data": {
            "text/plain": [
              "<pyomo.core.base.constraint._GeneralConstraintData at 0x7fcb46a964b0>"
            ]
          },
          "metadata": {},
          "execution_count": 90
        }
      ]
    },
    {
      "cell_type": "code",
      "metadata": {
        "colab": {
          "base_uri": "https://localhost:8080/"
        },
        "id": "OC3nIq0HYKVG",
        "outputId": "844e467d-d78b-49cf-efa4-fd3998531a9b"
      },
      "source": [
        "model.constraints.add(summation(df['Parking space'], model.x) <= 89)"
      ],
      "execution_count": null,
      "outputs": [
        {
          "output_type": "execute_result",
          "data": {
            "text/plain": [
              "<pyomo.core.base.constraint._GeneralConstraintData at 0x7fcb46a96210>"
            ]
          },
          "metadata": {},
          "execution_count": 91
        }
      ]
    },
    {
      "cell_type": "code",
      "metadata": {
        "colab": {
          "base_uri": "https://localhost:8080/"
        },
        "id": "RSKSZxwX98Y3",
        "outputId": "6873d931-f986-4b59-8ec6-8337a945d416"
      },
      "source": [
        "model.pprint()"
      ],
      "execution_count": null,
      "outputs": [
        {
          "output_type": "stream",
          "name": "stdout",
          "text": [
            "2 Set Declarations\n",
            "    constraints_index : Size=1, Index=None, Ordered=Insertion\n",
            "        Key  : Dimen : Domain : Size : Members\n",
            "        None :     1 :    Any :   10 : {1, 2, 3, 4, 5, 6, 7, 8, 9, 10}\n",
            "    x_index : Size=1, Index=None, Ordered=False\n",
            "        Key  : Dimen : Domain : Size : Members\n",
            "        None :     1 :    Any :    5 : {0, 1, 2, 3, 4}\n",
            "\n",
            "1 Var Declarations\n",
            "    x : Size=5, Index=x_index\n",
            "        Key : Lower : Value     : Upper : Fixed : Stale : Domain\n",
            "          0 :     0 : 11.166667 :  None : False : False : NonNegativeReals\n",
            "          1 :     0 :       0.0 :  None : False : False : NonNegativeReals\n",
            "          2 :     0 :       0.0 :  None : False : False : NonNegativeReals\n",
            "          3 :     0 :       0.0 :  None : False : False : NonNegativeReals\n",
            "          4 :     0 :       0.0 :  None : False : False : NonNegativeReals\n",
            "\n",
            "1 Objective Declarations\n",
            "    objective : Size=1, Index=None, Active=True\n",
            "        Key  : Active : Sense    : Expression\n",
            "        None :   True : maximize : 12*x[0] + 14*x[1] + 10*x[2] + 15*x[3] + 14*x[4]\n",
            "\n",
            "1 Constraint Declarations\n",
            "    constraints : Size=10, Index=constraints_index, Active=True\n",
            "        Key : Lower : Body                                                     : Upper : Active\n",
            "          1 :  -Inf :   6.0*x[0] + 7.5*x[1] + 9.5*x[2] + 10.0*x[3] + 12.5*x[4] :  59.0 :  False\n",
            "          2 :  -Inf : 4.25*x[0] + 3.25*x[1] + 2.5*x[2] + 3.45*x[3] + 2.25*x[4] :  73.0 :  False\n",
            "          3 :  -Inf :   6.0*x[0] + 7.5*x[1] + 9.5*x[2] + 10.0*x[3] + 12.5*x[4] :  71.0 :  False\n",
            "          4 :  -Inf : 4.25*x[0] + 3.25*x[1] + 2.5*x[2] + 3.45*x[3] + 2.25*x[4] :  87.0 :  False\n",
            "          5 :  -Inf : 4.25*x[0] + 3.25*x[1] + 2.5*x[2] + 3.45*x[3] + 2.25*x[4] :  87.0 :  False\n",
            "          6 :  -Inf :   6.0*x[0] + 7.5*x[1] + 9.5*x[2] + 10.0*x[3] + 12.5*x[4] :  71.0 :  False\n",
            "          7 :  -Inf :   6.0*x[0] + 7.5*x[1] + 9.5*x[2] + 10.0*x[3] + 12.5*x[4] :  67.0 :   True\n",
            "          8 :  -Inf : 4.25*x[0] + 3.25*x[1] + 2.5*x[2] + 3.45*x[3] + 2.25*x[4] :  88.0 :   True\n",
            "          9 :  -Inf :   6.0*x[0] + 7.5*x[1] + 9.5*x[2] + 10.0*x[3] + 12.5*x[4] :  65.0 :   True\n",
            "         10 :  -Inf : 4.25*x[0] + 3.25*x[1] + 2.5*x[2] + 3.45*x[3] + 2.25*x[4] :  89.0 :   True\n",
            "\n",
            "5 Declarations: x_index x objective constraints_index constraints\n"
          ]
        }
      ]
    },
    {
      "cell_type": "code",
      "metadata": {
        "colab": {
          "base_uri": "https://localhost:8080/"
        },
        "id": "nBSBdLSK-H8Z",
        "outputId": "45c1d481-4ae8-4f85-8de8-213e59af635a"
      },
      "source": [
        "result_3 = opt_cbc.solve(model)\n",
        "print('Solver status:', result_3.solver.status)\n",
        "print('Solver termination condition:',result_3.solver.termination_condition)\n"
      ],
      "execution_count": null,
      "outputs": [
        {
          "output_type": "stream",
          "name": "stdout",
          "text": [
            "Solver status: ok\n",
            "Solver termination condition: optimal\n"
          ]
        }
      ]
    },
    {
      "cell_type": "code",
      "metadata": {
        "colab": {
          "base_uri": "https://localhost:8080/"
        },
        "id": "p6U8izHi-LU-",
        "outputId": "c2fccf70-44c6-4c31-ef9e-6ae8a9db2487"
      },
      "source": [
        "# display solution\n",
        "print('Objective = ', model.objective())"
      ],
      "execution_count": null,
      "outputs": [
        {
          "output_type": "stream",
          "name": "stdout",
          "text": [
            "Objective =  129.999996\n"
          ]
        }
      ]
    },
    {
      "cell_type": "code",
      "metadata": {
        "colab": {
          "base_uri": "https://localhost:8080/"
        },
        "id": "iqnoWnNc-Qzc",
        "outputId": "8576ec22-3b64-47be-b21b-6a43f3bc8514"
      },
      "source": [
        "print('Decision Variables')\n",
        "for i in column_indices:\n",
        "  print(df['Drone Model'][i], '=',model.x[i].value)"
      ],
      "execution_count": null,
      "outputs": [
        {
          "output_type": "stream",
          "name": "stdout",
          "text": [
            "Decision Variables\n",
            "MANAS = 10.833333\n",
            "JAY = 0.0\n",
            "VEER = 0.0\n",
            "SPASHT = 0.0\n",
            "DHAKSH = 0.0\n"
          ]
        }
      ]
    },
    {
      "cell_type": "code",
      "metadata": {
        "colab": {
          "base_uri": "https://localhost:8080/"
        },
        "id": "og9cJmL7ahGi",
        "outputId": "cb846eee-72b3-4fc0-ad13-0e9174829f21"
      },
      "source": [
        "print('Constraints')\n",
        "model.constraints.display()"
      ],
      "execution_count": null,
      "outputs": [
        {
          "output_type": "stream",
          "name": "stdout",
          "text": [
            "Constraints\n",
            "constraints : Size=10\n",
            "    Key : Lower : Body        : Upper\n",
            "      7 :  None :   64.999998 :  67.0\n",
            "      8 :  None : 46.04166525 :  88.0\n",
            "      9 :  None :   64.999998 :  65.0\n",
            "     10 :  None : 46.04166525 :  89.0\n"
          ]
        }
      ]
    },
    {
      "cell_type": "markdown",
      "metadata": {
        "id": "Vualow9T-aAJ"
      },
      "source": [
        "Solve MILP"
      ]
    },
    {
      "cell_type": "code",
      "metadata": {
        "colab": {
          "base_uri": "https://localhost:8080/"
        },
        "id": "Asf0ifJWap_I",
        "outputId": "6dbed40f-ac88-4522-c658-e53f5057c987"
      },
      "source": [
        "for i in column_indices:\n",
        "  model.x[i].domain=NonNegativeIntegers\n",
        "model.pprint()"
      ],
      "execution_count": null,
      "outputs": [
        {
          "output_type": "stream",
          "name": "stdout",
          "text": [
            "2 Set Declarations\n",
            "    constraints_index : Size=1, Index=None, Ordered=Insertion\n",
            "        Key  : Dimen : Domain : Size : Members\n",
            "        None :     1 :    Any :   10 : {1, 2, 3, 4, 5, 6, 7, 8, 9, 10}\n",
            "    x_index : Size=1, Index=None, Ordered=False\n",
            "        Key  : Dimen : Domain : Size : Members\n",
            "        None :     1 :    Any :    5 : {0, 1, 2, 3, 4}\n",
            "\n",
            "1 Var Declarations\n",
            "    x : Size=5, Index=x_index\n",
            "        Key : Lower : Value     : Upper : Fixed : Stale : Domain\n",
            "          0 :     0 : 10.833333 :  None : False : False : NonNegativeIntegers\n",
            "          1 :     0 :       0.0 :  None : False : False : NonNegativeIntegers\n",
            "          2 :     0 :       0.0 :  None : False : False : NonNegativeIntegers\n",
            "          3 :     0 :       0.0 :  None : False : False : NonNegativeIntegers\n",
            "          4 :     0 :       0.0 :  None : False : False : NonNegativeIntegers\n",
            "\n",
            "1 Objective Declarations\n",
            "    objective : Size=1, Index=None, Active=True\n",
            "        Key  : Active : Sense    : Expression\n",
            "        None :   True : maximize : 12*x[0] + 14*x[1] + 10*x[2] + 15*x[3] + 14*x[4]\n",
            "\n",
            "1 Constraint Declarations\n",
            "    constraints : Size=10, Index=constraints_index, Active=True\n",
            "        Key : Lower : Body                                                     : Upper : Active\n",
            "          1 :  -Inf :   6.0*x[0] + 7.5*x[1] + 9.5*x[2] + 10.0*x[3] + 12.5*x[4] :  59.0 :  False\n",
            "          2 :  -Inf : 4.25*x[0] + 3.25*x[1] + 2.5*x[2] + 3.45*x[3] + 2.25*x[4] :  73.0 :  False\n",
            "          3 :  -Inf :   6.0*x[0] + 7.5*x[1] + 9.5*x[2] + 10.0*x[3] + 12.5*x[4] :  71.0 :  False\n",
            "          4 :  -Inf : 4.25*x[0] + 3.25*x[1] + 2.5*x[2] + 3.45*x[3] + 2.25*x[4] :  87.0 :  False\n",
            "          5 :  -Inf : 4.25*x[0] + 3.25*x[1] + 2.5*x[2] + 3.45*x[3] + 2.25*x[4] :  87.0 :  False\n",
            "          6 :  -Inf :   6.0*x[0] + 7.5*x[1] + 9.5*x[2] + 10.0*x[3] + 12.5*x[4] :  71.0 :  False\n",
            "          7 :  -Inf :   6.0*x[0] + 7.5*x[1] + 9.5*x[2] + 10.0*x[3] + 12.5*x[4] :  67.0 :   True\n",
            "          8 :  -Inf : 4.25*x[0] + 3.25*x[1] + 2.5*x[2] + 3.45*x[3] + 2.25*x[4] :  88.0 :   True\n",
            "          9 :  -Inf :   6.0*x[0] + 7.5*x[1] + 9.5*x[2] + 10.0*x[3] + 12.5*x[4] :  65.0 :   True\n",
            "         10 :  -Inf : 4.25*x[0] + 3.25*x[1] + 2.5*x[2] + 3.45*x[3] + 2.25*x[4] :  89.0 :   True\n",
            "\n",
            "5 Declarations: x_index x objective constraints_index constraints\n"
          ]
        }
      ]
    },
    {
      "cell_type": "code",
      "metadata": {
        "colab": {
          "base_uri": "https://localhost:8080/"
        },
        "id": "boZd9lkK-lVt",
        "outputId": "a070bdd0-0051-4243-9d0f-228e4ed99fef"
      },
      "source": [
        "result_3 = opt_cbc.solve(model)\n",
        "print('Solver status:', result_3.solver.status)\n",
        "print('Solver termination condition:',result_3.solver.termination_condition)"
      ],
      "execution_count": null,
      "outputs": [
        {
          "output_type": "stream",
          "name": "stdout",
          "text": [
            "Solver status: ok\n",
            "Solver termination condition: optimal\n"
          ]
        }
      ]
    },
    {
      "cell_type": "code",
      "metadata": {
        "colab": {
          "base_uri": "https://localhost:8080/"
        },
        "id": "4YWaZwLX-ouw",
        "outputId": "25eb5ded-baab-45a2-f0bf-6f70705bc940"
      },
      "source": [
        "# display solution\n",
        "print('Objective = ', model.objective())"
      ],
      "execution_count": null,
      "outputs": [
        {
          "output_type": "stream",
          "name": "stdout",
          "text": [
            "Objective =  126.0\n"
          ]
        }
      ]
    },
    {
      "cell_type": "code",
      "metadata": {
        "colab": {
          "base_uri": "https://localhost:8080/"
        },
        "id": "lAfHhGBa-xFe",
        "outputId": "be5a7531-de0d-4b48-919e-d64a6fea9390"
      },
      "source": [
        "print('Decision Variables')\n",
        "for i in column_indices:\n",
        "  print(df['Drone Model'][i],'=', model.x[i].value)"
      ],
      "execution_count": null,
      "outputs": [
        {
          "output_type": "stream",
          "name": "stdout",
          "text": [
            "Decision Variables\n",
            "MANAS = 7.0\n",
            "JAY = 3.0\n",
            "VEER = 0.0\n",
            "SPASHT = 0.0\n",
            "DHAKSH = 0.0\n"
          ]
        }
      ]
    },
    {
      "cell_type": "code",
      "metadata": {
        "colab": {
          "base_uri": "https://localhost:8080/"
        },
        "id": "YJZMJMeJa6sW",
        "outputId": "42cd4130-6006-497a-f56d-dea86e472ea7"
      },
      "source": [
        "print('Constraints')\n",
        "model.constraints.display()"
      ],
      "execution_count": null,
      "outputs": [
        {
          "output_type": "stream",
          "name": "stdout",
          "text": [
            "Constraints\n",
            "constraints : Size=10\n",
            "    Key : Lower : Body : Upper\n",
            "      7 :  None : 64.5 :  67.0\n",
            "      8 :  None : 39.5 :  88.0\n",
            "      9 :  None : 64.5 :  65.0\n",
            "     10 :  None : 39.5 :  89.0\n"
          ]
        }
      ]
    },
    {
      "cell_type": "markdown",
      "metadata": {
        "id": "xL6ddwuv-95B"
      },
      "source": [
        "Let the budget be 63 units \n",
        "and parking space be 90 units"
      ]
    },
    {
      "cell_type": "code",
      "metadata": {
        "id": "I91K9Z1H_SOo"
      },
      "source": [
        "model.constraints[7].deactivate()"
      ],
      "execution_count": null,
      "outputs": []
    },
    {
      "cell_type": "code",
      "metadata": {
        "id": "Vkqb1ZKT_Ty8"
      },
      "source": [
        "model.constraints[8].deactivate()"
      ],
      "execution_count": null,
      "outputs": []
    },
    {
      "cell_type": "code",
      "metadata": {
        "colab": {
          "base_uri": "https://localhost:8080/"
        },
        "id": "2Fxhz3Qw_U5Q",
        "outputId": "c1e39e3b-9f21-4c6d-908f-37cb505c0f6d"
      },
      "source": [
        "model.constraints.add(summation(df['Cost'], model.x) <= 63)"
      ],
      "execution_count": null,
      "outputs": [
        {
          "output_type": "execute_result",
          "data": {
            "text/plain": [
              "<pyomo.core.base.constraint._GeneralConstraintData at 0x7fcb46a19ad0>"
            ]
          },
          "metadata": {},
          "execution_count": 104
        }
      ]
    },
    {
      "cell_type": "code",
      "metadata": {
        "colab": {
          "base_uri": "https://localhost:8080/"
        },
        "id": "7D93QqGn_Vzg",
        "outputId": "ac454eb2-fff2-419c-edae-2ff39cdab9d2"
      },
      "source": [
        "model.constraints.add(summation(df['Parking space'], model.x) <= 90)"
      ],
      "execution_count": null,
      "outputs": [
        {
          "output_type": "execute_result",
          "data": {
            "text/plain": [
              "<pyomo.core.base.constraint._GeneralConstraintData at 0x7fcb46a14b40>"
            ]
          },
          "metadata": {},
          "execution_count": 105
        }
      ]
    },
    {
      "cell_type": "code",
      "metadata": {
        "colab": {
          "base_uri": "https://localhost:8080/"
        },
        "id": "B0GeMNuja-0Y",
        "outputId": "7a893dc1-c5bb-4bc3-f3b8-2893d0eb5df6"
      },
      "source": [
        "model.pprint()"
      ],
      "execution_count": null,
      "outputs": [
        {
          "output_type": "stream",
          "name": "stdout",
          "text": [
            "2 Set Declarations\n",
            "    constraints_index : Size=1, Index=None, Ordered=Insertion\n",
            "        Key  : Dimen : Domain : Size : Members\n",
            "        None :     1 :    Any :   12 : {1, 2, 3, 4, 5, 6, 7, 8, 9, 10, 11, 12}\n",
            "    x_index : Size=1, Index=None, Ordered=False\n",
            "        Key  : Dimen : Domain : Size : Members\n",
            "        None :     1 :    Any :    5 : {0, 1, 2, 3, 4}\n",
            "\n",
            "1 Var Declarations\n",
            "    x : Size=5, Index=x_index\n",
            "        Key : Lower : Value : Upper : Fixed : Stale : Domain\n",
            "          0 :     0 :   7.0 :  None : False : False : NonNegativeIntegers\n",
            "          1 :     0 :   3.0 :  None : False : False : NonNegativeIntegers\n",
            "          2 :     0 :   0.0 :  None : False : False : NonNegativeIntegers\n",
            "          3 :     0 :   0.0 :  None : False : False : NonNegativeIntegers\n",
            "          4 :     0 :   0.0 :  None : False : False : NonNegativeIntegers\n",
            "\n",
            "1 Objective Declarations\n",
            "    objective : Size=1, Index=None, Active=True\n",
            "        Key  : Active : Sense    : Expression\n",
            "        None :   True : maximize : 12*x[0] + 14*x[1] + 10*x[2] + 15*x[3] + 14*x[4]\n",
            "\n",
            "1 Constraint Declarations\n",
            "    constraints : Size=12, Index=constraints_index, Active=True\n",
            "        Key : Lower : Body                                                     : Upper : Active\n",
            "          1 :  -Inf :   6.0*x[0] + 7.5*x[1] + 9.5*x[2] + 10.0*x[3] + 12.5*x[4] :  59.0 :  False\n",
            "          2 :  -Inf : 4.25*x[0] + 3.25*x[1] + 2.5*x[2] + 3.45*x[3] + 2.25*x[4] :  73.0 :  False\n",
            "          3 :  -Inf :   6.0*x[0] + 7.5*x[1] + 9.5*x[2] + 10.0*x[3] + 12.5*x[4] :  71.0 :  False\n",
            "          4 :  -Inf : 4.25*x[0] + 3.25*x[1] + 2.5*x[2] + 3.45*x[3] + 2.25*x[4] :  87.0 :  False\n",
            "          5 :  -Inf : 4.25*x[0] + 3.25*x[1] + 2.5*x[2] + 3.45*x[3] + 2.25*x[4] :  87.0 :  False\n",
            "          6 :  -Inf :   6.0*x[0] + 7.5*x[1] + 9.5*x[2] + 10.0*x[3] + 12.5*x[4] :  71.0 :  False\n",
            "          7 :  -Inf :   6.0*x[0] + 7.5*x[1] + 9.5*x[2] + 10.0*x[3] + 12.5*x[4] :  67.0 :  False\n",
            "          8 :  -Inf : 4.25*x[0] + 3.25*x[1] + 2.5*x[2] + 3.45*x[3] + 2.25*x[4] :  88.0 :  False\n",
            "          9 :  -Inf :   6.0*x[0] + 7.5*x[1] + 9.5*x[2] + 10.0*x[3] + 12.5*x[4] :  65.0 :   True\n",
            "         10 :  -Inf : 4.25*x[0] + 3.25*x[1] + 2.5*x[2] + 3.45*x[3] + 2.25*x[4] :  89.0 :   True\n",
            "         11 :  -Inf :   6.0*x[0] + 7.5*x[1] + 9.5*x[2] + 10.0*x[3] + 12.5*x[4] :  63.0 :   True\n",
            "         12 :  -Inf : 4.25*x[0] + 3.25*x[1] + 2.5*x[2] + 3.45*x[3] + 2.25*x[4] :  90.0 :   True\n",
            "\n",
            "5 Declarations: x_index x objective constraints_index constraints\n"
          ]
        }
      ]
    },
    {
      "cell_type": "code",
      "metadata": {
        "colab": {
          "base_uri": "https://localhost:8080/"
        },
        "id": "pZKR-5dt_ga7",
        "outputId": "dda55754-3229-4c71-fc8b-23a217f82aac"
      },
      "source": [
        "result_3 = opt_cbc.solve(model)\n",
        "print('Solver status:', result_3.solver.status)\n",
        "print('Solver termination condition:',result_3.solver.termination_condition)"
      ],
      "execution_count": null,
      "outputs": [
        {
          "output_type": "stream",
          "name": "stdout",
          "text": [
            "Solver status: ok\n",
            "Solver termination condition: optimal\n"
          ]
        }
      ]
    },
    {
      "cell_type": "code",
      "metadata": {
        "colab": {
          "base_uri": "https://localhost:8080/"
        },
        "id": "T-wumCzb_lqR",
        "outputId": "670cd9aa-6345-4580-b846-d4affedce6d2"
      },
      "source": [
        "# display solution\n",
        "print('Objective = ', model.objective())"
      ],
      "execution_count": null,
      "outputs": [
        {
          "output_type": "stream",
          "name": "stdout",
          "text": [
            "Objective =  124.0\n"
          ]
        }
      ]
    },
    {
      "cell_type": "code",
      "metadata": {
        "colab": {
          "base_uri": "https://localhost:8080/"
        },
        "id": "l80fG6Lq_nzU",
        "outputId": "bd9c0072-14e6-44cd-ace8-be6bb448658c"
      },
      "source": [
        "print('Decision Variables')\n",
        "for i in column_indices:\n",
        "  print(df['Drone Model'][i],'=', model.x[i].value)"
      ],
      "execution_count": null,
      "outputs": [
        {
          "output_type": "stream",
          "name": "stdout",
          "text": [
            "Decision Variables\n",
            "MANAS = 8.0\n",
            "JAY = 2.0\n",
            "VEER = 0.0\n",
            "SPASHT = 0.0\n",
            "DHAKSH = 0.0\n"
          ]
        }
      ]
    },
    {
      "cell_type": "code",
      "metadata": {
        "colab": {
          "base_uri": "https://localhost:8080/"
        },
        "id": "k9MZ3XwsbMus",
        "outputId": "9a0c05ae-1ebe-4af2-fce0-b2a17e78a3eb"
      },
      "source": [
        "print('Constraints')\n",
        "model.constraints.display()"
      ],
      "execution_count": null,
      "outputs": [
        {
          "output_type": "stream",
          "name": "stdout",
          "text": [
            "Constraints\n",
            "constraints : Size=12\n",
            "    Key : Lower : Body : Upper\n",
            "      9 :  None : 63.0 :  65.0\n",
            "     10 :  None : 40.5 :  89.0\n",
            "     11 :  None : 63.0 :  63.0\n",
            "     12 :  None : 40.5 :  90.0\n"
          ]
        }
      ]
    },
    {
      "cell_type": "markdown",
      "metadata": {
        "id": "MudB_nN9_yfg"
      },
      "source": [
        "Solve LP"
      ]
    },
    {
      "cell_type": "code",
      "metadata": {
        "colab": {
          "base_uri": "https://localhost:8080/"
        },
        "id": "tccT6CZ9bW_h",
        "outputId": "820bae62-fc2b-4e88-8850-18de731e1610"
      },
      "source": [
        "for i in column_indices:\n",
        "  model.x[i].domain=NonNegativeReals\n",
        "model.pprint()"
      ],
      "execution_count": null,
      "outputs": [
        {
          "output_type": "stream",
          "name": "stdout",
          "text": [
            "2 Set Declarations\n",
            "    constraints_index : Size=1, Index=None, Ordered=Insertion\n",
            "        Key  : Dimen : Domain : Size : Members\n",
            "        None :     1 :    Any :   12 : {1, 2, 3, 4, 5, 6, 7, 8, 9, 10, 11, 12}\n",
            "    x_index : Size=1, Index=None, Ordered=False\n",
            "        Key  : Dimen : Domain : Size : Members\n",
            "        None :     1 :    Any :    5 : {0, 1, 2, 3, 4}\n",
            "\n",
            "1 Var Declarations\n",
            "    x : Size=5, Index=x_index\n",
            "        Key : Lower : Value : Upper : Fixed : Stale : Domain\n",
            "          0 :     0 :   8.0 :  None : False : False : NonNegativeReals\n",
            "          1 :     0 :   2.0 :  None : False : False : NonNegativeReals\n",
            "          2 :     0 :   0.0 :  None : False : False : NonNegativeReals\n",
            "          3 :     0 :   0.0 :  None : False : False : NonNegativeReals\n",
            "          4 :     0 :   0.0 :  None : False : False : NonNegativeReals\n",
            "\n",
            "1 Objective Declarations\n",
            "    objective : Size=1, Index=None, Active=True\n",
            "        Key  : Active : Sense    : Expression\n",
            "        None :   True : maximize : 12*x[0] + 14*x[1] + 10*x[2] + 15*x[3] + 14*x[4]\n",
            "\n",
            "1 Constraint Declarations\n",
            "    constraints : Size=12, Index=constraints_index, Active=True\n",
            "        Key : Lower : Body                                                     : Upper : Active\n",
            "          1 :  -Inf :   6.0*x[0] + 7.5*x[1] + 9.5*x[2] + 10.0*x[3] + 12.5*x[4] :  59.0 :  False\n",
            "          2 :  -Inf : 4.25*x[0] + 3.25*x[1] + 2.5*x[2] + 3.45*x[3] + 2.25*x[4] :  73.0 :  False\n",
            "          3 :  -Inf :   6.0*x[0] + 7.5*x[1] + 9.5*x[2] + 10.0*x[3] + 12.5*x[4] :  71.0 :  False\n",
            "          4 :  -Inf : 4.25*x[0] + 3.25*x[1] + 2.5*x[2] + 3.45*x[3] + 2.25*x[4] :  87.0 :  False\n",
            "          5 :  -Inf : 4.25*x[0] + 3.25*x[1] + 2.5*x[2] + 3.45*x[3] + 2.25*x[4] :  87.0 :  False\n",
            "          6 :  -Inf :   6.0*x[0] + 7.5*x[1] + 9.5*x[2] + 10.0*x[3] + 12.5*x[4] :  71.0 :  False\n",
            "          7 :  -Inf :   6.0*x[0] + 7.5*x[1] + 9.5*x[2] + 10.0*x[3] + 12.5*x[4] :  67.0 :  False\n",
            "          8 :  -Inf : 4.25*x[0] + 3.25*x[1] + 2.5*x[2] + 3.45*x[3] + 2.25*x[4] :  88.0 :  False\n",
            "          9 :  -Inf :   6.0*x[0] + 7.5*x[1] + 9.5*x[2] + 10.0*x[3] + 12.5*x[4] :  65.0 :   True\n",
            "         10 :  -Inf : 4.25*x[0] + 3.25*x[1] + 2.5*x[2] + 3.45*x[3] + 2.25*x[4] :  89.0 :   True\n",
            "         11 :  -Inf :   6.0*x[0] + 7.5*x[1] + 9.5*x[2] + 10.0*x[3] + 12.5*x[4] :  63.0 :   True\n",
            "         12 :  -Inf : 4.25*x[0] + 3.25*x[1] + 2.5*x[2] + 3.45*x[3] + 2.25*x[4] :  90.0 :   True\n",
            "\n",
            "5 Declarations: x_index x objective constraints_index constraints\n"
          ]
        }
      ]
    },
    {
      "cell_type": "code",
      "metadata": {
        "colab": {
          "base_uri": "https://localhost:8080/"
        },
        "id": "wKTokIYgAA3-",
        "outputId": "3092992b-95b1-4bab-d2a5-8105799b6987"
      },
      "source": [
        "result_3 = opt_cbc.solve(model)\n",
        "print('Solver status:', result_3.solver.status)\n",
        "print('Solver termination condition:',result_3.solver.termination_condition)"
      ],
      "execution_count": null,
      "outputs": [
        {
          "output_type": "stream",
          "name": "stdout",
          "text": [
            "Solver status: ok\n",
            "Solver termination condition: optimal\n"
          ]
        }
      ]
    },
    {
      "cell_type": "code",
      "metadata": {
        "colab": {
          "base_uri": "https://localhost:8080/"
        },
        "id": "YwvjLn-YAKwe",
        "outputId": "e3a29716-31cb-4b92-a1d8-4e4c5cf72170"
      },
      "source": [
        "# display solution\n",
        "print('Objective = ', model.objective())"
      ],
      "execution_count": null,
      "outputs": [
        {
          "output_type": "stream",
          "name": "stdout",
          "text": [
            "Objective =  126.0\n"
          ]
        }
      ]
    },
    {
      "cell_type": "code",
      "metadata": {
        "colab": {
          "base_uri": "https://localhost:8080/"
        },
        "id": "uiuyu-o7ATPR",
        "outputId": "afb686dc-80c2-4747-b0ac-702160b211ef"
      },
      "source": [
        "print('Decision Variables')\n",
        "for i in column_indices:\n",
        "  print(df['Drone Model'][i],'=', model.x[i].value)"
      ],
      "execution_count": null,
      "outputs": [
        {
          "output_type": "stream",
          "name": "stdout",
          "text": [
            "Decision Variables\n",
            "MANAS = 10.5\n",
            "JAY = 0.0\n",
            "VEER = 0.0\n",
            "SPASHT = 0.0\n",
            "DHAKSH = 0.0\n"
          ]
        }
      ]
    },
    {
      "cell_type": "code",
      "metadata": {
        "colab": {
          "base_uri": "https://localhost:8080/"
        },
        "id": "_846rZvwbg_N",
        "outputId": "05ff957c-037d-4dfa-dbb0-cbd1d132d8ee"
      },
      "source": [
        "print('Constraints')\n",
        "model.constraints.display()"
      ],
      "execution_count": null,
      "outputs": [
        {
          "output_type": "stream",
          "name": "stdout",
          "text": [
            "Constraints\n",
            "constraints : Size=12\n",
            "    Key : Lower : Body   : Upper\n",
            "      9 :  None :   63.0 :  65.0\n",
            "     10 :  None : 44.625 :  89.0\n",
            "     11 :  None :   63.0 :  63.0\n",
            "     12 :  None : 44.625 :  90.0\n"
          ]
        }
      ]
    },
    {
      "cell_type": "markdown",
      "metadata": {
        "id": "zsRbpw5vAXQ2"
      },
      "source": [
        "Let the budget be 61 units and parking space be 91 units "
      ]
    },
    {
      "cell_type": "markdown",
      "metadata": {
        "id": "Fc-9z0JGAeG1"
      },
      "source": [
        "Solve LP"
      ]
    },
    {
      "cell_type": "code",
      "metadata": {
        "id": "AdaKidkeArPc"
      },
      "source": [
        "model.constraints[9].deactivate()"
      ],
      "execution_count": null,
      "outputs": []
    },
    {
      "cell_type": "code",
      "metadata": {
        "id": "_JYKdRPUAsnN"
      },
      "source": [
        "model.constraints[10].deactivate()"
      ],
      "execution_count": null,
      "outputs": []
    },
    {
      "cell_type": "code",
      "metadata": {
        "colab": {
          "base_uri": "https://localhost:8080/"
        },
        "id": "mRveqa7-AuTt",
        "outputId": "a8f4d751-b19b-40ac-aeda-48e2e7144f43"
      },
      "source": [
        "model.constraints.add(summation(df['Cost'], model.x) <= 61)"
      ],
      "execution_count": null,
      "outputs": [
        {
          "output_type": "execute_result",
          "data": {
            "text/plain": [
              "<pyomo.core.base.constraint._GeneralConstraintData at 0x7fcb469d7bb0>"
            ]
          },
          "metadata": {},
          "execution_count": 118
        }
      ]
    },
    {
      "cell_type": "code",
      "metadata": {
        "colab": {
          "base_uri": "https://localhost:8080/"
        },
        "id": "Quqdyj84AvqG",
        "outputId": "b12429e5-e5af-41e1-a758-7a11863ff5d1"
      },
      "source": [
        "model.constraints.add(summation(df['Parking space'], model.x) <= 91)"
      ],
      "execution_count": null,
      "outputs": [
        {
          "output_type": "execute_result",
          "data": {
            "text/plain": [
              "<pyomo.core.base.constraint._GeneralConstraintData at 0x7fcb469d74b0>"
            ]
          },
          "metadata": {},
          "execution_count": 119
        }
      ]
    },
    {
      "cell_type": "code",
      "metadata": {
        "colab": {
          "base_uri": "https://localhost:8080/"
        },
        "id": "o3n00t4mbiA6",
        "outputId": "d2bdddd7-c36c-4266-9416-fef00aa13e69"
      },
      "source": [
        "model.pprint()"
      ],
      "execution_count": null,
      "outputs": [
        {
          "output_type": "stream",
          "name": "stdout",
          "text": [
            "2 Set Declarations\n",
            "    constraints_index : Size=1, Index=None, Ordered=Insertion\n",
            "        Key  : Dimen : Domain : Size : Members\n",
            "        None :     1 :    Any :   14 : {1, 2, 3, 4, 5, 6, 7, 8, 9, 10, 11, 12, 13, 14}\n",
            "    x_index : Size=1, Index=None, Ordered=False\n",
            "        Key  : Dimen : Domain : Size : Members\n",
            "        None :     1 :    Any :    5 : {0, 1, 2, 3, 4}\n",
            "\n",
            "1 Var Declarations\n",
            "    x : Size=5, Index=x_index\n",
            "        Key : Lower : Value : Upper : Fixed : Stale : Domain\n",
            "          0 :     0 :  10.5 :  None : False : False : NonNegativeReals\n",
            "          1 :     0 :   0.0 :  None : False : False : NonNegativeReals\n",
            "          2 :     0 :   0.0 :  None : False : False : NonNegativeReals\n",
            "          3 :     0 :   0.0 :  None : False : False : NonNegativeReals\n",
            "          4 :     0 :   0.0 :  None : False : False : NonNegativeReals\n",
            "\n",
            "1 Objective Declarations\n",
            "    objective : Size=1, Index=None, Active=True\n",
            "        Key  : Active : Sense    : Expression\n",
            "        None :   True : maximize : 12*x[0] + 14*x[1] + 10*x[2] + 15*x[3] + 14*x[4]\n",
            "\n",
            "1 Constraint Declarations\n",
            "    constraints : Size=14, Index=constraints_index, Active=True\n",
            "        Key : Lower : Body                                                     : Upper : Active\n",
            "          1 :  -Inf :   6.0*x[0] + 7.5*x[1] + 9.5*x[2] + 10.0*x[3] + 12.5*x[4] :  59.0 :  False\n",
            "          2 :  -Inf : 4.25*x[0] + 3.25*x[1] + 2.5*x[2] + 3.45*x[3] + 2.25*x[4] :  73.0 :  False\n",
            "          3 :  -Inf :   6.0*x[0] + 7.5*x[1] + 9.5*x[2] + 10.0*x[3] + 12.5*x[4] :  71.0 :  False\n",
            "          4 :  -Inf : 4.25*x[0] + 3.25*x[1] + 2.5*x[2] + 3.45*x[3] + 2.25*x[4] :  87.0 :  False\n",
            "          5 :  -Inf : 4.25*x[0] + 3.25*x[1] + 2.5*x[2] + 3.45*x[3] + 2.25*x[4] :  87.0 :  False\n",
            "          6 :  -Inf :   6.0*x[0] + 7.5*x[1] + 9.5*x[2] + 10.0*x[3] + 12.5*x[4] :  71.0 :  False\n",
            "          7 :  -Inf :   6.0*x[0] + 7.5*x[1] + 9.5*x[2] + 10.0*x[3] + 12.5*x[4] :  67.0 :  False\n",
            "          8 :  -Inf : 4.25*x[0] + 3.25*x[1] + 2.5*x[2] + 3.45*x[3] + 2.25*x[4] :  88.0 :  False\n",
            "          9 :  -Inf :   6.0*x[0] + 7.5*x[1] + 9.5*x[2] + 10.0*x[3] + 12.5*x[4] :  65.0 :  False\n",
            "         10 :  -Inf : 4.25*x[0] + 3.25*x[1] + 2.5*x[2] + 3.45*x[3] + 2.25*x[4] :  89.0 :  False\n",
            "         11 :  -Inf :   6.0*x[0] + 7.5*x[1] + 9.5*x[2] + 10.0*x[3] + 12.5*x[4] :  63.0 :   True\n",
            "         12 :  -Inf : 4.25*x[0] + 3.25*x[1] + 2.5*x[2] + 3.45*x[3] + 2.25*x[4] :  90.0 :   True\n",
            "         13 :  -Inf :   6.0*x[0] + 7.5*x[1] + 9.5*x[2] + 10.0*x[3] + 12.5*x[4] :  61.0 :   True\n",
            "         14 :  -Inf : 4.25*x[0] + 3.25*x[1] + 2.5*x[2] + 3.45*x[3] + 2.25*x[4] :  91.0 :   True\n",
            "\n",
            "5 Declarations: x_index x objective constraints_index constraints\n"
          ]
        }
      ]
    },
    {
      "cell_type": "code",
      "metadata": {
        "colab": {
          "base_uri": "https://localhost:8080/"
        },
        "id": "hZKf56jtA3QQ",
        "outputId": "a10d2c05-438a-4d81-e37d-e1b48132b167"
      },
      "source": [
        "result_3 = opt_cbc.solve(model)\n",
        "print('Solver status:', result_3.solver.status)\n",
        "print('Solver termination condition:',result_3.solver.termination_condition)"
      ],
      "execution_count": null,
      "outputs": [
        {
          "output_type": "stream",
          "name": "stdout",
          "text": [
            "Solver status: ok\n",
            "Solver termination condition: optimal\n"
          ]
        }
      ]
    },
    {
      "cell_type": "code",
      "metadata": {
        "colab": {
          "base_uri": "https://localhost:8080/"
        },
        "id": "lLKrFmMpA7Wo",
        "outputId": "11bafb8b-6fba-457b-c927-cfcd7b1e33fd"
      },
      "source": [
        "# display solution\n",
        "print('Objective = ', model.objective())"
      ],
      "execution_count": null,
      "outputs": [
        {
          "output_type": "stream",
          "name": "stdout",
          "text": [
            "Objective =  122.000004\n"
          ]
        }
      ]
    },
    {
      "cell_type": "code",
      "metadata": {
        "colab": {
          "base_uri": "https://localhost:8080/"
        },
        "id": "KFydCgNoBBVq",
        "outputId": "b6e927d2-7c8d-458a-c2cb-9197acd7547c"
      },
      "source": [
        "print('Decision Variables')\n",
        "for i in column_indices:\n",
        "  print(df['Drone Model'][i], '=',model.x[i].value)"
      ],
      "execution_count": null,
      "outputs": [
        {
          "output_type": "stream",
          "name": "stdout",
          "text": [
            "Decision Variables\n",
            "MANAS = 10.166667\n",
            "JAY = 0.0\n",
            "VEER = 0.0\n",
            "SPASHT = 0.0\n",
            "DHAKSH = 0.0\n"
          ]
        }
      ]
    },
    {
      "cell_type": "code",
      "metadata": {
        "colab": {
          "base_uri": "https://localhost:8080/"
        },
        "id": "RK7IT0awbpSk",
        "outputId": "0a2dee44-02eb-4fb3-c001-8af4f34be3f1"
      },
      "source": [
        "print('Constraints')\n",
        "model.constraints.display()"
      ],
      "execution_count": null,
      "outputs": [
        {
          "output_type": "stream",
          "name": "stdout",
          "text": [
            "Constraints\n",
            "constraints : Size=14\n",
            "    Key : Lower : Body        : Upper\n",
            "     11 :  None :   61.000002 :  63.0\n",
            "     12 :  None : 43.20833475 :  90.0\n",
            "     13 :  None :   61.000002 :  61.0\n",
            "     14 :  None : 43.20833475 :  91.0\n"
          ]
        }
      ]
    },
    {
      "cell_type": "markdown",
      "metadata": {
        "id": "ERBhv3w_BF-O"
      },
      "source": [
        "Solve MILP"
      ]
    },
    {
      "cell_type": "code",
      "metadata": {
        "colab": {
          "base_uri": "https://localhost:8080/"
        },
        "id": "p4QaOxbobgp1",
        "outputId": "d7bf0cc1-de5f-4457-f126-75b77db3f1da"
      },
      "source": [
        "for i in column_indices:\n",
        "  model.x[i].domain=NonNegativeIntegers\n",
        "model.pprint()"
      ],
      "execution_count": null,
      "outputs": [
        {
          "output_type": "stream",
          "name": "stdout",
          "text": [
            "2 Set Declarations\n",
            "    constraints_index : Size=1, Index=None, Ordered=Insertion\n",
            "        Key  : Dimen : Domain : Size : Members\n",
            "        None :     1 :    Any :   14 : {1, 2, 3, 4, 5, 6, 7, 8, 9, 10, 11, 12, 13, 14}\n",
            "    x_index : Size=1, Index=None, Ordered=False\n",
            "        Key  : Dimen : Domain : Size : Members\n",
            "        None :     1 :    Any :    5 : {0, 1, 2, 3, 4}\n",
            "\n",
            "1 Var Declarations\n",
            "    x : Size=5, Index=x_index\n",
            "        Key : Lower : Value     : Upper : Fixed : Stale : Domain\n",
            "          0 :     0 : 10.166667 :  None : False : False : NonNegativeIntegers\n",
            "          1 :     0 :       0.0 :  None : False : False : NonNegativeIntegers\n",
            "          2 :     0 :       0.0 :  None : False : False : NonNegativeIntegers\n",
            "          3 :     0 :       0.0 :  None : False : False : NonNegativeIntegers\n",
            "          4 :     0 :       0.0 :  None : False : False : NonNegativeIntegers\n",
            "\n",
            "1 Objective Declarations\n",
            "    objective : Size=1, Index=None, Active=True\n",
            "        Key  : Active : Sense    : Expression\n",
            "        None :   True : maximize : 12*x[0] + 14*x[1] + 10*x[2] + 15*x[3] + 14*x[4]\n",
            "\n",
            "1 Constraint Declarations\n",
            "    constraints : Size=14, Index=constraints_index, Active=True\n",
            "        Key : Lower : Body                                                     : Upper : Active\n",
            "          1 :  -Inf :   6.0*x[0] + 7.5*x[1] + 9.5*x[2] + 10.0*x[3] + 12.5*x[4] :  59.0 :  False\n",
            "          2 :  -Inf : 4.25*x[0] + 3.25*x[1] + 2.5*x[2] + 3.45*x[3] + 2.25*x[4] :  73.0 :  False\n",
            "          3 :  -Inf :   6.0*x[0] + 7.5*x[1] + 9.5*x[2] + 10.0*x[3] + 12.5*x[4] :  71.0 :  False\n",
            "          4 :  -Inf : 4.25*x[0] + 3.25*x[1] + 2.5*x[2] + 3.45*x[3] + 2.25*x[4] :  87.0 :  False\n",
            "          5 :  -Inf : 4.25*x[0] + 3.25*x[1] + 2.5*x[2] + 3.45*x[3] + 2.25*x[4] :  87.0 :  False\n",
            "          6 :  -Inf :   6.0*x[0] + 7.5*x[1] + 9.5*x[2] + 10.0*x[3] + 12.5*x[4] :  71.0 :  False\n",
            "          7 :  -Inf :   6.0*x[0] + 7.5*x[1] + 9.5*x[2] + 10.0*x[3] + 12.5*x[4] :  67.0 :  False\n",
            "          8 :  -Inf : 4.25*x[0] + 3.25*x[1] + 2.5*x[2] + 3.45*x[3] + 2.25*x[4] :  88.0 :  False\n",
            "          9 :  -Inf :   6.0*x[0] + 7.5*x[1] + 9.5*x[2] + 10.0*x[3] + 12.5*x[4] :  65.0 :  False\n",
            "         10 :  -Inf : 4.25*x[0] + 3.25*x[1] + 2.5*x[2] + 3.45*x[3] + 2.25*x[4] :  89.0 :  False\n",
            "         11 :  -Inf :   6.0*x[0] + 7.5*x[1] + 9.5*x[2] + 10.0*x[3] + 12.5*x[4] :  63.0 :   True\n",
            "         12 :  -Inf : 4.25*x[0] + 3.25*x[1] + 2.5*x[2] + 3.45*x[3] + 2.25*x[4] :  90.0 :   True\n",
            "         13 :  -Inf :   6.0*x[0] + 7.5*x[1] + 9.5*x[2] + 10.0*x[3] + 12.5*x[4] :  61.0 :   True\n",
            "         14 :  -Inf : 4.25*x[0] + 3.25*x[1] + 2.5*x[2] + 3.45*x[3] + 2.25*x[4] :  91.0 :   True\n",
            "\n",
            "5 Declarations: x_index x objective constraints_index constraints\n"
          ]
        }
      ]
    },
    {
      "cell_type": "code",
      "metadata": {
        "colab": {
          "base_uri": "https://localhost:8080/"
        },
        "id": "Jn-fSiEXBRS5",
        "outputId": "4053bb95-671e-4664-9379-33b45d056b4d"
      },
      "source": [
        "result_3 = opt_cbc.solve(model)\n",
        "print('Solver status:', result_3.solver.status)\n",
        "print('Solver termination condition:',result_3.solver.termination_condition)"
      ],
      "execution_count": null,
      "outputs": [
        {
          "output_type": "stream",
          "name": "stdout",
          "text": [
            "Solver status: ok\n",
            "Solver termination condition: optimal\n"
          ]
        }
      ]
    },
    {
      "cell_type": "code",
      "metadata": {
        "colab": {
          "base_uri": "https://localhost:8080/"
        },
        "id": "Xi9W3v-BBU3h",
        "outputId": "c89dd18d-f896-4bf1-fdca-31968a07d34c"
      },
      "source": [
        "# display solution\n",
        "print('Objective = ', model.objective())"
      ],
      "execution_count": null,
      "outputs": [
        {
          "output_type": "stream",
          "name": "stdout",
          "text": [
            "Objective =  120.0\n"
          ]
        }
      ]
    },
    {
      "cell_type": "code",
      "metadata": {
        "colab": {
          "base_uri": "https://localhost:8080/"
        },
        "id": "8nlj-o9WBaji",
        "outputId": "bca95448-10ce-4724-9782-ab8f8a33745f"
      },
      "source": [
        "print('Decision Variables')\n",
        "for i in column_indices:\n",
        "  print(df['Drone Model'][i],'=', model.x[i].value)"
      ],
      "execution_count": null,
      "outputs": [
        {
          "output_type": "stream",
          "name": "stdout",
          "text": [
            "Decision Variables\n",
            "MANAS = 10.0\n",
            "JAY = 0.0\n",
            "VEER = 0.0\n",
            "SPASHT = 0.0\n",
            "DHAKSH = 0.0\n"
          ]
        }
      ]
    },
    {
      "cell_type": "code",
      "metadata": {
        "colab": {
          "base_uri": "https://localhost:8080/"
        },
        "id": "3_AAUHwpcUbg",
        "outputId": "5070204c-9892-4912-9b2b-bd6d216a1d3f"
      },
      "source": [
        "print('Constraints')\n",
        "model.constraints.display()"
      ],
      "execution_count": null,
      "outputs": [
        {
          "output_type": "stream",
          "name": "stdout",
          "text": [
            "Constraints\n",
            "constraints : Size=14\n",
            "    Key : Lower : Body : Upper\n",
            "     11 :  None : 60.0 :  63.0\n",
            "     12 :  None : 42.5 :  90.0\n",
            "     13 :  None : 60.0 :  61.0\n",
            "     14 :  None : 42.5 :  91.0\n"
          ]
        }
      ]
    },
    {
      "cell_type": "markdown",
      "metadata": {
        "id": "SioAzApcBh8J"
      },
      "source": [
        "As we move from pair 1 to pair 4 the optimal value decreases because we are decreasing the budget.The parking space constaint is not active in any case.Hence,the decrease in parking space is not of concern.Hence the decrease in budget is causing decrease in optimal value."
      ]
    }
  ]
}