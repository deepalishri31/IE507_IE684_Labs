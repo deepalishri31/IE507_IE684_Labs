{
  "nbformat": 4,
  "nbformat_minor": 0,
  "metadata": {
    "colab": {
      "name": "21i190006_Lab05_Ex2.ipynb",
      "provenance": [],
      "collapsed_sections": []
    },
    "kernelspec": {
      "name": "python3",
      "display_name": "Python 3"
    },
    "language_info": {
      "name": "python"
    }
  },
  "cells": [
    {
      "cell_type": "markdown",
      "metadata": {
        "id": "rnDyE7JOCm3-"
      },
      "source": [
        "Exercise 2"
      ]
    },
    {
      "cell_type": "markdown",
      "metadata": {
        "id": "BeBZQx3CcbN3"
      },
      "source": [
        "Here We have to locate 12 factories into 12 locations, such that each location gets one factory. \n",
        "Let $x_{ij}$ is the variable representing assigning or non assigning of location j to factory i .\n",
        "\n",
        "\\begin{equation*}\n",
        "x_{ij}=\\begin{cases}\n",
        "          1 \\quad &\\text{if} \\, \\text{ factory i is located at jth location} \\\\\n",
        "          0 \\quad & \\, \\text{otherwise} \\\\\n",
        "     \\end{cases}\n",
        "\\end{equation*}\n",
        "The costs of setting up factory i at location j are given in the txt file.\n",
        "\n",
        "If $C_{ij}$ is the cost of setting up factory i at location j , then the objective function will be:\n",
        "\n",
        "$$\\ Min \\sum_{i=1}^{12}\\sum_{j=1}^{12}C_{ij}.x_{ij}$$\n",
        "s.t.\n",
        "\n",
        "$$\\sum_{j=1}^{12}x_{ij}=1 \\ for\\ each\\ i \\in \\{1,2,...,12\\}$$\n",
        "\n",
        "\n",
        "$$\\sum_{i=1}^{12}x_{ij} = 1 \\ for\\ each \\ j \\in \\{1,2,...,12\\} $$"
      ]
    },
    {
      "cell_type": "code",
      "metadata": {
        "colab": {
          "base_uri": "https://localhost:8080/"
        },
        "id": "Ca97lSNrcJ14",
        "outputId": "bf4b2be2-15b1-467d-aaf8-ffafe816a7c7"
      },
      "source": [
        "!pip install -q pyomo"
      ],
      "execution_count": 1,
      "outputs": [
        {
          "output_type": "stream",
          "name": "stdout",
          "text": [
            "\u001b[K     |████████████████████████████████| 9.1 MB 5.1 MB/s \n",
            "\u001b[K     |████████████████████████████████| 49 kB 3.6 MB/s \n",
            "\u001b[?25h"
          ]
        }
      ]
    },
    {
      "cell_type": "code",
      "metadata": {
        "id": "57HHsLifg542"
      },
      "source": [
        "from pyomo.environ import * "
      ],
      "execution_count": 2,
      "outputs": []
    },
    {
      "cell_type": "code",
      "metadata": {
        "id": "36kn1er5g7h3"
      },
      "source": [
        "import numpy as np"
      ],
      "execution_count": 3,
      "outputs": []
    },
    {
      "cell_type": "code",
      "metadata": {
        "id": "sUXjZ0bPg823"
      },
      "source": [
        "coef = np.loadtxt('lab5_ex2.txt', delimiter='   ')"
      ],
      "execution_count": 4,
      "outputs": []
    },
    {
      "cell_type": "code",
      "metadata": {
        "colab": {
          "base_uri": "https://localhost:8080/"
        },
        "id": "Xlx8SmWzkPiH",
        "outputId": "a955c78f-8333-49d0-979c-f3976dcf6902"
      },
      "source": [
        "print('No. of rows: ',coef.shape[0])\n",
        "print('No. of Columns: ',coef.shape[1])"
      ],
      "execution_count": 5,
      "outputs": [
        {
          "output_type": "stream",
          "name": "stdout",
          "text": [
            "No. of rows:  12\n",
            "No. of Columns:  12\n"
          ]
        }
      ]
    },
    {
      "cell_type": "code",
      "metadata": {
        "colab": {
          "base_uri": "https://localhost:8080/"
        },
        "id": "tngTLXLblAaT",
        "outputId": "e580ca94-1faf-4820-dad0-b0b721c6d40c"
      },
      "source": [
        "print(coef)"
      ],
      "execution_count": 6,
      "outputs": [
        {
          "output_type": "stream",
          "name": "stdout",
          "text": [
            "[[22. 22. 19. 22. 22. 24. 18. 17. 21. 23. 19. 21.]\n",
            " [18. 12. 18. 19. 22. 21. 17. 20. 16. 17. 17. 24.]\n",
            " [19. 21. 17. 19. 17. 19. 24. 16. 18. 16. 20. 24.]\n",
            " [18. 24. 20. 21. 21. 21. 22. 19. 18. 21. 23. 23.]\n",
            " [23. 20. 19. 18. 20. 23. 22. 25. 24. 19. 21. 23.]\n",
            " [24. 16. 15. 16. 24. 21. 23. 21. 20. 20. 22. 19.]\n",
            " [22. 22. 21. 23. 18. 17. 16. 19. 24. 20. 20. 23.]\n",
            " [23. 17. 17. 17. 22. 24. 23. 20. 22. 19. 23. 21.]\n",
            " [21. 22. 21. 24. 20. 23. 19. 18. 23. 15. 25. 21.]\n",
            " [19. 19. 18. 19. 26. 24. 19. 17. 18. 20. 21. 20.]\n",
            " [20. 22. 23. 20. 22. 20. 20. 19. 17. 19. 20. 24.]\n",
            " [21. 25. 21. 19. 21. 19. 18. 16. 22. 24. 25. 24.]]\n"
          ]
        }
      ]
    },
    {
      "cell_type": "code",
      "metadata": {
        "id": "uO8dXsndlBat"
      },
      "source": [
        "model = ConcreteModel()"
      ],
      "execution_count": 7,
      "outputs": []
    },
    {
      "cell_type": "code",
      "metadata": {
        "id": "ciCFH7Y8lIvq"
      },
      "source": [
        "N = coef.shape[1]\n",
        "M = coef.shape[0]\n",
        "row_indices = np.arange(M)\n",
        "col_indices = np.arange(N)"
      ],
      "execution_count": 8,
      "outputs": []
    },
    {
      "cell_type": "code",
      "metadata": {
        "id": "CrbZT33blh-g"
      },
      "source": [
        "model.x = Var(row_indices,col_indices,domain = Binary)"
      ],
      "execution_count": 9,
      "outputs": []
    },
    {
      "cell_type": "code",
      "metadata": {
        "id": "2Zwwc2X_mI_E"
      },
      "source": [
        "model.constraints = ConstraintList()"
      ],
      "execution_count": 10,
      "outputs": []
    },
    {
      "cell_type": "code",
      "metadata": {
        "id": "ZW4_M3NbmOYy"
      },
      "source": [
        "model.obj = Objective(expr = sum(coef[i,j]*model.x[i,j] for j in col_indices for i in row_indices),sense = minimize)"
      ],
      "execution_count": 11,
      "outputs": []
    },
    {
      "cell_type": "code",
      "metadata": {
        "id": "LMF7cYQ4mrKX"
      },
      "source": [
        "for i in row_indices:\n",
        "  model.constraints.add(sum(model.x[i,j] for j in col_indices)==1)\n",
        "for j in col_indices:\n",
        "  model.constraints.add(sum(model.x[i,j] for i in row_indices)==1)\n"
      ],
      "execution_count": 12,
      "outputs": []
    },
    {
      "cell_type": "code",
      "metadata": {
        "colab": {
          "base_uri": "https://localhost:8080/"
        },
        "id": "FPOo-01onYF2",
        "outputId": "deae9abc-ad48-425d-edee-9e4779499b43"
      },
      "source": [
        "model.pprint()"
      ],
      "execution_count": 13,
      "outputs": [
        {
          "output_type": "stream",
          "name": "stdout",
          "text": [
            "4 Set Declarations\n",
            "    constraints_index : Size=1, Index=None, Ordered=Insertion\n",
            "        Key  : Dimen : Domain : Size : Members\n",
            "        None :     1 :    Any :   24 : {1, 2, 3, 4, 5, 6, 7, 8, 9, 10, 11, 12, 13, 14, 15, 16, 17, 18, 19, 20, 21, 22, 23, 24}\n",
            "    x_index : Size=1, Index=None, Ordered=False\n",
            "        Key  : Dimen : Domain              : Size : Members\n",
            "        None :     2 : x_index_0*x_index_1 :  144 : {(0, 0), (0, 1), (0, 2), (0, 3), (0, 4), (0, 5), (0, 6), (0, 7), (0, 8), (0, 9), (0, 10), (0, 11), (1, 0), (1, 1), (1, 2), (1, 3), (1, 4), (1, 5), (1, 6), (1, 7), (1, 8), (1, 9), (1, 10), (1, 11), (2, 0), (2, 1), (2, 2), (2, 3), (2, 4), (2, 5), (2, 6), (2, 7), (2, 8), (2, 9), (2, 10), (2, 11), (3, 0), (3, 1), (3, 2), (3, 3), (3, 4), (3, 5), (3, 6), (3, 7), (3, 8), (3, 9), (3, 10), (3, 11), (4, 0), (4, 1), (4, 2), (4, 3), (4, 4), (4, 5), (4, 6), (4, 7), (4, 8), (4, 9), (4, 10), (4, 11), (5, 0), (5, 1), (5, 2), (5, 3), (5, 4), (5, 5), (5, 6), (5, 7), (5, 8), (5, 9), (5, 10), (5, 11), (6, 0), (6, 1), (6, 2), (6, 3), (6, 4), (6, 5), (6, 6), (6, 7), (6, 8), (6, 9), (6, 10), (6, 11), (7, 0), (7, 1), (7, 2), (7, 3), (7, 4), (7, 5), (7, 6), (7, 7), (7, 8), (7, 9), (7, 10), (7, 11), (8, 0), (8, 1), (8, 2), (8, 3), (8, 4), (8, 5), (8, 6), (8, 7), (8, 8), (8, 9), (8, 10), (8, 11), (9, 0), (9, 1), (9, 2), (9, 3), (9, 4), (9, 5), (9, 6), (9, 7), (9, 8), (9, 9), (9, 10), (9, 11), (10, 0), (10, 1), (10, 2), (10, 3), (10, 4), (10, 5), (10, 6), (10, 7), (10, 8), (10, 9), (10, 10), (10, 11), (11, 0), (11, 1), (11, 2), (11, 3), (11, 4), (11, 5), (11, 6), (11, 7), (11, 8), (11, 9), (11, 10), (11, 11)}\n",
            "    x_index_0 : Size=1, Index=None, Ordered=False\n",
            "        Key  : Dimen : Domain : Size : Members\n",
            "        None :     1 :    Any :   12 : {0, 1, 2, 3, 4, 5, 6, 7, 8, 9, 10, 11}\n",
            "    x_index_1 : Size=1, Index=None, Ordered=False\n",
            "        Key  : Dimen : Domain : Size : Members\n",
            "        None :     1 :    Any :   12 : {0, 1, 2, 3, 4, 5, 6, 7, 8, 9, 10, 11}\n",
            "\n",
            "1 Var Declarations\n",
            "    x : Size=144, Index=x_index\n",
            "        Key      : Lower : Value : Upper : Fixed : Stale : Domain\n",
            "          (0, 0) :     0 :  None :     1 : False :  True : Binary\n",
            "          (0, 1) :     0 :  None :     1 : False :  True : Binary\n",
            "          (0, 2) :     0 :  None :     1 : False :  True : Binary\n",
            "          (0, 3) :     0 :  None :     1 : False :  True : Binary\n",
            "          (0, 4) :     0 :  None :     1 : False :  True : Binary\n",
            "          (0, 5) :     0 :  None :     1 : False :  True : Binary\n",
            "          (0, 6) :     0 :  None :     1 : False :  True : Binary\n",
            "          (0, 7) :     0 :  None :     1 : False :  True : Binary\n",
            "          (0, 8) :     0 :  None :     1 : False :  True : Binary\n",
            "          (0, 9) :     0 :  None :     1 : False :  True : Binary\n",
            "         (0, 10) :     0 :  None :     1 : False :  True : Binary\n",
            "         (0, 11) :     0 :  None :     1 : False :  True : Binary\n",
            "          (1, 0) :     0 :  None :     1 : False :  True : Binary\n",
            "          (1, 1) :     0 :  None :     1 : False :  True : Binary\n",
            "          (1, 2) :     0 :  None :     1 : False :  True : Binary\n",
            "          (1, 3) :     0 :  None :     1 : False :  True : Binary\n",
            "          (1, 4) :     0 :  None :     1 : False :  True : Binary\n",
            "          (1, 5) :     0 :  None :     1 : False :  True : Binary\n",
            "          (1, 6) :     0 :  None :     1 : False :  True : Binary\n",
            "          (1, 7) :     0 :  None :     1 : False :  True : Binary\n",
            "          (1, 8) :     0 :  None :     1 : False :  True : Binary\n",
            "          (1, 9) :     0 :  None :     1 : False :  True : Binary\n",
            "         (1, 10) :     0 :  None :     1 : False :  True : Binary\n",
            "         (1, 11) :     0 :  None :     1 : False :  True : Binary\n",
            "          (2, 0) :     0 :  None :     1 : False :  True : Binary\n",
            "          (2, 1) :     0 :  None :     1 : False :  True : Binary\n",
            "          (2, 2) :     0 :  None :     1 : False :  True : Binary\n",
            "          (2, 3) :     0 :  None :     1 : False :  True : Binary\n",
            "          (2, 4) :     0 :  None :     1 : False :  True : Binary\n",
            "          (2, 5) :     0 :  None :     1 : False :  True : Binary\n",
            "          (2, 6) :     0 :  None :     1 : False :  True : Binary\n",
            "          (2, 7) :     0 :  None :     1 : False :  True : Binary\n",
            "          (2, 8) :     0 :  None :     1 : False :  True : Binary\n",
            "          (2, 9) :     0 :  None :     1 : False :  True : Binary\n",
            "         (2, 10) :     0 :  None :     1 : False :  True : Binary\n",
            "         (2, 11) :     0 :  None :     1 : False :  True : Binary\n",
            "          (3, 0) :     0 :  None :     1 : False :  True : Binary\n",
            "          (3, 1) :     0 :  None :     1 : False :  True : Binary\n",
            "          (3, 2) :     0 :  None :     1 : False :  True : Binary\n",
            "          (3, 3) :     0 :  None :     1 : False :  True : Binary\n",
            "          (3, 4) :     0 :  None :     1 : False :  True : Binary\n",
            "          (3, 5) :     0 :  None :     1 : False :  True : Binary\n",
            "          (3, 6) :     0 :  None :     1 : False :  True : Binary\n",
            "          (3, 7) :     0 :  None :     1 : False :  True : Binary\n",
            "          (3, 8) :     0 :  None :     1 : False :  True : Binary\n",
            "          (3, 9) :     0 :  None :     1 : False :  True : Binary\n",
            "         (3, 10) :     0 :  None :     1 : False :  True : Binary\n",
            "         (3, 11) :     0 :  None :     1 : False :  True : Binary\n",
            "          (4, 0) :     0 :  None :     1 : False :  True : Binary\n",
            "          (4, 1) :     0 :  None :     1 : False :  True : Binary\n",
            "          (4, 2) :     0 :  None :     1 : False :  True : Binary\n",
            "          (4, 3) :     0 :  None :     1 : False :  True : Binary\n",
            "          (4, 4) :     0 :  None :     1 : False :  True : Binary\n",
            "          (4, 5) :     0 :  None :     1 : False :  True : Binary\n",
            "          (4, 6) :     0 :  None :     1 : False :  True : Binary\n",
            "          (4, 7) :     0 :  None :     1 : False :  True : Binary\n",
            "          (4, 8) :     0 :  None :     1 : False :  True : Binary\n",
            "          (4, 9) :     0 :  None :     1 : False :  True : Binary\n",
            "         (4, 10) :     0 :  None :     1 : False :  True : Binary\n",
            "         (4, 11) :     0 :  None :     1 : False :  True : Binary\n",
            "          (5, 0) :     0 :  None :     1 : False :  True : Binary\n",
            "          (5, 1) :     0 :  None :     1 : False :  True : Binary\n",
            "          (5, 2) :     0 :  None :     1 : False :  True : Binary\n",
            "          (5, 3) :     0 :  None :     1 : False :  True : Binary\n",
            "          (5, 4) :     0 :  None :     1 : False :  True : Binary\n",
            "          (5, 5) :     0 :  None :     1 : False :  True : Binary\n",
            "          (5, 6) :     0 :  None :     1 : False :  True : Binary\n",
            "          (5, 7) :     0 :  None :     1 : False :  True : Binary\n",
            "          (5, 8) :     0 :  None :     1 : False :  True : Binary\n",
            "          (5, 9) :     0 :  None :     1 : False :  True : Binary\n",
            "         (5, 10) :     0 :  None :     1 : False :  True : Binary\n",
            "         (5, 11) :     0 :  None :     1 : False :  True : Binary\n",
            "          (6, 0) :     0 :  None :     1 : False :  True : Binary\n",
            "          (6, 1) :     0 :  None :     1 : False :  True : Binary\n",
            "          (6, 2) :     0 :  None :     1 : False :  True : Binary\n",
            "          (6, 3) :     0 :  None :     1 : False :  True : Binary\n",
            "          (6, 4) :     0 :  None :     1 : False :  True : Binary\n",
            "          (6, 5) :     0 :  None :     1 : False :  True : Binary\n",
            "          (6, 6) :     0 :  None :     1 : False :  True : Binary\n",
            "          (6, 7) :     0 :  None :     1 : False :  True : Binary\n",
            "          (6, 8) :     0 :  None :     1 : False :  True : Binary\n",
            "          (6, 9) :     0 :  None :     1 : False :  True : Binary\n",
            "         (6, 10) :     0 :  None :     1 : False :  True : Binary\n",
            "         (6, 11) :     0 :  None :     1 : False :  True : Binary\n",
            "          (7, 0) :     0 :  None :     1 : False :  True : Binary\n",
            "          (7, 1) :     0 :  None :     1 : False :  True : Binary\n",
            "          (7, 2) :     0 :  None :     1 : False :  True : Binary\n",
            "          (7, 3) :     0 :  None :     1 : False :  True : Binary\n",
            "          (7, 4) :     0 :  None :     1 : False :  True : Binary\n",
            "          (7, 5) :     0 :  None :     1 : False :  True : Binary\n",
            "          (7, 6) :     0 :  None :     1 : False :  True : Binary\n",
            "          (7, 7) :     0 :  None :     1 : False :  True : Binary\n",
            "          (7, 8) :     0 :  None :     1 : False :  True : Binary\n",
            "          (7, 9) :     0 :  None :     1 : False :  True : Binary\n",
            "         (7, 10) :     0 :  None :     1 : False :  True : Binary\n",
            "         (7, 11) :     0 :  None :     1 : False :  True : Binary\n",
            "          (8, 0) :     0 :  None :     1 : False :  True : Binary\n",
            "          (8, 1) :     0 :  None :     1 : False :  True : Binary\n",
            "          (8, 2) :     0 :  None :     1 : False :  True : Binary\n",
            "          (8, 3) :     0 :  None :     1 : False :  True : Binary\n",
            "          (8, 4) :     0 :  None :     1 : False :  True : Binary\n",
            "          (8, 5) :     0 :  None :     1 : False :  True : Binary\n",
            "          (8, 6) :     0 :  None :     1 : False :  True : Binary\n",
            "          (8, 7) :     0 :  None :     1 : False :  True : Binary\n",
            "          (8, 8) :     0 :  None :     1 : False :  True : Binary\n",
            "          (8, 9) :     0 :  None :     1 : False :  True : Binary\n",
            "         (8, 10) :     0 :  None :     1 : False :  True : Binary\n",
            "         (8, 11) :     0 :  None :     1 : False :  True : Binary\n",
            "          (9, 0) :     0 :  None :     1 : False :  True : Binary\n",
            "          (9, 1) :     0 :  None :     1 : False :  True : Binary\n",
            "          (9, 2) :     0 :  None :     1 : False :  True : Binary\n",
            "          (9, 3) :     0 :  None :     1 : False :  True : Binary\n",
            "          (9, 4) :     0 :  None :     1 : False :  True : Binary\n",
            "          (9, 5) :     0 :  None :     1 : False :  True : Binary\n",
            "          (9, 6) :     0 :  None :     1 : False :  True : Binary\n",
            "          (9, 7) :     0 :  None :     1 : False :  True : Binary\n",
            "          (9, 8) :     0 :  None :     1 : False :  True : Binary\n",
            "          (9, 9) :     0 :  None :     1 : False :  True : Binary\n",
            "         (9, 10) :     0 :  None :     1 : False :  True : Binary\n",
            "         (9, 11) :     0 :  None :     1 : False :  True : Binary\n",
            "         (10, 0) :     0 :  None :     1 : False :  True : Binary\n",
            "         (10, 1) :     0 :  None :     1 : False :  True : Binary\n",
            "         (10, 2) :     0 :  None :     1 : False :  True : Binary\n",
            "         (10, 3) :     0 :  None :     1 : False :  True : Binary\n",
            "         (10, 4) :     0 :  None :     1 : False :  True : Binary\n",
            "         (10, 5) :     0 :  None :     1 : False :  True : Binary\n",
            "         (10, 6) :     0 :  None :     1 : False :  True : Binary\n",
            "         (10, 7) :     0 :  None :     1 : False :  True : Binary\n",
            "         (10, 8) :     0 :  None :     1 : False :  True : Binary\n",
            "         (10, 9) :     0 :  None :     1 : False :  True : Binary\n",
            "        (10, 10) :     0 :  None :     1 : False :  True : Binary\n",
            "        (10, 11) :     0 :  None :     1 : False :  True : Binary\n",
            "         (11, 0) :     0 :  None :     1 : False :  True : Binary\n",
            "         (11, 1) :     0 :  None :     1 : False :  True : Binary\n",
            "         (11, 2) :     0 :  None :     1 : False :  True : Binary\n",
            "         (11, 3) :     0 :  None :     1 : False :  True : Binary\n",
            "         (11, 4) :     0 :  None :     1 : False :  True : Binary\n",
            "         (11, 5) :     0 :  None :     1 : False :  True : Binary\n",
            "         (11, 6) :     0 :  None :     1 : False :  True : Binary\n",
            "         (11, 7) :     0 :  None :     1 : False :  True : Binary\n",
            "         (11, 8) :     0 :  None :     1 : False :  True : Binary\n",
            "         (11, 9) :     0 :  None :     1 : False :  True : Binary\n",
            "        (11, 10) :     0 :  None :     1 : False :  True : Binary\n",
            "        (11, 11) :     0 :  None :     1 : False :  True : Binary\n",
            "\n",
            "1 Objective Declarations\n",
            "    obj : Size=1, Index=None, Active=True\n",
            "        Key  : Active : Sense    : Expression\n",
            "        None :   True : minimize : 22.0*x[0,0] + 18.0*x[1,0] + 19.0*x[2,0] + 18.0*x[3,0] + 23.0*x[4,0] + 24.0*x[5,0] + 22.0*x[6,0] + 23.0*x[7,0] + 21.0*x[8,0] + 19.0*x[9,0] + 20.0*x[10,0] + 21.0*x[11,0] + 22.0*x[0,1] + 12.0*x[1,1] + 21.0*x[2,1] + 24.0*x[3,1] + 20.0*x[4,1] + 16.0*x[5,1] + 22.0*x[6,1] + 17.0*x[7,1] + 22.0*x[8,1] + 19.0*x[9,1] + 22.0*x[10,1] + 25.0*x[11,1] + 19.0*x[0,2] + 18.0*x[1,2] + 17.0*x[2,2] + 20.0*x[3,2] + 19.0*x[4,2] + 15.0*x[5,2] + 21.0*x[6,2] + 17.0*x[7,2] + 21.0*x[8,2] + 18.0*x[9,2] + 23.0*x[10,2] + 21.0*x[11,2] + 22.0*x[0,3] + 19.0*x[1,3] + 19.0*x[2,3] + 21.0*x[3,3] + 18.0*x[4,3] + 16.0*x[5,3] + 23.0*x[6,3] + 17.0*x[7,3] + 24.0*x[8,3] + 19.0*x[9,3] + 20.0*x[10,3] + 19.0*x[11,3] + 22.0*x[0,4] + 22.0*x[1,4] + 17.0*x[2,4] + 21.0*x[3,4] + 20.0*x[4,4] + 24.0*x[5,4] + 18.0*x[6,4] + 22.0*x[7,4] + 20.0*x[8,4] + 26.0*x[9,4] + 22.0*x[10,4] + 21.0*x[11,4] + 24.0*x[0,5] + 21.0*x[1,5] + 19.0*x[2,5] + 21.0*x[3,5] + 23.0*x[4,5] + 21.0*x[5,5] + 17.0*x[6,5] + 24.0*x[7,5] + 23.0*x[8,5] + 24.0*x[9,5] + 20.0*x[10,5] + 19.0*x[11,5] + 18.0*x[0,6] + 17.0*x[1,6] + 24.0*x[2,6] + 22.0*x[3,6] + 22.0*x[4,6] + 23.0*x[5,6] + 16.0*x[6,6] + 23.0*x[7,6] + 19.0*x[8,6] + 19.0*x[9,6] + 20.0*x[10,6] + 18.0*x[11,6] + 17.0*x[0,7] + 20.0*x[1,7] + 16.0*x[2,7] + 19.0*x[3,7] + 25.0*x[4,7] + 21.0*x[5,7] + 19.0*x[6,7] + 20.0*x[7,7] + 18.0*x[8,7] + 17.0*x[9,7] + 19.0*x[10,7] + 16.0*x[11,7] + 21.0*x[0,8] + 16.0*x[1,8] + 18.0*x[2,8] + 18.0*x[3,8] + 24.0*x[4,8] + 20.0*x[5,8] + 24.0*x[6,8] + 22.0*x[7,8] + 23.0*x[8,8] + 18.0*x[9,8] + 17.0*x[10,8] + 22.0*x[11,8] + 23.0*x[0,9] + 17.0*x[1,9] + 16.0*x[2,9] + 21.0*x[3,9] + 19.0*x[4,9] + 20.0*x[5,9] + 20.0*x[6,9] + 19.0*x[7,9] + 15.0*x[8,9] + 20.0*x[9,9] + 19.0*x[10,9] + 24.0*x[11,9] + 19.0*x[0,10] + 17.0*x[1,10] + 20.0*x[2,10] + 23.0*x[3,10] + 21.0*x[4,10] + 22.0*x[5,10] + 20.0*x[6,10] + 23.0*x[7,10] + 25.0*x[8,10] + 21.0*x[9,10] + 20.0*x[10,10] + 25.0*x[11,10] + 21.0*x[0,11] + 24.0*x[1,11] + 24.0*x[2,11] + 23.0*x[3,11] + 23.0*x[4,11] + 19.0*x[5,11] + 23.0*x[6,11] + 21.0*x[7,11] + 21.0*x[8,11] + 20.0*x[9,11] + 24.0*x[10,11] + 24.0*x[11,11]\n",
            "\n",
            "1 Constraint Declarations\n",
            "    constraints : Size=24, Index=constraints_index, Active=True\n",
            "        Key : Lower : Body                                                                                                                    : Upper : Active\n",
            "          1 :   1.0 :             x[0,0] + x[0,1] + x[0,2] + x[0,3] + x[0,4] + x[0,5] + x[0,6] + x[0,7] + x[0,8] + x[0,9] + x[0,10] + x[0,11] :   1.0 :   True\n",
            "          2 :   1.0 :             x[1,0] + x[1,1] + x[1,2] + x[1,3] + x[1,4] + x[1,5] + x[1,6] + x[1,7] + x[1,8] + x[1,9] + x[1,10] + x[1,11] :   1.0 :   True\n",
            "          3 :   1.0 :             x[2,0] + x[2,1] + x[2,2] + x[2,3] + x[2,4] + x[2,5] + x[2,6] + x[2,7] + x[2,8] + x[2,9] + x[2,10] + x[2,11] :   1.0 :   True\n",
            "          4 :   1.0 :             x[3,0] + x[3,1] + x[3,2] + x[3,3] + x[3,4] + x[3,5] + x[3,6] + x[3,7] + x[3,8] + x[3,9] + x[3,10] + x[3,11] :   1.0 :   True\n",
            "          5 :   1.0 :             x[4,0] + x[4,1] + x[4,2] + x[4,3] + x[4,4] + x[4,5] + x[4,6] + x[4,7] + x[4,8] + x[4,9] + x[4,10] + x[4,11] :   1.0 :   True\n",
            "          6 :   1.0 :             x[5,0] + x[5,1] + x[5,2] + x[5,3] + x[5,4] + x[5,5] + x[5,6] + x[5,7] + x[5,8] + x[5,9] + x[5,10] + x[5,11] :   1.0 :   True\n",
            "          7 :   1.0 :             x[6,0] + x[6,1] + x[6,2] + x[6,3] + x[6,4] + x[6,5] + x[6,6] + x[6,7] + x[6,8] + x[6,9] + x[6,10] + x[6,11] :   1.0 :   True\n",
            "          8 :   1.0 :             x[7,0] + x[7,1] + x[7,2] + x[7,3] + x[7,4] + x[7,5] + x[7,6] + x[7,7] + x[7,8] + x[7,9] + x[7,10] + x[7,11] :   1.0 :   True\n",
            "          9 :   1.0 :             x[8,0] + x[8,1] + x[8,2] + x[8,3] + x[8,4] + x[8,5] + x[8,6] + x[8,7] + x[8,8] + x[8,9] + x[8,10] + x[8,11] :   1.0 :   True\n",
            "         10 :   1.0 :             x[9,0] + x[9,1] + x[9,2] + x[9,3] + x[9,4] + x[9,5] + x[9,6] + x[9,7] + x[9,8] + x[9,9] + x[9,10] + x[9,11] :   1.0 :   True\n",
            "         11 :   1.0 : x[10,0] + x[10,1] + x[10,2] + x[10,3] + x[10,4] + x[10,5] + x[10,6] + x[10,7] + x[10,8] + x[10,9] + x[10,10] + x[10,11] :   1.0 :   True\n",
            "         12 :   1.0 : x[11,0] + x[11,1] + x[11,2] + x[11,3] + x[11,4] + x[11,5] + x[11,6] + x[11,7] + x[11,8] + x[11,9] + x[11,10] + x[11,11] :   1.0 :   True\n",
            "         13 :   1.0 :             x[0,0] + x[1,0] + x[2,0] + x[3,0] + x[4,0] + x[5,0] + x[6,0] + x[7,0] + x[8,0] + x[9,0] + x[10,0] + x[11,0] :   1.0 :   True\n",
            "         14 :   1.0 :             x[0,1] + x[1,1] + x[2,1] + x[3,1] + x[4,1] + x[5,1] + x[6,1] + x[7,1] + x[8,1] + x[9,1] + x[10,1] + x[11,1] :   1.0 :   True\n",
            "         15 :   1.0 :             x[0,2] + x[1,2] + x[2,2] + x[3,2] + x[4,2] + x[5,2] + x[6,2] + x[7,2] + x[8,2] + x[9,2] + x[10,2] + x[11,2] :   1.0 :   True\n",
            "         16 :   1.0 :             x[0,3] + x[1,3] + x[2,3] + x[3,3] + x[4,3] + x[5,3] + x[6,3] + x[7,3] + x[8,3] + x[9,3] + x[10,3] + x[11,3] :   1.0 :   True\n",
            "         17 :   1.0 :             x[0,4] + x[1,4] + x[2,4] + x[3,4] + x[4,4] + x[5,4] + x[6,4] + x[7,4] + x[8,4] + x[9,4] + x[10,4] + x[11,4] :   1.0 :   True\n",
            "         18 :   1.0 :             x[0,5] + x[1,5] + x[2,5] + x[3,5] + x[4,5] + x[5,5] + x[6,5] + x[7,5] + x[8,5] + x[9,5] + x[10,5] + x[11,5] :   1.0 :   True\n",
            "         19 :   1.0 :             x[0,6] + x[1,6] + x[2,6] + x[3,6] + x[4,6] + x[5,6] + x[6,6] + x[7,6] + x[8,6] + x[9,6] + x[10,6] + x[11,6] :   1.0 :   True\n",
            "         20 :   1.0 :             x[0,7] + x[1,7] + x[2,7] + x[3,7] + x[4,7] + x[5,7] + x[6,7] + x[7,7] + x[8,7] + x[9,7] + x[10,7] + x[11,7] :   1.0 :   True\n",
            "         21 :   1.0 :             x[0,8] + x[1,8] + x[2,8] + x[3,8] + x[4,8] + x[5,8] + x[6,8] + x[7,8] + x[8,8] + x[9,8] + x[10,8] + x[11,8] :   1.0 :   True\n",
            "         22 :   1.0 :             x[0,9] + x[1,9] + x[2,9] + x[3,9] + x[4,9] + x[5,9] + x[6,9] + x[7,9] + x[8,9] + x[9,9] + x[10,9] + x[11,9] :   1.0 :   True\n",
            "         23 :   1.0 : x[0,10] + x[1,10] + x[2,10] + x[3,10] + x[4,10] + x[5,10] + x[6,10] + x[7,10] + x[8,10] + x[9,10] + x[10,10] + x[11,10] :   1.0 :   True\n",
            "         24 :   1.0 : x[0,11] + x[1,11] + x[2,11] + x[3,11] + x[4,11] + x[5,11] + x[6,11] + x[7,11] + x[8,11] + x[9,11] + x[10,11] + x[11,11] :   1.0 :   True\n",
            "\n",
            "7 Declarations: x_index_0 x_index_1 x_index x constraints_index constraints obj\n"
          ]
        }
      ]
    },
    {
      "cell_type": "code",
      "metadata": {
        "colab": {
          "base_uri": "https://localhost:8080/"
        },
        "id": "bIEaozg3nZq4",
        "outputId": "097bbe48-4617-4397-daf8-b9e2eb7bef6b"
      },
      "source": [
        "!apt-get install -y -qq coinor-cbc"
      ],
      "execution_count": 14,
      "outputs": [
        {
          "output_type": "stream",
          "name": "stdout",
          "text": [
            "Selecting previously unselected package coinor-libcoinutils3v5.\n",
            "(Reading database ... 155047 files and directories currently installed.)\n",
            "Preparing to unpack .../0-coinor-libcoinutils3v5_2.10.14+repack1-1_amd64.deb ...\n",
            "Unpacking coinor-libcoinutils3v5 (2.10.14+repack1-1) ...\n",
            "Selecting previously unselected package coinor-libosi1v5.\n",
            "Preparing to unpack .../1-coinor-libosi1v5_0.107.9+repack1-1_amd64.deb ...\n",
            "Unpacking coinor-libosi1v5 (0.107.9+repack1-1) ...\n",
            "Selecting previously unselected package coinor-libclp1.\n",
            "Preparing to unpack .../2-coinor-libclp1_1.16.11+repack1-1_amd64.deb ...\n",
            "Unpacking coinor-libclp1 (1.16.11+repack1-1) ...\n",
            "Selecting previously unselected package coinor-libcgl1.\n",
            "Preparing to unpack .../3-coinor-libcgl1_0.59.10+repack1-1_amd64.deb ...\n",
            "Unpacking coinor-libcgl1 (0.59.10+repack1-1) ...\n",
            "Selecting previously unselected package coinor-libcbc3.\n",
            "Preparing to unpack .../4-coinor-libcbc3_2.9.9+repack1-1_amd64.deb ...\n",
            "Unpacking coinor-libcbc3 (2.9.9+repack1-1) ...\n",
            "Selecting previously unselected package coinor-cbc.\n",
            "Preparing to unpack .../5-coinor-cbc_2.9.9+repack1-1_amd64.deb ...\n",
            "Unpacking coinor-cbc (2.9.9+repack1-1) ...\n",
            "Setting up coinor-libcoinutils3v5 (2.10.14+repack1-1) ...\n",
            "Setting up coinor-libosi1v5 (0.107.9+repack1-1) ...\n",
            "Setting up coinor-libclp1 (1.16.11+repack1-1) ...\n",
            "Setting up coinor-libcgl1 (0.59.10+repack1-1) ...\n",
            "Setting up coinor-libcbc3 (2.9.9+repack1-1) ...\n",
            "Setting up coinor-cbc (2.9.9+repack1-1) ...\n",
            "Processing triggers for man-db (2.8.3-2ubuntu0.1) ...\n",
            "Processing triggers for libc-bin (2.27-3ubuntu1.3) ...\n",
            "/sbin/ldconfig.real: /usr/local/lib/python3.7/dist-packages/ideep4py/lib/libmkldnn.so.0 is not a symbolic link\n",
            "\n"
          ]
        }
      ]
    },
    {
      "cell_type": "code",
      "metadata": {
        "id": "iI3TrG6lnpQy"
      },
      "source": [
        "opt_cbc = SolverFactory('cbc')"
      ],
      "execution_count": 15,
      "outputs": []
    },
    {
      "cell_type": "code",
      "metadata": {
        "colab": {
          "base_uri": "https://localhost:8080/"
        },
        "id": "Q1tNP9VanrZ-",
        "outputId": "6f77d648-1b90-4196-e63f-c95e43da3b39"
      },
      "source": [
        "result = opt_cbc.solve(model)\n",
        "print('Solver status:', result.solver.status)\n",
        "print('Solver termination condition:',result.solver.termination_condition)"
      ],
      "execution_count": 16,
      "outputs": [
        {
          "output_type": "stream",
          "name": "stdout",
          "text": [
            "Solver status: ok\n",
            "Solver termination condition: optimal\n"
          ]
        }
      ]
    },
    {
      "cell_type": "code",
      "metadata": {
        "colab": {
          "base_uri": "https://localhost:8080/"
        },
        "id": "Phhz3h1zCu2V",
        "outputId": "abea3d93-e2ca-4059-b0f6-96422704a237"
      },
      "source": [
        "# displaying the solution:\n",
        "print('Objective Cost of setting up the factories = ', model.obj())"
      ],
      "execution_count": 17,
      "outputs": [
        {
          "output_type": "stream",
          "name": "stdout",
          "text": [
            "Objective Cost of setting up the factories =  203.0\n"
          ]
        }
      ]
    },
    {
      "cell_type": "code",
      "metadata": {
        "colab": {
          "base_uri": "https://localhost:8080/"
        },
        "id": "uFqkZtcGn44B",
        "outputId": "c0a83db0-b52b-432b-eb4d-d5cb71798ca7"
      },
      "source": [
        "for i in row_indices:\n",
        "  for j in col_indices:\n",
        "    if model.x[i,j].value > 0:\n",
        "      print('The factory ',i+1,'is located at location ',j+1)\n",
        "    else:\n",
        "      pass"
      ],
      "execution_count": 20,
      "outputs": [
        {
          "output_type": "stream",
          "name": "stdout",
          "text": [
            "The factory  1 is located at location  7\n",
            "The factory  2 is located at location  2\n",
            "The factory  3 is located at location  5\n",
            "The factory  4 is located at location  1\n",
            "The factory  5 is located at location  11\n",
            "The factory  6 is located at location  3\n",
            "The factory  7 is located at location  6\n",
            "The factory  8 is located at location  4\n",
            "The factory  9 is located at location  10\n",
            "The factory  10 is located at location  12\n",
            "The factory  11 is located at location  9\n",
            "The factory  12 is located at location  8\n"
          ]
        }
      ]
    },
    {
      "cell_type": "markdown",
      "metadata": {
        "id": "2qH9pev1o3Jo"
      },
      "source": [
        "Q-10. Changing the integer variables to the real domain variables:"
      ]
    },
    {
      "cell_type": "code",
      "metadata": {
        "id": "9xwnpbpjpCTY"
      },
      "source": [
        "for i in row_indices:\n",
        "  for j in col_indices:\n",
        "    model.x[i,j].domain = Reals"
      ],
      "execution_count": 21,
      "outputs": []
    },
    {
      "cell_type": "code",
      "metadata": {
        "id": "9DZcBGW3p0n1"
      },
      "source": [
        "#defining upper and lower bounds:\n",
        "lower_bound = 0\n",
        "upper_bound = 1"
      ],
      "execution_count": 22,
      "outputs": []
    },
    {
      "cell_type": "code",
      "metadata": {
        "id": "mLg8aPh5qBph"
      },
      "source": [
        "#setting lower and upper bounds:\n",
        "for i in row_indices:\n",
        "  for j in col_indices:\n",
        "    model.x[i,j].setlb(lower_bound)\n",
        "    model.x[i,j].setub(upper_bound)\n"
      ],
      "execution_count": 23,
      "outputs": []
    },
    {
      "cell_type": "code",
      "metadata": {
        "colab": {
          "base_uri": "https://localhost:8080/"
        },
        "id": "F4uA6t62qXOj",
        "outputId": "232eb872-11be-474d-9356-33754f2a9e4a"
      },
      "source": [
        "model.pprint()"
      ],
      "execution_count": 24,
      "outputs": [
        {
          "output_type": "stream",
          "name": "stdout",
          "text": [
            "4 Set Declarations\n",
            "    constraints_index : Size=1, Index=None, Ordered=Insertion\n",
            "        Key  : Dimen : Domain : Size : Members\n",
            "        None :     1 :    Any :   24 : {1, 2, 3, 4, 5, 6, 7, 8, 9, 10, 11, 12, 13, 14, 15, 16, 17, 18, 19, 20, 21, 22, 23, 24}\n",
            "    x_index : Size=1, Index=None, Ordered=False\n",
            "        Key  : Dimen : Domain              : Size : Members\n",
            "        None :     2 : x_index_0*x_index_1 :  144 : {(0, 0), (0, 1), (0, 2), (0, 3), (0, 4), (0, 5), (0, 6), (0, 7), (0, 8), (0, 9), (0, 10), (0, 11), (1, 0), (1, 1), (1, 2), (1, 3), (1, 4), (1, 5), (1, 6), (1, 7), (1, 8), (1, 9), (1, 10), (1, 11), (2, 0), (2, 1), (2, 2), (2, 3), (2, 4), (2, 5), (2, 6), (2, 7), (2, 8), (2, 9), (2, 10), (2, 11), (3, 0), (3, 1), (3, 2), (3, 3), (3, 4), (3, 5), (3, 6), (3, 7), (3, 8), (3, 9), (3, 10), (3, 11), (4, 0), (4, 1), (4, 2), (4, 3), (4, 4), (4, 5), (4, 6), (4, 7), (4, 8), (4, 9), (4, 10), (4, 11), (5, 0), (5, 1), (5, 2), (5, 3), (5, 4), (5, 5), (5, 6), (5, 7), (5, 8), (5, 9), (5, 10), (5, 11), (6, 0), (6, 1), (6, 2), (6, 3), (6, 4), (6, 5), (6, 6), (6, 7), (6, 8), (6, 9), (6, 10), (6, 11), (7, 0), (7, 1), (7, 2), (7, 3), (7, 4), (7, 5), (7, 6), (7, 7), (7, 8), (7, 9), (7, 10), (7, 11), (8, 0), (8, 1), (8, 2), (8, 3), (8, 4), (8, 5), (8, 6), (8, 7), (8, 8), (8, 9), (8, 10), (8, 11), (9, 0), (9, 1), (9, 2), (9, 3), (9, 4), (9, 5), (9, 6), (9, 7), (9, 8), (9, 9), (9, 10), (9, 11), (10, 0), (10, 1), (10, 2), (10, 3), (10, 4), (10, 5), (10, 6), (10, 7), (10, 8), (10, 9), (10, 10), (10, 11), (11, 0), (11, 1), (11, 2), (11, 3), (11, 4), (11, 5), (11, 6), (11, 7), (11, 8), (11, 9), (11, 10), (11, 11)}\n",
            "    x_index_0 : Size=1, Index=None, Ordered=False\n",
            "        Key  : Dimen : Domain : Size : Members\n",
            "        None :     1 :    Any :   12 : {0, 1, 2, 3, 4, 5, 6, 7, 8, 9, 10, 11}\n",
            "    x_index_1 : Size=1, Index=None, Ordered=False\n",
            "        Key  : Dimen : Domain : Size : Members\n",
            "        None :     1 :    Any :   12 : {0, 1, 2, 3, 4, 5, 6, 7, 8, 9, 10, 11}\n",
            "\n",
            "1 Var Declarations\n",
            "    x : Size=144, Index=x_index\n",
            "        Key      : Lower : Value : Upper : Fixed : Stale : Domain\n",
            "          (0, 0) :     0 :   0.0 :     1 : False : False :  Reals\n",
            "          (0, 1) :     0 :   0.0 :     1 : False : False :  Reals\n",
            "          (0, 2) :     0 :   0.0 :     1 : False : False :  Reals\n",
            "          (0, 3) :     0 :   0.0 :     1 : False : False :  Reals\n",
            "          (0, 4) :     0 :   0.0 :     1 : False : False :  Reals\n",
            "          (0, 5) :     0 :   0.0 :     1 : False : False :  Reals\n",
            "          (0, 6) :     0 :   1.0 :     1 : False : False :  Reals\n",
            "          (0, 7) :     0 :   0.0 :     1 : False : False :  Reals\n",
            "          (0, 8) :     0 :   0.0 :     1 : False : False :  Reals\n",
            "          (0, 9) :     0 :   0.0 :     1 : False : False :  Reals\n",
            "         (0, 10) :     0 :   0.0 :     1 : False : False :  Reals\n",
            "         (0, 11) :     0 :   0.0 :     1 : False : False :  Reals\n",
            "          (1, 0) :     0 :   0.0 :     1 : False : False :  Reals\n",
            "          (1, 1) :     0 :   1.0 :     1 : False : False :  Reals\n",
            "          (1, 2) :     0 :   0.0 :     1 : False : False :  Reals\n",
            "          (1, 3) :     0 :   0.0 :     1 : False : False :  Reals\n",
            "          (1, 4) :     0 :   0.0 :     1 : False : False :  Reals\n",
            "          (1, 5) :     0 :   0.0 :     1 : False : False :  Reals\n",
            "          (1, 6) :     0 :   0.0 :     1 : False : False :  Reals\n",
            "          (1, 7) :     0 :   0.0 :     1 : False : False :  Reals\n",
            "          (1, 8) :     0 :   0.0 :     1 : False : False :  Reals\n",
            "          (1, 9) :     0 :   0.0 :     1 : False : False :  Reals\n",
            "         (1, 10) :     0 :   0.0 :     1 : False : False :  Reals\n",
            "         (1, 11) :     0 :   0.0 :     1 : False : False :  Reals\n",
            "          (2, 0) :     0 :   0.0 :     1 : False : False :  Reals\n",
            "          (2, 1) :     0 :   0.0 :     1 : False : False :  Reals\n",
            "          (2, 2) :     0 :   0.0 :     1 : False : False :  Reals\n",
            "          (2, 3) :     0 :   0.0 :     1 : False : False :  Reals\n",
            "          (2, 4) :     0 :   1.0 :     1 : False : False :  Reals\n",
            "          (2, 5) :     0 :   0.0 :     1 : False : False :  Reals\n",
            "          (2, 6) :     0 :   0.0 :     1 : False : False :  Reals\n",
            "          (2, 7) :     0 :   0.0 :     1 : False : False :  Reals\n",
            "          (2, 8) :     0 :   0.0 :     1 : False : False :  Reals\n",
            "          (2, 9) :     0 :   0.0 :     1 : False : False :  Reals\n",
            "         (2, 10) :     0 :   0.0 :     1 : False : False :  Reals\n",
            "         (2, 11) :     0 :   0.0 :     1 : False : False :  Reals\n",
            "          (3, 0) :     0 :   1.0 :     1 : False : False :  Reals\n",
            "          (3, 1) :     0 :   0.0 :     1 : False : False :  Reals\n",
            "          (3, 2) :     0 :   0.0 :     1 : False : False :  Reals\n",
            "          (3, 3) :     0 :   0.0 :     1 : False : False :  Reals\n",
            "          (3, 4) :     0 :   0.0 :     1 : False : False :  Reals\n",
            "          (3, 5) :     0 :   0.0 :     1 : False : False :  Reals\n",
            "          (3, 6) :     0 :   0.0 :     1 : False : False :  Reals\n",
            "          (3, 7) :     0 :   0.0 :     1 : False : False :  Reals\n",
            "          (3, 8) :     0 :   0.0 :     1 : False : False :  Reals\n",
            "          (3, 9) :     0 :   0.0 :     1 : False : False :  Reals\n",
            "         (3, 10) :     0 :   0.0 :     1 : False : False :  Reals\n",
            "         (3, 11) :     0 :   0.0 :     1 : False : False :  Reals\n",
            "          (4, 0) :     0 :   0.0 :     1 : False : False :  Reals\n",
            "          (4, 1) :     0 :   0.0 :     1 : False : False :  Reals\n",
            "          (4, 2) :     0 :   0.0 :     1 : False : False :  Reals\n",
            "          (4, 3) :     0 :   0.0 :     1 : False : False :  Reals\n",
            "          (4, 4) :     0 :   0.0 :     1 : False : False :  Reals\n",
            "          (4, 5) :     0 :   0.0 :     1 : False : False :  Reals\n",
            "          (4, 6) :     0 :   0.0 :     1 : False : False :  Reals\n",
            "          (4, 7) :     0 :   0.0 :     1 : False : False :  Reals\n",
            "          (4, 8) :     0 :   0.0 :     1 : False : False :  Reals\n",
            "          (4, 9) :     0 :   0.0 :     1 : False : False :  Reals\n",
            "         (4, 10) :     0 :   1.0 :     1 : False : False :  Reals\n",
            "         (4, 11) :     0 :   0.0 :     1 : False : False :  Reals\n",
            "          (5, 0) :     0 :   0.0 :     1 : False : False :  Reals\n",
            "          (5, 1) :     0 :   0.0 :     1 : False : False :  Reals\n",
            "          (5, 2) :     0 :   1.0 :     1 : False : False :  Reals\n",
            "          (5, 3) :     0 :   0.0 :     1 : False : False :  Reals\n",
            "          (5, 4) :     0 :   0.0 :     1 : False : False :  Reals\n",
            "          (5, 5) :     0 :   0.0 :     1 : False : False :  Reals\n",
            "          (5, 6) :     0 :   0.0 :     1 : False : False :  Reals\n",
            "          (5, 7) :     0 :   0.0 :     1 : False : False :  Reals\n",
            "          (5, 8) :     0 :   0.0 :     1 : False : False :  Reals\n",
            "          (5, 9) :     0 :   0.0 :     1 : False : False :  Reals\n",
            "         (5, 10) :     0 :   0.0 :     1 : False : False :  Reals\n",
            "         (5, 11) :     0 :   0.0 :     1 : False : False :  Reals\n",
            "          (6, 0) :     0 :   0.0 :     1 : False : False :  Reals\n",
            "          (6, 1) :     0 :   0.0 :     1 : False : False :  Reals\n",
            "          (6, 2) :     0 :   0.0 :     1 : False : False :  Reals\n",
            "          (6, 3) :     0 :   0.0 :     1 : False : False :  Reals\n",
            "          (6, 4) :     0 :   0.0 :     1 : False : False :  Reals\n",
            "          (6, 5) :     0 :   1.0 :     1 : False : False :  Reals\n",
            "          (6, 6) :     0 :   0.0 :     1 : False : False :  Reals\n",
            "          (6, 7) :     0 :   0.0 :     1 : False : False :  Reals\n",
            "          (6, 8) :     0 :   0.0 :     1 : False : False :  Reals\n",
            "          (6, 9) :     0 :   0.0 :     1 : False : False :  Reals\n",
            "         (6, 10) :     0 :   0.0 :     1 : False : False :  Reals\n",
            "         (6, 11) :     0 :   0.0 :     1 : False : False :  Reals\n",
            "          (7, 0) :     0 :   0.0 :     1 : False : False :  Reals\n",
            "          (7, 1) :     0 :   0.0 :     1 : False : False :  Reals\n",
            "          (7, 2) :     0 :   0.0 :     1 : False : False :  Reals\n",
            "          (7, 3) :     0 :   1.0 :     1 : False : False :  Reals\n",
            "          (7, 4) :     0 :   0.0 :     1 : False : False :  Reals\n",
            "          (7, 5) :     0 :   0.0 :     1 : False : False :  Reals\n",
            "          (7, 6) :     0 :   0.0 :     1 : False : False :  Reals\n",
            "          (7, 7) :     0 :   0.0 :     1 : False : False :  Reals\n",
            "          (7, 8) :     0 :   0.0 :     1 : False : False :  Reals\n",
            "          (7, 9) :     0 :   0.0 :     1 : False : False :  Reals\n",
            "         (7, 10) :     0 :   0.0 :     1 : False : False :  Reals\n",
            "         (7, 11) :     0 :   0.0 :     1 : False : False :  Reals\n",
            "          (8, 0) :     0 :   0.0 :     1 : False : False :  Reals\n",
            "          (8, 1) :     0 :   0.0 :     1 : False : False :  Reals\n",
            "          (8, 2) :     0 :   0.0 :     1 : False : False :  Reals\n",
            "          (8, 3) :     0 :   0.0 :     1 : False : False :  Reals\n",
            "          (8, 4) :     0 :   0.0 :     1 : False : False :  Reals\n",
            "          (8, 5) :     0 :   0.0 :     1 : False : False :  Reals\n",
            "          (8, 6) :     0 :   0.0 :     1 : False : False :  Reals\n",
            "          (8, 7) :     0 :   0.0 :     1 : False : False :  Reals\n",
            "          (8, 8) :     0 :   0.0 :     1 : False : False :  Reals\n",
            "          (8, 9) :     0 :   1.0 :     1 : False : False :  Reals\n",
            "         (8, 10) :     0 :   0.0 :     1 : False : False :  Reals\n",
            "         (8, 11) :     0 :   0.0 :     1 : False : False :  Reals\n",
            "          (9, 0) :     0 :   0.0 :     1 : False : False :  Reals\n",
            "          (9, 1) :     0 :   0.0 :     1 : False : False :  Reals\n",
            "          (9, 2) :     0 :   0.0 :     1 : False : False :  Reals\n",
            "          (9, 3) :     0 :   0.0 :     1 : False : False :  Reals\n",
            "          (9, 4) :     0 :   0.0 :     1 : False : False :  Reals\n",
            "          (9, 5) :     0 :   0.0 :     1 : False : False :  Reals\n",
            "          (9, 6) :     0 :   0.0 :     1 : False : False :  Reals\n",
            "          (9, 7) :     0 :   0.0 :     1 : False : False :  Reals\n",
            "          (9, 8) :     0 :   0.0 :     1 : False : False :  Reals\n",
            "          (9, 9) :     0 :   0.0 :     1 : False : False :  Reals\n",
            "         (9, 10) :     0 :   0.0 :     1 : False : False :  Reals\n",
            "         (9, 11) :     0 :   1.0 :     1 : False : False :  Reals\n",
            "         (10, 0) :     0 :   0.0 :     1 : False : False :  Reals\n",
            "         (10, 1) :     0 :   0.0 :     1 : False : False :  Reals\n",
            "         (10, 2) :     0 :   0.0 :     1 : False : False :  Reals\n",
            "         (10, 3) :     0 :   0.0 :     1 : False : False :  Reals\n",
            "         (10, 4) :     0 :   0.0 :     1 : False : False :  Reals\n",
            "         (10, 5) :     0 :   0.0 :     1 : False : False :  Reals\n",
            "         (10, 6) :     0 :   0.0 :     1 : False : False :  Reals\n",
            "         (10, 7) :     0 :   0.0 :     1 : False : False :  Reals\n",
            "         (10, 8) :     0 :   1.0 :     1 : False : False :  Reals\n",
            "         (10, 9) :     0 :   0.0 :     1 : False : False :  Reals\n",
            "        (10, 10) :     0 :   0.0 :     1 : False : False :  Reals\n",
            "        (10, 11) :     0 :   0.0 :     1 : False : False :  Reals\n",
            "         (11, 0) :     0 :   0.0 :     1 : False : False :  Reals\n",
            "         (11, 1) :     0 :   0.0 :     1 : False : False :  Reals\n",
            "         (11, 2) :     0 :   0.0 :     1 : False : False :  Reals\n",
            "         (11, 3) :     0 :   0.0 :     1 : False : False :  Reals\n",
            "         (11, 4) :     0 :   0.0 :     1 : False : False :  Reals\n",
            "         (11, 5) :     0 :   0.0 :     1 : False : False :  Reals\n",
            "         (11, 6) :     0 :   0.0 :     1 : False : False :  Reals\n",
            "         (11, 7) :     0 :   1.0 :     1 : False : False :  Reals\n",
            "         (11, 8) :     0 :   0.0 :     1 : False : False :  Reals\n",
            "         (11, 9) :     0 :   0.0 :     1 : False : False :  Reals\n",
            "        (11, 10) :     0 :   0.0 :     1 : False : False :  Reals\n",
            "        (11, 11) :     0 :   0.0 :     1 : False : False :  Reals\n",
            "\n",
            "1 Objective Declarations\n",
            "    obj : Size=1, Index=None, Active=True\n",
            "        Key  : Active : Sense    : Expression\n",
            "        None :   True : minimize : 22.0*x[0,0] + 18.0*x[1,0] + 19.0*x[2,0] + 18.0*x[3,0] + 23.0*x[4,0] + 24.0*x[5,0] + 22.0*x[6,0] + 23.0*x[7,0] + 21.0*x[8,0] + 19.0*x[9,0] + 20.0*x[10,0] + 21.0*x[11,0] + 22.0*x[0,1] + 12.0*x[1,1] + 21.0*x[2,1] + 24.0*x[3,1] + 20.0*x[4,1] + 16.0*x[5,1] + 22.0*x[6,1] + 17.0*x[7,1] + 22.0*x[8,1] + 19.0*x[9,1] + 22.0*x[10,1] + 25.0*x[11,1] + 19.0*x[0,2] + 18.0*x[1,2] + 17.0*x[2,2] + 20.0*x[3,2] + 19.0*x[4,2] + 15.0*x[5,2] + 21.0*x[6,2] + 17.0*x[7,2] + 21.0*x[8,2] + 18.0*x[9,2] + 23.0*x[10,2] + 21.0*x[11,2] + 22.0*x[0,3] + 19.0*x[1,3] + 19.0*x[2,3] + 21.0*x[3,3] + 18.0*x[4,3] + 16.0*x[5,3] + 23.0*x[6,3] + 17.0*x[7,3] + 24.0*x[8,3] + 19.0*x[9,3] + 20.0*x[10,3] + 19.0*x[11,3] + 22.0*x[0,4] + 22.0*x[1,4] + 17.0*x[2,4] + 21.0*x[3,4] + 20.0*x[4,4] + 24.0*x[5,4] + 18.0*x[6,4] + 22.0*x[7,4] + 20.0*x[8,4] + 26.0*x[9,4] + 22.0*x[10,4] + 21.0*x[11,4] + 24.0*x[0,5] + 21.0*x[1,5] + 19.0*x[2,5] + 21.0*x[3,5] + 23.0*x[4,5] + 21.0*x[5,5] + 17.0*x[6,5] + 24.0*x[7,5] + 23.0*x[8,5] + 24.0*x[9,5] + 20.0*x[10,5] + 19.0*x[11,5] + 18.0*x[0,6] + 17.0*x[1,6] + 24.0*x[2,6] + 22.0*x[3,6] + 22.0*x[4,6] + 23.0*x[5,6] + 16.0*x[6,6] + 23.0*x[7,6] + 19.0*x[8,6] + 19.0*x[9,6] + 20.0*x[10,6] + 18.0*x[11,6] + 17.0*x[0,7] + 20.0*x[1,7] + 16.0*x[2,7] + 19.0*x[3,7] + 25.0*x[4,7] + 21.0*x[5,7] + 19.0*x[6,7] + 20.0*x[7,7] + 18.0*x[8,7] + 17.0*x[9,7] + 19.0*x[10,7] + 16.0*x[11,7] + 21.0*x[0,8] + 16.0*x[1,8] + 18.0*x[2,8] + 18.0*x[3,8] + 24.0*x[4,8] + 20.0*x[5,8] + 24.0*x[6,8] + 22.0*x[7,8] + 23.0*x[8,8] + 18.0*x[9,8] + 17.0*x[10,8] + 22.0*x[11,8] + 23.0*x[0,9] + 17.0*x[1,9] + 16.0*x[2,9] + 21.0*x[3,9] + 19.0*x[4,9] + 20.0*x[5,9] + 20.0*x[6,9] + 19.0*x[7,9] + 15.0*x[8,9] + 20.0*x[9,9] + 19.0*x[10,9] + 24.0*x[11,9] + 19.0*x[0,10] + 17.0*x[1,10] + 20.0*x[2,10] + 23.0*x[3,10] + 21.0*x[4,10] + 22.0*x[5,10] + 20.0*x[6,10] + 23.0*x[7,10] + 25.0*x[8,10] + 21.0*x[9,10] + 20.0*x[10,10] + 25.0*x[11,10] + 21.0*x[0,11] + 24.0*x[1,11] + 24.0*x[2,11] + 23.0*x[3,11] + 23.0*x[4,11] + 19.0*x[5,11] + 23.0*x[6,11] + 21.0*x[7,11] + 21.0*x[8,11] + 20.0*x[9,11] + 24.0*x[10,11] + 24.0*x[11,11]\n",
            "\n",
            "1 Constraint Declarations\n",
            "    constraints : Size=24, Index=constraints_index, Active=True\n",
            "        Key : Lower : Body                                                                                                                    : Upper : Active\n",
            "          1 :   1.0 :             x[0,0] + x[0,1] + x[0,2] + x[0,3] + x[0,4] + x[0,5] + x[0,6] + x[0,7] + x[0,8] + x[0,9] + x[0,10] + x[0,11] :   1.0 :   True\n",
            "          2 :   1.0 :             x[1,0] + x[1,1] + x[1,2] + x[1,3] + x[1,4] + x[1,5] + x[1,6] + x[1,7] + x[1,8] + x[1,9] + x[1,10] + x[1,11] :   1.0 :   True\n",
            "          3 :   1.0 :             x[2,0] + x[2,1] + x[2,2] + x[2,3] + x[2,4] + x[2,5] + x[2,6] + x[2,7] + x[2,8] + x[2,9] + x[2,10] + x[2,11] :   1.0 :   True\n",
            "          4 :   1.0 :             x[3,0] + x[3,1] + x[3,2] + x[3,3] + x[3,4] + x[3,5] + x[3,6] + x[3,7] + x[3,8] + x[3,9] + x[3,10] + x[3,11] :   1.0 :   True\n",
            "          5 :   1.0 :             x[4,0] + x[4,1] + x[4,2] + x[4,3] + x[4,4] + x[4,5] + x[4,6] + x[4,7] + x[4,8] + x[4,9] + x[4,10] + x[4,11] :   1.0 :   True\n",
            "          6 :   1.0 :             x[5,0] + x[5,1] + x[5,2] + x[5,3] + x[5,4] + x[5,5] + x[5,6] + x[5,7] + x[5,8] + x[5,9] + x[5,10] + x[5,11] :   1.0 :   True\n",
            "          7 :   1.0 :             x[6,0] + x[6,1] + x[6,2] + x[6,3] + x[6,4] + x[6,5] + x[6,6] + x[6,7] + x[6,8] + x[6,9] + x[6,10] + x[6,11] :   1.0 :   True\n",
            "          8 :   1.0 :             x[7,0] + x[7,1] + x[7,2] + x[7,3] + x[7,4] + x[7,5] + x[7,6] + x[7,7] + x[7,8] + x[7,9] + x[7,10] + x[7,11] :   1.0 :   True\n",
            "          9 :   1.0 :             x[8,0] + x[8,1] + x[8,2] + x[8,3] + x[8,4] + x[8,5] + x[8,6] + x[8,7] + x[8,8] + x[8,9] + x[8,10] + x[8,11] :   1.0 :   True\n",
            "         10 :   1.0 :             x[9,0] + x[9,1] + x[9,2] + x[9,3] + x[9,4] + x[9,5] + x[9,6] + x[9,7] + x[9,8] + x[9,9] + x[9,10] + x[9,11] :   1.0 :   True\n",
            "         11 :   1.0 : x[10,0] + x[10,1] + x[10,2] + x[10,3] + x[10,4] + x[10,5] + x[10,6] + x[10,7] + x[10,8] + x[10,9] + x[10,10] + x[10,11] :   1.0 :   True\n",
            "         12 :   1.0 : x[11,0] + x[11,1] + x[11,2] + x[11,3] + x[11,4] + x[11,5] + x[11,6] + x[11,7] + x[11,8] + x[11,9] + x[11,10] + x[11,11] :   1.0 :   True\n",
            "         13 :   1.0 :             x[0,0] + x[1,0] + x[2,0] + x[3,0] + x[4,0] + x[5,0] + x[6,0] + x[7,0] + x[8,0] + x[9,0] + x[10,0] + x[11,0] :   1.0 :   True\n",
            "         14 :   1.0 :             x[0,1] + x[1,1] + x[2,1] + x[3,1] + x[4,1] + x[5,1] + x[6,1] + x[7,1] + x[8,1] + x[9,1] + x[10,1] + x[11,1] :   1.0 :   True\n",
            "         15 :   1.0 :             x[0,2] + x[1,2] + x[2,2] + x[3,2] + x[4,2] + x[5,2] + x[6,2] + x[7,2] + x[8,2] + x[9,2] + x[10,2] + x[11,2] :   1.0 :   True\n",
            "         16 :   1.0 :             x[0,3] + x[1,3] + x[2,3] + x[3,3] + x[4,3] + x[5,3] + x[6,3] + x[7,3] + x[8,3] + x[9,3] + x[10,3] + x[11,3] :   1.0 :   True\n",
            "         17 :   1.0 :             x[0,4] + x[1,4] + x[2,4] + x[3,4] + x[4,4] + x[5,4] + x[6,4] + x[7,4] + x[8,4] + x[9,4] + x[10,4] + x[11,4] :   1.0 :   True\n",
            "         18 :   1.0 :             x[0,5] + x[1,5] + x[2,5] + x[3,5] + x[4,5] + x[5,5] + x[6,5] + x[7,5] + x[8,5] + x[9,5] + x[10,5] + x[11,5] :   1.0 :   True\n",
            "         19 :   1.0 :             x[0,6] + x[1,6] + x[2,6] + x[3,6] + x[4,6] + x[5,6] + x[6,6] + x[7,6] + x[8,6] + x[9,6] + x[10,6] + x[11,6] :   1.0 :   True\n",
            "         20 :   1.0 :             x[0,7] + x[1,7] + x[2,7] + x[3,7] + x[4,7] + x[5,7] + x[6,7] + x[7,7] + x[8,7] + x[9,7] + x[10,7] + x[11,7] :   1.0 :   True\n",
            "         21 :   1.0 :             x[0,8] + x[1,8] + x[2,8] + x[3,8] + x[4,8] + x[5,8] + x[6,8] + x[7,8] + x[8,8] + x[9,8] + x[10,8] + x[11,8] :   1.0 :   True\n",
            "         22 :   1.0 :             x[0,9] + x[1,9] + x[2,9] + x[3,9] + x[4,9] + x[5,9] + x[6,9] + x[7,9] + x[8,9] + x[9,9] + x[10,9] + x[11,9] :   1.0 :   True\n",
            "         23 :   1.0 : x[0,10] + x[1,10] + x[2,10] + x[3,10] + x[4,10] + x[5,10] + x[6,10] + x[7,10] + x[8,10] + x[9,10] + x[10,10] + x[11,10] :   1.0 :   True\n",
            "         24 :   1.0 : x[0,11] + x[1,11] + x[2,11] + x[3,11] + x[4,11] + x[5,11] + x[6,11] + x[7,11] + x[8,11] + x[9,11] + x[10,11] + x[11,11] :   1.0 :   True\n",
            "\n",
            "7 Declarations: x_index_0 x_index_1 x_index x constraints_index constraints obj\n"
          ]
        }
      ]
    },
    {
      "cell_type": "code",
      "metadata": {
        "id": "z6RO7IdoqYwZ"
      },
      "source": [
        "opt_cbc = SolverFactory('cbc')"
      ],
      "execution_count": 25,
      "outputs": []
    },
    {
      "cell_type": "code",
      "metadata": {
        "colab": {
          "base_uri": "https://localhost:8080/"
        },
        "id": "OmcH1Se6qgDR",
        "outputId": "a431b2bb-e2cf-4a4f-9960-5f4b6ca198e2"
      },
      "source": [
        "result = opt_cbc.solve(model)\n",
        "print('Solver status:', result.solver.status)\n",
        "print('Solver termination condition:',result.solver.termination_condition)"
      ],
      "execution_count": 26,
      "outputs": [
        {
          "output_type": "stream",
          "name": "stdout",
          "text": [
            "Solver status: ok\n",
            "Solver termination condition: optimal\n"
          ]
        }
      ]
    },
    {
      "cell_type": "code",
      "metadata": {
        "colab": {
          "base_uri": "https://localhost:8080/"
        },
        "id": "Dz4pTVHHC2KQ",
        "outputId": "485f879c-f7cf-4fc7-dda9-1f871abe0494"
      },
      "source": [
        "# display solution\n",
        "print('Change of variables to continuos variables:')\n",
        "print('Factories set up Objective cost :', model.obj())"
      ],
      "execution_count": 27,
      "outputs": [
        {
          "output_type": "stream",
          "name": "stdout",
          "text": [
            "Change of variables to continuos variables:\n",
            "Factories set up Objective cost : 203.0\n"
          ]
        }
      ]
    },
    {
      "cell_type": "code",
      "metadata": {
        "colab": {
          "base_uri": "https://localhost:8080/"
        },
        "id": "iOybxWfcqk5_",
        "outputId": "4b7f3e30-0a5f-4ddf-f8cf-c023f0a051fa"
      },
      "source": [
        "for i in row_indices:\n",
        "  for j in col_indices:\n",
        "    if model.x[i,j].value > 0:\n",
        "      print('The factory ',i+1,'is located at location ',j+1)\n",
        "    else:\n",
        "      pass"
      ],
      "execution_count": 28,
      "outputs": [
        {
          "output_type": "stream",
          "name": "stdout",
          "text": [
            "The factory  1 is located at location  7\n",
            "The factory  2 is located at location  2\n",
            "The factory  3 is located at location  5\n",
            "The factory  4 is located at location  1\n",
            "The factory  5 is located at location  11\n",
            "The factory  6 is located at location  3\n",
            "The factory  7 is located at location  6\n",
            "The factory  8 is located at location  4\n",
            "The factory  9 is located at location  10\n",
            "The factory  10 is located at location  12\n",
            "The factory  11 is located at location  9\n",
            "The factory  12 is located at location  8\n"
          ]
        }
      ]
    },
    {
      "cell_type": "markdown",
      "metadata": {
        "id": "8VOTDl-PipCk"
      },
      "source": [
        "Ex 2.10 \\\\\n",
        "Yes,The optimal costs for both problems are same even after changing the domain of the domains of the variables because the problem is to locate one facility at any particular location."
      ]
    },
    {
      "cell_type": "markdown",
      "metadata": {
        "id": "gVcPDG4vvlGQ"
      },
      "source": [
        "Q-12. Now due to some reason, facility 2 cannot be assigned to location 4, facility 10 cannot be assigned to location 6 and facility 6 cannot be assigned to location 11. \n",
        "\n",
        "So if we make change in the pyomo model, we will  just put up the values of variables x[1,3]=0 , x[9,5] =0 , x[5,10]=0 .\n",
        "\n",
        "But if we go through making changes in the txt file, then we will change the setup costs of \"factory 2 to location 4, factory 10 to location 6 , factory 6 to location 11 \" to very high than those of the other setup costs , so that solver avoids to set up these factories to those mentioned locations respectively."
      ]
    },
    {
      "cell_type": "markdown",
      "metadata": {
        "id": "wejbLd9SJDRa"
      },
      "source": [
        "We will assign the values zero to x[1,3],x[9,5],x[5,10] ."
      ]
    },
    {
      "cell_type": "code",
      "metadata": {
        "id": "nhq9z-b7JCqB"
      },
      "source": [
        "#changing the domain again to Binary:\n",
        "for i in row_indices:\n",
        "  for j in col_indices:\n",
        "    model.x[i,j].domain = Binary"
      ],
      "execution_count": 29,
      "outputs": []
    },
    {
      "cell_type": "code",
      "metadata": {
        "id": "5dstHBiZKBSC"
      },
      "source": [
        "model.x[1,3].value = 0\n",
        "model.x[9,5].value = 0\n",
        "model.x[5,10].value = 0"
      ],
      "execution_count": 30,
      "outputs": []
    },
    {
      "cell_type": "code",
      "metadata": {
        "colab": {
          "base_uri": "https://localhost:8080/"
        },
        "id": "gPYEvfNxKbY5",
        "outputId": "49c55c73-9593-4620-fb8f-8dd0032b2721"
      },
      "source": [
        "model.pprint()"
      ],
      "execution_count": 31,
      "outputs": [
        {
          "output_type": "stream",
          "name": "stdout",
          "text": [
            "4 Set Declarations\n",
            "    constraints_index : Size=1, Index=None, Ordered=Insertion\n",
            "        Key  : Dimen : Domain : Size : Members\n",
            "        None :     1 :    Any :   24 : {1, 2, 3, 4, 5, 6, 7, 8, 9, 10, 11, 12, 13, 14, 15, 16, 17, 18, 19, 20, 21, 22, 23, 24}\n",
            "    x_index : Size=1, Index=None, Ordered=False\n",
            "        Key  : Dimen : Domain              : Size : Members\n",
            "        None :     2 : x_index_0*x_index_1 :  144 : {(0, 0), (0, 1), (0, 2), (0, 3), (0, 4), (0, 5), (0, 6), (0, 7), (0, 8), (0, 9), (0, 10), (0, 11), (1, 0), (1, 1), (1, 2), (1, 3), (1, 4), (1, 5), (1, 6), (1, 7), (1, 8), (1, 9), (1, 10), (1, 11), (2, 0), (2, 1), (2, 2), (2, 3), (2, 4), (2, 5), (2, 6), (2, 7), (2, 8), (2, 9), (2, 10), (2, 11), (3, 0), (3, 1), (3, 2), (3, 3), (3, 4), (3, 5), (3, 6), (3, 7), (3, 8), (3, 9), (3, 10), (3, 11), (4, 0), (4, 1), (4, 2), (4, 3), (4, 4), (4, 5), (4, 6), (4, 7), (4, 8), (4, 9), (4, 10), (4, 11), (5, 0), (5, 1), (5, 2), (5, 3), (5, 4), (5, 5), (5, 6), (5, 7), (5, 8), (5, 9), (5, 10), (5, 11), (6, 0), (6, 1), (6, 2), (6, 3), (6, 4), (6, 5), (6, 6), (6, 7), (6, 8), (6, 9), (6, 10), (6, 11), (7, 0), (7, 1), (7, 2), (7, 3), (7, 4), (7, 5), (7, 6), (7, 7), (7, 8), (7, 9), (7, 10), (7, 11), (8, 0), (8, 1), (8, 2), (8, 3), (8, 4), (8, 5), (8, 6), (8, 7), (8, 8), (8, 9), (8, 10), (8, 11), (9, 0), (9, 1), (9, 2), (9, 3), (9, 4), (9, 5), (9, 6), (9, 7), (9, 8), (9, 9), (9, 10), (9, 11), (10, 0), (10, 1), (10, 2), (10, 3), (10, 4), (10, 5), (10, 6), (10, 7), (10, 8), (10, 9), (10, 10), (10, 11), (11, 0), (11, 1), (11, 2), (11, 3), (11, 4), (11, 5), (11, 6), (11, 7), (11, 8), (11, 9), (11, 10), (11, 11)}\n",
            "    x_index_0 : Size=1, Index=None, Ordered=False\n",
            "        Key  : Dimen : Domain : Size : Members\n",
            "        None :     1 :    Any :   12 : {0, 1, 2, 3, 4, 5, 6, 7, 8, 9, 10, 11}\n",
            "    x_index_1 : Size=1, Index=None, Ordered=False\n",
            "        Key  : Dimen : Domain : Size : Members\n",
            "        None :     1 :    Any :   12 : {0, 1, 2, 3, 4, 5, 6, 7, 8, 9, 10, 11}\n",
            "\n",
            "1 Var Declarations\n",
            "    x : Size=144, Index=x_index\n",
            "        Key      : Lower : Value : Upper : Fixed : Stale : Domain\n",
            "          (0, 0) :     0 :   0.0 :     1 : False : False : Binary\n",
            "          (0, 1) :     0 :   0.0 :     1 : False : False : Binary\n",
            "          (0, 2) :     0 :   0.0 :     1 : False : False : Binary\n",
            "          (0, 3) :     0 :   0.0 :     1 : False : False : Binary\n",
            "          (0, 4) :     0 :   0.0 :     1 : False : False : Binary\n",
            "          (0, 5) :     0 :   0.0 :     1 : False : False : Binary\n",
            "          (0, 6) :     0 :   1.0 :     1 : False : False : Binary\n",
            "          (0, 7) :     0 :   0.0 :     1 : False : False : Binary\n",
            "          (0, 8) :     0 :   0.0 :     1 : False : False : Binary\n",
            "          (0, 9) :     0 :   0.0 :     1 : False : False : Binary\n",
            "         (0, 10) :     0 :   0.0 :     1 : False : False : Binary\n",
            "         (0, 11) :     0 :   0.0 :     1 : False : False : Binary\n",
            "          (1, 0) :     0 :   0.0 :     1 : False : False : Binary\n",
            "          (1, 1) :     0 :   1.0 :     1 : False : False : Binary\n",
            "          (1, 2) :     0 :   0.0 :     1 : False : False : Binary\n",
            "          (1, 3) :     0 :     0 :     1 : False : False : Binary\n",
            "          (1, 4) :     0 :   0.0 :     1 : False : False : Binary\n",
            "          (1, 5) :     0 :   0.0 :     1 : False : False : Binary\n",
            "          (1, 6) :     0 :   0.0 :     1 : False : False : Binary\n",
            "          (1, 7) :     0 :   0.0 :     1 : False : False : Binary\n",
            "          (1, 8) :     0 :   0.0 :     1 : False : False : Binary\n",
            "          (1, 9) :     0 :   0.0 :     1 : False : False : Binary\n",
            "         (1, 10) :     0 :   0.0 :     1 : False : False : Binary\n",
            "         (1, 11) :     0 :   0.0 :     1 : False : False : Binary\n",
            "          (2, 0) :     0 :   0.0 :     1 : False : False : Binary\n",
            "          (2, 1) :     0 :   0.0 :     1 : False : False : Binary\n",
            "          (2, 2) :     0 :   0.0 :     1 : False : False : Binary\n",
            "          (2, 3) :     0 :   0.0 :     1 : False : False : Binary\n",
            "          (2, 4) :     0 :   1.0 :     1 : False : False : Binary\n",
            "          (2, 5) :     0 :   0.0 :     1 : False : False : Binary\n",
            "          (2, 6) :     0 :   0.0 :     1 : False : False : Binary\n",
            "          (2, 7) :     0 :   0.0 :     1 : False : False : Binary\n",
            "          (2, 8) :     0 :   0.0 :     1 : False : False : Binary\n",
            "          (2, 9) :     0 :   0.0 :     1 : False : False : Binary\n",
            "         (2, 10) :     0 :   0.0 :     1 : False : False : Binary\n",
            "         (2, 11) :     0 :   0.0 :     1 : False : False : Binary\n",
            "          (3, 0) :     0 :   1.0 :     1 : False : False : Binary\n",
            "          (3, 1) :     0 :   0.0 :     1 : False : False : Binary\n",
            "          (3, 2) :     0 :   0.0 :     1 : False : False : Binary\n",
            "          (3, 3) :     0 :   0.0 :     1 : False : False : Binary\n",
            "          (3, 4) :     0 :   0.0 :     1 : False : False : Binary\n",
            "          (3, 5) :     0 :   0.0 :     1 : False : False : Binary\n",
            "          (3, 6) :     0 :   0.0 :     1 : False : False : Binary\n",
            "          (3, 7) :     0 :   0.0 :     1 : False : False : Binary\n",
            "          (3, 8) :     0 :   0.0 :     1 : False : False : Binary\n",
            "          (3, 9) :     0 :   0.0 :     1 : False : False : Binary\n",
            "         (3, 10) :     0 :   0.0 :     1 : False : False : Binary\n",
            "         (3, 11) :     0 :   0.0 :     1 : False : False : Binary\n",
            "          (4, 0) :     0 :   0.0 :     1 : False : False : Binary\n",
            "          (4, 1) :     0 :   0.0 :     1 : False : False : Binary\n",
            "          (4, 2) :     0 :   0.0 :     1 : False : False : Binary\n",
            "          (4, 3) :     0 :   0.0 :     1 : False : False : Binary\n",
            "          (4, 4) :     0 :   0.0 :     1 : False : False : Binary\n",
            "          (4, 5) :     0 :   0.0 :     1 : False : False : Binary\n",
            "          (4, 6) :     0 :   0.0 :     1 : False : False : Binary\n",
            "          (4, 7) :     0 :   0.0 :     1 : False : False : Binary\n",
            "          (4, 8) :     0 :   0.0 :     1 : False : False : Binary\n",
            "          (4, 9) :     0 :   0.0 :     1 : False : False : Binary\n",
            "         (4, 10) :     0 :   1.0 :     1 : False : False : Binary\n",
            "         (4, 11) :     0 :   0.0 :     1 : False : False : Binary\n",
            "          (5, 0) :     0 :   0.0 :     1 : False : False : Binary\n",
            "          (5, 1) :     0 :   0.0 :     1 : False : False : Binary\n",
            "          (5, 2) :     0 :   1.0 :     1 : False : False : Binary\n",
            "          (5, 3) :     0 :   0.0 :     1 : False : False : Binary\n",
            "          (5, 4) :     0 :   0.0 :     1 : False : False : Binary\n",
            "          (5, 5) :     0 :   0.0 :     1 : False : False : Binary\n",
            "          (5, 6) :     0 :   0.0 :     1 : False : False : Binary\n",
            "          (5, 7) :     0 :   0.0 :     1 : False : False : Binary\n",
            "          (5, 8) :     0 :   0.0 :     1 : False : False : Binary\n",
            "          (5, 9) :     0 :   0.0 :     1 : False : False : Binary\n",
            "         (5, 10) :     0 :     0 :     1 : False : False : Binary\n",
            "         (5, 11) :     0 :   0.0 :     1 : False : False : Binary\n",
            "          (6, 0) :     0 :   0.0 :     1 : False : False : Binary\n",
            "          (6, 1) :     0 :   0.0 :     1 : False : False : Binary\n",
            "          (6, 2) :     0 :   0.0 :     1 : False : False : Binary\n",
            "          (6, 3) :     0 :   0.0 :     1 : False : False : Binary\n",
            "          (6, 4) :     0 :   0.0 :     1 : False : False : Binary\n",
            "          (6, 5) :     0 :   1.0 :     1 : False : False : Binary\n",
            "          (6, 6) :     0 :   0.0 :     1 : False : False : Binary\n",
            "          (6, 7) :     0 :   0.0 :     1 : False : False : Binary\n",
            "          (6, 8) :     0 :   0.0 :     1 : False : False : Binary\n",
            "          (6, 9) :     0 :   0.0 :     1 : False : False : Binary\n",
            "         (6, 10) :     0 :   0.0 :     1 : False : False : Binary\n",
            "         (6, 11) :     0 :   0.0 :     1 : False : False : Binary\n",
            "          (7, 0) :     0 :   0.0 :     1 : False : False : Binary\n",
            "          (7, 1) :     0 :   0.0 :     1 : False : False : Binary\n",
            "          (7, 2) :     0 :   0.0 :     1 : False : False : Binary\n",
            "          (7, 3) :     0 :   1.0 :     1 : False : False : Binary\n",
            "          (7, 4) :     0 :   0.0 :     1 : False : False : Binary\n",
            "          (7, 5) :     0 :   0.0 :     1 : False : False : Binary\n",
            "          (7, 6) :     0 :   0.0 :     1 : False : False : Binary\n",
            "          (7, 7) :     0 :   0.0 :     1 : False : False : Binary\n",
            "          (7, 8) :     0 :   0.0 :     1 : False : False : Binary\n",
            "          (7, 9) :     0 :   0.0 :     1 : False : False : Binary\n",
            "         (7, 10) :     0 :   0.0 :     1 : False : False : Binary\n",
            "         (7, 11) :     0 :   0.0 :     1 : False : False : Binary\n",
            "          (8, 0) :     0 :   0.0 :     1 : False : False : Binary\n",
            "          (8, 1) :     0 :   0.0 :     1 : False : False : Binary\n",
            "          (8, 2) :     0 :   0.0 :     1 : False : False : Binary\n",
            "          (8, 3) :     0 :   0.0 :     1 : False : False : Binary\n",
            "          (8, 4) :     0 :   0.0 :     1 : False : False : Binary\n",
            "          (8, 5) :     0 :   0.0 :     1 : False : False : Binary\n",
            "          (8, 6) :     0 :   0.0 :     1 : False : False : Binary\n",
            "          (8, 7) :     0 :   0.0 :     1 : False : False : Binary\n",
            "          (8, 8) :     0 :   0.0 :     1 : False : False : Binary\n",
            "          (8, 9) :     0 :   1.0 :     1 : False : False : Binary\n",
            "         (8, 10) :     0 :   0.0 :     1 : False : False : Binary\n",
            "         (8, 11) :     0 :   0.0 :     1 : False : False : Binary\n",
            "          (9, 0) :     0 :   0.0 :     1 : False : False : Binary\n",
            "          (9, 1) :     0 :   0.0 :     1 : False : False : Binary\n",
            "          (9, 2) :     0 :   0.0 :     1 : False : False : Binary\n",
            "          (9, 3) :     0 :   0.0 :     1 : False : False : Binary\n",
            "          (9, 4) :     0 :   0.0 :     1 : False : False : Binary\n",
            "          (9, 5) :     0 :     0 :     1 : False : False : Binary\n",
            "          (9, 6) :     0 :   0.0 :     1 : False : False : Binary\n",
            "          (9, 7) :     0 :   0.0 :     1 : False : False : Binary\n",
            "          (9, 8) :     0 :   0.0 :     1 : False : False : Binary\n",
            "          (9, 9) :     0 :   0.0 :     1 : False : False : Binary\n",
            "         (9, 10) :     0 :   0.0 :     1 : False : False : Binary\n",
            "         (9, 11) :     0 :   1.0 :     1 : False : False : Binary\n",
            "         (10, 0) :     0 :   0.0 :     1 : False : False : Binary\n",
            "         (10, 1) :     0 :   0.0 :     1 : False : False : Binary\n",
            "         (10, 2) :     0 :   0.0 :     1 : False : False : Binary\n",
            "         (10, 3) :     0 :   0.0 :     1 : False : False : Binary\n",
            "         (10, 4) :     0 :   0.0 :     1 : False : False : Binary\n",
            "         (10, 5) :     0 :   0.0 :     1 : False : False : Binary\n",
            "         (10, 6) :     0 :   0.0 :     1 : False : False : Binary\n",
            "         (10, 7) :     0 :   0.0 :     1 : False : False : Binary\n",
            "         (10, 8) :     0 :   1.0 :     1 : False : False : Binary\n",
            "         (10, 9) :     0 :   0.0 :     1 : False : False : Binary\n",
            "        (10, 10) :     0 :   0.0 :     1 : False : False : Binary\n",
            "        (10, 11) :     0 :   0.0 :     1 : False : False : Binary\n",
            "         (11, 0) :     0 :   0.0 :     1 : False : False : Binary\n",
            "         (11, 1) :     0 :   0.0 :     1 : False : False : Binary\n",
            "         (11, 2) :     0 :   0.0 :     1 : False : False : Binary\n",
            "         (11, 3) :     0 :   0.0 :     1 : False : False : Binary\n",
            "         (11, 4) :     0 :   0.0 :     1 : False : False : Binary\n",
            "         (11, 5) :     0 :   0.0 :     1 : False : False : Binary\n",
            "         (11, 6) :     0 :   0.0 :     1 : False : False : Binary\n",
            "         (11, 7) :     0 :   1.0 :     1 : False : False : Binary\n",
            "         (11, 8) :     0 :   0.0 :     1 : False : False : Binary\n",
            "         (11, 9) :     0 :   0.0 :     1 : False : False : Binary\n",
            "        (11, 10) :     0 :   0.0 :     1 : False : False : Binary\n",
            "        (11, 11) :     0 :   0.0 :     1 : False : False : Binary\n",
            "\n",
            "1 Objective Declarations\n",
            "    obj : Size=1, Index=None, Active=True\n",
            "        Key  : Active : Sense    : Expression\n",
            "        None :   True : minimize : 22.0*x[0,0] + 18.0*x[1,0] + 19.0*x[2,0] + 18.0*x[3,0] + 23.0*x[4,0] + 24.0*x[5,0] + 22.0*x[6,0] + 23.0*x[7,0] + 21.0*x[8,0] + 19.0*x[9,0] + 20.0*x[10,0] + 21.0*x[11,0] + 22.0*x[0,1] + 12.0*x[1,1] + 21.0*x[2,1] + 24.0*x[3,1] + 20.0*x[4,1] + 16.0*x[5,1] + 22.0*x[6,1] + 17.0*x[7,1] + 22.0*x[8,1] + 19.0*x[9,1] + 22.0*x[10,1] + 25.0*x[11,1] + 19.0*x[0,2] + 18.0*x[1,2] + 17.0*x[2,2] + 20.0*x[3,2] + 19.0*x[4,2] + 15.0*x[5,2] + 21.0*x[6,2] + 17.0*x[7,2] + 21.0*x[8,2] + 18.0*x[9,2] + 23.0*x[10,2] + 21.0*x[11,2] + 22.0*x[0,3] + 19.0*x[1,3] + 19.0*x[2,3] + 21.0*x[3,3] + 18.0*x[4,3] + 16.0*x[5,3] + 23.0*x[6,3] + 17.0*x[7,3] + 24.0*x[8,3] + 19.0*x[9,3] + 20.0*x[10,3] + 19.0*x[11,3] + 22.0*x[0,4] + 22.0*x[1,4] + 17.0*x[2,4] + 21.0*x[3,4] + 20.0*x[4,4] + 24.0*x[5,4] + 18.0*x[6,4] + 22.0*x[7,4] + 20.0*x[8,4] + 26.0*x[9,4] + 22.0*x[10,4] + 21.0*x[11,4] + 24.0*x[0,5] + 21.0*x[1,5] + 19.0*x[2,5] + 21.0*x[3,5] + 23.0*x[4,5] + 21.0*x[5,5] + 17.0*x[6,5] + 24.0*x[7,5] + 23.0*x[8,5] + 24.0*x[9,5] + 20.0*x[10,5] + 19.0*x[11,5] + 18.0*x[0,6] + 17.0*x[1,6] + 24.0*x[2,6] + 22.0*x[3,6] + 22.0*x[4,6] + 23.0*x[5,6] + 16.0*x[6,6] + 23.0*x[7,6] + 19.0*x[8,6] + 19.0*x[9,6] + 20.0*x[10,6] + 18.0*x[11,6] + 17.0*x[0,7] + 20.0*x[1,7] + 16.0*x[2,7] + 19.0*x[3,7] + 25.0*x[4,7] + 21.0*x[5,7] + 19.0*x[6,7] + 20.0*x[7,7] + 18.0*x[8,7] + 17.0*x[9,7] + 19.0*x[10,7] + 16.0*x[11,7] + 21.0*x[0,8] + 16.0*x[1,8] + 18.0*x[2,8] + 18.0*x[3,8] + 24.0*x[4,8] + 20.0*x[5,8] + 24.0*x[6,8] + 22.0*x[7,8] + 23.0*x[8,8] + 18.0*x[9,8] + 17.0*x[10,8] + 22.0*x[11,8] + 23.0*x[0,9] + 17.0*x[1,9] + 16.0*x[2,9] + 21.0*x[3,9] + 19.0*x[4,9] + 20.0*x[5,9] + 20.0*x[6,9] + 19.0*x[7,9] + 15.0*x[8,9] + 20.0*x[9,9] + 19.0*x[10,9] + 24.0*x[11,9] + 19.0*x[0,10] + 17.0*x[1,10] + 20.0*x[2,10] + 23.0*x[3,10] + 21.0*x[4,10] + 22.0*x[5,10] + 20.0*x[6,10] + 23.0*x[7,10] + 25.0*x[8,10] + 21.0*x[9,10] + 20.0*x[10,10] + 25.0*x[11,10] + 21.0*x[0,11] + 24.0*x[1,11] + 24.0*x[2,11] + 23.0*x[3,11] + 23.0*x[4,11] + 19.0*x[5,11] + 23.0*x[6,11] + 21.0*x[7,11] + 21.0*x[8,11] + 20.0*x[9,11] + 24.0*x[10,11] + 24.0*x[11,11]\n",
            "\n",
            "1 Constraint Declarations\n",
            "    constraints : Size=24, Index=constraints_index, Active=True\n",
            "        Key : Lower : Body                                                                                                                    : Upper : Active\n",
            "          1 :   1.0 :             x[0,0] + x[0,1] + x[0,2] + x[0,3] + x[0,4] + x[0,5] + x[0,6] + x[0,7] + x[0,8] + x[0,9] + x[0,10] + x[0,11] :   1.0 :   True\n",
            "          2 :   1.0 :             x[1,0] + x[1,1] + x[1,2] + x[1,3] + x[1,4] + x[1,5] + x[1,6] + x[1,7] + x[1,8] + x[1,9] + x[1,10] + x[1,11] :   1.0 :   True\n",
            "          3 :   1.0 :             x[2,0] + x[2,1] + x[2,2] + x[2,3] + x[2,4] + x[2,5] + x[2,6] + x[2,7] + x[2,8] + x[2,9] + x[2,10] + x[2,11] :   1.0 :   True\n",
            "          4 :   1.0 :             x[3,0] + x[3,1] + x[3,2] + x[3,3] + x[3,4] + x[3,5] + x[3,6] + x[3,7] + x[3,8] + x[3,9] + x[3,10] + x[3,11] :   1.0 :   True\n",
            "          5 :   1.0 :             x[4,0] + x[4,1] + x[4,2] + x[4,3] + x[4,4] + x[4,5] + x[4,6] + x[4,7] + x[4,8] + x[4,9] + x[4,10] + x[4,11] :   1.0 :   True\n",
            "          6 :   1.0 :             x[5,0] + x[5,1] + x[5,2] + x[5,3] + x[5,4] + x[5,5] + x[5,6] + x[5,7] + x[5,8] + x[5,9] + x[5,10] + x[5,11] :   1.0 :   True\n",
            "          7 :   1.0 :             x[6,0] + x[6,1] + x[6,2] + x[6,3] + x[6,4] + x[6,5] + x[6,6] + x[6,7] + x[6,8] + x[6,9] + x[6,10] + x[6,11] :   1.0 :   True\n",
            "          8 :   1.0 :             x[7,0] + x[7,1] + x[7,2] + x[7,3] + x[7,4] + x[7,5] + x[7,6] + x[7,7] + x[7,8] + x[7,9] + x[7,10] + x[7,11] :   1.0 :   True\n",
            "          9 :   1.0 :             x[8,0] + x[8,1] + x[8,2] + x[8,3] + x[8,4] + x[8,5] + x[8,6] + x[8,7] + x[8,8] + x[8,9] + x[8,10] + x[8,11] :   1.0 :   True\n",
            "         10 :   1.0 :             x[9,0] + x[9,1] + x[9,2] + x[9,3] + x[9,4] + x[9,5] + x[9,6] + x[9,7] + x[9,8] + x[9,9] + x[9,10] + x[9,11] :   1.0 :   True\n",
            "         11 :   1.0 : x[10,0] + x[10,1] + x[10,2] + x[10,3] + x[10,4] + x[10,5] + x[10,6] + x[10,7] + x[10,8] + x[10,9] + x[10,10] + x[10,11] :   1.0 :   True\n",
            "         12 :   1.0 : x[11,0] + x[11,1] + x[11,2] + x[11,3] + x[11,4] + x[11,5] + x[11,6] + x[11,7] + x[11,8] + x[11,9] + x[11,10] + x[11,11] :   1.0 :   True\n",
            "         13 :   1.0 :             x[0,0] + x[1,0] + x[2,0] + x[3,0] + x[4,0] + x[5,0] + x[6,0] + x[7,0] + x[8,0] + x[9,0] + x[10,0] + x[11,0] :   1.0 :   True\n",
            "         14 :   1.0 :             x[0,1] + x[1,1] + x[2,1] + x[3,1] + x[4,1] + x[5,1] + x[6,1] + x[7,1] + x[8,1] + x[9,1] + x[10,1] + x[11,1] :   1.0 :   True\n",
            "         15 :   1.0 :             x[0,2] + x[1,2] + x[2,2] + x[3,2] + x[4,2] + x[5,2] + x[6,2] + x[7,2] + x[8,2] + x[9,2] + x[10,2] + x[11,2] :   1.0 :   True\n",
            "         16 :   1.0 :             x[0,3] + x[1,3] + x[2,3] + x[3,3] + x[4,3] + x[5,3] + x[6,3] + x[7,3] + x[8,3] + x[9,3] + x[10,3] + x[11,3] :   1.0 :   True\n",
            "         17 :   1.0 :             x[0,4] + x[1,4] + x[2,4] + x[3,4] + x[4,4] + x[5,4] + x[6,4] + x[7,4] + x[8,4] + x[9,4] + x[10,4] + x[11,4] :   1.0 :   True\n",
            "         18 :   1.0 :             x[0,5] + x[1,5] + x[2,5] + x[3,5] + x[4,5] + x[5,5] + x[6,5] + x[7,5] + x[8,5] + x[9,5] + x[10,5] + x[11,5] :   1.0 :   True\n",
            "         19 :   1.0 :             x[0,6] + x[1,6] + x[2,6] + x[3,6] + x[4,6] + x[5,6] + x[6,6] + x[7,6] + x[8,6] + x[9,6] + x[10,6] + x[11,6] :   1.0 :   True\n",
            "         20 :   1.0 :             x[0,7] + x[1,7] + x[2,7] + x[3,7] + x[4,7] + x[5,7] + x[6,7] + x[7,7] + x[8,7] + x[9,7] + x[10,7] + x[11,7] :   1.0 :   True\n",
            "         21 :   1.0 :             x[0,8] + x[1,8] + x[2,8] + x[3,8] + x[4,8] + x[5,8] + x[6,8] + x[7,8] + x[8,8] + x[9,8] + x[10,8] + x[11,8] :   1.0 :   True\n",
            "         22 :   1.0 :             x[0,9] + x[1,9] + x[2,9] + x[3,9] + x[4,9] + x[5,9] + x[6,9] + x[7,9] + x[8,9] + x[9,9] + x[10,9] + x[11,9] :   1.0 :   True\n",
            "         23 :   1.0 : x[0,10] + x[1,10] + x[2,10] + x[3,10] + x[4,10] + x[5,10] + x[6,10] + x[7,10] + x[8,10] + x[9,10] + x[10,10] + x[11,10] :   1.0 :   True\n",
            "         24 :   1.0 : x[0,11] + x[1,11] + x[2,11] + x[3,11] + x[4,11] + x[5,11] + x[6,11] + x[7,11] + x[8,11] + x[9,11] + x[10,11] + x[11,11] :   1.0 :   True\n",
            "\n",
            "7 Declarations: x_index_0 x_index_1 x_index x constraints_index constraints obj\n"
          ]
        }
      ]
    },
    {
      "cell_type": "code",
      "metadata": {
        "id": "evNoQryAKfSK"
      },
      "source": [
        "opt_cbc = SolverFactory('cbc')"
      ],
      "execution_count": 32,
      "outputs": []
    },
    {
      "cell_type": "code",
      "metadata": {
        "colab": {
          "base_uri": "https://localhost:8080/"
        },
        "id": "fsX3aysEKvKN",
        "outputId": "3bf18c69-9249-4fb3-f4cc-77b7baeab5b0"
      },
      "source": [
        "result = opt_cbc.solve(model)\n",
        "print('Solver status:', result.solver.status)\n",
        "print('Solver termination condition:',result.solver.termination_condition)"
      ],
      "execution_count": 33,
      "outputs": [
        {
          "output_type": "stream",
          "name": "stdout",
          "text": [
            "Solver status: ok\n",
            "Solver termination condition: optimal\n"
          ]
        }
      ]
    },
    {
      "cell_type": "code",
      "metadata": {
        "colab": {
          "base_uri": "https://localhost:8080/"
        },
        "id": "X8A2OlIdKxN5",
        "outputId": "60d58328-db38-4689-9217-921197414346"
      },
      "source": [
        "print('Optimal Cost for setting up: ',model.obj())"
      ],
      "execution_count": 35,
      "outputs": [
        {
          "output_type": "stream",
          "name": "stdout",
          "text": [
            "Optimal Cost for setting up:  203.0\n"
          ]
        }
      ]
    },
    {
      "cell_type": "code",
      "metadata": {
        "colab": {
          "base_uri": "https://localhost:8080/"
        },
        "id": "wtNwLDqqCgG8",
        "outputId": "18f2676b-75d3-43bd-a3e5-cba25ed69e79"
      },
      "source": [
        "# display solution\n",
        "print('Objective Cost of setting up the factories = ', model.obj())"
      ],
      "execution_count": 36,
      "outputs": [
        {
          "output_type": "stream",
          "name": "stdout",
          "text": [
            "Objective Cost of setting up the factories =  203.0\n"
          ]
        }
      ]
    },
    {
      "cell_type": "code",
      "metadata": {
        "colab": {
          "base_uri": "https://localhost:8080/"
        },
        "id": "RIdCKUfwKzbK",
        "outputId": "4418ee77-4c3c-4b0e-84c3-d0130e467a9f"
      },
      "source": [
        "for i in row_indices:\n",
        "  for j in col_indices:\n",
        "    if model.x[i,j].value > 0:\n",
        "      print('Factory ',i+1,'is located at location ',j+1)\n",
        "    else:\n",
        "      pass"
      ],
      "execution_count": 37,
      "outputs": [
        {
          "output_type": "stream",
          "name": "stdout",
          "text": [
            "Factory  1 is located at location  7\n",
            "Factory  2 is located at location  2\n",
            "Factory  3 is located at location  5\n",
            "Factory  4 is located at location  1\n",
            "Factory  5 is located at location  11\n",
            "Factory  6 is located at location  3\n",
            "Factory  7 is located at location  6\n",
            "Factory  8 is located at location  4\n",
            "Factory  9 is located at location  10\n",
            "Factory  10 is located at location  12\n",
            "Factory  11 is located at location  9\n",
            "Factory  12 is located at location  8\n"
          ]
        }
      ]
    },
    {
      "cell_type": "markdown",
      "metadata": {
        "id": "n2Da3GboLYxO"
      },
      "source": [
        "we got the same optimal solution as in the case of non restriction upon the variables x[1,3],x[9,5],x[5,10] as these variables were anyway zero in the basic assignment problem,\n",
        "\n",
        "And by 0 restriction imposed on it, some extra constraints are imposed in the model and as a result optimal cost for the new model should be greater than or equal to optimal solution of the initial model. But here the optimal solution of the initial model is actually a feasible solution for the changed model also.So optimal solution of the initial model  will be optimal for both the initial and new model. So restricting the Three variables x[1,3],x[9,5],x[5,10] to zero didn't make any effect upon the optimal cost and the values of the other variables."
      ]
    }
  ]
}