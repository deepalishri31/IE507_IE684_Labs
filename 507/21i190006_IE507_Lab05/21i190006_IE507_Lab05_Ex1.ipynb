{
  "nbformat": 4,
  "nbformat_minor": 0,
  "metadata": {
    "colab": {
      "name": "21i190006_IE507_Lab05_Ex1.ipynb",
      "provenance": [],
      "collapsed_sections": []
    },
    "kernelspec": {
      "name": "python3",
      "display_name": "Python 3"
    },
    "language_info": {
      "name": "python"
    }
  },
  "cells": [
    {
      "cell_type": "markdown",
      "metadata": {
        "id": "c47uta3xk-CQ"
      },
      "source": [
        "Ex 1"
      ]
    },
    {
      "cell_type": "markdown",
      "metadata": {
        "id": "U0buGRsHuBdT"
      },
      "source": [
        "Let $x_{ij} $ be the number of truckloads of  WMUs transported from $w_i \\ warehouse\\ to \\ m_j\\ Market$. \\\\\n",
        "Where both $\\ i\\ and\\ j \\in \\{1,2,3,4,5,6,7,8\\} $ \\\\\n",
        "where i = 1 to 8 stands for warehouses at Ahmedabad, Bengaluru, Chennai, Delhi, Kolkata, Lucknow, Mumbai, Hyderabad\n",
        "\n",
        "j =  1 to 8 denotes the markets of  Hassan, Jodhpur , Trichy , Simla  ,Vijayawada , Dibrugarh ,Raipur ,Agartala respectively.\n",
        "\n",
        "If $d_j$ be the demand at market j, then the demand constraints will be:\n",
        "\n",
        "$$ \\sum_{i=1}^{8}x_{ij} = d_j \\ for\\ j \\in \\{1,2,...,8\\}$$\n",
        "\n",
        "And if $ s_i$ be the available stock at market i , then the availability constraints will be:\n",
        "\n",
        "$$ \\sum_{j=1}^{8}x_{ij} \\leq s_i \\ for\\ i \\in \\{1,2,...,8\\}$$\n",
        "\n",
        "Now if $C_{ij}$ be the cost of transporting one truck load from i warehouse to j market, then the objective function will be:\n",
        "\n",
        "$$ \\ Min  \\sum_{i=1}^{8}\\sum_{j=1}^{8}C_{ij}.x_{ij} $$\n",
        "\n",
        "\n",
        " $$x_{ij} \\geq 0 \\ for \\ all \\ i, j $$"
      ]
    },
    {
      "cell_type": "code",
      "metadata": {
        "id": "GTNCZW7PS_kF"
      },
      "source": [
        "!pip install -q pyomo"
      ],
      "execution_count": null,
      "outputs": []
    },
    {
      "cell_type": "code",
      "metadata": {
        "id": "uZxC6L1ATA_W"
      },
      "source": [
        "from pyomo.environ import * "
      ],
      "execution_count": null,
      "outputs": []
    },
    {
      "cell_type": "code",
      "metadata": {
        "id": "phb9mfxAunCM"
      },
      "source": [
        "import pandas as pd"
      ],
      "execution_count": null,
      "outputs": []
    },
    {
      "cell_type": "code",
      "metadata": {
        "id": "NbXQ7k-mTFVP"
      },
      "source": [
        "import numpy as np"
      ],
      "execution_count": null,
      "outputs": []
    },
    {
      "cell_type": "markdown",
      "metadata": {
        "id": "YkvMGzsCnFi3"
      },
      "source": [
        "Question 4 \\\\\n",
        "Using pandas to load file"
      ]
    },
    {
      "cell_type": "code",
      "metadata": {
        "id": "FyPzNo6YwBmn"
      },
      "source": [
        "df = pd.read_csv('lab05_ex1.csv')"
      ],
      "execution_count": null,
      "outputs": []
    },
    {
      "cell_type": "markdown",
      "metadata": {
        "id": "4rRjJ2AOu4i0"
      },
      "source": [
        "Question 5"
      ]
    },
    {
      "cell_type": "code",
      "metadata": {
        "id": "iPdp_mBFwIHj"
      },
      "source": [
        "#create model\n",
        "model = ConcreteModel()"
      ],
      "execution_count": null,
      "outputs": []
    },
    {
      "cell_type": "code",
      "metadata": {
        "id": "O_foz6rOTm12",
        "colab": {
          "base_uri": "https://localhost:8080/"
        },
        "outputId": "ccd51c5a-726b-442b-cd31-da5d6783c657"
      },
      "source": [
        "#M denotes no. of steel plants\n",
        "M = len(df.index)-1 \n",
        "print('No. of steel plants:',M)\n",
        "row_indices = range(M)\n",
        "print(row_indices)"
      ],
      "execution_count": null,
      "outputs": [
        {
          "output_type": "stream",
          "name": "stdout",
          "text": [
            "No. of steel plants: 8\n",
            "range(0, 8)\n"
          ]
        }
      ]
    },
    {
      "cell_type": "code",
      "metadata": {
        "colab": {
          "base_uri": "https://localhost:8080/"
        },
        "id": "VRDdmXqwwOau",
        "outputId": "045958ac-83c4-4a1b-8940-5f24c35252c5"
      },
      "source": [
        "# N denotes no. of hubs\n",
        "N = len(df.columns)-2 \n",
        "print('No. of hubs:',N)\n",
        "column_indices = range(N)\n",
        "print(column_indices)"
      ],
      "execution_count": null,
      "outputs": [
        {
          "output_type": "stream",
          "name": "stdout",
          "text": [
            "No. of hubs: 8\n",
            "range(0, 8)\n"
          ]
        }
      ]
    },
    {
      "cell_type": "code",
      "metadata": {
        "colab": {
          "base_uri": "https://localhost:8080/"
        },
        "id": "aFck5kB_wZzv",
        "outputId": "4faf2f5d-72cf-40b0-c8d1-5025354e8b07"
      },
      "source": [
        "for row_idx in row_indices:\n",
        "  for col_idx in column_indices:\n",
        "    print('cost[',row_idx,'][',col_idx+1,']:',df.iloc[row_idx, col_idx+1])"
      ],
      "execution_count": null,
      "outputs": [
        {
          "output_type": "stream",
          "name": "stdout",
          "text": [
            "cost[ 0 ][ 1 ]: 627\n",
            "cost[ 0 ][ 2 ]: 617\n",
            "cost[ 0 ][ 3 ]: 1270\n",
            "cost[ 0 ][ 4 ]: 2072\n",
            "cost[ 0 ][ 5 ]: 1415\n",
            "cost[ 0 ][ 6 ]: 2943\n",
            "cost[ 0 ][ 7 ]: 1064\n",
            "cost[ 0 ][ 8 ]: 4265\n",
            "cost[ 1 ][ 1 ]: 159\n",
            "cost[ 1 ][ 2 ]: 1432\n",
            "cost[ 1 ][ 3 ]: 351\n",
            "cost[ 1 ][ 4 ]: 3372\n",
            "cost[ 1 ][ 5 ]: 237\n",
            "cost[ 1 ][ 6 ]: 3373\n",
            "cost[ 1 ][ 7 ]: 1456\n",
            "cost[ 1 ][ 8 ]: 5059\n",
            "cost[ 2 ][ 1 ]: 609\n",
            "cost[ 2 ][ 2 ]: 1943\n",
            "cost[ 2 ][ 3 ]: 77\n",
            "cost[ 2 ][ 4 ]: 3365\n",
            "cost[ 2 ][ 5 ]: 298\n",
            "cost[ 2 ][ 6 ]: 3021\n",
            "cost[ 2 ][ 7 ]: 1484\n",
            "cost[ 2 ][ 8 ]: 4803\n",
            "cost[ 3 ][ 1 ]: 2143\n",
            "cost[ 3 ][ 2 ]: 671\n",
            "cost[ 3 ][ 3 ]: 3876\n",
            "cost[ 3 ][ 4 ]: 537\n",
            "cost[ 3 ][ 5 ]: 1902\n",
            "cost[ 3 ][ 6 ]: 1941\n",
            "cost[ 3 ][ 7 ]: 1682\n",
            "cost[ 3 ][ 8 ]: 3348\n",
            "cost[ 4 ][ 1 ]: 2742\n",
            "cost[ 4 ][ 2 ]: 2089\n",
            "cost[ 4 ][ 3 ]: 1931\n",
            "cost[ 4 ][ 4 ]: 2199\n",
            "cost[ 4 ][ 5 ]: 1226\n",
            "cost[ 4 ][ 6 ]: 739\n",
            "cost[ 4 ][ 7 ]: 691\n",
            "cost[ 4 ][ 8 ]: 1128\n",
            "cost[ 5 ][ 1 ]: 2053\n",
            "cost[ 5 ][ 2 ]: 860\n",
            "cost[ 5 ][ 3 ]: 2995\n",
            "cost[ 5 ][ 4 ]: 68\n",
            "cost[ 5 ][ 5 ]: 2069\n",
            "cost[ 5 ][ 6 ]: 2065\n",
            "cost[ 5 ][ 7 ]: 993\n",
            "cost[ 5 ][ 8 ]: 3342\n",
            "cost[ 6 ][ 1 ]: 656\n",
            "cost[ 6 ][ 2 ]: 817\n",
            "cost[ 6 ][ 3 ]: 1245\n",
            "cost[ 6 ][ 4 ]: 2141\n",
            "cost[ 6 ][ 5 ]: 1534\n",
            "cost[ 6 ][ 6 ]: 3351\n",
            "cost[ 6 ][ 7 ]: 1137\n",
            "cost[ 6 ][ 8 ]: 3887\n",
            "cost[ 7 ][ 1 ]: 195\n",
            "cost[ 7 ][ 2 ]: 1862\n",
            "cost[ 7 ][ 3 ]: 1331\n",
            "cost[ 7 ][ 4 ]: 2921\n",
            "cost[ 7 ][ 5 ]: 402\n",
            "cost[ 7 ][ 6 ]: 2825\n",
            "cost[ 7 ][ 7 ]: 563\n",
            "cost[ 7 ][ 8 ]: 4441\n"
          ]
        }
      ]
    },
    {
      "cell_type": "code",
      "metadata": {
        "id": "MJc0QVffwfLx"
      },
      "source": [
        "#Defining decision variables:\n",
        "model.x = Var(row_indices, column_indices, domain= NonNegativeIntegers)\n",
        "# Number of truckloads will always be non negative integers"
      ],
      "execution_count": null,
      "outputs": []
    },
    {
      "cell_type": "code",
      "metadata": {
        "id": "f6RV6M3pwhOV"
      },
      "source": [
        "#Defining Objective\n",
        "model.objective = Objective(expr=sum(df.iloc[i,j+1]*model.x[i,j] for i in row_indices for j in column_indices),sense=minimize)"
      ],
      "execution_count": null,
      "outputs": []
    },
    {
      "cell_type": "code",
      "metadata": {
        "id": "puH4u4FPwkqh"
      },
      "source": [
        "#Defining Constraints list\n",
        "model.constraints = ConstraintList()"
      ],
      "execution_count": null,
      "outputs": []
    },
    {
      "cell_type": "code",
      "metadata": {
        "id": "8tjiP5Howo2_"
      },
      "source": [
        "#Availability Constraints:\n",
        "for i in range(M):\n",
        "  model.constraints.add(expr=sum(model.x[i,j] for j in column_indices) <= df.iloc[i,N+1])"
      ],
      "execution_count": null,
      "outputs": []
    },
    {
      "cell_type": "code",
      "metadata": {
        "id": "vd7idW9Owri1"
      },
      "source": [
        "#Demand Constraints\n",
        "for j in range(N):\n",
        "  model.constraints.add(expr=sum(model.x[i,j] for i in row_indices) == df.iloc[M,j+1])"
      ],
      "execution_count": null,
      "outputs": []
    },
    {
      "cell_type": "code",
      "metadata": {
        "colab": {
          "base_uri": "https://localhost:8080/"
        },
        "id": "UfLV6Sc-lrKh",
        "outputId": "858d11b3-5669-41cb-b6fa-81bac6bc626a"
      },
      "source": [
        "model.pprint()"
      ],
      "execution_count": null,
      "outputs": [
        {
          "output_type": "stream",
          "name": "stdout",
          "text": [
            "4 Set Declarations\n",
            "    constraints_index : Size=1, Index=None, Ordered=Insertion\n",
            "        Key  : Dimen : Domain : Size : Members\n",
            "        None :     1 :    Any :   16 : {1, 2, 3, 4, 5, 6, 7, 8, 9, 10, 11, 12, 13, 14, 15, 16}\n",
            "    x_index : Size=1, Index=None, Ordered=False\n",
            "        Key  : Dimen : Domain              : Size : Members\n",
            "        None :     2 : x_index_0*x_index_1 :   64 : {(0, 0), (0, 1), (0, 2), (0, 3), (0, 4), (0, 5), (0, 6), (0, 7), (1, 0), (1, 1), (1, 2), (1, 3), (1, 4), (1, 5), (1, 6), (1, 7), (2, 0), (2, 1), (2, 2), (2, 3), (2, 4), (2, 5), (2, 6), (2, 7), (3, 0), (3, 1), (3, 2), (3, 3), (3, 4), (3, 5), (3, 6), (3, 7), (4, 0), (4, 1), (4, 2), (4, 3), (4, 4), (4, 5), (4, 6), (4, 7), (5, 0), (5, 1), (5, 2), (5, 3), (5, 4), (5, 5), (5, 6), (5, 7), (6, 0), (6, 1), (6, 2), (6, 3), (6, 4), (6, 5), (6, 6), (6, 7), (7, 0), (7, 1), (7, 2), (7, 3), (7, 4), (7, 5), (7, 6), (7, 7)}\n",
            "    x_index_0 : Size=1, Index=None, Ordered=False\n",
            "        Key  : Dimen : Domain : Size : Members\n",
            "        None :     1 :    Any :    8 : {0, 1, 2, 3, 4, 5, 6, 7}\n",
            "    x_index_1 : Size=1, Index=None, Ordered=False\n",
            "        Key  : Dimen : Domain : Size : Members\n",
            "        None :     1 :    Any :    8 : {0, 1, 2, 3, 4, 5, 6, 7}\n",
            "\n",
            "1 Var Declarations\n",
            "    x : Size=64, Index=x_index\n",
            "        Key    : Lower : Value : Upper : Fixed : Stale : Domain\n",
            "        (0, 0) :     0 :  None :  None : False :  True : NonNegativeIntegers\n",
            "        (0, 1) :     0 :  None :  None : False :  True : NonNegativeIntegers\n",
            "        (0, 2) :     0 :  None :  None : False :  True : NonNegativeIntegers\n",
            "        (0, 3) :     0 :  None :  None : False :  True : NonNegativeIntegers\n",
            "        (0, 4) :     0 :  None :  None : False :  True : NonNegativeIntegers\n",
            "        (0, 5) :     0 :  None :  None : False :  True : NonNegativeIntegers\n",
            "        (0, 6) :     0 :  None :  None : False :  True : NonNegativeIntegers\n",
            "        (0, 7) :     0 :  None :  None : False :  True : NonNegativeIntegers\n",
            "        (1, 0) :     0 :  None :  None : False :  True : NonNegativeIntegers\n",
            "        (1, 1) :     0 :  None :  None : False :  True : NonNegativeIntegers\n",
            "        (1, 2) :     0 :  None :  None : False :  True : NonNegativeIntegers\n",
            "        (1, 3) :     0 :  None :  None : False :  True : NonNegativeIntegers\n",
            "        (1, 4) :     0 :  None :  None : False :  True : NonNegativeIntegers\n",
            "        (1, 5) :     0 :  None :  None : False :  True : NonNegativeIntegers\n",
            "        (1, 6) :     0 :  None :  None : False :  True : NonNegativeIntegers\n",
            "        (1, 7) :     0 :  None :  None : False :  True : NonNegativeIntegers\n",
            "        (2, 0) :     0 :  None :  None : False :  True : NonNegativeIntegers\n",
            "        (2, 1) :     0 :  None :  None : False :  True : NonNegativeIntegers\n",
            "        (2, 2) :     0 :  None :  None : False :  True : NonNegativeIntegers\n",
            "        (2, 3) :     0 :  None :  None : False :  True : NonNegativeIntegers\n",
            "        (2, 4) :     0 :  None :  None : False :  True : NonNegativeIntegers\n",
            "        (2, 5) :     0 :  None :  None : False :  True : NonNegativeIntegers\n",
            "        (2, 6) :     0 :  None :  None : False :  True : NonNegativeIntegers\n",
            "        (2, 7) :     0 :  None :  None : False :  True : NonNegativeIntegers\n",
            "        (3, 0) :     0 :  None :  None : False :  True : NonNegativeIntegers\n",
            "        (3, 1) :     0 :  None :  None : False :  True : NonNegativeIntegers\n",
            "        (3, 2) :     0 :  None :  None : False :  True : NonNegativeIntegers\n",
            "        (3, 3) :     0 :  None :  None : False :  True : NonNegativeIntegers\n",
            "        (3, 4) :     0 :  None :  None : False :  True : NonNegativeIntegers\n",
            "        (3, 5) :     0 :  None :  None : False :  True : NonNegativeIntegers\n",
            "        (3, 6) :     0 :  None :  None : False :  True : NonNegativeIntegers\n",
            "        (3, 7) :     0 :  None :  None : False :  True : NonNegativeIntegers\n",
            "        (4, 0) :     0 :  None :  None : False :  True : NonNegativeIntegers\n",
            "        (4, 1) :     0 :  None :  None : False :  True : NonNegativeIntegers\n",
            "        (4, 2) :     0 :  None :  None : False :  True : NonNegativeIntegers\n",
            "        (4, 3) :     0 :  None :  None : False :  True : NonNegativeIntegers\n",
            "        (4, 4) :     0 :  None :  None : False :  True : NonNegativeIntegers\n",
            "        (4, 5) :     0 :  None :  None : False :  True : NonNegativeIntegers\n",
            "        (4, 6) :     0 :  None :  None : False :  True : NonNegativeIntegers\n",
            "        (4, 7) :     0 :  None :  None : False :  True : NonNegativeIntegers\n",
            "        (5, 0) :     0 :  None :  None : False :  True : NonNegativeIntegers\n",
            "        (5, 1) :     0 :  None :  None : False :  True : NonNegativeIntegers\n",
            "        (5, 2) :     0 :  None :  None : False :  True : NonNegativeIntegers\n",
            "        (5, 3) :     0 :  None :  None : False :  True : NonNegativeIntegers\n",
            "        (5, 4) :     0 :  None :  None : False :  True : NonNegativeIntegers\n",
            "        (5, 5) :     0 :  None :  None : False :  True : NonNegativeIntegers\n",
            "        (5, 6) :     0 :  None :  None : False :  True : NonNegativeIntegers\n",
            "        (5, 7) :     0 :  None :  None : False :  True : NonNegativeIntegers\n",
            "        (6, 0) :     0 :  None :  None : False :  True : NonNegativeIntegers\n",
            "        (6, 1) :     0 :  None :  None : False :  True : NonNegativeIntegers\n",
            "        (6, 2) :     0 :  None :  None : False :  True : NonNegativeIntegers\n",
            "        (6, 3) :     0 :  None :  None : False :  True : NonNegativeIntegers\n",
            "        (6, 4) :     0 :  None :  None : False :  True : NonNegativeIntegers\n",
            "        (6, 5) :     0 :  None :  None : False :  True : NonNegativeIntegers\n",
            "        (6, 6) :     0 :  None :  None : False :  True : NonNegativeIntegers\n",
            "        (6, 7) :     0 :  None :  None : False :  True : NonNegativeIntegers\n",
            "        (7, 0) :     0 :  None :  None : False :  True : NonNegativeIntegers\n",
            "        (7, 1) :     0 :  None :  None : False :  True : NonNegativeIntegers\n",
            "        (7, 2) :     0 :  None :  None : False :  True : NonNegativeIntegers\n",
            "        (7, 3) :     0 :  None :  None : False :  True : NonNegativeIntegers\n",
            "        (7, 4) :     0 :  None :  None : False :  True : NonNegativeIntegers\n",
            "        (7, 5) :     0 :  None :  None : False :  True : NonNegativeIntegers\n",
            "        (7, 6) :     0 :  None :  None : False :  True : NonNegativeIntegers\n",
            "        (7, 7) :     0 :  None :  None : False :  True : NonNegativeIntegers\n",
            "\n",
            "1 Objective Declarations\n",
            "    objective : Size=1, Index=None, Active=True\n",
            "        Key  : Active : Sense    : Expression\n",
            "        None :   True : minimize : 627*x[0,0] + 617*x[0,1] + 1270*x[0,2] + 2072*x[0,3] + 1415*x[0,4] + 2943*x[0,5] + 1064*x[0,6] + 4265*x[0,7] + 159*x[1,0] + 1432*x[1,1] + 351*x[1,2] + 3372*x[1,3] + 237*x[1,4] + 3373*x[1,5] + 1456*x[1,6] + 5059*x[1,7] + 609*x[2,0] + 1943*x[2,1] + 77*x[2,2] + 3365*x[2,3] + 298*x[2,4] + 3021*x[2,5] + 1484*x[2,6] + 4803*x[2,7] + 2143*x[3,0] + 671*x[3,1] + 3876*x[3,2] + 537*x[3,3] + 1902*x[3,4] + 1941*x[3,5] + 1682*x[3,6] + 3348*x[3,7] + 2742*x[4,0] + 2089*x[4,1] + 1931*x[4,2] + 2199*x[4,3] + 1226*x[4,4] + 739*x[4,5] + 691*x[4,6] + 1128*x[4,7] + 2053*x[5,0] + 860*x[5,1] + 2995*x[5,2] + 68*x[5,3] + 2069*x[5,4] + 2065*x[5,5] + 993*x[5,6] + 3342*x[5,7] + 656*x[6,0] + 817*x[6,1] + 1245*x[6,2] + 2141*x[6,3] + 1534*x[6,4] + 3351*x[6,5] + 1137*x[6,6] + 3887*x[6,7] + 195*x[7,0] + 1862*x[7,1] + 1331*x[7,2] + 2921*x[7,3] + 402*x[7,4] + 2825*x[7,5] + 563*x[7,6] + 4441*x[7,7]\n",
            "\n",
            "1 Constraint Declarations\n",
            "    constraints : Size=16, Index=constraints_index, Active=True\n",
            "        Key : Lower : Body                                                                  : Upper : Active\n",
            "          1 :  -Inf : x[0,0] + x[0,1] + x[0,2] + x[0,3] + x[0,4] + x[0,5] + x[0,6] + x[0,7] : 185.0 :   True\n",
            "          2 :  -Inf : x[1,0] + x[1,1] + x[1,2] + x[1,3] + x[1,4] + x[1,5] + x[1,6] + x[1,7] : 350.0 :   True\n",
            "          3 :  -Inf : x[2,0] + x[2,1] + x[2,2] + x[2,3] + x[2,4] + x[2,5] + x[2,6] + x[2,7] : 405.0 :   True\n",
            "          4 :  -Inf : x[3,0] + x[3,1] + x[3,2] + x[3,3] + x[3,4] + x[3,5] + x[3,6] + x[3,7] : 280.0 :   True\n",
            "          5 :  -Inf : x[4,0] + x[4,1] + x[4,2] + x[4,3] + x[4,4] + x[4,5] + x[4,6] + x[4,7] : 105.0 :   True\n",
            "          6 :  -Inf : x[5,0] + x[5,1] + x[5,2] + x[5,3] + x[5,4] + x[5,5] + x[5,6] + x[5,7] :  75.0 :   True\n",
            "          7 :  -Inf : x[6,0] + x[6,1] + x[6,2] + x[6,3] + x[6,4] + x[6,5] + x[6,6] + x[6,7] : 425.0 :   True\n",
            "          8 :  -Inf : x[7,0] + x[7,1] + x[7,2] + x[7,3] + x[7,4] + x[7,5] + x[7,6] + x[7,7] : 270.0 :   True\n",
            "          9 : 175.0 : x[0,0] + x[1,0] + x[2,0] + x[3,0] + x[4,0] + x[5,0] + x[6,0] + x[7,0] : 175.0 :   True\n",
            "         10 : 400.0 : x[0,1] + x[1,1] + x[2,1] + x[3,1] + x[4,1] + x[5,1] + x[6,1] + x[7,1] : 400.0 :   True\n",
            "         11 : 550.0 : x[0,2] + x[1,2] + x[2,2] + x[3,2] + x[4,2] + x[5,2] + x[6,2] + x[7,2] : 550.0 :   True\n",
            "         12 :  70.0 : x[0,3] + x[1,3] + x[2,3] + x[3,3] + x[4,3] + x[5,3] + x[6,3] + x[7,3] :  70.0 :   True\n",
            "         13 : 650.0 : x[0,4] + x[1,4] + x[2,4] + x[3,4] + x[4,4] + x[5,4] + x[6,4] + x[7,4] : 650.0 :   True\n",
            "         14 : 100.0 : x[0,5] + x[1,5] + x[2,5] + x[3,5] + x[4,5] + x[5,5] + x[6,5] + x[7,5] : 100.0 :   True\n",
            "         15 :  65.0 : x[0,6] + x[1,6] + x[2,6] + x[3,6] + x[4,6] + x[5,6] + x[6,6] + x[7,6] :  65.0 :   True\n",
            "         16 :  85.0 : x[0,7] + x[1,7] + x[2,7] + x[3,7] + x[4,7] + x[5,7] + x[6,7] + x[7,7] :  85.0 :   True\n",
            "\n",
            "7 Declarations: x_index_0 x_index_1 x_index x objective constraints_index constraints\n"
          ]
        }
      ]
    },
    {
      "cell_type": "markdown",
      "metadata": {
        "id": "JNR9vFfBvDv7"
      },
      "source": [
        "Question 6."
      ]
    },
    {
      "cell_type": "code",
      "metadata": {
        "id": "saXTLU9Vp6Bv"
      },
      "source": [
        "!apt-get install -y -qq coinor-cbc"
      ],
      "execution_count": null,
      "outputs": []
    },
    {
      "cell_type": "code",
      "metadata": {
        "colab": {
          "base_uri": "https://localhost:8080/"
        },
        "id": "p3gnxAWsl6u2",
        "outputId": "6f76fb2c-92c8-44e4-caec-0e1df7ac88fd"
      },
      "source": [
        "opt_cbc = SolverFactory('cbc')\n",
        "result = opt_cbc.solve(model)\n",
        "print('Solver status:', result.solver.status)\n",
        "print('Solver termination condition:',result.solver.termination_condition)"
      ],
      "execution_count": null,
      "outputs": [
        {
          "output_type": "stream",
          "name": "stdout",
          "text": [
            "Solver status: ok\n",
            "Solver termination condition: optimal\n"
          ]
        }
      ]
    },
    {
      "cell_type": "code",
      "metadata": {
        "colab": {
          "base_uri": "https://localhost:8080/"
        },
        "id": "FG2unH9cqFWI",
        "outputId": "d3aa44d0-58f1-4214-ad1f-725b31f71d65"
      },
      "source": [
        "#Printing the value of objective function\n",
        "print('Total Objective Cost : ', model.objective())"
      ],
      "execution_count": null,
      "outputs": [
        {
          "output_type": "stream",
          "name": "stdout",
          "text": [
            "Total Objective Cost :  1166465.0\n"
          ]
        }
      ]
    },
    {
      "cell_type": "code",
      "metadata": {
        "colab": {
          "base_uri": "https://localhost:8080/"
        },
        "id": "n1zmFVJDmK-q",
        "outputId": "d7911075-2093-471f-ccd4-aa64cb003f8b"
      },
      "source": [
        "print('Non zero decision Variables details')\n",
        "for i in row_indices:\n",
        "  for j in column_indices:\n",
        "     if model.x[i,j].value!=0:\n",
        "      print('No. of trucks of WMU that are transported from ',df.Origin_Dest[i],' to ', df.columns[j+1],':', model.x[i,j].value)\n"
      ],
      "execution_count": null,
      "outputs": [
        {
          "output_type": "stream",
          "name": "stdout",
          "text": [
            "Non zero decision Variables details\n",
            "No. of trucks of WMU that are transported from  Ahmedabad  to  Jodhpur : 185.0\n",
            "No. of trucks of WMU that are transported from  Bengaluru  to  Vijaywada : 350.0\n",
            "No. of trucks of WMU that are transported from  Chennai  to  Trichy : 375.0\n",
            "No. of trucks of WMU that are transported from  Chennai  to  Vijaywada : 30.0\n",
            "No. of trucks of WMU that are transported from  Delhi  to  Jodhpur : 200.0\n",
            "No. of trucks of WMU that are transported from  Delhi  to  Dibrugarh : 80.0\n",
            "No. of trucks of WMU that are transported from  Kolkata  to  Dibrugarh : 20.0\n",
            "No. of trucks of WMU that are transported from  Kolkata  to  Agartala : 85.0\n",
            "No. of trucks of WMU that are transported from  Lucknow  to  Simla : 70.0\n",
            "No. of trucks of WMU that are transported from  Lucknow  to  Raipur : 5.0\n",
            "No. of trucks of WMU that are transported from  Mumbai  to  Hassan : 175.0\n",
            "No. of trucks of WMU that are transported from  Mumbai  to  Jodhpur : 15.0\n",
            "No. of trucks of WMU that are transported from  Mumbai  to  Trichy : 175.0\n",
            "No. of trucks of WMU that are transported from  Mumbai  to  Raipur : 60.0\n",
            "No. of trucks of WMU that are transported from  Hyderabad  to  Vijaywada : 270.0\n"
          ]
        }
      ]
    },
    {
      "cell_type": "markdown",
      "metadata": {
        "id": "rDOea7sDvIpq"
      },
      "source": [
        "Question 8"
      ]
    },
    {
      "cell_type": "markdown",
      "metadata": {
        "id": "Fv3lelSivKYh"
      },
      "source": [
        "We will increase the transportation cost significantly higher than the other routes costs , so that the transportation of truck loads between Benglore and Hassan becomes zero in optimized solution"
      ]
    },
    {
      "cell_type": "code",
      "metadata": {
        "id": "RRduAsymEfos"
      },
      "source": [
        "df.iloc[1, 1]=1000000"
      ],
      "execution_count": null,
      "outputs": []
    },
    {
      "cell_type": "code",
      "metadata": {
        "colab": {
          "base_uri": "https://localhost:8080/"
        },
        "id": "jLkT0wA1Ehh2",
        "outputId": "5e86f5f3-44dd-4d58-9403-63f2dc9107e3"
      },
      "source": [
        "for row_idx in row_indices:\n",
        "  for col_idx in column_indices:\n",
        "    print('cost[',row_idx,'][',col_idx+1,']:',df.iloc[row_idx, col_idx+1])"
      ],
      "execution_count": null,
      "outputs": [
        {
          "output_type": "stream",
          "name": "stdout",
          "text": [
            "cost[ 0 ][ 1 ]: 627\n",
            "cost[ 0 ][ 2 ]: 617\n",
            "cost[ 0 ][ 3 ]: 1270\n",
            "cost[ 0 ][ 4 ]: 2072\n",
            "cost[ 0 ][ 5 ]: 1415\n",
            "cost[ 0 ][ 6 ]: 2943\n",
            "cost[ 0 ][ 7 ]: 1064\n",
            "cost[ 0 ][ 8 ]: 4265\n",
            "cost[ 1 ][ 1 ]: 1000000\n",
            "cost[ 1 ][ 2 ]: 1432\n",
            "cost[ 1 ][ 3 ]: 351\n",
            "cost[ 1 ][ 4 ]: 3372\n",
            "cost[ 1 ][ 5 ]: 237\n",
            "cost[ 1 ][ 6 ]: 3373\n",
            "cost[ 1 ][ 7 ]: 1456\n",
            "cost[ 1 ][ 8 ]: 5059\n",
            "cost[ 2 ][ 1 ]: 609\n",
            "cost[ 2 ][ 2 ]: 1943\n",
            "cost[ 2 ][ 3 ]: 77\n",
            "cost[ 2 ][ 4 ]: 3365\n",
            "cost[ 2 ][ 5 ]: 298\n",
            "cost[ 2 ][ 6 ]: 3021\n",
            "cost[ 2 ][ 7 ]: 1484\n",
            "cost[ 2 ][ 8 ]: 4803\n",
            "cost[ 3 ][ 1 ]: 2143\n",
            "cost[ 3 ][ 2 ]: 671\n",
            "cost[ 3 ][ 3 ]: 3876\n",
            "cost[ 3 ][ 4 ]: 537\n",
            "cost[ 3 ][ 5 ]: 1902\n",
            "cost[ 3 ][ 6 ]: 1941\n",
            "cost[ 3 ][ 7 ]: 1682\n",
            "cost[ 3 ][ 8 ]: 3348\n",
            "cost[ 4 ][ 1 ]: 2742\n",
            "cost[ 4 ][ 2 ]: 2089\n",
            "cost[ 4 ][ 3 ]: 1931\n",
            "cost[ 4 ][ 4 ]: 2199\n",
            "cost[ 4 ][ 5 ]: 1226\n",
            "cost[ 4 ][ 6 ]: 739\n",
            "cost[ 4 ][ 7 ]: 691\n",
            "cost[ 4 ][ 8 ]: 1128\n",
            "cost[ 5 ][ 1 ]: 2053\n",
            "cost[ 5 ][ 2 ]: 860\n",
            "cost[ 5 ][ 3 ]: 2995\n",
            "cost[ 5 ][ 4 ]: 68\n",
            "cost[ 5 ][ 5 ]: 2069\n",
            "cost[ 5 ][ 6 ]: 2065\n",
            "cost[ 5 ][ 7 ]: 993\n",
            "cost[ 5 ][ 8 ]: 3342\n",
            "cost[ 6 ][ 1 ]: 656\n",
            "cost[ 6 ][ 2 ]: 817\n",
            "cost[ 6 ][ 3 ]: 1245\n",
            "cost[ 6 ][ 4 ]: 2141\n",
            "cost[ 6 ][ 5 ]: 1534\n",
            "cost[ 6 ][ 6 ]: 3351\n",
            "cost[ 6 ][ 7 ]: 1137\n",
            "cost[ 6 ][ 8 ]: 3887\n",
            "cost[ 7 ][ 1 ]: 195\n",
            "cost[ 7 ][ 2 ]: 1862\n",
            "cost[ 7 ][ 3 ]: 1331\n",
            "cost[ 7 ][ 4 ]: 2921\n",
            "cost[ 7 ][ 5 ]: 402\n",
            "cost[ 7 ][ 6 ]: 2825\n",
            "cost[ 7 ][ 7 ]: 563\n",
            "cost[ 7 ][ 8 ]: 4441\n"
          ]
        }
      ]
    },
    {
      "cell_type": "code",
      "metadata": {
        "colab": {
          "base_uri": "https://localhost:8080/"
        },
        "id": "mFvT8mfvrk9D",
        "outputId": "bf6357e9-c594-4320-efc5-628060f7c063"
      },
      "source": [
        "model.objective = Objective(expr=sum(df.iloc[i,j+1]*model.x[i,j] for i in row_indices for j in column_indices),sense=minimize)"
      ],
      "execution_count": null,
      "outputs": [
        {
          "output_type": "stream",
          "name": "stdout",
          "text": [
            "WARNING: Implicitly replacing the Component attribute objective (type=<class\n",
            "    'pyomo.core.base.objective.ScalarObjective'>) on block unknown with a new\n",
            "    Component (type=<class 'pyomo.core.base.objective.ScalarObjective'>). This\n",
            "    is usually indicative of a modelling error. To avoid this warning, use\n",
            "    block.del_component() and block.add_component().\n"
          ]
        }
      ]
    },
    {
      "cell_type": "code",
      "metadata": {
        "colab": {
          "base_uri": "https://localhost:8080/"
        },
        "id": "ay4gnHzGrmlN",
        "outputId": "3aef169d-1556-4b88-e3d9-7b653a5d6936"
      },
      "source": [
        "model.pprint()"
      ],
      "execution_count": null,
      "outputs": [
        {
          "output_type": "stream",
          "name": "stdout",
          "text": [
            "4 Set Declarations\n",
            "    constraints_index : Size=1, Index=None, Ordered=Insertion\n",
            "        Key  : Dimen : Domain : Size : Members\n",
            "        None :     1 :    Any :   16 : {1, 2, 3, 4, 5, 6, 7, 8, 9, 10, 11, 12, 13, 14, 15, 16}\n",
            "    x_index : Size=1, Index=None, Ordered=False\n",
            "        Key  : Dimen : Domain              : Size : Members\n",
            "        None :     2 : x_index_0*x_index_1 :   64 : {(0, 0), (0, 1), (0, 2), (0, 3), (0, 4), (0, 5), (0, 6), (0, 7), (1, 0), (1, 1), (1, 2), (1, 3), (1, 4), (1, 5), (1, 6), (1, 7), (2, 0), (2, 1), (2, 2), (2, 3), (2, 4), (2, 5), (2, 6), (2, 7), (3, 0), (3, 1), (3, 2), (3, 3), (3, 4), (3, 5), (3, 6), (3, 7), (4, 0), (4, 1), (4, 2), (4, 3), (4, 4), (4, 5), (4, 6), (4, 7), (5, 0), (5, 1), (5, 2), (5, 3), (5, 4), (5, 5), (5, 6), (5, 7), (6, 0), (6, 1), (6, 2), (6, 3), (6, 4), (6, 5), (6, 6), (6, 7), (7, 0), (7, 1), (7, 2), (7, 3), (7, 4), (7, 5), (7, 6), (7, 7)}\n",
            "    x_index_0 : Size=1, Index=None, Ordered=False\n",
            "        Key  : Dimen : Domain : Size : Members\n",
            "        None :     1 :    Any :    8 : {0, 1, 2, 3, 4, 5, 6, 7}\n",
            "    x_index_1 : Size=1, Index=None, Ordered=False\n",
            "        Key  : Dimen : Domain : Size : Members\n",
            "        None :     1 :    Any :    8 : {0, 1, 2, 3, 4, 5, 6, 7}\n",
            "\n",
            "1 Var Declarations\n",
            "    x : Size=64, Index=x_index\n",
            "        Key    : Lower : Value : Upper : Fixed : Stale : Domain\n",
            "        (0, 0) :     0 :   0.0 :  None : False : False : NonNegativeIntegers\n",
            "        (0, 1) :     0 : 185.0 :  None : False : False : NonNegativeIntegers\n",
            "        (0, 2) :     0 :   0.0 :  None : False : False : NonNegativeIntegers\n",
            "        (0, 3) :     0 :   0.0 :  None : False : False : NonNegativeIntegers\n",
            "        (0, 4) :     0 :   0.0 :  None : False : False : NonNegativeIntegers\n",
            "        (0, 5) :     0 :   0.0 :  None : False : False : NonNegativeIntegers\n",
            "        (0, 6) :     0 :   0.0 :  None : False : False : NonNegativeIntegers\n",
            "        (0, 7) :     0 :   0.0 :  None : False : False : NonNegativeIntegers\n",
            "        (1, 0) :     0 :   0.0 :  None : False : False : NonNegativeIntegers\n",
            "        (1, 1) :     0 :   0.0 :  None : False : False : NonNegativeIntegers\n",
            "        (1, 2) :     0 :   0.0 :  None : False : False : NonNegativeIntegers\n",
            "        (1, 3) :     0 :   0.0 :  None : False : False : NonNegativeIntegers\n",
            "        (1, 4) :     0 : 350.0 :  None : False : False : NonNegativeIntegers\n",
            "        (1, 5) :     0 :   0.0 :  None : False : False : NonNegativeIntegers\n",
            "        (1, 6) :     0 :   0.0 :  None : False : False : NonNegativeIntegers\n",
            "        (1, 7) :     0 :   0.0 :  None : False : False : NonNegativeIntegers\n",
            "        (2, 0) :     0 :   0.0 :  None : False : False : NonNegativeIntegers\n",
            "        (2, 1) :     0 :   0.0 :  None : False : False : NonNegativeIntegers\n",
            "        (2, 2) :     0 : 375.0 :  None : False : False : NonNegativeIntegers\n",
            "        (2, 3) :     0 :   0.0 :  None : False : False : NonNegativeIntegers\n",
            "        (2, 4) :     0 :  30.0 :  None : False : False : NonNegativeIntegers\n",
            "        (2, 5) :     0 :   0.0 :  None : False : False : NonNegativeIntegers\n",
            "        (2, 6) :     0 :   0.0 :  None : False : False : NonNegativeIntegers\n",
            "        (2, 7) :     0 :   0.0 :  None : False : False : NonNegativeIntegers\n",
            "        (3, 0) :     0 :   0.0 :  None : False : False : NonNegativeIntegers\n",
            "        (3, 1) :     0 : 200.0 :  None : False : False : NonNegativeIntegers\n",
            "        (3, 2) :     0 :   0.0 :  None : False : False : NonNegativeIntegers\n",
            "        (3, 3) :     0 :   0.0 :  None : False : False : NonNegativeIntegers\n",
            "        (3, 4) :     0 :   0.0 :  None : False : False : NonNegativeIntegers\n",
            "        (3, 5) :     0 :  80.0 :  None : False : False : NonNegativeIntegers\n",
            "        (3, 6) :     0 :   0.0 :  None : False : False : NonNegativeIntegers\n",
            "        (3, 7) :     0 :   0.0 :  None : False : False : NonNegativeIntegers\n",
            "        (4, 0) :     0 :   0.0 :  None : False : False : NonNegativeIntegers\n",
            "        (4, 1) :     0 :   0.0 :  None : False : False : NonNegativeIntegers\n",
            "        (4, 2) :     0 :   0.0 :  None : False : False : NonNegativeIntegers\n",
            "        (4, 3) :     0 :   0.0 :  None : False : False : NonNegativeIntegers\n",
            "        (4, 4) :     0 :   0.0 :  None : False : False : NonNegativeIntegers\n",
            "        (4, 5) :     0 :  20.0 :  None : False : False : NonNegativeIntegers\n",
            "        (4, 6) :     0 :   0.0 :  None : False : False : NonNegativeIntegers\n",
            "        (4, 7) :     0 :  85.0 :  None : False : False : NonNegativeIntegers\n",
            "        (5, 0) :     0 :   0.0 :  None : False : False : NonNegativeIntegers\n",
            "        (5, 1) :     0 :   0.0 :  None : False : False : NonNegativeIntegers\n",
            "        (5, 2) :     0 :   0.0 :  None : False : False : NonNegativeIntegers\n",
            "        (5, 3) :     0 :  70.0 :  None : False : False : NonNegativeIntegers\n",
            "        (5, 4) :     0 :   0.0 :  None : False : False : NonNegativeIntegers\n",
            "        (5, 5) :     0 :   0.0 :  None : False : False : NonNegativeIntegers\n",
            "        (5, 6) :     0 :   5.0 :  None : False : False : NonNegativeIntegers\n",
            "        (5, 7) :     0 :   0.0 :  None : False : False : NonNegativeIntegers\n",
            "        (6, 0) :     0 : 175.0 :  None : False : False : NonNegativeIntegers\n",
            "        (6, 1) :     0 :  15.0 :  None : False : False : NonNegativeIntegers\n",
            "        (6, 2) :     0 : 175.0 :  None : False : False : NonNegativeIntegers\n",
            "        (6, 3) :     0 :   0.0 :  None : False : False : NonNegativeIntegers\n",
            "        (6, 4) :     0 :   0.0 :  None : False : False : NonNegativeIntegers\n",
            "        (6, 5) :     0 :   0.0 :  None : False : False : NonNegativeIntegers\n",
            "        (6, 6) :     0 :  60.0 :  None : False : False : NonNegativeIntegers\n",
            "        (6, 7) :     0 :   0.0 :  None : False : False : NonNegativeIntegers\n",
            "        (7, 0) :     0 :   0.0 :  None : False : False : NonNegativeIntegers\n",
            "        (7, 1) :     0 :   0.0 :  None : False : False : NonNegativeIntegers\n",
            "        (7, 2) :     0 :   0.0 :  None : False : False : NonNegativeIntegers\n",
            "        (7, 3) :     0 :   0.0 :  None : False : False : NonNegativeIntegers\n",
            "        (7, 4) :     0 : 270.0 :  None : False : False : NonNegativeIntegers\n",
            "        (7, 5) :     0 :   0.0 :  None : False : False : NonNegativeIntegers\n",
            "        (7, 6) :     0 :   0.0 :  None : False : False : NonNegativeIntegers\n",
            "        (7, 7) :     0 :   0.0 :  None : False : False : NonNegativeIntegers\n",
            "\n",
            "1 Objective Declarations\n",
            "    objective : Size=1, Index=None, Active=True\n",
            "        Key  : Active : Sense    : Expression\n",
            "        None :   True : minimize : 627*x[0,0] + 617*x[0,1] + 1270*x[0,2] + 2072*x[0,3] + 1415*x[0,4] + 2943*x[0,5] + 1064*x[0,6] + 4265*x[0,7] + 1000000*x[1,0] + 1432*x[1,1] + 351*x[1,2] + 3372*x[1,3] + 237*x[1,4] + 3373*x[1,5] + 1456*x[1,6] + 5059*x[1,7] + 609*x[2,0] + 1943*x[2,1] + 77*x[2,2] + 3365*x[2,3] + 298*x[2,4] + 3021*x[2,5] + 1484*x[2,6] + 4803*x[2,7] + 2143*x[3,0] + 671*x[3,1] + 3876*x[3,2] + 537*x[3,3] + 1902*x[3,4] + 1941*x[3,5] + 1682*x[3,6] + 3348*x[3,7] + 2742*x[4,0] + 2089*x[4,1] + 1931*x[4,2] + 2199*x[4,3] + 1226*x[4,4] + 739*x[4,5] + 691*x[4,6] + 1128*x[4,7] + 2053*x[5,0] + 860*x[5,1] + 2995*x[5,2] + 68*x[5,3] + 2069*x[5,4] + 2065*x[5,5] + 993*x[5,6] + 3342*x[5,7] + 656*x[6,0] + 817*x[6,1] + 1245*x[6,2] + 2141*x[6,3] + 1534*x[6,4] + 3351*x[6,5] + 1137*x[6,6] + 3887*x[6,7] + 195*x[7,0] + 1862*x[7,1] + 1331*x[7,2] + 2921*x[7,3] + 402*x[7,4] + 2825*x[7,5] + 563*x[7,6] + 4441*x[7,7]\n",
            "\n",
            "1 Constraint Declarations\n",
            "    constraints : Size=16, Index=constraints_index, Active=True\n",
            "        Key : Lower : Body                                                                  : Upper : Active\n",
            "          1 :  -Inf : x[0,0] + x[0,1] + x[0,2] + x[0,3] + x[0,4] + x[0,5] + x[0,6] + x[0,7] : 185.0 :   True\n",
            "          2 :  -Inf : x[1,0] + x[1,1] + x[1,2] + x[1,3] + x[1,4] + x[1,5] + x[1,6] + x[1,7] : 350.0 :   True\n",
            "          3 :  -Inf : x[2,0] + x[2,1] + x[2,2] + x[2,3] + x[2,4] + x[2,5] + x[2,6] + x[2,7] : 405.0 :   True\n",
            "          4 :  -Inf : x[3,0] + x[3,1] + x[3,2] + x[3,3] + x[3,4] + x[3,5] + x[3,6] + x[3,7] : 280.0 :   True\n",
            "          5 :  -Inf : x[4,0] + x[4,1] + x[4,2] + x[4,3] + x[4,4] + x[4,5] + x[4,6] + x[4,7] : 105.0 :   True\n",
            "          6 :  -Inf : x[5,0] + x[5,1] + x[5,2] + x[5,3] + x[5,4] + x[5,5] + x[5,6] + x[5,7] :  75.0 :   True\n",
            "          7 :  -Inf : x[6,0] + x[6,1] + x[6,2] + x[6,3] + x[6,4] + x[6,5] + x[6,6] + x[6,7] : 425.0 :   True\n",
            "          8 :  -Inf : x[7,0] + x[7,1] + x[7,2] + x[7,3] + x[7,4] + x[7,5] + x[7,6] + x[7,7] : 270.0 :   True\n",
            "          9 : 175.0 : x[0,0] + x[1,0] + x[2,0] + x[3,0] + x[4,0] + x[5,0] + x[6,0] + x[7,0] : 175.0 :   True\n",
            "         10 : 400.0 : x[0,1] + x[1,1] + x[2,1] + x[3,1] + x[4,1] + x[5,1] + x[6,1] + x[7,1] : 400.0 :   True\n",
            "         11 : 550.0 : x[0,2] + x[1,2] + x[2,2] + x[3,2] + x[4,2] + x[5,2] + x[6,2] + x[7,2] : 550.0 :   True\n",
            "         12 :  70.0 : x[0,3] + x[1,3] + x[2,3] + x[3,3] + x[4,3] + x[5,3] + x[6,3] + x[7,3] :  70.0 :   True\n",
            "         13 : 650.0 : x[0,4] + x[1,4] + x[2,4] + x[3,4] + x[4,4] + x[5,4] + x[6,4] + x[7,4] : 650.0 :   True\n",
            "         14 : 100.0 : x[0,5] + x[1,5] + x[2,5] + x[3,5] + x[4,5] + x[5,5] + x[6,5] + x[7,5] : 100.0 :   True\n",
            "         15 :  65.0 : x[0,6] + x[1,6] + x[2,6] + x[3,6] + x[4,6] + x[5,6] + x[6,6] + x[7,6] :  65.0 :   True\n",
            "         16 :  85.0 : x[0,7] + x[1,7] + x[2,7] + x[3,7] + x[4,7] + x[5,7] + x[6,7] + x[7,7] :  85.0 :   True\n",
            "\n",
            "7 Declarations: x_index_0 x_index_1 x_index x constraints_index constraints objective\n"
          ]
        }
      ]
    },
    {
      "cell_type": "code",
      "metadata": {
        "colab": {
          "base_uri": "https://localhost:8080/"
        },
        "id": "Mcb5GPZSEj7q",
        "outputId": "17178835-6693-42d0-f847-dfa5c7cd2c2b"
      },
      "source": [
        "result = opt_cbc.solve(model)\n",
        "print('Solver status:', result.solver.status)\n",
        "print('Solver termination condition:',result.solver.termination_condition)"
      ],
      "execution_count": null,
      "outputs": [
        {
          "output_type": "stream",
          "name": "stdout",
          "text": [
            "Solver status: ok\n",
            "Solver termination condition: optimal\n"
          ]
        }
      ]
    },
    {
      "cell_type": "markdown",
      "metadata": {
        "id": "OWmSdAVwvon1"
      },
      "source": [
        "Question 9."
      ]
    },
    {
      "cell_type": "code",
      "metadata": {
        "colab": {
          "base_uri": "https://localhost:8080/"
        },
        "id": "ZtVL1EqGsBK5",
        "outputId": "f5d4476c-8010-47b9-9ff2-19a6520c7b90"
      },
      "source": [
        "print('Total Objective Cost = ', model.objective())"
      ],
      "execution_count": null,
      "outputs": [
        {
          "output_type": "stream",
          "name": "stdout",
          "text": [
            "Total Objective Cost =  1166465.0\n"
          ]
        }
      ]
    },
    {
      "cell_type": "code",
      "metadata": {
        "colab": {
          "base_uri": "https://localhost:8080/"
        },
        "id": "4DLe4pVyawRJ",
        "outputId": "1f8160bc-4add-401b-df63-4bf5bf56098c"
      },
      "source": [
        "print('Details of Non Zero Decision Variables')\n",
        "for i in row_indices:\n",
        "  for j in column_indices:\n",
        "     if model.x[i,j].value!=0:\n",
        "      print('No. of trucks of WMU that are transported from ',df.Origin_Dest[i],' to ', df.columns[j+1],':', model.x[i,j].value)"
      ],
      "execution_count": null,
      "outputs": [
        {
          "output_type": "stream",
          "name": "stdout",
          "text": [
            "Details of Non Zero Decision Variables\n",
            "No. of trucks of WMU that are transported from  Ahmedabad  to  Jodhpur : 185.0\n",
            "No. of trucks of WMU that are transported from  Bengaluru  to  Vijaywada : 350.0\n",
            "No. of trucks of WMU that are transported from  Chennai  to  Trichy : 375.0\n",
            "No. of trucks of WMU that are transported from  Chennai  to  Vijaywada : 30.0\n",
            "No. of trucks of WMU that are transported from  Delhi  to  Jodhpur : 200.0\n",
            "No. of trucks of WMU that are transported from  Delhi  to  Dibrugarh : 80.0\n",
            "No. of trucks of WMU that are transported from  Kolkata  to  Dibrugarh : 20.0\n",
            "No. of trucks of WMU that are transported from  Kolkata  to  Agartala : 85.0\n",
            "No. of trucks of WMU that are transported from  Lucknow  to  Simla : 70.0\n",
            "No. of trucks of WMU that are transported from  Lucknow  to  Raipur : 5.0\n",
            "No. of trucks of WMU that are transported from  Mumbai  to  Hassan : 175.0\n",
            "No. of trucks of WMU that are transported from  Mumbai  to  Jodhpur : 15.0\n",
            "No. of trucks of WMU that are transported from  Mumbai  to  Trichy : 175.0\n",
            "No. of trucks of WMU that are transported from  Mumbai  to  Raipur : 60.0\n",
            "No. of trucks of WMU that are transported from  Hyderabad  to  Vijaywada : 270.0\n"
          ]
        }
      ]
    },
    {
      "cell_type": "markdown",
      "metadata": {
        "id": "sLoyt-IdvsDZ"
      },
      "source": [
        "Observation \\\\\n",
        "The solution values and cost are the same as before"
      ]
    },
    {
      "cell_type": "markdown",
      "metadata": {
        "id": "BND8BkHIv2Ga"
      },
      "source": [
        "Question 10."
      ]
    },
    {
      "cell_type": "markdown",
      "metadata": {
        "id": "1xda3wh6v45U"
      },
      "source": [
        "In the same way as before , we will increase the costs of these two routes also to a very large number so that the transportation will become zero "
      ]
    },
    {
      "cell_type": "code",
      "metadata": {
        "id": "dLp8jCYTroZY"
      },
      "source": [
        "df.iloc[5, 4]=1000000\n",
        "df.iloc[4, 8]=1000000"
      ],
      "execution_count": null,
      "outputs": []
    },
    {
      "cell_type": "code",
      "metadata": {
        "colab": {
          "base_uri": "https://localhost:8080/"
        },
        "id": "AoiA4qaxMBuF",
        "outputId": "2b605901-7ec8-410b-a64a-15fb4fcf8b8f"
      },
      "source": [
        "for row_idx in row_indices:\n",
        "  for col_idx in column_indices:\n",
        "    print('cost[',row_idx,'][',col_idx+1,']:',df.iloc[row_idx, col_idx+1])"
      ],
      "execution_count": null,
      "outputs": [
        {
          "output_type": "stream",
          "name": "stdout",
          "text": [
            "cost[ 0 ][ 1 ]: 627\n",
            "cost[ 0 ][ 2 ]: 617\n",
            "cost[ 0 ][ 3 ]: 1270\n",
            "cost[ 0 ][ 4 ]: 2072\n",
            "cost[ 0 ][ 5 ]: 1415\n",
            "cost[ 0 ][ 6 ]: 2943\n",
            "cost[ 0 ][ 7 ]: 1064\n",
            "cost[ 0 ][ 8 ]: 4265\n",
            "cost[ 1 ][ 1 ]: 1000000\n",
            "cost[ 1 ][ 2 ]: 1432\n",
            "cost[ 1 ][ 3 ]: 351\n",
            "cost[ 1 ][ 4 ]: 3372\n",
            "cost[ 1 ][ 5 ]: 237\n",
            "cost[ 1 ][ 6 ]: 3373\n",
            "cost[ 1 ][ 7 ]: 1456\n",
            "cost[ 1 ][ 8 ]: 5059\n",
            "cost[ 2 ][ 1 ]: 609\n",
            "cost[ 2 ][ 2 ]: 1943\n",
            "cost[ 2 ][ 3 ]: 77\n",
            "cost[ 2 ][ 4 ]: 3365\n",
            "cost[ 2 ][ 5 ]: 298\n",
            "cost[ 2 ][ 6 ]: 3021\n",
            "cost[ 2 ][ 7 ]: 1484\n",
            "cost[ 2 ][ 8 ]: 4803\n",
            "cost[ 3 ][ 1 ]: 2143\n",
            "cost[ 3 ][ 2 ]: 671\n",
            "cost[ 3 ][ 3 ]: 3876\n",
            "cost[ 3 ][ 4 ]: 537\n",
            "cost[ 3 ][ 5 ]: 1902\n",
            "cost[ 3 ][ 6 ]: 1941\n",
            "cost[ 3 ][ 7 ]: 1682\n",
            "cost[ 3 ][ 8 ]: 3348\n",
            "cost[ 4 ][ 1 ]: 2742\n",
            "cost[ 4 ][ 2 ]: 2089\n",
            "cost[ 4 ][ 3 ]: 1931\n",
            "cost[ 4 ][ 4 ]: 2199\n",
            "cost[ 4 ][ 5 ]: 1226\n",
            "cost[ 4 ][ 6 ]: 739\n",
            "cost[ 4 ][ 7 ]: 691\n",
            "cost[ 4 ][ 8 ]: 1000000\n",
            "cost[ 5 ][ 1 ]: 2053\n",
            "cost[ 5 ][ 2 ]: 860\n",
            "cost[ 5 ][ 3 ]: 2995\n",
            "cost[ 5 ][ 4 ]: 1000000\n",
            "cost[ 5 ][ 5 ]: 2069\n",
            "cost[ 5 ][ 6 ]: 2065\n",
            "cost[ 5 ][ 7 ]: 993\n",
            "cost[ 5 ][ 8 ]: 3342\n",
            "cost[ 6 ][ 1 ]: 656\n",
            "cost[ 6 ][ 2 ]: 817\n",
            "cost[ 6 ][ 3 ]: 1245\n",
            "cost[ 6 ][ 4 ]: 2141\n",
            "cost[ 6 ][ 5 ]: 1534\n",
            "cost[ 6 ][ 6 ]: 3351\n",
            "cost[ 6 ][ 7 ]: 1137\n",
            "cost[ 6 ][ 8 ]: 3887\n",
            "cost[ 7 ][ 1 ]: 195\n",
            "cost[ 7 ][ 2 ]: 1862\n",
            "cost[ 7 ][ 3 ]: 1331\n",
            "cost[ 7 ][ 4 ]: 2921\n",
            "cost[ 7 ][ 5 ]: 402\n",
            "cost[ 7 ][ 6 ]: 2825\n",
            "cost[ 7 ][ 7 ]: 563\n",
            "cost[ 7 ][ 8 ]: 4441\n"
          ]
        }
      ]
    },
    {
      "cell_type": "code",
      "metadata": {
        "colab": {
          "base_uri": "https://localhost:8080/"
        },
        "id": "9C1BYHxhsRxx",
        "outputId": "d8856b75-66b9-4530-9657-3df1c68cc3df"
      },
      "source": [
        "model.objective = Objective(expr=sum(df.iloc[i,j+1]*model.x[i,j] for i in row_indices for j in column_indices),sense=minimize)"
      ],
      "execution_count": null,
      "outputs": [
        {
          "output_type": "stream",
          "name": "stdout",
          "text": [
            "WARNING: Implicitly replacing the Component attribute objective (type=<class\n",
            "    'pyomo.core.base.objective.ScalarObjective'>) on block unknown with a new\n",
            "    Component (type=<class 'pyomo.core.base.objective.ScalarObjective'>). This\n",
            "    is usually indicative of a modelling error. To avoid this warning, use\n",
            "    block.del_component() and block.add_component().\n"
          ]
        }
      ]
    },
    {
      "cell_type": "code",
      "metadata": {
        "colab": {
          "base_uri": "https://localhost:8080/"
        },
        "id": "9d6UcE-4sZlN",
        "outputId": "4e78dbd8-0e3f-4d48-c0be-6108966ed7fe"
      },
      "source": [
        "model.pprint()"
      ],
      "execution_count": null,
      "outputs": [
        {
          "output_type": "stream",
          "name": "stdout",
          "text": [
            "4 Set Declarations\n",
            "    constraints_index : Size=1, Index=None, Ordered=Insertion\n",
            "        Key  : Dimen : Domain : Size : Members\n",
            "        None :     1 :    Any :   16 : {1, 2, 3, 4, 5, 6, 7, 8, 9, 10, 11, 12, 13, 14, 15, 16}\n",
            "    x_index : Size=1, Index=None, Ordered=False\n",
            "        Key  : Dimen : Domain              : Size : Members\n",
            "        None :     2 : x_index_0*x_index_1 :   64 : {(0, 0), (0, 1), (0, 2), (0, 3), (0, 4), (0, 5), (0, 6), (0, 7), (1, 0), (1, 1), (1, 2), (1, 3), (1, 4), (1, 5), (1, 6), (1, 7), (2, 0), (2, 1), (2, 2), (2, 3), (2, 4), (2, 5), (2, 6), (2, 7), (3, 0), (3, 1), (3, 2), (3, 3), (3, 4), (3, 5), (3, 6), (3, 7), (4, 0), (4, 1), (4, 2), (4, 3), (4, 4), (4, 5), (4, 6), (4, 7), (5, 0), (5, 1), (5, 2), (5, 3), (5, 4), (5, 5), (5, 6), (5, 7), (6, 0), (6, 1), (6, 2), (6, 3), (6, 4), (6, 5), (6, 6), (6, 7), (7, 0), (7, 1), (7, 2), (7, 3), (7, 4), (7, 5), (7, 6), (7, 7)}\n",
            "    x_index_0 : Size=1, Index=None, Ordered=False\n",
            "        Key  : Dimen : Domain : Size : Members\n",
            "        None :     1 :    Any :    8 : {0, 1, 2, 3, 4, 5, 6, 7}\n",
            "    x_index_1 : Size=1, Index=None, Ordered=False\n",
            "        Key  : Dimen : Domain : Size : Members\n",
            "        None :     1 :    Any :    8 : {0, 1, 2, 3, 4, 5, 6, 7}\n",
            "\n",
            "1 Var Declarations\n",
            "    x : Size=64, Index=x_index\n",
            "        Key    : Lower : Value : Upper : Fixed : Stale : Domain\n",
            "        (0, 0) :     0 :   0.0 :  None : False : False : NonNegativeIntegers\n",
            "        (0, 1) :     0 : 185.0 :  None : False : False : NonNegativeIntegers\n",
            "        (0, 2) :     0 :   0.0 :  None : False : False : NonNegativeIntegers\n",
            "        (0, 3) :     0 :   0.0 :  None : False : False : NonNegativeIntegers\n",
            "        (0, 4) :     0 :   0.0 :  None : False : False : NonNegativeIntegers\n",
            "        (0, 5) :     0 :   0.0 :  None : False : False : NonNegativeIntegers\n",
            "        (0, 6) :     0 :   0.0 :  None : False : False : NonNegativeIntegers\n",
            "        (0, 7) :     0 :   0.0 :  None : False : False : NonNegativeIntegers\n",
            "        (1, 0) :     0 :   0.0 :  None : False : False : NonNegativeIntegers\n",
            "        (1, 1) :     0 :   0.0 :  None : False : False : NonNegativeIntegers\n",
            "        (1, 2) :     0 :   0.0 :  None : False : False : NonNegativeIntegers\n",
            "        (1, 3) :     0 :   0.0 :  None : False : False : NonNegativeIntegers\n",
            "        (1, 4) :     0 : 350.0 :  None : False : False : NonNegativeIntegers\n",
            "        (1, 5) :     0 :   0.0 :  None : False : False : NonNegativeIntegers\n",
            "        (1, 6) :     0 :   0.0 :  None : False : False : NonNegativeIntegers\n",
            "        (1, 7) :     0 :   0.0 :  None : False : False : NonNegativeIntegers\n",
            "        (2, 0) :     0 :   0.0 :  None : False : False : NonNegativeIntegers\n",
            "        (2, 1) :     0 :   0.0 :  None : False : False : NonNegativeIntegers\n",
            "        (2, 2) :     0 : 375.0 :  None : False : False : NonNegativeIntegers\n",
            "        (2, 3) :     0 :   0.0 :  None : False : False : NonNegativeIntegers\n",
            "        (2, 4) :     0 :  30.0 :  None : False : False : NonNegativeIntegers\n",
            "        (2, 5) :     0 :   0.0 :  None : False : False : NonNegativeIntegers\n",
            "        (2, 6) :     0 :   0.0 :  None : False : False : NonNegativeIntegers\n",
            "        (2, 7) :     0 :   0.0 :  None : False : False : NonNegativeIntegers\n",
            "        (3, 0) :     0 :   0.0 :  None : False : False : NonNegativeIntegers\n",
            "        (3, 1) :     0 : 200.0 :  None : False : False : NonNegativeIntegers\n",
            "        (3, 2) :     0 :   0.0 :  None : False : False : NonNegativeIntegers\n",
            "        (3, 3) :     0 :   0.0 :  None : False : False : NonNegativeIntegers\n",
            "        (3, 4) :     0 :   0.0 :  None : False : False : NonNegativeIntegers\n",
            "        (3, 5) :     0 :  80.0 :  None : False : False : NonNegativeIntegers\n",
            "        (3, 6) :     0 :   0.0 :  None : False : False : NonNegativeIntegers\n",
            "        (3, 7) :     0 :   0.0 :  None : False : False : NonNegativeIntegers\n",
            "        (4, 0) :     0 :   0.0 :  None : False : False : NonNegativeIntegers\n",
            "        (4, 1) :     0 :   0.0 :  None : False : False : NonNegativeIntegers\n",
            "        (4, 2) :     0 :   0.0 :  None : False : False : NonNegativeIntegers\n",
            "        (4, 3) :     0 :   0.0 :  None : False : False : NonNegativeIntegers\n",
            "        (4, 4) :     0 :   0.0 :  None : False : False : NonNegativeIntegers\n",
            "        (4, 5) :     0 :  20.0 :  None : False : False : NonNegativeIntegers\n",
            "        (4, 6) :     0 :   0.0 :  None : False : False : NonNegativeIntegers\n",
            "        (4, 7) :     0 :  85.0 :  None : False : False : NonNegativeIntegers\n",
            "        (5, 0) :     0 :   0.0 :  None : False : False : NonNegativeIntegers\n",
            "        (5, 1) :     0 :   0.0 :  None : False : False : NonNegativeIntegers\n",
            "        (5, 2) :     0 :   0.0 :  None : False : False : NonNegativeIntegers\n",
            "        (5, 3) :     0 :  70.0 :  None : False : False : NonNegativeIntegers\n",
            "        (5, 4) :     0 :   0.0 :  None : False : False : NonNegativeIntegers\n",
            "        (5, 5) :     0 :   0.0 :  None : False : False : NonNegativeIntegers\n",
            "        (5, 6) :     0 :   5.0 :  None : False : False : NonNegativeIntegers\n",
            "        (5, 7) :     0 :   0.0 :  None : False : False : NonNegativeIntegers\n",
            "        (6, 0) :     0 : 175.0 :  None : False : False : NonNegativeIntegers\n",
            "        (6, 1) :     0 :  15.0 :  None : False : False : NonNegativeIntegers\n",
            "        (6, 2) :     0 : 175.0 :  None : False : False : NonNegativeIntegers\n",
            "        (6, 3) :     0 :   0.0 :  None : False : False : NonNegativeIntegers\n",
            "        (6, 4) :     0 :   0.0 :  None : False : False : NonNegativeIntegers\n",
            "        (6, 5) :     0 :   0.0 :  None : False : False : NonNegativeIntegers\n",
            "        (6, 6) :     0 :  60.0 :  None : False : False : NonNegativeIntegers\n",
            "        (6, 7) :     0 :   0.0 :  None : False : False : NonNegativeIntegers\n",
            "        (7, 0) :     0 :   0.0 :  None : False : False : NonNegativeIntegers\n",
            "        (7, 1) :     0 :   0.0 :  None : False : False : NonNegativeIntegers\n",
            "        (7, 2) :     0 :   0.0 :  None : False : False : NonNegativeIntegers\n",
            "        (7, 3) :     0 :   0.0 :  None : False : False : NonNegativeIntegers\n",
            "        (7, 4) :     0 : 270.0 :  None : False : False : NonNegativeIntegers\n",
            "        (7, 5) :     0 :   0.0 :  None : False : False : NonNegativeIntegers\n",
            "        (7, 6) :     0 :   0.0 :  None : False : False : NonNegativeIntegers\n",
            "        (7, 7) :     0 :   0.0 :  None : False : False : NonNegativeIntegers\n",
            "\n",
            "1 Objective Declarations\n",
            "    objective : Size=1, Index=None, Active=True\n",
            "        Key  : Active : Sense    : Expression\n",
            "        None :   True : minimize : 627*x[0,0] + 617*x[0,1] + 1270*x[0,2] + 2072*x[0,3] + 1415*x[0,4] + 2943*x[0,5] + 1064*x[0,6] + 4265*x[0,7] + 1000000*x[1,0] + 1432*x[1,1] + 351*x[1,2] + 3372*x[1,3] + 237*x[1,4] + 3373*x[1,5] + 1456*x[1,6] + 5059*x[1,7] + 609*x[2,0] + 1943*x[2,1] + 77*x[2,2] + 3365*x[2,3] + 298*x[2,4] + 3021*x[2,5] + 1484*x[2,6] + 4803*x[2,7] + 2143*x[3,0] + 671*x[3,1] + 3876*x[3,2] + 537*x[3,3] + 1902*x[3,4] + 1941*x[3,5] + 1682*x[3,6] + 3348*x[3,7] + 2742*x[4,0] + 2089*x[4,1] + 1931*x[4,2] + 2199*x[4,3] + 1226*x[4,4] + 739*x[4,5] + 691*x[4,6] + 1000000*x[4,7] + 2053*x[5,0] + 860*x[5,1] + 2995*x[5,2] + 1000000*x[5,3] + 2069*x[5,4] + 2065*x[5,5] + 993*x[5,6] + 3342*x[5,7] + 656*x[6,0] + 817*x[6,1] + 1245*x[6,2] + 2141*x[6,3] + 1534*x[6,4] + 3351*x[6,5] + 1137*x[6,6] + 3887*x[6,7] + 195*x[7,0] + 1862*x[7,1] + 1331*x[7,2] + 2921*x[7,3] + 402*x[7,4] + 2825*x[7,5] + 563*x[7,6] + 4441*x[7,7]\n",
            "\n",
            "1 Constraint Declarations\n",
            "    constraints : Size=16, Index=constraints_index, Active=True\n",
            "        Key : Lower : Body                                                                  : Upper : Active\n",
            "          1 :  -Inf : x[0,0] + x[0,1] + x[0,2] + x[0,3] + x[0,4] + x[0,5] + x[0,6] + x[0,7] : 185.0 :   True\n",
            "          2 :  -Inf : x[1,0] + x[1,1] + x[1,2] + x[1,3] + x[1,4] + x[1,5] + x[1,6] + x[1,7] : 350.0 :   True\n",
            "          3 :  -Inf : x[2,0] + x[2,1] + x[2,2] + x[2,3] + x[2,4] + x[2,5] + x[2,6] + x[2,7] : 405.0 :   True\n",
            "          4 :  -Inf : x[3,0] + x[3,1] + x[3,2] + x[3,3] + x[3,4] + x[3,5] + x[3,6] + x[3,7] : 280.0 :   True\n",
            "          5 :  -Inf : x[4,0] + x[4,1] + x[4,2] + x[4,3] + x[4,4] + x[4,5] + x[4,6] + x[4,7] : 105.0 :   True\n",
            "          6 :  -Inf : x[5,0] + x[5,1] + x[5,2] + x[5,3] + x[5,4] + x[5,5] + x[5,6] + x[5,7] :  75.0 :   True\n",
            "          7 :  -Inf : x[6,0] + x[6,1] + x[6,2] + x[6,3] + x[6,4] + x[6,5] + x[6,6] + x[6,7] : 425.0 :   True\n",
            "          8 :  -Inf : x[7,0] + x[7,1] + x[7,2] + x[7,3] + x[7,4] + x[7,5] + x[7,6] + x[7,7] : 270.0 :   True\n",
            "          9 : 175.0 : x[0,0] + x[1,0] + x[2,0] + x[3,0] + x[4,0] + x[5,0] + x[6,0] + x[7,0] : 175.0 :   True\n",
            "         10 : 400.0 : x[0,1] + x[1,1] + x[2,1] + x[3,1] + x[4,1] + x[5,1] + x[6,1] + x[7,1] : 400.0 :   True\n",
            "         11 : 550.0 : x[0,2] + x[1,2] + x[2,2] + x[3,2] + x[4,2] + x[5,2] + x[6,2] + x[7,2] : 550.0 :   True\n",
            "         12 :  70.0 : x[0,3] + x[1,3] + x[2,3] + x[3,3] + x[4,3] + x[5,3] + x[6,3] + x[7,3] :  70.0 :   True\n",
            "         13 : 650.0 : x[0,4] + x[1,4] + x[2,4] + x[3,4] + x[4,4] + x[5,4] + x[6,4] + x[7,4] : 650.0 :   True\n",
            "         14 : 100.0 : x[0,5] + x[1,5] + x[2,5] + x[3,5] + x[4,5] + x[5,5] + x[6,5] + x[7,5] : 100.0 :   True\n",
            "         15 :  65.0 : x[0,6] + x[1,6] + x[2,6] + x[3,6] + x[4,6] + x[5,6] + x[6,6] + x[7,6] :  65.0 :   True\n",
            "         16 :  85.0 : x[0,7] + x[1,7] + x[2,7] + x[3,7] + x[4,7] + x[5,7] + x[6,7] + x[7,7] :  85.0 :   True\n",
            "\n",
            "7 Declarations: x_index_0 x_index_1 x_index x constraints_index constraints objective\n"
          ]
        }
      ]
    },
    {
      "cell_type": "code",
      "metadata": {
        "colab": {
          "base_uri": "https://localhost:8080/"
        },
        "id": "Z7yXVtc7JR5W",
        "outputId": "ac4bd45d-0b05-4a65-b936-a2a1938e443f"
      },
      "source": [
        "result = opt_cbc.solve(model)\n",
        "print('Solver status:', result.solver.status)\n",
        "print('Solver termination condition:',result.solver.termination_condition)"
      ],
      "execution_count": null,
      "outputs": [
        {
          "output_type": "stream",
          "name": "stdout",
          "text": [
            "Solver status: ok\n",
            "Solver termination condition: optimal\n"
          ]
        }
      ]
    },
    {
      "cell_type": "markdown",
      "metadata": {
        "id": "lIGD3HW2wTbT"
      },
      "source": [
        "Question 11 \\\\\n",
        "Reporting new solution"
      ]
    },
    {
      "cell_type": "code",
      "metadata": {
        "colab": {
          "base_uri": "https://localhost:8080/"
        },
        "id": "U63jnduNsgs8",
        "outputId": "ca23831c-78ab-4542-f10e-7a5cb7abedf8"
      },
      "source": [
        "print('Total Objective Cost = ', model.objective())"
      ],
      "execution_count": null,
      "outputs": [
        {
          "output_type": "stream",
          "name": "stdout",
          "text": [
            "Total Objective Cost =  1289875.0\n"
          ]
        }
      ]
    },
    {
      "cell_type": "code",
      "metadata": {
        "colab": {
          "base_uri": "https://localhost:8080/"
        },
        "id": "iorzXf2xdC3g",
        "outputId": "7efdfe20-c92e-4ee8-c3be-3df28c6e88f6"
      },
      "source": [
        "\n",
        "print('Details of non zero Decision Variables')\n",
        "for i in row_indices:\n",
        "  for j in column_indices:\n",
        "     if model.x[i,j].value!=0:\n",
        "      print('No. of trucks of WMU that are transported from ',df.Origin_Dest[i],' to ', df.columns[j+1],':', model.x[i,j].value)"
      ],
      "execution_count": null,
      "outputs": [
        {
          "output_type": "stream",
          "name": "stdout",
          "text": [
            "Details of non zero Decision Variables\n",
            "No. of trucks of WMU that are transported from  Ahmedabad  to  Jodhpur : 185.0\n",
            "No. of trucks of WMU that are transported from  Bengaluru  to  Vijaywada : 350.0\n",
            "No. of trucks of WMU that are transported from  Chennai  to  Trichy : 375.0\n",
            "No. of trucks of WMU that are transported from  Chennai  to  Vijaywada : 30.0\n",
            "No. of trucks of WMU that are transported from  Delhi  to  Jodhpur : 200.0\n",
            "No. of trucks of WMU that are transported from  Delhi  to  Simla : 70.0\n",
            "No. of trucks of WMU that are transported from  Delhi  to  Agartala : 10.0\n",
            "No. of trucks of WMU that are transported from  Kolkata  to  Dibrugarh : 100.0\n",
            "No. of trucks of WMU that are transported from  Kolkata  to  Raipur : 5.0\n",
            "No. of trucks of WMU that are transported from  Lucknow  to  Agartala : 75.0\n",
            "No. of trucks of WMU that are transported from  Mumbai  to  Hassan : 175.0\n",
            "No. of trucks of WMU that are transported from  Mumbai  to  Jodhpur : 15.0\n",
            "No. of trucks of WMU that are transported from  Mumbai  to  Trichy : 175.0\n",
            "No. of trucks of WMU that are transported from  Mumbai  to  Raipur : 60.0\n",
            "No. of trucks of WMU that are transported from  Hyderabad  to  Vijaywada : 270.0\n"
          ]
        }
      ]
    },
    {
      "cell_type": "markdown",
      "metadata": {
        "id": "HgMHuq3GwdXF"
      },
      "source": [
        "Observation: \\\\\n",
        "The Bengalore-Hassan Transportation,Lucknow-Simla Transportation and Kolkata-Agartala Transportation has become zero as expected. \\\\\n",
        "And the objective transportation cost has also increased due to applying new transportation Constraints about these links."
      ]
    }
  ]
}