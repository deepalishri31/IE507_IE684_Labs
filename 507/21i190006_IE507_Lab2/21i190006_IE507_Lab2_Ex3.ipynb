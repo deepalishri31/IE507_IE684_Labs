{
  "nbformat": 4,
  "nbformat_minor": 0,
  "metadata": {
    "colab": {
      "name": "21i190006_IE507_Lab2_Ex3.ipynb",
      "provenance": []
    },
    "kernelspec": {
      "name": "python3",
      "display_name": "Python 3"
    },
    "language_info": {
      "name": "python"
    }
  },
  "cells": [
    {
      "cell_type": "code",
      "metadata": {
        "id": "gaMAfvzGfFcZ"
      },
      "source": [
        "!pip install -q pyomo"
      ],
      "execution_count": 237,
      "outputs": []
    },
    {
      "cell_type": "code",
      "metadata": {
        "id": "Ued511nhk579"
      },
      "source": [
        "from pyomo.environ import *"
      ],
      "execution_count": 238,
      "outputs": []
    },
    {
      "cell_type": "code",
      "metadata": {
        "id": "xDmj03LTk9Gn"
      },
      "source": [
        "import numpy as np"
      ],
      "execution_count": 239,
      "outputs": []
    },
    {
      "cell_type": "code",
      "metadata": {
        "id": "TsZus_iek-t7"
      },
      "source": [
        "# create a model\n",
        "model = ConcreteModel()"
      ],
      "execution_count": 240,
      "outputs": []
    },
    {
      "cell_type": "code",
      "metadata": {
        "id": "Jb4DQsxIlBJh"
      },
      "source": [
        "M=4\n",
        "N=10"
      ],
      "execution_count": 241,
      "outputs": []
    },
    {
      "cell_type": "code",
      "metadata": {
        "id": "D0-6J_ArlGtb"
      },
      "source": [
        "obj_coef_c1 = np.array([35,50,58,60,44,39,45,55,35,40])\n",
        "obj_coef_c2 = np.array([72, 95, 110, 125 ,88 ,74, 95 ,115 ,60 ,84])\n"
      ],
      "execution_count": 242,
      "outputs": []
    },
    {
      "cell_type": "code",
      "metadata": {
        "id": "B_ub5MFFrKx5"
      },
      "source": [
        "constr_coef_A= np.array(([0.2,0.2,0.25,0.15,0.1,0.25,-0.15,0.2,0.05,-0.2],[0.35,0.3,0.3,0.15,0.1,0.1,-0.05,-0.1,-0.15,-0.15],[0.15,0.1,0.05,0,0,-0.15,0.1,-0.3,-0.2,0.05],[1,1,1,1,1,1,1,1,1,1]))"
      ],
      "execution_count": 243,
      "outputs": []
    },
    {
      "cell_type": "code",
      "metadata": {
        "id": "8tZ4DUvDtSXs"
      },
      "source": [
        "constr_rhs_b = np.array([0,0,0,450])"
      ],
      "execution_count": 244,
      "outputs": []
    },
    {
      "cell_type": "code",
      "metadata": {
        "id": "wmr8pvHgzyA6"
      },
      "source": [
        "lower_bound_x= np.array([0,0,0,0,0,0,0,0,0,0])\n",
        "upper_bound_x = np.array([12, 9, 16, 25, 4 ,5 ,10, 13, 0, 6])\n",
        "lower_bound_y = np.array([0,0,0,0,0,0,0,0,0,0])\n",
        "upper_bound_y = np.array([450,450,450,450,450,450,450,450,450,450])"
      ],
      "execution_count": 245,
      "outputs": []
    },
    {
      "cell_type": "code",
      "metadata": {
        "id": "-W_6ikRszyDR"
      },
      "source": [
        ""
      ],
      "execution_count": 245,
      "outputs": []
    },
    {
      "cell_type": "code",
      "metadata": {
        "colab": {
          "base_uri": "https://localhost:8080/"
        },
        "id": "c44r9o9euQMw",
        "outputId": "3c4b17a1-5327-415f-9800-9144afd1f557"
      },
      "source": [
        "col_indices = np.arange(N)\n",
        "print(col_indices)\n",
        "print(col_indices[3])\n",
        "row_indices=np.arange(M)\n",
        "print(row_indices)"
      ],
      "execution_count": 246,
      "outputs": [
        {
          "output_type": "stream",
          "text": [
            "[0 1 2 3 4 5 6 7 8 9]\n",
            "3\n",
            "[0 1 2 3]\n"
          ],
          "name": "stdout"
        }
      ]
    },
    {
      "cell_type": "code",
      "metadata": {
        "id": "tq0vH7vvuQ3L"
      },
      "source": [
        "model.x = Var(col_indices)\n",
        "model.y = Var(col_indices)"
      ],
      "execution_count": 247,
      "outputs": []
    },
    {
      "cell_type": "code",
      "metadata": {
        "id": "sDRkHJVJuYp6"
      },
      "source": [
        "model.constraints = ConstraintList()"
      ],
      "execution_count": 248,
      "outputs": []
    },
    {
      "cell_type": "code",
      "metadata": {
        "colab": {
          "base_uri": "https://localhost:8080/"
        },
        "id": "EBqYVNC2uZF5",
        "outputId": "76d34d75-b243-48f7-cfe8-d5b7a641e44a"
      },
      "source": [
        "model.pprint()"
      ],
      "execution_count": 249,
      "outputs": [
        {
          "output_type": "stream",
          "text": [
            "3 Set Declarations\n",
            "    constraints_index : Size=1, Index=None, Ordered=Insertion\n",
            "        Key  : Dimen : Domain : Size : Members\n",
            "        None :     1 :    Any :    0 :      {}\n",
            "    x_index : Size=1, Index=None, Ordered=False\n",
            "        Key  : Dimen : Domain : Size : Members\n",
            "        None :     1 :    Any :   10 : {0, 1, 2, 3, 4, 5, 6, 7, 8, 9}\n",
            "    y_index : Size=1, Index=None, Ordered=False\n",
            "        Key  : Dimen : Domain : Size : Members\n",
            "        None :     1 :    Any :   10 : {0, 1, 2, 3, 4, 5, 6, 7, 8, 9}\n",
            "\n",
            "2 Var Declarations\n",
            "    x : Size=10, Index=x_index\n",
            "        Key : Lower : Value : Upper : Fixed : Stale : Domain\n",
            "          0 :  None :  None :  None : False :  True :  Reals\n",
            "          1 :  None :  None :  None : False :  True :  Reals\n",
            "          2 :  None :  None :  None : False :  True :  Reals\n",
            "          3 :  None :  None :  None : False :  True :  Reals\n",
            "          4 :  None :  None :  None : False :  True :  Reals\n",
            "          5 :  None :  None :  None : False :  True :  Reals\n",
            "          6 :  None :  None :  None : False :  True :  Reals\n",
            "          7 :  None :  None :  None : False :  True :  Reals\n",
            "          8 :  None :  None :  None : False :  True :  Reals\n",
            "          9 :  None :  None :  None : False :  True :  Reals\n",
            "    y : Size=10, Index=y_index\n",
            "        Key : Lower : Value : Upper : Fixed : Stale : Domain\n",
            "          0 :  None :  None :  None : False :  True :  Reals\n",
            "          1 :  None :  None :  None : False :  True :  Reals\n",
            "          2 :  None :  None :  None : False :  True :  Reals\n",
            "          3 :  None :  None :  None : False :  True :  Reals\n",
            "          4 :  None :  None :  None : False :  True :  Reals\n",
            "          5 :  None :  None :  None : False :  True :  Reals\n",
            "          6 :  None :  None :  None : False :  True :  Reals\n",
            "          7 :  None :  None :  None : False :  True :  Reals\n",
            "          8 :  None :  None :  None : False :  True :  Reals\n",
            "          9 :  None :  None :  None : False :  True :  Reals\n",
            "\n",
            "1 Constraint Declarations\n",
            "    constraints : Size=0, Index=constraints_index, Active=True\n",
            "        Key : Lower : Body : Upper : Active\n",
            "\n",
            "6 Declarations: x_index x y_index y constraints_index constraints\n"
          ],
          "name": "stdout"
        }
      ]
    },
    {
      "cell_type": "code",
      "metadata": {
        "id": "LSqBds06ud9N"
      },
      "source": [
        "for i in row_indices :\n",
        "     model.constraints.add(sum(constr_coef_A[i,j]*(model.x[j]+model.y[j]) for j in col_indices) == constr_rhs_b[i])"
      ],
      "execution_count": 250,
      "outputs": []
    },
    {
      "cell_type": "code",
      "metadata": {
        "id": "caKV8-Sj0yup"
      },
      "source": [
        "for j in col_indices:\n",
        "   model.x[j].setlb(lower_bound_x[j])\n",
        "   model.x[j].setub(upper_bound_x[j])\n",
        "   model.y[j].setlb(lower_bound_y[j])\n",
        "   model.y[j].setub(upper_bound_y[j])"
      ],
      "execution_count": 251,
      "outputs": []
    },
    {
      "cell_type": "code",
      "metadata": {
        "id": "0sFVlWbqxN3o"
      },
      "source": [
        "model.objective = Objective(expr = sum(obj_coef_c1[j]*model.x[j]+obj_coef_c2[j]*model.y[j] for j in col_indices), sense=minimize)"
      ],
      "execution_count": 252,
      "outputs": []
    },
    {
      "cell_type": "code",
      "metadata": {
        "colab": {
          "base_uri": "https://localhost:8080/"
        },
        "id": "MtNCPK_fvpGx",
        "outputId": "a575b2f3-4686-46c9-c215-141649159829"
      },
      "source": [
        "model.pprint()"
      ],
      "execution_count": 253,
      "outputs": [
        {
          "output_type": "stream",
          "text": [
            "3 Set Declarations\n",
            "    constraints_index : Size=1, Index=None, Ordered=Insertion\n",
            "        Key  : Dimen : Domain : Size : Members\n",
            "        None :     1 :    Any :    4 : {1, 2, 3, 4}\n",
            "    x_index : Size=1, Index=None, Ordered=False\n",
            "        Key  : Dimen : Domain : Size : Members\n",
            "        None :     1 :    Any :   10 : {0, 1, 2, 3, 4, 5, 6, 7, 8, 9}\n",
            "    y_index : Size=1, Index=None, Ordered=False\n",
            "        Key  : Dimen : Domain : Size : Members\n",
            "        None :     1 :    Any :   10 : {0, 1, 2, 3, 4, 5, 6, 7, 8, 9}\n",
            "\n",
            "2 Var Declarations\n",
            "    x : Size=10, Index=x_index\n",
            "        Key : Lower : Value : Upper : Fixed : Stale : Domain\n",
            "          0 :     0 :  None :    12 : False :  True :  Reals\n",
            "          1 :     0 :  None :     9 : False :  True :  Reals\n",
            "          2 :     0 :  None :    16 : False :  True :  Reals\n",
            "          3 :     0 :  None :    25 : False :  True :  Reals\n",
            "          4 :     0 :  None :     4 : False :  True :  Reals\n",
            "          5 :     0 :  None :     5 : False :  True :  Reals\n",
            "          6 :     0 :  None :    10 : False :  True :  Reals\n",
            "          7 :     0 :  None :    13 : False :  True :  Reals\n",
            "          8 :     0 :  None :     0 : False :  True :  Reals\n",
            "          9 :     0 :  None :     6 : False :  True :  Reals\n",
            "    y : Size=10, Index=y_index\n",
            "        Key : Lower : Value : Upper : Fixed : Stale : Domain\n",
            "          0 :     0 :  None :   450 : False :  True :  Reals\n",
            "          1 :     0 :  None :   450 : False :  True :  Reals\n",
            "          2 :     0 :  None :   450 : False :  True :  Reals\n",
            "          3 :     0 :  None :   450 : False :  True :  Reals\n",
            "          4 :     0 :  None :   450 : False :  True :  Reals\n",
            "          5 :     0 :  None :   450 : False :  True :  Reals\n",
            "          6 :     0 :  None :   450 : False :  True :  Reals\n",
            "          7 :     0 :  None :   450 : False :  True :  Reals\n",
            "          8 :     0 :  None :   450 : False :  True :  Reals\n",
            "          9 :     0 :  None :   450 : False :  True :  Reals\n",
            "\n",
            "1 Objective Declarations\n",
            "    objective : Size=1, Index=None, Active=True\n",
            "        Key  : Active : Sense    : Expression\n",
            "        None :   True : minimize : 35*x[0] + 72*y[0] + 50*x[1] + 95*y[1] + 58*x[2] + 110*y[2] + 60*x[3] + 125*y[3] + 44*x[4] + 88*y[4] + 39*x[5] + 74*y[5] + 45*x[6] + 95*y[6] + 55*x[7] + 115*y[7] + 35*x[8] + 60*y[8] + 40*x[9] + 84*y[9]\n",
            "\n",
            "1 Constraint Declarations\n",
            "    constraints : Size=4, Index=constraints_index, Active=True\n",
            "        Key : Lower : Body                                                                                                                                                                                                       : Upper : Active\n",
            "          1 :   0.0 : 0.2*(x[0] + y[0]) + 0.2*(x[1] + y[1]) + 0.25*(x[2] + y[2]) + 0.15*(x[3] + y[3]) + 0.1*(x[4] + y[4]) + 0.25*(x[5] + y[5]) - 0.15*(x[6] + y[6]) + 0.2*(x[7] + y[7]) + 0.05*(x[8] + y[8]) - 0.2*(x[9] + y[9]) :   0.0 :   True\n",
            "          2 :   0.0 : 0.35*(x[0] + y[0]) + 0.3*(x[1] + y[1]) + 0.3*(x[2] + y[2]) + 0.15*(x[3] + y[3]) + 0.1*(x[4] + y[4]) + 0.1*(x[5] + y[5]) - 0.05*(x[6] + y[6]) - 0.1*(x[7] + y[7]) - 0.15*(x[8] + y[8]) - 0.15*(x[9] + y[9]) :   0.0 :   True\n",
            "          3 :   0.0 :                                          0.15*(x[0] + y[0]) + 0.1*(x[1] + y[1]) + 0.05*(x[2] + y[2]) - 0.15*(x[5] + y[5]) + 0.1*(x[6] + y[6]) - 0.3*(x[7] + y[7]) - 0.2*(x[8] + y[8]) + 0.05*(x[9] + y[9]) :   0.0 :   True\n",
            "          4 : 450.0 :                                                                  x[0] + y[0] + x[1] + y[1] + x[2] + y[2] + x[3] + y[3] + x[4] + y[4] + x[5] + y[5] + x[6] + y[6] + x[7] + y[7] + x[8] + y[8] + x[9] + y[9] : 450.0 :   True\n",
            "\n",
            "7 Declarations: x_index x y_index y constraints_index constraints objective\n"
          ],
          "name": "stdout"
        }
      ]
    },
    {
      "cell_type": "code",
      "metadata": {
        "id": "42gSr4Wvvrw_"
      },
      "source": [
        "!apt-get install -y -qq glpk-utils"
      ],
      "execution_count": 254,
      "outputs": []
    },
    {
      "cell_type": "code",
      "metadata": {
        "colab": {
          "base_uri": "https://localhost:8080/"
        },
        "id": "eDpO_1Lovv2n",
        "outputId": "3db7212c-0030-4de3-b7c2-0a6df76de9aa"
      },
      "source": [
        "SolverFactory('glpk', executable='/usr/bin/glpsol').solve(model).write()"
      ],
      "execution_count": 255,
      "outputs": [
        {
          "output_type": "stream",
          "text": [
            "# ==========================================================\n",
            "# = Solver Results                                         =\n",
            "# ==========================================================\n",
            "# ----------------------------------------------------------\n",
            "#   Problem Information\n",
            "# ----------------------------------------------------------\n",
            "Problem: \n",
            "- Name: unknown\n",
            "  Lower bound: 31013.4\n",
            "  Upper bound: 31013.4\n",
            "  Number of objectives: 1\n",
            "  Number of constraints: 5\n",
            "  Number of variables: 21\n",
            "  Number of nonzeros: 77\n",
            "  Sense: minimize\n",
            "# ----------------------------------------------------------\n",
            "#   Solver Information\n",
            "# ----------------------------------------------------------\n",
            "Solver: \n",
            "- Status: ok\n",
            "  Termination condition: optimal\n",
            "  Statistics: \n",
            "    Branch and bound: \n",
            "      Number of bounded subproblems: 0\n",
            "      Number of created subproblems: 0\n",
            "  Error rc: 0\n",
            "  Time: 0.012421607971191406\n",
            "# ----------------------------------------------------------\n",
            "#   Solution Information\n",
            "# ----------------------------------------------------------\n",
            "Solution: \n",
            "- number of solutions: 0\n",
            "  number of solutions displayed: 0\n"
          ],
          "name": "stdout"
        }
      ]
    },
    {
      "cell_type": "code",
      "metadata": {
        "colab": {
          "base_uri": "https://localhost:8080/"
        },
        "id": "89zYD3dNv1OA",
        "outputId": "f94962b5-97cb-41fe-9f0d-001b4d59885a"
      },
      "source": [
        "# display solution\n",
        "print('\\nObjective = ', model.objective())\n",
        "\n",
        "print('\\nDecision Variables')\n",
        "for i in col_indices:\n",
        "  print('x[',i,'] = ', model.x[i].value)\n",
        "  print('y[',i,'] = ', model.y[i].value)\n",
        "\n",
        "print('\\nConstraints')\n",
        "model.constraints.display()"
      ],
      "execution_count": 256,
      "outputs": [
        {
          "output_type": "stream",
          "text": [
            "\n",
            "Objective =  31013.4\n",
            "\n",
            "Decision Variables\n",
            "x[ 0 ] =  12.0\n",
            "y[ 0 ] =  79.0\n",
            "x[ 1 ] =  9.0\n",
            "y[ 1 ] =  0.0\n",
            "x[ 2 ] =  16.0\n",
            "y[ 2 ] =  0.0\n",
            "x[ 3 ] =  25.0\n",
            "y[ 3 ] =  0.0\n",
            "x[ 4 ] =  4.0\n",
            "y[ 4 ] =  0.0\n",
            "x[ 5 ] =  5.0\n",
            "y[ 5 ] =  0.0\n",
            "x[ 6 ] =  10.0\n",
            "y[ 6 ] =  0.0\n",
            "x[ 7 ] =  0.0\n",
            "y[ 7 ] =  0.0\n",
            "x[ 8 ] =  0.0\n",
            "y[ 8 ] =  120.4\n",
            "x[ 9 ] =  6.0\n",
            "y[ 9 ] =  163.6\n",
            "\n",
            "Constraints\n",
            "constraints : Size=4\n",
            "    Key : Lower : Body                   : Upper\n",
            "      1 :   0.0 :                    0.0 :   0.0\n",
            "      2 :   0.0 : -3.552713678800501e-15 :   0.0\n",
            "      3 :   0.0 :                    0.0 :   0.0\n",
            "      4 : 450.0 :                  450.0 : 450.0\n"
          ],
          "name": "stdout"
        }
      ]
    }
  ]
}