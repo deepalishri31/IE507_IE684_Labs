{
  "nbformat": 4,
  "nbformat_minor": 0,
  "metadata": {
    "colab": {
      "name": "21i190006_IE507_Lab2_Ex2.ipynb",
      "provenance": []
    },
    "kernelspec": {
      "name": "python3",
      "display_name": "Python 3"
    },
    "language_info": {
      "name": "python"
    }
  },
  "cells": [
    {
      "cell_type": "code",
      "metadata": {
        "id": "hPxpjsiEHCIU"
      },
      "source": [
        "!pip install -q pyomo"
      ],
      "execution_count": 30,
      "outputs": []
    },
    {
      "cell_type": "code",
      "metadata": {
        "id": "qE8lUKskIB4R"
      },
      "source": [
        "from pyomo.environ import *"
      ],
      "execution_count": 31,
      "outputs": []
    },
    {
      "cell_type": "code",
      "metadata": {
        "id": "bYNH6Zt-IFZA"
      },
      "source": [
        "import numpy as np"
      ],
      "execution_count": 32,
      "outputs": []
    },
    {
      "cell_type": "code",
      "metadata": {
        "id": "-qMuvwsfIH8X"
      },
      "source": [
        "model = ConcreteModel()"
      ],
      "execution_count": 33,
      "outputs": []
    },
    {
      "cell_type": "code",
      "metadata": {
        "id": "u4F-KTkQIL0V"
      },
      "source": [
        "M=4\n",
        "N=10"
      ],
      "execution_count": 34,
      "outputs": []
    },
    {
      "cell_type": "code",
      "metadata": {
        "id": "2UWc7-NXIWVP"
      },
      "source": [
        "obj_coef_c = np.array([-9.6, -2.85, 41.5, 33.05, -0.75, 20.5, -0.35, -31.02, 50.65, 6.125])"
      ],
      "execution_count": 35,
      "outputs": []
    },
    {
      "cell_type": "code",
      "metadata": {
        "id": "lCgfjeOpIlmU"
      },
      "source": [
        "constr_coef_A= np.array(([0,1,-2,0,1,-2,0,1,1,-1],[-1,1,-3,2.5,0, 1.4, 0, -2, 1, -1.5],[-0.45, 4.78, -2, -3.22, -1.3, 1, -1, 0, 0, 0.25],[1 ,0, 0, 0 ,1, 1 ,0, 2 ,3, 0]))"
      ],
      "execution_count": 36,
      "outputs": []
    },
    {
      "cell_type": "code",
      "metadata": {
        "id": "SQAo5KumJgCy"
      },
      "source": [
        "constr_rhs_b = np.array([35.4, 47.9, 41.43, 22.7])"
      ],
      "execution_count": 37,
      "outputs": []
    },
    {
      "cell_type": "code",
      "metadata": {
        "id": "rjAarTclKSD1"
      },
      "source": [
        "lower_bound = np.array([-np.inf, -np.inf, 0, 0, -67, 0, -23, -5, 6, 1])\n",
        "upper_bound = np.array([4, np.inf, np.inf, 2, 20, 55, 23, 15, np.inf, np.inf])"
      ],
      "execution_count": 38,
      "outputs": []
    },
    {
      "cell_type": "code",
      "metadata": {
        "colab": {
          "base_uri": "https://localhost:8080/"
        },
        "id": "auoDyQjyK0L1",
        "outputId": "c1b1a4a8-8fa5-4462-dae3-94582b41a9ff"
      },
      "source": [
        "col_indices = np.arange(N)\n",
        "print(col_indices)\n",
        "print(col_indices[3])\n",
        "row_indices=np.arange(M)\n",
        "print(row_indices)"
      ],
      "execution_count": 39,
      "outputs": [
        {
          "output_type": "stream",
          "text": [
            "[0 1 2 3 4 5 6 7 8 9]\n",
            "3\n",
            "[0 1 2 3]\n"
          ],
          "name": "stdout"
        }
      ]
    },
    {
      "cell_type": "code",
      "metadata": {
        "id": "5Dqfuh-lLBsJ"
      },
      "source": [
        "model.x = Var(col_indices)"
      ],
      "execution_count": 40,
      "outputs": []
    },
    {
      "cell_type": "code",
      "metadata": {
        "id": "xgtl_zeELFfa"
      },
      "source": [
        "model.constraints = ConstraintList()"
      ],
      "execution_count": 41,
      "outputs": []
    },
    {
      "cell_type": "code",
      "metadata": {
        "colab": {
          "base_uri": "https://localhost:8080/"
        },
        "id": "7INheopILdfo",
        "outputId": "f66b048c-b862-4dbc-8c9e-540c4cd79739"
      },
      "source": [
        "model.pprint()"
      ],
      "execution_count": 42,
      "outputs": [
        {
          "output_type": "stream",
          "text": [
            "2 Set Declarations\n",
            "    constraints_index : Size=1, Index=None, Ordered=Insertion\n",
            "        Key  : Dimen : Domain : Size : Members\n",
            "        None :     1 :    Any :    0 :      {}\n",
            "    x_index : Size=1, Index=None, Ordered=False\n",
            "        Key  : Dimen : Domain : Size : Members\n",
            "        None :     1 :    Any :   10 : {0, 1, 2, 3, 4, 5, 6, 7, 8, 9}\n",
            "\n",
            "1 Var Declarations\n",
            "    x : Size=10, Index=x_index\n",
            "        Key : Lower : Value : Upper : Fixed : Stale : Domain\n",
            "          0 :  None :  None :  None : False :  True :  Reals\n",
            "          1 :  None :  None :  None : False :  True :  Reals\n",
            "          2 :  None :  None :  None : False :  True :  Reals\n",
            "          3 :  None :  None :  None : False :  True :  Reals\n",
            "          4 :  None :  None :  None : False :  True :  Reals\n",
            "          5 :  None :  None :  None : False :  True :  Reals\n",
            "          6 :  None :  None :  None : False :  True :  Reals\n",
            "          7 :  None :  None :  None : False :  True :  Reals\n",
            "          8 :  None :  None :  None : False :  True :  Reals\n",
            "          9 :  None :  None :  None : False :  True :  Reals\n",
            "\n",
            "1 Constraint Declarations\n",
            "    constraints : Size=0, Index=constraints_index, Active=True\n",
            "        Key : Lower : Body : Upper : Active\n",
            "\n",
            "4 Declarations: x_index x constraints_index constraints\n"
          ],
          "name": "stdout"
        }
      ]
    },
    {
      "cell_type": "code",
      "metadata": {
        "id": "QYILy0CGLqwS"
      },
      "source": [
        "for i in row_indices :\n",
        "  model.constraints.add(sum(constr_coef_A[i,j]*model.x[j] for j in col_indices) <= constr_rhs_b[i])\n"
      ],
      "execution_count": 43,
      "outputs": []
    },
    {
      "cell_type": "code",
      "metadata": {
        "id": "74NNl4MUcjgd"
      },
      "source": [
        "for j in col_indices:\n",
        "  model.x[j].setlb(lower_bound[j])\n",
        "  model.x[j].setub(upper_bound[j])"
      ],
      "execution_count": 44,
      "outputs": []
    },
    {
      "cell_type": "code",
      "metadata": {
        "id": "Yq-5pBMobg78"
      },
      "source": [
        "model.objective = Objective(expr = sum(obj_coef_c[j]*model.x[j] for j in col_indices), sense=minimize)"
      ],
      "execution_count": 45,
      "outputs": []
    },
    {
      "cell_type": "code",
      "metadata": {
        "colab": {
          "base_uri": "https://localhost:8080/"
        },
        "id": "woKNUCRNcdSj",
        "outputId": "445affa6-9c78-430e-c87a-da367658c41b"
      },
      "source": [
        "model.pprint()"
      ],
      "execution_count": 46,
      "outputs": [
        {
          "output_type": "stream",
          "text": [
            "2 Set Declarations\n",
            "    constraints_index : Size=1, Index=None, Ordered=Insertion\n",
            "        Key  : Dimen : Domain : Size : Members\n",
            "        None :     1 :    Any :    4 : {1, 2, 3, 4}\n",
            "    x_index : Size=1, Index=None, Ordered=False\n",
            "        Key  : Dimen : Domain : Size : Members\n",
            "        None :     1 :    Any :   10 : {0, 1, 2, 3, 4, 5, 6, 7, 8, 9}\n",
            "\n",
            "1 Var Declarations\n",
            "    x : Size=10, Index=x_index\n",
            "        Key : Lower : Value : Upper : Fixed : Stale : Domain\n",
            "          0 :  -inf :  None :   4.0 : False :  True :  Reals\n",
            "          1 :  -inf :  None :   inf : False :  True :  Reals\n",
            "          2 :   0.0 :  None :   inf : False :  True :  Reals\n",
            "          3 :   0.0 :  None :   2.0 : False :  True :  Reals\n",
            "          4 : -67.0 :  None :  20.0 : False :  True :  Reals\n",
            "          5 :   0.0 :  None :  55.0 : False :  True :  Reals\n",
            "          6 : -23.0 :  None :  23.0 : False :  True :  Reals\n",
            "          7 :  -5.0 :  None :  15.0 : False :  True :  Reals\n",
            "          8 :   6.0 :  None :   inf : False :  True :  Reals\n",
            "          9 :   1.0 :  None :   inf : False :  True :  Reals\n",
            "\n",
            "1 Objective Declarations\n",
            "    objective : Size=1, Index=None, Active=True\n",
            "        Key  : Active : Sense    : Expression\n",
            "        None :   True : minimize : -9.6*x[0] - 2.85*x[1] + 41.5*x[2] + 33.05*x[3] - 0.75*x[4] + 20.5*x[5] - 0.35*x[6] - 31.02*x[7] + 50.65*x[8] + 6.125*x[9]\n",
            "\n",
            "1 Constraint Declarations\n",
            "    constraints : Size=4, Index=constraints_index, Active=True\n",
            "        Key : Lower : Body                                                                               : Upper : Active\n",
            "          1 :  -Inf :                             x[1] - 2.0*x[2] + x[4] - 2.0*x[5] + x[7] + x[8] - x[9] :  35.4 :   True\n",
            "          2 :  -Inf :        - x[0] + x[1] - 3.0*x[2] + 2.5*x[3] + 1.4*x[5] - 2.0*x[7] + x[8] - 1.5*x[9] :  47.9 :   True\n",
            "          3 :  -Inf : -0.45*x[0] + 4.78*x[1] - 2.0*x[2] - 3.22*x[3] - 1.3*x[4] + x[5] - x[6] + 0.25*x[9] : 41.43 :   True\n",
            "          4 :  -Inf :                                           x[0] + x[4] + x[5] + 2.0*x[7] + 3.0*x[8] :  22.7 :   True\n",
            "\n",
            "5 Declarations: x_index x constraints_index constraints objective\n"
          ],
          "name": "stdout"
        }
      ]
    },
    {
      "cell_type": "code",
      "metadata": {
        "id": "Ohio_rHJdzao"
      },
      "source": [
        "!apt-get install -y -qq glpk-utils"
      ],
      "execution_count": 47,
      "outputs": []
    },
    {
      "cell_type": "code",
      "metadata": {
        "colab": {
          "base_uri": "https://localhost:8080/"
        },
        "id": "0VyHxxYdd4mP",
        "outputId": "a353fc5e-36a6-4ba8-f0d4-2a801645f2bc"
      },
      "source": [
        "SolverFactory('glpk', executable='/usr/bin/glpsol').solve(model).write()"
      ],
      "execution_count": 48,
      "outputs": [
        {
          "output_type": "stream",
          "text": [
            "# ==========================================================\n",
            "# = Solver Results                                         =\n",
            "# ==========================================================\n",
            "# ----------------------------------------------------------\n",
            "#   Problem Information\n",
            "# ----------------------------------------------------------\n",
            "Problem: \n",
            "- Name: unknown\n",
            "  Lower bound: -196.378974895398\n",
            "  Upper bound: -196.378974895398\n",
            "  Number of objectives: 1\n",
            "  Number of constraints: 5\n",
            "  Number of variables: 11\n",
            "  Number of nonzeros: 29\n",
            "  Sense: minimize\n",
            "# ----------------------------------------------------------\n",
            "#   Solver Information\n",
            "# ----------------------------------------------------------\n",
            "Solver: \n",
            "- Status: ok\n",
            "  Termination condition: optimal\n",
            "  Statistics: \n",
            "    Branch and bound: \n",
            "      Number of bounded subproblems: 0\n",
            "      Number of created subproblems: 0\n",
            "  Error rc: 0\n",
            "  Time: 0.013497352600097656\n",
            "# ----------------------------------------------------------\n",
            "#   Solution Information\n",
            "# ----------------------------------------------------------\n",
            "Solution: \n",
            "- number of solutions: 0\n",
            "  number of solutions displayed: 0\n"
          ],
          "name": "stdout"
        }
      ]
    },
    {
      "cell_type": "code",
      "metadata": {
        "colab": {
          "base_uri": "https://localhost:8080/"
        },
        "id": "fIapxZGhd9Ot",
        "outputId": "7e59ee9d-14dc-468a-c8f2-18d47a132320"
      },
      "source": [
        "# display solution\n",
        "print('\\nObjective = ', model.objective())\n",
        "\n",
        "print('\\nDecision Variables')\n",
        "for i in col_indices:\n",
        "  print('x[',i,'] = ', model.x[i].value)\n",
        "\n",
        "print('\\nConstraints')\n",
        "model.constraints.display()"
      ],
      "execution_count": 49,
      "outputs": [
        {
          "output_type": "stream",
          "text": [
            "\n",
            "Objective =  -196.3789748953975\n",
            "\n",
            "Decision Variables\n",
            "x[ 0 ] =  4.0\n",
            "x[ 1 ] =  5.8347280334728\n",
            "x[ 2 ] =  0.0\n",
            "x[ 3 ] =  0.0\n",
            "x[ 4 ] =  -29.3\n",
            "x[ 5 ] =  0.0\n",
            "x[ 6 ] =  23.0\n",
            "x[ 7 ] =  15.0\n",
            "x[ 8 ] =  6.0\n",
            "x[ 9 ] =  1.0\n",
            "\n",
            "Constraints\n",
            "constraints : Size=4\n",
            "    Key : Lower : Body               : Upper\n",
            "      1 :  None : -3.465271966527201 :  35.4\n",
            "      2 :  None :  -23.6652719665272 :  47.9\n",
            "      3 :  None :  41.42999999999998 : 41.43\n",
            "      4 :  None :               22.7 :  22.7\n"
          ],
          "name": "stdout"
        }
      ]
    },
    {
      "cell_type": "code",
      "metadata": {
        "id": "O0u4xCR_eCny"
      },
      "source": [
        ""
      ],
      "execution_count": 49,
      "outputs": []
    }
  ]
}