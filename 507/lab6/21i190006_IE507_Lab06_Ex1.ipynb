{
  "cells": [
    {
      "cell_type": "markdown",
      "metadata": {
        "id": "9-AmuUeBfiVf"
      },
      "source": [
        "$$Exercise: 1$$"
      ]
    },
    {
      "cell_type": "markdown",
      "metadata": {
        "id": "A2FeBE2lUbW3"
      },
      "source": [
        "In this lab, we will consider non-linear problems which can be converted to linear programs. One famous example is the absolute value function given as: \n",
        "\\begin{align}\n",
        "|x| = \\begin{cases}\n",
        "        x  & \\text{ if } x\\geq 0 \\\\ \n",
        "        -x & \\text{ otherwise }.\n",
        "      \\end{cases}\n",
        "\\end{align}\n",
        "\n",
        "We will now consider the absolute value function appearing in the objective function. Consider the optimization problem $\\textbf{(OP)}$:\n",
        "\\begin{align}\n",
        "\\min \\ |x_1| + |x_2| + |x_3| + |x_4| + |x_5| &  \\nonumber \\\\\n",
        "{\\rm{s.t.}} \\ 85 x_1 + 92 x_2 + 45 x_3 + 27 x_4 + 31 x_5 & \\geq 1 \\nonumber \\\\\n",
        "92 x_1 + 54 x_2 + 22 x_3 + 20 x_4 + 7 x_5 & \\geq 1 \\nonumber \\\\\n",
        "96 x_1 + 67 x_2 + 29 x_3 + 20 x_4 + 11 x_5 & \\geq 1 \\nonumber \\\\\n",
        "-91 x_1 - 57 x_2 - 33 x_3 - 23 x_4 - 12 x_5 & \\geq 1 \\nonumber \\\\\n",
        "-99 x_1 - 75 x_2 - 26 x_3 - 24 x_4 - 41 x_5 & \\geq 1 \\nonumber \\\\\n",
        "-98 x_1 - 99 x_2 - 57 x_3 - 45 x_4 - 65 x_5 & \\geq 1 \\nonumber\n",
        "\\end{align}\n",
        "\n",
        "In this optimization problem $\\textbf{(OP)}$, we wish to minimize the sum of absolute values of the decision variables. Such problems are useful when the decision variables might take both positive and negative values, and we want to optimize the magnitudes of the decision variables. \n",
        "\n",
        "We will now consider two possible ways to solve this problem. \n",
        "\n",
        "$\\textbf{Approach 1:}$ \n",
        "\n",
        "We can use a substitution of the absolute function values of the variables to new variables as $u_i = |x_i|, \\ \\forall i \\in \\{1,\\ldots,5\\}$. With this substitution, note that we have $u_i\\geq 0, \\ \\forall i \\in \\{1,\\ldots,5\\}$. Also, the following inequalities are satisfied: $x_i \\leq u_i, -x_i \\leq u_i, \\ \\forall i \\in \\{1,\\ldots,5\\}$. Thus we can transform the problem $\\textbf{(OP)}$ as the following optimization problem $\\textbf{(OP1)}$, where the absolute values of $x_i$ are replaced with $u_i$ and constraints related to the new variables $u_i$ are introduced. Thus we have the problem $\\textbf{(OP1)}$:\n",
        "\n",
        "\\begin{align}\n",
        "\\min \\ u_1 + u_2 + u_3 + u_4 + u_5 &  \\nonumber \\\\\n",
        "{\\rm{s.t.}} \\ 85 x_1 + 92 x_2 + 45 x_3 + 27 x_4 + 31 x_5 & \\geq 1 \\nonumber \\\\\n",
        "92 x_1 + 54 x_2 + 22 x_3 + 20 x_4 + 7 x_5 & \\geq 1 \\nonumber \\\\\n",
        "96 x_1 + 67 x_2 + 29 x_3 + 20 x_4 + 11 x_5 & \\geq 1 \\nonumber \\\\\n",
        "-91 x_1 - 57 x_2 - 33 x_3 - 23 x_4 - 12 x_5 & \\geq 1 \\nonumber \\\\\n",
        "-99 x_1 - 75 x_2 - 26 x_3 - 24 x_4 - 41 x_5 & \\geq 1 \\nonumber \\\\\n",
        "-98 x_1 - 99 x_2 - 57 x_3 - 45 x_4 - 65 x_5 & \\geq 1 \\nonumber \\\\\n",
        "u_i \\geq x_i, & \\  \\forall i \\in \\{1,\\ldots,5\\} \\nonumber \\\\ \n",
        "u_i \\geq -x_i, & \\  \\forall i \\in \\{1,\\ldots,5\\} \\nonumber \\\\ \n",
        "u_i \\geq 0, & \\ \\forall i \\in \\{1,\\ldots,5\\}. \n",
        "\\end{align}\n",
        "\n",
        "Note that the number of decision variables in $\\textbf{(OP1)}$ is twice the number of decision variables in $\\textbf{(OP)}$. However the objective function and the constraints in $\\textbf{(OP1)}$ are now linear since it doesn't contain any non linear function, and thus $\\textbf{(OP1)}$ is a linear program. \n"
      ]
    },
    {
      "cell_type": "code",
      "execution_count": 1,
      "metadata": {
        "colab": {
          "base_uri": "https://localhost:8080/"
        },
        "id": "hqLsyHhdBX5x",
        "outputId": "614a96b1-4a45-4a3b-cfdc-6832357810a2"
      },
      "outputs": [
        {
          "name": "stdout",
          "output_type": "stream",
          "text": [
            "\u001b[K     |████████████████████████████████| 9.1 MB 5.3 MB/s \n",
            "\u001b[K     |████████████████████████████████| 49 kB 5.5 MB/s \n",
            "\u001b[?25h"
          ]
        }
      ],
      "source": [
        "#Installing pyomo\n",
        "! pip install -q pyomo"
      ]
    },
    {
      "cell_type": "code",
      "execution_count": 2,
      "metadata": {
        "id": "48KDcrHCBapJ"
      },
      "outputs": [],
      "source": [
        "#importing required packages \n",
        "from pyomo.environ import * \n",
        "import numpy as np"
      ]
    },
    {
      "cell_type": "code",
      "execution_count": 4,
      "metadata": {
        "id": "iD9XZUGnBhfh"
      },
      "outputs": [],
      "source": [
        "df = np.loadtxt('lab6_coef.txt', delimiter=',')"
      ]
    },
    {
      "cell_type": "code",
      "execution_count": 5,
      "metadata": {
        "id": "6K8L_e91C6C_"
      },
      "outputs": [],
      "source": [
        "model = ConcreteModel()"
      ]
    },
    {
      "cell_type": "code",
      "execution_count": 6,
      "metadata": {
        "id": "DI9RCOO3JEvn"
      },
      "outputs": [],
      "source": [
        "N = df.shape[1]-1\n",
        "M = df.shape[0]-1"
      ]
    },
    {
      "cell_type": "code",
      "execution_count": 7,
      "metadata": {
        "id": "6jAO2PeyEL27"
      },
      "outputs": [],
      "source": [
        "obj_df = df[0,:-1]\n",
        "constr_df = df[1:,:-1]\n",
        "constr_rhs = df[1:,-1]"
      ]
    },
    {
      "cell_type": "code",
      "execution_count": 8,
      "metadata": {
        "id": "_foS-ZYmGkPH"
      },
      "outputs": [],
      "source": [
        "column_ind_x = np.arange(int(N/2))\n",
        "model.x = Var(column_ind_x)"
      ]
    },
    {
      "cell_type": "code",
      "execution_count": 9,
      "metadata": {
        "id": "4Ju3athUGnuh"
      },
      "outputs": [],
      "source": [
        "column_ind_u = np.arange(int(N/2))\n",
        "model.u = Var(column_ind_u, domain=NonNegativeReals)"
      ]
    },
    {
      "cell_type": "code",
      "execution_count": 10,
      "metadata": {
        "id": "ZGZ6d6OzGrFv"
      },
      "outputs": [],
      "source": [
        "row_indices = np.arange(M)"
      ]
    },
    {
      "cell_type": "code",
      "execution_count": 11,
      "metadata": {
        "id": "G1D5YEhrGtoX"
      },
      "outputs": [],
      "source": [
        "model.constraints = ConstraintList()"
      ]
    },
    {
      "cell_type": "code",
      "execution_count": 12,
      "metadata": {
        "id": "ehBAMXo6Gw7I"
      },
      "outputs": [],
      "source": [
        "model.obj = Objective(expr = summation(obj_df[0:int(N/2)],model.x) + summation(obj_df[int(N/2):N],model.u), sense=minimize)"
      ]
    },
    {
      "cell_type": "code",
      "execution_count": 13,
      "metadata": {
        "id": "mOiZ9p7fS4g8"
      },
      "outputs": [],
      "source": [
        "for i in row_indices:\n",
        "  model.constraints.add(summation(constr_df[i][0:int(N/2)],model.x) + summation(constr_df[i][int(N/2):N],model.u)  >= constr_rhs[i])"
      ]
    },
    {
      "cell_type": "code",
      "execution_count": 14,
      "metadata": {
        "colab": {
          "base_uri": "https://localhost:8080/"
        },
        "id": "FNlJGuILGzha",
        "outputId": "1659e42d-ada3-4190-9e4a-2c55ed828473"
      },
      "outputs": [
        {
          "name": "stdout",
          "output_type": "stream",
          "text": [
            "3 Set Declarations\n",
            "    constraints_index : Size=1, Index=None, Ordered=Insertion\n",
            "        Key  : Dimen : Domain : Size : Members\n",
            "        None :     1 :    Any :   16 : {1, 2, 3, 4, 5, 6, 7, 8, 9, 10, 11, 12, 13, 14, 15, 16}\n",
            "    u_index : Size=1, Index=None, Ordered=False\n",
            "        Key  : Dimen : Domain : Size : Members\n",
            "        None :     1 :    Any :    5 : {0, 1, 2, 3, 4}\n",
            "    x_index : Size=1, Index=None, Ordered=False\n",
            "        Key  : Dimen : Domain : Size : Members\n",
            "        None :     1 :    Any :    5 : {0, 1, 2, 3, 4}\n",
            "\n",
            "2 Var Declarations\n",
            "    u : Size=5, Index=u_index\n",
            "        Key : Lower : Value : Upper : Fixed : Stale : Domain\n",
            "          0 :     0 :  None :  None : False :  True : NonNegativeReals\n",
            "          1 :     0 :  None :  None : False :  True : NonNegativeReals\n",
            "          2 :     0 :  None :  None : False :  True : NonNegativeReals\n",
            "          3 :     0 :  None :  None : False :  True : NonNegativeReals\n",
            "          4 :     0 :  None :  None : False :  True : NonNegativeReals\n",
            "    x : Size=5, Index=x_index\n",
            "        Key : Lower : Value : Upper : Fixed : Stale : Domain\n",
            "          0 :  None :  None :  None : False :  True :  Reals\n",
            "          1 :  None :  None :  None : False :  True :  Reals\n",
            "          2 :  None :  None :  None : False :  True :  Reals\n",
            "          3 :  None :  None :  None : False :  True :  Reals\n",
            "          4 :  None :  None :  None : False :  True :  Reals\n",
            "\n",
            "1 Objective Declarations\n",
            "    obj : Size=1, Index=None, Active=True\n",
            "        Key  : Active : Sense    : Expression\n",
            "        None :   True : minimize :  + (u[0] + u[1] + u[2] + u[3] + u[4])\n",
            "\n",
            "1 Constraint Declarations\n",
            "    constraints : Size=16, Index=constraints_index, Active=True\n",
            "        Key : Lower : Body                                                             : Upper : Active\n",
            "          1 :   1.0 :   85.0*x[0] + 92.0*x[1] + 45.0*x[2] + 27.0*x[3] + 31.0*x[4] + () :  +Inf :   True\n",
            "          2 :   1.0 :    92.0*x[0] + 54.0*x[1] + 22.0*x[2] + 20.0*x[3] + 7.0*x[4] + () :  +Inf :   True\n",
            "          3 :   1.0 :   96.0*x[0] + 67.0*x[1] + 29.0*x[2] + 20.0*x[3] + 11.0*x[4] + () :  +Inf :   True\n",
            "          4 :   1.0 : - 91.0*x[0] - 57.0*x[1] - 33.0*x[2] - 23.0*x[3] - 12.0*x[4] + () :  +Inf :   True\n",
            "          5 :   1.0 : - 99.0*x[0] - 75.0*x[1] - 26.0*x[2] - 24.0*x[3] - 41.0*x[4] + () :  +Inf :   True\n",
            "          6 :   1.0 : - 98.0*x[0] - 99.0*x[1] - 57.0*x[2] - 45.0*x[3] - 65.0*x[4] + () :  +Inf :   True\n",
            "          7 :   0.0 :                                                  - x[0] + (u[0]) :  +Inf :   True\n",
            "          8 :   0.0 :                                                  - x[1] + (u[1]) :  +Inf :   True\n",
            "          9 :   0.0 :                                                  - x[2] + (u[2]) :  +Inf :   True\n",
            "         10 :   0.0 :                                                  - x[3] + (u[3]) :  +Inf :   True\n",
            "         11 :   0.0 :                                                  - x[4] + (u[4]) :  +Inf :   True\n",
            "         12 :   0.0 :                                                    x[0] + (u[0]) :  +Inf :   True\n",
            "         13 :   0.0 :                                                    x[1] + (u[1]) :  +Inf :   True\n",
            "         14 :   0.0 :                                                    x[2] + (u[2]) :  +Inf :   True\n",
            "         15 :   0.0 :                                                    x[3] + (u[3]) :  +Inf :   True\n",
            "         16 :   0.0 :                                                    x[4] + (u[4]) :  +Inf :   True\n",
            "\n",
            "7 Declarations: x_index x u_index u constraints_index constraints obj\n"
          ]
        }
      ],
      "source": [
        "model.pprint()"
      ]
    },
    {
      "cell_type": "code",
      "execution_count": 15,
      "metadata": {
        "colab": {
          "base_uri": "https://localhost:8080/"
        },
        "id": "crkl32vDG5PU",
        "outputId": "30561540-b90a-4212-bf35-261f1d6f2304"
      },
      "outputs": [
        {
          "name": "stdout",
          "output_type": "stream",
          "text": [
            "Selecting previously unselected package coinor-libcoinutils3v5.\n",
            "(Reading database ... 155047 files and directories currently installed.)\n",
            "Preparing to unpack .../0-coinor-libcoinutils3v5_2.10.14+repack1-1_amd64.deb ...\n",
            "Unpacking coinor-libcoinutils3v5 (2.10.14+repack1-1) ...\n",
            "Selecting previously unselected package coinor-libosi1v5.\n",
            "Preparing to unpack .../1-coinor-libosi1v5_0.107.9+repack1-1_amd64.deb ...\n",
            "Unpacking coinor-libosi1v5 (0.107.9+repack1-1) ...\n",
            "Selecting previously unselected package coinor-libclp1.\n",
            "Preparing to unpack .../2-coinor-libclp1_1.16.11+repack1-1_amd64.deb ...\n",
            "Unpacking coinor-libclp1 (1.16.11+repack1-1) ...\n",
            "Selecting previously unselected package coinor-libcgl1.\n",
            "Preparing to unpack .../3-coinor-libcgl1_0.59.10+repack1-1_amd64.deb ...\n",
            "Unpacking coinor-libcgl1 (0.59.10+repack1-1) ...\n",
            "Selecting previously unselected package coinor-libcbc3.\n",
            "Preparing to unpack .../4-coinor-libcbc3_2.9.9+repack1-1_amd64.deb ...\n",
            "Unpacking coinor-libcbc3 (2.9.9+repack1-1) ...\n",
            "Selecting previously unselected package coinor-cbc.\n",
            "Preparing to unpack .../5-coinor-cbc_2.9.9+repack1-1_amd64.deb ...\n",
            "Unpacking coinor-cbc (2.9.9+repack1-1) ...\n",
            "Setting up coinor-libcoinutils3v5 (2.10.14+repack1-1) ...\n",
            "Setting up coinor-libosi1v5 (0.107.9+repack1-1) ...\n",
            "Setting up coinor-libclp1 (1.16.11+repack1-1) ...\n",
            "Setting up coinor-libcgl1 (0.59.10+repack1-1) ...\n",
            "Setting up coinor-libcbc3 (2.9.9+repack1-1) ...\n",
            "Setting up coinor-cbc (2.9.9+repack1-1) ...\n",
            "Processing triggers for man-db (2.8.3-2ubuntu0.1) ...\n",
            "Processing triggers for libc-bin (2.27-3ubuntu1.3) ...\n",
            "/sbin/ldconfig.real: /usr/local/lib/python3.7/dist-packages/ideep4py/lib/libmkldnn.so.0 is not a symbolic link\n",
            "\n"
          ]
        }
      ],
      "source": [
        "!apt-get install -y -qq coinor-cbc"
      ]
    },
    {
      "cell_type": "code",
      "execution_count": 16,
      "metadata": {
        "id": "-9Da35ncHT_1"
      },
      "outputs": [],
      "source": [
        "opt_cbc = SolverFactory('cbc')\n",
        "result = opt_cbc.solve(model)"
      ]
    },
    {
      "cell_type": "markdown",
      "metadata": {
        "id": "iQf2U7a1jBnl"
      },
      "source": [
        "Ex-1.2"
      ]
    },
    {
      "cell_type": "code",
      "execution_count": 17,
      "metadata": {
        "colab": {
          "base_uri": "https://localhost:8080/"
        },
        "id": "We8fztXGi-5L",
        "outputId": "0c5ec151-f628-436c-a138-0434b17bfa06"
      },
      "outputs": [
        {
          "name": "stdout",
          "output_type": "stream",
          "text": [
            "Solver status: ok\n",
            "Solver termination condition: optimal\n"
          ]
        }
      ],
      "source": [
        "print('Solver status:', result.solver.status)\n",
        "print('Solver termination condition:',result.solver.termination_condition)"
      ]
    },
    {
      "cell_type": "markdown",
      "metadata": {
        "id": "dEZ4dV_4FzcH"
      },
      "source": [
        "Yes, the solver yields optimal solution."
      ]
    },
    {
      "cell_type": "markdown",
      "metadata": {
        "id": "Z2P3CdXgPMJ7"
      },
      "source": [
        "Ex-1.3"
      ]
    },
    {
      "cell_type": "code",
      "execution_count": 18,
      "metadata": {
        "colab": {
          "base_uri": "https://localhost:8080/"
        },
        "id": "SrQko1dLJ3As",
        "outputId": "33e0efc3-565e-41cc-b6a9-e0f1c570d5c3"
      },
      "outputs": [
        {
          "name": "stdout",
          "output_type": "stream",
          "text": [
            "Objective Function Value =  0.547955725\n"
          ]
        }
      ],
      "source": [
        "print('Objective Function Value = ', model.obj())"
      ]
    },
    {
      "cell_type": "code",
      "execution_count": 19,
      "metadata": {
        "colab": {
          "base_uri": "https://localhost:8080/"
        },
        "id": "pWHwRr9HJ-gD",
        "outputId": "f003cdac-4eff-4f85-f822-0a181b5dcd85"
      },
      "outputs": [
        {
          "name": "stdout",
          "output_type": "stream",
          "text": [
            "Decision Variables: \n",
            "x[ 0 ]: -0.046448575\n",
            "x[ 1 ]: 0.18612441\n",
            "x[ 2 ]: -0.17131802\n",
            "x[ 3 ]: 0.0\n",
            "x[ 4 ]: -0.14406472\n",
            "u[ 0 ]: 0.046448575\n",
            "u[ 1 ]: 0.18612441\n",
            "u[ 2 ]: 0.17131802\n",
            "u[ 3 ]: 0.0\n",
            "u[ 4 ]: 0.14406472\n"
          ]
        }
      ],
      "source": [
        "print('Decision Variables: ')\n",
        "for j in column_ind_x:\n",
        "    print('x[',j,']:', model.x[j].value)\n",
        "for j in column_ind_u:\n",
        "    print('u[',j,']:', model.u[j].value)"
      ]
    },
    {
      "cell_type": "code",
      "execution_count": 20,
      "metadata": {
        "colab": {
          "base_uri": "https://localhost:8080/"
        },
        "id": "deqYcBYyJCYF",
        "outputId": "256ea61b-6ce4-4773-d1b8-d063655d3604"
      },
      "outputs": [
        {
          "name": "stdout",
          "output_type": "stream",
          "text": [
            "Constraints: \n",
            "constraints : Size=16\n",
            "    Key : Lower : Body               : Upper\n",
            "      1 :   1.0 : 0.9999996250000001 :  None\n",
            "      2 :   1.0 : 0.9999997599999997 :  None\n",
            "      3 :   1.0 :  1.458337769999999 :  None\n",
            "      4 :   1.0 : 1.0000002550000002 :  None\n",
            "      5 :   1.0 :  1.000000215000001 :  None\n",
            "      6 :   1.0 : 5.2549776999999995 :  None\n",
            "      7 :   0.0 :         0.09289715 :  None\n",
            "      8 :   0.0 :                0.0 :  None\n",
            "      9 :   0.0 :         0.34263604 :  None\n",
            "     10 :   0.0 :                0.0 :  None\n",
            "     11 :   0.0 :         0.28812944 :  None\n",
            "     12 :   0.0 :                0.0 :  None\n",
            "     13 :   0.0 :         0.37224882 :  None\n",
            "     14 :   0.0 :                0.0 :  None\n",
            "     15 :   0.0 :                0.0 :  None\n",
            "     16 :   0.0 :                0.0 :  None\n"
          ]
        }
      ],
      "source": [
        "print('Constraints: ')\n",
        "model.constraints.display()"
      ]
    },
    {
      "cell_type": "markdown",
      "metadata": {
        "id": "SA27GRBRJYyQ"
      },
      "source": [
        "Recall our optimization problem $\\textbf{(OP)}$:\n",
        "\\begin{align}\n",
        "\\min \\ |x_1| + |x_2| + |x_3| + |x_4| + |x_5| &  \\nonumber \\\\\n",
        "{\\rm{s.t.}} \\ 85 x_1 + 92 x_2 + 45 x_3 + 27 x_4 + 31 x_5 & \\geq 1 \\nonumber \\\\\n",
        "92 x_1 + 54 x_2 + 22 x_3 + 20 x_4 + 7 x_5 & \\geq 1 \\nonumber \\\\\n",
        "96 x_1 + 67 x_2 + 29 x_3 + 20 x_4 + 11 x_5 & \\geq 1 \\nonumber \\\\\n",
        "-91 x_1 - 57 x_2 - 33 x_3 - 23 x_4 - 12 x_5 & \\geq 1 \\nonumber \\\\\n",
        "-99 x_1 - 75 x_2 - 26 x_3 - 24 x_4 - 41 x_5 & \\geq 1 \\nonumber \\\\\n",
        "-98 x_1 - 99 x_2 - 57 x_3 - 45 x_4 - 65 x_5 & \\geq 1 \\nonumber\n",
        "\\end{align}\n",
        "\n",
        "Now we will consider a different approach to make the problem $\\textbf{(OP)}$ linear. \n",
        "\n",
        "$\\textbf{Approach 2:}$\n",
        "\n",
        "In this approach we will use some fundamental properties of real numbers. Indeed, for any real number $x$, we can write $x=a-b$ where $a\\geq 0, b\\geq 0$. \n",
        "\n",
        "Hence we can substitute $|x| = |a-b|, \\ a\\geq 0, b\\geq 0$. \n",
        "\n",
        "Now we will consider another interesting property of real numbers: \n",
        "$|u-v| = u+v \\iff u\\geq 0, v\\geq 0, uv = 0$. \n",
        "\n",
        "Using this property we can write $|x| = a+b, \\ a\\geq 0, \\ b\\geq 0$. Note that this replacement will imply that $ab=0$. \n",
        "\n",
        "Thus we can transform the optimization problem $\\textbf{(OP)}$ into a new optimization problem $\\textbf{(OP2)}$ where $x_i = a_i - b_i, \\text{ and } |x_i| = a_i + b_i, \\ \\forall i \\in \\{1,\\dots,5\\}$ where $a_i \\geq 0, b_i \\geq 0, \\forall i \\in \\{1,\\dots,5\\}$. Thus we have the new optimization problem $\\textbf{(OP2)}$: \n",
        "\n",
        "\\begin{align}\n",
        "\\min \\ (a_1 + b_1) +  (a_2 + b_2) + (a_3 + b_3) + (a_4 + b_4) + (a_5 + b_5) &  \\nonumber \\\\\n",
        "{\\rm{s.t.}} \\ 85 (a_1-b_1) + 92 (a_2-b_2) + 45 (a_3-b_3) + 27 (a_4-b_4) + 31 (a_5-b_5) & \\geq 1 \\nonumber \\\\\n",
        "92 (a_1-b_1) + 54 (a_2-b_2) + 22 (a_3-b_3) + 20 (a_4-b_4) + 7 (a_5-b_5) & \\geq 1 \\nonumber \\\\\n",
        "96 (a_1-b_1) + 67 (a_2-b_2) + 29 (a_3-b_3) + 20 (a_4-b_4) + 11 (a_5-b_5) & \\geq 1 \\nonumber \\\\\n",
        "-91 (a_1-b_1) - 57 (a_2-b_2) - 33 (a_3-b_3) - 23 (a_4-b_4) - 12 (a_5-b_5) & \\geq 1 \\nonumber \\\\\n",
        "-99 (a_1-b_1) - 75 (a_2-b_2) - 26 (a_3-b_3) - 24 (a_4-b_4) - 41 (a_5-b_5) & \\geq 1 \\nonumber \\\\\n",
        "-98 (a_1-b_1) - 99 (a_2-b_2) - 57 (a_3-b_3) - 45 (a_4-b_4) - 65 (a_5-b_5) & \\geq 1 \\nonumber \\\\ \n",
        "a_i \\geq 0, \\ b_i \\geq 0, & \\ \\forall i \\in \\{1,\\ldots,5\\}. \\nonumber \n",
        "\\end{align}"
      ]
    },
    {
      "cell_type": "markdown",
      "metadata": {
        "id": "M-y8QXSzQl-m"
      },
      "source": [
        "Ex-1.6:"
      ]
    },
    {
      "cell_type": "code",
      "execution_count": 22,
      "metadata": {
        "id": "DxVZu2t1O53U"
      },
      "outputs": [],
      "source": [
        "df_1 = np.loadtxt('lab6_practice_coef_OP2.txt',delimiter=',')"
      ]
    },
    {
      "cell_type": "markdown",
      "metadata": {
        "id": "35ZovjUKQr2A"
      },
      "source": [
        "Ex-1.7:"
      ]
    },
    {
      "cell_type": "code",
      "execution_count": 23,
      "metadata": {
        "colab": {
          "base_uri": "https://localhost:8080/"
        },
        "id": "PRV8Ubh3QxzE",
        "outputId": "d4f7d769-ff98-41fb-d001-d09c5336938d"
      },
      "outputs": [
        {
          "name": "stdout",
          "output_type": "stream",
          "text": [
            "(7, 11)\n",
            "Num rows: 7\n",
            "Num cols: 11\n"
          ]
        }
      ],
      "source": [
        "print(df_1.shape)\n",
        "print('Num rows:',df_1.shape[0])\n",
        "print('Num cols:',df_1.shape[1])"
      ]
    },
    {
      "cell_type": "code",
      "execution_count": 24,
      "metadata": {
        "colab": {
          "base_uri": "https://localhost:8080/"
        },
        "id": "vyUjwaH8Q6tM",
        "outputId": "97ff0ca3-1546-4f01-b6e7-c48a05ead201"
      },
      "outputs": [
        {
          "name": "stdout",
          "output_type": "stream",
          "text": [
            "[[  1.   1.   1.   1.   1.   1.   1.   1.   1.   1.   0.]\n",
            " [ 85.  92.  45.  27.  31. -85. -92. -45. -27. -31.   1.]\n",
            " [ 92.  54.  22.  20.   7. -92. -54. -22. -20.  -7.   1.]\n",
            " [ 96.  67.  29.  20.  11. -96. -67. -29. -20. -11.   1.]\n",
            " [-91. -57. -33. -23. -12.  91.  57.  33.  23.  12.   1.]\n",
            " [-99. -75. -26. -24. -41.  99.  75.  26.  24.  41.   1.]\n",
            " [-98. -99. -57. -45. -65.  98.  99.  57.  45.  65.   1.]]\n"
          ]
        }
      ],
      "source": [
        "print(df_1)"
      ]
    },
    {
      "cell_type": "code",
      "execution_count": 25,
      "metadata": {
        "id": "6xXW4IS8Ktbr"
      },
      "outputs": [],
      "source": [
        "N = df_1.shape[1]-1\n",
        "M=df_1.shape[0]-1"
      ]
    },
    {
      "cell_type": "code",
      "execution_count": 26,
      "metadata": {
        "id": "GDz7Ri6iKyk2"
      },
      "outputs": [],
      "source": [
        "obj_df_1 = df_1[0,:-1]"
      ]
    },
    {
      "cell_type": "code",
      "execution_count": 27,
      "metadata": {
        "id": "S9jnqC0cK0OR"
      },
      "outputs": [],
      "source": [
        "constr_df_1 = df_1[1:,:-1]"
      ]
    },
    {
      "cell_type": "code",
      "execution_count": 28,
      "metadata": {
        "colab": {
          "base_uri": "https://localhost:8080/"
        },
        "id": "pje8bCviK2mB",
        "outputId": "71745bdf-d236-487a-80f3-d61f1c3a1bcd"
      },
      "outputs": [
        {
          "name": "stdout",
          "output_type": "stream",
          "text": [
            "(6,)\n",
            "[1. 1. 1. 1. 1. 1.]\n"
          ]
        }
      ],
      "source": [
        "rhs_df_1 = df_1[1:,-1]\n",
        "print(rhs_df_1.shape)\n",
        "print(rhs_df_1)"
      ]
    },
    {
      "cell_type": "code",
      "execution_count": 30,
      "metadata": {
        "id": "y477TtI0Pbkh"
      },
      "outputs": [],
      "source": [
        "model_2 = ConcreteModel()\n",
        "column_ind_a = np.arange(int(N/2))\n",
        "model_2.a = Var(column_ind_a,domain=NonNegativeReals)\n",
        "column_ind_b = np.arange(int(N/2))\n",
        "model_2.b = Var(column_ind_b,domain=NonNegativeReals)\n",
        "row_indices = np.arange(M)\n",
        "model_2.constraints = ConstraintList()\n",
        "model_2.obj = Objective(expr = summation(obj_df_1[0:int(N/2)],model_2.a) + summation(obj_df_1[int(N/2):N],model_2.b), sense=minimize)\n",
        "for i in row_indices:\n",
        "  model_2.constraints.add(summation(constr_df_1[i][0:int(N/2)],model_2.a) + summation(constr_df_1[i][int(N/2):N],model_2.b)  >= rhs_df_1[i])"
      ]
    },
    {
      "cell_type": "code",
      "execution_count": 31,
      "metadata": {
        "colab": {
          "base_uri": "https://localhost:8080/"
        },
        "id": "c9JDh7wdS1Tb",
        "outputId": "8b3d4429-b4da-472e-e97f-b3c0041ba42b"
      },
      "outputs": [
        {
          "name": "stdout",
          "output_type": "stream",
          "text": [
            "3 Set Declarations\n",
            "    a_index : Size=1, Index=None, Ordered=False\n",
            "        Key  : Dimen : Domain : Size : Members\n",
            "        None :     1 :    Any :    5 : {0, 1, 2, 3, 4}\n",
            "    b_index : Size=1, Index=None, Ordered=False\n",
            "        Key  : Dimen : Domain : Size : Members\n",
            "        None :     1 :    Any :    5 : {0, 1, 2, 3, 4}\n",
            "    constraints_index : Size=1, Index=None, Ordered=Insertion\n",
            "        Key  : Dimen : Domain : Size : Members\n",
            "        None :     1 :    Any :    6 : {1, 2, 3, 4, 5, 6}\n",
            "\n",
            "2 Var Declarations\n",
            "    a : Size=5, Index=a_index\n",
            "        Key : Lower : Value : Upper : Fixed : Stale : Domain\n",
            "          0 :     0 :  None :  None : False :  True : NonNegativeReals\n",
            "          1 :     0 :  None :  None : False :  True : NonNegativeReals\n",
            "          2 :     0 :  None :  None : False :  True : NonNegativeReals\n",
            "          3 :     0 :  None :  None : False :  True : NonNegativeReals\n",
            "          4 :     0 :  None :  None : False :  True : NonNegativeReals\n",
            "    b : Size=5, Index=b_index\n",
            "        Key : Lower : Value : Upper : Fixed : Stale : Domain\n",
            "          0 :     0 :  None :  None : False :  True : NonNegativeReals\n",
            "          1 :     0 :  None :  None : False :  True : NonNegativeReals\n",
            "          2 :     0 :  None :  None : False :  True : NonNegativeReals\n",
            "          3 :     0 :  None :  None : False :  True : NonNegativeReals\n",
            "          4 :     0 :  None :  None : False :  True : NonNegativeReals\n",
            "\n",
            "1 Objective Declarations\n",
            "    obj : Size=1, Index=None, Active=True\n",
            "        Key  : Active : Sense    : Expression\n",
            "        None :   True : minimize : a[0] + a[1] + a[2] + a[3] + a[4] + (b[0] + b[1] + b[2] + b[3] + b[4])\n",
            "\n",
            "1 Constraint Declarations\n",
            "    constraints : Size=6, Index=constraints_index, Active=True\n",
            "        Key : Lower : Body                                                                                                                      : Upper : Active\n",
            "          1 :   1.0 :     85.0*a[0] + 92.0*a[1] + 45.0*a[2] + 27.0*a[3] + 31.0*a[4] - 85.0*b[0] - 92.0*b[1] - 45.0*b[2] - 27.0*b[3] - 31.0*b[4] :  +Inf :   True\n",
            "          2 :   1.0 :       92.0*a[0] + 54.0*a[1] + 22.0*a[2] + 20.0*a[3] + 7.0*a[4] - 92.0*b[0] - 54.0*b[1] - 22.0*b[2] - 20.0*b[3] - 7.0*b[4] :  +Inf :   True\n",
            "          3 :   1.0 :     96.0*a[0] + 67.0*a[1] + 29.0*a[2] + 20.0*a[3] + 11.0*a[4] - 96.0*b[0] - 67.0*b[1] - 29.0*b[2] - 20.0*b[3] - 11.0*b[4] :  +Inf :   True\n",
            "          4 :   1.0 : - 91.0*a[0] - 57.0*a[1] - 33.0*a[2] - 23.0*a[3] - 12.0*a[4] + (91.0*b[0] + 57.0*b[1] + 33.0*b[2] + 23.0*b[3] + 12.0*b[4]) :  +Inf :   True\n",
            "          5 :   1.0 : - 99.0*a[0] - 75.0*a[1] - 26.0*a[2] - 24.0*a[3] - 41.0*a[4] + (99.0*b[0] + 75.0*b[1] + 26.0*b[2] + 24.0*b[3] + 41.0*b[4]) :  +Inf :   True\n",
            "          6 :   1.0 : - 98.0*a[0] - 99.0*a[1] - 57.0*a[2] - 45.0*a[3] - 65.0*a[4] + (98.0*b[0] + 99.0*b[1] + 57.0*b[2] + 45.0*b[3] + 65.0*b[4]) :  +Inf :   True\n",
            "\n",
            "7 Declarations: a_index a b_index b constraints_index constraints obj\n"
          ]
        }
      ],
      "source": [
        "model_2.pprint()"
      ]
    },
    {
      "cell_type": "markdown",
      "metadata": {
        "id": "EKAQzgMlR9El"
      },
      "source": [
        "Ex-1.8:"
      ]
    },
    {
      "cell_type": "code",
      "execution_count": 32,
      "metadata": {
        "id": "9dwSIxesTGpc"
      },
      "outputs": [],
      "source": [
        "result = opt_cbc.solve(model_2)"
      ]
    },
    {
      "cell_type": "markdown",
      "metadata": {
        "id": "_80YXYejR_4L"
      },
      "source": [
        "Ex-1.9:"
      ]
    },
    {
      "cell_type": "code",
      "execution_count": 33,
      "metadata": {
        "colab": {
          "base_uri": "https://localhost:8080/"
        },
        "id": "1BAP2RfCFIqc",
        "outputId": "8e8d0126-293b-4c08-9498-cd23bc6184a7"
      },
      "outputs": [
        {
          "name": "stdout",
          "output_type": "stream",
          "text": [
            "Solver status: ok\n",
            "Solver termination condition: optimal\n"
          ]
        }
      ],
      "source": [
        "print('Solver status:', result.solver.status)\n",
        "print('Solver termination condition:',result.solver.termination_condition)"
      ]
    },
    {
      "cell_type": "markdown",
      "metadata": {
        "id": "6vDqXfToSK9F"
      },
      "source": [
        "Ex-1.10:"
      ]
    },
    {
      "cell_type": "code",
      "execution_count": 34,
      "metadata": {
        "colab": {
          "base_uri": "https://localhost:8080/"
        },
        "id": "FWKgpng9LOLJ",
        "outputId": "3e54d7c2-a842-45fd-e952-1726c0676abc"
      },
      "outputs": [
        {
          "name": "stdout",
          "output_type": "stream",
          "text": [
            "\n",
            " Objective =  0.547955725\n"
          ]
        }
      ],
      "source": [
        "print('\\n Objective = ', model_2.obj())"
      ]
    },
    {
      "cell_type": "code",
      "execution_count": 35,
      "metadata": {
        "colab": {
          "base_uri": "https://localhost:8080/"
        },
        "id": "d2-mUSCOTLiK",
        "outputId": "c9a40004-ec8b-4257-faa0-48dba258c0de"
      },
      "outputs": [
        {
          "name": "stdout",
          "output_type": "stream",
          "text": [
            "Values of Decision Variables : \n",
            "a[ 0 ]: 0.0\n",
            "a[ 1 ]: 0.18612441\n",
            "a[ 2 ]: 0.0\n",
            "a[ 3 ]: 0.0\n",
            "a[ 4 ]: 0.0\n",
            "b[ 0 ]: 0.046448575\n",
            "b[ 1 ]: 0.0\n",
            "b[ 2 ]: 0.17131802\n",
            "b[ 3 ]: 0.0\n",
            "b[ 4 ]: 0.14406472\n"
          ]
        }
      ],
      "source": [
        "print('Values of Decision Variables : ')\n",
        "for j in column_ind_a:\n",
        "    print('a[',j,']:', model_2.a[j].value)\n",
        "for j in column_ind_b:\n",
        "    print('b[',j,']:', model_2.b[j].value)"
      ]
    },
    {
      "cell_type": "code",
      "execution_count": 36,
      "metadata": {
        "colab": {
          "base_uri": "https://localhost:8080/"
        },
        "id": "UFH2xvvALSU7",
        "outputId": "ffda96ae-9d57-49e1-e78e-36aca96fb213"
      },
      "outputs": [
        {
          "name": "stdout",
          "output_type": "stream",
          "text": [
            "Constraints : \n",
            "constraints : Size=6\n",
            "    Key : Lower : Body               : Upper\n",
            "      1 :   1.0 :  0.999999625000001 :  None\n",
            "      2 :   1.0 : 0.9999997599999997 :  None\n",
            "      3 :   1.0 :         1.45833777 :  None\n",
            "      4 :   1.0 : 1.0000002549999998 :  None\n",
            "      5 :   1.0 :        1.000000215 :  None\n",
            "      6 :   1.0 :  5.254977699999998 :  None\n"
          ]
        }
      ],
      "source": [
        "print('Constraints : ')\n",
        "model_2.constraints.display()"
      ]
    },
    {
      "cell_type": "markdown",
      "metadata": {},
      "source": [
        "Constraints 1,2,4,5 are active while the constraints 3,6 are inactive."
      ]
    },
    {
      "cell_type": "markdown",
      "metadata": {
        "id": "hd3FBV80Sprq"
      },
      "source": [
        "Ex-1.11:"
      ]
    },
    {
      "cell_type": "code",
      "execution_count": 38,
      "metadata": {
        "id": "QtJ11M81XVMH"
      },
      "outputs": [],
      "source": [
        "model_2.x = Var(column_ind_a)"
      ]
    },
    {
      "cell_type": "code",
      "execution_count": 39,
      "metadata": {
        "id": "-t-TNMZnXmLF"
      },
      "outputs": [],
      "source": [
        " for i in column_ind_b:\n",
        "    model_2.x[i].value=model_2.a[i].value-model_2.b[i].value"
      ]
    },
    {
      "cell_type": "code",
      "execution_count": 40,
      "metadata": {
        "colab": {
          "base_uri": "https://localhost:8080/"
        },
        "id": "m80mTEo_Lqmp",
        "outputId": "376034a6-d703-47ee-b903-9fa67fd7597d"
      },
      "outputs": [
        {
          "name": "stdout",
          "output_type": "stream",
          "text": [
            "Original Decision Variables: \n",
            "x[ 0 ]: -0.046448575\n",
            "x[ 1 ]: 0.18612441\n",
            "x[ 2 ]: -0.17131802\n",
            "x[ 3 ]: 0.0\n",
            "x[ 4 ]: -0.14406472\n"
          ]
        }
      ],
      "source": [
        "print('Original Decision Variables: ')\n",
        "for i in column_ind_a:\n",
        "     print('x[',i,']:', model_2.x[i].value)"
      ]
    },
    {
      "cell_type": "markdown",
      "metadata": {
        "id": "_FJxQcfziarq"
      },
      "source": [
        "Ex-1.12:\n",
        "\n",
        "The values of $x_i's$ are obtained same from both the approaches since both the models are transformations of same model. "
      ]
    },
    {
      "cell_type": "code",
      "execution_count": 41,
      "metadata": {
        "colab": {
          "base_uri": "https://localhost:8080/"
        },
        "id": "6G3L1dusTYvY",
        "outputId": "0246e16c-6426-4860-d21c-fa54a0609fcf"
      },
      "outputs": [
        {
          "name": "stdout",
          "output_type": "stream",
          "text": [
            "Original Decision Variables x(i) for OP1:\n",
            "x[ 0 ]: -0.046448575\n",
            "x[ 1 ]: 0.18612441\n",
            "x[ 2 ]: -0.17131802\n",
            "x[ 3 ]: 0.0\n",
            "x[ 4 ]: -0.14406472\n",
            "Original Decision Variables x(i) for OP2:\n",
            "x[ 0 ]: -0.046448575\n",
            "x[ 1 ]: 0.18612441\n",
            "x[ 2 ]: -0.17131802\n",
            "x[ 3 ]: 0.0\n",
            "x[ 4 ]: -0.14406472\n"
          ]
        }
      ],
      "source": [
        "print('Original Decision Variables x(i) for OP1:')\n",
        "for j in column_ind_x:\n",
        "    print('x[',j,']:', model.x[j].value)\n",
        "print('Original Decision Variables x(i) for OP2:')\n",
        "for i in column_ind_a:\n",
        "    print('x[',i,']:', model_2.x[i].value)"
      ]
    }
  ],
  "metadata": {
    "colab": {
      "collapsed_sections": [],
      "name": "21i190006_Lab06_Ex1.ipynb",
      "provenance": []
    },
    "kernelspec": {
      "display_name": "Python 3",
      "name": "python3"
    },
    "language_info": {
      "name": "python"
    }
  },
  "nbformat": 4,
  "nbformat_minor": 0
}
