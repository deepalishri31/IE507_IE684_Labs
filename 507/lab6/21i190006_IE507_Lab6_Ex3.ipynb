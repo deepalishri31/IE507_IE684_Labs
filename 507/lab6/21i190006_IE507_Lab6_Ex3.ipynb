{
  "nbformat": 4,
  "nbformat_minor": 0,
  "metadata": {
    "colab": {
      "name": "21i190006_IE507_Lab6_Ex3.ipynb",
      "provenance": []
    },
    "kernelspec": {
      "name": "python3",
      "display_name": "Python 3"
    },
    "language_info": {
      "name": "python"
    }
  },
  "cells": [
    {
      "cell_type": "markdown",
      "metadata": {
        "id": "PdzBGmb9QGuf"
      },
      "source": [
        "Exercise-3"
      ]
    },
    {
      "cell_type": "markdown",
      "metadata": {
        "id": "0LFyYfnOQIzJ"
      },
      "source": [
        "Que-3.1\n",
        "The general optimization problem is:\n",
        "$$\\text{min} \\ \\  \\sum_{i=1}^{6} |P_i-\\tilde{P_i}| \\\\\n",
        "\\text{s.t.  } \n",
        "\\tilde{P_i}=b_0+b_1L_i+b_2E_i \\ \\ \\forall i \\in \\{1,2,...,6\\}  \\\\\n",
        "b_0 \\geq 0$$ \\\\\n",
        "\n",
        "No, above problem is not linear because objective function consist a modulus function which is a piecewise function."
      ]
    },
    {
      "cell_type": "markdown",
      "metadata": {
        "id": "IQE2oS9gQY_m"
      },
      "source": [
        "Que-3.2\n",
        "\n",
        "**Approach-1**\n",
        "\n",
        "let $|P_i-\\tilde{P_i}|=u_i$\n",
        "\n",
        "then the optimization problem can be written as:\n",
        "$$\\text{min } \\sum_{i=1}^6 u_i\\\\\\text{s.t. }\n",
        " \\tilde{P_i}=b_0+b_1L_i+b_2E_i \\ \\ \\forall i \\in \\{1,2,...,6\\}  \\\\\n",
        " u_i\\geq P_i-\\tilde{P_i}\\ \\ \\forall i \\in \\{1,2,...,6\\}  \\\\\n",
        " u_i\\geq \\tilde{P_i}-P_i\\ \\ \\forall i \\in \\{1,2,...,6\\}  \\\\\n",
        " b_0 \\geq 0\\\\\n",
        " u_i\\geq 0 \\ \\ \\forall i \\in \\{1,2,...,6\\}\n",
        "$$\n",
        "After putting the value of $\\tilde{P_i}$ this problem can be written as:\n",
        "$$\\text{min } \\sum_{i=1}^6 u_i\\\\\\text{s.t. }\n",
        " u_i+b_0+b_1L_i+b_2E_i \\geq P_i\\ \\ \\forall i \\in \\{1,2,...,6\\}  \\\\\n",
        " u_i-b_0-b_1L_i-b_2E_i \\geq -P_i\\ \\ \\forall i \\in \\{1,2,...,6\\}  \\\\\n",
        " b_0 \\geq 0\\\\\n",
        " u_i\\geq 0 \\ \\ \\forall i \\in \\{1,2,...,6\\}\n",
        "$$ "
      ]
    },
    {
      "cell_type": "markdown",
      "metadata": {
        "id": "7uYHmB6iRBEw"
      },
      "source": [
        "**Approach-2**\n",
        "$Let \\ \\ P_i-\\tilde{P_i}=a_i-c_i, \\ \\ and \\ \\ |P_i-\\tilde{P_i}|=a_i+c_i ,a_i \\geq 0, c_i \\geq 0 \\ \\ \\ \\forall i=1,2,...6 \\ $\n",
        "Therefore, the  optimization  problem  will be as follows: \n",
        "$$\\text{Min  } \\sum_{i=1}^{6} (a_i+c_i) \\\\\n",
        "\\text{s.t.} \\\\\n",
        "a_i-c_i+b_0+b_1L_i+b_2E_i=P_i \\ \\ \\forall i \\\\\n",
        "a_i \\geq 0, c_i \\geq 0 \\ \\ \\forall i\\\\\n",
        "$$"
      ]
    },
    {
      "cell_type": "code",
      "metadata": {
        "colab": {
          "base_uri": "https://localhost:8080/"
        },
        "id": "08lhOfUoQEmk",
        "outputId": "20f56cd2-1d64-4853-eb0f-6412808b96ac"
      },
      "source": [
        "!pip install -q pyomo"
      ],
      "execution_count": 1,
      "outputs": [
        {
          "output_type": "stream",
          "name": "stdout",
          "text": [
            "\u001b[K     |████████████████████████████████| 9.1 MB 7.7 MB/s \n",
            "\u001b[K     |████████████████████████████████| 49 kB 5.7 MB/s \n",
            "\u001b[?25h"
          ]
        }
      ]
    },
    {
      "cell_type": "code",
      "metadata": {
        "id": "6bFaREQARlzo"
      },
      "source": [
        "from pyomo.environ import *"
      ],
      "execution_count": 2,
      "outputs": []
    },
    {
      "cell_type": "code",
      "metadata": {
        "id": "wCl5_zXdRoM8"
      },
      "source": [
        "import numpy as np"
      ],
      "execution_count": 3,
      "outputs": []
    },
    {
      "cell_type": "code",
      "metadata": {
        "id": "SdTIYSHZRqFp"
      },
      "source": [
        "import pandas as pd"
      ],
      "execution_count": 4,
      "outputs": []
    },
    {
      "cell_type": "markdown",
      "metadata": {
        "id": "sEkjj8hERxPD"
      },
      "source": [
        "solving using approach 1:-"
      ]
    },
    {
      "cell_type": "code",
      "metadata": {
        "id": "DwPm0D0hRsQ7"
      },
      "source": [
        "data_csv_file=pd.read_csv('lab6_ex3.csv')"
      ],
      "execution_count": 5,
      "outputs": []
    },
    {
      "cell_type": "code",
      "metadata": {
        "colab": {
          "base_uri": "https://localhost:8080/"
        },
        "id": "PomxRaZ-R5Iw",
        "outputId": "1471d01a-13cd-4c4e-fe0a-e282b9587893"
      },
      "source": [
        "data_csv_file.columns"
      ],
      "execution_count": 6,
      "outputs": [
        {
          "output_type": "execute_result",
          "data": {
            "text/plain": [
              "Index(['warehouse', 'seling price', 'lot size', 'elevation'], dtype='object')"
            ]
          },
          "metadata": {},
          "execution_count": 6
        }
      ]
    },
    {
      "cell_type": "code",
      "metadata": {
        "colab": {
          "base_uri": "https://localhost:8080/"
        },
        "id": "yMk0oobySB84",
        "outputId": "08bd33ef-6bbb-43a5-8196-64ada08c2514"
      },
      "source": [
        "data_csv_file['seling price']"
      ],
      "execution_count": 7,
      "outputs": [
        {
          "output_type": "execute_result",
          "data": {
            "text/plain": [
              "0    175000\n",
              "1    150000\n",
              "2    125000\n",
              "3     90000\n",
              "4     80000\n",
              "5    120000\n",
              "Name: seling price, dtype: int64"
            ]
          },
          "metadata": {},
          "execution_count": 7
        }
      ]
    },
    {
      "cell_type": "code",
      "metadata": {
        "id": "lj76PN6YSJFA"
      },
      "source": [
        "model=ConcreteModel()"
      ],
      "execution_count": 8,
      "outputs": []
    },
    {
      "cell_type": "code",
      "metadata": {
        "colab": {
          "base_uri": "https://localhost:8080/"
        },
        "id": "AMY2SB92SPDp",
        "outputId": "3532e920-0c5a-44f0-a5e1-bb4de7eacb16"
      },
      "source": [
        "data_csv_file.index"
      ],
      "execution_count": 9,
      "outputs": [
        {
          "output_type": "execute_result",
          "data": {
            "text/plain": [
              "RangeIndex(start=0, stop=6, step=1)"
            ]
          },
          "metadata": {},
          "execution_count": 9
        }
      ]
    },
    {
      "cell_type": "code",
      "metadata": {
        "id": "vyYzWq_kSXIU"
      },
      "source": [
        "N=len(data_csv_file.index)"
      ],
      "execution_count": 10,
      "outputs": []
    },
    {
      "cell_type": "code",
      "metadata": {
        "id": "3_HYXVGSSb5l"
      },
      "source": [
        "col_indices=np.arange(N)\n",
        "b_indices=np.arange(3)"
      ],
      "execution_count": 11,
      "outputs": []
    },
    {
      "cell_type": "code",
      "metadata": {
        "id": "aBKtZ1AfSgTD"
      },
      "source": [
        "model.u=Var(col_indices,domain=NonNegativeReals)\n",
        "model.b=Var(b_indices)"
      ],
      "execution_count": 12,
      "outputs": []
    },
    {
      "cell_type": "code",
      "metadata": {
        "id": "_WYGNL_QSmtW"
      },
      "source": [
        "model.constraints=ConstraintList()"
      ],
      "execution_count": 13,
      "outputs": []
    },
    {
      "cell_type": "code",
      "metadata": {
        "id": "KI4FNaJjSqj8"
      },
      "source": [
        "for i in col_indices:\n",
        "  model.constraints.add(model.u[i]+model.b[0]+model.b[1]*data_csv_file['lot size'][i]+model.b[2]*data_csv_file['elevation'][i] >= data_csv_file['seling price'][i])"
      ],
      "execution_count": 14,
      "outputs": []
    },
    {
      "cell_type": "code",
      "metadata": {
        "id": "8Uv8ZmctS1pl"
      },
      "source": [
        "for i in col_indices:\n",
        "  model.constraints.add(model.u[i]-model.b[0]-model.b[1]*data_csv_file['lot size'][i]-model.b[2]*data_csv_file['elevation'][i] >= -data_csv_file['seling price'][i])"
      ],
      "execution_count": 15,
      "outputs": []
    },
    {
      "cell_type": "code",
      "metadata": {
        "id": "ZiC9ihnzTBOJ"
      },
      "source": [
        "model.b[0].setlb(0)"
      ],
      "execution_count": 16,
      "outputs": []
    },
    {
      "cell_type": "code",
      "metadata": {
        "id": "gFa17vlvSkez"
      },
      "source": [
        "model.objective=Objective(expr=summation(model.u),sense=minimize)"
      ],
      "execution_count": 17,
      "outputs": []
    },
    {
      "cell_type": "code",
      "metadata": {
        "colab": {
          "base_uri": "https://localhost:8080/"
        },
        "id": "G4UuFWRITDbh",
        "outputId": "87507486-9a52-4461-a366-e439b2ea8454"
      },
      "source": [
        "model.pprint()"
      ],
      "execution_count": 18,
      "outputs": [
        {
          "output_type": "stream",
          "name": "stdout",
          "text": [
            "3 Set Declarations\n",
            "    b_index : Size=1, Index=None, Ordered=False\n",
            "        Key  : Dimen : Domain : Size : Members\n",
            "        None :     1 :    Any :    3 : {0, 1, 2}\n",
            "    constraints_index : Size=1, Index=None, Ordered=Insertion\n",
            "        Key  : Dimen : Domain : Size : Members\n",
            "        None :     1 :    Any :   12 : {1, 2, 3, 4, 5, 6, 7, 8, 9, 10, 11, 12}\n",
            "    u_index : Size=1, Index=None, Ordered=False\n",
            "        Key  : Dimen : Domain : Size : Members\n",
            "        None :     1 :    Any :    6 : {0, 1, 2, 3, 4, 5}\n",
            "\n",
            "2 Var Declarations\n",
            "    b : Size=3, Index=b_index\n",
            "        Key : Lower : Value : Upper : Fixed : Stale : Domain\n",
            "          0 :     0 :  None :  None : False :  True :  Reals\n",
            "          1 :  None :  None :  None : False :  True :  Reals\n",
            "          2 :  None :  None :  None : False :  True :  Reals\n",
            "    u : Size=6, Index=u_index\n",
            "        Key : Lower : Value : Upper : Fixed : Stale : Domain\n",
            "          0 :     0 :  None :  None : False :  True : NonNegativeReals\n",
            "          1 :     0 :  None :  None : False :  True : NonNegativeReals\n",
            "          2 :     0 :  None :  None : False :  True : NonNegativeReals\n",
            "          3 :     0 :  None :  None : False :  True : NonNegativeReals\n",
            "          4 :     0 :  None :  None : False :  True : NonNegativeReals\n",
            "          5 :     0 :  None :  None : False :  True : NonNegativeReals\n",
            "\n",
            "1 Objective Declarations\n",
            "    objective : Size=1, Index=None, Active=True\n",
            "        Key  : Active : Sense    : Expression\n",
            "        None :   True : minimize : u[0] + u[1] + u[2] + u[3] + u[4] + u[5]\n",
            "\n",
            "1 Constraint Declarations\n",
            "    constraints : Size=12, Index=constraints_index, Active=True\n",
            "        Key : Lower     : Body                               : Upper : Active\n",
            "          1 :  175000.0 : u[0] + b[0] + 1800*b[1] + 250*b[2] :  +Inf :   True\n",
            "          2 :  150000.0 : u[1] + b[0] + 2800*b[1] + 400*b[2] :  +Inf :   True\n",
            "          3 :  125000.0 : u[2] + b[0] + 3500*b[1] + 450*b[2] :  +Inf :   True\n",
            "          4 :   90000.0 :  u[3] + b[0] + 800*b[1] + 100*b[2] :  +Inf :   True\n",
            "          5 :   80000.0 :  u[4] + b[0] + 700*b[1] + 200*b[2] :  +Inf :   True\n",
            "          6 :  120000.0 :   u[5] + b[0] + 500*b[1] + 50*b[2] :  +Inf :   True\n",
            "          7 : -175000.0 : u[0] - b[0] - 1800*b[1] - 250*b[2] :  +Inf :   True\n",
            "          8 : -150000.0 : u[1] - b[0] - 2800*b[1] - 400*b[2] :  +Inf :   True\n",
            "          9 : -125000.0 : u[2] - b[0] - 3500*b[1] - 450*b[2] :  +Inf :   True\n",
            "         10 :  -90000.0 :  u[3] - b[0] - 800*b[1] - 100*b[2] :  +Inf :   True\n",
            "         11 :  -80000.0 :  u[4] - b[0] - 700*b[1] - 200*b[2] :  +Inf :   True\n",
            "         12 : -120000.0 :   u[5] - b[0] - 500*b[1] - 50*b[2] :  +Inf :   True\n",
            "\n",
            "7 Declarations: u_index u b_index b constraints_index constraints objective\n"
          ]
        }
      ]
    },
    {
      "cell_type": "code",
      "metadata": {
        "colab": {
          "base_uri": "https://localhost:8080/"
        },
        "id": "nNs9ItzXTE8Z",
        "outputId": "407a24de-5dc7-4153-f774-19c6d4ea1229"
      },
      "source": [
        "!apt-get install -y -qq coinor-cbc"
      ],
      "execution_count": 19,
      "outputs": [
        {
          "output_type": "stream",
          "name": "stdout",
          "text": [
            "Selecting previously unselected package coinor-libcoinutils3v5.\n",
            "(Reading database ... 155047 files and directories currently installed.)\n",
            "Preparing to unpack .../0-coinor-libcoinutils3v5_2.10.14+repack1-1_amd64.deb ...\n",
            "Unpacking coinor-libcoinutils3v5 (2.10.14+repack1-1) ...\n",
            "Selecting previously unselected package coinor-libosi1v5.\n",
            "Preparing to unpack .../1-coinor-libosi1v5_0.107.9+repack1-1_amd64.deb ...\n",
            "Unpacking coinor-libosi1v5 (0.107.9+repack1-1) ...\n",
            "Selecting previously unselected package coinor-libclp1.\n",
            "Preparing to unpack .../2-coinor-libclp1_1.16.11+repack1-1_amd64.deb ...\n",
            "Unpacking coinor-libclp1 (1.16.11+repack1-1) ...\n",
            "Selecting previously unselected package coinor-libcgl1.\n",
            "Preparing to unpack .../3-coinor-libcgl1_0.59.10+repack1-1_amd64.deb ...\n",
            "Unpacking coinor-libcgl1 (0.59.10+repack1-1) ...\n",
            "Selecting previously unselected package coinor-libcbc3.\n",
            "Preparing to unpack .../4-coinor-libcbc3_2.9.9+repack1-1_amd64.deb ...\n",
            "Unpacking coinor-libcbc3 (2.9.9+repack1-1) ...\n",
            "Selecting previously unselected package coinor-cbc.\n",
            "Preparing to unpack .../5-coinor-cbc_2.9.9+repack1-1_amd64.deb ...\n",
            "Unpacking coinor-cbc (2.9.9+repack1-1) ...\n",
            "Setting up coinor-libcoinutils3v5 (2.10.14+repack1-1) ...\n",
            "Setting up coinor-libosi1v5 (0.107.9+repack1-1) ...\n",
            "Setting up coinor-libclp1 (1.16.11+repack1-1) ...\n",
            "Setting up coinor-libcgl1 (0.59.10+repack1-1) ...\n",
            "Setting up coinor-libcbc3 (2.9.9+repack1-1) ...\n",
            "Setting up coinor-cbc (2.9.9+repack1-1) ...\n",
            "Processing triggers for man-db (2.8.3-2ubuntu0.1) ...\n",
            "Processing triggers for libc-bin (2.27-3ubuntu1.3) ...\n",
            "/sbin/ldconfig.real: /usr/local/lib/python3.7/dist-packages/ideep4py/lib/libmkldnn.so.0 is not a symbolic link\n",
            "\n"
          ]
        }
      ]
    },
    {
      "cell_type": "code",
      "metadata": {
        "id": "PJXtDrBvTHlb"
      },
      "source": [
        "opt_cbc=SolverFactory('cbc')"
      ],
      "execution_count": 20,
      "outputs": []
    },
    {
      "cell_type": "code",
      "metadata": {
        "id": "udk_8_75TK9h"
      },
      "source": [
        "result=opt_cbc.solve(model)"
      ],
      "execution_count": 21,
      "outputs": []
    },
    {
      "cell_type": "code",
      "metadata": {
        "colab": {
          "base_uri": "https://localhost:8080/"
        },
        "id": "yoTmkIPnTNxt",
        "outputId": "2be168b3-44de-4a84-9fe8-beb6acb8f084"
      },
      "source": [
        "print('Solver status:', result.solver.status)\n",
        "print('Solver termination condition:',result.solver.termination_condition)"
      ],
      "execution_count": 22,
      "outputs": [
        {
          "output_type": "stream",
          "name": "stdout",
          "text": [
            "Solver status: ok\n",
            "Solver termination condition: optimal\n"
          ]
        }
      ]
    },
    {
      "cell_type": "code",
      "metadata": {
        "colab": {
          "base_uri": "https://localhost:8080/"
        },
        "id": "P04ejkivTTkl",
        "outputId": "1c29d8c3-4537-4502-c786-e67b41a53d8d"
      },
      "source": [
        "print('Optimal sum of residuals = ', model.objective())\n",
        "\n",
        "print('New Decision Variables')\n",
        "for i in col_indices:\n",
        "  print('u[',i+1,']=', model.u[i].value)\n",
        "\n",
        "print('Original Decision Variables')\n",
        "for i in b_indices:\n",
        "  print('b[',i,']=', model.b[i].value)\n",
        "for i in col_indices:\n",
        "  print(u'P\\u0304[',i,']=', model.b[0].value+model.b[1].value*data_csv_file['lot size'][i] +model.b[2].value*data_csv_file['elevation'][i] )\n",
        "\n",
        "print('Constraints')\n",
        "model.constraints.display()"
      ],
      "execution_count": 23,
      "outputs": [
        {
          "output_type": "stream",
          "name": "stdout",
          "text": [
            "Optimal sum of residuals =  125454.545\n",
            "New Decision Variables\n",
            "u[ 1 ]= 38818.182\n",
            "u[ 2 ]= 0.0\n",
            "u[ 3 ]= 54272.727\n",
            "u[ 4 ]= 32363.636\n",
            "u[ 5 ]= 0.0\n",
            "u[ 6 ]= 0.0\n",
            "Original Decision Variables\n",
            "b[ 0 ]= 104181.82\n",
            "b[ 1 ]= 67.272727\n",
            "b[ 2 ]= -356.36364\n",
            "P̄[ 0 ]= 136181.81860000006\n",
            "P̄[ 1 ]= 149999.9996\n",
            "P̄[ 2 ]= 179272.72650000005\n",
            "P̄[ 3 ]= 122363.63760000002\n",
            "P̄[ 4 ]= 80000.00090000003\n",
            "P̄[ 5 ]= 120000.00150000001\n",
            "Constraints\n",
            "constraints : Size=12\n",
            "    Key : Lower     : Body                : Upper\n",
            "      1 :  175000.0 :  175000.00060000003 :  None\n",
            "      2 :  150000.0 :         149999.9996 :  None\n",
            "      3 :  125000.0 :  233545.45350000006 :  None\n",
            "      4 :   90000.0 :  154727.27360000001 :  None\n",
            "      5 :   80000.0 :   80000.00090000003 :  None\n",
            "      6 :  120000.0 :  120000.00150000001 :  None\n",
            "      7 : -175000.0 :  -97363.63660000001 :  None\n",
            "      8 : -150000.0 :        -149999.9996 :  None\n",
            "      9 : -125000.0 : -124999.99950000003 :  None\n",
            "     10 :  -90000.0 :  -90000.00160000002 :  None\n",
            "     11 :  -80000.0 :  -80000.00090000003 :  None\n",
            "     12 : -120000.0 : -120000.00150000001 :  None\n"
          ]
        }
      ]
    },
    {
      "cell_type": "markdown",
      "metadata": {
        "id": "gRY8Pm9eUNqf"
      },
      "source": [
        "Solving using approach 2"
      ]
    },
    {
      "cell_type": "code",
      "metadata": {
        "id": "bSBJiY6nTi6-"
      },
      "source": [
        "model2 = ConcreteModel()"
      ],
      "execution_count": 24,
      "outputs": []
    },
    {
      "cell_type": "code",
      "metadata": {
        "id": "0wsDWoQVUVKq"
      },
      "source": [
        "model2.a = Var(col_indices)\n",
        "model2.c = Var(col_indices)\n",
        "model2.b = Var(b_indices)"
      ],
      "execution_count": 25,
      "outputs": []
    },
    {
      "cell_type": "code",
      "metadata": {
        "id": "CKOK546WUYod"
      },
      "source": [
        "model2.constraints = ConstraintList()"
      ],
      "execution_count": 26,
      "outputs": []
    },
    {
      "cell_type": "code",
      "metadata": {
        "id": "q6AuTmouUvrP"
      },
      "source": [
        "for i in col_indices:\n",
        "  model2.constraints.add(model2.a[i]-model2.c[i]+model2.b[0]+model2.b[1]*data_csv_file['lot size'][i]+model2.b[2]*data_csv_file['elevation'][i] == data_csv_file['seling price'][i])"
      ],
      "execution_count": 27,
      "outputs": []
    },
    {
      "cell_type": "code",
      "metadata": {
        "id": "0oNN-mJvVBUE"
      },
      "source": [
        "for i in col_indices:\n",
        "  model2.a[i].setlb(0)\n",
        "  model2.c[i].setlb(0)"
      ],
      "execution_count": 28,
      "outputs": []
    },
    {
      "cell_type": "code",
      "metadata": {
        "id": "5X_oExqsVHEk"
      },
      "source": [
        "model2.objective = Objective(expr=summation(model2.a)+summation(model2.c),sense=minimize)"
      ],
      "execution_count": 29,
      "outputs": []
    },
    {
      "cell_type": "code",
      "metadata": {
        "colab": {
          "base_uri": "https://localhost:8080/"
        },
        "id": "ItObFJ1wVTE0",
        "outputId": "3bd35eb9-892c-421b-a7de-b8d6f526d619"
      },
      "source": [
        "model2.pprint()"
      ],
      "execution_count": 30,
      "outputs": [
        {
          "output_type": "stream",
          "name": "stdout",
          "text": [
            "4 Set Declarations\n",
            "    a_index : Size=1, Index=None, Ordered=False\n",
            "        Key  : Dimen : Domain : Size : Members\n",
            "        None :     1 :    Any :    6 : {0, 1, 2, 3, 4, 5}\n",
            "    b_index : Size=1, Index=None, Ordered=False\n",
            "        Key  : Dimen : Domain : Size : Members\n",
            "        None :     1 :    Any :    3 : {0, 1, 2}\n",
            "    c_index : Size=1, Index=None, Ordered=False\n",
            "        Key  : Dimen : Domain : Size : Members\n",
            "        None :     1 :    Any :    6 : {0, 1, 2, 3, 4, 5}\n",
            "    constraints_index : Size=1, Index=None, Ordered=Insertion\n",
            "        Key  : Dimen : Domain : Size : Members\n",
            "        None :     1 :    Any :    6 : {1, 2, 3, 4, 5, 6}\n",
            "\n",
            "3 Var Declarations\n",
            "    a : Size=6, Index=a_index\n",
            "        Key : Lower : Value : Upper : Fixed : Stale : Domain\n",
            "          0 :     0 :  None :  None : False :  True :  Reals\n",
            "          1 :     0 :  None :  None : False :  True :  Reals\n",
            "          2 :     0 :  None :  None : False :  True :  Reals\n",
            "          3 :     0 :  None :  None : False :  True :  Reals\n",
            "          4 :     0 :  None :  None : False :  True :  Reals\n",
            "          5 :     0 :  None :  None : False :  True :  Reals\n",
            "    b : Size=3, Index=b_index\n",
            "        Key : Lower : Value : Upper : Fixed : Stale : Domain\n",
            "          0 :  None :  None :  None : False :  True :  Reals\n",
            "          1 :  None :  None :  None : False :  True :  Reals\n",
            "          2 :  None :  None :  None : False :  True :  Reals\n",
            "    c : Size=6, Index=c_index\n",
            "        Key : Lower : Value : Upper : Fixed : Stale : Domain\n",
            "          0 :     0 :  None :  None : False :  True :  Reals\n",
            "          1 :     0 :  None :  None : False :  True :  Reals\n",
            "          2 :     0 :  None :  None : False :  True :  Reals\n",
            "          3 :     0 :  None :  None : False :  True :  Reals\n",
            "          4 :     0 :  None :  None : False :  True :  Reals\n",
            "          5 :     0 :  None :  None : False :  True :  Reals\n",
            "\n",
            "1 Objective Declarations\n",
            "    objective : Size=1, Index=None, Active=True\n",
            "        Key  : Active : Sense    : Expression\n",
            "        None :   True : minimize : a[0] + a[1] + a[2] + a[3] + a[4] + a[5] + (c[0] + c[1] + c[2] + c[3] + c[4] + c[5])\n",
            "\n",
            "1 Constraint Declarations\n",
            "    constraints : Size=6, Index=constraints_index, Active=True\n",
            "        Key : Lower    : Body                                      : Upper    : Active\n",
            "          1 : 175000.0 : a[0] - c[0] + b[0] + 1800*b[1] + 250*b[2] : 175000.0 :   True\n",
            "          2 : 150000.0 : a[1] - c[1] + b[0] + 2800*b[1] + 400*b[2] : 150000.0 :   True\n",
            "          3 : 125000.0 : a[2] - c[2] + b[0] + 3500*b[1] + 450*b[2] : 125000.0 :   True\n",
            "          4 :  90000.0 :  a[3] - c[3] + b[0] + 800*b[1] + 100*b[2] :  90000.0 :   True\n",
            "          5 :  80000.0 :  a[4] - c[4] + b[0] + 700*b[1] + 200*b[2] :  80000.0 :   True\n",
            "          6 : 120000.0 :   a[5] - c[5] + b[0] + 500*b[1] + 50*b[2] : 120000.0 :   True\n",
            "\n",
            "9 Declarations: a_index a c_index c b_index b constraints_index constraints objective\n"
          ]
        }
      ]
    },
    {
      "cell_type": "code",
      "metadata": {
        "id": "8t6wtwEBVV_d"
      },
      "source": [
        "result=opt_cbc.solve(model2)"
      ],
      "execution_count": 31,
      "outputs": []
    },
    {
      "cell_type": "code",
      "metadata": {
        "colab": {
          "base_uri": "https://localhost:8080/"
        },
        "id": "9nlLvHCLVfQb",
        "outputId": "9f219685-7939-489d-b674-8d04a8b77446"
      },
      "source": [
        "print('Solver status:', result.solver.status)\n",
        "print('Solver termination condition:',result.solver.termination_condition)"
      ],
      "execution_count": 32,
      "outputs": [
        {
          "output_type": "stream",
          "name": "stdout",
          "text": [
            "Solver status: ok\n",
            "Solver termination condition: optimal\n"
          ]
        }
      ]
    },
    {
      "cell_type": "code",
      "metadata": {
        "colab": {
          "base_uri": "https://localhost:8080/"
        },
        "id": "kH3Kh8i9Vi2s",
        "outputId": "851cf658-0597-476d-d0a0-5c7c3d9cfc95"
      },
      "source": [
        "print('\\nOptimal sum of residuals = ', model2.objective())\n",
        "\n",
        "print('\\nNew Decision Variables:')\n",
        "for i in col_indices:\n",
        "  print('a[',i+1,']=', model2.a[i].value)\n",
        "for i in col_indices:\n",
        "  print('c[',i+1,']=', model2.c[i].value)\n",
        "\n",
        "print('\\nOriginal Decision Variables:')\n",
        "for i in b_indices:\n",
        "  print('b[',i,']=', model2.b[i].value)\n",
        "for i in col_indices:\n",
        "  print(u'P\\u0303[',i,']=', model2.b[0].value+model2.b[1].value*data_csv_file['lot size'][i] +model2.b[2].value*data_csv_file['elevation'][i] )\n",
        "\n",
        "print('\\nConstraints:')\n",
        "model2.constraints.display()"
      ],
      "execution_count": 33,
      "outputs": [
        {
          "output_type": "stream",
          "name": "stdout",
          "text": [
            "\n",
            "Optimal sum of residuals =  125454.545\n",
            "\n",
            "New Decision Variables:\n",
            "a[ 1 ]= 38818.182\n",
            "a[ 2 ]= 0.0\n",
            "a[ 3 ]= 0.0\n",
            "a[ 4 ]= 0.0\n",
            "a[ 5 ]= 0.0\n",
            "a[ 6 ]= 0.0\n",
            "c[ 1 ]= 0.0\n",
            "c[ 2 ]= 0.0\n",
            "c[ 3 ]= 54272.727\n",
            "c[ 4 ]= 32363.636\n",
            "c[ 5 ]= 0.0\n",
            "c[ 6 ]= 0.0\n",
            "\n",
            "Original Decision Variables:\n",
            "b[ 0 ]= 104181.82\n",
            "b[ 1 ]= 67.272727\n",
            "b[ 2 ]= -356.36364\n",
            "P̃[ 0 ]= 136181.81860000006\n",
            "P̃[ 1 ]= 149999.9996\n",
            "P̃[ 2 ]= 179272.72650000005\n",
            "P̃[ 3 ]= 122363.63760000002\n",
            "P̃[ 4 ]= 80000.00090000003\n",
            "P̃[ 5 ]= 120000.00150000001\n",
            "\n",
            "Constraints:\n",
            "constraints : Size=6\n",
            "    Key : Lower    : Body               : Upper\n",
            "      1 : 175000.0 : 175000.00060000003 : 175000.0\n",
            "      2 : 150000.0 :        149999.9996 : 150000.0\n",
            "      3 : 125000.0 : 124999.99950000003 : 125000.0\n",
            "      4 :  90000.0 :  90000.00160000002 :  90000.0\n",
            "      5 :  80000.0 :  80000.00090000003 :  80000.0\n",
            "      6 : 120000.0 : 120000.00150000001 : 120000.0\n"
          ]
        }
      ]
    },
    {
      "cell_type": "markdown",
      "metadata": {
        "id": "RGL2zrugHsPx"
      },
      "source": [
        "In both approaches we get same optimal solution."
      ]
    },
    {
      "cell_type": "code",
      "metadata": {
        "id": "cyExmtuyWKNl"
      },
      "source": [
        ""
      ],
      "execution_count": 33,
      "outputs": []
    }
  ]
}