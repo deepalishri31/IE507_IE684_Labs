{
  "nbformat": 4,
  "nbformat_minor": 0,
  "metadata": {
    "colab": {
      "name": "21i190006_IE507_Lab6_Ex2.ipynb",
      "provenance": [],
      "collapsed_sections": []
    },
    "kernelspec": {
      "name": "python3",
      "display_name": "Python 3"
    },
    "language_info": {
      "name": "python"
    }
  },
  "cells": [
    {
      "cell_type": "markdown",
      "metadata": {
        "id": "lC3xV13oKoKI"
      },
      "source": [
        "Exercise-2"
      ]
    },
    {
      "cell_type": "markdown",
      "metadata": {
        "id": "HV0SLReAM7Gd"
      },
      "source": [
        "Que-2.1"
      ]
    },
    {
      "cell_type": "markdown",
      "metadata": {
        "id": "6Fe8GQf8LNEu"
      },
      "source": [
        "Let $x_1, x_2, x_3, x_4, x_5$ denote the number of different types of media slots to be used for advertisement, where $x_1$ corresponds to website, $x_2$ corresponds to TV, $x_3$ corresponds to daily newspaper,$x_4$ corresponds to weekly magazine and $x_5$ corresponds to monthly magazine and hence, they are nonnegetive integers. \n",
        "Let z_1 denote the total number of media slots used for website and TV and let $z_2$ denote the total number of media slots used for other mediums. Therefore,\n",
        "$z_1=x_1+x_2\\\\ z_2=x_3+x_4+x_5$\n",
        "\n",
        "the new constraint to be added in the problem is:$|z_1-z_2|\\leq18$\n",
        "\n",
        "It can be written as:\n",
        "$$|x_1+x_2-x_3-x_4-x_5|\\leq18$$\n",
        "\n",
        "after adding this constraints the problem will be:\n",
        "\\begin{align}\n",
        "\\max \\ 35 x_1 + 57 x_2 + 48 x_3 + 20 x_4 + 15 x_5, \\\\\n",
        "{\\rm{s.t.}} \\; x_1 + x_2 + x_3 & \\leq 75, \\\\\n",
        "x_3 + x_4 + x_5 & \\leq 100, \\\\\n",
        "x_1 + x_2 & \\geq 10, \\\\ \n",
        "30000 x_1 + 95000 x_2 + 10000 x_3 + 5000 x_4 + 4000 x_5 & \\leq 1500000, \\\\\n",
        "100000 x_1 + 500000 x_2 + 200000 x_3 + 45000 x_4 + 25000 x_5 & \\geq 900000,\\\\|x_1+x_2-x_3-x_4-x_5|\\leq18 \\\\\n",
        "x_i & \\geq 0, \\quad i \\in \\{1,2,3,4,5\\}. \\\\\n",
        "\\end{align}\n",
        "\n",
        "Above problem is not linear because of modulus function in constraints."
      ]
    },
    {
      "cell_type": "markdown",
      "metadata": {
        "id": "f3dxM5vzM94_"
      },
      "source": [
        "Que.2.2"
      ]
    },
    {
      "cell_type": "markdown",
      "metadata": {
        "id": "i8VqGnLhM_N9"
      },
      "source": [
        "**Approach 1:**\n",
        "let $z = |x_3+x_4+x_5-x_1-x_2| $\n",
        "\n",
        "Therefore,$ z \\geq 0 $\n",
        "\n",
        "\n",
        "Now the optimazation problem will be:\n",
        "\\begin{align}\n",
        "\\max \\ 35 x_1 + 57 x_2 + 48 x_3 + 20 x_4 + 15 x_5, \\\\\n",
        "{\\rm{s.t.}} \\; x_1 + x_2 + x_3 & \\leq 75, \\\\\n",
        "x_3 + x_4 + x_5 & \\leq 100, \\\\\n",
        "x_1 + x_2 & \\geq 10, \\\\ \n",
        "30000 x_1 + 95000 x_2 + 10000 x_3 + 5000 x_4 + 4000 x_5 & \\leq 1500000, \\\\\n",
        "100000 x_1 + 500000 x_2 + 200000 x_3 + 45000 x_4 + 25000 x_5 & \\geq 900000, \\\\\n",
        "x_3+x_4+x_5-x_1-x_2 \\leq z \\\\\n",
        "x_1+x_2-x_3-x_4-x_5 \\leq z \\\\\n",
        "0 \\leq z \\leq18 \\\\\n",
        "x_i & \\geq 0, \\quad i \\in \\{1,2,3,4,5\\}. \\\\\n",
        "\\end{align} \\\\"
      ]
    },
    {
      "cell_type": "markdown",
      "metadata": {
        "id": "vWjQK3WiNn6d"
      },
      "source": [
        "**Approach-2**\n",
        "\n",
        "let $x_1+x_2-x_3-x_4-x_5=a-b$\n",
        "\n",
        "then $|x_1+x_2-x_3-x_4-x_5|=|a-b|=a+b$  ;  where $a\\geq0\\  and\\  b\\geq0$\n",
        "\n",
        "\n",
        "now our model will be:\n",
        "\\begin{align}\n",
        "\\max \\ 35 x_1 + 57 x_2 + 48 x_3 + 20 x_4 + 15 x_5, \\\\\n",
        "{\\rm{s.t.}} \\; x_1 + x_2 + x_3 & \\leq 75, \\\\\n",
        "x_3 + x_4 + x_5 & \\leq 100, \\\\\n",
        "x_1 + x_2 & \\geq 10, \\\\ \n",
        "30000 x_1 + 95000 x_2 + 10000 x_3 + 5000 x_4 + 4000 x_5 & \\leq 1500000, \\\\\n",
        "100000 x_1 + 500000 x_2 + 200000 x_3 + 45000 x_4 + 25000 x_5 & \\geq 900000, \\\\\n",
        "x_1+x_2-x_3-x_4-x_5-a+b=0,\\\\\n",
        "a+b \\leq 18,\\\\\n",
        "a\\geq0,\\\\\n",
        "b\\geq0,\\\\\n",
        "x_i & \\geq 0, \\quad i \\in \\{1,2,3,4,5\\}. \\\\\n",
        "\\end{align}"
      ]
    },
    {
      "cell_type": "markdown",
      "metadata": {
        "id": "4EiKJJALOU_S"
      },
      "source": [
        "Que-2.3"
      ]
    },
    {
      "cell_type": "markdown",
      "metadata": {
        "id": "yu4Jb70LObiE"
      },
      "source": [
        "practice code of lab 4"
      ]
    },
    {
      "cell_type": "code",
      "metadata": {
        "id": "1RXLxr8sKmTl"
      },
      "source": [
        "!pip install -q pyomo\n",
        "from pyomo.environ import * \n",
        "import numpy as np\n",
        "import pandas as pd"
      ],
      "execution_count": 1,
      "outputs": []
    },
    {
      "cell_type": "code",
      "metadata": {
        "colab": {
          "base_uri": "https://localhost:8080/"
        },
        "id": "arlUbZzuOgCv",
        "outputId": "d3e6f23f-57f7-4638-ca29-836a8a82ed39"
      },
      "source": [
        "data_csvfile = pd.read_csv('sample_csvfile.csv')\n",
        "print (type(data_csvfile))"
      ],
      "execution_count": 2,
      "outputs": [
        {
          "output_type": "stream",
          "name": "stdout",
          "text": [
            "<class 'pandas.core.frame.DataFrame'>\n"
          ]
        }
      ]
    },
    {
      "cell_type": "code",
      "metadata": {
        "id": "tG-dLqU1Ol40"
      },
      "source": [
        "model_lab4_ex2 = ConcreteModel()"
      ],
      "execution_count": 3,
      "outputs": []
    },
    {
      "cell_type": "code",
      "metadata": {
        "colab": {
          "base_uri": "https://localhost:8080/"
        },
        "id": "yjcxbxvpOpnK",
        "outputId": "88066759-45e9-4135-a1cc-ee41d7884261"
      },
      "source": [
        "data_csvfile.index"
      ],
      "execution_count": 4,
      "outputs": [
        {
          "output_type": "execute_result",
          "data": {
            "text/plain": [
              "RangeIndex(start=0, stop=5, step=1)"
            ]
          },
          "metadata": {},
          "execution_count": 4
        }
      ]
    },
    {
      "cell_type": "code",
      "metadata": {
        "colab": {
          "base_uri": "https://localhost:8080/"
        },
        "id": "06m6O-U8O-XC",
        "outputId": "a7cbcf58-895d-434d-b6cd-4e3d95018b7c"
      },
      "source": [
        "len(data_csvfile.index)"
      ],
      "execution_count": 5,
      "outputs": [
        {
          "output_type": "execute_result",
          "data": {
            "text/plain": [
              "5"
            ]
          },
          "metadata": {},
          "execution_count": 5
        }
      ]
    },
    {
      "cell_type": "code",
      "metadata": {
        "id": "OwtH4z5-PAXK"
      },
      "source": [
        "N = len(data_csvfile.index)"
      ],
      "execution_count": 6,
      "outputs": []
    },
    {
      "cell_type": "code",
      "metadata": {
        "id": "FbI3N_l2PCXi"
      },
      "source": [
        "M=5"
      ],
      "execution_count": 7,
      "outputs": []
    },
    {
      "cell_type": "code",
      "metadata": {
        "id": "zZj1Mmr2PEgx"
      },
      "source": [
        "col_indices = range(N)"
      ],
      "execution_count": 8,
      "outputs": []
    },
    {
      "cell_type": "code",
      "metadata": {
        "id": "e5X0-6SIPGOO"
      },
      "source": [
        "model_lab4_ex2.x = Var(col_indices,domain=NonNegativeIntegers)"
      ],
      "execution_count": 9,
      "outputs": []
    },
    {
      "cell_type": "code",
      "metadata": {
        "id": "_UjVonJWPN1H"
      },
      "source": [
        "model_lab4_ex2.objective = Objective(expr=summation(data_csvfile['Reach Quality'], model_lab4_ex2.x),sense=maximize)"
      ],
      "execution_count": 10,
      "outputs": []
    },
    {
      "cell_type": "code",
      "metadata": {
        "id": "Emk4iIiiPT8A"
      },
      "source": [
        "model_lab4_ex2.constraints = ConstraintList()"
      ],
      "execution_count": 11,
      "outputs": []
    },
    {
      "cell_type": "code",
      "metadata": {
        "colab": {
          "base_uri": "https://localhost:8080/"
        },
        "id": "KwSlEBzDPV7O",
        "outputId": "7ef6ce2b-675f-4357-e908-d6743964fb77"
      },
      "source": [
        "model_lab4_ex2.constraints.add(expr= model_lab4_ex2.x[0] + model_lab4_ex2.x[1] + model_lab4_ex2.x[2]<= 75  )\n",
        "model_lab4_ex2.constraints.add(expr= model_lab4_ex2.x[2] + model_lab4_ex2.x[3] +  model_lab4_ex2.x[4] <= 100  )\n",
        "model_lab4_ex2.constraints.add(expr= model_lab4_ex2.x[0] + model_lab4_ex2.x[1] >= 10  )"
      ],
      "execution_count": 12,
      "outputs": [
        {
          "output_type": "execute_result",
          "data": {
            "text/plain": [
              "<pyomo.core.base.constraint._GeneralConstraintData at 0x7f932ef8ad00>"
            ]
          },
          "metadata": {},
          "execution_count": 12
        }
      ]
    },
    {
      "cell_type": "code",
      "metadata": {
        "colab": {
          "base_uri": "https://localhost:8080/"
        },
        "id": "44ah2qXDPY0C",
        "outputId": "114c27d9-7052-450f-bf0b-0ed31c837910"
      },
      "source": [
        "model_lab4_ex2.constraints.add(summation(data_csvfile['Cost per advt'], model_lab4_ex2.x) <= 1500000)\n"
      ],
      "execution_count": 13,
      "outputs": [
        {
          "output_type": "execute_result",
          "data": {
            "text/plain": [
              "<pyomo.core.base.constraint._GeneralConstraintData at 0x7f932ef8afa0>"
            ]
          },
          "metadata": {},
          "execution_count": 13
        }
      ]
    },
    {
      "cell_type": "code",
      "metadata": {
        "colab": {
          "base_uri": "https://localhost:8080/"
        },
        "id": "zjWna306PbJ5",
        "outputId": "f3be8afa-89b8-4e42-9fe6-6211eca3bcde"
      },
      "source": [
        "model_lab4_ex2.constraints.add(summation(data_csvfile['Num Customers'], model_lab4_ex2.x) >= 900000)\n"
      ],
      "execution_count": 14,
      "outputs": [
        {
          "output_type": "execute_result",
          "data": {
            "text/plain": [
              "<pyomo.core.base.constraint._GeneralConstraintData at 0x7f932ef8a1a0>"
            ]
          },
          "metadata": {},
          "execution_count": 14
        }
      ]
    },
    {
      "cell_type": "code",
      "metadata": {
        "id": "DIyOubSlPd4g"
      },
      "source": [
        "lower_bound = 0\n",
        "upper_bound = np.inf"
      ],
      "execution_count": 15,
      "outputs": []
    },
    {
      "cell_type": "code",
      "metadata": {
        "id": "JxU4xVw_PgyX"
      },
      "source": [
        "for j in col_indices:\n",
        "  model_lab4_ex2.x[j].setlb(lower_bound)\n",
        "  model_lab4_ex2.x[j].setub(upper_bound)"
      ],
      "execution_count": 16,
      "outputs": []
    },
    {
      "cell_type": "code",
      "metadata": {
        "colab": {
          "base_uri": "https://localhost:8080/"
        },
        "id": "bvZ8VPK-QCYG",
        "outputId": "870ac600-9b79-480b-e6e1-41adad150cf7"
      },
      "source": [
        "model_lab4_ex2.pprint()"
      ],
      "execution_count": 17,
      "outputs": [
        {
          "output_type": "stream",
          "name": "stdout",
          "text": [
            "2 Set Declarations\n",
            "    constraints_index : Size=1, Index=None, Ordered=Insertion\n",
            "        Key  : Dimen : Domain : Size : Members\n",
            "        None :     1 :    Any :    5 : {1, 2, 3, 4, 5}\n",
            "    x_index : Size=1, Index=None, Ordered=False\n",
            "        Key  : Dimen : Domain : Size : Members\n",
            "        None :     1 :    Any :    5 : {0, 1, 2, 3, 4}\n",
            "\n",
            "1 Var Declarations\n",
            "    x : Size=5, Index=x_index\n",
            "        Key : Lower : Value : Upper : Fixed : Stale : Domain\n",
            "          0 :     0 :  None :   inf : False :  True : NonNegativeIntegers\n",
            "          1 :     0 :  None :   inf : False :  True : NonNegativeIntegers\n",
            "          2 :     0 :  None :   inf : False :  True : NonNegativeIntegers\n",
            "          3 :     0 :  None :   inf : False :  True : NonNegativeIntegers\n",
            "          4 :     0 :  None :   inf : False :  True : NonNegativeIntegers\n",
            "\n",
            "1 Objective Declarations\n",
            "    objective : Size=1, Index=None, Active=True\n",
            "        Key  : Active : Sense    : Expression\n",
            "        None :   True : maximize : 35*x[0] + 57*x[1] + 48*x[2] + 20*x[3] + 15*x[4]\n",
            "\n",
            "1 Constraint Declarations\n",
            "    constraints : Size=5, Index=constraints_index, Active=True\n",
            "        Key : Lower    : Body                                                              : Upper     : Active\n",
            "          1 :     -Inf :                                                x[0] + x[1] + x[2] :      75.0 :   True\n",
            "          2 :     -Inf :                                                x[2] + x[3] + x[4] :     100.0 :   True\n",
            "          3 :     10.0 :                                                       x[0] + x[1] :      +Inf :   True\n",
            "          4 :     -Inf :      30000*x[0] + 95000*x[1] + 10000*x[2] + 5000*x[3] + 4000*x[4] : 1500000.0 :   True\n",
            "          5 : 900000.0 : 100000*x[0] + 500000*x[1] + 200000*x[2] + 45000*x[3] + 25000*x[4] :      +Inf :   True\n",
            "\n",
            "5 Declarations: x_index x objective constraints_index constraints\n"
          ]
        }
      ]
    },
    {
      "cell_type": "markdown",
      "metadata": {
        "id": "BEKXQIsnQRxz"
      },
      "source": [
        "modification for our problem:"
      ]
    },
    {
      "cell_type": "code",
      "metadata": {
        "id": "Hbp8LFfZQFTT"
      },
      "source": [
        "model_lab4_ex2.u = Var(domain=NonNegativeIntegers)"
      ],
      "execution_count": 18,
      "outputs": []
    },
    {
      "cell_type": "code",
      "metadata": {
        "id": "bgIGnjfxQazM"
      },
      "source": [
        "model_lab4_ex2.u.setlb(0)\n",
        "model_lab4_ex2.u.setub(18)\n"
      ],
      "execution_count": 19,
      "outputs": []
    },
    {
      "cell_type": "code",
      "metadata": {
        "colab": {
          "base_uri": "https://localhost:8080/"
        },
        "id": "-YpJKMx5QjBR",
        "outputId": "bdecb878-3c5c-43bd-b753-e251a3a1db0c"
      },
      "source": [
        "model_lab4_ex2.constraints.add(expr=model_lab4_ex2.x[4]+model_lab4_ex2.x[3]+model_lab4_ex2.x[2]-model_lab4_ex2.x[0]-model_lab4_ex2.x[1]<=model_lab4_ex2.u)\n",
        "model_lab4_ex2.constraints.add(expr=-model_lab4_ex2.x[4]-model_lab4_ex2.x[3]-model_lab4_ex2.x[2]+model_lab4_ex2.x[0]+model_lab4_ex2.x[1]<=model_lab4_ex2.u)"
      ],
      "execution_count": 20,
      "outputs": [
        {
          "output_type": "execute_result",
          "data": {
            "text/plain": [
              "<pyomo.core.base.constraint._GeneralConstraintData at 0x7f932efb7440>"
            ]
          },
          "metadata": {},
          "execution_count": 20
        }
      ]
    },
    {
      "cell_type": "code",
      "metadata": {
        "colab": {
          "base_uri": "https://localhost:8080/"
        },
        "id": "mauNapQjQ4zD",
        "outputId": "7898e8c2-f026-47c1-f3cf-cf5f908facd2"
      },
      "source": [
        "model_lab4_ex2.pprint()"
      ],
      "execution_count": 21,
      "outputs": [
        {
          "output_type": "stream",
          "name": "stdout",
          "text": [
            "2 Set Declarations\n",
            "    constraints_index : Size=1, Index=None, Ordered=Insertion\n",
            "        Key  : Dimen : Domain : Size : Members\n",
            "        None :     1 :    Any :    7 : {1, 2, 3, 4, 5, 6, 7}\n",
            "    x_index : Size=1, Index=None, Ordered=False\n",
            "        Key  : Dimen : Domain : Size : Members\n",
            "        None :     1 :    Any :    5 : {0, 1, 2, 3, 4}\n",
            "\n",
            "2 Var Declarations\n",
            "    u : Size=1, Index=None\n",
            "        Key  : Lower : Value : Upper : Fixed : Stale : Domain\n",
            "        None :     0 :  None :    18 : False :  True : NonNegativeIntegers\n",
            "    x : Size=5, Index=x_index\n",
            "        Key : Lower : Value : Upper : Fixed : Stale : Domain\n",
            "          0 :     0 :  None :   inf : False :  True : NonNegativeIntegers\n",
            "          1 :     0 :  None :   inf : False :  True : NonNegativeIntegers\n",
            "          2 :     0 :  None :   inf : False :  True : NonNegativeIntegers\n",
            "          3 :     0 :  None :   inf : False :  True : NonNegativeIntegers\n",
            "          4 :     0 :  None :   inf : False :  True : NonNegativeIntegers\n",
            "\n",
            "1 Objective Declarations\n",
            "    objective : Size=1, Index=None, Active=True\n",
            "        Key  : Active : Sense    : Expression\n",
            "        None :   True : maximize : 35*x[0] + 57*x[1] + 48*x[2] + 20*x[3] + 15*x[4]\n",
            "\n",
            "1 Constraint Declarations\n",
            "    constraints : Size=7, Index=constraints_index, Active=True\n",
            "        Key : Lower    : Body                                                              : Upper     : Active\n",
            "          1 :     -Inf :                                                x[0] + x[1] + x[2] :      75.0 :   True\n",
            "          2 :     -Inf :                                                x[2] + x[3] + x[4] :     100.0 :   True\n",
            "          3 :     10.0 :                                                       x[0] + x[1] :      +Inf :   True\n",
            "          4 :     -Inf :      30000*x[0] + 95000*x[1] + 10000*x[2] + 5000*x[3] + 4000*x[4] : 1500000.0 :   True\n",
            "          5 : 900000.0 : 100000*x[0] + 500000*x[1] + 200000*x[2] + 45000*x[3] + 25000*x[4] :      +Inf :   True\n",
            "          6 :     -Inf :                              x[4] + x[3] + x[2] - x[0] - x[1] - u :       0.0 :   True\n",
            "          7 :     -Inf :                            - x[4] - x[3] - x[2] + x[0] + x[1] - u :       0.0 :   True\n",
            "\n",
            "6 Declarations: x_index x objective constraints_index constraints u\n"
          ]
        }
      ]
    },
    {
      "cell_type": "markdown",
      "metadata": {
        "id": "7ACJcUpHRIhb"
      },
      "source": [
        "Que.2.4"
      ]
    },
    {
      "cell_type": "markdown",
      "metadata": {
        "id": "ki5t9SrIRcXh"
      },
      "source": [
        "using approach  1"
      ]
    },
    {
      "cell_type": "code",
      "metadata": {
        "id": "W6Wrm7IiRPXu"
      },
      "source": [
        "!apt-get install -y -qq coinor-cbc\n",
        "opt_cbc = SolverFactory('cbc')"
      ],
      "execution_count": 22,
      "outputs": []
    },
    {
      "cell_type": "code",
      "metadata": {
        "colab": {
          "base_uri": "https://localhost:8080/"
        },
        "id": "M0u-gWbQQ9Ok",
        "outputId": "ba40fb30-0e5b-42f9-d2c7-32544cdf7017"
      },
      "source": [
        "result = opt_cbc.solve(model_lab4_ex2)\n",
        "print('Solver status:', result.solver.status)\n",
        "print('Solver termination condition:',result.solver.termination_condition)"
      ],
      "execution_count": 23,
      "outputs": [
        {
          "output_type": "stream",
          "name": "stdout",
          "text": [
            "Solver status: ok\n",
            "Solver termination condition: optimal\n"
          ]
        }
      ]
    },
    {
      "cell_type": "markdown",
      "metadata": {
        "id": "-mMoOMUwRUMm"
      },
      "source": [
        "termination condition is optimal so no need of any remedy."
      ]
    },
    {
      "cell_type": "markdown",
      "metadata": {
        "id": "4avxJoxdRi2X"
      },
      "source": [
        "Que-2.5\n",
        "Reporting the optimal objective function values, optimal values of the original decision variables\n",
        "and the new decision variables and the constraint activities for approach 1"
      ]
    },
    {
      "cell_type": "code",
      "metadata": {
        "colab": {
          "base_uri": "https://localhost:8080/"
        },
        "id": "vJ9DtVJTRM2O",
        "outputId": "eae68848-fc4b-49a4-cba5-9119f159b6b8"
      },
      "source": [
        "print('Optimal value = ', model_lab4_ex2.objective())\n",
        "\n",
        "print(' values of the decision Variables:')\n",
        "for i in col_indices:\n",
        "  print('Num slots for medium ',data_csvfile['Medium'][i],' : ', model_lab4_ex2.x[i].value)\n",
        "\n",
        "print('Constraints')\n",
        "model_lab4_ex2.constraints.display()"
      ],
      "execution_count": 24,
      "outputs": [
        {
          "output_type": "stream",
          "name": "stdout",
          "text": [
            "Optimal value =  3378.0\n",
            " values of the decision Variables:\n",
            "Num slots for medium  Websites  :  34.0\n",
            "Num slots for medium  TV  :  0.0\n",
            "Num slots for medium  DailyNewspaper  :  41.0\n",
            "Num slots for medium  WeeklyMagazine  :  11.0\n",
            "Num slots for medium  MonthlyMagazine  :  0.0\n",
            "Constraints\n",
            "constraints : Size=7\n",
            "    Key : Lower    : Body       : Upper\n",
            "      1 :     None :       75.0 :      75.0\n",
            "      2 :     None :       52.0 :     100.0\n",
            "      3 :     10.0 :       34.0 :      None\n",
            "      4 :     None :  1485000.0 : 1500000.0\n",
            "      5 : 900000.0 : 12095000.0 :      None\n",
            "      6 :     None :        0.0 :       0.0\n",
            "      7 :     None :      -36.0 :       0.0\n"
          ]
        }
      ]
    },
    {
      "cell_type": "markdown",
      "metadata": {
        "id": "oWifTi6jSUMl"
      },
      "source": [
        "modifying for approach 2:-"
      ]
    },
    {
      "cell_type": "code",
      "metadata": {
        "id": "nWhG8qSqR7Vv"
      },
      "source": [
        "model_lab4_ex2.constraints[6].deactivate()\n",
        "model_lab4_ex2.constraints[7].deactivate()"
      ],
      "execution_count": 25,
      "outputs": []
    },
    {
      "cell_type": "code",
      "metadata": {
        "id": "9N2AYCf3SjLT"
      },
      "source": [
        "model_lab4_ex2.reconstruct\n",
        "model_lab4_ex2.y = Var(range(0,2), domain=NonNegativeIntegers)"
      ],
      "execution_count": 26,
      "outputs": []
    },
    {
      "cell_type": "code",
      "metadata": {
        "colab": {
          "base_uri": "https://localhost:8080/"
        },
        "id": "0QSM8NnOSrOz",
        "outputId": "46759553-69cb-4999-80dd-6d6b868b4e1f"
      },
      "source": [
        "model_lab4_ex2.constraints.add(expr=model_lab4_ex2.x[4]+model_lab4_ex2.x[3]+model_lab4_ex2.x[2]-model_lab4_ex2.x[0]-model_lab4_ex2.x[1]<=model_lab4_ex2.y[0]-model_lab4_ex2.y[1])\n",
        "model_lab4_ex2.constraints.add(expr=model_lab4_ex2.y[0]+model_lab4_ex2.y[1]<=18)"
      ],
      "execution_count": 27,
      "outputs": [
        {
          "output_type": "execute_result",
          "data": {
            "text/plain": [
              "<pyomo.core.base.constraint._GeneralConstraintData at 0x7f932ef8a830>"
            ]
          },
          "metadata": {},
          "execution_count": 27
        }
      ]
    },
    {
      "cell_type": "code",
      "metadata": {
        "id": "w0TRf83vS7yq",
        "colab": {
          "base_uri": "https://localhost:8080/"
        },
        "outputId": "eb81c6c4-b2d1-4ade-948b-4c278f109840"
      },
      "source": [
        "model_lab4_ex2.pprint()"
      ],
      "execution_count": 28,
      "outputs": [
        {
          "output_type": "stream",
          "name": "stdout",
          "text": [
            "3 Set Declarations\n",
            "    constraints_index : Size=1, Index=None, Ordered=Insertion\n",
            "        Key  : Dimen : Domain : Size : Members\n",
            "        None :     1 :    Any :    9 : {1, 2, 3, 4, 5, 6, 7, 8, 9}\n",
            "    x_index : Size=1, Index=None, Ordered=False\n",
            "        Key  : Dimen : Domain : Size : Members\n",
            "        None :     1 :    Any :    5 : {0, 1, 2, 3, 4}\n",
            "    y_index : Size=1, Index=None, Ordered=False\n",
            "        Key  : Dimen : Domain : Size : Members\n",
            "        None :     1 :    Any :    2 : {0, 1}\n",
            "\n",
            "3 Var Declarations\n",
            "    u : Size=1, Index=None\n",
            "        Key  : Lower : Value : Upper : Fixed : Stale : Domain\n",
            "        None :     0 :  18.0 :    18 : False : False : NonNegativeIntegers\n",
            "    x : Size=5, Index=x_index\n",
            "        Key : Lower : Value : Upper : Fixed : Stale : Domain\n",
            "          0 :     0 :  34.0 :   inf : False : False : NonNegativeIntegers\n",
            "          1 :     0 :   0.0 :   inf : False : False : NonNegativeIntegers\n",
            "          2 :     0 :  41.0 :   inf : False : False : NonNegativeIntegers\n",
            "          3 :     0 :  11.0 :   inf : False : False : NonNegativeIntegers\n",
            "          4 :     0 :   0.0 :   inf : False : False : NonNegativeIntegers\n",
            "    y : Size=2, Index=y_index\n",
            "        Key : Lower : Value : Upper : Fixed : Stale : Domain\n",
            "          0 :     0 :  None :  None : False :  True : NonNegativeIntegers\n",
            "          1 :     0 :  None :  None : False :  True : NonNegativeIntegers\n",
            "\n",
            "1 Objective Declarations\n",
            "    objective : Size=1, Index=None, Active=True\n",
            "        Key  : Active : Sense    : Expression\n",
            "        None :   True : maximize : 35*x[0] + 57*x[1] + 48*x[2] + 20*x[3] + 15*x[4]\n",
            "\n",
            "1 Constraint Declarations\n",
            "    constraints : Size=9, Index=constraints_index, Active=True\n",
            "        Key : Lower    : Body                                                              : Upper     : Active\n",
            "          1 :     -Inf :                                                x[0] + x[1] + x[2] :      75.0 :   True\n",
            "          2 :     -Inf :                                                x[2] + x[3] + x[4] :     100.0 :   True\n",
            "          3 :     10.0 :                                                       x[0] + x[1] :      +Inf :   True\n",
            "          4 :     -Inf :      30000*x[0] + 95000*x[1] + 10000*x[2] + 5000*x[3] + 4000*x[4] : 1500000.0 :   True\n",
            "          5 : 900000.0 : 100000*x[0] + 500000*x[1] + 200000*x[2] + 45000*x[3] + 25000*x[4] :      +Inf :   True\n",
            "          6 :     -Inf :                              x[4] + x[3] + x[2] - x[0] - x[1] - u :       0.0 :  False\n",
            "          7 :     -Inf :                            - x[4] - x[3] - x[2] + x[0] + x[1] - u :       0.0 :  False\n",
            "          8 :     -Inf :                  x[4] + x[3] + x[2] - x[0] - x[1] - (y[0] - y[1]) :       0.0 :   True\n",
            "          9 :     -Inf :                                                       y[0] + y[1] :      18.0 :   True\n",
            "\n",
            "8 Declarations: x_index x objective constraints_index constraints u y_index y\n"
          ]
        }
      ]
    },
    {
      "cell_type": "markdown",
      "metadata": {
        "id": "0bFaMfIvT7wV"
      },
      "source": [
        "Que-2.4\n",
        "solving using approach 2"
      ]
    },
    {
      "cell_type": "code",
      "metadata": {
        "id": "W-kqvgekTJHP",
        "colab": {
          "base_uri": "https://localhost:8080/"
        },
        "outputId": "05e916bd-1e2f-4fb4-a6c2-1dd4a14a97f6"
      },
      "source": [
        "result = opt_cbc.solve(model_lab4_ex2)\n",
        "print('Solver status:', result.solver.status)\n",
        "print('Solver termination condition:',result.solver.termination_condition)"
      ],
      "execution_count": 29,
      "outputs": [
        {
          "output_type": "stream",
          "name": "stdout",
          "text": [
            "Solver status: ok\n",
            "Solver termination condition: optimal\n"
          ]
        }
      ]
    },
    {
      "cell_type": "markdown",
      "metadata": {
        "id": "1vWfIZGVUFu2"
      },
      "source": [
        "Que.2.5\n",
        "Reporting the optimal objective function values, optimal values of the original decision variables\n",
        "and the new decision variables and the constraint activities for approach 2"
      ]
    },
    {
      "cell_type": "code",
      "metadata": {
        "colab": {
          "base_uri": "https://localhost:8080/"
        },
        "id": "me3b6T9fUEBp",
        "outputId": "8b083474-7f44-4b4b-94d7-c4781197771e"
      },
      "source": [
        "print('\\nObjective = ', model_lab4_ex2.objective())\n",
        "\n",
        "print('\\nDecision Variables')\n",
        "for i in col_indices:\n",
        "  print('Num slots for medium ',data_csvfile['Medium'][i], model_lab4_ex2.x[i].value)\n",
        "\n",
        "print('\\nConstraints')\n",
        "model_lab4_ex2.constraints.display()"
      ],
      "execution_count": 30,
      "outputs": [
        {
          "output_type": "stream",
          "name": "stdout",
          "text": [
            "\n",
            "Objective =  3378.0\n",
            "\n",
            "Decision Variables\n",
            "Num slots for medium  Websites 34.0\n",
            "Num slots for medium  TV 0.0\n",
            "Num slots for medium  DailyNewspaper 41.0\n",
            "Num slots for medium  WeeklyMagazine 11.0\n",
            "Num slots for medium  MonthlyMagazine 0.0\n",
            "\n",
            "Constraints\n",
            "constraints : Size=9\n",
            "    Key : Lower    : Body       : Upper\n",
            "      1 :     None :       75.0 :      75.0\n",
            "      2 :     None :       52.0 :     100.0\n",
            "      3 :     10.0 :       34.0 :      None\n",
            "      4 :     None :  1485000.0 : 1500000.0\n",
            "      5 : 900000.0 : 12095000.0 :      None\n",
            "      8 :     None :        0.0 :       0.0\n",
            "      9 :     None :       18.0 :      18.0\n"
          ]
        }
      ]
    },
    {
      "cell_type": "markdown",
      "metadata": {
        "id": "yZCbO8RXUXqo"
      },
      "source": [
        "Que-2.6\n",
        "\n",
        "In both approaches we got same optimal value and same value for decision variables."
      ]
    },
    {
      "cell_type": "markdown",
      "metadata": {
        "id": "AEuKDzTNU4uQ"
      },
      "source": [
        "Que-2.7"
      ]
    },
    {
      "cell_type": "markdown",
      "metadata": {
        "id": "_a1GkhchU6l6"
      },
      "source": [
        "Let $z_3$ denote the total number of media slots allotted for  weekly and monthly\n",
        "magazines. Therefore, $z_3=x_5+x_6$ \n",
        "\n",
        "\n",
        "According to the problem,$ |z_3-x_3|\\geq4$\n",
        "\n",
        "\n",
        "\n",
        "After adding this constraint our model will be:\n",
        "\\begin{align}\n",
        "\\max \\ 35 x_1 + 57 x_2 + 48 x_3 + 20 x_4 + 15 x_5, \\\\\n",
        "{\\rm{s.t.}} \\; x_1 + x_2 + x_3 & \\leq 75, \\\\\n",
        "x_3 + x_4 + x_5 & \\leq 100, \\\\\n",
        "x_1 + x_2 & \\geq 10, \\\\ \n",
        "30000 x_1 + 95000 x_2 + 10000 x_3 + 5000 x_4 + 4000 x_5 & \\leq 1500000, \\\\\n",
        "100000 x_1 + 500000 x_2 + 200000 x_3 + 45000 x_4 + 25000 x_5 & \\geq 900000, \\\\\n",
        "|x_4+x_5-x_3|\\geq4,\\\\\n",
        "x_i & \\geq 0, \\quad i \\in \\{1,2,3,4,5\\}. \\\\\n",
        "\\end{align}"
      ]
    },
    {
      "cell_type": "markdown",
      "metadata": {
        "id": "SXRybgT8V9fV"
      },
      "source": [
        "above problem is not a linear program because the constraints of this model consist a modulus function which is a piecewise function"
      ]
    },
    {
      "cell_type": "markdown",
      "metadata": {
        "id": "NhKuexHmWN9S"
      },
      "source": [
        "**Approach 1:**\n",
        "\n",
        "let $u=|x_4+x_5-x_3|$ and it is clear that $u\\geq0$ and $u\\geq4$ \n",
        "\n",
        "\n",
        "now our model will be:\n",
        "\n",
        "\\begin{align}\n",
        "\\max \\ 35 x_1 + 57 x_2 + 48 x_3 + 20 x_4 + 15 x_5, \\\\\n",
        "{\\rm{s.t.}} \\; x_1 + x_2 + x_3 & \\leq 75, \\\\\n",
        "x_3 + x_4 + x_5 & \\leq 100, \\\\\n",
        "x_1 + x_2 & \\geq 10, \\\\ \n",
        "30000 x_1 + 95000 x_2 + 10000 x_3 + 5000 x_4 + 4000 x_5 & \\leq 1500000, \\\\\n",
        "100000 x_1 + 500000 x_2 + 200000 x_3 + 45000 x_4 + 25000 x_5 & \\geq 900000, \\\\x_4+x_5-x_3\\leq u,\\\\ -x_4-x_5+x_3\\leq u,\\\\u\\geq 4,\\\\\n",
        "x_i & \\geq 0, \\quad i \\in \\{1,2,3,4,5\\}. \\\\\n",
        "\\end{align}\n",
        "\n"
      ]
    },
    {
      "cell_type": "markdown",
      "metadata": {
        "id": "_V6bH_wrWg5I"
      },
      "source": [
        "**Approach2:-**\n",
        "\n",
        "let $x_4+x_5-x_3=a-b$\n",
        "\n",
        "then after applying modulus both side we got $|x_4+x_5-x_3|=|a-b|=a+b\\ $ where $a\\geq0$ and $b\\geq0$\n",
        "\n",
        "now our model will be:\n",
        "\\begin{align}\n",
        "\\max \\ 35 x_1 + 57 x_2 + 48 x_3 + 20 x_4 + 15 x_5, \\\\\n",
        "{\\rm{s.t.}} \\; x_1 + x_2 + x_3 & \\leq 75, \\\\\n",
        "x_3 + x_4 + x_5 & \\leq 100, \\\\\n",
        "x_1 + x_2 & \\geq 10, \\\\ \n",
        "30000 x_1 + 95000 x_2 + 10000 x_3 + 5000 x_4 + 4000 x_5 & \\leq 1500000, \\\\\n",
        "100000 x_1 + 500000 x_2 + 200000 x_3 + 45000 x_4 + 25000 x_5 & \\geq 900000, \\\\\n",
        "x_4+x_5-x_3-a+b=0\\\\\n",
        "a+b\\geq 4,\\\\\n",
        "x_i & \\geq 0, \\quad i \\in \\{1,2,3,4,5\\}. \\\\ a,b \\geq 0\n",
        "\\end{align}"
      ]
    },
    {
      "cell_type": "code",
      "metadata": {
        "id": "SKYmBKHMURCM"
      },
      "source": [
        ""
      ],
      "execution_count": 30,
      "outputs": []
    }
  ]
}